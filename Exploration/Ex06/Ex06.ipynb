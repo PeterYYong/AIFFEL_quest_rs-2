{
 "cells": [
  {
   "cell_type": "code",
   "execution_count": 1,
   "id": "a9017bfb",
   "metadata": {},
   "outputs": [
    {
     "name": "stdout",
     "output_type": "stream",
     "text": [
      "3.6.5\n",
      "2.6.0\n",
      "1.3.3\n",
      "1.2.0\n"
     ]
    }
   ],
   "source": [
    "from importlib.metadata import version\n",
    "import nltk\n",
    "import tensorflow\n",
    "import summa\n",
    "import re\n",
    "import pandas as pd\n",
    "from nltk.corpus import stopwords\n",
    "import matplotlib.pyplot as plt\n",
    "from bs4 import BeautifulSoup \n",
    "from tensorflow.keras.preprocessing.text import Tokenizer \n",
    "from tensorflow.keras.preprocessing.sequence import pad_sequences\n",
    "\n",
    "print(nltk.__version__)\n",
    "print(tensorflow.__version__)\n",
    "print(pd.__version__)\n",
    "print(version('summa'))"
   ]
  },
  {
   "cell_type": "code",
   "execution_count": 2,
   "id": "d5cd6999",
   "metadata": {},
   "outputs": [],
   "source": [
    "import urllib.request\n",
    "urllib.request.urlretrieve(\"https://raw.githubusercontent.com/sunnysai12345/News_Summary/master/news_summary_more.csv\", filename=\"news_summary_more.csv\")\n",
    "data = pd.read_csv('news_summary_more.csv', encoding='iso-8859-1')"
   ]
  },
  {
   "cell_type": "code",
   "execution_count": 3,
   "id": "994ce6a0",
   "metadata": {},
   "outputs": [
    {
     "data": {
      "text/html": [
       "<div>\n",
       "<style scoped>\n",
       "    .dataframe tbody tr th:only-of-type {\n",
       "        vertical-align: middle;\n",
       "    }\n",
       "\n",
       "    .dataframe tbody tr th {\n",
       "        vertical-align: top;\n",
       "    }\n",
       "\n",
       "    .dataframe thead th {\n",
       "        text-align: right;\n",
       "    }\n",
       "</style>\n",
       "<table border=\"1\" class=\"dataframe\">\n",
       "  <thead>\n",
       "    <tr style=\"text-align: right;\">\n",
       "      <th></th>\n",
       "      <th>headlines</th>\n",
       "      <th>text</th>\n",
       "    </tr>\n",
       "  </thead>\n",
       "  <tbody>\n",
       "    <tr>\n",
       "      <th>96111</th>\n",
       "      <td>Pitch criticism in India was defence mechanism...</td>\n",
       "      <td>Former Bangladesh coach Dav Whatmore has said ...</td>\n",
       "    </tr>\n",
       "    <tr>\n",
       "      <th>69257</th>\n",
       "      <td>Air is so free and unused: CEO of flying car s...</td>\n",
       "      <td>Flying car startup Kitty Hawk's CEO Sebastian ...</td>\n",
       "    </tr>\n",
       "    <tr>\n",
       "      <th>4833</th>\n",
       "      <td>Tolerance our biggest asset, unity our special...</td>\n",
       "      <td>Union Minister Nitin Gadkari on Monday said to...</td>\n",
       "    </tr>\n",
       "    <tr>\n",
       "      <th>83191</th>\n",
       "      <td>BJP activists clean venue with cow urine after...</td>\n",
       "      <td>Workers of the BJP Yuva Morcha carried out a '...</td>\n",
       "    </tr>\n",
       "    <tr>\n",
       "      <th>19756</th>\n",
       "      <td>'Gold' becomes Akshay's 9th film to enter Ã¢Â...</td>\n",
       "      <td>With earnings of Ã¢ÂÂ¹100.45 crore within 13 ...</td>\n",
       "    </tr>\n",
       "    <tr>\n",
       "      <th>39818</th>\n",
       "      <td>Chhetri scores chip-goal over the keeper in In...</td>\n",
       "      <td>Indian football team captain Sunil Chhetri sco...</td>\n",
       "    </tr>\n",
       "    <tr>\n",
       "      <th>76287</th>\n",
       "      <td>Moksha &amp; Siddham devices by Swartantra help so...</td>\n",
       "      <td>Moksha by Swartantra is a custom made personal...</td>\n",
       "    </tr>\n",
       "    <tr>\n",
       "      <th>66041</th>\n",
       "      <td>TMC leader Mukul Roy resigns as Rajya Sabha MP</td>\n",
       "      <td>Trinamool Congress (TMC) leader Mukul Roy on W...</td>\n",
       "    </tr>\n",
       "    <tr>\n",
       "      <th>91896</th>\n",
       "      <td>Playing Joker didn't cause Heath's death, says...</td>\n",
       "      <td>Late Hollywood actor Heath Ledger's sister Kat...</td>\n",
       "    </tr>\n",
       "    <tr>\n",
       "      <th>26390</th>\n",
       "      <td>Will time ever be right to make rape laws gend...</td>\n",
       "      <td>Hearing a petition against the gender-specific...</td>\n",
       "    </tr>\n",
       "  </tbody>\n",
       "</table>\n",
       "</div>"
      ],
      "text/plain": [
       "                                               headlines  \\\n",
       "96111  Pitch criticism in India was defence mechanism...   \n",
       "69257  Air is so free and unused: CEO of flying car s...   \n",
       "4833   Tolerance our biggest asset, unity our special...   \n",
       "83191  BJP activists clean venue with cow urine after...   \n",
       "19756  'Gold' becomes Akshay's 9th film to enter Ã¢Â...   \n",
       "39818  Chhetri scores chip-goal over the keeper in In...   \n",
       "76287  Moksha & Siddham devices by Swartantra help so...   \n",
       "66041     TMC leader Mukul Roy resigns as Rajya Sabha MP   \n",
       "91896  Playing Joker didn't cause Heath's death, says...   \n",
       "26390  Will time ever be right to make rape laws gend...   \n",
       "\n",
       "                                                    text  \n",
       "96111  Former Bangladesh coach Dav Whatmore has said ...  \n",
       "69257  Flying car startup Kitty Hawk's CEO Sebastian ...  \n",
       "4833   Union Minister Nitin Gadkari on Monday said to...  \n",
       "83191  Workers of the BJP Yuva Morcha carried out a '...  \n",
       "19756  With earnings of Ã¢ÂÂ¹100.45 crore within 13 ...  \n",
       "39818  Indian football team captain Sunil Chhetri sco...  \n",
       "76287  Moksha by Swartantra is a custom made personal...  \n",
       "66041  Trinamool Congress (TMC) leader Mukul Roy on W...  \n",
       "91896  Late Hollywood actor Heath Ledger's sister Kat...  \n",
       "26390  Hearing a petition against the gender-specific...  "
      ]
     },
     "execution_count": 3,
     "metadata": {},
     "output_type": "execute_result"
    }
   ],
   "source": [
    "data.sample(10)"
   ]
  },
  {
   "cell_type": "code",
   "execution_count": 4,
   "id": "a995b2e0",
   "metadata": {},
   "outputs": [
    {
     "name": "stdout",
     "output_type": "stream",
     "text": [
      "전체 샘플수 : 98401\n"
     ]
    }
   ],
   "source": [
    "print('전체 샘플수 :', (len(data)))"
   ]
  },
  {
   "cell_type": "code",
   "execution_count": 5,
   "id": "6d80943c",
   "metadata": {},
   "outputs": [
    {
     "name": "stderr",
     "output_type": "stream",
     "text": [
      "[nltk_data] Downloading package stopwords to /aiffel/nltk_data...\n",
      "[nltk_data]   Package stopwords is already up-to-date!\n"
     ]
    },
    {
     "data": {
      "text/plain": [
       "True"
      ]
     },
     "execution_count": 5,
     "metadata": {},
     "output_type": "execute_result"
    }
   ],
   "source": [
    "nltk.download('stopwords')"
   ]
  },
  {
   "cell_type": "markdown",
   "id": "8e89ef7f",
   "metadata": {},
   "source": [
    "### 전처리\n",
    "중복과 결측치 제거"
   ]
  },
  {
   "cell_type": "code",
   "execution_count": 6,
   "id": "f3f27592",
   "metadata": {},
   "outputs": [
    {
     "name": "stdout",
     "output_type": "stream",
     "text": [
      "Text 열에서 중복을 배제한 유일한 샘플의 수 : 98280\n",
      "Summary 열에서 중복을 배제한 유일한 샘플의 수 : 98360\n"
     ]
    }
   ],
   "source": [
    "print('Text 열에서 중복을 배제한 유일한 샘플의 수 :', data['headlines'].nunique())\n",
    "print('Summary 열에서 중복을 배제한 유일한 샘플의 수 :', data['text'].nunique())"
   ]
  },
  {
   "cell_type": "code",
   "execution_count": 7,
   "id": "35f48ed0",
   "metadata": {},
   "outputs": [
    {
     "name": "stdout",
     "output_type": "stream",
     "text": [
      "전체 샘플수 : 98262\n"
     ]
    }
   ],
   "source": [
    "data.drop_duplicates(subset = ['headlines'], inplace=True)\n",
    "data.drop_duplicates(subset = ['text'], inplace=True)\n",
    "print('전체 샘플수 :', (len(data)))"
   ]
  },
  {
   "cell_type": "code",
   "execution_count": 8,
   "id": "b2cde18b",
   "metadata": {},
   "outputs": [
    {
     "name": "stdout",
     "output_type": "stream",
     "text": [
      "headlines    0\n",
      "text         0\n",
      "dtype: int64\n"
     ]
    }
   ],
   "source": [
    "print(data.isnull().sum())"
   ]
  },
  {
   "cell_type": "markdown",
   "id": "6bfe6ec1",
   "metadata": {},
   "source": [
    "텍스트 정규화와 불용어 처리"
   ]
  },
  {
   "cell_type": "code",
   "execution_count": 9,
   "id": "c07f896d",
   "metadata": {},
   "outputs": [
    {
     "name": "stdout",
     "output_type": "stream",
     "text": [
      "정규화 사전의 수:  120\n"
     ]
    }
   ],
   "source": [
    "contractions = {\"ain't\": \"is not\", \"aren't\": \"are not\",\"can't\": \"cannot\", \"'cause\": \"because\", \"could've\": \"could have\", \"couldn't\": \"could not\",\n",
    "                           \"didn't\": \"did not\",  \"doesn't\": \"does not\", \"don't\": \"do not\", \"hadn't\": \"had not\", \"hasn't\": \"has not\", \"haven't\": \"have not\",\n",
    "                           \"he'd\": \"he would\",\"he'll\": \"he will\", \"he's\": \"he is\", \"how'd\": \"how did\", \"how'd'y\": \"how do you\", \"how'll\": \"how will\", \"how's\": \"how is\",\n",
    "                           \"I'd\": \"I would\", \"I'd've\": \"I would have\", \"I'll\": \"I will\", \"I'll've\": \"I will have\",\"I'm\": \"I am\", \"I've\": \"I have\", \"i'd\": \"i would\",\n",
    "                           \"i'd've\": \"i would have\", \"i'll\": \"i will\",  \"i'll've\": \"i will have\",\"i'm\": \"i am\", \"i've\": \"i have\", \"isn't\": \"is not\", \"it'd\": \"it would\",\n",
    "                           \"it'd've\": \"it would have\", \"it'll\": \"it will\", \"it'll've\": \"it will have\",\"it's\": \"it is\", \"let's\": \"let us\", \"ma'am\": \"madam\",\n",
    "                           \"mayn't\": \"may not\", \"might've\": \"might have\",\"mightn't\": \"might not\",\"mightn't've\": \"might not have\", \"must've\": \"must have\",\n",
    "                           \"mustn't\": \"must not\", \"mustn't've\": \"must not have\", \"needn't\": \"need not\", \"needn't've\": \"need not have\",\"o'clock\": \"of the clock\",\n",
    "                           \"oughtn't\": \"ought not\", \"oughtn't've\": \"ought not have\", \"shan't\": \"shall not\", \"sha'n't\": \"shall not\", \"shan't've\": \"shall not have\",\n",
    "                           \"she'd\": \"she would\", \"she'd've\": \"she would have\", \"she'll\": \"she will\", \"she'll've\": \"she will have\", \"she's\": \"she is\",\n",
    "                           \"should've\": \"should have\", \"shouldn't\": \"should not\", \"shouldn't've\": \"should not have\", \"so've\": \"so have\",\"so's\": \"so as\",\n",
    "                           \"this's\": \"this is\",\"that'd\": \"that would\", \"that'd've\": \"that would have\", \"that's\": \"that is\", \"there'd\": \"there would\",\n",
    "                           \"there'd've\": \"there would have\", \"there's\": \"there is\", \"here's\": \"here is\",\"they'd\": \"they would\", \"they'd've\": \"they would have\",\n",
    "                           \"they'll\": \"they will\", \"they'll've\": \"they will have\", \"they're\": \"they are\", \"they've\": \"they have\", \"to've\": \"to have\",\n",
    "                           \"wasn't\": \"was not\", \"we'd\": \"we would\", \"we'd've\": \"we would have\", \"we'll\": \"we will\", \"we'll've\": \"we will have\", \"we're\": \"we are\",\n",
    "                           \"we've\": \"we have\", \"weren't\": \"were not\", \"what'll\": \"what will\", \"what'll've\": \"what will have\", \"what're\": \"what are\",\n",
    "                           \"what's\": \"what is\", \"what've\": \"what have\", \"when's\": \"when is\", \"when've\": \"when have\", \"where'd\": \"where did\", \"where's\": \"where is\",\n",
    "                           \"where've\": \"where have\", \"who'll\": \"who will\", \"who'll've\": \"who will have\", \"who's\": \"who is\", \"who've\": \"who have\",\n",
    "                           \"why's\": \"why is\", \"why've\": \"why have\", \"will've\": \"will have\", \"won't\": \"will not\", \"won't've\": \"will not have\",\n",
    "                           \"would've\": \"would have\", \"wouldn't\": \"would not\", \"wouldn't've\": \"would not have\", \"y'all\": \"you all\",\n",
    "                           \"y'all'd\": \"you all would\",\"y'all'd've\": \"you all would have\",\"y'all're\": \"you all are\",\"y'all've\": \"you all have\",\n",
    "                           \"you'd\": \"you would\", \"you'd've\": \"you would have\", \"you'll\": \"you will\", \"you'll've\": \"you will have\",\n",
    "                           \"you're\": \"you are\", \"you've\": \"you have\"}\n",
    "\n",
    "print(\"정규화 사전의 수: \", len(contractions))"
   ]
  },
  {
   "cell_type": "code",
   "execution_count": 10,
   "id": "fb11bdcb",
   "metadata": {},
   "outputs": [
    {
     "name": "stdout",
     "output_type": "stream",
     "text": [
      "불용어 개수 : 179\n",
      "['i', 'me', 'my', 'myself', 'we', 'our', 'ours', 'ourselves', 'you', \"you're\", \"you've\", \"you'll\", \"you'd\", 'your', 'yours', 'yourself', 'yourselves', 'he', 'him', 'his', 'himself', 'she', \"she's\", 'her', 'hers', 'herself', 'it', \"it's\", 'its', 'itself', 'they', 'them', 'their', 'theirs', 'themselves', 'what', 'which', 'who', 'whom', 'this', 'that', \"that'll\", 'these', 'those', 'am', 'is', 'are', 'was', 'were', 'be', 'been', 'being', 'have', 'has', 'had', 'having', 'do', 'does', 'did', 'doing', 'a', 'an', 'the', 'and', 'but', 'if', 'or', 'because', 'as', 'until', 'while', 'of', 'at', 'by', 'for', 'with', 'about', 'against', 'between', 'into', 'through', 'during', 'before', 'after', 'above', 'below', 'to', 'from', 'up', 'down', 'in', 'out', 'on', 'off', 'over', 'under', 'again', 'further', 'then', 'once', 'here', 'there', 'when', 'where', 'why', 'how', 'all', 'any', 'both', 'each', 'few', 'more', 'most', 'other', 'some', 'such', 'no', 'nor', 'not', 'only', 'own', 'same', 'so', 'than', 'too', 'very', 's', 't', 'can', 'will', 'just', 'don', \"don't\", 'should', \"should've\", 'now', 'd', 'll', 'm', 'o', 're', 've', 'y', 'ain', 'aren', \"aren't\", 'couldn', \"couldn't\", 'didn', \"didn't\", 'doesn', \"doesn't\", 'hadn', \"hadn't\", 'hasn', \"hasn't\", 'haven', \"haven't\", 'isn', \"isn't\", 'ma', 'mightn', \"mightn't\", 'mustn', \"mustn't\", 'needn', \"needn't\", 'shan', \"shan't\", 'shouldn', \"shouldn't\", 'wasn', \"wasn't\", 'weren', \"weren't\", 'won', \"won't\", 'wouldn', \"wouldn't\"]\n"
     ]
    }
   ],
   "source": [
    "print('불용어 개수 :', len(stopwords.words('english') ))\n",
    "print(stopwords.words('english'))"
   ]
  },
  {
   "cell_type": "code",
   "execution_count": 11,
   "id": "0154dfb4",
   "metadata": {},
   "outputs": [],
   "source": [
    "def preprocess_sentence(sentence, remove_stopwords=True):\n",
    "    sentence = sentence.lower() # 텍스트 소문자화\n",
    "    sentence = BeautifulSoup(sentence, \"lxml\").get_text(\" \") # <br />, <a href = ...> 등의 html 태그 제거(\" \"로 대체)\n",
    "    sentence = re.sub(r'\\([^)]*\\)', '', sentence) # 괄호로 닫힌 문자열 (...) 제거 Ex) my husband (and myself!) for => my husband for\n",
    "    sentence = re.sub('\"','', sentence) # 쌍따옴표 \" 제거\n",
    "    sentence = ' '.join([contractions[t] if t in contractions else t for t in sentence.split(\" \")]) # 약어 정규화\n",
    "    sentence = re.sub(r\"'s\\b\",\"\", sentence) # 소유격 제거. Ex) roland's -> roland\n",
    "    sentence = re.sub(\"[^a-zA-Z]\", \" \", sentence) # 영어 외 문자(숫자, 특수문자 등) 공백으로 변환\n",
    "    sentence = re.sub('[m]{2,}', 'mm', sentence) # m이 3개 이상이면 2개로 변경. Ex) ummmmmmm yeah -> umm yeah\n",
    "    \n",
    "    # 불용어 제거 (Text)\n",
    "    if remove_stopwords:\n",
    "        tokens = ' '.join(word for word in sentence.split() if not word in stopwords.words('english') if len(word) > 1)\n",
    "    # 불용어 미제거 (Summary)\n",
    "    else:\n",
    "        tokens = ' '.join(word for word in sentence.split() if len(word) > 1)\n",
    "    return tokens"
   ]
  },
  {
   "cell_type": "code",
   "execution_count": 12,
   "id": "3d1f4e68",
   "metadata": {},
   "outputs": [],
   "source": [
    "clean_headlines = []\n",
    "\n",
    "for headlines in data['headlines']:\n",
    "    clean_headlines.append(preprocess_sentence(headlines))\n",
    "    \n",
    "clean_text = []\n",
    "\n",
    "for text in data['text']:\n",
    "    clean_text.append(preprocess_sentence(text))"
   ]
  },
  {
   "cell_type": "code",
   "execution_count": 13,
   "id": "ff58779e",
   "metadata": {},
   "outputs": [],
   "source": [
    "import numpy as np\n",
    "data['headlines'] = clean_headlines\n",
    "data['text'] = clean_text\n",
    "\n",
    "data.replace('', np.nan, inplace=True)"
   ]
  },
  {
   "cell_type": "code",
   "execution_count": 14,
   "id": "87c9b4fa",
   "metadata": {},
   "outputs": [
    {
     "name": "stdout",
     "output_type": "stream",
     "text": [
      "전체 샘플수 : 98262\n"
     ]
    }
   ],
   "source": [
    "data.dropna(axis=0, inplace=True)\n",
    "print('전체 샘플수 :', (len(data)))"
   ]
  },
  {
   "cell_type": "markdown",
   "id": "e8216bc5",
   "metadata": {},
   "source": [
    "샘플의 최대 길이 정하기"
   ]
  },
  {
   "cell_type": "code",
   "execution_count": 15,
   "id": "0fb80f4f",
   "metadata": {},
   "outputs": [
    {
     "name": "stdout",
     "output_type": "stream",
     "text": [
      "텍스트의 최소 길이 : 1\n",
      "텍스트의 최대 길이 : 60\n",
      "텍스트의 평균 길이 : 35.10029309397326\n",
      "요약의 최소 길이 : 1\n",
      "요약의 최대 길이 : 13\n",
      "요약의 평균 길이 : 7.136787364393153\n"
     ]
    },
    {
     "data": {
      "image/png": "[encoded data removed]",
      "text/plain": [
       "<Figure size 432x288 with 2 Axes>"
      ]
     },
     "metadata": {
      "needs_background": "light"
     },
     "output_type": "display_data"
    },
    {
     "data": {
      "image/png": "[encoded data removed]",
      "text/plain": [
       "<Figure size 432x288 with 1 Axes>"
      ]
     },
     "metadata": {
      "needs_background": "light"
     },
     "output_type": "display_data"
    },
    {
     "data": {
      "image/png": "[encoded data removed]",
      "text/plain": [
       "<Figure size 432x288 with 1 Axes>"
      ]
     },
     "metadata": {
      "needs_background": "light"
     },
     "output_type": "display_data"
    }
   ],
   "source": [
    "text_len = [len(s.split()) for s in data['text']]\n",
    "summary_len = [len(s.split()) for s in data['headlines']]\n",
    "\n",
    "print('텍스트의 최소 길이 : {}'.format(np.min(text_len)))\n",
    "print('텍스트의 최대 길이 : {}'.format(np.max(text_len)))\n",
    "print('텍스트의 평균 길이 : {}'.format(np.mean(text_len)))\n",
    "print('요약의 최소 길이 : {}'.format(np.min(summary_len)))\n",
    "print('요약의 최대 길이 : {}'.format(np.max(summary_len)))\n",
    "print('요약의 평균 길이 : {}'.format(np.mean(summary_len)))\n",
    "\n",
    "plt.subplot(1,2,1)\n",
    "plt.boxplot(text_len)\n",
    "plt.title('Text')\n",
    "plt.subplot(1,2,2)\n",
    "plt.boxplot(summary_len)\n",
    "plt.title('Summary')\n",
    "plt.tight_layout()\n",
    "plt.show()\n",
    "\n",
    "plt.title('Text')\n",
    "plt.hist(text_len, bins = 40)\n",
    "plt.xlabel('length of samples')\n",
    "plt.ylabel('number of samples')\n",
    "plt.show()\n",
    "\n",
    "plt.title('Summary')\n",
    "plt.hist(summary_len, bins = 40)\n",
    "plt.xlabel('length of samples')\n",
    "plt.ylabel('number of samples')\n",
    "plt.show()"
   ]
  },
  {
   "cell_type": "markdown",
   "id": "c990be19",
   "metadata": {},
   "source": [
    "headline은 9, text는 45로 끊었습니다."
   ]
  },
  {
   "cell_type": "code",
   "execution_count": 16,
   "id": "4bba194f",
   "metadata": {},
   "outputs": [],
   "source": [
    "text_max_len = 45\n",
    "summary_max_len = 9"
   ]
  },
  {
   "cell_type": "code",
   "execution_count": 17,
   "id": "059a5e7f",
   "metadata": {},
   "outputs": [],
   "source": [
    "def below_threshold_len(max_len, nested_list):\n",
    "  cnt = 0\n",
    "  for s in nested_list:\n",
    "    if(len(s.split()) <= max_len):\n",
    "        cnt = cnt + 1\n",
    "  print('전체 샘플 중 길이가 %s 이하인 샘플의 비율: %s'%(max_len, (cnt / len(nested_list))))"
   ]
  },
  {
   "cell_type": "code",
   "execution_count": 18,
   "id": "0eb1d0c5",
   "metadata": {},
   "outputs": [
    {
     "name": "stdout",
     "output_type": "stream",
     "text": [
      "전체 샘플 중 길이가 45 이하인 샘플의 비율: 0.9967739309193788\n",
      "전체 샘플 중 길이가 9 이하인 샘플의 비율: 0.9826077222120454\n"
     ]
    }
   ],
   "source": [
    "below_threshold_len(text_max_len, data['text'])\n",
    "below_threshold_len(summary_max_len,  data['headlines'])"
   ]
  },
  {
   "cell_type": "code",
   "execution_count": 19,
   "id": "2c83eab2",
   "metadata": {},
   "outputs": [],
   "source": [
    "#data = data[data['text'].apply(lambda x: len(x.split())) <= text_max_len]\n",
    "#data = data[data['headlines'].apply(lambda x: len(x.split())) <= summary_max_len]\n",
    "\n",
    "data = data[data.apply(\n",
    "    lambda x: len(x['text'].split()) <= text_max_len and len(x['headlines'].split()) <= summary_max_len, axis=1\n",
    "    )]"
   ]
  },
  {
   "cell_type": "markdown",
   "id": "f7fd228b",
   "metadata": {},
   "source": [
    "시작, 종료 토큰추가"
   ]
  },
  {
   "cell_type": "code",
   "execution_count": 20,
   "id": "70f14f42",
   "metadata": {},
   "outputs": [
    {
     "data": {
      "text/html": [
       "<div>\n",
       "<style scoped>\n",
       "    .dataframe tbody tr th:only-of-type {\n",
       "        vertical-align: middle;\n",
       "    }\n",
       "\n",
       "    .dataframe tbody tr th {\n",
       "        vertical-align: top;\n",
       "    }\n",
       "\n",
       "    .dataframe thead th {\n",
       "        text-align: right;\n",
       "    }\n",
       "</style>\n",
       "<table border=\"1\" class=\"dataframe\">\n",
       "  <thead>\n",
       "    <tr style=\"text-align: right;\">\n",
       "      <th></th>\n",
       "      <th>headlines</th>\n",
       "      <th>text</th>\n",
       "      <th>decoder_input</th>\n",
       "      <th>decoder_target</th>\n",
       "    </tr>\n",
       "  </thead>\n",
       "  <tbody>\n",
       "    <tr>\n",
       "      <th>0</th>\n",
       "      <td>upgrad learner switches career ml al salary hike</td>\n",
       "      <td>saurav kant alumnus upgrad iiit pg program mac...</td>\n",
       "      <td>sostoken upgrad learner switches career ml al ...</td>\n",
       "      <td>upgrad learner switches career ml al salary hi...</td>\n",
       "    </tr>\n",
       "    <tr>\n",
       "      <th>1</th>\n",
       "      <td>delhi techie wins free food swiggy one year cred</td>\n",
       "      <td>kunal shah credit card bill payment platform c...</td>\n",
       "      <td>sostoken delhi techie wins free food swiggy on...</td>\n",
       "      <td>delhi techie wins free food swiggy one year cr...</td>\n",
       "    </tr>\n",
       "    <tr>\n",
       "      <th>3</th>\n",
       "      <td>aegon life iterm insurance plan helps customer...</td>\n",
       "      <td>aegon life iterm insurance plan customers enjo...</td>\n",
       "      <td>sostoken aegon life iterm insurance plan helps...</td>\n",
       "      <td>aegon life iterm insurance plan helps customer...</td>\n",
       "    </tr>\n",
       "    <tr>\n",
       "      <th>4</th>\n",
       "      <td>known hirani yrs metoo claims true sonam</td>\n",
       "      <td>speaking sexual harassment allegations rajkuma...</td>\n",
       "      <td>sostoken known hirani yrs metoo claims true sonam</td>\n",
       "      <td>known hirani yrs metoo claims true sonam eostoken</td>\n",
       "    </tr>\n",
       "    <tr>\n",
       "      <th>5</th>\n",
       "      <td>rahat fateh ali khan denies getting notice smu...</td>\n",
       "      <td>pakistani singer rahat fateh ali khan denied r...</td>\n",
       "      <td>sostoken rahat fateh ali khan denies getting n...</td>\n",
       "      <td>rahat fateh ali khan denies getting notice smu...</td>\n",
       "    </tr>\n",
       "  </tbody>\n",
       "</table>\n",
       "</div>"
      ],
      "text/plain": [
       "                                           headlines  \\\n",
       "0   upgrad learner switches career ml al salary hike   \n",
       "1   delhi techie wins free food swiggy one year cred   \n",
       "3  aegon life iterm insurance plan helps customer...   \n",
       "4           known hirani yrs metoo claims true sonam   \n",
       "5  rahat fateh ali khan denies getting notice smu...   \n",
       "\n",
       "                                                text  \\\n",
       "0  saurav kant alumnus upgrad iiit pg program mac...   \n",
       "1  kunal shah credit card bill payment platform c...   \n",
       "3  aegon life iterm insurance plan customers enjo...   \n",
       "4  speaking sexual harassment allegations rajkuma...   \n",
       "5  pakistani singer rahat fateh ali khan denied r...   \n",
       "\n",
       "                                       decoder_input  \\\n",
       "0  sostoken upgrad learner switches career ml al ...   \n",
       "1  sostoken delhi techie wins free food swiggy on...   \n",
       "3  sostoken aegon life iterm insurance plan helps...   \n",
       "4  sostoken known hirani yrs metoo claims true sonam   \n",
       "5  sostoken rahat fateh ali khan denies getting n...   \n",
       "\n",
       "                                      decoder_target  \n",
       "0  upgrad learner switches career ml al salary hi...  \n",
       "1  delhi techie wins free food swiggy one year cr...  \n",
       "3  aegon life iterm insurance plan helps customer...  \n",
       "4  known hirani yrs metoo claims true sonam eostoken  \n",
       "5  rahat fateh ali khan denies getting notice smu...  "
      ]
     },
     "execution_count": 20,
     "metadata": {},
     "output_type": "execute_result"
    }
   ],
   "source": [
    "data['decoder_input'] = data['headlines'].apply(lambda x : 'sostoken '+ x)\n",
    "data['decoder_target'] = data['headlines'].apply(lambda x : x + ' eostoken')\n",
    "data.head()"
   ]
  },
  {
   "cell_type": "code",
   "execution_count": 21,
   "id": "c3bb97e8",
   "metadata": {},
   "outputs": [],
   "source": [
    "encoder_input = np.array(data['text']) # 인코더의 입력\n",
    "decoder_input = np.array(data['decoder_input']) # 디코더의 입력\n",
    "decoder_target = np.array(data['decoder_target']) # 디코더의 레이블"
   ]
  },
  {
   "cell_type": "markdown",
   "id": "00c44aa6",
   "metadata": {},
   "source": [
    "훈련데이터와 테스트데이터 분리"
   ]
  },
  {
   "cell_type": "code",
   "execution_count": 22,
   "id": "d9bd2b9a",
   "metadata": {},
   "outputs": [
    {
     "name": "stdout",
     "output_type": "stream",
     "text": [
      "[60385  4164 42426 ... 84584 21201 24124]\n"
     ]
    }
   ],
   "source": [
    "indices = np.arange(encoder_input.shape[0])\n",
    "np.random.shuffle(indices)\n",
    "print(indices)"
   ]
  },
  {
   "cell_type": "code",
   "execution_count": 23,
   "id": "faee188b",
   "metadata": {},
   "outputs": [],
   "source": [
    "encoder_input = encoder_input[indices]\n",
    "decoder_input = decoder_input[indices]\n",
    "decoder_target = decoder_target[indices]"
   ]
  },
  {
   "cell_type": "code",
   "execution_count": 24,
   "id": "36cdf733",
   "metadata": {},
   "outputs": [
    {
     "name": "stdout",
     "output_type": "stream",
     "text": [
      "훈련 데이터의 개수 : 77022\n",
      "훈련 레이블의 개수 : 77022\n",
      "테스트 데이터의 개수 : 19255\n",
      "테스트 레이블의 개수 : 19255\n"
     ]
    }
   ],
   "source": [
    "n_of_val = int(len(encoder_input)*0.2)\n",
    "encoder_input_train = encoder_input[:-n_of_val]\n",
    "decoder_input_train = decoder_input[:-n_of_val]\n",
    "decoder_target_train = decoder_target[:-n_of_val]\n",
    "\n",
    "encoder_input_test = encoder_input[-n_of_val:]\n",
    "decoder_input_test = decoder_input[-n_of_val:]\n",
    "decoder_target_test = decoder_target[-n_of_val:]\n",
    "\n",
    "print('훈련 데이터의 개수 :', len(encoder_input_train))\n",
    "print('훈련 레이블의 개수 :', len(decoder_input_train))\n",
    "print('테스트 데이터의 개수 :', len(encoder_input_test))\n",
    "print('테스트 레이블의 개수 :', len(decoder_input_test))"
   ]
  },
  {
   "cell_type": "markdown",
   "id": "d5295cf1",
   "metadata": {},
   "source": [
    "단어집합 만들기 및 정수 인코딩"
   ]
  },
  {
   "cell_type": "code",
   "execution_count": 25,
   "id": "d5018bce",
   "metadata": {},
   "outputs": [
    {
     "name": "stdout",
     "output_type": "stream",
     "text": [
      "단어 집합(vocabulary)의 크기 : 68808\n",
      "등장 빈도가 6번 이하인 희귀 단어의 수: 46974\n",
      "단어 집합에서 희귀 단어를 제외시킬 경우의 단어 집합의 크기 21834\n",
      "단어 집합에서 희귀 단어의 비율: 68.2682246250436\n",
      "전체 등장 빈도에서 희귀 단어 등장 빈도 비율: 3.542610568538671\n"
     ]
    }
   ],
   "source": [
    "src_tokenizer = Tokenizer() # 토크나이저 정의\n",
    "src_tokenizer.fit_on_texts(encoder_input_train) # 입력된 데이터로부터 단어 집합 생성\n",
    "\n",
    "threshold = 7\n",
    "total_cnt = len(src_tokenizer.word_index) # 단어의 수\n",
    "rare_cnt = 0 # 등장 빈도수가 threshold보다 작은 단어의 개수를 카운트\n",
    "total_freq = 0 # 훈련 데이터의 전체 단어 빈도수 총 합\n",
    "rare_freq = 0 # 등장 빈도수가 threshold보다 작은 단어의 등장 빈도수의 총 합\n",
    "\n",
    "# 단어와 빈도수의 쌍(pair)을 key와 value로 받는다.\n",
    "for key, value in src_tokenizer.word_counts.items():\n",
    "    total_freq = total_freq + value\n",
    "\n",
    "    # 단어의 등장 빈도수가 threshold보다 작으면\n",
    "    if(value < threshold):\n",
    "        rare_cnt = rare_cnt + 1\n",
    "        rare_freq = rare_freq + value\n",
    "\n",
    "print('단어 집합(vocabulary)의 크기 :', total_cnt)\n",
    "print('등장 빈도가 %s번 이하인 희귀 단어의 수: %s'%(threshold - 1, rare_cnt))\n",
    "print('단어 집합에서 희귀 단어를 제외시킬 경우의 단어 집합의 크기 %s'%(total_cnt - rare_cnt))\n",
    "print(\"단어 집합에서 희귀 단어의 비율:\", (rare_cnt / total_cnt)*100)\n",
    "print(\"전체 등장 빈도에서 희귀 단어 등장 빈도 비율:\", (rare_freq / total_freq)*100)"
   ]
  },
  {
   "cell_type": "code",
   "execution_count": 26,
   "id": "761a0947",
   "metadata": {},
   "outputs": [],
   "source": [
    "src_vocab = 22000\n",
    "src_tokenizer = Tokenizer(num_words=src_vocab) # 단어 집합의 크기를 22,000으로 제한\n",
    "src_tokenizer.fit_on_texts(encoder_input_train) # 단어 집합 재생성\n",
    "\n",
    "#정수인코딩\n",
    "encoder_input_train = src_tokenizer.texts_to_sequences(encoder_input_train) \n",
    "encoder_input_test = src_tokenizer.texts_to_sequences(encoder_input_test)"
   ]
  },
  {
   "cell_type": "code",
   "execution_count": 27,
   "id": "dbc9b2fe",
   "metadata": {},
   "outputs": [
    {
     "name": "stdout",
     "output_type": "stream",
     "text": [
      "[[654, 573, 7076, 12, 191, 1442, 487, 558, 413, 1123, 3275, 791, 14637, 869, 253, 172, 395, 61, 879, 385, 5, 16, 120, 40, 274, 3718, 40, 12460, 374, 177, 440, 6538, 1232, 899, 395, 911, 5, 16, 504, 3019, 374], [620, 216, 7954, 231, 259, 6539, 14118, 9169, 1574, 440, 7810, 380, 6968, 9719, 1710, 2062, 7175, 110, 3141, 620, 743, 5, 4078, 1778, 126, 991, 576, 1139, 275, 281, 371, 14118, 1403, 852, 798, 576, 82, 620, 94, 303, 721], [9170, 2941, 8063, 3497, 3073, 4204, 1944, 267, 12833, 586, 5973, 3375, 205, 149, 150, 107, 90, 1691, 7077, 5, 19, 90, 12834, 4204, 431, 215, 56, 450]]\n"
     ]
    }
   ],
   "source": [
    "print(encoder_input_train[:3])"
   ]
  },
  {
   "cell_type": "code",
   "execution_count": 28,
   "id": "40566d04",
   "metadata": {},
   "outputs": [
    {
     "name": "stdout",
     "output_type": "stream",
     "text": [
      "단어 집합(vocabulary)의 크기 : 29553\n",
      "등장 빈도가 5번 이하인 희귀 단어의 수: 19387\n",
      "단어 집합에서 희귀 단어를 제외시킬 경우의 단어 집합의 크기 10166\n",
      "단어 집합에서 희귀 단어의 비율: 65.60078503028457\n",
      "전체 등장 빈도에서 희귀 단어 등장 빈도 비율: 5.963546644521154\n"
     ]
    }
   ],
   "source": [
    "tar_tokenizer = Tokenizer()\n",
    "tar_tokenizer.fit_on_texts(decoder_input_train)\n",
    "\n",
    "threshold = 6\n",
    "total_cnt = len(tar_tokenizer.word_index) # 단어의 수\n",
    "rare_cnt = 0 # 등장 빈도수가 threshold보다 작은 단어의 개수를 카운트\n",
    "total_freq = 0 # 훈련 데이터의 전체 단어 빈도수 총 합\n",
    "rare_freq = 0 # 등장 빈도수가 threshold보다 작은 단어의 등장 빈도수의 총 합\n",
    "\n",
    "# 단어와 빈도수의 쌍(pair)을 key와 value로 받는다.\n",
    "for key, value in tar_tokenizer.word_counts.items():\n",
    "    total_freq = total_freq + value\n",
    "\n",
    "    # 단어의 등장 빈도수가 threshold보다 작으면\n",
    "    if(value < threshold):\n",
    "        rare_cnt = rare_cnt + 1\n",
    "        rare_freq = rare_freq + value\n",
    "\n",
    "print('단어 집합(vocabulary)의 크기 :', total_cnt)\n",
    "print('등장 빈도가 %s번 이하인 희귀 단어의 수: %s'%(threshold - 1, rare_cnt))\n",
    "print('단어 집합에서 희귀 단어를 제외시킬 경우의 단어 집합의 크기 %s'%(total_cnt - rare_cnt))\n",
    "print(\"단어 집합에서 희귀 단어의 비율:\", (rare_cnt / total_cnt)*100)\n",
    "print(\"전체 등장 빈도에서 희귀 단어 등장 빈도 비율:\", (rare_freq / total_freq)*100)"
   ]
  },
  {
   "cell_type": "code",
   "execution_count": 29,
   "id": "b74dda2e",
   "metadata": {},
   "outputs": [
    {
     "name": "stdout",
     "output_type": "stream",
     "text": [
      "input\n",
      "input  [[1, 679, 2052, 83, 4660, 122, 193], [1, 269, 1440, 588, 215, 1478, 730, 276], [1, 1547, 9, 219, 4492, 2526, 2470, 2201], [1, 688, 128, 6254, 912], [1, 366, 913, 87, 5978, 400, 259]]\n",
      "target\n",
      "decoder  [[679, 2052, 83, 4660, 122, 193, 2], [269, 1440, 588, 215, 1478, 730, 276, 2], [1547, 9, 219, 4492, 2526, 2470, 2201, 2], [688, 128, 6254, 912, 2], [366, 913, 87, 5978, 400, 259, 2]]\n"
     ]
    }
   ],
   "source": [
    "tar_vocab = 10000\n",
    "tar_tokenizer = Tokenizer(num_words=tar_vocab) \n",
    "tar_tokenizer.fit_on_texts(decoder_input_train)\n",
    "tar_tokenizer.fit_on_texts(decoder_target_train)\n",
    "\n",
    "# 텍스트 시퀀스를 정수 시퀀스로 변환\n",
    "decoder_input_train = tar_tokenizer.texts_to_sequences(decoder_input_train) \n",
    "decoder_target_train = tar_tokenizer.texts_to_sequences(decoder_target_train)\n",
    "decoder_input_test = tar_tokenizer.texts_to_sequences(decoder_input_test)\n",
    "decoder_target_test = tar_tokenizer.texts_to_sequences(decoder_target_test)\n",
    "\n",
    "# 잘 변환되었는지 확인\n",
    "print('input')\n",
    "print('input ',decoder_input_train[:5])\n",
    "print('target')\n",
    "print('decoder ',decoder_target_train[:5])"
   ]
  },
  {
   "cell_type": "markdown",
   "id": "484eed8e",
   "metadata": {},
   "source": [
    "sostoken과 eostoken만 남은 경우 삭제"
   ]
  },
  {
   "cell_type": "code",
   "execution_count": 30,
   "id": "bfd7ec52",
   "metadata": {},
   "outputs": [
    {
     "name": "stdout",
     "output_type": "stream",
     "text": [
      "삭제할 훈련 데이터의 개수 : 2\n",
      "삭제할 테스트 데이터의 개수 : 0\n",
      "훈련 데이터의 개수 : 77020\n",
      "훈련 레이블의 개수 : 77020\n",
      "테스트 데이터의 개수 : 19255\n",
      "테스트 레이블의 개수 : 19255\n"
     ]
    }
   ],
   "source": [
    "drop_train = [index for index, sentence in enumerate(decoder_input_train) if len(sentence) == 1]\n",
    "drop_test = [index for index, sentence in enumerate(decoder_input_test) if len(sentence) == 1]\n",
    "\n",
    "print('삭제할 훈련 데이터의 개수 :', len(drop_train))\n",
    "print('삭제할 테스트 데이터의 개수 :', len(drop_test))\n",
    "\n",
    "encoder_input_train = [sentence for index, sentence in enumerate(encoder_input_train) if index not in drop_train]\n",
    "decoder_input_train = [sentence for index, sentence in enumerate(decoder_input_train) if index not in drop_train]\n",
    "decoder_target_train = [sentence for index, sentence in enumerate(decoder_target_train) if index not in drop_train]\n",
    "\n",
    "encoder_input_test = [sentence for index, sentence in enumerate(encoder_input_test) if index not in drop_test]\n",
    "decoder_input_test = [sentence for index, sentence in enumerate(decoder_input_test) if index not in drop_test]\n",
    "decoder_target_test = [sentence for index, sentence in enumerate(decoder_target_test) if index not in drop_test]\n",
    "\n",
    "print('훈련 데이터의 개수 :', len(encoder_input_train))\n",
    "print('훈련 레이블의 개수 :', len(decoder_input_train))\n",
    "print('테스트 데이터의 개수 :', len(encoder_input_test))\n",
    "print('테스트 레이블의 개수 :', len(decoder_input_test))"
   ]
  },
  {
   "cell_type": "markdown",
   "id": "a9e538c1",
   "metadata": {},
   "source": [
    "패딩"
   ]
  },
  {
   "cell_type": "markdown",
   "id": "2a7d9aa8",
   "metadata": {},
   "source": [
    "post"
   ]
  },
  {
   "cell_type": "code",
   "execution_count": 31,
   "id": "dfaae92f",
   "metadata": {},
   "outputs": [],
   "source": [
    "encoder_input_train = pad_sequences(encoder_input_train, maxlen=text_max_len, padding='post')\n",
    "encoder_input_test = pad_sequences(encoder_input_test, maxlen=text_max_len, padding='post')\n",
    "decoder_input_train = pad_sequences(decoder_input_train, maxlen=summary_max_len, padding='post')\n",
    "decoder_target_train = pad_sequences(decoder_target_train, maxlen=summary_max_len, padding='post')\n",
    "decoder_input_test = pad_sequences(decoder_input_test, maxlen=summary_max_len, padding='post')\n",
    "decoder_target_test = pad_sequences(decoder_target_test, maxlen=summary_max_len, padding='post')"
   ]
  },
  {
   "cell_type": "markdown",
   "id": "a629e60e",
   "metadata": {},
   "source": [
    "pre"
   ]
  },
  {
   "cell_type": "code",
   "execution_count": 32,
   "id": "0556e128",
   "metadata": {},
   "outputs": [],
   "source": [
    "encoder_input_train_pre = pad_sequences(encoder_input_train, maxlen=text_max_len, padding='pre')\n",
    "encoder_input_test_pre = pad_sequences(encoder_input_test, maxlen=text_max_len, padding='pre')\n",
    "decoder_input_train_pre = pad_sequences(decoder_input_train, maxlen=summary_max_len, padding='pre')\n",
    "decoder_target_train_pre = pad_sequences(decoder_target_train, maxlen=summary_max_len, padding='pre')\n",
    "decoder_input_test_pre = pad_sequences(decoder_input_test, maxlen=summary_max_len, padding='pre')\n",
    "decoder_target_test_pre = pad_sequences(decoder_target_test, maxlen=summary_max_len, padding='pre')"
   ]
  },
  {
   "cell_type": "markdown",
   "id": "1a4f0088",
   "metadata": {},
   "source": [
    "인코더"
   ]
  },
  {
   "cell_type": "code",
   "execution_count": 33,
   "id": "9f1201a8",
   "metadata": {},
   "outputs": [],
   "source": [
    "from tensorflow.keras.layers import Input, LSTM, Embedding, Dense, Concatenate, TimeDistributed\n",
    "from tensorflow.keras.models import Model\n",
    "from tensorflow.keras.callbacks import EarlyStopping, ModelCheckpoint\n",
    "\n",
    "\n",
    "# 인코더 설계 시작\n",
    "embedding_dim = 128\n",
    "hidden_size = 256\n",
    "\n",
    "# 인코더\n",
    "encoder_inputs = Input(shape=(text_max_len,))\n",
    "\n",
    "# 인코더의 임베딩 층\n",
    "enc_emb = Embedding(src_vocab, embedding_dim)(encoder_inputs)\n",
    "\n",
    "# 인코더의 LSTM 1\n",
    "# encoder_lstm1 = LSTM(hidden_size, return_sequences=True, return_state=True ,dropout = 0.4, recurrent_dropout = 0.4)\n",
    "encoder_lstm1 = LSTM(hidden_size, return_sequences=True, return_state=True ,dropout = 0.4)\n",
    "encoder_output1, state_h1, state_c1 = encoder_lstm1(enc_emb)\n",
    "\n",
    "# 인코더의 LSTM 2\n",
    "encoder_lstm2 = LSTM(hidden_size, return_sequences=True, return_state=True, dropout=0.4)\n",
    "encoder_output2, state_h2, state_c2 = encoder_lstm2(encoder_output1)\n",
    "\n",
    "# 인코더의 LSTM 3\n",
    "encoder_lstm3 = LSTM(hidden_size, return_sequences=True, return_state=True, dropout=0.4)\n",
    "encoder_outputs, state_h, state_c = encoder_lstm3(encoder_output2)"
   ]
  },
  {
   "cell_type": "markdown",
   "id": "34bad3e2",
   "metadata": {},
   "source": [
    "디코더"
   ]
  },
  {
   "cell_type": "code",
   "execution_count": 34,
   "id": "6306bb8b",
   "metadata": {},
   "outputs": [
    {
     "name": "stdout",
     "output_type": "stream",
     "text": [
      "Model: \"model\"\n",
      "__________________________________________________________________________________________________\n",
      "Layer (type)                    Output Shape         Param #     Connected to                     \n",
      "==================================================================================================\n",
      "input_1 (InputLayer)            [(None, 45)]         0                                            \n",
      "__________________________________________________________________________________________________\n",
      "embedding (Embedding)           (None, 45, 128)      2816000     input_1[0][0]                    \n",
      "__________________________________________________________________________________________________\n",
      "lstm (LSTM)                     [(None, 45, 256), (N 394240      embedding[0][0]                  \n",
      "__________________________________________________________________________________________________\n",
      "input_2 (InputLayer)            [(None, None)]       0                                            \n",
      "__________________________________________________________________________________________________\n",
      "lstm_1 (LSTM)                   [(None, 45, 256), (N 525312      lstm[0][0]                       \n",
      "__________________________________________________________________________________________________\n",
      "embedding_1 (Embedding)         (None, None, 128)    1280000     input_2[0][0]                    \n",
      "__________________________________________________________________________________________________\n",
      "lstm_2 (LSTM)                   [(None, 45, 256), (N 525312      lstm_1[0][0]                     \n",
      "__________________________________________________________________________________________________\n",
      "lstm_3 (LSTM)                   [(None, None, 256),  394240      embedding_1[0][0]                \n",
      "                                                                 lstm_2[0][1]                     \n",
      "                                                                 lstm_2[0][2]                     \n",
      "__________________________________________________________________________________________________\n",
      "dense (Dense)                   (None, None, 10000)  2570000     lstm_3[0][0]                     \n",
      "==================================================================================================\n",
      "Total params: 8,505,104\n",
      "Trainable params: 8,505,104\n",
      "Non-trainable params: 0\n",
      "__________________________________________________________________________________________________\n"
     ]
    }
   ],
   "source": [
    "# 디코더 설계\n",
    "decoder_inputs = Input(shape=(None,))\n",
    "\n",
    "# 디코더의 임베딩 층\n",
    "dec_emb_layer = Embedding(tar_vocab, embedding_dim)\n",
    "dec_emb = dec_emb_layer(decoder_inputs)\n",
    "\n",
    "# 디코더의 LSTM\n",
    "# decoder_lstm = LSTM(hidden_size, return_sequences=True, return_state=True, dropout=0.4, recurrent_dropout=0.2)\n",
    "decoder_lstm = LSTM(hidden_size, return_sequences=True, return_state=True, dropout=0.4)\n",
    "decoder_outputs, _, _ = decoder_lstm(dec_emb, initial_state=[state_h, state_c])\n",
    "\n",
    "# 디코더의 출력층\n",
    "decoder_softmax_layer = Dense(tar_vocab, activation='softmax')\n",
    "decoder_softmax_outputs = decoder_softmax_layer(decoder_outputs) \n",
    "\n",
    "# 모델 정의\n",
    "model = Model([encoder_inputs, decoder_inputs], decoder_softmax_outputs)\n",
    "model.summary()"
   ]
  },
  {
   "cell_type": "markdown",
   "id": "72eecb89",
   "metadata": {},
   "source": [
    "어텐션"
   ]
  },
  {
   "cell_type": "code",
   "execution_count": 35,
   "id": "ebd150e5",
   "metadata": {},
   "outputs": [
    {
     "name": "stdout",
     "output_type": "stream",
     "text": [
      "Model: \"model_1\"\n",
      "__________________________________________________________________________________________________\n",
      "Layer (type)                    Output Shape         Param #     Connected to                     \n",
      "==================================================================================================\n",
      "input_1 (InputLayer)            [(None, 45)]         0                                            \n",
      "__________________________________________________________________________________________________\n",
      "embedding (Embedding)           (None, 45, 128)      2816000     input_1[0][0]                    \n",
      "__________________________________________________________________________________________________\n",
      "lstm (LSTM)                     [(None, 45, 256), (N 394240      embedding[0][0]                  \n",
      "__________________________________________________________________________________________________\n",
      "input_2 (InputLayer)            [(None, None)]       0                                            \n",
      "__________________________________________________________________________________________________\n",
      "lstm_1 (LSTM)                   [(None, 45, 256), (N 525312      lstm[0][0]                       \n",
      "__________________________________________________________________________________________________\n",
      "embedding_1 (Embedding)         (None, None, 128)    1280000     input_2[0][0]                    \n",
      "__________________________________________________________________________________________________\n",
      "lstm_2 (LSTM)                   [(None, 45, 256), (N 525312      lstm_1[0][0]                     \n",
      "__________________________________________________________________________________________________\n",
      "lstm_3 (LSTM)                   [(None, None, 256),  394240      embedding_1[0][0]                \n",
      "                                                                 lstm_2[0][1]                     \n",
      "                                                                 lstm_2[0][2]                     \n",
      "__________________________________________________________________________________________________\n",
      "attention_layer (AdditiveAttent (None, None, 256)    256         lstm_3[0][0]                     \n",
      "                                                                 lstm_2[0][0]                     \n",
      "__________________________________________________________________________________________________\n",
      "concat_layer (Concatenate)      (None, None, 512)    0           lstm_3[0][0]                     \n",
      "                                                                 attention_layer[0][0]            \n",
      "__________________________________________________________________________________________________\n",
      "dense_1 (Dense)                 (None, None, 10000)  5130000     concat_layer[0][0]               \n",
      "==================================================================================================\n",
      "Total params: 11,065,360\n",
      "Trainable params: 11,065,360\n",
      "Non-trainable params: 0\n",
      "__________________________________________________________________________________________________\n"
     ]
    }
   ],
   "source": [
    "from tensorflow.keras.layers import AdditiveAttention\n",
    "\n",
    "# 어텐션 층(어텐션 함수)\n",
    "attn_layer = AdditiveAttention(name='attention_layer')\n",
    "\n",
    "# 인코더와 디코더의 모든 time step의 hidden state를 어텐션 층에 전달하고 결과를 리턴\n",
    "attn_out = attn_layer([decoder_outputs, encoder_outputs])\n",
    "\n",
    "\n",
    "# 어텐션의 결과와 디코더의 hidden state들을 연결\n",
    "decoder_concat_input = Concatenate(axis=-1, name='concat_layer')([decoder_outputs, attn_out])\n",
    "\n",
    "# 디코더의 출력층\n",
    "decoder_softmax_layer = Dense(tar_vocab, activation='softmax')\n",
    "decoder_softmax_outputs = decoder_softmax_layer(decoder_concat_input)\n",
    "\n",
    "# 모델 정의\n",
    "model = Model([encoder_inputs, decoder_inputs], decoder_softmax_outputs)\n",
    "model.summary()"
   ]
  },
  {
   "cell_type": "markdown",
   "id": "60efae79",
   "metadata": {},
   "source": [
    "모델 컴파일 및 훈련"
   ]
  },
  {
   "cell_type": "code",
   "execution_count": 36,
   "id": "edb674fe",
   "metadata": {},
   "outputs": [
    {
     "name": "stdout",
     "output_type": "stream",
     "text": [
      "Epoch 1/50\n",
      "301/301 [==============================] - 32s 84ms/step - loss: 6.1381 - val_loss: 5.7486\n",
      "Epoch 2/50\n",
      "301/301 [==============================] - 25s 82ms/step - loss: 5.5607 - val_loss: 5.2877\n",
      "Epoch 3/50\n",
      "301/301 [==============================] - 25s 84ms/step - loss: 5.1971 - val_loss: 5.0131\n",
      "Epoch 4/50\n",
      "301/301 [==============================] - 26s 85ms/step - loss: 4.9091 - val_loss: 4.8109\n",
      "Epoch 5/50\n",
      "301/301 [==============================] - 26s 87ms/step - loss: 4.6774 - val_loss: 4.6582\n",
      "Epoch 6/50\n",
      "301/301 [==============================] - 27s 89ms/step - loss: 4.4857 - val_loss: 4.5404\n",
      "Epoch 7/50\n",
      "301/301 [==============================] - 27s 89ms/step - loss: 4.3228 - val_loss: 4.4617\n",
      "Epoch 8/50\n",
      "301/301 [==============================] - 27s 89ms/step - loss: 4.1788 - val_loss: 4.3958\n",
      "Epoch 9/50\n",
      "301/301 [==============================] - 27s 89ms/step - loss: 4.0512 - val_loss: 4.3365\n",
      "Epoch 10/50\n",
      "301/301 [==============================] - 27s 89ms/step - loss: 3.9356 - val_loss: 4.2891\n",
      "Epoch 11/50\n",
      "301/301 [==============================] - 27s 89ms/step - loss: 3.8293 - val_loss: 4.2530\n",
      "Epoch 12/50\n",
      "301/301 [==============================] - 27s 89ms/step - loss: 3.7371 - val_loss: 4.2207\n",
      "Epoch 13/50\n",
      "301/301 [==============================] - 27s 89ms/step - loss: 3.6472 - val_loss: 4.1954\n",
      "Epoch 14/50\n",
      "301/301 [==============================] - 27s 89ms/step - loss: 3.5634 - val_loss: 4.1738\n",
      "Epoch 15/50\n",
      "301/301 [==============================] - 27s 89ms/step - loss: 3.4870 - val_loss: 4.1568\n",
      "Epoch 16/50\n",
      "301/301 [==============================] - 27s 89ms/step - loss: 3.4155 - val_loss: 4.1403\n",
      "Epoch 17/50\n",
      "301/301 [==============================] - 27s 89ms/step - loss: 3.3480 - val_loss: 4.1257\n",
      "Epoch 18/50\n",
      "301/301 [==============================] - 27s 89ms/step - loss: 3.2814 - val_loss: 4.1168\n",
      "Epoch 19/50\n",
      "301/301 [==============================] - 27s 89ms/step - loss: 3.2218 - val_loss: 4.1101\n",
      "Epoch 20/50\n",
      "301/301 [==============================] - 27s 89ms/step - loss: 3.1658 - val_loss: 4.1015\n",
      "Epoch 21/50\n",
      "301/301 [==============================] - 27s 89ms/step - loss: 3.1107 - val_loss: 4.1058\n",
      "Epoch 22/50\n",
      "301/301 [==============================] - 27s 89ms/step - loss: 3.0642 - val_loss: 4.1002\n",
      "Epoch 23/50\n",
      "301/301 [==============================] - 27s 89ms/step - loss: 3.0150 - val_loss: 4.1015\n",
      "Epoch 24/50\n",
      "301/301 [==============================] - 27s 89ms/step - loss: 2.9664 - val_loss: 4.1010\n",
      "Epoch 00024: early stopping\n"
     ]
    }
   ],
   "source": [
    "model.compile(optimizer='rmsprop', loss='sparse_categorical_crossentropy')\n",
    "es = EarlyStopping(monitor='val_loss', patience=2, verbose=1)\n",
    "history = model.fit(x=[encoder_input_train, decoder_input_train], y=decoder_target_train, \n",
    "          validation_data=([encoder_input_test, decoder_input_test], decoder_target_test), \n",
    "          batch_size=256, callbacks=[es], \n",
    "          epochs=50)"
   ]
  },
  {
   "cell_type": "markdown",
   "id": "775f8655",
   "metadata": {},
   "source": [
    "- EarlyStopping을 적용하지 않은 모델의 epoch결과\n",
    "![screenshot](./ex0501.png)\n",
    "![screenshot](./ex0502.png)"
   ]
  },
  {
   "cell_type": "code",
   "execution_count": 37,
   "id": "3983f86e",
   "metadata": {},
   "outputs": [
    {
     "data": {
      "image/png": "[encoded data removed]",
      "text/plain": [
       "<Figure size 432x288 with 1 Axes>"
      ]
     },
     "metadata": {
      "needs_background": "light"
     },
     "output_type": "display_data"
    }
   ],
   "source": [
    "plt.plot(history.history['loss'], label='train')\n",
    "plt.plot(history.history['val_loss'], label='test')\n",
    "plt.legend()\n",
    "plt.show()"
   ]
  },
  {
   "cell_type": "markdown",
   "id": "835e047b",
   "metadata": {},
   "source": [
    "인퍼런스 모델 구현"
   ]
  },
  {
   "cell_type": "code",
   "execution_count": 38,
   "id": "c2021fe1",
   "metadata": {},
   "outputs": [],
   "source": [
    "src_index_to_word = src_tokenizer.index_word # 원문 단어 집합에서 정수 -> 단어를 얻음\n",
    "tar_word_to_index = tar_tokenizer.word_index # 요약 단어 집합에서 단어 -> 정수를 얻음\n",
    "tar_index_to_word = tar_tokenizer.index_word # 요약 단어 집합에서 정수 -> 단어를 얻음"
   ]
  },
  {
   "cell_type": "markdown",
   "id": "5e4ce516",
   "metadata": {},
   "source": [
    "인코더"
   ]
  },
  {
   "cell_type": "code",
   "execution_count": 39,
   "id": "551de935",
   "metadata": {},
   "outputs": [],
   "source": [
    "# 인코더 설계\n",
    "encoder_model = Model(inputs=encoder_inputs, outputs=[encoder_outputs, state_h, state_c])\n",
    "\n",
    "# 이전 시점의 상태들을 저장하는 텐서\n",
    "decoder_state_input_h = Input(shape=(hidden_size,))\n",
    "decoder_state_input_c = Input(shape=(hidden_size,))\n",
    "\n",
    "dec_emb2 = dec_emb_layer(decoder_inputs)\n",
    "\n",
    "# 문장의 다음 단어를 예측하기 위해서 초기 상태(initial_state)를 이전 시점의 상태로 사용. 이는 뒤의 함수 decode_sequence()에 구현\n",
    "# 훈련 과정에서와 달리 LSTM의 리턴하는 은닉 상태와 셀 상태인 state_h와 state_c를 버리지 않음.\n",
    "decoder_outputs2, state_h2, state_c2 = decoder_lstm(dec_emb2, initial_state=[decoder_state_input_h, decoder_state_input_c])"
   ]
  },
  {
   "cell_type": "markdown",
   "id": "9ea0c1fe",
   "metadata": {},
   "source": [
    "어텐션"
   ]
  },
  {
   "cell_type": "code",
   "execution_count": 40,
   "id": "49a0b5f9",
   "metadata": {},
   "outputs": [],
   "source": [
    "# 어텐션 함수\n",
    "decoder_hidden_state_input = Input(shape=(text_max_len, hidden_size))\n",
    "attn_out_inf = attn_layer([decoder_outputs2, decoder_hidden_state_input])\n",
    "decoder_inf_concat = Concatenate(axis=-1, name='concat')([decoder_outputs2, attn_out_inf])\n",
    "\n",
    "# 디코더의 출력층\n",
    "decoder_outputs2 = decoder_softmax_layer(decoder_inf_concat) \n",
    "\n",
    "# 최종 디코더 모델\n",
    "decoder_model = Model(\n",
    "    [decoder_inputs] + [decoder_hidden_state_input,decoder_state_input_h, decoder_state_input_c],\n",
    "    [decoder_outputs2] + [state_h2, state_c2])"
   ]
  },
  {
   "cell_type": "markdown",
   "id": "9008f953",
   "metadata": {},
   "source": [
    "단어 시퀀스를 디코드하는 함수"
   ]
  },
  {
   "cell_type": "code",
   "execution_count": 41,
   "id": "9e8565ed",
   "metadata": {},
   "outputs": [],
   "source": [
    "def decode_sequence(input_seq):\n",
    "    # 입력으로부터 인코더의 상태를 얻음\n",
    "    e_out, e_h, e_c = encoder_model.predict(input_seq)\n",
    "\n",
    "     # <SOS>에 해당하는 토큰 생성\n",
    "    target_seq = np.zeros((1,1))\n",
    "    target_seq[0, 0] = tar_word_to_index['sostoken']\n",
    "\n",
    "    stop_condition = False\n",
    "    decoded_sentence = ''\n",
    "    while not stop_condition: # stop_condition이 True가 될 때까지 루프 반복\n",
    "\n",
    "        output_tokens, h, c = decoder_model.predict([target_seq] + [e_out, e_h, e_c])\n",
    "        sampled_token_index = np.argmax(output_tokens[0, -1, :])\n",
    "        sampled_token = tar_index_to_word[sampled_token_index]\n",
    "\n",
    "        if (sampled_token!='eostoken'):\n",
    "            decoded_sentence += ' '+sampled_token\n",
    "\n",
    "        #  <eos>에 도달하거나 최대 길이를 넘으면 중단.\n",
    "        if (sampled_token == 'eostoken'  or len(decoded_sentence.split()) >= (summary_max_len-1)):\n",
    "            stop_condition = True\n",
    "\n",
    "        # 길이가 1인 타겟 시퀀스를 업데이트\n",
    "        target_seq = np.zeros((1,1))\n",
    "        target_seq[0, 0] = sampled_token_index\n",
    "\n",
    "        # 상태를 업데이트 합니다.\n",
    "        e_h, e_c = h, c\n",
    "\n",
    "    return decoded_sentence"
   ]
  },
  {
   "cell_type": "code",
   "execution_count": 42,
   "id": "934cfe70",
   "metadata": {},
   "outputs": [],
   "source": [
    "# 원문의 정수 시퀀스를 텍스트 시퀀스로 변환\n",
    "def seq2text(input_seq):\n",
    "    temp=''\n",
    "    for i in input_seq:\n",
    "        if (i!=0):\n",
    "            temp = temp + src_index_to_word[i]+' '\n",
    "    return temp.strip()  # 마지막 공백 제거 후 반환\n",
    "\n",
    "# 요약문의 정수 시퀀스를 텍스트 시퀀스로 변환\n",
    "def seq2summary(input_seq):\n",
    "    temp = ''\n",
    "    for i in input_seq:\n",
    "        if i == 0:  # 패딩을 위한 숫자 0은 제외\n",
    "            continue\n",
    "        if i == tar_word_to_index['sostoken']:  # 시작 토큰은 제외\n",
    "            continue\n",
    "        if i == tar_word_to_index['eostoken']:  # 종료 토큰은 제외\n",
    "            break\n",
    "        temp = temp + tar_index_to_word[i] + ' '  # 단어 추가\n",
    "    return temp.strip()  # 마지막 공백 제거 후 반환"
   ]
  },
  {
   "cell_type": "code",
   "execution_count": 43,
   "id": "4d424382",
   "metadata": {},
   "outputs": [
    {
     "name": "stdout",
     "output_type": "stream",
     "text": [
      "원문 : singer udit narayan son aditya released bail car rammed auto rickshaw monday police said aditya paid fine taken injured driver passenger hospital accident year old driver admitted icu head injuries passenger suffered fractured leg\n",
      "실제 요약 : narayan son given bail car auto\n",
      "예측 요약 :  father arrested car accident case delhi\n",
      "\n",
      "\n",
      "원문 : minor rape victim fir convicted self styled godman asaram stated asaram summoned cottage naked asked oral sex describing ordeal said locked room inside started molesting started shouting threatened kill parents closed mouth\n",
      "실제 요약 : asaram naked asked oral sex rape victim fir\n",
      "예측 요약 :  rape accused maharaj rape victim\n",
      "\n",
      "\n",
      "원문 : software firm ibm developed device called crypto anchor uses artificial intelligence optical imaging detect counterfeit goods device attached smartphone camera put item surface verify authenticity compares optical patterns unique items detect counterfeit medicine wine diamonds\n",
      "실제 요약 : ibm develops ai enabled device detect goods\n",
      "예측 요약 :  ai files patent case detect camera\n",
      "\n",
      "\n",
      "원문 : priest rajasthan pushkar presided puja offered congress president rahul gandhi brahma temple said gandhi came offered prayers ghat also said kashmiri brahmin nehru jawaharlal nehru indira gandhi sonia gandhi offered prayers ghat recorded us added\n",
      "실제 요약 : rahul gandhi told pushkar priest\n",
      "예측 요약 :  rahul gandhi visit rahul gandhi\n",
      "\n",
      "\n",
      "원문 : new trailer priyanka chopra upcoming hollywood debut film baywatch released priyanka seen villain victoria leeds lead cast also includes dwayne johnson zac efron alexandra drugs murder dead body beach started took tweeted priyanka sharing new trailer\n",
      "실제 요약 : new trailer priyanka hollywood debut film baywatch\n",
      "예측 요약 :  priyanka chopra star acting debut film report\n",
      "\n",
      "\n",
      "원문 : hospital peon suspended locked tribal couple along son body mortuary nearly three hours rajasthan year old son died hospital injured falling tree mother refusing part body peon locked parents inside slept\n",
      "실제 요약 : peon locks couple son body goes sleep\n",
      "예측 요약 :  family family die mother son died\n",
      "\n",
      "\n",
      "원문 : brazil top prosecutor tuesday charged former presidents luis da silva corruption money laundering forming first criminal charges levelled impeached breaking budgetary laws already four corruption cases silva\n",
      "실제 요약 : two former brazilian presidents charged corruption case\n",
      "예측 요약 :  ex england captain charged corruption\n",
      "\n",
      "\n",
      "원문 : senior ips officer modi batch ips officer appointed new director general national investigation agency previously served additional director cbi also part special investigation team probed gujarat riots cases giving prime minister narendra modi clean chit\n",
      "실제 요약 : modi appointed new director general nia\n",
      "예측 요약 :  ias officer appointed deputy chief secretary\n",
      "\n",
      "\n",
      "원문 : england cricket team train unique spin bowling machine known prepare indian chinaman bowler kuldeep yadav took five wickets first machine replicate bowling angle introduced ahead ashes prepare spin legend shane warne kuldeep taken wickets last three\n",
      "실제 요약 : england turn bowling machine counter kuldeep\n",
      "예측 요약 :  video jadeja launches first ball\n",
      "\n",
      "\n",
      "원문 : air india flight allowed take chicago airport missing seat belt tags reports said flight stopped federal aviation administration surprise check delayed eight hours around passenger crew seats declared due lack technical standard order tags\n",
      "실제 요약 : air india flight denied take missing seat belt tags\n",
      "예측 요약 :  air india flight makes ai crew\n",
      "\n",
      "\n",
      "원문 : arjun rampal talking rumours brawl fans selfie said would fight someone asking selfie arjun added always respected fans love said celebrities always oblige fans asking selfies autographs\n",
      "실제 요약 : would fight someone asking selfie arjun\n",
      "예측 요약 :  fan asked marry fan asks fans\n",
      "\n",
      "\n",
      "원문 : bjp tuesday tweeted news report claimed local municipality karnataka removed hoarding cartoon congress president rahul gandhi bjp wrote always thought loved cartoons seems angry one cartoon showed gandhi hiding behind cm siddaramaiah escape pm narendra modi\n",
      "실제 요약 : thought loved cartoon bjp removal hoarding\n",
      "예측 요약 :  rahul tweets user calling bjp\n",
      "\n",
      "\n",
      "원문 : anil kumble chat microsoft ceo satya nadella took dig referred headmaster coaching india kumble attributed approach disciplined upbringing got headmaster tag self belief comes values grandfather headmaster term kept coming back later life added\n",
      "실제 요약 : anil kumble takes dig called headmaster coach\n",
      "예측 요약 :  microsoft ceo steve jobs twitter ceo\n",
      "\n",
      "\n",
      "원문 : supreme court lawyer sharan appointed assist examining pil seeking mahatma gandhi assassination rejected need reopen case said evidence gandhi killed anybody nathuram godse pil claimed mystery person responsible gandhi assassination\n",
      "실제 요약 : mystery person mahatma gandhi assassination sc probe\n",
      "예측 요약 :  rajiv gandhi rajiv gandhi murder convicts\n",
      "\n",
      "\n",
      "원문 : singer songwriter ed sheeran revealed reason took year long break music industry due struggles substance abuse sheeran said people read found slipping added wake call cannot write songs influence\n",
      "실제 요약 : found abuse reveals sheeran\n",
      "예측 요약 :  never thought music music actor\n",
      "\n",
      "\n",
      "원문 : niti aayog ceo amitabh kant said india needs improve human development index achieve growth around kant said growth possible infant maternal mortality rates high one three children notably india slipped one place rank st among countries\n",
      "실제 요약 : growth possible without improving niti aayog ceo\n",
      "예측 요약 :  niti aayog vc niti aayog vc india niti\n",
      "\n",
      "\n",
      "원문 : harbhajan singh rubbished ex australia cricketer andrew symonds claims broke crying apologising scandal happen broke harbhajan tweeted symonds accused harbhajan racially abusing sydney test claimed harbhajan apologised playing mumbai indians\n",
      "실제 요약 : break harbhajan denies apologising\n",
      "예측 요약 :  ex eng captain reveals clarke reveals\n",
      "\n",
      "\n",
      "원문 : india largest telecom operator airtel tuesday posted fall profit crore march quarter sunil mittal led company revenue also fell crore average revenue per user fell seventh consecutive quarter revenues adversely impacted due artificially suppressed pricing industry airtel said\n",
      "실제 요약 : airtel profit falls march quarter crore\n",
      "예측 요약 :  airtel profit rises crore june quarter\n",
      "\n",
      "\n",
      "원문 : mahindra racing finished third spot points best ever season fia formula championship mahindra racing finished sixth position last season notably renault dams championship points audi sport finished second spot points\n",
      "실제 요약 : mahindra racing finish rd best ever formula season\n",
      "예측 요약 :  cristiano ronaldo anand wins th season\n",
      "\n",
      "\n",
      "원문 : indian captain virat kohli dedicated indian team victory england trent bridge test victims floods kerala tough time bit kohli said adjudged man match post match presentation nearly people lost lives due floods kerala\n",
      "실제 요약 : kohli dedicates bridge test win kerala flood victims\n",
      "예측 요약 :  kohli praises kerala open fire\n",
      "\n",
      "\n",
      "원문 : year old woman born without uterus vagina underwent reconstruction surgery kerala hospital three months ago declared successful woman condition discovered age failed get periods doctors said patient lead healthy sexual life conceive surrogacy treatments\n",
      "실제 요약 : kerala lady without undergoes successful\n",
      "예측 요약 :  woman loses surgery hospital\n",
      "\n",
      "\n",
      "원문 : new pictures actress priyanka chopra american singer nick jonas christian wedding ceremony shared online christian wedding followed hindu wedding ceremony jodhpur umaid bhawan palace following wedding priyanka nick hosted reception delhi taj palace hotel tuesday reportedly host another reception mumbai\n",
      "실제 요약 : pics priyanka chopra nick jonas christian wedding ceremony\n",
      "예측 요약 :  priyanka nick wedding wedding ceremony\n",
      "\n",
      "\n",
      "원문 : international monetary fund tuesday lowered india growth projection earlier fiscal owing high crude oil prices tight monetary policy regime international body lowered growth projection next fiscal however india still remains world fastest growing country among major economies\n",
      "실제 요약 : imf cuts india growth forecast fy\n",
      "예측 요약 :  india retail deficit fy fy\n",
      "\n",
      "\n",
      "원문 : many private members bills introduced lok sabha friday including one constitute board protection control stray cows among others congress member came bill establishing two time zones country systematic administration another bill tabled sought probation violent online games\n",
      "실제 요약 : private members bills introduced lok sabha\n"
     ]
    },
    {
     "name": "stdout",
     "output_type": "stream",
     "text": [
      "예측 요약 :  centre approves lakh courts set cow\n",
      "\n",
      "\n",
      "원문 : india today conclave east tripura cm biplab deb said update national register citizens proves successful assam centre passes law act implement nrc go deb added recently home ministry officials clarified decision taken revising nrc tripura\n",
      "실제 요약 : update nrc successful assam tripura cm\n",
      "예측 요약 :  assam nrc nrc nrc assam cm nrc\n",
      "\n",
      "\n",
      "원문 : uk mp phillips accused british pakistanis going getting wife abroad disabled sons lots cases people pakistani bangladeshi communities behave towards women said british pakistani bangladeshi community certainly issues women roles family society added\n",
      "실제 요약 : british pakistanis import wives disabled sons uk mp\n",
      "예측 요약 :  pakistan mp cop jailed years ago\n",
      "\n",
      "\n",
      "원문 : delhi high court fined google owned youtube lakh failing remove offensive video platform case filed involved video targeting delhi based doctor practices total amount hc said lakh paid mediation centre trial costs\n",
      "실제 요약 : delhi hc fines youtube removing offensive video\n",
      "예측 요약 :  delhi police use fake fake news\n",
      "\n",
      "\n",
      "원문 : actress shabana azmi slamming red carpet culture oscars tweeted pressure accept huge pity added watching oscar red carpet struck desperation conform set standards beauty\n",
      "실제 요약 : shabana slams red carpet oscars\n",
      "예측 요약 :  sridevi oscars\n",
      "\n",
      "\n",
      "원문 : played role shah rukh khan friend zero said shah rukh khan salman khan taking risk people like want watch pattern keep complaining work similar kind films kind statement added\n",
      "실제 요약 : people still want see salman srk zero actor\n",
      "예측 요약 :  srk rukh khan salman khan\n",
      "\n",
      "\n",
      "원문 : deepak working lulu saudi arabia riyadh fired posting misogynistic insensitive comments women facebook amid sabarimala temple row man reportedly posted derogatory comments regarding women entry temple temple opened doors women ages first time today supreme court order\n",
      "실제 요약 : indian saudi fired remarks amid sabarimala row\n",
      "예측 요약 :  saudi man arrested sharing women statue\n",
      "\n",
      "\n",
      "원문 : least three people including two teenagers killed friday plane crash landed summer camp switzerland four seat aircraft crashed region around minutes take authorities said group tourists taken ride explore region peaks witnessed plane crash ground\n",
      "실제 요약 : three killed swiss youth camp flight crash\n",
      "예측 요약 :  killed plane crash crash\n",
      "\n",
      "\n",
      "원문 : chinese president xi jinping arrived hong kong thursday mark years since territory handed back china britain ending years colonial rule july hong kong allowed remain autonomous mainland china maintains separate laws government one country two systems framework\n",
      "실제 요약 : chinese prez visits hong kong mark anniversary\n",
      "예측 요약 :  china prez xi reaches china st time years\n",
      "\n",
      "\n",
      "원문 : austria passed new law bans women wearing full face islamic veils public latest restriction country muslim population law also forbids distribution quran requires migrants austria participate integration year would take classes learn german ethics considered customary austria nn\n",
      "실제 요약 : austria bans distribution quran full face veil public\n",
      "예측 요약 :  sweden bans german chancellor amid sexual abuse\n",
      "\n",
      "\n",
      "원문 : european union court upheld decision impose million fine india lupin litigation blood pressure lowering drug european commission imposed collective fine million six global drugmakers including lupin trying prevent entry cheaper versions drug eu\n",
      "실제 요약 : eu court upholds cr fine lupin case\n",
      "예측 요약 :  drug drug regulator drug marijuana\n",
      "\n",
      "\n",
      "원문 : actor dhanush walked television interview journalist asked questions leaks controversy regarding private pictures celebrities including dhanush leaked rj singer suchitra twitter account journalist asked allegations family life stake really stupid interview said dhanush walked\n",
      "실제 요약 : dhanush walks interview questions leaks\n",
      "예측 요약 :  media slams media director false false\n",
      "\n",
      "\n",
      "원문 : referring recent mob lynching pakistani university student khan alleged blasphemy nobel laureate malala yousafzai saturday said pakistanis responsible tarnishing image islam country khan journalism student beaten shot dead mob students allegedly publishing blasphemous content online\n",
      "실제 요약 : pakistanis islam pak image malala\n",
      "예측 요약 :  pak university calls indian origin man\n",
      "\n",
      "\n",
      "원문 : comptroller auditor general said indian army stock types critical ammunition last ten days war stocks found satisfactory notably indian army required hold ammunition enough fight short intense war days\n",
      "실제 요약 : indian army run days war\n",
      "예측 요약 :  army declares lakh soldiers war\n",
      "\n",
      "\n",
      "원문 : tara actor speaking rape accused alok nath said heard nice person day evening drinks gets crazy abuses sorts things normal alok ji would never even think added said know much truth lies stories\n",
      "실제 요약 : heard alok nath drinks gets crazy actor\n",
      "예측 요약 :  one rape accused alok nath\n",
      "\n",
      "\n",
      "원문 : dravida munnetra kazhagam working president mk stalin wednesday said pm narendra modi visit father ailing dmk leader karunanidhi political humanitarian grounds dismissing reports dmk deferred anti demonetisation protests post pm modi visit stalin said black day protests cancelled eight districts state due rains\n",
      "실제 요약 : pm modi karunanidhi meet political humanitarian dmk\n",
      "예측 요약 :  dmk leader dmk stalin dmk chief karunanidhi dmk\n",
      "\n",
      "\n",
      "원문 : five year old girl allegedly raped assaulted left days died bengaluru hospital friday night child accomplice accused case taken judicial custody exact reason death ascertained obtaining post mortem report police said\n",
      "실제 요약 : five year old bengaluru girl dies sexual assault\n",
      "예측 요약 :  year old girl raped murdered delhi\n",
      "\n",
      "\n",
      "원문 : teenage footballers coach rescued thailand cave tuesday thai navy seal posted sure miracle science facebook page team trapped cave june exploring rainfall hampered rescue operations water flooded tunnels\n",
      "실제 요약 : sure miracle science thai navy seal rescue\n",
      "예측 요약 :  thailand football team trapped boys trapped cave\n",
      "\n",
      "\n",
      "원문 : toy story themed plane made first flight shanghai beijing last week aircraft coloured seats featuring toy story characters well themed flight headphones food flight part collaboration china eastern airlines shanghai disney resort\n",
      "실제 요약 : toy story themed plane makes first flight\n",
      "예측 요약 :  pilot makes flight landing\n",
      "\n",
      "\n",
      "원문 : indian origin couple mid arrested allegedly keeping polish builder slave garden shed four years uk man informed healthcare centre staff forced work exchange date food added would sleeping plastic deck chair\n",
      "실제 요약 : indian origin couple uk keep slave shed yrs arrested\n",
      "예측 요약 :  indian origin woman jailed uk uk\n",
      "\n",
      "\n",
      "원문 : barcelona forward lionel messi married childhood antonella roccuzzo ceremony hometown rosario argentina friday messi roccuzzo got married civil ceremony luxury hotel city presence guests messi first met roccuzzo moving spain aged two kept touch\n",
      "실제 요약 : lionel messi marries childhood girlfriend\n",
      "예측 요약 :  messi first time girlfriend\n",
      "\n",
      "\n",
      "원문 : sanjiv mehta ceo india largest consumer packaged goods maker hindustan unilever said amid rising local competition organisations need flexible trend across world regional companies away share close consumer speed better talent added\n",
      "실제 요약 : survive local competition one must flexible hul ceo\n",
      "예측 요약 :  tata motors issues jobs well\n",
      "\n",
      "\n",
      "원문 : delhi high court quashed election commission order disqualify aap mlas holding offices profit aap leader sharma tweeted three election commissioners immediately resign hc directed ec reconsider case stating accused mlas given opportunity present sides poll panel\n",
      "실제 요약 : election must resign aap hc verdict mlas\n",
      "예측 요약 :  aap mlas mlas profit case aap\n",
      "\n",
      "\n",
      "원문 : indian team engaged team exercises part training ahead second test south africa park centurion exercise players seen trying steal training players chasing around second test set begin january\n",
      "실제 요약 : team india team\n",
      "예측 요약 :  indian team india tour tour ireland\n",
      "\n",
      "\n",
      "원문 : ex south africa cricketer ab de villiers holds records scoring fastest fifty hundred odis de villiers slammed odi fastest ever century balls windies january innings made fastest fifty taking balls hit fastest odi balls windies world cup\n",
      "실제 요약 : ab de villiers holds records fastest odi\n",
      "예측 요약 :  jadeja scores fastest ton odi cricket st time\n",
      "\n",
      "\n",
      "원문 : pakistani actress mahira khan corrected user misspelled ranbir kapoor name trolling pictures showed smoking ranbir kapoor new york mahira wished pakistani cricketer mohammad hafeez troll commented hai koi nahin mil jab say ranveer kapoor pictures correcting mahira replied ranbir\n",
      "실제 요약 : mahira corrects user trolled smoking pics ranbir\n"
     ]
    },
    {
     "name": "stdout",
     "output_type": "stream",
     "text": [
      "예측 요약 :  ranbir mahira mahira tweet ranbir mahira\n",
      "\n",
      "\n",
      "원문 : delhi captain gautam gambhir friday became first ever batsman retired indian domestic list match gambhir smashed including boundaries kerala innings th give batsmen chance batsman gets retired retires reasons injury resume innings\n",
      "실제 요약 : gambhir retired scoring give batsmen chance\n",
      "예측 요약 :  gambhir st indian cricketer score ipl\n",
      "\n",
      "\n"
     ]
    }
   ],
   "source": [
    "for i in range(50, 100):\n",
    "    print(\"원문 :\", seq2text(encoder_input_test[i]))\n",
    "    print(\"실제 요약 :\", seq2summary(decoder_input_test[i]))\n",
    "    print(\"예측 요약 :\", decode_sequence(encoder_input_test[i].reshape(1, text_max_len)))\n",
    "    print(\"\\n\")"
   ]
  },
  {
   "cell_type": "markdown",
   "id": "e75b7ac4",
   "metadata": {},
   "source": [
    "- EarlyStopping을 적용하지 않은 경우의 출력은 non_es_output.txt파일에 기록해 두었습니다."
   ]
  },
  {
   "cell_type": "markdown",
   "id": "4e85b8a6",
   "metadata": {},
   "source": [
    "### 추출적 요약"
   ]
  },
  {
   "cell_type": "code",
   "execution_count": 44,
   "id": "3475a6b9",
   "metadata": {},
   "outputs": [
    {
     "name": "stdout",
     "output_type": "stream",
     "text": [
      "The screen is filled with green, cascading code which gives way to the title, The Matrix.\r\n",
      "\r\n",
      "A phone rings and text appears on the screen: \"Call trans opt: received. 2-19-98 13:24:18 REC: Log>\" As a conversation takes place between Trinity (Carrie-Anne Moss) and Cypher (Joe Pantoliano), two free humans, a table of random green numbers are being scanned and individual numbers selected, creating a series of digits not unlike an ordinary phone number, as if a code is being deciphered or a call is being traced.\r\n",
      "\r\n",
      "Trinity discusses some unknown person. Cypher taunts Trinity, suggesting she enjoys watching him. Trinity counters that \"Morpheus (Laurence Fishburne) says he may be 'the One',\" just as the sound of a number being selected alerts Trinity that someone may be tracing their call. She ends the call.\r\n",
      "\r\n",
      "Armed policemen move down a darkened, decrepit hallway in the Heart O' the City Hotel, their flashlight beam bouncing just ahead of them. They come to room 303, kick down the door and find a woman dressed in black, facing away from them. It's Trinity. She brings her hands up from the laptop she's working on at their command.\r\n",
      "\r\n",
      "Outside the hotel a car drives up and three agents appear in neatly pressed black suits. They are Agent Smith (Hugo Weaving), Agent Brown (Paul Goddard), and Agent Jones (Robert Taylor). Agent Smith and the presiding police lieutenant argue. Agent Smith admonishes the policeman that they were given specific orders to contact the agents first, for their\n"
     ]
    }
   ],
   "source": [
    "import requests\n",
    "from summa.summarizer import summarize\n",
    "\n",
    "text = requests.get('http://rare-technologies.com/the_matrix_synopsis.txt').text\n",
    "print(text[:1500])"
   ]
  },
  {
   "cell_type": "markdown",
   "id": "fedb29b1",
   "metadata": {},
   "source": [
    "0.005% 출력 요약"
   ]
  },
  {
   "cell_type": "code",
   "execution_count": 45,
   "id": "c891645b",
   "metadata": {},
   "outputs": [
    {
     "name": "stdout",
     "output_type": "stream",
     "text": [
      "Summary:\n",
      "Morpheus, Trinity, Neo, Apoc, Switch, Mouse and Cypher are jacked into the Matrix.\n",
      "Trinity brings the helicopter down to the floor that Morpheus is on and Neo opens fire on the three Agents.\n"
     ]
    }
   ],
   "source": [
    "print('Summary:')\n",
    "print(summarize(text, ratio=0.005))"
   ]
  },
  {
   "cell_type": "markdown",
   "id": "69c98d75",
   "metadata": {},
   "source": [
    "출력을 리스트로 요약"
   ]
  },
  {
   "cell_type": "code",
   "execution_count": 46,
   "id": "52c80ea9",
   "metadata": {},
   "outputs": [
    {
     "name": "stdout",
     "output_type": "stream",
     "text": [
      "Summary:\n",
      "['Morpheus, Trinity, Neo, Apoc, Switch, Mouse and Cypher are jacked into the Matrix.', 'Trinity brings the helicopter down to the floor that Morpheus is on and Neo opens fire on the three Agents.']\n"
     ]
    }
   ],
   "source": [
    "print('Summary:')\n",
    "print(summarize(text, ratio=0.005, split=True))"
   ]
  },
  {
   "cell_type": "markdown",
   "id": "8e540f58",
   "metadata": {},
   "source": [
    "요약문 단어 수 제한"
   ]
  },
  {
   "cell_type": "code",
   "execution_count": 47,
   "id": "9c920554",
   "metadata": {},
   "outputs": [
    {
     "name": "stdout",
     "output_type": "stream",
     "text": [
      "Summary:\n",
      "Trinity takes Neo to Morpheus.\n",
      "Morpheus, Trinity, Neo, Apoc, Switch, Mouse and Cypher are jacked into the Matrix.\n",
      "Trinity brings the helicopter down to the floor that Morpheus is on and Neo opens fire on the three Agents.\n"
     ]
    }
   ],
   "source": [
    "print('Summary:')\n",
    "print(summarize(text, words=50))"
   ]
  },
  {
   "cell_type": "code",
   "execution_count": 51,
   "id": "b17b5f5c",
   "metadata": {},
   "outputs": [
    {
     "name": "stdout",
     "output_type": "stream",
     "text": [
      "원문 : singer udit narayan son aditya released bail car rammed auto rickshaw monday police said aditya paid fine taken injured driver passenger hospital accident year old driver admitted icu head injuries passenger suffered fractured leg\n",
      "실제 요약 : narayan son given bail car auto\n",
      "예측 요약 :  father arrested car accident case delhi\n",
      "summa 요약 : \n",
      "\n",
      "\n",
      "원문 : minor rape victim fir convicted self styled godman asaram stated asaram summoned cottage naked asked oral sex describing ordeal said locked room inside started molesting started shouting threatened kill parents closed mouth\n",
      "실제 요약 : asaram naked asked oral sex rape victim fir\n",
      "예측 요약 :  rape accused maharaj rape victim\n",
      "summa 요약 : \n",
      "\n",
      "\n",
      "원문 : software firm ibm developed device called crypto anchor uses artificial intelligence optical imaging detect counterfeit goods device attached smartphone camera put item surface verify authenticity compares optical patterns unique items detect counterfeit medicine wine diamonds\n",
      "실제 요약 : ibm develops ai enabled device detect goods\n",
      "예측 요약 :  ai files patent case detect camera\n",
      "summa 요약 : \n",
      "\n",
      "\n",
      "원문 : priest rajasthan pushkar presided puja offered congress president rahul gandhi brahma temple said gandhi came offered prayers ghat also said kashmiri brahmin nehru jawaharlal nehru indira gandhi sonia gandhi offered prayers ghat recorded us added\n",
      "실제 요약 : rahul gandhi told pushkar priest\n",
      "예측 요약 :  rahul gandhi visit rahul gandhi\n",
      "summa 요약 : \n",
      "\n",
      "\n",
      "원문 : new trailer priyanka chopra upcoming hollywood debut film baywatch released priyanka seen villain victoria leeds lead cast also includes dwayne johnson zac efron alexandra drugs murder dead body beach started took tweeted priyanka sharing new trailer\n",
      "실제 요약 : new trailer priyanka hollywood debut film baywatch\n",
      "예측 요약 :  priyanka chopra star acting debut film report\n",
      "summa 요약 : \n",
      "\n",
      "\n",
      "원문 : hospital peon suspended locked tribal couple along son body mortuary nearly three hours rajasthan year old son died hospital injured falling tree mother refusing part body peon locked parents inside slept\n",
      "실제 요약 : peon locks couple son body goes sleep\n",
      "예측 요약 :  family family die mother son died\n",
      "summa 요약 : \n",
      "\n",
      "\n",
      "원문 : brazil top prosecutor tuesday charged former presidents luis da silva corruption money laundering forming first criminal charges levelled impeached breaking budgetary laws already four corruption cases silva\n",
      "실제 요약 : two former brazilian presidents charged corruption case\n",
      "예측 요약 :  ex england captain charged corruption\n",
      "summa 요약 : \n",
      "\n",
      "\n",
      "원문 : senior ips officer modi batch ips officer appointed new director general national investigation agency previously served additional director cbi also part special investigation team probed gujarat riots cases giving prime minister narendra modi clean chit\n",
      "실제 요약 : modi appointed new director general nia\n",
      "예측 요약 :  ias officer appointed deputy chief secretary\n",
      "summa 요약 : \n",
      "\n",
      "\n",
      "원문 : england cricket team train unique spin bowling machine known prepare indian chinaman bowler kuldeep yadav took five wickets first machine replicate bowling angle introduced ahead ashes prepare spin legend shane warne kuldeep taken wickets last three\n",
      "실제 요약 : england turn bowling machine counter kuldeep\n",
      "예측 요약 :  video jadeja launches first ball\n",
      "summa 요약 : \n",
      "\n",
      "\n",
      "원문 : air india flight allowed take chicago airport missing seat belt tags reports said flight stopped federal aviation administration surprise check delayed eight hours around passenger crew seats declared due lack technical standard order tags\n",
      "실제 요약 : air india flight denied take missing seat belt tags\n",
      "예측 요약 :  air india flight makes ai crew\n",
      "summa 요약 : \n",
      "\n",
      "\n",
      "원문 : arjun rampal talking rumours brawl fans selfie said would fight someone asking selfie arjun added always respected fans love said celebrities always oblige fans asking selfies autographs\n",
      "실제 요약 : would fight someone asking selfie arjun\n",
      "예측 요약 :  fan asked marry fan asks fans\n",
      "summa 요약 : \n",
      "\n",
      "\n",
      "원문 : bjp tuesday tweeted news report claimed local municipality karnataka removed hoarding cartoon congress president rahul gandhi bjp wrote always thought loved cartoons seems angry one cartoon showed gandhi hiding behind cm siddaramaiah escape pm narendra modi\n",
      "실제 요약 : thought loved cartoon bjp removal hoarding\n",
      "예측 요약 :  rahul tweets user calling bjp\n",
      "summa 요약 : \n",
      "\n",
      "\n",
      "원문 : anil kumble chat microsoft ceo satya nadella took dig referred headmaster coaching india kumble attributed approach disciplined upbringing got headmaster tag self belief comes values grandfather headmaster term kept coming back later life added\n",
      "실제 요약 : anil kumble takes dig called headmaster coach\n",
      "예측 요약 :  microsoft ceo steve jobs twitter ceo\n",
      "summa 요약 : \n",
      "\n",
      "\n",
      "원문 : supreme court lawyer sharan appointed assist examining pil seeking mahatma gandhi assassination rejected need reopen case said evidence gandhi killed anybody nathuram godse pil claimed mystery person responsible gandhi assassination\n",
      "실제 요약 : mystery person mahatma gandhi assassination sc probe\n",
      "예측 요약 :  rajiv gandhi rajiv gandhi murder convicts\n",
      "summa 요약 : \n",
      "\n",
      "\n",
      "원문 : singer songwriter ed sheeran revealed reason took year long break music industry due struggles substance abuse sheeran said people read found slipping added wake call cannot write songs influence\n",
      "실제 요약 : found abuse reveals sheeran\n",
      "예측 요약 :  never thought music music actor\n",
      "summa 요약 : \n",
      "\n",
      "\n",
      "원문 : niti aayog ceo amitabh kant said india needs improve human development index achieve growth around kant said growth possible infant maternal mortality rates high one three children notably india slipped one place rank st among countries\n",
      "실제 요약 : growth possible without improving niti aayog ceo\n",
      "예측 요약 :  niti aayog vc niti aayog vc india niti\n",
      "summa 요약 : \n",
      "\n",
      "\n",
      "원문 : harbhajan singh rubbished ex australia cricketer andrew symonds claims broke crying apologising scandal happen broke harbhajan tweeted symonds accused harbhajan racially abusing sydney test claimed harbhajan apologised playing mumbai indians\n",
      "실제 요약 : break harbhajan denies apologising\n",
      "예측 요약 :  ex eng captain reveals clarke reveals\n",
      "summa 요약 : \n",
      "\n",
      "\n",
      "원문 : india largest telecom operator airtel tuesday posted fall profit crore march quarter sunil mittal led company revenue also fell crore average revenue per user fell seventh consecutive quarter revenues adversely impacted due artificially suppressed pricing industry airtel said\n",
      "실제 요약 : airtel profit falls march quarter crore\n",
      "예측 요약 :  airtel profit rises crore june quarter\n",
      "summa 요약 : \n",
      "\n",
      "\n",
      "원문 : mahindra racing finished third spot points best ever season fia formula championship mahindra racing finished sixth position last season notably renault dams championship points audi sport finished second spot points\n",
      "실제 요약 : mahindra racing finish rd best ever formula season\n",
      "예측 요약 :  cristiano ronaldo anand wins th season\n",
      "summa 요약 : \n",
      "\n",
      "\n",
      "원문 : indian captain virat kohli dedicated indian team victory england trent bridge test victims floods kerala tough time bit kohli said adjudged man match post match presentation nearly people lost lives due floods kerala\n",
      "실제 요약 : kohli dedicates bridge test win kerala flood victims\n",
      "예측 요약 :  kohli praises kerala open fire\n",
      "summa 요약 : \n",
      "\n",
      "\n",
      "원문 : year old woman born without uterus vagina underwent reconstruction surgery kerala hospital three months ago declared successful woman condition discovered age failed get periods doctors said patient lead healthy sexual life conceive surrogacy treatments\n",
      "실제 요약 : kerala lady without undergoes successful\n",
      "예측 요약 :  woman loses surgery hospital\n",
      "summa 요약 : \n",
      "\n",
      "\n",
      "원문 : new pictures actress priyanka chopra american singer nick jonas christian wedding ceremony shared online christian wedding followed hindu wedding ceremony jodhpur umaid bhawan palace following wedding priyanka nick hosted reception delhi taj palace hotel tuesday reportedly host another reception mumbai\n",
      "실제 요약 : pics priyanka chopra nick jonas christian wedding ceremony\n",
      "예측 요약 :  priyanka nick wedding wedding ceremony\n",
      "summa 요약 : \n",
      "\n",
      "\n",
      "원문 : international monetary fund tuesday lowered india growth projection earlier fiscal owing high crude oil prices tight monetary policy regime international body lowered growth projection next fiscal however india still remains world fastest growing country among major economies\n",
      "실제 요약 : imf cuts india growth forecast fy\n",
      "예측 요약 :  india retail deficit fy fy\n",
      "summa 요약 : \n",
      "\n",
      "\n",
      "원문 : many private members bills introduced lok sabha friday including one constitute board protection control stray cows among others congress member came bill establishing two time zones country systematic administration another bill tabled sought probation violent online games\n",
      "실제 요약 : private members bills introduced lok sabha\n"
     ]
    },
    {
     "name": "stdout",
     "output_type": "stream",
     "text": [
      "예측 요약 :  centre approves lakh courts set cow\n",
      "summa 요약 : \n",
      "\n",
      "\n",
      "원문 : india today conclave east tripura cm biplab deb said update national register citizens proves successful assam centre passes law act implement nrc go deb added recently home ministry officials clarified decision taken revising nrc tripura\n",
      "실제 요약 : update nrc successful assam tripura cm\n",
      "예측 요약 :  assam nrc nrc nrc assam cm nrc\n",
      "summa 요약 : \n",
      "\n",
      "\n",
      "원문 : uk mp phillips accused british pakistanis going getting wife abroad disabled sons lots cases people pakistani bangladeshi communities behave towards women said british pakistani bangladeshi community certainly issues women roles family society added\n",
      "실제 요약 : british pakistanis import wives disabled sons uk mp\n",
      "예측 요약 :  pakistan mp cop jailed years ago\n",
      "summa 요약 : \n",
      "\n",
      "\n",
      "원문 : delhi high court fined google owned youtube lakh failing remove offensive video platform case filed involved video targeting delhi based doctor practices total amount hc said lakh paid mediation centre trial costs\n",
      "실제 요약 : delhi hc fines youtube removing offensive video\n",
      "예측 요약 :  delhi police use fake fake news\n",
      "summa 요약 : \n",
      "\n",
      "\n",
      "원문 : actress shabana azmi slamming red carpet culture oscars tweeted pressure accept huge pity added watching oscar red carpet struck desperation conform set standards beauty\n",
      "실제 요약 : shabana slams red carpet oscars\n",
      "예측 요약 :  sridevi oscars\n",
      "summa 요약 : \n",
      "\n",
      "\n",
      "원문 : played role shah rukh khan friend zero said shah rukh khan salman khan taking risk people like want watch pattern keep complaining work similar kind films kind statement added\n",
      "실제 요약 : people still want see salman srk zero actor\n",
      "예측 요약 :  srk rukh khan salman khan\n",
      "summa 요약 : \n",
      "\n",
      "\n",
      "원문 : deepak working lulu saudi arabia riyadh fired posting misogynistic insensitive comments women facebook amid sabarimala temple row man reportedly posted derogatory comments regarding women entry temple temple opened doors women ages first time today supreme court order\n",
      "실제 요약 : indian saudi fired remarks amid sabarimala row\n",
      "예측 요약 :  saudi man arrested sharing women statue\n",
      "summa 요약 : \n",
      "\n",
      "\n",
      "원문 : least three people including two teenagers killed friday plane crash landed summer camp switzerland four seat aircraft crashed region around minutes take authorities said group tourists taken ride explore region peaks witnessed plane crash ground\n",
      "실제 요약 : three killed swiss youth camp flight crash\n",
      "예측 요약 :  killed plane crash crash\n",
      "summa 요약 : \n",
      "\n",
      "\n",
      "원문 : chinese president xi jinping arrived hong kong thursday mark years since territory handed back china britain ending years colonial rule july hong kong allowed remain autonomous mainland china maintains separate laws government one country two systems framework\n",
      "실제 요약 : chinese prez visits hong kong mark anniversary\n",
      "예측 요약 :  china prez xi reaches china st time years\n",
      "summa 요약 : \n",
      "\n",
      "\n",
      "원문 : austria passed new law bans women wearing full face islamic veils public latest restriction country muslim population law also forbids distribution quran requires migrants austria participate integration year would take classes learn german ethics considered customary austria nn\n",
      "실제 요약 : austria bans distribution quran full face veil public\n",
      "예측 요약 :  sweden bans german chancellor amid sexual abuse\n",
      "summa 요약 : \n",
      "\n",
      "\n",
      "원문 : european union court upheld decision impose million fine india lupin litigation blood pressure lowering drug european commission imposed collective fine million six global drugmakers including lupin trying prevent entry cheaper versions drug eu\n",
      "실제 요약 : eu court upholds cr fine lupin case\n",
      "예측 요약 :  drug drug regulator drug marijuana\n",
      "summa 요약 : \n",
      "\n",
      "\n",
      "원문 : actor dhanush walked television interview journalist asked questions leaks controversy regarding private pictures celebrities including dhanush leaked rj singer suchitra twitter account journalist asked allegations family life stake really stupid interview said dhanush walked\n",
      "실제 요약 : dhanush walks interview questions leaks\n",
      "예측 요약 :  media slams media director false false\n",
      "summa 요약 : \n",
      "\n",
      "\n",
      "원문 : referring recent mob lynching pakistani university student khan alleged blasphemy nobel laureate malala yousafzai saturday said pakistanis responsible tarnishing image islam country khan journalism student beaten shot dead mob students allegedly publishing blasphemous content online\n",
      "실제 요약 : pakistanis islam pak image malala\n",
      "예측 요약 :  pak university calls indian origin man\n",
      "summa 요약 : \n",
      "\n",
      "\n",
      "원문 : comptroller auditor general said indian army stock types critical ammunition last ten days war stocks found satisfactory notably indian army required hold ammunition enough fight short intense war days\n",
      "실제 요약 : indian army run days war\n",
      "예측 요약 :  army declares lakh soldiers war\n",
      "summa 요약 : \n",
      "\n",
      "\n",
      "원문 : tara actor speaking rape accused alok nath said heard nice person day evening drinks gets crazy abuses sorts things normal alok ji would never even think added said know much truth lies stories\n",
      "실제 요약 : heard alok nath drinks gets crazy actor\n",
      "예측 요약 :  one rape accused alok nath\n",
      "summa 요약 : \n",
      "\n",
      "\n",
      "원문 : dravida munnetra kazhagam working president mk stalin wednesday said pm narendra modi visit father ailing dmk leader karunanidhi political humanitarian grounds dismissing reports dmk deferred anti demonetisation protests post pm modi visit stalin said black day protests cancelled eight districts state due rains\n",
      "실제 요약 : pm modi karunanidhi meet political humanitarian dmk\n",
      "예측 요약 :  dmk leader dmk stalin dmk chief karunanidhi dmk\n",
      "summa 요약 : \n",
      "\n",
      "\n",
      "원문 : five year old girl allegedly raped assaulted left days died bengaluru hospital friday night child accomplice accused case taken judicial custody exact reason death ascertained obtaining post mortem report police said\n",
      "실제 요약 : five year old bengaluru girl dies sexual assault\n",
      "예측 요약 :  year old girl raped murdered delhi\n",
      "summa 요약 : \n",
      "\n",
      "\n",
      "원문 : teenage footballers coach rescued thailand cave tuesday thai navy seal posted sure miracle science facebook page team trapped cave june exploring rainfall hampered rescue operations water flooded tunnels\n",
      "실제 요약 : sure miracle science thai navy seal rescue\n",
      "예측 요약 :  thailand football team trapped boys trapped cave\n",
      "summa 요약 : \n",
      "\n",
      "\n",
      "원문 : toy story themed plane made first flight shanghai beijing last week aircraft coloured seats featuring toy story characters well themed flight headphones food flight part collaboration china eastern airlines shanghai disney resort\n",
      "실제 요약 : toy story themed plane makes first flight\n",
      "예측 요약 :  pilot makes flight landing\n",
      "summa 요약 : \n",
      "\n",
      "\n",
      "원문 : indian origin couple mid arrested allegedly keeping polish builder slave garden shed four years uk man informed healthcare centre staff forced work exchange date food added would sleeping plastic deck chair\n",
      "실제 요약 : indian origin couple uk keep slave shed yrs arrested\n",
      "예측 요약 :  indian origin woman jailed uk uk\n",
      "summa 요약 : \n",
      "\n",
      "\n",
      "원문 : barcelona forward lionel messi married childhood antonella roccuzzo ceremony hometown rosario argentina friday messi roccuzzo got married civil ceremony luxury hotel city presence guests messi first met roccuzzo moving spain aged two kept touch\n",
      "실제 요약 : lionel messi marries childhood girlfriend\n",
      "예측 요약 :  messi first time girlfriend\n",
      "summa 요약 : \n",
      "\n",
      "\n",
      "원문 : sanjiv mehta ceo india largest consumer packaged goods maker hindustan unilever said amid rising local competition organisations need flexible trend across world regional companies away share close consumer speed better talent added\n",
      "실제 요약 : survive local competition one must flexible hul ceo\n",
      "예측 요약 :  tata motors issues jobs well\n",
      "summa 요약 : \n",
      "\n",
      "\n",
      "원문 : delhi high court quashed election commission order disqualify aap mlas holding offices profit aap leader sharma tweeted three election commissioners immediately resign hc directed ec reconsider case stating accused mlas given opportunity present sides poll panel\n",
      "실제 요약 : election must resign aap hc verdict mlas\n",
      "예측 요약 :  aap mlas mlas profit case aap\n",
      "summa 요약 : \n",
      "\n",
      "\n",
      "원문 : indian team engaged team exercises part training ahead second test south africa park centurion exercise players seen trying steal training players chasing around second test set begin january\n",
      "실제 요약 : team india team\n",
      "예측 요약 :  indian team india tour tour ireland\n",
      "summa 요약 : \n",
      "\n",
      "\n",
      "원문 : ex south africa cricketer ab de villiers holds records scoring fastest fifty hundred odis de villiers slammed odi fastest ever century balls windies january innings made fastest fifty taking balls hit fastest odi balls windies world cup\n",
      "실제 요약 : ab de villiers holds records fastest odi\n"
     ]
    },
    {
     "name": "stdout",
     "output_type": "stream",
     "text": [
      "예측 요약 :  jadeja scores fastest ton odi cricket st time\n",
      "summa 요약 : \n",
      "\n",
      "\n",
      "원문 : pakistani actress mahira khan corrected user misspelled ranbir kapoor name trolling pictures showed smoking ranbir kapoor new york mahira wished pakistani cricketer mohammad hafeez troll commented hai koi nahin mil jab say ranveer kapoor pictures correcting mahira replied ranbir\n",
      "실제 요약 : mahira corrects user trolled smoking pics ranbir\n",
      "예측 요약 :  ranbir mahira mahira tweet ranbir mahira\n",
      "summa 요약 : \n",
      "\n",
      "\n",
      "원문 : delhi captain gautam gambhir friday became first ever batsman retired indian domestic list match gambhir smashed including boundaries kerala innings th give batsmen chance batsman gets retired retires reasons injury resume innings\n",
      "실제 요약 : gambhir retired scoring give batsmen chance\n",
      "예측 요약 :  gambhir st indian cricketer score ipl\n",
      "summa 요약 : \n",
      "\n",
      "\n"
     ]
    }
   ],
   "source": [
    "for i in range(50, 100):\n",
    "    print(\"원문 :\", seq2text(encoder_input_test[i]))\n",
    "    print(\"실제 요약 :\", seq2summary(decoder_input_test[i]))\n",
    "    print(\"예측 요약 :\", decode_sequence(encoder_input_test[i].reshape(1, text_max_len)))\n",
    "    print(\"summa 요약 :\", summarize(seq2text(encoder_input_test[i])))\n",
    "    print(\"\\n\")"
   ]
  },
  {
   "cell_type": "markdown",
   "id": "d3418bd3",
   "metadata": {},
   "source": [
    "### 회고\n",
    "- 추상적요약 모델에서는 문법과 문맥이 비교적 자연스럽게 이어젔다. 하지만 단어들이 문장에 아예 없는 단어로 구성된 경우가 많았다.\n",
    "- 추출적요약 모델에서는 문법이 자연스럽지 않았다. 하지만 단어의 구성이 문장 내에 있는 단어로 구성되어 있었다.\n",
    "- 추상적요약 모델의 경우 약 25번째 epoch에서 매번 최적적합을 달성했다.\n",
    "- summa의 summarize는 TextRank알고리즘으로 구성되어 한문장인 경우의 요약을 제공하지 않는다.\n",
    "    - TextRank 동작방식\n",
    "        1. 텍스트를 그래프로 표현\n",
    "        2. 그래프 초기화\n",
    "        3. 유사도 계산(코사인 유사도)\n",
    "        4. 각 문장의 중요도를 반복적으로 계산하며 업데이트\n",
    "        5. 중요도에 따라 정렬\n",
    "        6. 요약문 또는 키워드 생성\n",
    "- summarize가 한문장인 경우의 요약을 제공하지 않아서 직접적인 비교는 어렵지만 표로 정리해 문법완성도와 핵심단어 포함을 비교하였다.  \n",
    "\n",
    "|    |문법완성도|핵심단어|\n",
    "|----|----------|--------|\n",
    "|추상적 요약|(father arrested car accident delhi) 문장을 생성하기 때문에 비교적 문법이 잘 지켜지고 문맥적으로도 자연스럽다.|핵심 내용을 생성해서 표현하기 때문에 문법과 문맥은 자연스럽지만 원문에 없는 단어가 다수 등장한다.|\n",
    "|추출적 요약|문법이 잘 지켜지지 않는다. 원문에서 문법의 오류가 있거나 문장에서 그대로 단어를 가저오는 방식 때문에 단어의 사용이 문법적으로 맞지 않는 경우가 많다.|문장에서 추출할 단어를 선택하므로 핵심단어가 포함될 확률이 높다.|\n",
    "\n",
    "### 추가실험 해볼것\n",
    "- 어제의 프로젝트에서 패딩이 post인지 pre인지에 따라 성능이 차이가 있었다. 실험할때 따로 준비해둔 pre로 패딩된 데이터를 활용하여 다시 훈련하고 그 결과를 지켜본다.\n",
    "- unroll옵션을 사용해 훈련속도에 유의미한 향상이 있는지 지켜본다.\n",
    "- summa의 keywords함수를 사용하면 한문장인 경우에도 핵심단어 추출을 시행할 수 있다.\n",
    "```python\n",
    "from summa import keywords  \n",
    "keywords_summary = keywords(text, words=5, split=True)  \n",
    "print(\"한 문장 요약: \", keywords_summary)\n",
    "```"
   ]
  },
  {
   "cell_type": "markdown",
   "id": "4bf5a74d",
   "metadata": {},
   "source": [
    "- 인퍼런스 단계에서 함수 코드를 추가하는 것에 대해\n",
    "    - 훈련단계와 인퍼런스단계에서의 동작이 다르기 때문에 그 구조도 달라저서 인퍼런스 단계의 모델을 훈련단계와 다르게 구성합니다.\n",
    "    - 훈련단계\n",
    "        - 훈련데이터로 정답 시퀀스를 정확히 예측하도록 동작합니다.\n",
    "        - 디코더입력으 정답 시퀀스의 이전 단어들이 사용됩니다.\n",
    "    - 추론단계\n",
    "        - 인퍼런스시에는 정답 시퀀스를 알 수 없습니다.\n",
    "        - 디코더에서 이전에 생성한 단어를 기반으로 다음 단어를 예측해야 합니다.\n",
    "            - 재귀적인 구조가 필요\n",
    "    - 인퍼런스와 훈련에서 동작이 다른것들이 몇개 있는걸로 알고있습니다. 다른것들도 찾아보는것도 좋은 공부가 될거 같습니다. (ex. batch normalize의 running var, running avg)"
   ]
  },
  {
   "cell_type": "code",
   "execution_count": null,
   "id": "7e384506",
   "metadata": {},
   "outputs": [],
   "source": []
  }
 ],
 "metadata": {
  "kernelspec": {
   "display_name": "Python 3 (ipykernel)",
   "language": "python",
   "name": "python3"
  },
  "language_info": {
   "codemirror_mode": {
    "name": "ipython",
    "version": 3
   },
   "file_extension": ".py",
   "mimetype": "text/x-python",
   "name": "python",
   "nbconvert_exporter": "python",
   "pygments_lexer": "ipython3",
   "version": "3.9.7"
  }
 },
 "nbformat": 4,
 "nbformat_minor": 5
}
