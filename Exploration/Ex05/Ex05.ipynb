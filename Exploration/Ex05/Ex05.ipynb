{
 "cells": [
  {
   "cell_type": "code",
   "execution_count": 1,
   "id": "e957a690",
   "metadata": {},
   "outputs": [
    {
     "data": {
      "text/html": [
       "<div>\n",
       "<style scoped>\n",
       "    .dataframe tbody tr th:only-of-type {\n",
       "        vertical-align: middle;\n",
       "    }\n",
       "\n",
       "    .dataframe tbody tr th {\n",
       "        vertical-align: top;\n",
       "    }\n",
       "\n",
       "    .dataframe thead th {\n",
       "        text-align: right;\n",
       "    }\n",
       "</style>\n",
       "<table border=\"1\" class=\"dataframe\">\n",
       "  <thead>\n",
       "    <tr style=\"text-align: right;\">\n",
       "      <th></th>\n",
       "      <th>id</th>\n",
       "      <th>document</th>\n",
       "      <th>label</th>\n",
       "    </tr>\n",
       "  </thead>\n",
       "  <tbody>\n",
       "    <tr>\n",
       "      <th>0</th>\n",
       "      <td>9976970</td>\n",
       "      <td>아 더빙.. 진짜 짜증나네요 목소리</td>\n",
       "      <td>0</td>\n",
       "    </tr>\n",
       "    <tr>\n",
       "      <th>1</th>\n",
       "      <td>3819312</td>\n",
       "      <td>흠...포스터보고 초딩영화줄....오버연기조차 가볍지 않구나</td>\n",
       "      <td>1</td>\n",
       "    </tr>\n",
       "    <tr>\n",
       "      <th>2</th>\n",
       "      <td>10265843</td>\n",
       "      <td>너무재밓었다그래서보는것을추천한다</td>\n",
       "      <td>0</td>\n",
       "    </tr>\n",
       "    <tr>\n",
       "      <th>3</th>\n",
       "      <td>9045019</td>\n",
       "      <td>교도소 이야기구먼 ..솔직히 재미는 없다..평점 조정</td>\n",
       "      <td>0</td>\n",
       "    </tr>\n",
       "    <tr>\n",
       "      <th>4</th>\n",
       "      <td>6483659</td>\n",
       "      <td>사이몬페그의 익살스런 연기가 돋보였던 영화!스파이더맨에서 늙어보이기만 했던 커스틴 ...</td>\n",
       "      <td>1</td>\n",
       "    </tr>\n",
       "  </tbody>\n",
       "</table>\n",
       "</div>"
      ],
      "text/plain": [
       "         id                                           document  label\n",
       "0   9976970                                아 더빙.. 진짜 짜증나네요 목소리      0\n",
       "1   3819312                  흠...포스터보고 초딩영화줄....오버연기조차 가볍지 않구나      1\n",
       "2  10265843                                  너무재밓었다그래서보는것을추천한다      0\n",
       "3   9045019                      교도소 이야기구먼 ..솔직히 재미는 없다..평점 조정      0\n",
       "4   6483659  사이몬페그의 익살스런 연기가 돋보였던 영화!스파이더맨에서 늙어보이기만 했던 커스틴 ...      1"
      ]
     },
     "execution_count": 1,
     "metadata": {},
     "output_type": "execute_result"
    }
   ],
   "source": [
    "import pandas\n",
    "import konlpy\n",
    "import gensim\n",
    "import pandas as pd\n",
    "import tensorflow as tf\n",
    "\n",
    "# 데이터를 읽어봅시다. \n",
    "train_data = pd.read_table('./ratings_train.txt')\n",
    "test_data = pd.read_table('./ratings_test.txt')\n",
    "\n",
    "train_data.head()"
   ]
  },
  {
   "cell_type": "code",
   "execution_count": 2,
   "id": "b25e1437",
   "metadata": {},
   "outputs": [
    {
     "name": "stdout",
     "output_type": "stream",
     "text": [
      "(150000, 3)\n",
      "(50000, 3)\n"
     ]
    }
   ],
   "source": [
    "print(train_data.shape)\n",
    "print(test_data.shape)"
   ]
  },
  {
   "cell_type": "code",
   "execution_count": 3,
   "id": "cfb92481",
   "metadata": {},
   "outputs": [],
   "source": [
    "from konlpy.tag import Mecab\n",
    "import numpy as np\n",
    "from collections import Counter\n",
    "\n",
    "tokenizer = Mecab()\n",
    "stopwords = ['의','가','이','은','들','는','좀','잘','걍','과','도','를','으로','자','에','와','한','하다']\n",
    "\n",
    "word_to_index = {}\n",
    "\n",
    "def load_data(train_data, test_data, num_words=50000):\n",
    "    train_data.drop_duplicates(subset=['document'], inplace=True)\n",
    "    train_data = train_data.dropna(how = 'any') \n",
    "    test_data.drop_duplicates(subset=['document'], inplace=True)\n",
    "    test_data = test_data.dropna(how = 'any') \n",
    "    \n",
    "    X_train = []\n",
    "    for sentence in train_data['document']:\n",
    "        temp_X = tokenizer.morphs(sentence) # 토큰화\n",
    "        temp_X = [word for word in temp_X if not word in stopwords] # 불용어 제거\n",
    "        X_train.append(temp_X)\n",
    "\n",
    "    X_test = []\n",
    "    for sentence in test_data['document']:\n",
    "        temp_X = tokenizer.morphs(sentence) # 토큰화\n",
    "        temp_X = [word for word in temp_X if not word in stopwords] # 불용어 제거\n",
    "        X_test.append(temp_X)\n",
    "    \n",
    "    words = np.concatenate(X_train).tolist()\n",
    "    counter = Counter(words)\n",
    "    counter = counter.most_common(num_words-4)\n",
    "    vocab = ['<PAD>', '<BOS>', '<UNK>', '<UNUSED>'] + [key for key, _ in counter]\n",
    "    word_to_index = {word:index for index, word in enumerate(vocab)}\n",
    "        \n",
    "    def wordlist_to_indexlist(wordlist):\n",
    "        return [word_to_index[word] if word in word_to_index else word_to_index['<PAD>'] for word in wordlist]\n",
    "        \n",
    "    X_train = list(map(wordlist_to_indexlist, X_train))\n",
    "    X_test = list(map(wordlist_to_indexlist, X_test))\n",
    "        \n",
    "    return X_train, np.array(list(train_data['label'])), X_test, np.array(list(test_data['label'])), word_to_index\n",
    "    \n",
    "X_train, y_train, X_test, y_test, word_to_index = load_data(train_data, test_data)"
   ]
  },
  {
   "cell_type": "code",
   "execution_count": 4,
   "id": "f7ea5355",
   "metadata": {},
   "outputs": [],
   "source": [
    "index_to_word = {index:word for word, index in word_to_index.items()}"
   ]
  },
  {
   "cell_type": "code",
   "execution_count": 5,
   "id": "9433f4c8",
   "metadata": {},
   "outputs": [],
   "source": [
    "# 문장 1개를 활용할 딕셔너리와 함께 주면, 단어 인덱스 리스트 벡터로 변환해 주는 함수입니다. \n",
    "# 단, 모든 문장은 <BOS>로 시작하는 것으로 합니다. \n",
    "def get_encoded_sentence(sentence, word_to_index):\n",
    "    return [word_to_index['<BOS>']]+[word_to_index[word] if word in word_to_index else word_to_index['<UNK>'] for word in sentence.split()]\n",
    "\n",
    "# 여러 개의 문장 리스트를 한꺼번에 단어 인덱스 리스트 벡터로 encode해 주는 함수입니다. \n",
    "def get_encoded_sentences(sentences, word_to_index):\n",
    "    return [get_encoded_sentence(sentence, word_to_index) for sentence in sentences]\n",
    "\n",
    "# 숫자 벡터로 encode된 문장을 원래대로 decode하는 함수입니다. \n",
    "def get_decoded_sentence(encoded_sentence, index_to_word):\n",
    "    return ' '.join(index_to_word[index] if index in index_to_word else '<UNK>' for index in encoded_sentence[1:])  #[1:]를 통해 <BOS>를 제외\n",
    "\n",
    "# 여러 개의 숫자 벡터로 encode된 문장을 한꺼번에 원래대로 decode하는 함수입니다. \n",
    "def get_decoded_sentences(encoded_sentences, index_to_word):\n",
    "    return [get_decoded_sentence(encoded_sentence, index_to_word) for encoded_sentence in encoded_sentences]"
   ]
  },
  {
   "cell_type": "code",
   "execution_count": 6,
   "id": "164dbb76",
   "metadata": {},
   "outputs": [
    {
     "name": "stdout",
     "output_type": "stream",
     "text": [
      "문장길이 평균 :  15.96940191154864\n",
      "문장길이 최대 :  116\n",
      "문장길이 표준편차 :  12.843571191092\n"
     ]
    }
   ],
   "source": [
    "total_data_text = list(X_train) + list(X_test)\n",
    "# 텍스트데이터 문장길이의 리스트를 생성한 후\n",
    "num_tokens = [len(tokens) for tokens in total_data_text]\n",
    "num_tokens = np.array(num_tokens)\n",
    "# 문장길이의 평균값, 최대값, 표준편차를 계산해 본다. \n",
    "print('문장길이 평균 : ', np.mean(num_tokens))\n",
    "print('문장길이 최대 : ', np.max(num_tokens))\n",
    "print('문장길이 표준편차 : ', np.std(num_tokens))"
   ]
  },
  {
   "cell_type": "code",
   "execution_count": 7,
   "id": "3f5722ce",
   "metadata": {},
   "outputs": [
    {
     "name": "stdout",
     "output_type": "stream",
     "text": [
      "pad_sequences maxlen :  41\n",
      "전체 문장의 93.42988343341575%가 maxlen 설정값 이내에 포함됩니다. \n"
     ]
    }
   ],
   "source": [
    "max_tokens = np.mean(num_tokens) + 2 * np.std(num_tokens)\n",
    "maxlen = int(max_tokens)\n",
    "print('pad_sequences maxlen : ', maxlen)\n",
    "print(f'전체 문장의 {np.sum(num_tokens < max_tokens) / len(num_tokens) * 100}%가 maxlen 설정값 이내에 포함됩니다. ')"
   ]
  },
  {
   "cell_type": "code",
   "execution_count": 8,
   "id": "ca297a1a",
   "metadata": {},
   "outputs": [],
   "source": [
    "X_train = tf.keras.preprocessing.sequence.pad_sequences(X_train,\n",
    "                                                        value=word_to_index[\"<PAD>\"],\n",
    "                                                        padding='pre', # 혹은 'pre'\n",
    "                                                        maxlen=maxlen)\n",
    "\n",
    "X_test = tf.keras.preprocessing.sequence.pad_sequences(X_test,\n",
    "                                                       value=word_to_index[\"<PAD>\"],\n",
    "                                                       padding='pre', # 혹은 'pre'\n",
    "                                                       maxlen=maxlen)"
   ]
  },
  {
   "cell_type": "markdown",
   "id": "badc0942",
   "metadata": {},
   "source": [
    "LSTM 모델"
   ]
  },
  {
   "cell_type": "code",
   "execution_count": 9,
   "id": "3b08800b",
   "metadata": {},
   "outputs": [
    {
     "name": "stdout",
     "output_type": "stream",
     "text": [
      "Model: \"sequential\"\n",
      "_________________________________________________________________\n",
      "Layer (type)                 Output Shape              Param #   \n",
      "=================================================================\n",
      "embedding (Embedding)        (None, None, 16)          160000    \n",
      "_________________________________________________________________\n",
      "lstm (LSTM)                  (None, 8)                 800       \n",
      "_________________________________________________________________\n",
      "dense (Dense)                (None, 8)                 72        \n",
      "_________________________________________________________________\n",
      "dense_1 (Dense)              (None, 1)                 9         \n",
      "=================================================================\n",
      "Total params: 160,881\n",
      "Trainable params: 160,881\n",
      "Non-trainable params: 0\n",
      "_________________________________________________________________\n"
     ]
    }
   ],
   "source": [
    "vocab_size = 10000    # 어휘 사전의 크기입니다(10,000개의 단어)\n",
    "word_vector_dim = 16  # 워드 벡터의 차원 수 (변경 가능한 하이퍼파라미터)\n",
    "\n",
    "lstm_model = tf.keras.Sequential()\n",
    "lstm_model.add(tf.keras.layers.Embedding(vocab_size, word_vector_dim, input_shape=(None,)))\n",
    "lstm_model.add(tf.keras.layers.LSTM(8))\n",
    "lstm_model.add(tf.keras.layers.Dense(8, activation='relu'))\n",
    "lstm_model.add(tf.keras.layers.Dense(1, activation='sigmoid'))\n",
    "\n",
    "lstm_model.summary()"
   ]
  },
  {
   "cell_type": "markdown",
   "id": "b4650267",
   "metadata": {},
   "source": [
    "Conv1D 모델"
   ]
  },
  {
   "cell_type": "code",
   "execution_count": 10,
   "id": "bc3ec298",
   "metadata": {},
   "outputs": [
    {
     "name": "stdout",
     "output_type": "stream",
     "text": [
      "Model: \"sequential_1\"\n",
      "_________________________________________________________________\n",
      "Layer (type)                 Output Shape              Param #   \n",
      "=================================================================\n",
      "embedding_1 (Embedding)      (None, None, 16)          160000    \n",
      "_________________________________________________________________\n",
      "conv1d (Conv1D)              (None, None, 16)          1808      \n",
      "_________________________________________________________________\n",
      "max_pooling1d (MaxPooling1D) (None, None, 16)          0         \n",
      "_________________________________________________________________\n",
      "conv1d_1 (Conv1D)            (None, None, 16)          1808      \n",
      "_________________________________________________________________\n",
      "global_max_pooling1d (Global (None, 16)                0         \n",
      "_________________________________________________________________\n",
      "dense_2 (Dense)              (None, 8)                 136       \n",
      "_________________________________________________________________\n",
      "dense_3 (Dense)              (None, 1)                 9         \n",
      "=================================================================\n",
      "Total params: 163,761\n",
      "Trainable params: 163,761\n",
      "Non-trainable params: 0\n",
      "_________________________________________________________________\n"
     ]
    }
   ],
   "source": [
    "conv1d_model = tf.keras.Sequential()\n",
    "conv1d_model.add(tf.keras.layers.Embedding(vocab_size, word_vector_dim, input_shape=(None,)))\n",
    "conv1d_model.add(tf.keras.layers.Conv1D(16, 7, activation='relu'))\n",
    "conv1d_model.add(tf.keras.layers.MaxPooling1D(5))\n",
    "conv1d_model.add(tf.keras.layers.Conv1D(16, 7, activation='relu'))\n",
    "conv1d_model.add(tf.keras.layers.GlobalMaxPooling1D())\n",
    "conv1d_model.add(tf.keras.layers.Dense(8, activation='relu'))\n",
    "conv1d_model.add(tf.keras.layers.Dense(1, activation='sigmoid'))\n",
    "\n",
    "conv1d_model.summary()"
   ]
  },
  {
   "cell_type": "markdown",
   "id": "81d6e419",
   "metadata": {},
   "source": [
    "GlobalMaxPooling 모델"
   ]
  },
  {
   "cell_type": "code",
   "execution_count": 11,
   "id": "a20e56df",
   "metadata": {},
   "outputs": [
    {
     "name": "stdout",
     "output_type": "stream",
     "text": [
      "Model: \"sequential_2\"\n",
      "_________________________________________________________________\n",
      "Layer (type)                 Output Shape              Param #   \n",
      "=================================================================\n",
      "embedding_2 (Embedding)      (None, None, 16)          160000    \n",
      "_________________________________________________________________\n",
      "global_max_pooling1d_1 (Glob (None, 16)                0         \n",
      "_________________________________________________________________\n",
      "dense_4 (Dense)              (None, 8)                 136       \n",
      "_________________________________________________________________\n",
      "dense_5 (Dense)              (None, 1)                 9         \n",
      "=================================================================\n",
      "Total params: 160,145\n",
      "Trainable params: 160,145\n",
      "Non-trainable params: 0\n",
      "_________________________________________________________________\n"
     ]
    }
   ],
   "source": [
    "gmaxp_model = tf.keras.Sequential()\n",
    "gmaxp_model.add(tf.keras.layers.Embedding(vocab_size, word_vector_dim, input_shape=(None,)))\n",
    "gmaxp_model.add(tf.keras.layers.GlobalMaxPooling1D())\n",
    "gmaxp_model.add(tf.keras.layers.Dense(8, activation='relu'))\n",
    "gmaxp_model.add(tf.keras.layers.Dense(1, activation='sigmoid'))\n",
    "\n",
    "gmaxp_model.summary()"
   ]
  },
  {
   "cell_type": "markdown",
   "id": "8e94c3c7",
   "metadata": {},
   "source": [
    "train, val 분리"
   ]
  },
  {
   "cell_type": "code",
   "execution_count": 12,
   "id": "8abcb091",
   "metadata": {},
   "outputs": [
    {
     "name": "stdout",
     "output_type": "stream",
     "text": [
      "(126182, 41)\n",
      "(126182,)\n",
      "(146182, 41)\n",
      "(146182,)\n",
      "(20000, 41)\n",
      "(20000,)\n"
     ]
    }
   ],
   "source": [
    "X_val = X_train[:20000]\n",
    "Y_val = y_train[:20000]\n",
    "\n",
    "partial_X_train = X_train[20000:]\n",
    "partial_Y_train = y_train[20000:]\n",
    "\n",
    "print(partial_X_train.shape)\n",
    "print(partial_Y_train.shape)\n",
    "print(X_train.shape)\n",
    "print(y_train.shape)\n",
    "print(X_val.shape)\n",
    "print(Y_val.shape)"
   ]
  },
  {
   "cell_type": "markdown",
   "id": "f8da7433",
   "metadata": {},
   "source": [
    "lstm모델 훈련 및 평가"
   ]
  },
  {
   "cell_type": "code",
   "execution_count": 13,
   "id": "d18d3129",
   "metadata": {},
   "outputs": [
    {
     "name": "stdout",
     "output_type": "stream",
     "text": [
      "Epoch 1/20\n",
      "247/247 [==============================] - 31s 7ms/step - loss: 0.5092 - accuracy: 0.7803 - val_loss: 0.3729 - val_accuracy: 0.8411\n",
      "Epoch 2/20\n",
      "247/247 [==============================] - 1s 5ms/step - loss: 0.3394 - accuracy: 0.8573 - val_loss: 0.3477 - val_accuracy: 0.8481\n",
      "Epoch 3/20\n",
      "247/247 [==============================] - 1s 5ms/step - loss: 0.3117 - accuracy: 0.8705 - val_loss: 0.3432 - val_accuracy: 0.8532\n",
      "Epoch 4/20\n",
      "247/247 [==============================] - 1s 5ms/step - loss: 0.2962 - accuracy: 0.8777 - val_loss: 0.3472 - val_accuracy: 0.8540\n",
      "Epoch 5/20\n",
      "247/247 [==============================] - 1s 5ms/step - loss: 0.2832 - accuracy: 0.8836 - val_loss: 0.3432 - val_accuracy: 0.8554\n",
      "Epoch 6/20\n",
      "247/247 [==============================] - 1s 5ms/step - loss: 0.2716 - accuracy: 0.8889 - val_loss: 0.3507 - val_accuracy: 0.8519\n",
      "Epoch 7/20\n",
      "247/247 [==============================] - 1s 5ms/step - loss: 0.2586 - accuracy: 0.8953 - val_loss: 0.3484 - val_accuracy: 0.8534\n",
      "Epoch 8/20\n",
      "247/247 [==============================] - 1s 5ms/step - loss: 0.2464 - accuracy: 0.9011 - val_loss: 0.3559 - val_accuracy: 0.8524\n",
      "Epoch 9/20\n",
      "247/247 [==============================] - 1s 5ms/step - loss: 0.2355 - accuracy: 0.9061 - val_loss: 0.3604 - val_accuracy: 0.8551\n",
      "Epoch 10/20\n",
      "247/247 [==============================] - 1s 5ms/step - loss: 0.2247 - accuracy: 0.9109 - val_loss: 0.3672 - val_accuracy: 0.8529\n",
      "Epoch 11/20\n",
      "247/247 [==============================] - 1s 5ms/step - loss: 0.2135 - accuracy: 0.9156 - val_loss: 0.3846 - val_accuracy: 0.8511\n",
      "Epoch 12/20\n",
      "247/247 [==============================] - 1s 5ms/step - loss: 0.2037 - accuracy: 0.9200 - val_loss: 0.4024 - val_accuracy: 0.8497\n",
      "Epoch 13/20\n",
      "247/247 [==============================] - 1s 5ms/step - loss: 0.1951 - accuracy: 0.9236 - val_loss: 0.4053 - val_accuracy: 0.8485\n",
      "Epoch 14/20\n",
      "247/247 [==============================] - 1s 5ms/step - loss: 0.1868 - accuracy: 0.9282 - val_loss: 0.4317 - val_accuracy: 0.8478\n",
      "Epoch 15/20\n",
      "247/247 [==============================] - 1s 5ms/step - loss: 0.1787 - accuracy: 0.9317 - val_loss: 0.4394 - val_accuracy: 0.8472\n",
      "Epoch 16/20\n",
      "247/247 [==============================] - 1s 5ms/step - loss: 0.1717 - accuracy: 0.9355 - val_loss: 0.4596 - val_accuracy: 0.8422\n",
      "Epoch 17/20\n",
      "247/247 [==============================] - 1s 5ms/step - loss: 0.1645 - accuracy: 0.9385 - val_loss: 0.4752 - val_accuracy: 0.8417\n",
      "Epoch 18/20\n",
      "247/247 [==============================] - 1s 5ms/step - loss: 0.1593 - accuracy: 0.9415 - val_loss: 0.4981 - val_accuracy: 0.8403\n",
      "Epoch 19/20\n",
      "247/247 [==============================] - 1s 5ms/step - loss: 0.1556 - accuracy: 0.9430 - val_loss: 0.5137 - val_accuracy: 0.8417\n",
      "Epoch 20/20\n",
      "247/247 [==============================] - 1s 5ms/step - loss: 0.1505 - accuracy: 0.9447 - val_loss: 0.5066 - val_accuracy: 0.8374\n",
      "1537/1537 - 3s - loss: 0.5089 - accuracy: 0.8351\n",
      "[0.508891761302948, 0.8350591063499451]\n"
     ]
    }
   ],
   "source": [
    "lstm_model.compile(optimizer='adam',\n",
    "              loss='binary_crossentropy',\n",
    "              metrics=['accuracy'])\n",
    "\n",
    "epochs=20\n",
    "\n",
    "lstm_history = lstm_model.fit(partial_X_train,\n",
    "                    partial_Y_train,\n",
    "                    epochs=epochs,\n",
    "                    batch_size=512,\n",
    "                    validation_data=(X_val, Y_val),\n",
    "                    verbose=1)\n",
    "\n",
    "lstm_results = lstm_model.evaluate(X_test,  y_test, verbose=2)\n",
    "\n",
    "print(lstm_results)"
   ]
  },
  {
   "cell_type": "markdown",
   "id": "a9ab1eba",
   "metadata": {},
   "source": [
    "conv1D모델 훈련 및 평가"
   ]
  },
  {
   "cell_type": "code",
   "execution_count": 14,
   "id": "830ba4d4",
   "metadata": {},
   "outputs": [
    {
     "name": "stdout",
     "output_type": "stream",
     "text": [
      "Epoch 1/20\n",
      "247/247 [==============================] - 17s 6ms/step - loss: 0.4803 - accuracy: 0.7620 - val_loss: 0.3512 - val_accuracy: 0.8470\n",
      "Epoch 2/20\n",
      "247/247 [==============================] - 1s 5ms/step - loss: 0.3232 - accuracy: 0.8622 - val_loss: 0.3386 - val_accuracy: 0.8534\n",
      "Epoch 3/20\n",
      "247/247 [==============================] - 1s 5ms/step - loss: 0.2887 - accuracy: 0.8802 - val_loss: 0.3391 - val_accuracy: 0.8539\n",
      "Epoch 4/20\n",
      "247/247 [==============================] - 1s 5ms/step - loss: 0.2596 - accuracy: 0.8949 - val_loss: 0.3444 - val_accuracy: 0.8525\n",
      "Epoch 5/20\n",
      "247/247 [==============================] - 1s 5ms/step - loss: 0.2286 - accuracy: 0.9110 - val_loss: 0.3611 - val_accuracy: 0.8530\n",
      "Epoch 6/20\n",
      "247/247 [==============================] - 1s 4ms/step - loss: 0.1959 - accuracy: 0.9275 - val_loss: 0.3887 - val_accuracy: 0.8454\n",
      "Epoch 7/20\n",
      "247/247 [==============================] - 1s 5ms/step - loss: 0.1641 - accuracy: 0.9419 - val_loss: 0.4249 - val_accuracy: 0.8407\n",
      "Epoch 8/20\n",
      "247/247 [==============================] - 1s 4ms/step - loss: 0.1371 - accuracy: 0.9536 - val_loss: 0.4646 - val_accuracy: 0.8371\n",
      "Epoch 9/20\n",
      "247/247 [==============================] - 1s 4ms/step - loss: 0.1135 - accuracy: 0.9634 - val_loss: 0.5086 - val_accuracy: 0.8323\n",
      "Epoch 10/20\n",
      "247/247 [==============================] - 1s 4ms/step - loss: 0.0952 - accuracy: 0.9703 - val_loss: 0.5618 - val_accuracy: 0.8290\n",
      "Epoch 11/20\n",
      "247/247 [==============================] - 1s 5ms/step - loss: 0.0817 - accuracy: 0.9757 - val_loss: 0.5944 - val_accuracy: 0.8279\n",
      "Epoch 12/20\n",
      "247/247 [==============================] - 1s 4ms/step - loss: 0.0716 - accuracy: 0.9787 - val_loss: 0.6331 - val_accuracy: 0.8277\n",
      "Epoch 13/20\n",
      "247/247 [==============================] - 1s 4ms/step - loss: 0.0633 - accuracy: 0.9818 - val_loss: 0.6770 - val_accuracy: 0.8256\n",
      "Epoch 14/20\n",
      "247/247 [==============================] - 1s 4ms/step - loss: 0.0577 - accuracy: 0.9838 - val_loss: 0.7177 - val_accuracy: 0.8233\n",
      "Epoch 15/20\n",
      "247/247 [==============================] - 1s 4ms/step - loss: 0.0525 - accuracy: 0.9848 - val_loss: 0.7654 - val_accuracy: 0.8212\n",
      "Epoch 16/20\n",
      "247/247 [==============================] - 1s 4ms/step - loss: 0.0480 - accuracy: 0.9862 - val_loss: 0.8025 - val_accuracy: 0.8206\n",
      "Epoch 17/20\n",
      "247/247 [==============================] - 1s 5ms/step - loss: 0.0458 - accuracy: 0.9863 - val_loss: 0.8283 - val_accuracy: 0.8185\n",
      "Epoch 18/20\n",
      "247/247 [==============================] - 1s 5ms/step - loss: 0.0438 - accuracy: 0.9872 - val_loss: 0.8640 - val_accuracy: 0.8178\n",
      "Epoch 19/20\n",
      "247/247 [==============================] - 1s 5ms/step - loss: 0.0423 - accuracy: 0.9874 - val_loss: 0.8898 - val_accuracy: 0.8172\n",
      "Epoch 20/20\n",
      "247/247 [==============================] - 1s 4ms/step - loss: 0.0408 - accuracy: 0.9878 - val_loss: 0.9297 - val_accuracy: 0.8137\n",
      "1537/1537 - 3s - loss: 0.9159 - accuracy: 0.8158\n",
      "[0.9159422516822815, 0.8158349990844727]\n"
     ]
    }
   ],
   "source": [
    "conv1d_model.compile(optimizer='adam',\n",
    "              loss='binary_crossentropy',\n",
    "              metrics=['accuracy'])\n",
    "\n",
    "epochs=20\n",
    "\n",
    "conv1d_history = conv1d_model.fit(partial_X_train,\n",
    "                    partial_Y_train,\n",
    "                    epochs=epochs,\n",
    "                    batch_size=512,\n",
    "                    validation_data=(X_val, Y_val),\n",
    "                    verbose=1)\n",
    "\n",
    "conv1d_results = conv1d_model.evaluate(X_test,  y_test, verbose=2)\n",
    "\n",
    "print(conv1d_results)"
   ]
  },
  {
   "cell_type": "markdown",
   "id": "6afaab87",
   "metadata": {},
   "source": [
    "global max pooling모델 훈련 및 평가"
   ]
  },
  {
   "cell_type": "code",
   "execution_count": 15,
   "id": "cf786440",
   "metadata": {},
   "outputs": [
    {
     "name": "stdout",
     "output_type": "stream",
     "text": [
      "Epoch 1/20\n",
      "247/247 [==============================] - 1s 4ms/step - loss: 0.5737 - accuracy: 0.7637 - val_loss: 0.4167 - val_accuracy: 0.8252\n",
      "Epoch 2/20\n",
      "247/247 [==============================] - 1s 3ms/step - loss: 0.3724 - accuracy: 0.8411 - val_loss: 0.3602 - val_accuracy: 0.8399\n",
      "Epoch 3/20\n",
      "247/247 [==============================] - 1s 3ms/step - loss: 0.3268 - accuracy: 0.8616 - val_loss: 0.3496 - val_accuracy: 0.8450\n",
      "Epoch 4/20\n",
      "247/247 [==============================] - 1s 3ms/step - loss: 0.3011 - accuracy: 0.8741 - val_loss: 0.3489 - val_accuracy: 0.8489\n",
      "Epoch 5/20\n",
      "247/247 [==============================] - 1s 3ms/step - loss: 0.2823 - accuracy: 0.8836 - val_loss: 0.3526 - val_accuracy: 0.8466\n",
      "Epoch 6/20\n",
      "247/247 [==============================] - 1s 3ms/step - loss: 0.2674 - accuracy: 0.8910 - val_loss: 0.3576 - val_accuracy: 0.8457\n",
      "Epoch 7/20\n",
      "247/247 [==============================] - 1s 3ms/step - loss: 0.2545 - accuracy: 0.8967 - val_loss: 0.3644 - val_accuracy: 0.8450\n",
      "Epoch 8/20\n",
      "247/247 [==============================] - 1s 3ms/step - loss: 0.2437 - accuracy: 0.9022 - val_loss: 0.3718 - val_accuracy: 0.8439\n",
      "Epoch 9/20\n",
      "247/247 [==============================] - 1s 3ms/step - loss: 0.2340 - accuracy: 0.9061 - val_loss: 0.3794 - val_accuracy: 0.8434\n",
      "Epoch 10/20\n",
      "247/247 [==============================] - 1s 3ms/step - loss: 0.2256 - accuracy: 0.9105 - val_loss: 0.3880 - val_accuracy: 0.8414\n",
      "Epoch 11/20\n",
      "247/247 [==============================] - 1s 3ms/step - loss: 0.2179 - accuracy: 0.9137 - val_loss: 0.3970 - val_accuracy: 0.8408\n",
      "Epoch 12/20\n",
      "247/247 [==============================] - 1s 3ms/step - loss: 0.2112 - accuracy: 0.9170 - val_loss: 0.4056 - val_accuracy: 0.8389\n",
      "Epoch 13/20\n",
      "247/247 [==============================] - 1s 3ms/step - loss: 0.2051 - accuracy: 0.9200 - val_loss: 0.4140 - val_accuracy: 0.8386\n",
      "Epoch 14/20\n",
      "247/247 [==============================] - 1s 3ms/step - loss: 0.1995 - accuracy: 0.9232 - val_loss: 0.4228 - val_accuracy: 0.8369\n",
      "Epoch 15/20\n",
      "247/247 [==============================] - 1s 3ms/step - loss: 0.1940 - accuracy: 0.9254 - val_loss: 0.4316 - val_accuracy: 0.8369\n",
      "Epoch 16/20\n",
      "247/247 [==============================] - 1s 3ms/step - loss: 0.1895 - accuracy: 0.9273 - val_loss: 0.4401 - val_accuracy: 0.8360\n",
      "Epoch 17/20\n",
      "247/247 [==============================] - 1s 3ms/step - loss: 0.1849 - accuracy: 0.9299 - val_loss: 0.4478 - val_accuracy: 0.8335\n",
      "Epoch 18/20\n",
      "247/247 [==============================] - 1s 3ms/step - loss: 0.1808 - accuracy: 0.9316 - val_loss: 0.4556 - val_accuracy: 0.8339\n",
      "Epoch 19/20\n",
      "247/247 [==============================] - 1s 3ms/step - loss: 0.1769 - accuracy: 0.9337 - val_loss: 0.4638 - val_accuracy: 0.8325\n",
      "Epoch 20/20\n",
      "247/247 [==============================] - 1s 3ms/step - loss: 0.1733 - accuracy: 0.9351 - val_loss: 0.4716 - val_accuracy: 0.8307\n",
      "1537/1537 - 2s - loss: 0.4935 - accuracy: 0.8269\n",
      "[0.4935249984264374, 0.8269422650337219]\n"
     ]
    }
   ],
   "source": [
    "gmaxp_model.compile(optimizer='adam',\n",
    "              loss='binary_crossentropy',\n",
    "              metrics=['accuracy'])\n",
    "\n",
    "epochs=20\n",
    "\n",
    "gmaxp_history = gmaxp_model.fit(partial_X_train,\n",
    "                    partial_Y_train,\n",
    "                    epochs=epochs,\n",
    "                    batch_size=512,\n",
    "                    validation_data=(X_val, Y_val),\n",
    "                    verbose=1)\n",
    "\n",
    "gmaxp_results = gmaxp_model.evaluate(X_test,  y_test, verbose=2)\n",
    "\n",
    "print(gmaxp_results)"
   ]
  },
  {
   "cell_type": "markdown",
   "id": "709bef0a",
   "metadata": {},
   "source": [
    "### 결과값 시각화  \n",
    "차례대로  \n",
    "LSTM의 loss&val_loss, acc&val_acc  \n",
    "Conv1D의 loss&val_loss, acc&val_acc  \n",
    "GlobalMaxPooling의 loss&val_loss, acc&val_acc  "
   ]
  },
  {
   "cell_type": "code",
   "execution_count": 16,
   "id": "055e14cb",
   "metadata": {},
   "outputs": [
    {
     "data": {
      "image/png": "[encoded data removed]",
      "text/plain": [
       "<Figure size 864x1296 with 6 Axes>"
      ]
     },
     "metadata": {
      "needs_background": "light"
     },
     "output_type": "display_data"
    }
   ],
   "source": [
    "import matplotlib.pyplot as plt\n",
    "\n",
    "lstm_dict = lstm_history.history\n",
    "conv1d_dict = conv1d_history.history\n",
    "gmaxp_dict = gmaxp_history.history\n",
    "\n",
    "l_acc = lstm_dict['accuracy']\n",
    "l_val_acc = lstm_dict['val_accuracy']\n",
    "l_loss = lstm_dict['loss']\n",
    "l_val_loss = lstm_dict['val_loss']\n",
    "\n",
    "c_acc = conv1d_dict['accuracy']\n",
    "c_val_acc = conv1d_dict['val_accuracy']\n",
    "c_loss = conv1d_dict['loss']\n",
    "c_val_loss = conv1d_dict['val_loss']\n",
    "\n",
    "g_acc = gmaxp_dict['accuracy']\n",
    "g_val_acc = gmaxp_dict['val_accuracy']\n",
    "g_loss = gmaxp_dict['loss']\n",
    "g_val_loss = gmaxp_dict['val_loss']\n",
    "\n",
    "epochs = range(1, len(l_acc) + 1)\n",
    "\n",
    "fig, axs = plt.subplots(3, 2, figsize=(12, 18))\n",
    "\n",
    "axs[0, 0].plot(epochs, l_loss, label='loss', linestyle='-', color='blue')\n",
    "axs[0, 0].plot(epochs, l_val_loss, label='val_loss', linestyle='--', color='red')\n",
    "axs[0, 0].set_title('LSTM loss & val_loss')\n",
    "axs[0, 0].legend()\n",
    "axs[0, 0].grid(True)\n",
    "\n",
    "axs[0, 1].plot(epochs, l_acc, label='acc', linestyle='-', color='green')\n",
    "axs[0, 1].plot(epochs, l_val_acc, label='val_acc', linestyle='--', color='purple')\n",
    "axs[0, 1].set_title('LSTM acc & val_acc')\n",
    "axs[0, 1].legend()\n",
    "axs[0, 1].grid(True)\n",
    "\n",
    "axs[1, 0].plot(epochs, c_loss, label='loss', linestyle='-', color='orange')\n",
    "axs[1, 0].plot(epochs, c_val_loss, label='val_loss', linestyle='--', color='brown')\n",
    "axs[1, 0].set_title('Conv1D loss & val_loss')\n",
    "axs[1, 0].legend()\n",
    "axs[1, 0].grid(True)\n",
    "\n",
    "axs[1, 1].plot(epochs, c_acc, label='acc', linestyle='-', color='blue')\n",
    "axs[1, 1].plot(epochs, c_val_acc, label='val_acc', linestyle='--', color='red')\n",
    "axs[1, 1].set_title('Conv1D acc & val_acc')\n",
    "axs[1, 1].legend()\n",
    "axs[1, 1].grid(True)\n",
    "\n",
    "axs[2, 0].plot(epochs, g_loss, label='loss', linestyle='-', color='green')\n",
    "axs[2, 0].plot(epochs, g_val_loss, label='val_loss', linestyle='--', color='purple')\n",
    "axs[2, 0].set_title('GlobalMaxPooling loss & val_loss')\n",
    "axs[2, 0].legend()\n",
    "axs[2, 0].grid(True)\n",
    "\n",
    "axs[2, 1].plot(epochs, g_acc, label='acc', linestyle='-', color='orange')\n",
    "axs[2, 1].plot(epochs, g_val_acc, label='val_acc', linestyle='--', color='brown')\n",
    "axs[2, 1].set_title('GlobalMaxPooling acc & val_acc')\n",
    "axs[2, 1].legend()\n",
    "axs[2, 1].grid(True)\n",
    "\n",
    "plt.show()"
   ]
  },
  {
   "cell_type": "markdown",
   "id": "4502a38a",
   "metadata": {},
   "source": [
    "대부분 에포크 5근방에서 과적합이 일어났다.\n",
    "- 모델의 깊이가 모자란것 같다."
   ]
  },
  {
   "cell_type": "markdown",
   "id": "9b994bf9",
   "metadata": {},
   "source": [
    "### 임베딩 벡터"
   ]
  },
  {
   "cell_type": "code",
   "execution_count": 17,
   "id": "68741531",
   "metadata": {},
   "outputs": [
    {
     "name": "stdout",
     "output_type": "stream",
     "text": [
      "(10000, 16)\n"
     ]
    }
   ],
   "source": [
    "embedding_layer = lstm_model.layers[0]\n",
    "weights = embedding_layer.get_weights()[0]\n",
    "print(weights.shape)"
   ]
  },
  {
   "cell_type": "code",
   "execution_count": 18,
   "id": "04acfc6c",
   "metadata": {},
   "outputs": [],
   "source": [
    "word2vec_file_path = './word2vec.txt'\n",
    "f = open(word2vec_file_path, 'w')\n",
    "f.write('{} {}\\n'.format(vocab_size-4, word_vector_dim))  # 몇개의 벡터를 얼마 사이즈로 기재할지 타이틀을 씁니다.\n",
    "\n",
    "# 단어 개수(에서 특수문자 4개는 제외하고)만큼의 워드 벡터를 파일에 기록합니다. \n",
    "vectors = lstm_model.get_weights()[0]\n",
    "for i in range(4,vocab_size):\n",
    "    f.write('{} {}\\n'.format(index_to_word[i], ' '.join(map(str, list(vectors[i, :])))))\n",
    "f.close()"
   ]
  },
  {
   "cell_type": "code",
   "execution_count": 19,
   "id": "438c078e",
   "metadata": {},
   "outputs": [
    {
     "data": {
      "text/plain": [
       "array([-0.01497916, -0.06604685,  0.04843125,  0.00388212, -0.00052395,\n",
       "        0.01074888,  0.07411043, -0.03607967,  0.00746106,  0.00329433,\n",
       "        0.09485079, -0.07181956, -0.09343786,  0.03197189, -0.11714429,\n",
       "       -0.09018214], dtype=float32)"
      ]
     },
     "execution_count": 19,
     "metadata": {},
     "output_type": "execute_result"
    }
   ],
   "source": [
    "from gensim.models.keyedvectors import Word2VecKeyedVectors\n",
    "\n",
    "word_vectors = Word2VecKeyedVectors.load_word2vec_format(word2vec_file_path, binary=False)\n",
    "vector = word_vectors['영화']\n",
    "vector"
   ]
  },
  {
   "cell_type": "markdown",
   "id": "7362d169",
   "metadata": {},
   "source": [
    "임베딩벡터를 활용해 유사어 찾기"
   ]
  },
  {
   "cell_type": "code",
   "execution_count": 20,
   "id": "1cc82a1e",
   "metadata": {},
   "outputs": [
    {
     "data": {
      "text/plain": [
       "[('ㅇㅋ', 0.848122239112854),\n",
       " ('습니다', 0.8259631991386414),\n",
       " ('어요', 0.8218173384666443),\n",
       " ('음', 0.8159040808677673),\n",
       " ('!', 0.8113614916801453),\n",
       " ('흥하', 0.8001246452331543),\n",
       " ('아요', 0.7771081924438477),\n",
       " ('싶', 0.776673436164856),\n",
       " ('달린다', 0.7679622769355774),\n",
       " ('네요', 0.7676928043365479)]"
      ]
     },
     "execution_count": 20,
     "metadata": {},
     "output_type": "execute_result"
    }
   ],
   "source": [
    "word_vectors.similar_by_word('영화')"
   ]
  },
  {
   "cell_type": "code",
   "execution_count": 21,
   "id": "af179a9f",
   "metadata": {},
   "outputs": [
    {
     "name": "stdout",
     "output_type": "stream",
     "text": [
      "100\n",
      "302960\n"
     ]
    }
   ],
   "source": [
    "from gensim.models.keyedvectors import Word2VecKeyedVectors\n",
    "word2vec_file_path = './word2vec_ko.model'\n",
    "word_vectors = Word2VecKeyedVectors.load(word2vec_file_path)\n",
    "\n",
    "print(word_vectors.wv.vector_size)\n",
    "print(len(word_vectors.wv.key_to_index))"
   ]
  },
  {
   "cell_type": "markdown",
   "id": "40a90328",
   "metadata": {},
   "source": [
    "데이터 전처리"
   ]
  },
  {
   "cell_type": "markdown",
   "id": "31596b5d",
   "metadata": {},
   "source": [
    "pretrained 모델을 활용해 유사어 찾기"
   ]
  },
  {
   "cell_type": "code",
   "execution_count": 22,
   "id": "7ca99a4c",
   "metadata": {},
   "outputs": [
    {
     "data": {
      "text/plain": [
       "[('드라마', 0.8418774008750916),\n",
       " ('뮤지컬', 0.7775140404701233),\n",
       " ('코미디', 0.7489107251167297),\n",
       " ('다큐멘터리', 0.7401294708251953),\n",
       " ('헐리우드', 0.7397844195365906),\n",
       " ('애니메이션', 0.7170552015304565),\n",
       " ('독립영화', 0.7113528251647949),\n",
       " ('로맨틱', 0.7107657194137573),\n",
       " ('장편', 0.7101576924324036),\n",
       " ('극영화', 0.7045413255691528)]"
      ]
     },
     "execution_count": 22,
     "metadata": {},
     "output_type": "execute_result"
    }
   ],
   "source": [
    "word_vectors.wv.similar_by_word('영화')"
   ]
  },
  {
   "cell_type": "markdown",
   "id": "c3bcd6a2",
   "metadata": {},
   "source": [
    "학습된 임베딩 벡터를 활용한 검색에서는 영화와 거리가 멀어보이는 단어들이 보이지만 pretrained모델에서는 드라마, 뮤지컬, 헐리우드 등 상식적으로 유사한 단어들이 결과값으로 출력되었다. 추가적으로 워드벡터의 차원수가 압도적으로 낮은것도 성능에 영향을 끼친것으로 보인다.(16, 100)"
   ]
  },
  {
   "cell_type": "code",
   "execution_count": 23,
   "id": "f287a915",
   "metadata": {},
   "outputs": [],
   "source": [
    "from tensorflow.keras.initializers import Constant\n",
    "vocab_size = 50000    # 어휘 사전의 크기입니다(50000개의 단어)\n",
    "word_vector_dim = 100  # 워드 벡터의 차원수\n",
    "embedding_matrix = np.random.rand(vocab_size, word_vector_dim)\n",
    "\n",
    "# embedding_matrix에 Word2Vec 워드 벡터를 단어 하나씩마다 차례차례 카피한다.\n",
    "for i in range(4,vocab_size):\n",
    "    if index_to_word[i] in word_vectors.wv:\n",
    "        embedding_matrix[i] = word_vectors.wv[index_to_word[i]]"
   ]
  },
  {
   "cell_type": "code",
   "execution_count": 24,
   "id": "96a358c9",
   "metadata": {},
   "outputs": [
    {
     "name": "stdout",
     "output_type": "stream",
     "text": [
      "Model: \"sequential_3\"\n",
      "_________________________________________________________________\n",
      "Layer (type)                 Output Shape              Param #   \n",
      "=================================================================\n",
      "embedding_3 (Embedding)      (None, 41, 100)           5000000   \n",
      "_________________________________________________________________\n",
      "lstm_1 (LSTM)                (None, 8)                 3488      \n",
      "_________________________________________________________________\n",
      "dense_6 (Dense)              (None, 8)                 72        \n",
      "_________________________________________________________________\n",
      "dense_7 (Dense)              (None, 1)                 9         \n",
      "=================================================================\n",
      "Total params: 5,003,569\n",
      "Trainable params: 5,003,569\n",
      "Non-trainable params: 0\n",
      "_________________________________________________________________\n"
     ]
    }
   ],
   "source": [
    "lstm_model = tf.keras.Sequential()\n",
    "lstm_model.add(tf.keras.layers.Embedding(vocab_size, \n",
    "                                 word_vector_dim, \n",
    "                                 embeddings_initializer=Constant(embedding_matrix),  # 카피한 임베딩을 여기서 활용\n",
    "                                 input_length=maxlen, \n",
    "                                 trainable=True))\n",
    "lstm_model.add(tf.keras.layers.LSTM(8))\n",
    "lstm_model.add(tf.keras.layers.Dense(8, activation='relu'))\n",
    "lstm_model.add(tf.keras.layers.Dense(1, activation='sigmoid'))\n",
    "\n",
    "lstm_model.summary()"
   ]
  },
  {
   "cell_type": "code",
   "execution_count": 25,
   "id": "b9ec4d46",
   "metadata": {},
   "outputs": [
    {
     "name": "stdout",
     "output_type": "stream",
     "text": [
      "Model: \"sequential_4\"\n",
      "_________________________________________________________________\n",
      "Layer (type)                 Output Shape              Param #   \n",
      "=================================================================\n",
      "embedding_4 (Embedding)      (None, 41, 100)           5000000   \n",
      "_________________________________________________________________\n",
      "conv1d_2 (Conv1D)            (None, 35, 16)            11216     \n",
      "_________________________________________________________________\n",
      "max_pooling1d_1 (MaxPooling1 (None, 7, 16)             0         \n",
      "_________________________________________________________________\n",
      "conv1d_3 (Conv1D)            (None, 1, 16)             1808      \n",
      "_________________________________________________________________\n",
      "global_max_pooling1d_2 (Glob (None, 16)                0         \n",
      "_________________________________________________________________\n",
      "dense_8 (Dense)              (None, 8)                 136       \n",
      "_________________________________________________________________\n",
      "dense_9 (Dense)              (None, 1)                 9         \n",
      "=================================================================\n",
      "Total params: 5,013,169\n",
      "Trainable params: 5,013,169\n",
      "Non-trainable params: 0\n",
      "_________________________________________________________________\n"
     ]
    }
   ],
   "source": [
    "conv1d_model = tf.keras.Sequential()\n",
    "conv1d_model.add(tf.keras.layers.Embedding(vocab_size, \n",
    "                                 word_vector_dim, \n",
    "                                 embeddings_initializer=Constant(embedding_matrix),  # 카피한 임베딩을 여기서 활용\n",
    "                                 input_length=maxlen, \n",
    "                                 trainable=True))\n",
    "conv1d_model.add(tf.keras.layers.Conv1D(16, 7, activation='relu'))\n",
    "conv1d_model.add(tf.keras.layers.MaxPooling1D(5))\n",
    "conv1d_model.add(tf.keras.layers.Conv1D(16, 7, activation='relu'))\n",
    "conv1d_model.add(tf.keras.layers.GlobalMaxPooling1D())\n",
    "conv1d_model.add(tf.keras.layers.Dense(8, activation='relu'))\n",
    "conv1d_model.add(tf.keras.layers.Dense(1, activation='sigmoid'))\n",
    "\n",
    "conv1d_model.summary()"
   ]
  },
  {
   "cell_type": "code",
   "execution_count": 26,
   "id": "4021eb4b",
   "metadata": {},
   "outputs": [
    {
     "name": "stdout",
     "output_type": "stream",
     "text": [
      "Model: \"sequential_5\"\n",
      "_________________________________________________________________\n",
      "Layer (type)                 Output Shape              Param #   \n",
      "=================================================================\n",
      "embedding_5 (Embedding)      (None, 41, 100)           5000000   \n",
      "_________________________________________________________________\n",
      "global_max_pooling1d_3 (Glob (None, 100)               0         \n",
      "_________________________________________________________________\n",
      "dense_10 (Dense)             (None, 8)                 808       \n",
      "_________________________________________________________________\n",
      "dense_11 (Dense)             (None, 1)                 9         \n",
      "=================================================================\n",
      "Total params: 5,000,817\n",
      "Trainable params: 5,000,817\n",
      "Non-trainable params: 0\n",
      "_________________________________________________________________\n"
     ]
    }
   ],
   "source": [
    "gmaxp_model = tf.keras.Sequential()\n",
    "gmaxp_model.add(tf.keras.layers.Embedding(vocab_size, \n",
    "                                 word_vector_dim, \n",
    "                                 embeddings_initializer=Constant(embedding_matrix),  # 카피한 임베딩을 여기서 활용\n",
    "                                 input_length=maxlen, \n",
    "                                 trainable=True))\n",
    "gmaxp_model.add(tf.keras.layers.GlobalMaxPooling1D())\n",
    "gmaxp_model.add(tf.keras.layers.Dense(8, activation='relu'))\n",
    "gmaxp_model.add(tf.keras.layers.Dense(1, activation='sigmoid'))\n",
    "\n",
    "gmaxp_model.summary()"
   ]
  },
  {
   "cell_type": "markdown",
   "id": "ab036ccd",
   "metadata": {},
   "source": [
    "LSTM 모델 훈련 및 평가"
   ]
  },
  {
   "cell_type": "code",
   "execution_count": 27,
   "id": "7ba6f551",
   "metadata": {},
   "outputs": [
    {
     "name": "stdout",
     "output_type": "stream",
     "text": [
      "Epoch 1/20\n",
      "247/247 [==============================] - 4s 9ms/step - loss: 0.6192 - accuracy: 0.6457 - val_loss: 0.5006 - val_accuracy: 0.7599\n",
      "Epoch 2/20\n",
      "247/247 [==============================] - 2s 7ms/step - loss: 0.4393 - accuracy: 0.7992 - val_loss: 0.4066 - val_accuracy: 0.8175\n",
      "Epoch 3/20\n",
      "247/247 [==============================] - 2s 7ms/step - loss: 0.3620 - accuracy: 0.8432 - val_loss: 0.3756 - val_accuracy: 0.8353\n",
      "Epoch 4/20\n",
      "247/247 [==============================] - 2s 7ms/step - loss: 0.3141 - accuracy: 0.8695 - val_loss: 0.3701 - val_accuracy: 0.8401\n",
      "Epoch 5/20\n",
      "247/247 [==============================] - 2s 7ms/step - loss: 0.2809 - accuracy: 0.8857 - val_loss: 0.3710 - val_accuracy: 0.8414\n",
      "Epoch 6/20\n",
      "247/247 [==============================] - 2s 7ms/step - loss: 0.2551 - accuracy: 0.8988 - val_loss: 0.3802 - val_accuracy: 0.8418\n",
      "Epoch 7/20\n",
      "247/247 [==============================] - 2s 7ms/step - loss: 0.2345 - accuracy: 0.9087 - val_loss: 0.3882 - val_accuracy: 0.8403\n",
      "Epoch 8/20\n",
      "247/247 [==============================] - 2s 7ms/step - loss: 0.2168 - accuracy: 0.9166 - val_loss: 0.4070 - val_accuracy: 0.8395\n",
      "Epoch 9/20\n",
      "247/247 [==============================] - 2s 7ms/step - loss: 0.2032 - accuracy: 0.9222 - val_loss: 0.4198 - val_accuracy: 0.8409\n",
      "Epoch 10/20\n",
      "247/247 [==============================] - 2s 7ms/step - loss: 0.1910 - accuracy: 0.9268 - val_loss: 0.4351 - val_accuracy: 0.8375\n",
      "Epoch 11/20\n",
      "247/247 [==============================] - 2s 7ms/step - loss: 0.1801 - accuracy: 0.9320 - val_loss: 0.4500 - val_accuracy: 0.8375\n",
      "Epoch 12/20\n",
      "247/247 [==============================] - 2s 7ms/step - loss: 0.1715 - accuracy: 0.9356 - val_loss: 0.4520 - val_accuracy: 0.8364\n",
      "Epoch 13/20\n",
      "247/247 [==============================] - 2s 7ms/step - loss: 0.1618 - accuracy: 0.9403 - val_loss: 0.4795 - val_accuracy: 0.8349\n",
      "Epoch 14/20\n",
      "247/247 [==============================] - 2s 7ms/step - loss: 0.1542 - accuracy: 0.9428 - val_loss: 0.4896 - val_accuracy: 0.8347\n",
      "Epoch 15/20\n",
      "247/247 [==============================] - 2s 7ms/step - loss: 0.1469 - accuracy: 0.9459 - val_loss: 0.5120 - val_accuracy: 0.8332\n",
      "Epoch 16/20\n",
      "247/247 [==============================] - 2s 7ms/step - loss: 0.1400 - accuracy: 0.9487 - val_loss: 0.5239 - val_accuracy: 0.8317\n",
      "Epoch 17/20\n",
      "247/247 [==============================] - 2s 7ms/step - loss: 0.1340 - accuracy: 0.9516 - val_loss: 0.5462 - val_accuracy: 0.8325\n",
      "Epoch 18/20\n",
      "247/247 [==============================] - 2s 7ms/step - loss: 0.1276 - accuracy: 0.9541 - val_loss: 0.5659 - val_accuracy: 0.8296\n",
      "Epoch 19/20\n",
      "247/247 [==============================] - 2s 7ms/step - loss: 0.1227 - accuracy: 0.9560 - val_loss: 0.5823 - val_accuracy: 0.8285\n",
      "Epoch 20/20\n",
      "247/247 [==============================] - 2s 7ms/step - loss: 0.1178 - accuracy: 0.9577 - val_loss: 0.5856 - val_accuracy: 0.8281\n",
      "1537/1537 - 3s - loss: 0.5664 - accuracy: 0.8281\n",
      "[0.5663966536521912, 0.8281424641609192]\n"
     ]
    }
   ],
   "source": [
    "lstm_model.compile(optimizer='adam',\n",
    "              loss='binary_crossentropy',\n",
    "              metrics=['accuracy'])\n",
    "\n",
    "epochs=20\n",
    "\n",
    "lstm_history = lstm_model.fit(partial_X_train,\n",
    "                    partial_Y_train,\n",
    "                    epochs=epochs,\n",
    "                    batch_size=512,\n",
    "                    validation_data=(X_val, Y_val),\n",
    "                    verbose=1)\n",
    "\n",
    "lstm_results = lstm_model.evaluate(X_test,  y_test, verbose=2)\n",
    "\n",
    "print(lstm_results)"
   ]
  },
  {
   "cell_type": "markdown",
   "id": "6b94f666",
   "metadata": {},
   "source": [
    "Conv1D 모델 훈련 및 평가"
   ]
  },
  {
   "cell_type": "code",
   "execution_count": 28,
   "id": "921f0cd1",
   "metadata": {},
   "outputs": [
    {
     "name": "stdout",
     "output_type": "stream",
     "text": [
      "Epoch 1/20\n",
      "247/247 [==============================] - 3s 7ms/step - loss: 0.6101 - accuracy: 0.6507 - val_loss: 0.5062 - val_accuracy: 0.7526\n",
      "Epoch 2/20\n",
      "247/247 [==============================] - 2s 6ms/step - loss: 0.4537 - accuracy: 0.7884 - val_loss: 0.4260 - val_accuracy: 0.8057\n",
      "Epoch 3/20\n",
      "247/247 [==============================] - 2s 6ms/step - loss: 0.3853 - accuracy: 0.8293 - val_loss: 0.3877 - val_accuracy: 0.8273\n",
      "Epoch 4/20\n",
      "247/247 [==============================] - 2s 7ms/step - loss: 0.3418 - accuracy: 0.8532 - val_loss: 0.3680 - val_accuracy: 0.8375\n",
      "Epoch 5/20\n",
      "247/247 [==============================] - 2s 6ms/step - loss: 0.3106 - accuracy: 0.8696 - val_loss: 0.3591 - val_accuracy: 0.8421\n",
      "Epoch 6/20\n",
      "247/247 [==============================] - 2s 6ms/step - loss: 0.2829 - accuracy: 0.8845 - val_loss: 0.3621 - val_accuracy: 0.8440\n",
      "Epoch 7/20\n",
      "247/247 [==============================] - 2s 6ms/step - loss: 0.2600 - accuracy: 0.8958 - val_loss: 0.3675 - val_accuracy: 0.8450\n",
      "Epoch 8/20\n",
      "247/247 [==============================] - 2s 6ms/step - loss: 0.2406 - accuracy: 0.9059 - val_loss: 0.3740 - val_accuracy: 0.8444\n",
      "Epoch 9/20\n",
      "247/247 [==============================] - 2s 7ms/step - loss: 0.2214 - accuracy: 0.9148 - val_loss: 0.3952 - val_accuracy: 0.8424\n",
      "Epoch 10/20\n",
      "247/247 [==============================] - 2s 7ms/step - loss: 0.2042 - accuracy: 0.9234 - val_loss: 0.3925 - val_accuracy: 0.8454\n",
      "Epoch 11/20\n",
      "247/247 [==============================] - 2s 6ms/step - loss: 0.1876 - accuracy: 0.9311 - val_loss: 0.4121 - val_accuracy: 0.8428\n",
      "Epoch 12/20\n",
      "247/247 [==============================] - 2s 7ms/step - loss: 0.1710 - accuracy: 0.9393 - val_loss: 0.4312 - val_accuracy: 0.8406\n",
      "Epoch 13/20\n",
      "247/247 [==============================] - 2s 7ms/step - loss: 0.1568 - accuracy: 0.9454 - val_loss: 0.4403 - val_accuracy: 0.8402\n",
      "Epoch 14/20\n",
      "247/247 [==============================] - 2s 6ms/step - loss: 0.1458 - accuracy: 0.9497 - val_loss: 0.4609 - val_accuracy: 0.8403\n",
      "Epoch 15/20\n",
      "247/247 [==============================] - 2s 6ms/step - loss: 0.1330 - accuracy: 0.9553 - val_loss: 0.4880 - val_accuracy: 0.8382\n",
      "Epoch 16/20\n",
      "247/247 [==============================] - 2s 7ms/step - loss: 0.1231 - accuracy: 0.9594 - val_loss: 0.5346 - val_accuracy: 0.8357\n",
      "Epoch 17/20\n",
      "247/247 [==============================] - 2s 7ms/step - loss: 0.1131 - accuracy: 0.9636 - val_loss: 0.5352 - val_accuracy: 0.8385\n",
      "Epoch 18/20\n",
      "247/247 [==============================] - 2s 7ms/step - loss: 0.1036 - accuracy: 0.9675 - val_loss: 0.5638 - val_accuracy: 0.8354\n",
      "Epoch 19/20\n",
      "247/247 [==============================] - 2s 7ms/step - loss: 0.0961 - accuracy: 0.9704 - val_loss: 0.6102 - val_accuracy: 0.8349\n",
      "Epoch 20/20\n",
      "247/247 [==============================] - 2s 6ms/step - loss: 0.0898 - accuracy: 0.9728 - val_loss: 0.6144 - val_accuracy: 0.8342\n",
      "1537/1537 - 3s - loss: 0.6332 - accuracy: 0.8283\n",
      "[0.6332365870475769, 0.8282848596572876]\n"
     ]
    }
   ],
   "source": [
    "conv1d_model.compile(optimizer='adam',\n",
    "              loss='binary_crossentropy',\n",
    "              metrics=['accuracy'])\n",
    "\n",
    "epochs=20\n",
    "\n",
    "conv1d_history = conv1d_model.fit(partial_X_train,\n",
    "                    partial_Y_train,\n",
    "                    epochs=epochs,\n",
    "                    batch_size=512,\n",
    "                    validation_data=(X_val, Y_val),\n",
    "                    verbose=1)\n",
    "\n",
    "conv1d_results = conv1d_model.evaluate(X_test,  y_test, verbose=2)\n",
    "\n",
    "print(conv1d_results)"
   ]
  },
  {
   "cell_type": "markdown",
   "id": "d268ef74",
   "metadata": {},
   "source": [
    "GlobalMaxPooling 모델 훈련 및 평가"
   ]
  },
  {
   "cell_type": "code",
   "execution_count": 29,
   "id": "eb84806d",
   "metadata": {},
   "outputs": [
    {
     "name": "stdout",
     "output_type": "stream",
     "text": [
      "Epoch 1/50\n",
      "247/247 [==============================] - 2s 6ms/step - loss: 0.9766 - accuracy: 0.5140 - val_loss: 0.7146 - val_accuracy: 0.5804\n",
      "Epoch 2/50\n",
      "247/247 [==============================] - 1s 5ms/step - loss: 0.6635 - accuracy: 0.6189 - val_loss: 0.6376 - val_accuracy: 0.6469\n",
      "Epoch 3/50\n",
      "247/247 [==============================] - 1s 5ms/step - loss: 0.6107 - accuracy: 0.6671 - val_loss: 0.6003 - val_accuracy: 0.6808\n",
      "Epoch 4/50\n",
      "247/247 [==============================] - 1s 5ms/step - loss: 0.5778 - accuracy: 0.6973 - val_loss: 0.5691 - val_accuracy: 0.7060\n",
      "Epoch 5/50\n",
      "247/247 [==============================] - 1s 5ms/step - loss: 0.5523 - accuracy: 0.7193 - val_loss: 0.5481 - val_accuracy: 0.7199\n",
      "Epoch 6/50\n",
      "247/247 [==============================] - 1s 5ms/step - loss: 0.5309 - accuracy: 0.7351 - val_loss: 0.5313 - val_accuracy: 0.7321\n",
      "Epoch 7/50\n",
      "247/247 [==============================] - 1s 5ms/step - loss: 0.5111 - accuracy: 0.7491 - val_loss: 0.5164 - val_accuracy: 0.7423\n",
      "Epoch 8/50\n",
      "247/247 [==============================] - 1s 5ms/step - loss: 0.4941 - accuracy: 0.7606 - val_loss: 0.5030 - val_accuracy: 0.7516\n",
      "Epoch 9/50\n",
      "247/247 [==============================] - 1s 5ms/step - loss: 0.4771 - accuracy: 0.7722 - val_loss: 0.4891 - val_accuracy: 0.7602\n",
      "Epoch 10/50\n",
      "247/247 [==============================] - 1s 5ms/step - loss: 0.4627 - accuracy: 0.7821 - val_loss: 0.4830 - val_accuracy: 0.7650\n",
      "Epoch 11/50\n",
      "247/247 [==============================] - 1s 5ms/step - loss: 0.4492 - accuracy: 0.7901 - val_loss: 0.4723 - val_accuracy: 0.7714\n",
      "Epoch 12/50\n",
      "247/247 [==============================] - 1s 5ms/step - loss: 0.4391 - accuracy: 0.7962 - val_loss: 0.4636 - val_accuracy: 0.7782\n",
      "Epoch 13/50\n",
      "247/247 [==============================] - 1s 5ms/step - loss: 0.4270 - accuracy: 0.8048 - val_loss: 0.4563 - val_accuracy: 0.7842\n",
      "Epoch 14/50\n",
      "247/247 [==============================] - 1s 5ms/step - loss: 0.4180 - accuracy: 0.8099 - val_loss: 0.4535 - val_accuracy: 0.7872\n",
      "Epoch 15/50\n",
      "247/247 [==============================] - 1s 5ms/step - loss: 0.4082 - accuracy: 0.8158 - val_loss: 0.4507 - val_accuracy: 0.7901\n",
      "Epoch 16/50\n",
      "247/247 [==============================] - 1s 5ms/step - loss: 0.4004 - accuracy: 0.8201 - val_loss: 0.4416 - val_accuracy: 0.7948\n",
      "Epoch 17/50\n",
      "247/247 [==============================] - 1s 5ms/step - loss: 0.3921 - accuracy: 0.8251 - val_loss: 0.4379 - val_accuracy: 0.7976\n",
      "Epoch 18/50\n",
      "247/247 [==============================] - 1s 5ms/step - loss: 0.3850 - accuracy: 0.8294 - val_loss: 0.4383 - val_accuracy: 0.7983\n",
      "Epoch 19/50\n",
      "247/247 [==============================] - 1s 5ms/step - loss: 0.3777 - accuracy: 0.8333 - val_loss: 0.4317 - val_accuracy: 0.8016\n",
      "Epoch 20/50\n",
      "247/247 [==============================] - 1s 5ms/step - loss: 0.3710 - accuracy: 0.8374 - val_loss: 0.4295 - val_accuracy: 0.8032\n",
      "Epoch 21/50\n",
      "247/247 [==============================] - 1s 5ms/step - loss: 0.3653 - accuracy: 0.8404 - val_loss: 0.4279 - val_accuracy: 0.8051\n",
      "Epoch 22/50\n",
      "247/247 [==============================] - 1s 5ms/step - loss: 0.3592 - accuracy: 0.8443 - val_loss: 0.4291 - val_accuracy: 0.8061\n",
      "Epoch 23/50\n",
      "247/247 [==============================] - 1s 5ms/step - loss: 0.3536 - accuracy: 0.8469 - val_loss: 0.4231 - val_accuracy: 0.8087\n",
      "Epoch 24/50\n",
      "247/247 [==============================] - 1s 5ms/step - loss: 0.3476 - accuracy: 0.8501 - val_loss: 0.4288 - val_accuracy: 0.8070\n",
      "Epoch 25/50\n",
      "247/247 [==============================] - 1s 5ms/step - loss: 0.3420 - accuracy: 0.8533 - val_loss: 0.4212 - val_accuracy: 0.8108\n",
      "Epoch 26/50\n",
      "247/247 [==============================] - 1s 5ms/step - loss: 0.3372 - accuracy: 0.8558 - val_loss: 0.4255 - val_accuracy: 0.8094\n",
      "Epoch 27/50\n",
      "247/247 [==============================] - 1s 5ms/step - loss: 0.3319 - accuracy: 0.8586 - val_loss: 0.4200 - val_accuracy: 0.8135\n",
      "Epoch 28/50\n",
      "247/247 [==============================] - 1s 5ms/step - loss: 0.3276 - accuracy: 0.8608 - val_loss: 0.4216 - val_accuracy: 0.8123\n",
      "Epoch 29/50\n",
      "247/247 [==============================] - 1s 5ms/step - loss: 0.3212 - accuracy: 0.8640 - val_loss: 0.4198 - val_accuracy: 0.8145\n",
      "Epoch 30/50\n",
      "247/247 [==============================] - 1s 5ms/step - loss: 0.3169 - accuracy: 0.8665 - val_loss: 0.4206 - val_accuracy: 0.8136\n",
      "Epoch 31/50\n",
      "247/247 [==============================] - 1s 5ms/step - loss: 0.3125 - accuracy: 0.8681 - val_loss: 0.4191 - val_accuracy: 0.8162\n",
      "Epoch 32/50\n",
      "247/247 [==============================] - 1s 5ms/step - loss: 0.3077 - accuracy: 0.8706 - val_loss: 0.4202 - val_accuracy: 0.8153\n",
      "Epoch 33/50\n",
      "247/247 [==============================] - 1s 5ms/step - loss: 0.3031 - accuracy: 0.8726 - val_loss: 0.4202 - val_accuracy: 0.8170\n",
      "Epoch 34/50\n",
      "247/247 [==============================] - 1s 5ms/step - loss: 0.2986 - accuracy: 0.8754 - val_loss: 0.4234 - val_accuracy: 0.8151\n",
      "Epoch 35/50\n",
      "247/247 [==============================] - 1s 5ms/step - loss: 0.2937 - accuracy: 0.8779 - val_loss: 0.4218 - val_accuracy: 0.8183\n",
      "Epoch 36/50\n",
      "247/247 [==============================] - 1s 5ms/step - loss: 0.2888 - accuracy: 0.8800 - val_loss: 0.4236 - val_accuracy: 0.8166\n",
      "Epoch 37/50\n",
      "247/247 [==============================] - 1s 5ms/step - loss: 0.2851 - accuracy: 0.8814 - val_loss: 0.4261 - val_accuracy: 0.8172\n",
      "Epoch 38/50\n",
      "247/247 [==============================] - 1s 5ms/step - loss: 0.2808 - accuracy: 0.8841 - val_loss: 0.4299 - val_accuracy: 0.8177\n",
      "Epoch 39/50\n",
      "247/247 [==============================] - 1s 5ms/step - loss: 0.2771 - accuracy: 0.8851 - val_loss: 0.4289 - val_accuracy: 0.8181\n",
      "Epoch 40/50\n",
      "247/247 [==============================] - 1s 5ms/step - loss: 0.2735 - accuracy: 0.8873 - val_loss: 0.4274 - val_accuracy: 0.8192\n",
      "Epoch 41/50\n",
      "247/247 [==============================] - 1s 5ms/step - loss: 0.2688 - accuracy: 0.8900 - val_loss: 0.4292 - val_accuracy: 0.8198\n",
      "Epoch 42/50\n",
      "247/247 [==============================] - 1s 5ms/step - loss: 0.2650 - accuracy: 0.8915 - val_loss: 0.4283 - val_accuracy: 0.8189\n",
      "Epoch 43/50\n",
      "247/247 [==============================] - 1s 5ms/step - loss: 0.2611 - accuracy: 0.8930 - val_loss: 0.4324 - val_accuracy: 0.8209\n",
      "Epoch 44/50\n",
      "247/247 [==============================] - 1s 5ms/step - loss: 0.2565 - accuracy: 0.8961 - val_loss: 0.4351 - val_accuracy: 0.8211\n",
      "Epoch 45/50\n",
      "247/247 [==============================] - 1s 5ms/step - loss: 0.2536 - accuracy: 0.8972 - val_loss: 0.4370 - val_accuracy: 0.8204\n",
      "Epoch 46/50\n",
      "247/247 [==============================] - 1s 5ms/step - loss: 0.2490 - accuracy: 0.8995 - val_loss: 0.4385 - val_accuracy: 0.8201\n",
      "Epoch 47/50\n",
      "247/247 [==============================] - 1s 5ms/step - loss: 0.2459 - accuracy: 0.9013 - val_loss: 0.4389 - val_accuracy: 0.8193\n",
      "Epoch 48/50\n",
      "247/247 [==============================] - 1s 5ms/step - loss: 0.2428 - accuracy: 0.9018 - val_loss: 0.4428 - val_accuracy: 0.8206\n",
      "Epoch 49/50\n",
      "247/247 [==============================] - 1s 5ms/step - loss: 0.2391 - accuracy: 0.9045 - val_loss: 0.4446 - val_accuracy: 0.8201\n",
      "Epoch 50/50\n",
      "247/247 [==============================] - 1s 5ms/step - loss: 0.2351 - accuracy: 0.9063 - val_loss: 0.4465 - val_accuracy: 0.8209\n",
      "1537/1537 - 2s - loss: 0.4553 - accuracy: 0.8150\n",
      "[0.4552746117115021, 0.8149805665016174]\n"
     ]
    }
   ],
   "source": [
    "gmaxp_model.compile(optimizer='adam',\n",
    "              loss='binary_crossentropy',\n",
    "              metrics=['accuracy'])\n",
    "\n",
    "epochs=50\n",
    "\n",
    "gmaxp_history = gmaxp_model.fit(partial_X_train,\n",
    "                    partial_Y_train,\n",
    "                    epochs=epochs,\n",
    "                    batch_size=512,\n",
    "                    validation_data=(X_val, Y_val),\n",
    "                    verbose=1)\n",
    "\n",
    "gmaxp_results = gmaxp_model.evaluate(X_test,  y_test, verbose=2)\n",
    "\n",
    "print(gmaxp_results)"
   ]
  },
  {
   "cell_type": "markdown",
   "id": "736feeee",
   "metadata": {},
   "source": [
    "### 결과값 시각화  \n",
    "차례대로  \n",
    "LSTM의 loss&val_loss, acc&val_acc  \n",
    "Conv1D의 loss&val_loss, acc&val_acc  \n",
    "GlobalMaxPooling의 loss&val_loss, acc&val_acc  "
   ]
  },
  {
   "cell_type": "code",
   "execution_count": 30,
   "id": "a3c15b84",
   "metadata": {},
   "outputs": [
    {
     "data": {
      "image/png": "[encoded data removed]",
      "text/plain": [
       "<Figure size 864x1296 with 6 Axes>"
      ]
     },
     "metadata": {
      "needs_background": "light"
     },
     "output_type": "display_data"
    }
   ],
   "source": [
    "import matplotlib.pyplot as plt\n",
    "\n",
    "lstm_dict = lstm_history.history\n",
    "conv1d_dict = conv1d_history.history\n",
    "gmaxp_dict = gmaxp_history.history\n",
    "\n",
    "l_acc = lstm_dict['accuracy']\n",
    "l_val_acc = lstm_dict['val_accuracy']\n",
    "l_loss = lstm_dict['loss']\n",
    "l_val_loss = lstm_dict['val_loss']\n",
    "\n",
    "c_acc = conv1d_dict['accuracy']\n",
    "c_val_acc = conv1d_dict['val_accuracy']\n",
    "c_loss = conv1d_dict['loss']\n",
    "c_val_loss = conv1d_dict['val_loss']\n",
    "\n",
    "g_acc = gmaxp_dict['accuracy']\n",
    "g_val_acc = gmaxp_dict['val_accuracy']\n",
    "g_loss = gmaxp_dict['loss']\n",
    "g_val_loss = gmaxp_dict['val_loss']\n",
    "\n",
    "epochs = range(1, len(l_acc) + 1)\n",
    "epochs_g = range(1, len(g_acc)+ 1)\n",
    "\n",
    "fig, axs = plt.subplots(3, 2, figsize=(12, 18))\n",
    "\n",
    "axs[0, 0].plot(epochs, l_loss, label='loss', linestyle='-', color='blue')\n",
    "axs[0, 0].plot(epochs, l_val_loss, label='val_loss', linestyle='--', color='red')\n",
    "axs[0, 0].set_title('LSTM loss & val_loss')\n",
    "axs[0, 0].legend()\n",
    "axs[0, 0].grid(True)\n",
    "\n",
    "axs[0, 1].plot(epochs, l_acc, label='acc', linestyle='-', color='green')\n",
    "axs[0, 1].plot(epochs, l_val_acc, label='val_acc', linestyle='--', color='purple')\n",
    "axs[0, 1].set_title('LSTM acc & val_acc')\n",
    "axs[0, 1].legend()\n",
    "axs[0, 1].grid(True)\n",
    "\n",
    "axs[1, 0].plot(epochs, c_loss, label='loss', linestyle='-', color='orange')\n",
    "axs[1, 0].plot(epochs, c_val_loss, label='val_loss', linestyle='--', color='brown')\n",
    "axs[1, 0].set_title('Conv1D loss & val_loss')\n",
    "axs[1, 0].legend()\n",
    "axs[1, 0].grid(True)\n",
    "\n",
    "axs[1, 1].plot(epochs, c_acc, label='acc', linestyle='-', color='blue')\n",
    "axs[1, 1].plot(epochs, c_val_acc, label='val_acc', linestyle='--', color='red')\n",
    "axs[1, 1].set_title('Conv1D acc & val_acc')\n",
    "axs[1, 1].legend()\n",
    "axs[1, 1].grid(True)\n",
    "\n",
    "axs[2, 0].plot(epochs_g, g_loss, label='loss', linestyle='-', color='green')\n",
    "axs[2, 0].plot(epochs_g, g_val_loss, label='val_loss', linestyle='--', color='purple')\n",
    "axs[2, 0].set_title('GlobalMaxPooling loss & val_loss')\n",
    "axs[2, 0].legend()\n",
    "axs[2, 0].grid(True)\n",
    "\n",
    "axs[2, 1].plot(epochs_g, g_acc, label='acc', linestyle='-', color='orange')\n",
    "axs[2, 1].plot(epochs_g, g_val_acc, label='val_acc', linestyle='--', color='brown')\n",
    "axs[2, 1].set_title('GlobalMaxPooling acc & val_acc')\n",
    "axs[2, 1].legend()\n",
    "axs[2, 1].grid(True)\n",
    "\n",
    "plt.show()"
   ]
  },
  {
   "cell_type": "markdown",
   "id": "2107bfe5",
   "metadata": {},
   "source": [
    "이유는 잘 모르겠으나 pretrained 임베딩을 사용해도 성능은 향상되지 않았다."
   ]
  },
  {
   "cell_type": "markdown",
   "id": "7be46a59",
   "metadata": {},
   "source": [
    "### LSTM 하이퍼파라미터 조정하여 테스트\n",
    "- 수업 종료 후 에포크를 20회 이상으로 하여 테스트해서 깃헙에 올려놓겠습니다."
   ]
  },
  {
   "cell_type": "code",
   "execution_count": 31,
   "id": "4140beea",
   "metadata": {},
   "outputs": [
    {
     "name": "stdout",
     "output_type": "stream",
     "text": [
      "WARNING:tensorflow:Layer lstm_2 will not use cuDNN kernels since it doesn't meet the criteria. It will use a generic GPU kernel as fallback when running on GPU.\n",
      "WARNING:tensorflow:Layer lstm_3 will not use cuDNN kernels since it doesn't meet the criteria. It will use a generic GPU kernel as fallback when running on GPU.\n",
      "Model: \"sequential_6\"\n",
      "_________________________________________________________________\n",
      "Layer (type)                 Output Shape              Param #   \n",
      "=================================================================\n",
      "embedding_6 (Embedding)      (None, 41, 100)           5000000   \n",
      "_________________________________________________________________\n",
      "lstm_2 (LSTM)                (None, 41, 16)            7488      \n",
      "_________________________________________________________________\n",
      "lstm_3 (LSTM)                (None, 8)                 800       \n",
      "_________________________________________________________________\n",
      "dense_12 (Dense)             (None, 8)                 72        \n",
      "_________________________________________________________________\n",
      "dense_13 (Dense)             (None, 1)                 9         \n",
      "=================================================================\n",
      "Total params: 5,008,369\n",
      "Trainable params: 5,008,369\n",
      "Non-trainable params: 0\n",
      "_________________________________________________________________\n"
     ]
    }
   ],
   "source": [
    "from tensorflow.keras.layers import Dropout\n",
    "lstm_model = tf.keras.Sequential()\n",
    "lstm_model.add(tf.keras.layers.Embedding(vocab_size, \n",
    "                                 word_vector_dim, \n",
    "                                 embeddings_initializer=Constant(embedding_matrix),  # 카피한 임베딩을 여기서 활용\n",
    "                                 input_length=maxlen, \n",
    "                                 trainable=True))\n",
    "lstm_model.add(tf.keras.layers.LSTM(16, return_sequences=True, recurrent_dropout=0.2))\n",
    "lstm_model.add(tf.keras.layers.LSTM(8, recurrent_dropout=0.2))\n",
    "lstm_model.add(tf.keras.layers.Dense(8, activation='relu'))\n",
    "lstm_model.add(tf.keras.layers.Dense(1, activation='sigmoid'))\n",
    "\n",
    "lstm_model.summary()"
   ]
  },
  {
   "cell_type": "code",
   "execution_count": 32,
   "id": "00afe77e",
   "metadata": {},
   "outputs": [
    {
     "name": "stdout",
     "output_type": "stream",
     "text": [
      "Epoch 1/30\n",
      "247/247 [==============================] - 67s 258ms/step - loss: 0.5291 - accuracy: 0.7305 - val_loss: 0.4272 - val_accuracy: 0.8051\n",
      "Epoch 2/30\n",
      "247/247 [==============================] - 64s 258ms/step - loss: 0.3876 - accuracy: 0.8302 - val_loss: 0.3740 - val_accuracy: 0.8354\n",
      "Epoch 3/30\n",
      "247/247 [==============================] - 63s 257ms/step - loss: 0.3309 - accuracy: 0.8599 - val_loss: 0.3544 - val_accuracy: 0.8442\n",
      "Epoch 4/30\n",
      "247/247 [==============================] - 63s 257ms/step - loss: 0.2920 - accuracy: 0.8807 - val_loss: 0.3649 - val_accuracy: 0.8444\n",
      "Epoch 5/30\n",
      "247/247 [==============================] - 64s 259ms/step - loss: 0.2619 - accuracy: 0.8955 - val_loss: 0.3540 - val_accuracy: 0.8524\n",
      "Epoch 6/30\n",
      "247/247 [==============================] - 63s 257ms/step - loss: 0.2369 - accuracy: 0.9074 - val_loss: 0.3638 - val_accuracy: 0.8518\n",
      "Epoch 7/30\n",
      "247/247 [==============================] - 63s 256ms/step - loss: 0.2157 - accuracy: 0.9177 - val_loss: 0.3773 - val_accuracy: 0.8507\n",
      "Epoch 8/30\n",
      "247/247 [==============================] - 63s 256ms/step - loss: 0.1990 - accuracy: 0.9246 - val_loss: 0.3940 - val_accuracy: 0.8461\n",
      "Epoch 9/30\n",
      "247/247 [==============================] - 63s 256ms/step - loss: 0.1837 - accuracy: 0.9318 - val_loss: 0.4025 - val_accuracy: 0.8489\n",
      "Epoch 10/30\n",
      "247/247 [==============================] - 63s 257ms/step - loss: 0.1716 - accuracy: 0.9370 - val_loss: 0.4241 - val_accuracy: 0.8436\n",
      "Epoch 11/30\n",
      "247/247 [==============================] - 63s 257ms/step - loss: 0.1599 - accuracy: 0.9426 - val_loss: 0.4431 - val_accuracy: 0.8441\n",
      "Epoch 12/30\n",
      "247/247 [==============================] - 63s 256ms/step - loss: 0.1495 - accuracy: 0.9464 - val_loss: 0.4490 - val_accuracy: 0.8411\n",
      "Epoch 13/30\n",
      "247/247 [==============================] - 63s 256ms/step - loss: 0.1412 - accuracy: 0.9498 - val_loss: 0.4655 - val_accuracy: 0.8442\n",
      "Epoch 14/30\n",
      "247/247 [==============================] - 63s 256ms/step - loss: 0.1328 - accuracy: 0.9533 - val_loss: 0.4855 - val_accuracy: 0.8389\n",
      "Epoch 15/30\n",
      "247/247 [==============================] - 64s 258ms/step - loss: 0.1251 - accuracy: 0.9564 - val_loss: 0.5030 - val_accuracy: 0.8382\n",
      "Epoch 16/30\n",
      "247/247 [==============================] - 63s 256ms/step - loss: 0.1189 - accuracy: 0.9592 - val_loss: 0.5221 - val_accuracy: 0.8374\n",
      "Epoch 17/30\n",
      "247/247 [==============================] - 63s 256ms/step - loss: 0.1125 - accuracy: 0.9618 - val_loss: 0.5200 - val_accuracy: 0.8383\n",
      "Epoch 18/30\n",
      "247/247 [==============================] - 63s 256ms/step - loss: 0.1078 - accuracy: 0.9635 - val_loss: 0.5355 - val_accuracy: 0.8370\n",
      "Epoch 19/30\n",
      "247/247 [==============================] - 63s 256ms/step - loss: 0.1026 - accuracy: 0.9654 - val_loss: 0.5703 - val_accuracy: 0.8370\n",
      "Epoch 20/30\n",
      "247/247 [==============================] - 63s 256ms/step - loss: 0.0979 - accuracy: 0.9674 - val_loss: 0.5731 - val_accuracy: 0.8378\n",
      "Epoch 21/30\n",
      "247/247 [==============================] - 63s 256ms/step - loss: 0.0922 - accuracy: 0.9697 - val_loss: 0.6137 - val_accuracy: 0.8342\n",
      "Epoch 22/30\n",
      "247/247 [==============================] - 63s 255ms/step - loss: 0.0884 - accuracy: 0.9709 - val_loss: 0.6109 - val_accuracy: 0.8352\n",
      "Epoch 23/30\n",
      "247/247 [==============================] - 63s 255ms/step - loss: 0.0852 - accuracy: 0.9717 - val_loss: 0.6463 - val_accuracy: 0.8329\n",
      "Epoch 24/30\n",
      "247/247 [==============================] - 63s 255ms/step - loss: 0.0814 - accuracy: 0.9736 - val_loss: 0.6322 - val_accuracy: 0.8329\n",
      "Epoch 25/30\n",
      "247/247 [==============================] - 63s 257ms/step - loss: 0.0783 - accuracy: 0.9747 - val_loss: 0.6555 - val_accuracy: 0.8320\n",
      "Epoch 26/30\n",
      "247/247 [==============================] - 63s 256ms/step - loss: 0.0763 - accuracy: 0.9754 - val_loss: 0.6730 - val_accuracy: 0.8303\n",
      "Epoch 27/30\n",
      "247/247 [==============================] - 63s 255ms/step - loss: 0.0719 - accuracy: 0.9772 - val_loss: 0.6936 - val_accuracy: 0.8314\n",
      "Epoch 28/30\n",
      "247/247 [==============================] - 63s 255ms/step - loss: 0.0696 - accuracy: 0.9781 - val_loss: 0.7396 - val_accuracy: 0.8289\n",
      "Epoch 29/30\n",
      "247/247 [==============================] - 63s 256ms/step - loss: 0.0672 - accuracy: 0.9788 - val_loss: 0.7344 - val_accuracy: 0.8311\n",
      "Epoch 30/30\n",
      "247/247 [==============================] - 63s 256ms/step - loss: 0.0655 - accuracy: 0.9794 - val_loss: 0.7313 - val_accuracy: 0.8295\n",
      "1537/1537 - 31s - loss: 0.7166 - accuracy: 0.8300\n",
      "[0.7166011929512024, 0.8299530148506165]\n"
     ]
    }
   ],
   "source": [
    "lstm_model.compile(optimizer='adam',\n",
    "              loss='binary_crossentropy',\n",
    "              metrics=['accuracy'])\n",
    "\n",
    "epochs=30\n",
    "\n",
    "lstm_history = lstm_model.fit(partial_X_train,\n",
    "                    partial_Y_train,\n",
    "                    epochs=epochs,\n",
    "                    batch_size=512,\n",
    "                    validation_data=(X_val, Y_val),\n",
    "                    verbose=1)\n",
    "\n",
    "lstm_results = lstm_model.evaluate(X_test,  y_test, verbose=2)\n",
    "\n",
    "print(lstm_results)"
   ]
  },
  {
   "cell_type": "code",
   "execution_count": 33,
   "id": "aa9d4764",
   "metadata": {},
   "outputs": [
    {
     "data": {
      "image/png": "[encoded data removed]",
      "text/plain": [
       "<Figure size 864x432 with 2 Axes>"
      ]
     },
     "metadata": {
      "needs_background": "light"
     },
     "output_type": "display_data"
    }
   ],
   "source": [
    "lstm_dict = lstm_history.history\n",
    "\n",
    "l_acc = lstm_dict['accuracy']\n",
    "l_val_acc = lstm_dict['val_accuracy']\n",
    "l_loss = lstm_dict['loss']\n",
    "l_val_loss = lstm_dict['val_loss']\n",
    "\n",
    "epochs = range(1, len(l_acc) + 1)\n",
    "\n",
    "fig, axs = plt.subplots(1, 2, figsize=(12, 6))\n",
    "\n",
    "axs[0].plot(epochs, l_loss, label='loss', linestyle='-', color='blue')\n",
    "axs[0].plot(epochs, l_val_loss, label='val_loss', linestyle='--', color='red')\n",
    "axs[0].set_title('LSTM loss & val_loss')\n",
    "axs[0].legend()\n",
    "axs[0].grid(True)\n",
    "\n",
    "axs[1].plot(epochs, l_acc, label='acc', linestyle='-', color='green')\n",
    "axs[1].plot(epochs, l_val_acc, label='val_acc', linestyle='--', color='purple')\n",
    "axs[1].set_title('LSTM acc & val_acc')\n",
    "axs[1].legend()\n",
    "axs[1].grid(True)"
   ]
  },
  {
   "cell_type": "markdown",
   "id": "230b6863",
   "metadata": {},
   "source": [
    "### 회고\n",
    "- 비록 pretrained임베딩을 사용한 모델에서는 기대하던 성능향상이 없었지만 기존 임베딩을 사용한 모델들에서 약 epochs 5회 부근에서 val_accuracy가 0.85를 넘겼다.\n",
    "- lstm에서 레이어를 추가하고 과적합을 방지하기 위해 recurrent_dropout을 추가해 실험을 진행해 보았다. 하지만 학습시간이 에포크당 1분이 넘게 걸렸다.\n",
    "- 만들어진 임베딩벡터에서는 유사 단어가 훈련을 할때마다 아예 다른것들로 채워지는 모습을 볼 수 있었다.\n",
    "- 단어수를 10000개도 해보고 30000개, 50000개도 해보았으나 큰 성능차이는 보여지지 않았다.\n",
    "\n",
    "### 보완할 점\n",
    "- 데이터셋의 문장을 봤을 때 띄워쓰기가 잘 되지않은 문장도 있었고, 구분자로 시작하는 단어도 있었다. 이것들에 대해 좀더 명확히 구분할 수 있는 알고리즘을 사용해야 한다.\n",
    "- 시간관계상 수업시간에 레이어를 수정한 lstm모델의 에포크 수를 충분히 가저가지 못했다."
   ]
  },
  {
   "cell_type": "markdown",
   "id": "a87a81a4",
   "metadata": {},
   "source": [
    "### 기존 임베딩 사용 모델 테스트"
   ]
  },
  {
   "cell_type": "code",
   "execution_count": 34,
   "id": "2e9a7fa7",
   "metadata": {},
   "outputs": [
    {
     "name": "stdout",
     "output_type": "stream",
     "text": [
      "Model: \"sequential_7\"\n",
      "_________________________________________________________________\n",
      "Layer (type)                 Output Shape              Param #   \n",
      "=================================================================\n",
      "embedding_7 (Embedding)      (None, None, 16)          160000    \n",
      "_________________________________________________________________\n",
      "lstm_4 (LSTM)                (None, 8)                 800       \n",
      "_________________________________________________________________\n",
      "dense_14 (Dense)             (None, 8)                 72        \n",
      "_________________________________________________________________\n",
      "dense_15 (Dense)             (None, 1)                 9         \n",
      "=================================================================\n",
      "Total params: 160,881\n",
      "Trainable params: 160,881\n",
      "Non-trainable params: 0\n",
      "_________________________________________________________________\n"
     ]
    }
   ],
   "source": [
    "vocab_size = 10000    # 어휘 사전의 크기입니다(10,000개의 단어)\n",
    "word_vector_dim = 16  # 워드 벡터의 차원 수 (변경 가능한 하이퍼파라미터)\n",
    "\n",
    "lstm_model = tf.keras.Sequential()\n",
    "lstm_model.add(tf.keras.layers.Embedding(vocab_size, word_vector_dim, input_shape=(None,)))\n",
    "lstm_model.add(tf.keras.layers.LSTM(8))\n",
    "lstm_model.add(tf.keras.layers.Dense(8, activation='relu'))\n",
    "lstm_model.add(tf.keras.layers.Dense(1, activation='sigmoid'))\n",
    "\n",
    "lstm_model.summary()"
   ]
  },
  {
   "cell_type": "code",
   "execution_count": 35,
   "id": "f6d23838",
   "metadata": {},
   "outputs": [
    {
     "name": "stdout",
     "output_type": "stream",
     "text": [
      "Epoch 1/20\n",
      "247/247 [==============================] - 3s 7ms/step - loss: 0.4997 - accuracy: 0.7695 - val_loss: 0.3723 - val_accuracy: 0.8436\n",
      "Epoch 2/20\n",
      "247/247 [==============================] - 1s 5ms/step - loss: 0.3455 - accuracy: 0.8551 - val_loss: 0.3484 - val_accuracy: 0.8502\n",
      "Epoch 3/20\n",
      "247/247 [==============================] - 1s 5ms/step - loss: 0.3212 - accuracy: 0.8669 - val_loss: 0.3482 - val_accuracy: 0.8489\n",
      "Epoch 4/20\n",
      "247/247 [==============================] - 1s 5ms/step - loss: 0.3110 - accuracy: 0.8720 - val_loss: 0.3499 - val_accuracy: 0.8490\n",
      "Epoch 5/20\n",
      "247/247 [==============================] - 1s 5ms/step - loss: 0.3033 - accuracy: 0.8751 - val_loss: 0.3519 - val_accuracy: 0.8515\n",
      "Epoch 6/20\n",
      "247/247 [==============================] - 1s 5ms/step - loss: 0.2973 - accuracy: 0.8790 - val_loss: 0.3513 - val_accuracy: 0.8510\n",
      "Epoch 7/20\n",
      "247/247 [==============================] - 1s 5ms/step - loss: 0.2898 - accuracy: 0.8817 - val_loss: 0.3521 - val_accuracy: 0.8499\n",
      "Epoch 8/20\n",
      "247/247 [==============================] - 1s 5ms/step - loss: 0.2816 - accuracy: 0.8855 - val_loss: 0.3501 - val_accuracy: 0.8522\n",
      "Epoch 9/20\n",
      "247/247 [==============================] - 1s 5ms/step - loss: 0.2732 - accuracy: 0.8899 - val_loss: 0.3538 - val_accuracy: 0.8489\n",
      "Epoch 10/20\n",
      "247/247 [==============================] - 1s 5ms/step - loss: 0.2623 - accuracy: 0.8965 - val_loss: 0.3557 - val_accuracy: 0.8508\n",
      "Epoch 11/20\n",
      "247/247 [==============================] - 1s 5ms/step - loss: 0.2524 - accuracy: 0.9003 - val_loss: 0.3599 - val_accuracy: 0.8502\n",
      "Epoch 12/20\n",
      "247/247 [==============================] - 1s 5ms/step - loss: 0.2418 - accuracy: 0.9057 - val_loss: 0.3675 - val_accuracy: 0.8504\n",
      "Epoch 13/20\n",
      "247/247 [==============================] - 1s 5ms/step - loss: 0.2308 - accuracy: 0.9099 - val_loss: 0.3759 - val_accuracy: 0.8499\n",
      "Epoch 14/20\n",
      "247/247 [==============================] - 1s 5ms/step - loss: 0.2210 - accuracy: 0.9146 - val_loss: 0.3807 - val_accuracy: 0.8502\n",
      "Epoch 15/20\n",
      "247/247 [==============================] - 1s 5ms/step - loss: 0.2111 - accuracy: 0.9184 - val_loss: 0.3871 - val_accuracy: 0.8500\n",
      "Epoch 16/20\n",
      "247/247 [==============================] - 1s 5ms/step - loss: 0.1993 - accuracy: 0.9238 - val_loss: 0.4064 - val_accuracy: 0.8486\n",
      "Epoch 17/20\n",
      "247/247 [==============================] - 1s 5ms/step - loss: 0.1893 - accuracy: 0.9280 - val_loss: 0.4184 - val_accuracy: 0.8468\n",
      "Epoch 18/20\n",
      "247/247 [==============================] - 1s 5ms/step - loss: 0.1804 - accuracy: 0.9325 - val_loss: 0.4424 - val_accuracy: 0.8446\n",
      "Epoch 19/20\n",
      "247/247 [==============================] - 1s 5ms/step - loss: 0.1731 - accuracy: 0.9351 - val_loss: 0.4493 - val_accuracy: 0.8449\n",
      "Epoch 20/20\n",
      "247/247 [==============================] - 1s 5ms/step - loss: 0.1643 - accuracy: 0.9388 - val_loss: 0.4684 - val_accuracy: 0.8460\n",
      "1537/1537 - 3s - loss: 0.4757 - accuracy: 0.8410\n",
      "[0.47566112875938416, 0.8409585356712341]\n"
     ]
    }
   ],
   "source": [
    "lstm_model.compile(optimizer='adam',\n",
    "              loss='binary_crossentropy',\n",
    "              metrics=['accuracy'])\n",
    "\n",
    "epochs=20\n",
    "\n",
    "lstm_history = lstm_model.fit(partial_X_train,\n",
    "                    partial_Y_train,\n",
    "                    epochs=epochs,\n",
    "                    batch_size=512,\n",
    "                    validation_data=(X_val, Y_val),\n",
    "                    verbose=1)\n",
    "\n",
    "lstm_results = lstm_model.evaluate(X_test,  y_test, verbose=2)\n",
    "\n",
    "print(lstm_results)"
   ]
  },
  {
   "cell_type": "code",
   "execution_count": 36,
   "id": "df396ffe",
   "metadata": {},
   "outputs": [
    {
     "data": {
      "image/png": "[encoded data removed]",
      "text/plain": [
       "<Figure size 864x432 with 2 Axes>"
      ]
     },
     "metadata": {
      "needs_background": "light"
     },
     "output_type": "display_data"
    }
   ],
   "source": [
    "lstm_dict = lstm_history.history\n",
    "\n",
    "l_acc = lstm_dict['accuracy']\n",
    "l_val_acc = lstm_dict['val_accuracy']\n",
    "l_loss = lstm_dict['loss']\n",
    "l_val_loss = lstm_dict['val_loss']\n",
    "\n",
    "epochs = range(1, len(l_acc) + 1)\n",
    "\n",
    "fig, axs = plt.subplots(1, 2, figsize=(12, 6))\n",
    "\n",
    "axs[0].plot(epochs, l_loss, label='loss', linestyle='-', color='blue')\n",
    "axs[0].plot(epochs, l_val_loss, label='val_loss', linestyle='--', color='red')\n",
    "axs[0].set_title('LSTM loss & val_loss')\n",
    "axs[0].legend()\n",
    "axs[0].grid(True)\n",
    "\n",
    "axs[1].plot(epochs, l_acc, label='acc', linestyle='-', color='green')\n",
    "axs[1].plot(epochs, l_val_acc, label='val_acc', linestyle='--', color='purple')\n",
    "axs[1].set_title('LSTM acc & val_acc')\n",
    "axs[1].legend()\n",
    "axs[1].grid(True)"
   ]
  },
  {
   "cell_type": "markdown",
   "id": "4c2dc2f7",
   "metadata": {},
   "source": [
    "### 추가실험 회고\n",
    "- 레이어를 추가한 모델에서는 기존임베딩을 사용한 것보다 아주 약간의 성능 향상이 있었다."
   ]
  },
  {
   "cell_type": "code",
   "execution_count": null,
   "id": "4afaef6d",
   "metadata": {},
   "outputs": [],
   "source": []
  }
 ],
 "metadata": {
  "kernelspec": {
   "display_name": "Python 3 (ipykernel)",
   "language": "python",
   "name": "python3"
  },
  "language_info": {
   "codemirror_mode": {
    "name": "ipython",
    "version": 3
   },
   "file_extension": ".py",
   "mimetype": "text/x-python",
   "name": "python",
   "nbconvert_exporter": "python",
   "pygments_lexer": "ipython3",
   "version": "3.9.7"
  }
 },
 "nbformat": 4,
 "nbformat_minor": 5
}
