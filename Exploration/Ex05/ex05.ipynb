{
 "cells": [
  {
   "cell_type": "code",
   "execution_count": 1,
   "id": "9bd08c7b",
   "metadata": {},
   "outputs": [
    {
     "data": {
      "text/html": [
       "<div>\n",
       "<style scoped>\n",
       "    .dataframe tbody tr th:only-of-type {\n",
       "        vertical-align: middle;\n",
       "    }\n",
       "\n",
       "    .dataframe tbody tr th {\n",
       "        vertical-align: top;\n",
       "    }\n",
       "\n",
       "    .dataframe thead th {\n",
       "        text-align: right;\n",
       "    }\n",
       "</style>\n",
       "<table border=\"1\" class=\"dataframe\">\n",
       "  <thead>\n",
       "    <tr style=\"text-align: right;\">\n",
       "      <th></th>\n",
       "      <th>id</th>\n",
       "      <th>document</th>\n",
       "      <th>label</th>\n",
       "    </tr>\n",
       "  </thead>\n",
       "  <tbody>\n",
       "    <tr>\n",
       "      <th>0</th>\n",
       "      <td>9976970</td>\n",
       "      <td>아 더빙.. 진짜 짜증나네요 목소리</td>\n",
       "      <td>0</td>\n",
       "    </tr>\n",
       "    <tr>\n",
       "      <th>1</th>\n",
       "      <td>3819312</td>\n",
       "      <td>흠...포스터보고 초딩영화줄....오버연기조차 가볍지 않구나</td>\n",
       "      <td>1</td>\n",
       "    </tr>\n",
       "    <tr>\n",
       "      <th>2</th>\n",
       "      <td>10265843</td>\n",
       "      <td>너무재밓었다그래서보는것을추천한다</td>\n",
       "      <td>0</td>\n",
       "    </tr>\n",
       "    <tr>\n",
       "      <th>3</th>\n",
       "      <td>9045019</td>\n",
       "      <td>교도소 이야기구먼 ..솔직히 재미는 없다..평점 조정</td>\n",
       "      <td>0</td>\n",
       "    </tr>\n",
       "    <tr>\n",
       "      <th>4</th>\n",
       "      <td>6483659</td>\n",
       "      <td>사이몬페그의 익살스런 연기가 돋보였던 영화!스파이더맨에서 늙어보이기만 했던 커스틴 ...</td>\n",
       "      <td>1</td>\n",
       "    </tr>\n",
       "  </tbody>\n",
       "</table>\n",
       "</div>"
      ],
      "text/plain": [
       "         id                                           document  label\n",
       "0   9976970                                아 더빙.. 진짜 짜증나네요 목소리      0\n",
       "1   3819312                  흠...포스터보고 초딩영화줄....오버연기조차 가볍지 않구나      1\n",
       "2  10265843                                  너무재밓었다그래서보는것을추천한다      0\n",
       "3   9045019                      교도소 이야기구먼 ..솔직히 재미는 없다..평점 조정      0\n",
       "4   6483659  사이몬페그의 익살스런 연기가 돋보였던 영화!스파이더맨에서 늙어보이기만 했던 커스틴 ...      1"
      ]
     },
     "execution_count": 1,
     "metadata": {},
     "output_type": "execute_result"
    }
   ],
   "source": [
    "import pandas\n",
    "import konlpy\n",
    "import gensim\n",
    "import pandas as pd\n",
    "import tensorflow as tf\n",
    "\n",
    "# 데이터를 읽어봅시다. \n",
    "train_data = pd.read_table('./ratings_train.txt')\n",
    "test_data = pd.read_table('./ratings_test.txt')\n",
    "\n",
    "train_data.head()"
   ]
  },
  {
   "cell_type": "code",
   "execution_count": 2,
   "id": "9bae4a74",
   "metadata": {},
   "outputs": [
    {
     "name": "stdout",
     "output_type": "stream",
     "text": [
      "(150000, 3)\n",
      "(50000, 3)\n"
     ]
    }
   ],
   "source": [
    "print(train_data.shape)\n",
    "print(test_data.shape)"
   ]
  },
  {
   "cell_type": "code",
   "execution_count": 3,
   "id": "c444d28f",
   "metadata": {},
   "outputs": [],
   "source": [
    "from konlpy.tag import Mecab\n",
    "import numpy as np\n",
    "from collections import Counter\n",
    "\n",
    "tokenizer = Mecab()\n",
    "stopwords = ['의','가','이','은','들','는','좀','잘','걍','과','도','를','으로','자','에','와','한','하다']\n",
    "\n",
    "word_to_index = {}\n",
    "\n",
    "def load_data(train_data, test_data, num_words=50000):\n",
    "    train_data.drop_duplicates(subset=['document'], inplace=True)\n",
    "    train_data = train_data.dropna(how = 'any') \n",
    "    test_data.drop_duplicates(subset=['document'], inplace=True)\n",
    "    test_data = test_data.dropna(how = 'any') \n",
    "    \n",
    "    X_train = []\n",
    "    for sentence in train_data['document']:\n",
    "        temp_X = tokenizer.morphs(sentence) # 토큰화\n",
    "        temp_X = [word for word in temp_X if not word in stopwords] # 불용어 제거\n",
    "        X_train.append(temp_X)\n",
    "\n",
    "    X_test = []\n",
    "    for sentence in test_data['document']:\n",
    "        temp_X = tokenizer.morphs(sentence) # 토큰화\n",
    "        temp_X = [word for word in temp_X if not word in stopwords] # 불용어 제거\n",
    "        X_test.append(temp_X)\n",
    "    \n",
    "    words = np.concatenate(X_train).tolist()\n",
    "    counter = Counter(words)\n",
    "    counter = counter.most_common(num_words-4)\n",
    "    vocab = ['<PAD>', '<BOS>', '<UNK>', '<UNUSED>'] + [key for key, _ in counter]\n",
    "    word_to_index = {word:index for index, word in enumerate(vocab)}\n",
    "        \n",
    "    def wordlist_to_indexlist(wordlist):\n",
    "        return [word_to_index[word] if word in word_to_index else word_to_index['<PAD>'] for word in wordlist]\n",
    "        \n",
    "    X_train = list(map(wordlist_to_indexlist, X_train))\n",
    "    X_test = list(map(wordlist_to_indexlist, X_test))\n",
    "        \n",
    "    return X_train, np.array(list(train_data['label'])), X_test, np.array(list(test_data['label'])), word_to_index\n",
    "    \n",
    "X_train, y_train, X_test, y_test, word_to_index = load_data(train_data, test_data)"
   ]
  },
  {
   "cell_type": "code",
   "execution_count": 4,
   "id": "1160f13c",
   "metadata": {},
   "outputs": [],
   "source": [
    "index_to_word = {index:word for word, index in word_to_index.items()}"
   ]
  },
  {
   "cell_type": "code",
   "execution_count": 5,
   "id": "c38974f5",
   "metadata": {},
   "outputs": [],
   "source": [
    "# 문장 1개를 활용할 딕셔너리와 함께 주면, 단어 인덱스 리스트 벡터로 변환해 주는 함수입니다. \n",
    "# 단, 모든 문장은 <BOS>로 시작하는 것으로 합니다. \n",
    "def get_encoded_sentence(sentence, word_to_index):\n",
    "    return [word_to_index['<BOS>']]+[word_to_index[word] if word in word_to_index else word_to_index['<UNK>'] for word in sentence.split()]\n",
    "\n",
    "# 여러 개의 문장 리스트를 한꺼번에 단어 인덱스 리스트 벡터로 encode해 주는 함수입니다. \n",
    "def get_encoded_sentences(sentences, word_to_index):\n",
    "    return [get_encoded_sentence(sentence, word_to_index) for sentence in sentences]\n",
    "\n",
    "# 숫자 벡터로 encode된 문장을 원래대로 decode하는 함수입니다. \n",
    "def get_decoded_sentence(encoded_sentence, index_to_word):\n",
    "    return ' '.join(index_to_word[index] if index in index_to_word else '<UNK>' for index in encoded_sentence[1:])  #[1:]를 통해 <BOS>를 제외\n",
    "\n",
    "# 여러 개의 숫자 벡터로 encode된 문장을 한꺼번에 원래대로 decode하는 함수입니다. \n",
    "def get_decoded_sentences(encoded_sentences, index_to_word):\n",
    "    return [get_decoded_sentence(encoded_sentence, index_to_word) for encoded_sentence in encoded_sentences]"
   ]
  },
  {
   "cell_type": "code",
   "execution_count": 6,
   "id": "0966eeb3",
   "metadata": {},
   "outputs": [
    {
     "name": "stdout",
     "output_type": "stream",
     "text": [
      "문장길이 평균 :  15.96940191154864\n",
      "문장길이 최대 :  116\n",
      "문장길이 표준편차 :  12.843571191092\n"
     ]
    }
   ],
   "source": [
    "total_data_text = list(X_train) + list(X_test)\n",
    "# 텍스트데이터 문장길이의 리스트를 생성한 후\n",
    "num_tokens = [len(tokens) for tokens in total_data_text]\n",
    "num_tokens = np.array(num_tokens)\n",
    "# 문장길이의 평균값, 최대값, 표준편차를 계산해 본다. \n",
    "print('문장길이 평균 : ', np.mean(num_tokens))\n",
    "print('문장길이 최대 : ', np.max(num_tokens))\n",
    "print('문장길이 표준편차 : ', np.std(num_tokens))"
   ]
  },
  {
   "cell_type": "code",
   "execution_count": 7,
   "id": "81400b96",
   "metadata": {},
   "outputs": [
    {
     "name": "stdout",
     "output_type": "stream",
     "text": [
      "pad_sequences maxlen :  41\n",
      "전체 문장의 93.42988343341575%가 maxlen 설정값 이내에 포함됩니다. \n"
     ]
    }
   ],
   "source": [
    "max_tokens = np.mean(num_tokens) + 2 * np.std(num_tokens)\n",
    "maxlen = int(max_tokens)\n",
    "print('pad_sequences maxlen : ', maxlen)\n",
    "print(f'전체 문장의 {np.sum(num_tokens < max_tokens) / len(num_tokens) * 100}%가 maxlen 설정값 이내에 포함됩니다. ')"
   ]
  },
  {
   "cell_type": "code",
   "execution_count": 8,
   "id": "e67af7fc",
   "metadata": {},
   "outputs": [],
   "source": [
    "X_train = tf.keras.preprocessing.sequence.pad_sequences(X_train,\n",
    "                                                        value=word_to_index[\"<PAD>\"],\n",
    "                                                        padding='pre', # 혹은 'pre'\n",
    "                                                        maxlen=maxlen)\n",
    "\n",
    "X_test = tf.keras.preprocessing.sequence.pad_sequences(X_test,\n",
    "                                                       value=word_to_index[\"<PAD>\"],\n",
    "                                                       padding='pre', # 혹은 'pre'\n",
    "                                                       maxlen=maxlen)"
   ]
  },
  {
   "cell_type": "markdown",
   "id": "88c552f7",
   "metadata": {},
   "source": [
    "LSTM 모델"
   ]
  },
  {
   "cell_type": "code",
   "execution_count": 9,
   "id": "3591df2c",
   "metadata": {},
   "outputs": [
    {
     "name": "stdout",
     "output_type": "stream",
     "text": [
      "Model: \"sequential\"\n",
      "_________________________________________________________________\n",
      "Layer (type)                 Output Shape              Param #   \n",
      "=================================================================\n",
      "embedding (Embedding)        (None, None, 16)          160000    \n",
      "_________________________________________________________________\n",
      "lstm (LSTM)                  (None, 8)                 800       \n",
      "_________________________________________________________________\n",
      "dense (Dense)                (None, 8)                 72        \n",
      "_________________________________________________________________\n",
      "dense_1 (Dense)              (None, 1)                 9         \n",
      "=================================================================\n",
      "Total params: 160,881\n",
      "Trainable params: 160,881\n",
      "Non-trainable params: 0\n",
      "_________________________________________________________________\n"
     ]
    }
   ],
   "source": [
    "vocab_size = 10000    # 어휘 사전의 크기입니다(10,000개의 단어)\n",
    "word_vector_dim = 16  # 워드 벡터의 차원 수 (변경 가능한 하이퍼파라미터)\n",
    "\n",
    "lstm_model = tf.keras.Sequential()\n",
    "lstm_model.add(tf.keras.layers.Embedding(vocab_size, word_vector_dim, input_shape=(None,)))\n",
    "lstm_model.add(tf.keras.layers.LSTM(8))\n",
    "lstm_model.add(tf.keras.layers.Dense(8, activation='relu'))\n",
    "lstm_model.add(tf.keras.layers.Dense(1, activation='sigmoid'))\n",
    "\n",
    "lstm_model.summary()"
   ]
  },
  {
   "cell_type": "markdown",
   "id": "ea9eaa54",
   "metadata": {},
   "source": [
    "Conv1D 모델"
   ]
  },
  {
   "cell_type": "code",
   "execution_count": 10,
   "id": "10427fb7",
   "metadata": {},
   "outputs": [
    {
     "name": "stdout",
     "output_type": "stream",
     "text": [
      "Model: \"sequential_1\"\n",
      "_________________________________________________________________\n",
      "Layer (type)                 Output Shape              Param #   \n",
      "=================================================================\n",
      "embedding_1 (Embedding)      (None, None, 16)          160000    \n",
      "_________________________________________________________________\n",
      "conv1d (Conv1D)              (None, None, 16)          1808      \n",
      "_________________________________________________________________\n",
      "max_pooling1d (MaxPooling1D) (None, None, 16)          0         \n",
      "_________________________________________________________________\n",
      "conv1d_1 (Conv1D)            (None, None, 16)          1808      \n",
      "_________________________________________________________________\n",
      "global_max_pooling1d (Global (None, 16)                0         \n",
      "_________________________________________________________________\n",
      "dense_2 (Dense)              (None, 8)                 136       \n",
      "_________________________________________________________________\n",
      "dense_3 (Dense)              (None, 1)                 9         \n",
      "=================================================================\n",
      "Total params: 163,761\n",
      "Trainable params: 163,761\n",
      "Non-trainable params: 0\n",
      "_________________________________________________________________\n"
     ]
    }
   ],
   "source": [
    "conv1d_model = tf.keras.Sequential()\n",
    "conv1d_model.add(tf.keras.layers.Embedding(vocab_size, word_vector_dim, input_shape=(None,)))\n",
    "conv1d_model.add(tf.keras.layers.Conv1D(16, 7, activation='relu'))\n",
    "conv1d_model.add(tf.keras.layers.MaxPooling1D(5))\n",
    "conv1d_model.add(tf.keras.layers.Conv1D(16, 7, activation='relu'))\n",
    "conv1d_model.add(tf.keras.layers.GlobalMaxPooling1D())\n",
    "conv1d_model.add(tf.keras.layers.Dense(8, activation='relu'))\n",
    "conv1d_model.add(tf.keras.layers.Dense(1, activation='sigmoid'))\n",
    "\n",
    "conv1d_model.summary()"
   ]
  },
  {
   "cell_type": "markdown",
   "id": "3550843a",
   "metadata": {},
   "source": [
    "GlobalMaxPooling 모델"
   ]
  },
  {
   "cell_type": "code",
   "execution_count": 11,
   "id": "777d01db",
   "metadata": {},
   "outputs": [
    {
     "name": "stdout",
     "output_type": "stream",
     "text": [
      "Model: \"sequential_2\"\n",
      "_________________________________________________________________\n",
      "Layer (type)                 Output Shape              Param #   \n",
      "=================================================================\n",
      "embedding_2 (Embedding)      (None, None, 16)          160000    \n",
      "_________________________________________________________________\n",
      "global_max_pooling1d_1 (Glob (None, 16)                0         \n",
      "_________________________________________________________________\n",
      "dense_4 (Dense)              (None, 8)                 136       \n",
      "_________________________________________________________________\n",
      "dense_5 (Dense)              (None, 1)                 9         \n",
      "=================================================================\n",
      "Total params: 160,145\n",
      "Trainable params: 160,145\n",
      "Non-trainable params: 0\n",
      "_________________________________________________________________\n"
     ]
    }
   ],
   "source": [
    "gmaxp_model = tf.keras.Sequential()\n",
    "gmaxp_model.add(tf.keras.layers.Embedding(vocab_size, word_vector_dim, input_shape=(None,)))\n",
    "gmaxp_model.add(tf.keras.layers.GlobalMaxPooling1D())\n",
    "gmaxp_model.add(tf.keras.layers.Dense(8, activation='relu'))\n",
    "gmaxp_model.add(tf.keras.layers.Dense(1, activation='sigmoid'))\n",
    "\n",
    "gmaxp_model.summary()"
   ]
  },
  {
   "cell_type": "markdown",
   "id": "8cfa0597",
   "metadata": {},
   "source": [
    "train, val 분리"
   ]
  },
  {
   "cell_type": "code",
   "execution_count": 12,
   "id": "5672aaf1",
   "metadata": {},
   "outputs": [
    {
     "name": "stdout",
     "output_type": "stream",
     "text": [
      "(126182, 41)\n",
      "(126182,)\n",
      "(146182, 41)\n",
      "(146182,)\n",
      "(20000, 41)\n",
      "(20000,)\n"
     ]
    }
   ],
   "source": [
    "X_val = X_train[:20000]\n",
    "Y_val = y_train[:20000]\n",
    "\n",
    "partial_X_train = X_train[20000:]\n",
    "partial_Y_train = y_train[20000:]\n",
    "\n",
    "print(partial_X_train.shape)\n",
    "print(partial_Y_train.shape)\n",
    "print(X_train.shape)\n",
    "print(y_train.shape)\n",
    "print(X_val.shape)\n",
    "print(Y_val.shape)"
   ]
  },
  {
   "cell_type": "markdown",
   "id": "e4662ebe",
   "metadata": {},
   "source": [
    "lstm모델 훈련 및 평가"
   ]
  },
  {
   "cell_type": "code",
   "execution_count": 13,
   "id": "eea3b8d0",
   "metadata": {},
   "outputs": [
    {
     "name": "stdout",
     "output_type": "stream",
     "text": [
      "Epoch 1/20\n",
      "247/247 [==============================] - 5s 8ms/step - loss: 0.4819 - accuracy: 0.7887 - val_loss: 0.3588 - val_accuracy: 0.8451\n",
      "Epoch 2/20\n",
      "247/247 [==============================] - 1s 5ms/step - loss: 0.3376 - accuracy: 0.8569 - val_loss: 0.3460 - val_accuracy: 0.8516\n",
      "Epoch 3/20\n",
      "247/247 [==============================] - 1s 5ms/step - loss: 0.3175 - accuracy: 0.8674 - val_loss: 0.3508 - val_accuracy: 0.8464\n",
      "Epoch 4/20\n",
      "247/247 [==============================] - 1s 6ms/step - loss: 0.3064 - accuracy: 0.8726 - val_loss: 0.3507 - val_accuracy: 0.8481\n",
      "Epoch 5/20\n",
      "247/247 [==============================] - 1s 5ms/step - loss: 0.2990 - accuracy: 0.8755 - val_loss: 0.3478 - val_accuracy: 0.8518\n",
      "Epoch 6/20\n",
      "247/247 [==============================] - 1s 5ms/step - loss: 0.2904 - accuracy: 0.8790 - val_loss: 0.3495 - val_accuracy: 0.8518\n",
      "Epoch 7/20\n",
      "247/247 [==============================] - 1s 5ms/step - loss: 0.2829 - accuracy: 0.8822 - val_loss: 0.3513 - val_accuracy: 0.8500\n",
      "Epoch 8/20\n",
      "247/247 [==============================] - 1s 5ms/step - loss: 0.2738 - accuracy: 0.8852 - val_loss: 0.3550 - val_accuracy: 0.8509\n",
      "Epoch 9/20\n",
      "247/247 [==============================] - 1s 5ms/step - loss: 0.2650 - accuracy: 0.8892 - val_loss: 0.3652 - val_accuracy: 0.8508\n",
      "Epoch 10/20\n",
      "247/247 [==============================] - 1s 6ms/step - loss: 0.2549 - accuracy: 0.8935 - val_loss: 0.3699 - val_accuracy: 0.8486\n",
      "Epoch 11/20\n",
      "247/247 [==============================] - 1s 6ms/step - loss: 0.2452 - accuracy: 0.8976 - val_loss: 0.3769 - val_accuracy: 0.8492\n",
      "Epoch 12/20\n",
      "247/247 [==============================] - 1s 5ms/step - loss: 0.2371 - accuracy: 0.9011 - val_loss: 0.3873 - val_accuracy: 0.8494\n",
      "Epoch 13/20\n",
      "247/247 [==============================] - 1s 5ms/step - loss: 0.2281 - accuracy: 0.9054 - val_loss: 0.4002 - val_accuracy: 0.8492\n",
      "Epoch 14/20\n",
      "247/247 [==============================] - 1s 5ms/step - loss: 0.2207 - accuracy: 0.9094 - val_loss: 0.4093 - val_accuracy: 0.8490\n",
      "Epoch 15/20\n",
      "247/247 [==============================] - 1s 5ms/step - loss: 0.2124 - accuracy: 0.9135 - val_loss: 0.4291 - val_accuracy: 0.8487\n",
      "Epoch 16/20\n",
      "247/247 [==============================] - 1s 5ms/step - loss: 0.2060 - accuracy: 0.9160 - val_loss: 0.4397 - val_accuracy: 0.8493\n",
      "Epoch 17/20\n",
      "247/247 [==============================] - 1s 5ms/step - loss: 0.1995 - accuracy: 0.9187 - val_loss: 0.4492 - val_accuracy: 0.8461\n",
      "Epoch 18/20\n",
      "247/247 [==============================] - 1s 5ms/step - loss: 0.1930 - accuracy: 0.9223 - val_loss: 0.4589 - val_accuracy: 0.8453\n",
      "Epoch 19/20\n",
      "247/247 [==============================] - 1s 5ms/step - loss: 0.1882 - accuracy: 0.9249 - val_loss: 0.4843 - val_accuracy: 0.8457\n",
      "Epoch 20/20\n",
      "247/247 [==============================] - 1s 5ms/step - loss: 0.1831 - accuracy: 0.9280 - val_loss: 0.4986 - val_accuracy: 0.8459\n",
      "1537/1537 - 3s - loss: 0.4938 - accuracy: 0.8417\n",
      "[0.49382853507995605, 0.8417112231254578]\n"
     ]
    }
   ],
   "source": [
    "lstm_model.compile(optimizer='adam',\n",
    "              loss='binary_crossentropy',\n",
    "              metrics=['accuracy'])\n",
    "\n",
    "epochs=20\n",
    "\n",
    "lstm_history = lstm_model.fit(partial_X_train,\n",
    "                    partial_Y_train,\n",
    "                    epochs=epochs,\n",
    "                    batch_size=512,\n",
    "                    validation_data=(X_val, Y_val),\n",
    "                    verbose=1)\n",
    "\n",
    "lstm_results = lstm_model.evaluate(X_test,  y_test, verbose=2)\n",
    "\n",
    "print(lstm_results)"
   ]
  },
  {
   "cell_type": "markdown",
   "id": "c040c19e",
   "metadata": {},
   "source": [
    "conv1D모델 훈련 및 평가"
   ]
  },
  {
   "cell_type": "code",
   "execution_count": 14,
   "id": "76b93301",
   "metadata": {},
   "outputs": [
    {
     "name": "stdout",
     "output_type": "stream",
     "text": [
      "Epoch 1/20\n",
      "247/247 [==============================] - 3s 6ms/step - loss: 0.4913 - accuracy: 0.7637 - val_loss: 0.3558 - val_accuracy: 0.8454\n",
      "Epoch 2/20\n",
      "247/247 [==============================] - 1s 5ms/step - loss: 0.3274 - accuracy: 0.8603 - val_loss: 0.3388 - val_accuracy: 0.8547\n",
      "Epoch 3/20\n",
      "247/247 [==============================] - 1s 5ms/step - loss: 0.2965 - accuracy: 0.8760 - val_loss: 0.3359 - val_accuracy: 0.8553\n",
      "Epoch 4/20\n",
      "247/247 [==============================] - 1s 5ms/step - loss: 0.2723 - accuracy: 0.8885 - val_loss: 0.3392 - val_accuracy: 0.8559\n",
      "Epoch 5/20\n",
      "247/247 [==============================] - 1s 5ms/step - loss: 0.2463 - accuracy: 0.9015 - val_loss: 0.3442 - val_accuracy: 0.8553\n",
      "Epoch 6/20\n",
      "247/247 [==============================] - 1s 5ms/step - loss: 0.2186 - accuracy: 0.9157 - val_loss: 0.3651 - val_accuracy: 0.8539\n",
      "Epoch 7/20\n",
      "247/247 [==============================] - 1s 5ms/step - loss: 0.1902 - accuracy: 0.9292 - val_loss: 0.3902 - val_accuracy: 0.8490\n",
      "Epoch 8/20\n",
      "247/247 [==============================] - 1s 5ms/step - loss: 0.1622 - accuracy: 0.9424 - val_loss: 0.4216 - val_accuracy: 0.8453\n",
      "Epoch 9/20\n",
      "247/247 [==============================] - 1s 5ms/step - loss: 0.1370 - accuracy: 0.9534 - val_loss: 0.4494 - val_accuracy: 0.8421\n",
      "Epoch 10/20\n",
      "247/247 [==============================] - 1s 5ms/step - loss: 0.1163 - accuracy: 0.9620 - val_loss: 0.4811 - val_accuracy: 0.8372\n",
      "Epoch 11/20\n",
      "247/247 [==============================] - 1s 5ms/step - loss: 0.0992 - accuracy: 0.9685 - val_loss: 0.5362 - val_accuracy: 0.8381\n",
      "Epoch 12/20\n",
      "247/247 [==============================] - 1s 5ms/step - loss: 0.0866 - accuracy: 0.9738 - val_loss: 0.5568 - val_accuracy: 0.8364\n",
      "Epoch 13/20\n",
      "247/247 [==============================] - 1s 5ms/step - loss: 0.0755 - accuracy: 0.9779 - val_loss: 0.5993 - val_accuracy: 0.8314\n",
      "Epoch 14/20\n",
      "247/247 [==============================] - 1s 5ms/step - loss: 0.0674 - accuracy: 0.9804 - val_loss: 0.6250 - val_accuracy: 0.8318\n",
      "Epoch 15/20\n",
      "247/247 [==============================] - 1s 5ms/step - loss: 0.0607 - accuracy: 0.9830 - val_loss: 0.6674 - val_accuracy: 0.8309\n",
      "Epoch 16/20\n",
      "247/247 [==============================] - 1s 5ms/step - loss: 0.0554 - accuracy: 0.9846 - val_loss: 0.6837 - val_accuracy: 0.8299\n",
      "Epoch 17/20\n",
      "247/247 [==============================] - 1s 5ms/step - loss: 0.0514 - accuracy: 0.9859 - val_loss: 0.7337 - val_accuracy: 0.8263\n",
      "Epoch 18/20\n",
      "247/247 [==============================] - 1s 5ms/step - loss: 0.0475 - accuracy: 0.9872 - val_loss: 0.7318 - val_accuracy: 0.8270\n",
      "Epoch 19/20\n",
      "247/247 [==============================] - 1s 5ms/step - loss: 0.0443 - accuracy: 0.9880 - val_loss: 0.7788 - val_accuracy: 0.8245\n",
      "Epoch 20/20\n",
      "247/247 [==============================] - 1s 5ms/step - loss: 0.0417 - accuracy: 0.9886 - val_loss: 0.8005 - val_accuracy: 0.8226\n",
      "1537/1537 - 2s - loss: 0.8283 - accuracy: 0.8193\n",
      "[0.8282960057258606, 0.8193339705467224]\n"
     ]
    }
   ],
   "source": [
    "conv1d_model.compile(optimizer='adam',\n",
    "              loss='binary_crossentropy',\n",
    "              metrics=['accuracy'])\n",
    "\n",
    "epochs=20\n",
    "\n",
    "conv1d_history = conv1d_model.fit(partial_X_train,\n",
    "                    partial_Y_train,\n",
    "                    epochs=epochs,\n",
    "                    batch_size=512,\n",
    "                    validation_data=(X_val, Y_val),\n",
    "                    verbose=1)\n",
    "\n",
    "conv1d_results = conv1d_model.evaluate(X_test,  y_test, verbose=2)\n",
    "\n",
    "print(conv1d_results)"
   ]
  },
  {
   "cell_type": "markdown",
   "id": "63d6124f",
   "metadata": {},
   "source": [
    "global max pooling모델 훈련 및 평가"
   ]
  },
  {
   "cell_type": "code",
   "execution_count": 15,
   "id": "3968b953",
   "metadata": {},
   "outputs": [
    {
     "name": "stdout",
     "output_type": "stream",
     "text": [
      "Epoch 1/20\n",
      "247/247 [==============================] - 1s 4ms/step - loss: 0.5933 - accuracy: 0.7664 - val_loss: 0.4393 - val_accuracy: 0.8127\n",
      "Epoch 2/20\n",
      "247/247 [==============================] - 1s 3ms/step - loss: 0.3854 - accuracy: 0.8341 - val_loss: 0.3666 - val_accuracy: 0.8367\n",
      "Epoch 3/20\n",
      "247/247 [==============================] - 1s 3ms/step - loss: 0.3358 - accuracy: 0.8564 - val_loss: 0.3533 - val_accuracy: 0.8436\n",
      "Epoch 4/20\n",
      "247/247 [==============================] - 1s 3ms/step - loss: 0.3094 - accuracy: 0.8695 - val_loss: 0.3500 - val_accuracy: 0.8464\n",
      "Epoch 5/20\n",
      "247/247 [==============================] - 1s 4ms/step - loss: 0.2907 - accuracy: 0.8792 - val_loss: 0.3515 - val_accuracy: 0.8461\n",
      "Epoch 6/20\n",
      "247/247 [==============================] - 1s 3ms/step - loss: 0.2762 - accuracy: 0.8859 - val_loss: 0.3556 - val_accuracy: 0.8469\n",
      "Epoch 7/20\n",
      "247/247 [==============================] - 1s 4ms/step - loss: 0.2641 - accuracy: 0.8917 - val_loss: 0.3612 - val_accuracy: 0.8462\n",
      "Epoch 8/20\n",
      "247/247 [==============================] - 1s 3ms/step - loss: 0.2541 - accuracy: 0.8965 - val_loss: 0.3666 - val_accuracy: 0.8453\n",
      "Epoch 9/20\n",
      "247/247 [==============================] - 1s 3ms/step - loss: 0.2451 - accuracy: 0.9009 - val_loss: 0.3731 - val_accuracy: 0.8442\n",
      "Epoch 10/20\n",
      "247/247 [==============================] - 1s 3ms/step - loss: 0.2371 - accuracy: 0.9049 - val_loss: 0.3810 - val_accuracy: 0.8439\n",
      "Epoch 11/20\n",
      "247/247 [==============================] - 1s 3ms/step - loss: 0.2302 - accuracy: 0.9080 - val_loss: 0.3885 - val_accuracy: 0.8432\n",
      "Epoch 12/20\n",
      "247/247 [==============================] - 1s 3ms/step - loss: 0.2237 - accuracy: 0.9112 - val_loss: 0.3964 - val_accuracy: 0.8421\n",
      "Epoch 13/20\n",
      "247/247 [==============================] - 1s 3ms/step - loss: 0.2180 - accuracy: 0.9138 - val_loss: 0.4049 - val_accuracy: 0.8403\n",
      "Epoch 14/20\n",
      "247/247 [==============================] - 1s 3ms/step - loss: 0.2126 - accuracy: 0.9164 - val_loss: 0.4130 - val_accuracy: 0.8398\n",
      "Epoch 15/20\n",
      "247/247 [==============================] - 1s 3ms/step - loss: 0.2078 - accuracy: 0.9187 - val_loss: 0.4195 - val_accuracy: 0.8383\n",
      "Epoch 16/20\n",
      "247/247 [==============================] - 1s 3ms/step - loss: 0.2032 - accuracy: 0.9214 - val_loss: 0.4267 - val_accuracy: 0.8367\n",
      "Epoch 17/20\n",
      "247/247 [==============================] - 1s 3ms/step - loss: 0.1989 - accuracy: 0.9231 - val_loss: 0.4337 - val_accuracy: 0.8361\n",
      "Epoch 18/20\n",
      "247/247 [==============================] - 1s 4ms/step - loss: 0.1949 - accuracy: 0.9251 - val_loss: 0.4419 - val_accuracy: 0.8346\n",
      "Epoch 19/20\n",
      "247/247 [==============================] - 1s 4ms/step - loss: 0.1912 - accuracy: 0.9268 - val_loss: 0.4496 - val_accuracy: 0.8338\n",
      "Epoch 20/20\n",
      "247/247 [==============================] - 1s 4ms/step - loss: 0.1876 - accuracy: 0.9285 - val_loss: 0.4552 - val_accuracy: 0.8337\n",
      "1537/1537 - 2s - loss: 0.4697 - accuracy: 0.8294\n",
      "[0.46971338987350464, 0.829444408416748]\n"
     ]
    }
   ],
   "source": [
    "gmaxp_model.compile(optimizer='adam',\n",
    "              loss='binary_crossentropy',\n",
    "              metrics=['accuracy'])\n",
    "\n",
    "epochs=20\n",
    "\n",
    "gmaxp_history = gmaxp_model.fit(partial_X_train,\n",
    "                    partial_Y_train,\n",
    "                    epochs=epochs,\n",
    "                    batch_size=512,\n",
    "                    validation_data=(X_val, Y_val),\n",
    "                    verbose=1)\n",
    "\n",
    "gmaxp_results = gmaxp_model.evaluate(X_test,  y_test, verbose=2)\n",
    "\n",
    "print(gmaxp_results)"
   ]
  },
  {
   "cell_type": "markdown",
   "id": "f8daa180",
   "metadata": {},
   "source": [
    "### 결과값 시각화  \n",
    "차례대로  \n",
    "LSTM의 loss&val_loss, acc&val_acc  \n",
    "Conv1D의 loss&val_loss, acc&val_acc  \n",
    "GlobalMaxPooling의 loss&val_loss, acc&val_acc  "
   ]
  },
  {
   "cell_type": "code",
   "execution_count": 16,
   "id": "74a57434",
   "metadata": {},
   "outputs": [
    {
     "data": {
      "image/png": "[encoded data removed]",
      "text/plain": [
       "<Figure size 864x1296 with 6 Axes>"
      ]
     },
     "metadata": {
      "needs_background": "light"
     },
     "output_type": "display_data"
    }
   ],
   "source": [
    "import matplotlib.pyplot as plt\n",
    "\n",
    "lstm_dict = lstm_history.history\n",
    "conv1d_dict = conv1d_history.history\n",
    "gmaxp_dict = gmaxp_history.history\n",
    "\n",
    "l_acc = lstm_dict['accuracy']\n",
    "l_val_acc = lstm_dict['val_accuracy']\n",
    "l_loss = lstm_dict['loss']\n",
    "l_val_loss = lstm_dict['val_loss']\n",
    "\n",
    "c_acc = conv1d_dict['accuracy']\n",
    "c_val_acc = conv1d_dict['val_accuracy']\n",
    "c_loss = conv1d_dict['loss']\n",
    "c_val_loss = conv1d_dict['val_loss']\n",
    "\n",
    "g_acc = gmaxp_dict['accuracy']\n",
    "g_val_acc = gmaxp_dict['val_accuracy']\n",
    "g_loss = gmaxp_dict['loss']\n",
    "g_val_loss = gmaxp_dict['val_loss']\n",
    "\n",
    "epochs = range(1, len(l_acc) + 1)\n",
    "\n",
    "fig, axs = plt.subplots(3, 2, figsize=(12, 18))\n",
    "\n",
    "axs[0, 0].plot(epochs, l_loss, label='loss', linestyle='-', color='blue')\n",
    "axs[0, 0].plot(epochs, l_val_loss, label='val_loss', linestyle='--', color='red')\n",
    "axs[0, 0].set_title('LSTM loss & val_loss')\n",
    "axs[0, 0].legend()\n",
    "axs[0, 0].grid(True)\n",
    "\n",
    "axs[0, 1].plot(epochs, l_acc, label='acc', linestyle='-', color='green')\n",
    "axs[0, 1].plot(epochs, l_val_acc, label='val_acc', linestyle='--', color='purple')\n",
    "axs[0, 1].set_title('LSTM acc & val_acc')\n",
    "axs[0, 1].legend()\n",
    "axs[0, 1].grid(True)\n",
    "\n",
    "axs[1, 0].plot(epochs, c_loss, label='loss', linestyle='-', color='orange')\n",
    "axs[1, 0].plot(epochs, c_val_loss, label='val_loss', linestyle='--', color='brown')\n",
    "axs[1, 0].set_title('Conv1D loss & val_loss')\n",
    "axs[1, 0].legend()\n",
    "axs[1, 0].grid(True)\n",
    "\n",
    "axs[1, 1].plot(epochs, c_acc, label='acc', linestyle='-', color='blue')\n",
    "axs[1, 1].plot(epochs, c_val_acc, label='val_acc', linestyle='--', color='red')\n",
    "axs[1, 1].set_title('Conv1D acc & val_acc')\n",
    "axs[1, 1].legend()\n",
    "axs[1, 1].grid(True)\n",
    "\n",
    "axs[2, 0].plot(epochs, g_loss, label='loss', linestyle='-', color='green')\n",
    "axs[2, 0].plot(epochs, g_val_loss, label='val_loss', linestyle='--', color='purple')\n",
    "axs[2, 0].set_title('GlobalMaxPooling loss & val_loss')\n",
    "axs[2, 0].legend()\n",
    "axs[2, 0].grid(True)\n",
    "\n",
    "axs[2, 1].plot(epochs, g_acc, label='acc', linestyle='-', color='orange')\n",
    "axs[2, 1].plot(epochs, g_val_acc, label='val_acc', linestyle='--', color='brown')\n",
    "axs[2, 1].set_title('GlobalMaxPooling acc & val_acc')\n",
    "axs[2, 1].legend()\n",
    "axs[2, 1].grid(True)\n",
    "\n",
    "plt.show()"
   ]
  },
  {
   "cell_type": "markdown",
   "id": "33b24daf",
   "metadata": {},
   "source": [
    "대부분 에포크 5근방에서 과적합이 일어났다.\n",
    "- 모델의 깊이가 모자란것 같다."
   ]
  },
  {
   "cell_type": "markdown",
   "id": "363ee267",
   "metadata": {},
   "source": [
    "### 임베딩 벡터"
   ]
  },
  {
   "cell_type": "code",
   "execution_count": 17,
   "id": "7ee0787b",
   "metadata": {},
   "outputs": [
    {
     "name": "stdout",
     "output_type": "stream",
     "text": [
      "(10000, 16)\n"
     ]
    }
   ],
   "source": [
    "embedding_layer = lstm_model.layers[0]\n",
    "weights = embedding_layer.get_weights()[0]\n",
    "print(weights.shape)"
   ]
  },
  {
   "cell_type": "code",
   "execution_count": 18,
   "id": "46dfac6d",
   "metadata": {},
   "outputs": [],
   "source": [
    "word2vec_file_path = './word2vec.txt'\n",
    "f = open(word2vec_file_path, 'w')\n",
    "f.write('{} {}\\n'.format(vocab_size-4, word_vector_dim))  # 몇개의 벡터를 얼마 사이즈로 기재할지 타이틀을 씁니다.\n",
    "\n",
    "# 단어 개수(에서 특수문자 4개는 제외하고)만큼의 워드 벡터를 파일에 기록합니다. \n",
    "vectors = lstm_model.get_weights()[0]\n",
    "for i in range(4,vocab_size):\n",
    "    f.write('{} {}\\n'.format(index_to_word[i], ' '.join(map(str, list(vectors[i, :])))))\n",
    "f.close()"
   ]
  },
  {
   "cell_type": "code",
   "execution_count": 19,
   "id": "f84d0806",
   "metadata": {},
   "outputs": [
    {
     "data": {
      "text/plain": [
       "array([-0.14541069,  0.08496919,  0.10510364, -0.00668749, -0.02411811,\n",
       "       -0.04512352,  0.09242131,  0.00340022,  0.07302259,  0.02760325,\n",
       "       -0.04455221,  0.04004458, -0.03016782, -0.08919813, -0.02900895,\n",
       "       -0.06145358], dtype=float32)"
      ]
     },
     "execution_count": 19,
     "metadata": {},
     "output_type": "execute_result"
    }
   ],
   "source": [
    "from gensim.models.keyedvectors import Word2VecKeyedVectors\n",
    "\n",
    "word_vectors = Word2VecKeyedVectors.load_word2vec_format(word2vec_file_path, binary=False)\n",
    "vector = word_vectors['영화']\n",
    "vector"
   ]
  },
  {
   "cell_type": "markdown",
   "id": "5b2c3e1f",
   "metadata": {},
   "source": [
    "임베딩벡터를 활용해 유사어 찾기"
   ]
  },
  {
   "cell_type": "code",
   "execution_count": 20,
   "id": "ebc5fb4d",
   "metadata": {},
   "outputs": [
    {
     "data": {
      "text/plain": [
       "[('~~', 0.9091109037399292),\n",
       " ('어요', 0.8964406251907349),\n",
       " ('ㅜㅜ', 0.8802399039268494),\n",
       " ('점', 0.8778375387191772),\n",
       " ('잖아', 0.8639310598373413),\n",
       " ('준다', 0.8593860268592834),\n",
       " ('예요', 0.8531999588012695),\n",
       " ('네요', 0.8480542302131653),\n",
       " ('미술관', 0.8416431546211243),\n",
       " ('든데', 0.8388052582740784)]"
      ]
     },
     "execution_count": 20,
     "metadata": {},
     "output_type": "execute_result"
    }
   ],
   "source": [
    "word_vectors.similar_by_word('영화')"
   ]
  },
  {
   "cell_type": "code",
   "execution_count": 21,
   "id": "8e80c03e",
   "metadata": {},
   "outputs": [
    {
     "name": "stdout",
     "output_type": "stream",
     "text": [
      "100\n",
      "302960\n"
     ]
    }
   ],
   "source": [
    "from gensim.models.keyedvectors import Word2VecKeyedVectors\n",
    "word2vec_file_path = './word2vec_ko.model'\n",
    "word_vectors = Word2VecKeyedVectors.load(word2vec_file_path)\n",
    "\n",
    "print(word_vectors.wv.vector_size)\n",
    "print(len(word_vectors.wv.key_to_index))"
   ]
  },
  {
   "cell_type": "markdown",
   "id": "855b17bf",
   "metadata": {},
   "source": [
    "pretrained 모델을 활용해 유사어 찾기"
   ]
  },
  {
   "cell_type": "code",
   "execution_count": 22,
   "id": "dc7d1fdb",
   "metadata": {},
   "outputs": [
    {
     "data": {
      "text/plain": [
       "[('드라마', 0.8418774008750916),\n",
       " ('뮤지컬', 0.7775140404701233),\n",
       " ('코미디', 0.7489107251167297),\n",
       " ('다큐멘터리', 0.7401294708251953),\n",
       " ('헐리우드', 0.7397844195365906),\n",
       " ('애니메이션', 0.7170552015304565),\n",
       " ('독립영화', 0.7113528251647949),\n",
       " ('로맨틱', 0.7107657194137573),\n",
       " ('장편', 0.7101576924324036),\n",
       " ('극영화', 0.7045413255691528)]"
      ]
     },
     "execution_count": 22,
     "metadata": {},
     "output_type": "execute_result"
    }
   ],
   "source": [
    "word_vectors.wv.similar_by_word('영화')"
   ]
  },
  {
   "cell_type": "markdown",
   "id": "c0d98d86",
   "metadata": {},
   "source": [
    "학습된 임베딩 벡터를 활용한 검색에서는 영화와 거리가 멀어보이는 단어들이 보이지만 pretrained모델에서는 드라마, 뮤지컬, 헐리우드 등 상식적으로 유사한 단어들이 결과값으로 출력되었다. 추가적으로 워드벡터의 차원수가 압도적으로 낮은것도 성능에 영향을 끼친것으로 보인다.(16, 100)"
   ]
  },
  {
   "cell_type": "code",
   "execution_count": 23,
   "id": "a0b84751",
   "metadata": {},
   "outputs": [],
   "source": [
    "from tensorflow.keras.initializers import Constant\n",
    "vocab_size = 50000    # 어휘 사전의 크기입니다(50000개의 단어)\n",
    "word_vector_dim = 100  # 워드 벡터의 차원수\n",
    "embedding_matrix = np.random.rand(vocab_size, word_vector_dim)\n",
    "\n",
    "# embedding_matrix에 Word2Vec 워드 벡터를 단어 하나씩마다 차례차례 카피한다.\n",
    "for i in range(4,vocab_size):\n",
    "    if index_to_word[i] in word_vectors.wv:\n",
    "        embedding_matrix[i] = word_vectors.wv[index_to_word[i]]"
   ]
  },
  {
   "cell_type": "code",
   "execution_count": 24,
   "id": "3eaec3a4",
   "metadata": {},
   "outputs": [
    {
     "name": "stdout",
     "output_type": "stream",
     "text": [
      "Model: \"sequential_3\"\n",
      "_________________________________________________________________\n",
      "Layer (type)                 Output Shape              Param #   \n",
      "=================================================================\n",
      "embedding_3 (Embedding)      (None, 41, 100)           5000000   \n",
      "_________________________________________________________________\n",
      "lstm_1 (LSTM)                (None, 8)                 3488      \n",
      "_________________________________________________________________\n",
      "dense_6 (Dense)              (None, 8)                 72        \n",
      "_________________________________________________________________\n",
      "dense_7 (Dense)              (None, 1)                 9         \n",
      "=================================================================\n",
      "Total params: 5,003,569\n",
      "Trainable params: 5,003,569\n",
      "Non-trainable params: 0\n",
      "_________________________________________________________________\n"
     ]
    }
   ],
   "source": [
    "lstm_model = tf.keras.Sequential()\n",
    "lstm_model.add(tf.keras.layers.Embedding(vocab_size, \n",
    "                                 word_vector_dim, \n",
    "                                 embeddings_initializer=Constant(embedding_matrix),  # 카피한 임베딩을 여기서 활용\n",
    "                                 input_length=maxlen, \n",
    "                                 trainable=True))\n",
    "lstm_model.add(tf.keras.layers.LSTM(8))\n",
    "lstm_model.add(tf.keras.layers.Dense(8, activation='relu'))\n",
    "lstm_model.add(tf.keras.layers.Dense(1, activation='sigmoid'))\n",
    "\n",
    "lstm_model.summary()"
   ]
  },
  {
   "cell_type": "code",
   "execution_count": 25,
   "id": "e9a2970b",
   "metadata": {},
   "outputs": [
    {
     "name": "stdout",
     "output_type": "stream",
     "text": [
      "Model: \"sequential_4\"\n",
      "_________________________________________________________________\n",
      "Layer (type)                 Output Shape              Param #   \n",
      "=================================================================\n",
      "embedding_4 (Embedding)      (None, 41, 100)           5000000   \n",
      "_________________________________________________________________\n",
      "conv1d_2 (Conv1D)            (None, 35, 16)            11216     \n",
      "_________________________________________________________________\n",
      "max_pooling1d_1 (MaxPooling1 (None, 7, 16)             0         \n",
      "_________________________________________________________________\n",
      "conv1d_3 (Conv1D)            (None, 1, 16)             1808      \n",
      "_________________________________________________________________\n",
      "global_max_pooling1d_2 (Glob (None, 16)                0         \n",
      "_________________________________________________________________\n",
      "dense_8 (Dense)              (None, 8)                 136       \n",
      "_________________________________________________________________\n",
      "dense_9 (Dense)              (None, 1)                 9         \n",
      "=================================================================\n",
      "Total params: 5,013,169\n",
      "Trainable params: 5,013,169\n",
      "Non-trainable params: 0\n",
      "_________________________________________________________________\n"
     ]
    }
   ],
   "source": [
    "conv1d_model = tf.keras.Sequential()\n",
    "conv1d_model.add(tf.keras.layers.Embedding(vocab_size, \n",
    "                                 word_vector_dim, \n",
    "                                 embeddings_initializer=Constant(embedding_matrix),  # 카피한 임베딩을 여기서 활용\n",
    "                                 input_length=maxlen, \n",
    "                                 trainable=True))\n",
    "conv1d_model.add(tf.keras.layers.Conv1D(16, 7, activation='relu'))\n",
    "conv1d_model.add(tf.keras.layers.MaxPooling1D(5))\n",
    "conv1d_model.add(tf.keras.layers.Conv1D(16, 7, activation='relu'))\n",
    "conv1d_model.add(tf.keras.layers.GlobalMaxPooling1D())\n",
    "conv1d_model.add(tf.keras.layers.Dense(8, activation='relu'))\n",
    "conv1d_model.add(tf.keras.layers.Dense(1, activation='sigmoid'))\n",
    "\n",
    "conv1d_model.summary()"
   ]
  },
  {
   "cell_type": "code",
   "execution_count": 26,
   "id": "0841f589",
   "metadata": {},
   "outputs": [
    {
     "name": "stdout",
     "output_type": "stream",
     "text": [
      "Model: \"sequential_5\"\n",
      "_________________________________________________________________\n",
      "Layer (type)                 Output Shape              Param #   \n",
      "=================================================================\n",
      "embedding_5 (Embedding)      (None, 41, 100)           5000000   \n",
      "_________________________________________________________________\n",
      "global_max_pooling1d_3 (Glob (None, 100)               0         \n",
      "_________________________________________________________________\n",
      "dense_10 (Dense)             (None, 8)                 808       \n",
      "_________________________________________________________________\n",
      "dense_11 (Dense)             (None, 1)                 9         \n",
      "=================================================================\n",
      "Total params: 5,000,817\n",
      "Trainable params: 5,000,817\n",
      "Non-trainable params: 0\n",
      "_________________________________________________________________\n"
     ]
    }
   ],
   "source": [
    "gmaxp_model = tf.keras.Sequential()\n",
    "gmaxp_model.add(tf.keras.layers.Embedding(vocab_size, \n",
    "                                 word_vector_dim, \n",
    "                                 embeddings_initializer=Constant(embedding_matrix),  # 카피한 임베딩을 여기서 활용\n",
    "                                 input_length=maxlen, \n",
    "                                 trainable=True))\n",
    "gmaxp_model.add(tf.keras.layers.GlobalMaxPooling1D())\n",
    "gmaxp_model.add(tf.keras.layers.Dense(8, activation='relu'))\n",
    "gmaxp_model.add(tf.keras.layers.Dense(1, activation='sigmoid'))\n",
    "\n",
    "gmaxp_model.summary()"
   ]
  },
  {
   "cell_type": "markdown",
   "id": "d17c552d",
   "metadata": {},
   "source": [
    "LSTM 모델 훈련 및 평가"
   ]
  },
  {
   "cell_type": "code",
   "execution_count": 27,
   "id": "2a7b2eee",
   "metadata": {},
   "outputs": [
    {
     "name": "stdout",
     "output_type": "stream",
     "text": [
      "Epoch 1/20\n",
      "247/247 [==============================] - 3s 9ms/step - loss: 0.5755 - accuracy: 0.6942 - val_loss: 0.4656 - val_accuracy: 0.7868\n",
      "Epoch 2/20\n",
      "247/247 [==============================] - 2s 7ms/step - loss: 0.4179 - accuracy: 0.8140 - val_loss: 0.3953 - val_accuracy: 0.8255\n",
      "Epoch 3/20\n",
      "247/247 [==============================] - 2s 7ms/step - loss: 0.3520 - accuracy: 0.8512 - val_loss: 0.3759 - val_accuracy: 0.8357\n",
      "Epoch 4/20\n",
      "247/247 [==============================] - 2s 7ms/step - loss: 0.3096 - accuracy: 0.8735 - val_loss: 0.3695 - val_accuracy: 0.8429\n",
      "Epoch 5/20\n",
      "247/247 [==============================] - 2s 7ms/step - loss: 0.2777 - accuracy: 0.8891 - val_loss: 0.3668 - val_accuracy: 0.8434\n",
      "Epoch 6/20\n",
      "247/247 [==============================] - 2s 7ms/step - loss: 0.2519 - accuracy: 0.9018 - val_loss: 0.3788 - val_accuracy: 0.8430\n",
      "Epoch 7/20\n",
      "247/247 [==============================] - 2s 7ms/step - loss: 0.2323 - accuracy: 0.9113 - val_loss: 0.3874 - val_accuracy: 0.8419\n",
      "Epoch 8/20\n",
      "247/247 [==============================] - 2s 7ms/step - loss: 0.2135 - accuracy: 0.9199 - val_loss: 0.4031 - val_accuracy: 0.8372\n",
      "Epoch 9/20\n",
      "247/247 [==============================] - 2s 7ms/step - loss: 0.1994 - accuracy: 0.9253 - val_loss: 0.4137 - val_accuracy: 0.8396\n",
      "Epoch 10/20\n",
      "247/247 [==============================] - 2s 7ms/step - loss: 0.1873 - accuracy: 0.9311 - val_loss: 0.4203 - val_accuracy: 0.8398\n",
      "Epoch 11/20\n",
      "247/247 [==============================] - 2s 7ms/step - loss: 0.1764 - accuracy: 0.9356 - val_loss: 0.4401 - val_accuracy: 0.8389\n",
      "Epoch 12/20\n",
      "247/247 [==============================] - 2s 7ms/step - loss: 0.1670 - accuracy: 0.9388 - val_loss: 0.4585 - val_accuracy: 0.8364\n",
      "Epoch 13/20\n",
      "247/247 [==============================] - 2s 7ms/step - loss: 0.1575 - accuracy: 0.9430 - val_loss: 0.4727 - val_accuracy: 0.8360\n",
      "Epoch 14/20\n",
      "247/247 [==============================] - 2s 7ms/step - loss: 0.1498 - accuracy: 0.9464 - val_loss: 0.4884 - val_accuracy: 0.8343\n",
      "Epoch 15/20\n",
      "247/247 [==============================] - 2s 7ms/step - loss: 0.1421 - accuracy: 0.9493 - val_loss: 0.5075 - val_accuracy: 0.8353\n",
      "Epoch 16/20\n",
      "247/247 [==============================] - 2s 7ms/step - loss: 0.1360 - accuracy: 0.9524 - val_loss: 0.5197 - val_accuracy: 0.8330\n",
      "Epoch 17/20\n",
      "247/247 [==============================] - 2s 7ms/step - loss: 0.1294 - accuracy: 0.9551 - val_loss: 0.5328 - val_accuracy: 0.8347\n",
      "Epoch 18/20\n",
      "247/247 [==============================] - 2s 7ms/step - loss: 0.1236 - accuracy: 0.9573 - val_loss: 0.5598 - val_accuracy: 0.8289\n",
      "Epoch 19/20\n",
      "247/247 [==============================] - 2s 7ms/step - loss: 0.1184 - accuracy: 0.9591 - val_loss: 0.5615 - val_accuracy: 0.8310\n",
      "Epoch 20/20\n",
      "247/247 [==============================] - 2s 7ms/step - loss: 0.1134 - accuracy: 0.9609 - val_loss: 0.5823 - val_accuracy: 0.8308\n",
      "1537/1537 - 3s - loss: 0.5671 - accuracy: 0.8264\n",
      "[0.5671307444572449, 0.8263522982597351]\n"
     ]
    }
   ],
   "source": [
    "lstm_model.compile(optimizer='adam',\n",
    "              loss='binary_crossentropy',\n",
    "              metrics=['accuracy'])\n",
    "\n",
    "epochs=20\n",
    "\n",
    "lstm_history = lstm_model.fit(partial_X_train,\n",
    "                    partial_Y_train,\n",
    "                    epochs=epochs,\n",
    "                    batch_size=512,\n",
    "                    validation_data=(X_val, Y_val),\n",
    "                    verbose=1)\n",
    "\n",
    "lstm_results = lstm_model.evaluate(X_test,  y_test, verbose=2)\n",
    "\n",
    "print(lstm_results)"
   ]
  },
  {
   "cell_type": "markdown",
   "id": "80262b3e",
   "metadata": {},
   "source": [
    "Conv1D 모델 훈련 및 평가"
   ]
  },
  {
   "cell_type": "code",
   "execution_count": 28,
   "id": "a520fb0c",
   "metadata": {},
   "outputs": [
    {
     "name": "stdout",
     "output_type": "stream",
     "text": [
      "Epoch 1/20\n",
      "247/247 [==============================] - 3s 8ms/step - loss: 0.5909 - accuracy: 0.6710 - val_loss: 0.4919 - val_accuracy: 0.7655\n",
      "Epoch 2/20\n",
      "247/247 [==============================] - 2s 7ms/step - loss: 0.4442 - accuracy: 0.7963 - val_loss: 0.4203 - val_accuracy: 0.8094\n",
      "Epoch 3/20\n",
      "247/247 [==============================] - 2s 7ms/step - loss: 0.3770 - accuracy: 0.8345 - val_loss: 0.3846 - val_accuracy: 0.8286\n",
      "Epoch 4/20\n",
      "247/247 [==============================] - 2s 7ms/step - loss: 0.3343 - accuracy: 0.8584 - val_loss: 0.3722 - val_accuracy: 0.8344\n",
      "Epoch 5/20\n",
      "247/247 [==============================] - 2s 7ms/step - loss: 0.3011 - accuracy: 0.8749 - val_loss: 0.3690 - val_accuracy: 0.8392\n",
      "Epoch 6/20\n",
      "247/247 [==============================] - 2s 7ms/step - loss: 0.2750 - accuracy: 0.8885 - val_loss: 0.3687 - val_accuracy: 0.8436\n",
      "Epoch 7/20\n",
      "247/247 [==============================] - 2s 7ms/step - loss: 0.2530 - accuracy: 0.8989 - val_loss: 0.3621 - val_accuracy: 0.8473\n",
      "Epoch 8/20\n",
      "247/247 [==============================] - 2s 7ms/step - loss: 0.2310 - accuracy: 0.9103 - val_loss: 0.3677 - val_accuracy: 0.8476\n",
      "Epoch 9/20\n",
      "247/247 [==============================] - 2s 7ms/step - loss: 0.2121 - accuracy: 0.9188 - val_loss: 0.3821 - val_accuracy: 0.8446\n",
      "Epoch 10/20\n",
      "247/247 [==============================] - 2s 7ms/step - loss: 0.1969 - accuracy: 0.9260 - val_loss: 0.3934 - val_accuracy: 0.8448\n",
      "Epoch 11/20\n",
      "247/247 [==============================] - 2s 7ms/step - loss: 0.1792 - accuracy: 0.9346 - val_loss: 0.4169 - val_accuracy: 0.8422\n",
      "Epoch 12/20\n",
      "247/247 [==============================] - 2s 7ms/step - loss: 0.1659 - accuracy: 0.9405 - val_loss: 0.4326 - val_accuracy: 0.8403\n",
      "Epoch 13/20\n",
      "247/247 [==============================] - 2s 7ms/step - loss: 0.1525 - accuracy: 0.9466 - val_loss: 0.4549 - val_accuracy: 0.8409\n",
      "Epoch 14/20\n",
      "247/247 [==============================] - 2s 7ms/step - loss: 0.1408 - accuracy: 0.9511 - val_loss: 0.4666 - val_accuracy: 0.8390\n",
      "Epoch 15/20\n",
      "247/247 [==============================] - 2s 7ms/step - loss: 0.1282 - accuracy: 0.9571 - val_loss: 0.5119 - val_accuracy: 0.8361\n",
      "Epoch 16/20\n",
      "247/247 [==============================] - 2s 7ms/step - loss: 0.1189 - accuracy: 0.9607 - val_loss: 0.5277 - val_accuracy: 0.8355\n",
      "Epoch 17/20\n",
      "247/247 [==============================] - 2s 7ms/step - loss: 0.1119 - accuracy: 0.9634 - val_loss: 0.5424 - val_accuracy: 0.8350\n",
      "Epoch 18/20\n",
      "247/247 [==============================] - 2s 7ms/step - loss: 0.1029 - accuracy: 0.9675 - val_loss: 0.5645 - val_accuracy: 0.8360\n",
      "Epoch 19/20\n",
      "247/247 [==============================] - 2s 7ms/step - loss: 0.0930 - accuracy: 0.9715 - val_loss: 0.5755 - val_accuracy: 0.8338\n",
      "Epoch 20/20\n",
      "247/247 [==============================] - 2s 7ms/step - loss: 0.0864 - accuracy: 0.9743 - val_loss: 0.6237 - val_accuracy: 0.8330\n",
      "1537/1537 - 3s - loss: 0.6360 - accuracy: 0.8311\n",
      "[0.6359652876853943, 0.8310922384262085]\n"
     ]
    }
   ],
   "source": [
    "conv1d_model.compile(optimizer='adam',\n",
    "              loss='binary_crossentropy',\n",
    "              metrics=['accuracy'])\n",
    "\n",
    "epochs=20\n",
    "\n",
    "conv1d_history = conv1d_model.fit(partial_X_train,\n",
    "                    partial_Y_train,\n",
    "                    epochs=epochs,\n",
    "                    batch_size=512,\n",
    "                    validation_data=(X_val, Y_val),\n",
    "                    verbose=1)\n",
    "\n",
    "conv1d_results = conv1d_model.evaluate(X_test,  y_test, verbose=2)\n",
    "\n",
    "print(conv1d_results)"
   ]
  },
  {
   "cell_type": "markdown",
   "id": "7a6ef856",
   "metadata": {},
   "source": [
    "GlobalMaxPooling 모델 훈련 및 평가"
   ]
  },
  {
   "cell_type": "code",
   "execution_count": 29,
   "id": "43cbdefc",
   "metadata": {},
   "outputs": [
    {
     "name": "stdout",
     "output_type": "stream",
     "text": [
      "Epoch 1/50\n",
      "247/247 [==============================] - 2s 6ms/step - loss: 0.6735 - accuracy: 0.5889 - val_loss: 0.6289 - val_accuracy: 0.6489\n",
      "Epoch 2/50\n",
      "247/247 [==============================] - 1s 5ms/step - loss: 0.6019 - accuracy: 0.6742 - val_loss: 0.5817 - val_accuracy: 0.6961\n",
      "Epoch 3/50\n",
      "247/247 [==============================] - 1s 5ms/step - loss: 0.5613 - accuracy: 0.7119 - val_loss: 0.5512 - val_accuracy: 0.7204\n",
      "Epoch 4/50\n",
      "247/247 [==============================] - 1s 5ms/step - loss: 0.5317 - accuracy: 0.7344 - val_loss: 0.5278 - val_accuracy: 0.7380\n",
      "Epoch 5/50\n",
      "247/247 [==============================] - 1s 5ms/step - loss: 0.5077 - accuracy: 0.7518 - val_loss: 0.5118 - val_accuracy: 0.7495\n",
      "Epoch 6/50\n",
      "247/247 [==============================] - 1s 5ms/step - loss: 0.4885 - accuracy: 0.7651 - val_loss: 0.4960 - val_accuracy: 0.7596\n",
      "Epoch 7/50\n",
      "247/247 [==============================] - 1s 5ms/step - loss: 0.4706 - accuracy: 0.7773 - val_loss: 0.4842 - val_accuracy: 0.7671\n",
      "Epoch 8/50\n",
      "247/247 [==============================] - 1s 5ms/step - loss: 0.4565 - accuracy: 0.7866 - val_loss: 0.4748 - val_accuracy: 0.7732\n",
      "Epoch 9/50\n",
      "247/247 [==============================] - 1s 5ms/step - loss: 0.4436 - accuracy: 0.7946 - val_loss: 0.4648 - val_accuracy: 0.7801\n",
      "Epoch 10/50\n",
      "247/247 [==============================] - 1s 5ms/step - loss: 0.4321 - accuracy: 0.8016 - val_loss: 0.4578 - val_accuracy: 0.7857\n",
      "Epoch 11/50\n",
      "247/247 [==============================] - 1s 5ms/step - loss: 0.4212 - accuracy: 0.8080 - val_loss: 0.4529 - val_accuracy: 0.7873\n",
      "Epoch 12/50\n",
      "247/247 [==============================] - 1s 5ms/step - loss: 0.4115 - accuracy: 0.8131 - val_loss: 0.4472 - val_accuracy: 0.7925\n",
      "Epoch 13/50\n",
      "247/247 [==============================] - 1s 5ms/step - loss: 0.4027 - accuracy: 0.8185 - val_loss: 0.4420 - val_accuracy: 0.7950\n",
      "Epoch 14/50\n",
      "247/247 [==============================] - 1s 5ms/step - loss: 0.3955 - accuracy: 0.8231 - val_loss: 0.4417 - val_accuracy: 0.7936\n",
      "Epoch 15/50\n",
      "247/247 [==============================] - 1s 5ms/step - loss: 0.3867 - accuracy: 0.8275 - val_loss: 0.4430 - val_accuracy: 0.7939\n",
      "Epoch 16/50\n",
      "247/247 [==============================] - 1s 5ms/step - loss: 0.3797 - accuracy: 0.8318 - val_loss: 0.4321 - val_accuracy: 0.8030\n",
      "Epoch 17/50\n",
      "247/247 [==============================] - 1s 5ms/step - loss: 0.3722 - accuracy: 0.8364 - val_loss: 0.4308 - val_accuracy: 0.8037\n",
      "Epoch 18/50\n",
      "247/247 [==============================] - 1s 5ms/step - loss: 0.3662 - accuracy: 0.8392 - val_loss: 0.4295 - val_accuracy: 0.8043\n",
      "Epoch 19/50\n",
      "247/247 [==============================] - 1s 5ms/step - loss: 0.3596 - accuracy: 0.8427 - val_loss: 0.4325 - val_accuracy: 0.8063\n",
      "Epoch 20/50\n",
      "247/247 [==============================] - 1s 5ms/step - loss: 0.3540 - accuracy: 0.8466 - val_loss: 0.4257 - val_accuracy: 0.8080\n",
      "Epoch 21/50\n",
      "247/247 [==============================] - 1s 5ms/step - loss: 0.3481 - accuracy: 0.8489 - val_loss: 0.4227 - val_accuracy: 0.8098\n",
      "Epoch 22/50\n",
      "247/247 [==============================] - 1s 5ms/step - loss: 0.3427 - accuracy: 0.8520 - val_loss: 0.4239 - val_accuracy: 0.8076\n",
      "Epoch 23/50\n",
      "247/247 [==============================] - 1s 5ms/step - loss: 0.3367 - accuracy: 0.8555 - val_loss: 0.4228 - val_accuracy: 0.8099\n",
      "Epoch 24/50\n",
      "247/247 [==============================] - 1s 5ms/step - loss: 0.3319 - accuracy: 0.8575 - val_loss: 0.4261 - val_accuracy: 0.8079\n",
      "Epoch 25/50\n",
      "247/247 [==============================] - 1s 5ms/step - loss: 0.3267 - accuracy: 0.8605 - val_loss: 0.4226 - val_accuracy: 0.8123\n",
      "Epoch 26/50\n",
      "247/247 [==============================] - 1s 5ms/step - loss: 0.3213 - accuracy: 0.8630 - val_loss: 0.4234 - val_accuracy: 0.8114\n",
      "Epoch 27/50\n",
      "247/247 [==============================] - 1s 5ms/step - loss: 0.3176 - accuracy: 0.8650 - val_loss: 0.4242 - val_accuracy: 0.8107\n",
      "Epoch 28/50\n",
      "247/247 [==============================] - 1s 5ms/step - loss: 0.3114 - accuracy: 0.8683 - val_loss: 0.4198 - val_accuracy: 0.8151\n",
      "Epoch 29/50\n",
      "247/247 [==============================] - 1s 5ms/step - loss: 0.3073 - accuracy: 0.8702 - val_loss: 0.4263 - val_accuracy: 0.8113\n",
      "Epoch 30/50\n",
      "247/247 [==============================] - 1s 5ms/step - loss: 0.3024 - accuracy: 0.8729 - val_loss: 0.4252 - val_accuracy: 0.8146\n",
      "Epoch 31/50\n",
      "247/247 [==============================] - 1s 5ms/step - loss: 0.2978 - accuracy: 0.8753 - val_loss: 0.4241 - val_accuracy: 0.8153\n",
      "Epoch 32/50\n",
      "247/247 [==============================] - 1s 5ms/step - loss: 0.2934 - accuracy: 0.8770 - val_loss: 0.4282 - val_accuracy: 0.8122\n",
      "Epoch 33/50\n",
      "247/247 [==============================] - 1s 5ms/step - loss: 0.2887 - accuracy: 0.8800 - val_loss: 0.4280 - val_accuracy: 0.8160\n",
      "Epoch 34/50\n",
      "247/247 [==============================] - 1s 5ms/step - loss: 0.2846 - accuracy: 0.8816 - val_loss: 0.4288 - val_accuracy: 0.8153\n",
      "Epoch 35/50\n",
      "247/247 [==============================] - 1s 5ms/step - loss: 0.2803 - accuracy: 0.8839 - val_loss: 0.4309 - val_accuracy: 0.8163\n",
      "Epoch 36/50\n",
      "247/247 [==============================] - 1s 5ms/step - loss: 0.2755 - accuracy: 0.8860 - val_loss: 0.4318 - val_accuracy: 0.8170\n",
      "Epoch 37/50\n",
      "247/247 [==============================] - 1s 5ms/step - loss: 0.2723 - accuracy: 0.8872 - val_loss: 0.4340 - val_accuracy: 0.8172\n",
      "Epoch 38/50\n",
      "247/247 [==============================] - 1s 5ms/step - loss: 0.2677 - accuracy: 0.8901 - val_loss: 0.4362 - val_accuracy: 0.8159\n",
      "Epoch 39/50\n",
      "247/247 [==============================] - 1s 5ms/step - loss: 0.2639 - accuracy: 0.8924 - val_loss: 0.4376 - val_accuracy: 0.8176\n",
      "Epoch 40/50\n",
      "247/247 [==============================] - 1s 5ms/step - loss: 0.2600 - accuracy: 0.8938 - val_loss: 0.4383 - val_accuracy: 0.8176\n",
      "Epoch 41/50\n",
      "247/247 [==============================] - 1s 5ms/step - loss: 0.2559 - accuracy: 0.8955 - val_loss: 0.4466 - val_accuracy: 0.8169\n",
      "Epoch 42/50\n",
      "247/247 [==============================] - 1s 5ms/step - loss: 0.2523 - accuracy: 0.8973 - val_loss: 0.4446 - val_accuracy: 0.8174\n",
      "Epoch 43/50\n",
      "247/247 [==============================] - 1s 5ms/step - loss: 0.2485 - accuracy: 0.8996 - val_loss: 0.4577 - val_accuracy: 0.8116\n",
      "Epoch 44/50\n",
      "247/247 [==============================] - 1s 5ms/step - loss: 0.2447 - accuracy: 0.9006 - val_loss: 0.4463 - val_accuracy: 0.8181\n",
      "Epoch 45/50\n",
      "247/247 [==============================] - 1s 5ms/step - loss: 0.2410 - accuracy: 0.9023 - val_loss: 0.4551 - val_accuracy: 0.8173\n",
      "Epoch 46/50\n",
      "247/247 [==============================] - 1s 5ms/step - loss: 0.2373 - accuracy: 0.9043 - val_loss: 0.4522 - val_accuracy: 0.8175\n",
      "Epoch 47/50\n",
      "247/247 [==============================] - 1s 5ms/step - loss: 0.2338 - accuracy: 0.9055 - val_loss: 0.4584 - val_accuracy: 0.8159\n",
      "Epoch 48/50\n",
      "247/247 [==============================] - 1s 5ms/step - loss: 0.2307 - accuracy: 0.9070 - val_loss: 0.4700 - val_accuracy: 0.8140\n",
      "Epoch 49/50\n",
      "247/247 [==============================] - 1s 5ms/step - loss: 0.2265 - accuracy: 0.9092 - val_loss: 0.4630 - val_accuracy: 0.8171\n",
      "Epoch 50/50\n",
      "247/247 [==============================] - 1s 5ms/step - loss: 0.2229 - accuracy: 0.9112 - val_loss: 0.4655 - val_accuracy: 0.8175\n",
      "1537/1537 - 2s - loss: 0.4707 - accuracy: 0.8148\n",
      "[0.47066667675971985, 0.814838171005249]\n"
     ]
    }
   ],
   "source": [
    "gmaxp_model.compile(optimizer='adam',\n",
    "              loss='binary_crossentropy',\n",
    "              metrics=['accuracy'])\n",
    "\n",
    "epochs=50\n",
    "\n",
    "gmaxp_history = gmaxp_model.fit(partial_X_train,\n",
    "                    partial_Y_train,\n",
    "                    epochs=epochs,\n",
    "                    batch_size=512,\n",
    "                    validation_data=(X_val, Y_val),\n",
    "                    verbose=1)\n",
    "\n",
    "gmaxp_results = gmaxp_model.evaluate(X_test,  y_test, verbose=2)\n",
    "\n",
    "print(gmaxp_results)"
   ]
  },
  {
   "cell_type": "markdown",
   "id": "4a8bb427",
   "metadata": {},
   "source": [
    "### 결과값 시각화  \n",
    "차례대로  \n",
    "LSTM의 loss&val_loss, acc&val_acc  \n",
    "Conv1D의 loss&val_loss, acc&val_acc  \n",
    "GlobalMaxPooling의 loss&val_loss, acc&val_acc  "
   ]
  },
  {
   "cell_type": "code",
   "execution_count": 30,
   "id": "a536e2fa",
   "metadata": {},
   "outputs": [
    {
     "data": {
      "image/png": "[encoded data removed]",
      "text/plain": [
       "<Figure size 864x1296 with 6 Axes>"
      ]
     },
     "metadata": {
      "needs_background": "light"
     },
     "output_type": "display_data"
    }
   ],
   "source": [
    "import matplotlib.pyplot as plt\n",
    "\n",
    "lstm_dict = lstm_history.history\n",
    "conv1d_dict = conv1d_history.history\n",
    "gmaxp_dict = gmaxp_history.history\n",
    "\n",
    "l_acc = lstm_dict['accuracy']\n",
    "l_val_acc = lstm_dict['val_accuracy']\n",
    "l_loss = lstm_dict['loss']\n",
    "l_val_loss = lstm_dict['val_loss']\n",
    "\n",
    "c_acc = conv1d_dict['accuracy']\n",
    "c_val_acc = conv1d_dict['val_accuracy']\n",
    "c_loss = conv1d_dict['loss']\n",
    "c_val_loss = conv1d_dict['val_loss']\n",
    "\n",
    "g_acc = gmaxp_dict['accuracy']\n",
    "g_val_acc = gmaxp_dict['val_accuracy']\n",
    "g_loss = gmaxp_dict['loss']\n",
    "g_val_loss = gmaxp_dict['val_loss']\n",
    "\n",
    "epochs = range(1, len(l_acc) + 1)\n",
    "epochs_g = range(1, len(g_acc)+ 1)\n",
    "\n",
    "fig, axs = plt.subplots(3, 2, figsize=(12, 18))\n",
    "\n",
    "axs[0, 0].plot(epochs, l_loss, label='loss', linestyle='-', color='blue')\n",
    "axs[0, 0].plot(epochs, l_val_loss, label='val_loss', linestyle='--', color='red')\n",
    "axs[0, 0].set_title('LSTM loss & val_loss')\n",
    "axs[0, 0].legend()\n",
    "axs[0, 0].grid(True)\n",
    "\n",
    "axs[0, 1].plot(epochs, l_acc, label='acc', linestyle='-', color='green')\n",
    "axs[0, 1].plot(epochs, l_val_acc, label='val_acc', linestyle='--', color='purple')\n",
    "axs[0, 1].set_title('LSTM acc & val_acc')\n",
    "axs[0, 1].legend()\n",
    "axs[0, 1].grid(True)\n",
    "\n",
    "axs[1, 0].plot(epochs, c_loss, label='loss', linestyle='-', color='orange')\n",
    "axs[1, 0].plot(epochs, c_val_loss, label='val_loss', linestyle='--', color='brown')\n",
    "axs[1, 0].set_title('Conv1D loss & val_loss')\n",
    "axs[1, 0].legend()\n",
    "axs[1, 0].grid(True)\n",
    "\n",
    "axs[1, 1].plot(epochs, c_acc, label='acc', linestyle='-', color='blue')\n",
    "axs[1, 1].plot(epochs, c_val_acc, label='val_acc', linestyle='--', color='red')\n",
    "axs[1, 1].set_title('Conv1D acc & val_acc')\n",
    "axs[1, 1].legend()\n",
    "axs[1, 1].grid(True)\n",
    "\n",
    "axs[2, 0].plot(epochs_g, g_loss, label='loss', linestyle='-', color='green')\n",
    "axs[2, 0].plot(epochs_g, g_val_loss, label='val_loss', linestyle='--', color='purple')\n",
    "axs[2, 0].set_title('GlobalMaxPooling loss & val_loss')\n",
    "axs[2, 0].legend()\n",
    "axs[2, 0].grid(True)\n",
    "\n",
    "axs[2, 1].plot(epochs_g, g_acc, label='acc', linestyle='-', color='orange')\n",
    "axs[2, 1].plot(epochs_g, g_val_acc, label='val_acc', linestyle='--', color='brown')\n",
    "axs[2, 1].set_title('GlobalMaxPooling acc & val_acc')\n",
    "axs[2, 1].legend()\n",
    "axs[2, 1].grid(True)\n",
    "\n",
    "plt.show()"
   ]
  },
  {
   "cell_type": "markdown",
   "id": "738c5e34",
   "metadata": {},
   "source": [
    "이유는 잘 모르겠으나 pretrained 임베딩을 사용해도 성능은 향상되지 않았다."
   ]
  },
  {
   "cell_type": "markdown",
   "id": "ca129f1e",
   "metadata": {},
   "source": [
    "### LSTM 하이퍼파라미터 조정하여 테스트\n",
    "- 수업 종료 후 에포크를 20회 이상으로 하여 테스트해서 깃헙에 올려놓겠습니다."
   ]
  },
  {
   "cell_type": "code",
   "execution_count": 31,
   "id": "8844791a",
   "metadata": {},
   "outputs": [
    {
     "name": "stdout",
     "output_type": "stream",
     "text": [
      "WARNING:tensorflow:Layer lstm_2 will not use cuDNN kernels since it doesn't meet the criteria. It will use a generic GPU kernel as fallback when running on GPU.\n",
      "WARNING:tensorflow:Layer lstm_3 will not use cuDNN kernels since it doesn't meet the criteria. It will use a generic GPU kernel as fallback when running on GPU.\n",
      "Model: \"sequential_6\"\n",
      "_________________________________________________________________\n",
      "Layer (type)                 Output Shape              Param #   \n",
      "=================================================================\n",
      "embedding_6 (Embedding)      (None, 41, 100)           5000000   \n",
      "_________________________________________________________________\n",
      "lstm_2 (LSTM)                (None, 41, 16)            7488      \n",
      "_________________________________________________________________\n",
      "lstm_3 (LSTM)                (None, 8)                 800       \n",
      "_________________________________________________________________\n",
      "dense_12 (Dense)             (None, 8)                 72        \n",
      "_________________________________________________________________\n",
      "dense_13 (Dense)             (None, 1)                 9         \n",
      "=================================================================\n",
      "Total params: 5,008,369\n",
      "Trainable params: 5,008,369\n",
      "Non-trainable params: 0\n",
      "_________________________________________________________________\n"
     ]
    }
   ],
   "source": [
    "from tensorflow.keras.layers import Dropout\n",
    "lstm_model = tf.keras.Sequential()\n",
    "lstm_model.add(tf.keras.layers.Embedding(vocab_size, \n",
    "                                 word_vector_dim, \n",
    "                                 embeddings_initializer=Constant(embedding_matrix),  # 카피한 임베딩을 여기서 활용\n",
    "                                 input_length=maxlen, \n",
    "                                 trainable=True))\n",
    "lstm_model.add(tf.keras.layers.LSTM(16, return_sequences=True, recurrent_dropout=0.2))\n",
    "lstm_model.add(tf.keras.layers.LSTM(8, recurrent_dropout=0.2))\n",
    "lstm_model.add(tf.keras.layers.Dense(8, activation='relu'))\n",
    "lstm_model.add(tf.keras.layers.Dense(1, activation='sigmoid'))\n",
    "\n",
    "lstm_model.summary()"
   ]
  },
  {
   "cell_type": "code",
   "execution_count": 34,
   "id": "a0b2185b",
   "metadata": {},
   "outputs": [
    {
     "name": "stdout",
     "output_type": "stream",
     "text": [
      "Epoch 1/3\n",
      "247/247 [==============================] - 71s 273ms/step - loss: 0.2981 - accuracy: 0.8783 - val_loss: 0.3477 - val_accuracy: 0.8524\n",
      "Epoch 2/3\n",
      "247/247 [==============================] - 67s 271ms/step - loss: 0.2725 - accuracy: 0.8909 - val_loss: 0.3489 - val_accuracy: 0.8523\n",
      "Epoch 3/3\n",
      "247/247 [==============================] - 67s 272ms/step - loss: 0.2518 - accuracy: 0.9014 - val_loss: 0.3521 - val_accuracy: 0.8523\n",
      "1537/1537 - 34s - loss: 0.3583 - accuracy: 0.8504\n",
      "[0.35833191871643066, 0.8504180312156677]\n"
     ]
    }
   ],
   "source": [
    "lstm_model.compile(optimizer='adam',\n",
    "              loss='binary_crossentropy',\n",
    "              metrics=['accuracy'])\n",
    "\n",
    "epochs=3\n",
    "\n",
    "lstm_history = lstm_model.fit(partial_X_train,\n",
    "                    partial_Y_train,\n",
    "                    epochs=epochs,\n",
    "                    batch_size=512,\n",
    "                    validation_data=(X_val, Y_val),\n",
    "                    verbose=1)\n",
    "\n",
    "lstm_results = lstm_model.evaluate(X_test,  y_test, verbose=2)\n",
    "\n",
    "print(lstm_results)"
   ]
  },
  {
   "cell_type": "code",
   "execution_count": 35,
   "id": "1e46a951",
   "metadata": {},
   "outputs": [
    {
     "data": {
      "image/png": "[encoded data removed]",
      "text/plain": [
       "<Figure size 864x432 with 2 Axes>"
      ]
     },
     "metadata": {
      "needs_background": "light"
     },
     "output_type": "display_data"
    }
   ],
   "source": [
    "lstm_dict = lstm_history.history\n",
    "\n",
    "l_acc = lstm_dict['accuracy']\n",
    "l_val_acc = lstm_dict['val_accuracy']\n",
    "l_loss = lstm_dict['loss']\n",
    "l_val_loss = lstm_dict['val_loss']\n",
    "\n",
    "epochs = range(1, len(l_acc) + 1)\n",
    "\n",
    "fig, axs = plt.subplots(1, 2, figsize=(12, 6))\n",
    "\n",
    "axs[0].plot(epochs, l_loss, label='loss', linestyle='-', color='blue')\n",
    "axs[0].plot(epochs, l_val_loss, label='val_loss', linestyle='--', color='red')\n",
    "axs[0].set_title('LSTM loss & val_loss')\n",
    "axs[0].legend()\n",
    "axs[0].grid(True)\n",
    "\n",
    "axs[1].plot(epochs, l_acc, label='acc', linestyle='-', color='green')\n",
    "axs[1].plot(epochs, l_val_acc, label='val_acc', linestyle='--', color='purple')\n",
    "axs[1].set_title('LSTM acc & val_acc')\n",
    "axs[1].legend()\n",
    "axs[1].grid(True)"
   ]
  },
  {
   "cell_type": "markdown",
   "id": "921351b6",
   "metadata": {},
   "source": [
    "### 회고\n",
    "- 비록 pretrained임베딩을 사용한 모델에서는 기대하던 성능향상이 없었지만 기존 임베딩을 사용한 모델들에서 약 epochs 5회 부근에서 val_accuracy가 0.85를 넘겼다.\n",
    "- lstm에서 레이어를 추가하고 과적합을 방지하기 위해 recurrent_dropout을 추가해 실험을 진행해 보았다. 하지만 학습시간이 에포크당 1분이 넘게 걸렸다.\n",
    "- 만들어진 임베딩벡터에서는 유사 단어가 훈련을 할때마다 아예 다른것들로 채워지는 모습을 볼 수 있었다.\n",
    "- 단어수를 10000개도 해보고 30000개, 50000개도 해보았으나 큰 성능차이는 보여지지 않았다.\n",
    "\n",
    "### 보완할 점\n",
    "- 사전훈련된 임베딩에서 결측치 등이 있는지 검사하지 않았다.\n",
    "- 임베딩에 들어가는 단어 중 ~같은 특수기호를 빼고 실험해 봐야 한다.\n",
    "- 데이터셋의 문장을 봤을 때 띄워쓰기가 잘 되지않은 문장도 있었고, 구분자로 시작하는 단어도 있었다. 이것들에 대해 좀더 명확히 구분할 수 있는 알고리즘을 사용해야 한다.\n",
    "- 시간관계상 수업시간에 레이어를 수정한 lstm모델의 에포크 수를 충분히 가저가지 못했다."
   ]
  },
  {
   "cell_type": "code",
   "execution_count": null,
   "id": "3321a48a",
   "metadata": {},
   "outputs": [],
   "source": []
  }
 ],
 "metadata": {
  "kernelspec": {
   "display_name": "Python 3 (ipykernel)",
   "language": "python",
   "name": "python3"
  },
  "language_info": {
   "codemirror_mode": {
    "name": "ipython",
    "version": 3
   },
   "file_extension": ".py",
   "mimetype": "text/x-python",
   "name": "python",
   "nbconvert_exporter": "python",
   "pygments_lexer": "ipython3",
   "version": "3.9.7"
  }
 },
 "nbformat": 4,
 "nbformat_minor": 5
}
