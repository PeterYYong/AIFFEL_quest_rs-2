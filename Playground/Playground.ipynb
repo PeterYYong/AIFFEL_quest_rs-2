{
 "cells": [
  {
   "cell_type": "code",
   "execution_count": 1,
   "id": "94da5f27",
   "metadata": {},
   "outputs": [],
   "source": [
    "from tensorflow import keras\n",
    "from tensorflow.keras import layers\n",
    "\n",
    "model = keras.Sequential([\n",
    "    layers.Dense(64, activation=\"relu\"),\n",
    "    layers.Dense(10, activation=\"softmax\")\n",
    "])"
   ]
  },
  {
   "cell_type": "markdown",
   "id": "ace73f13",
   "metadata": {},
   "source": [
    "# Sequential"
   ]
  },
  {
   "cell_type": "markdown",
   "id": "e8bc0b61",
   "metadata": {},
   "source": [
    "점진적으로 모델 생성"
   ]
  },
  {
   "cell_type": "code",
   "execution_count": 2,
   "id": "73f803b5",
   "metadata": {},
   "outputs": [],
   "source": [
    "model = keras.Sequential()\n",
    "model.add(layers.Dense(64, activation=\"relu\"))\n",
    "model.add(layers.Dense(10, activation=\"softmax\"))"
   ]
  },
  {
   "cell_type": "code",
   "execution_count": 3,
   "id": "54a1fb29",
   "metadata": {},
   "outputs": [
    {
     "data": {
      "text/plain": [
       "[<tf.Variable 'dense_2/kernel:0' shape=(3, 64) dtype=float32, numpy=\n",
       " array([[-0.01008996,  0.26300573, -0.05608071, -0.29865742,  0.2379793 ,\n",
       "         -0.00616065,  0.1096378 , -0.13008848, -0.24566968,  0.02750143,\n",
       "         -0.15655053, -0.04709157,  0.24581224, -0.01848105,  0.25719213,\n",
       "          0.22201931,  0.28043216, -0.17195337,  0.03082031,  0.23351508,\n",
       "          0.26225805, -0.07424328, -0.01721492, -0.26104984,  0.28490424,\n",
       "         -0.15467758, -0.24843496, -0.10967591, -0.05095205,  0.18172988,\n",
       "         -0.12683026, -0.02776036,  0.06775066, -0.12695405, -0.24969389,\n",
       "         -0.09596351, -0.19520935,  0.17596495, -0.15149128,  0.04828736,\n",
       "         -0.10497405, -0.03114322, -0.23712268,  0.07008272,  0.17012867,\n",
       "          0.27675354,  0.19324544, -0.2914534 , -0.27626687,  0.01566482,\n",
       "         -0.1158812 , -0.14399417, -0.2827512 ,  0.27583003,  0.06364667,\n",
       "          0.22009635,  0.25567842,  0.27222258,  0.01444507, -0.01271489,\n",
       "         -0.13622293, -0.0898277 , -0.24296239,  0.21702826],\n",
       "        [ 0.23296183, -0.27996966,  0.00745359,  0.26306862,  0.286507  ,\n",
       "         -0.29101497, -0.22035903, -0.27936998, -0.0556764 ,  0.05296513,\n",
       "         -0.25227788, -0.0230408 , -0.19317502, -0.27479377, -0.17841431,\n",
       "         -0.26898965, -0.25520492,  0.02231911,  0.19219434, -0.08651975,\n",
       "         -0.06374115,  0.2939282 , -0.01612508, -0.06023799, -0.26386198,\n",
       "         -0.08987893,  0.21280241,  0.06786895, -0.12878674,  0.22981435,\n",
       "         -0.05109246,  0.262519  , -0.19995981, -0.16868502,  0.06046367,\n",
       "          0.29170465, -0.28213   ,  0.15126646, -0.10244599, -0.12335293,\n",
       "          0.19083318, -0.20912644, -0.22391549,  0.01632816, -0.06313235,\n",
       "          0.2421552 ,  0.06567025,  0.03539482,  0.01960933,  0.23679954,\n",
       "          0.06008524,  0.00308436, -0.22512183,  0.00206709,  0.01776829,\n",
       "         -0.09541562, -0.12707427,  0.13661283,  0.13305518,  0.07114103,\n",
       "          0.13856977,  0.02387726, -0.19736803,  0.20241249],\n",
       "        [ 0.1611481 ,  0.06737843, -0.15167864, -0.14118694,  0.28877598,\n",
       "          0.24260885, -0.27231959,  0.12189758,  0.17629328, -0.12288788,\n",
       "         -0.04309884,  0.1255695 ,  0.28022254,  0.25956064, -0.20367922,\n",
       "          0.00856525, -0.09846537, -0.1987464 ,  0.14717904, -0.2443944 ,\n",
       "          0.0273892 ,  0.00549874,  0.25751227, -0.10250528,  0.11321533,\n",
       "         -0.08830571,  0.27026063,  0.15366161, -0.23303398,  0.03105938,\n",
       "          0.01376578,  0.09804457, -0.07216072,  0.25761884,  0.0350318 ,\n",
       "          0.14878401,  0.14367166,  0.01633322, -0.12789041, -0.27071527,\n",
       "         -0.13299061,  0.1588462 ,  0.03929675, -0.24929897, -0.28404388,\n",
       "          0.13381588, -0.1699921 , -0.05354732, -0.10528477, -0.18103005,\n",
       "          0.19918945,  0.15899125, -0.23674797, -0.226791  , -0.16439974,\n",
       "         -0.18818441,  0.17529592,  0.23316503,  0.22659618, -0.12571496,\n",
       "          0.01592875, -0.14508685, -0.24141894,  0.08041278]],\n",
       "       dtype=float32)>,\n",
       " <tf.Variable 'dense_2/bias:0' shape=(64,) dtype=float32, numpy=\n",
       " array([0., 0., 0., 0., 0., 0., 0., 0., 0., 0., 0., 0., 0., 0., 0., 0., 0.,\n",
       "        0., 0., 0., 0., 0., 0., 0., 0., 0., 0., 0., 0., 0., 0., 0., 0., 0.,\n",
       "        0., 0., 0., 0., 0., 0., 0., 0., 0., 0., 0., 0., 0., 0., 0., 0., 0.,\n",
       "        0., 0., 0., 0., 0., 0., 0., 0., 0., 0., 0., 0., 0.], dtype=float32)>,\n",
       " <tf.Variable 'dense_3/kernel:0' shape=(64, 10) dtype=float32, numpy=\n",
       " array([[-1.30024478e-01,  2.74458200e-01, -2.48354375e-02,\n",
       "          8.00426304e-02, -2.74583369e-01,  1.92545950e-01,\n",
       "          7.26950169e-03, -3.43237519e-02, -2.27360010e-01,\n",
       "         -1.37281403e-01],\n",
       "        [ 1.61156058e-03, -3.70735377e-02,  2.60804594e-02,\n",
       "         -7.04170465e-02, -7.75671303e-02,  2.08533704e-01,\n",
       "         -2.48960212e-01, -1.76294670e-01, -8.92937183e-03,\n",
       "         -1.49855822e-01],\n",
       "        [ 2.16365963e-01, -2.77705252e-01, -1.96522772e-01,\n",
       "          3.76454294e-02, -1.87300920e-01, -1.61939055e-01,\n",
       "         -2.66291142e-01,  2.81567425e-01,  5.28600514e-02,\n",
       "          1.07239544e-01],\n",
       "        [ 1.17251337e-01,  6.09144270e-02, -1.09318376e-01,\n",
       "          2.25835234e-01, -1.15872994e-01,  2.73519486e-01,\n",
       "         -1.78217351e-01,  1.99469686e-01, -2.43019715e-01,\n",
       "         -7.97900558e-03],\n",
       "        [ 9.02794302e-02,  1.99255168e-01, -4.21256423e-02,\n",
       "         -3.99449170e-02, -2.19196558e-01, -1.36091381e-01,\n",
       "          9.38996673e-02,  7.56016076e-02,  2.08763301e-01,\n",
       "         -1.81903124e-01],\n",
       "        [-1.66922316e-01, -2.08438575e-01, -1.44529045e-01,\n",
       "         -1.42391488e-01,  1.50077134e-01, -8.33402127e-02,\n",
       "         -2.76540428e-01,  1.67563945e-01,  1.88423336e-01,\n",
       "         -2.25328431e-01],\n",
       "        [ 2.26659626e-01,  2.26806194e-01,  3.53782773e-02,\n",
       "         -2.11803645e-01, -2.03585118e-01, -5.18916249e-02,\n",
       "         -2.82960892e-01, -2.04430491e-01,  2.44604915e-01,\n",
       "         -8.01416188e-02],\n",
       "        [-1.81754798e-01, -8.78141075e-02, -2.34690815e-01,\n",
       "         -1.17045507e-01, -1.13983229e-01, -1.81024641e-01,\n",
       "         -1.35438353e-01,  6.88862801e-02, -1.26852095e-02,\n",
       "         -1.12211734e-01],\n",
       "        [-4.43180501e-02, -2.57132888e-01, -9.31237042e-02,\n",
       "         -2.25279212e-01, -1.02388874e-01,  7.17000961e-02,\n",
       "          8.28388631e-02,  2.02699840e-01, -1.10926658e-01,\n",
       "         -9.96939391e-02],\n",
       "        [ 1.24965310e-01,  1.59133971e-02,  6.40231371e-02,\n",
       "         -7.44768977e-03,  2.17401475e-01, -3.51237059e-02,\n",
       "         -1.14089891e-01, -9.86267328e-02,  3.66079509e-02,\n",
       "          2.41332263e-01],\n",
       "        [-2.09282041e-01,  1.57954097e-02,  3.44986320e-02,\n",
       "         -1.52382851e-01, -2.54445523e-01, -8.31466615e-02,\n",
       "         -1.53138041e-02, -2.25601554e-01, -1.46773726e-01,\n",
       "         -8.55039805e-02],\n",
       "        [-1.79618046e-01,  1.81434900e-01,  2.64300674e-01,\n",
       "          1.54266357e-02, -1.10492513e-01,  2.20237166e-01,\n",
       "         -1.65389925e-01,  2.07671434e-01,  2.49841005e-01,\n",
       "         -1.02017581e-01],\n",
       "        [-2.51636475e-01, -2.39274681e-01, -1.64140627e-01,\n",
       "         -2.33153939e-01,  1.43051147e-02,  2.13814527e-01,\n",
       "          2.11084425e-01,  8.64308774e-02, -1.95628315e-01,\n",
       "          1.78988904e-01],\n",
       "        [ 1.06951207e-01, -1.90515399e-01,  8.44428539e-02,\n",
       "          2.60642201e-01, -1.17246389e-01,  1.70953155e-01,\n",
       "          1.65452361e-02,  2.27124423e-01, -2.20134318e-01,\n",
       "         -8.96468759e-03],\n",
       "        [-1.77129507e-01,  2.50729322e-02, -2.11122513e-01,\n",
       "          3.32990587e-02, -1.91025525e-01, -1.11581996e-01,\n",
       "          2.73740023e-01, -5.08311987e-02,  2.67549485e-01,\n",
       "         -1.37543857e-01],\n",
       "        [ 1.99500322e-01,  6.27022684e-02, -3.99747193e-02,\n",
       "         -1.54717281e-01,  1.35617644e-01,  1.27172649e-01,\n",
       "         -1.92704007e-01,  1.49535716e-01, -5.05665690e-02,\n",
       "          9.06764567e-02],\n",
       "        [ 2.29653805e-01, -1.05820253e-01,  3.17200124e-02,\n",
       "         -2.17348933e-02,  4.19230759e-02,  1.45403117e-01,\n",
       "          2.82327741e-01, -1.34352058e-01, -7.82703906e-02,\n",
       "         -5.26859909e-02],\n",
       "        [-1.88492715e-01,  1.81359142e-01, -3.76837254e-02,\n",
       "         -2.07224786e-01,  6.40055537e-02, -7.29313195e-02,\n",
       "         -3.93375754e-03, -1.09229028e-01, -2.29222625e-01,\n",
       "          1.70485139e-01],\n",
       "        [ 2.14605302e-01,  7.68027604e-02, -4.04308587e-02,\n",
       "          6.62476420e-02, -2.84690976e-01, -1.90126002e-02,\n",
       "         -7.56269246e-02,  1.59829259e-01, -4.93711084e-02,\n",
       "         -1.56645954e-01],\n",
       "        [ 1.48904622e-02, -6.04774207e-02, -2.73821592e-01,\n",
       "         -2.21004725e-01, -1.44124821e-01,  2.69600540e-01,\n",
       "         -6.30277991e-02, -2.75808275e-02, -2.28085130e-01,\n",
       "          5.26836216e-02],\n",
       "        [ 1.68183833e-01,  5.93031943e-02,  8.22077692e-02,\n",
       "          1.75303161e-01, -2.32401192e-02,  1.49467885e-01,\n",
       "          2.54699290e-02,  1.95251107e-02, -1.50187120e-01,\n",
       "         -2.79919118e-01],\n",
       "        [ 9.80418026e-02,  2.07625747e-01,  1.22493953e-01,\n",
       "         -2.65930593e-01, -9.63812917e-02, -1.68770045e-01,\n",
       "          4.21982706e-02,  1.01657033e-01, -1.04509309e-01,\n",
       "         -2.71536648e-01],\n",
       "        [-2.99460590e-02,  1.31820828e-01, -2.62996763e-01,\n",
       "          2.56881982e-01,  1.39350802e-01,  1.42302006e-01,\n",
       "         -1.62196904e-01, -2.68955916e-01,  1.77837193e-01,\n",
       "         -1.71618745e-01],\n",
       "        [ 6.90536499e-02,  1.58345222e-01,  2.45296985e-01,\n",
       "          1.64423734e-01, -4.02266532e-02, -4.28189188e-02,\n",
       "          2.25814909e-01, -8.38332921e-02,  4.42412496e-03,\n",
       "         -2.19379514e-01],\n",
       "        [-4.71507162e-02,  2.59801477e-01, -2.22080216e-01,\n",
       "         -1.52307630e-01,  2.17918068e-01,  2.56094664e-01,\n",
       "          2.65286952e-01, -1.69607252e-01, -2.00470716e-01,\n",
       "         -1.99432969e-01],\n",
       "        [-1.74025744e-01,  5.28454483e-02,  2.60889530e-03,\n",
       "          2.35525101e-01,  1.54493183e-01, -5.47098368e-02,\n",
       "         -8.89855921e-02,  1.76082522e-01,  5.00274599e-02,\n",
       "         -2.06415415e-01],\n",
       "        [-1.71916157e-01,  2.45875388e-01, -1.11283422e-01,\n",
       "         -9.62745100e-02,  1.10236019e-01, -1.90263733e-01,\n",
       "          1.10187560e-01, -1.60044551e-01, -1.69326678e-01,\n",
       "          2.53361434e-01],\n",
       "        [-2.48586684e-01, -1.83681875e-01, -1.35333538e-02,\n",
       "         -2.84564167e-01, -1.74857527e-01,  2.26393074e-01,\n",
       "          8.25300813e-03,  2.52585679e-01, -9.53495502e-04,\n",
       "         -5.61243743e-02],\n",
       "        [-1.48443520e-01,  1.39072657e-01,  1.64231062e-02,\n",
       "          2.50241667e-01,  8.29914808e-02,  2.22306579e-01,\n",
       "          1.63811445e-01,  2.53888100e-01,  1.53186262e-01,\n",
       "          2.47388989e-01],\n",
       "        [ 6.84717596e-02,  1.60311222e-01,  2.83680409e-01,\n",
       "         -5.16187102e-02, -4.14157212e-02, -1.56447440e-01,\n",
       "         -1.65626645e-01,  1.78587884e-01, -1.47225857e-01,\n",
       "         -1.49870962e-01],\n",
       "        [-2.36590073e-01,  1.70310646e-01, -7.30901957e-03,\n",
       "          1.49459273e-01, -2.56707579e-01, -2.30748624e-01,\n",
       "         -7.83373266e-02,  1.57977939e-01,  2.26227313e-01,\n",
       "          1.42432749e-02],\n",
       "        [-7.44760036e-05,  7.82425702e-02, -2.86527276e-02,\n",
       "          1.65612519e-01,  2.13121295e-01,  1.17936403e-01,\n",
       "         -2.43982047e-01,  7.70510435e-02,  5.45798838e-02,\n",
       "         -1.63042516e-01],\n",
       "        [ 2.01099783e-01, -4.58437949e-02, -2.77326643e-01,\n",
       "         -1.23384982e-01, -3.89127880e-02, -1.94778964e-01,\n",
       "         -1.67689383e-01,  1.82564080e-01, -3.09733748e-02,\n",
       "          2.28674799e-01],\n",
       "        [ 4.65326607e-02,  2.21524835e-02, -2.36672431e-01,\n",
       "         -1.97668195e-01,  1.39943480e-01,  1.18168861e-01,\n",
       "          2.57004589e-01,  2.75145441e-01,  2.05558866e-01,\n",
       "         -1.64596573e-01],\n",
       "        [-2.57647038e-01,  2.05249220e-01, -2.23386198e-01,\n",
       "          5.17194569e-02, -2.83594161e-01,  4.99780178e-02,\n",
       "         -1.73003078e-01,  2.59456009e-01, -4.83112931e-02,\n",
       "          1.57824785e-01],\n",
       "        [-9.55303013e-02, -1.75369203e-01, -2.89089382e-02,\n",
       "         -2.23778397e-01,  2.95307934e-02, -1.43108070e-02,\n",
       "          2.77274698e-01, -1.58454031e-01,  8.08524191e-02,\n",
       "         -2.11467534e-01],\n",
       "        [-2.63706475e-01, -1.34511128e-01, -1.74400225e-01,\n",
       "          6.56366348e-04,  2.29151994e-01, -3.72040272e-03,\n",
       "         -1.85007423e-01, -4.47394401e-02,  2.31954068e-01,\n",
       "         -7.07230270e-02],\n",
       "        [ 1.60156548e-01, -7.16209263e-02,  1.83245897e-01,\n",
       "          1.72397226e-01, -7.54926503e-02, -1.23172969e-01,\n",
       "         -2.11815178e-01,  1.78871542e-01, -1.75771251e-01,\n",
       "          2.58716673e-01],\n",
       "        [ 1.35871619e-01,  5.62898219e-02, -1.18842423e-02,\n",
       "         -1.85409322e-01,  1.77276760e-01,  1.44741654e-01,\n",
       "          8.53699744e-02,  2.55092114e-01, -1.10411048e-01,\n",
       "         -1.28457859e-01],\n",
       "        [ 9.78666544e-02,  2.59504586e-01, -2.77807713e-01,\n",
       "         -1.66009888e-01, -1.04412436e-01,  7.28877485e-02,\n",
       "          3.34700942e-03, -2.19811231e-01, -2.27439791e-01,\n",
       "          1.29130989e-01],\n",
       "        [-2.06032455e-01, -1.76938742e-01,  1.91103727e-01,\n",
       "         -2.50110179e-01,  2.56685466e-01,  2.29938328e-02,\n",
       "         -9.13226753e-02, -2.22447559e-01,  1.89091146e-01,\n",
       "          2.25576609e-01],\n",
       "        [-5.91703504e-02,  3.20922434e-02,  2.16498971e-03,\n",
       "          1.06543005e-02,  2.83389062e-01,  2.34841794e-01,\n",
       "         -2.12731346e-01, -9.92458016e-02,  2.21697986e-02,\n",
       "         -2.51060724e-03],\n",
       "        [-1.38447464e-01,  3.02695036e-02,  1.93010390e-01,\n",
       "         -6.94763660e-03,  2.66786724e-01, -2.62672246e-01,\n",
       "          7.61268735e-02, -2.10279137e-01, -1.68003589e-01,\n",
       "          7.69939423e-02],\n",
       "        [ 1.83667898e-01, -1.74124181e-01,  9.94144976e-02,\n",
       "          2.40313321e-01, -1.06146663e-01,  7.32072890e-02,\n",
       "          1.72703952e-01, -1.20844439e-01, -2.64110267e-01,\n",
       "         -4.63161618e-02],\n",
       "        [-2.77125686e-01, -1.66209340e-02,  2.04707682e-01,\n",
       "          2.82043815e-02, -2.53496617e-01, -8.00888687e-02,\n",
       "         -3.85753214e-02, -3.22471857e-02, -2.13409290e-01,\n",
       "          2.24523455e-01],\n",
       "        [-1.58256292e-02, -2.22803295e-01, -2.38161087e-02,\n",
       "         -2.29247943e-01,  2.80907780e-01,  6.89485371e-02,\n",
       "         -1.36850581e-01,  2.44685143e-01, -1.61876798e-01,\n",
       "          9.71513987e-03],\n",
       "        [-1.99179202e-01,  1.75532550e-01,  2.30702668e-01,\n",
       "         -2.70065963e-01,  1.69648260e-01,  8.68063569e-02,\n",
       "          3.70357931e-02, -5.85118979e-02,  2.16828138e-01,\n",
       "          2.40475088e-01],\n",
       "        [ 1.54424012e-02,  1.92096472e-01, -1.78474039e-01,\n",
       "          7.66136944e-02, -1.22537941e-01,  2.14540720e-01,\n",
       "         -5.26139587e-02, -1.70312226e-01,  1.66361421e-01,\n",
       "          1.38724059e-01],\n",
       "        [-2.39871770e-01, -1.12561300e-01, -2.43520260e-01,\n",
       "          4.86736894e-02,  4.73124981e-02,  1.54109955e-01,\n",
       "         -1.92861304e-01, -2.50288248e-01, -2.21112937e-01,\n",
       "         -1.91117778e-01],\n",
       "        [-1.06809393e-01,  2.78481632e-01,  7.99729824e-02,\n",
       "          2.33374864e-01, -2.99527943e-02,  1.03755951e-01,\n",
       "         -1.89385042e-01,  7.37776160e-02, -4.04019356e-02,\n",
       "          1.13949418e-01],\n",
       "        [-3.53962183e-04, -2.50199258e-01,  2.33904868e-01,\n",
       "         -2.76747018e-01,  6.79680109e-02, -1.73516855e-01,\n",
       "          2.36641258e-01,  2.03559339e-01, -6.51474297e-02,\n",
       "         -5.12375832e-02],\n",
       "        [ 1.15663409e-01, -1.64012939e-01,  2.17999429e-01,\n",
       "          2.59004384e-01,  2.01826066e-01,  1.92502707e-01,\n",
       "         -1.18303016e-01, -2.01885521e-01,  6.98003471e-02,\n",
       "         -3.14149261e-02],\n",
       "        [-2.01372892e-01,  3.89583409e-02,  1.14084035e-01,\n",
       "          9.73864496e-02,  2.57166594e-01,  2.55457133e-01,\n",
       "         -4.07504141e-02,  2.26935238e-01,  1.07210010e-01,\n",
       "         -1.97882444e-01],\n",
       "        [ 4.93588150e-02,  2.90679336e-02,  1.99654400e-02,\n",
       "          2.23200649e-01,  1.40551358e-01,  1.24430746e-01,\n",
       "         -2.08285898e-01,  5.69314361e-02, -2.66644984e-01,\n",
       "          1.34631902e-01],\n",
       "        [-2.17971832e-01, -2.09447086e-01,  1.89031601e-01,\n",
       "          9.52388048e-02,  2.08410144e-01,  1.81067556e-01,\n",
       "         -1.11682683e-01,  4.51358557e-02, -2.66694188e-01,\n",
       "         -2.52603680e-01],\n",
       "        [ 2.65141159e-01, -5.36903441e-02, -2.29930297e-01,\n",
       "          2.55895466e-01,  1.38518810e-02,  6.81910515e-02,\n",
       "          2.47192383e-02,  1.50096625e-01,  1.52005106e-01,\n",
       "          2.20416576e-01],\n",
       "        [-1.23921722e-01, -2.72105306e-01, -2.01644450e-01,\n",
       "          2.96620131e-02,  2.84374207e-01, -1.69208199e-01,\n",
       "         -1.66091830e-01, -2.07395062e-01, -1.53088018e-01,\n",
       "         -2.00085580e-01],\n",
       "        [-4.02385294e-02, -2.54099488e-01,  1.40435129e-01,\n",
       "          4.88332808e-02, -1.54804870e-01,  4.04717326e-02,\n",
       "         -2.04484791e-01,  7.25332797e-02,  9.65419114e-02,\n",
       "          7.83315003e-02],\n",
       "        [ 4.30112481e-02,  2.53217489e-01, -1.32743016e-01,\n",
       "          2.54428118e-01, -2.55569160e-01,  1.84572041e-02,\n",
       "         -3.40761840e-02,  1.46422267e-01, -1.29140154e-01,\n",
       "         -3.69666219e-02],\n",
       "        [ 1.56559467e-01,  2.44155794e-01,  2.56088048e-01,\n",
       "          5.84463179e-02, -2.06828117e-01, -6.16094023e-02,\n",
       "          2.78918743e-02, -5.59981614e-02, -1.42264530e-01,\n",
       "          2.01254755e-01],\n",
       "        [-1.01526812e-01, -1.42068669e-01,  2.65360504e-01,\n",
       "         -1.24179080e-01, -1.92898989e-01, -1.35490149e-01,\n",
       "          1.95975304e-01, -1.12789065e-01,  8.25450420e-02,\n",
       "          1.74916923e-01],\n",
       "        [ 9.18342769e-02, -1.23678952e-01, -2.71514386e-01,\n",
       "         -2.63280332e-01, -2.02881992e-01, -1.43523395e-01,\n",
       "         -7.86762983e-02, -1.01067007e-01,  1.15387797e-01,\n",
       "          2.03310519e-01],\n",
       "        [ 1.82843924e-01, -2.17195183e-01, -9.91125405e-02,\n",
       "          2.64831185e-02, -7.25110173e-02,  2.24361569e-01,\n",
       "         -1.60332918e-02, -1.94678217e-01,  2.10410148e-01,\n",
       "         -2.68304169e-01],\n",
       "        [ 2.51603723e-02, -1.81112349e-01,  2.64461130e-01,\n",
       "          2.46657461e-01,  1.20850474e-01, -1.01110727e-01,\n",
       "          1.68769836e-01, -1.35525256e-01, -1.92079157e-01,\n",
       "         -2.71113515e-02]], dtype=float32)>,\n",
       " <tf.Variable 'dense_3/bias:0' shape=(10,) dtype=float32, numpy=array([0., 0., 0., 0., 0., 0., 0., 0., 0., 0.], dtype=float32)>]"
      ]
     },
     "execution_count": 3,
     "metadata": {},
     "output_type": "execute_result"
    }
   ],
   "source": [
    "model.build(input_shape=(None, 3))\n",
    "model.weights"
   ]
  },
  {
   "cell_type": "code",
   "execution_count": 4,
   "id": "26e3d6aa",
   "metadata": {},
   "outputs": [
    {
     "name": "stdout",
     "output_type": "stream",
     "text": [
      "Model: \"sequential_1\"\n",
      "_________________________________________________________________\n",
      "Layer (type)                 Output Shape              Param #   \n",
      "=================================================================\n",
      "dense_2 (Dense)              (None, 64)                256       \n",
      "_________________________________________________________________\n",
      "dense_3 (Dense)              (None, 10)                650       \n",
      "=================================================================\n",
      "Total params: 906\n",
      "Trainable params: 906\n",
      "Non-trainable params: 0\n",
      "_________________________________________________________________\n"
     ]
    }
   ],
   "source": [
    "model.summary()"
   ]
  },
  {
   "cell_type": "markdown",
   "id": "03a476a6",
   "metadata": {},
   "source": [
    "name 매개변수로 모델과 층에 이름 지정"
   ]
  },
  {
   "cell_type": "code",
   "execution_count": 5,
   "id": "b844a696",
   "metadata": {},
   "outputs": [
    {
     "name": "stdout",
     "output_type": "stream",
     "text": [
      "Model: \"my_example_model\"\n",
      "_________________________________________________________________\n",
      "Layer (type)                 Output Shape              Param #   \n",
      "=================================================================\n",
      "my_first_layer (Dense)       (None, 64)                256       \n",
      "_________________________________________________________________\n",
      "my_last_layer (Dense)        (None, 10)                650       \n",
      "=================================================================\n",
      "Total params: 906\n",
      "Trainable params: 906\n",
      "Non-trainable params: 0\n",
      "_________________________________________________________________\n"
     ]
    }
   ],
   "source": [
    "model = keras.Sequential(name=\"my_example_model\")\n",
    "model.add(layers.Dense(64, activation=\"relu\", name=\"my_first_layer\"))\n",
    "model.add(layers.Dense(10, activation=\"softmax\", name=\"my_last_layer\"))\n",
    "model.build((None, 3))\n",
    "model.summary()"
   ]
  },
  {
   "cell_type": "markdown",
   "id": "56fc42cb",
   "metadata": {},
   "source": [
    "모델의 입력 크기를 미리 지정"
   ]
  },
  {
   "cell_type": "code",
   "execution_count": 6,
   "id": "4bb7006e",
   "metadata": {},
   "outputs": [],
   "source": [
    "model = keras.Sequential()\n",
    "model.add(keras.Input(shape=(3,)))\n",
    "model.add(layers.Dense(64, activation=\"relu\"))"
   ]
  },
  {
   "cell_type": "code",
   "execution_count": 7,
   "id": "f8e80ee5",
   "metadata": {},
   "outputs": [
    {
     "name": "stdout",
     "output_type": "stream",
     "text": [
      "Model: \"sequential_2\"\n",
      "_________________________________________________________________\n",
      "Layer (type)                 Output Shape              Param #   \n",
      "=================================================================\n",
      "dense_4 (Dense)              (None, 64)                256       \n",
      "=================================================================\n",
      "Total params: 256\n",
      "Trainable params: 256\n",
      "Non-trainable params: 0\n",
      "_________________________________________________________________\n"
     ]
    }
   ],
   "source": [
    "model.summary()"
   ]
  },
  {
   "cell_type": "code",
   "execution_count": 8,
   "id": "8b781b70",
   "metadata": {},
   "outputs": [
    {
     "name": "stdout",
     "output_type": "stream",
     "text": [
      "Model: \"sequential_2\"\n",
      "_________________________________________________________________\n",
      "Layer (type)                 Output Shape              Param #   \n",
      "=================================================================\n",
      "dense_4 (Dense)              (None, 64)                256       \n",
      "_________________________________________________________________\n",
      "dense_5 (Dense)              (None, 10)                650       \n",
      "=================================================================\n",
      "Total params: 906\n",
      "Trainable params: 906\n",
      "Non-trainable params: 0\n",
      "_________________________________________________________________\n"
     ]
    }
   ],
   "source": [
    "model.add(layers.Dense(10, activation=\"softmax\"))\n",
    "model.summary()"
   ]
  },
  {
   "cell_type": "markdown",
   "id": "4399de24",
   "metadata": {},
   "source": [
    "# 함수형 API"
   ]
  },
  {
   "cell_type": "markdown",
   "id": "12550528",
   "metadata": {},
   "source": [
    "dense층이 2개인 함수형 모델"
   ]
  },
  {
   "cell_type": "code",
   "execution_count": 9,
   "id": "631013b5",
   "metadata": {},
   "outputs": [],
   "source": [
    "inputs = keras.Input(shape=(3,), name=\"my_input\")\n",
    "features = layers.Dense(64, activation=\"relu\")(inputs)\n",
    "outputs = layers.Dense(10, activation=\"softmax\")(features)\n",
    "model = keras.Model(inputs=inputs, outputs=outputs)"
   ]
  },
  {
   "cell_type": "code",
   "execution_count": 10,
   "id": "32d254b4",
   "metadata": {},
   "outputs": [],
   "source": [
    "inputs = keras.Input(shape=(3,), name=\"my_input\")"
   ]
  },
  {
   "cell_type": "code",
   "execution_count": 11,
   "id": "4266dc5e",
   "metadata": {},
   "outputs": [
    {
     "data": {
      "text/plain": [
       "TensorShape([None, 3])"
      ]
     },
     "execution_count": 11,
     "metadata": {},
     "output_type": "execute_result"
    }
   ],
   "source": [
    "inputs.shape"
   ]
  },
  {
   "cell_type": "code",
   "execution_count": 12,
   "id": "e9318519",
   "metadata": {},
   "outputs": [
    {
     "data": {
      "text/plain": [
       "tf.float32"
      ]
     },
     "execution_count": 12,
     "metadata": {},
     "output_type": "execute_result"
    }
   ],
   "source": [
    "inputs.dtype"
   ]
  },
  {
   "cell_type": "code",
   "execution_count": 13,
   "id": "c3763423",
   "metadata": {},
   "outputs": [
    {
     "data": {
      "text/plain": [
       "TensorShape([None, 64])"
      ]
     },
     "execution_count": 13,
     "metadata": {},
     "output_type": "execute_result"
    }
   ],
   "source": [
    "features = layers.Dense(64, activation=\"relu\")(inputs)\n",
    "features.shape"
   ]
  },
  {
   "cell_type": "code",
   "execution_count": 14,
   "id": "a5a29419",
   "metadata": {},
   "outputs": [
    {
     "name": "stdout",
     "output_type": "stream",
     "text": [
      "Model: \"model_1\"\n",
      "_________________________________________________________________\n",
      "Layer (type)                 Output Shape              Param #   \n",
      "=================================================================\n",
      "my_input (InputLayer)        [(None, 3)]               0         \n",
      "_________________________________________________________________\n",
      "dense_8 (Dense)              (None, 64)                256       \n",
      "_________________________________________________________________\n",
      "dense_9 (Dense)              (None, 10)                650       \n",
      "=================================================================\n",
      "Total params: 906\n",
      "Trainable params: 906\n",
      "Non-trainable params: 0\n",
      "_________________________________________________________________\n"
     ]
    }
   ],
   "source": [
    "outputs = layers.Dense(10, activation=\"softmax\")(features)\n",
    "model = keras.Model(inputs=inputs, outputs=outputs)\n",
    "model.summary()"
   ]
  },
  {
   "cell_type": "markdown",
   "id": "d9488452",
   "metadata": {},
   "source": [
    "다중입력, 다중출력 함수형 모델"
   ]
  },
  {
   "cell_type": "code",
   "execution_count": 15,
   "id": "13fb7329",
   "metadata": {},
   "outputs": [],
   "source": [
    "vocabulary_size = 10000\n",
    "num_tags = 100\n",
    "num_departments = 4\n",
    "\n",
    "title = keras.Input(shape=(vocabulary_size,), name=\"title\")\n",
    "text_body = keras.Input(shape=(vocabulary_size,), name=\"text_body\")\n",
    "tags = keras.Input(shape=(num_tags,), name=\"tags\")\n",
    "\n",
    "features = layers.Concatenate()([title, text_body, tags])\n",
    "features = layers.Dense(64, activation=\"relu\")(features)\n",
    "\n",
    "priority = layers.Dense(1, activation=\"sigmoid\", name=\"priority\")(features)\n",
    "department = layers.Dense(\n",
    "    num_departments, activation=\"softmax\", name=\"department\")(features)\n",
    "\n",
    "model = keras.Model(inputs=[title, text_body, tags], outputs=[priority, department])"
   ]
  },
  {
   "cell_type": "markdown",
   "id": "029edaa8",
   "metadata": {},
   "source": [
    "입력과 타겟을 리스트로 전달"
   ]
  },
  {
   "cell_type": "code",
   "execution_count": 16,
   "id": "bc83318a",
   "metadata": {},
   "outputs": [
    {
     "name": "stdout",
     "output_type": "stream",
     "text": [
      "40/40 [==============================] - 4s 31ms/step - loss: 35.9787 - priority_loss: 0.3339 - department_loss: 35.6448 - priority_mean_absolute_error: 0.5012 - department_accuracy: 0.2531\n",
      "40/40 [==============================] - 1s 10ms/step - loss: 24.2815 - priority_loss: 0.3390 - department_loss: 23.9425 - priority_mean_absolute_error: 0.5071 - department_accuracy: 0.5734\n"
     ]
    }
   ],
   "source": [
    "import numpy as np\n",
    "\n",
    "num_samples = 1280\n",
    "\n",
    "title_data = np.random.randint(0, 2, size=(num_samples, vocabulary_size))\n",
    "text_body_data = np.random.randint(0, 2, size=(num_samples, vocabulary_size))\n",
    "tags_data = np.random.randint(0, 2, size=(num_samples, num_tags))\n",
    "\n",
    "priority_data = np.random.random(size=(num_samples, 1))\n",
    "department_data = np.random.randint(0, 2, size=(num_samples, num_departments))\n",
    "\n",
    "model.compile(optimizer=\"rmsprop\",\n",
    "              loss=[\"mean_squared_error\", \"categorical_crossentropy\"],\n",
    "              metrics=[[\"mean_absolute_error\"], [\"accuracy\"]])\n",
    "model.fit([title_data, text_body_data, tags_data],\n",
    "          [priority_data, department_data],\n",
    "          epochs=1)\n",
    "model.evaluate([title_data, text_body_data, tags_data],\n",
    "               [priority_data, department_data])\n",
    "priority_preds, department_preds = model.predict([title_data, text_body_data, tags_data])"
   ]
  },
  {
   "cell_type": "markdown",
   "id": "8b9bfff4",
   "metadata": {},
   "source": [
    "입력과 타겟을 딕셔너리로 전달"
   ]
  },
  {
   "cell_type": "code",
   "execution_count": 17,
   "id": "945abc0c",
   "metadata": {},
   "outputs": [
    {
     "name": "stdout",
     "output_type": "stream",
     "text": [
      "40/40 [==============================] - 2s 24ms/step - loss: 51.1835 - priority_loss: 0.3346 - department_loss: 50.8489 - priority_mean_absolute_error: 0.5026 - department_accuracy: 0.2438\n",
      "40/40 [==============================] - 1s 9ms/step - loss: 28.0205 - priority_loss: 0.3249 - department_loss: 27.6956 - priority_mean_absolute_error: 0.4929 - department_accuracy: 0.0656\n"
     ]
    }
   ],
   "source": [
    "model.compile(optimizer=\"rmsprop\",\n",
    "              loss={\"priority\": \"mean_squared_error\", \"department\": \"categorical_crossentropy\"},\n",
    "              metrics={\"priority\": [\"mean_absolute_error\"], \"department\": [\"accuracy\"]})\n",
    "model.fit({\"title\": title_data, \"text_body\": text_body_data, \"tags\": tags_data},\n",
    "          {\"priority\": priority_data, \"department\": department_data},\n",
    "          epochs=1)\n",
    "model.evaluate({\"title\": title_data, \"text_body\": text_body_data, \"tags\": tags_data},\n",
    "               {\"priority\": priority_data, \"department\": department_data})\n",
    "priority_preds, department_preds = model.predict(\n",
    "    {\"title\": title_data, \"text_body\": text_body_data, \"tags\": tags_data})"
   ]
  },
  {
   "cell_type": "markdown",
   "id": "4426cc10",
   "metadata": {},
   "source": [
    "함수형 api의 장점 : 층연결 구조"
   ]
  },
  {
   "cell_type": "code",
   "execution_count": 18,
   "id": "c6b9a220",
   "metadata": {},
   "outputs": [
    {
     "data": {
      "image/png": "[encoded data removed]",
      "text/plain": [
       "<IPython.core.display.Image object>"
      ]
     },
     "execution_count": 18,
     "metadata": {},
     "output_type": "execute_result"
    }
   ],
   "source": [
    "keras.utils.plot_model(model, \"ticket_classifier.png\")"
   ]
  },
  {
   "cell_type": "code",
   "execution_count": 19,
   "id": "216e7872",
   "metadata": {},
   "outputs": [
    {
     "data": {
      "image/png": "[encoded data removed]",
      "text/plain": [
       "<IPython.core.display.Image object>"
      ]
     },
     "execution_count": 19,
     "metadata": {},
     "output_type": "execute_result"
    }
   ],
   "source": [
    "keras.utils.plot_model(model, \"ticket_classifier_with_shape_info.png\", show_shapes=True)"
   ]
  },
  {
   "cell_type": "markdown",
   "id": "64fb1883",
   "metadata": {},
   "source": [
    "함수형 모델의 입력과 출력을 출력"
   ]
  },
  {
   "cell_type": "code",
   "execution_count": 20,
   "id": "0ba4f8fb",
   "metadata": {},
   "outputs": [
    {
     "data": {
      "text/plain": [
       "[<keras.engine.input_layer.InputLayer at 0x7984f84ed100>,\n",
       " <keras.engine.input_layer.InputLayer at 0x79847c196f40>,\n",
       " <keras.engine.input_layer.InputLayer at 0x79847c198dc0>,\n",
       " <keras.layers.merge.Concatenate at 0x79847c198a60>,\n",
       " <keras.layers.core.Dense at 0x79847c198640>,\n",
       " <keras.layers.core.Dense at 0x79847c1f3a00>,\n",
       " <keras.layers.core.Dense at 0x79847c1f31f0>]"
      ]
     },
     "execution_count": 20,
     "metadata": {},
     "output_type": "execute_result"
    }
   ],
   "source": [
    "model.layers"
   ]
  },
  {
   "cell_type": "code",
   "execution_count": 21,
   "id": "dbc25885",
   "metadata": {},
   "outputs": [
    {
     "data": {
      "text/plain": [
       "[<KerasTensor: shape=(None, 10000) dtype=float32 (created by layer 'title')>,\n",
       " <KerasTensor: shape=(None, 10000) dtype=float32 (created by layer 'text_body')>,\n",
       " <KerasTensor: shape=(None, 100) dtype=float32 (created by layer 'tags')>]"
      ]
     },
     "execution_count": 21,
     "metadata": {},
     "output_type": "execute_result"
    }
   ],
   "source": [
    "model.layers[3].input"
   ]
  },
  {
   "cell_type": "code",
   "execution_count": 22,
   "id": "b98f3dc5",
   "metadata": {},
   "outputs": [
    {
     "data": {
      "text/plain": [
       "<KerasTensor: shape=(None, 20100) dtype=float32 (created by layer 'concatenate')>"
      ]
     },
     "execution_count": 22,
     "metadata": {},
     "output_type": "execute_result"
    }
   ],
   "source": [
    "model.layers[3].output"
   ]
  },
  {
   "cell_type": "markdown",
   "id": "3620d777",
   "metadata": {},
   "source": [
    "중간층의 출력으로 새로운 모델 생성"
   ]
  },
  {
   "cell_type": "code",
   "execution_count": 23,
   "id": "e9b129dd",
   "metadata": {},
   "outputs": [],
   "source": [
    "features = model.layers[4].output\n",
    "difficulty = layers.Dense(3, activation=\"softmax\", name=\"difficulty\")(features)\n",
    "\n",
    "new_model = keras.Model(\n",
    "    inputs=[title, text_body, tags],\n",
    "    outputs=[priority, department, difficulty])"
   ]
  },
  {
   "cell_type": "code",
   "execution_count": 24,
   "id": "6b800007",
   "metadata": {},
   "outputs": [
    {
     "data": {
      "image/png": "[encoded data removed]",
      "text/plain": [
       "<IPython.core.display.Image object>"
      ]
     },
     "execution_count": 24,
     "metadata": {},
     "output_type": "execute_result"
    }
   ],
   "source": [
    "keras.utils.plot_model(new_model, \"updated_ticket_classifier.png\", show_shapes=True)"
   ]
  },
  {
   "cell_type": "markdown",
   "id": "03fbd2d8",
   "metadata": {},
   "source": [
    "# 모델 서브클래싱"
   ]
  },
  {
   "cell_type": "code",
   "execution_count": 25,
   "id": "be9f58fe",
   "metadata": {},
   "outputs": [],
   "source": [
    "class CustomerTicketModel(keras.Model):\n",
    "\n",
    "    def __init__(self, num_departments):\n",
    "        super().__init__()\n",
    "        self.concat_layer = layers.Concatenate()\n",
    "        self.mixing_layer = layers.Dense(64, activation=\"relu\")\n",
    "        self.priority_scorer = layers.Dense(1, activation=\"sigmoid\")\n",
    "        self.department_classifier = layers.Dense(\n",
    "            num_departments, activation=\"softmax\")\n",
    "\n",
    "    def call(self, inputs):\n",
    "        title = inputs[\"title\"]\n",
    "        text_body = inputs[\"text_body\"]\n",
    "        tags = inputs[\"tags\"]\n",
    "\n",
    "        features = self.concat_layer([title, text_body, tags])\n",
    "        features = self.mixing_layer(features)\n",
    "        priority = self.priority_scorer(features)\n",
    "        department = self.department_classifier(features)\n",
    "        return priority, department"
   ]
  },
  {
   "cell_type": "code",
   "execution_count": 26,
   "id": "870c4fea",
   "metadata": {},
   "outputs": [],
   "source": [
    "model = CustomerTicketModel(num_departments=4)\n",
    "\n",
    "priority, department = model(\n",
    "    {\"title\": title_data, \"text_body\": text_body_data, \"tags\": tags_data})"
   ]
  },
  {
   "cell_type": "code",
   "execution_count": 27,
   "id": "fa77203c",
   "metadata": {},
   "outputs": [
    {
     "name": "stdout",
     "output_type": "stream",
     "text": [
      "40/40 [==============================] - 2s 28ms/step - loss: 38.9482 - output_1_loss: 0.3185 - output_2_loss: 38.6297 - output_1_mean_absolute_error: 0.4868 - output_2_accuracy: 0.2703\n",
      "40/40 [==============================] - 1s 11ms/step - loss: 17.2135 - output_1_loss: 0.3249 - output_2_loss: 16.8886 - output_1_mean_absolute_error: 0.4929 - output_2_accuracy: 0.0602\n"
     ]
    }
   ],
   "source": [
    "model.compile(optimizer=\"rmsprop\", loss=[\"mean_squared_error\", \"categorical_crossentropy\"], metrics=[[\"mean_absolute_error\"], [\"accuracy\"]])\n",
    "model.fit({\"title\": title_data, \"text_body\": text_body_data, \"tags\": tags_data}, [priority_data, department_data], epochs=1)\n",
    "model.evaluate({\"title\": title_data, \"text_body\": text_body_data, \"tags\": tags_data},\n",
    "               [priority_data, department_data])\n",
    "priority_preds, department_preds = model.predict({\"title\": title_data, \"text_body\": text_body_data, \"tags\": tags_data})"
   ]
  },
  {
   "cell_type": "markdown",
   "id": "5b335865",
   "metadata": {},
   "source": [
    "여러방식을 혼합하여 사용하기"
   ]
  },
  {
   "cell_type": "code",
   "execution_count": 28,
   "id": "84edc31c",
   "metadata": {},
   "outputs": [],
   "source": [
    "class Classifier(keras.Model):\n",
    "\n",
    "    def __init__(self, num_classes=2):\n",
    "        super().__init__()\n",
    "        if num_classes == 2:\n",
    "            num_units = 1\n",
    "            activation = \"sigmoid\"\n",
    "        else:\n",
    "            num_units = num_classes\n",
    "            activation = \"softmax\"\n",
    "        self.dense = layers.Dense(num_units, activation=activation)\n",
    "\n",
    "    def call(self, inputs):\n",
    "        return self.dense(inputs)\n",
    "\n",
    "inputs = keras.Input(shape=(3,))\n",
    "features = layers.Dense(64, activation=\"relu\")(inputs)\n",
    "outputs = Classifier(num_classes=10)(features)\n",
    "model = keras.Model(inputs=inputs, outputs=outputs)"
   ]
  },
  {
   "cell_type": "markdown",
   "id": "ad7d054a",
   "metadata": {},
   "source": [
    "함수형 모델을 포함하여 만드는 것"
   ]
  },
  {
   "cell_type": "code",
   "execution_count": 29,
   "id": "930478c8",
   "metadata": {},
   "outputs": [],
   "source": [
    "inputs = keras.Input(shape=(64,))\n",
    "outputs = layers.Dense(1, activation=\"sigmoid\")(inputs)\n",
    "binary_classifier = keras.Model(inputs=inputs, outputs=outputs)\n",
    "\n",
    "class MyModel(keras.Model):\n",
    "\n",
    "    def __init__(self, num_classes=2):\n",
    "        super().__init__()\n",
    "        self.dense = layers.Dense(64, activation=\"relu\")\n",
    "        self.classifier = binary_classifier\n",
    "\n",
    "    def call(self, inputs):\n",
    "        features = self.dense(inputs)\n",
    "        return self.classifier(features)\n",
    "\n",
    "model = MyModel()"
   ]
  },
  {
   "cell_type": "markdown",
   "id": "572d77c1",
   "metadata": {},
   "source": [
    "# 조별 특별 미션  \n",
    "사용자 정의 지표를 사용하는 모델"
   ]
  },
  {
   "cell_type": "code",
   "execution_count": 30,
   "id": "f4dffb85",
   "metadata": {},
   "outputs": [
    {
     "name": "stdout",
     "output_type": "stream",
     "text": [
      "Downloading data from https://storage.googleapis.com/tensorflow/tf-keras-datasets/mnist.npz\n",
      "11493376/11490434 [==============================] - 0s 0us/step\n",
      "11501568/11490434 [==============================] - 0s 0us/step\n",
      "Epoch 1/3\n",
      "1563/1563 [==============================] - 12s 8ms/step - loss: 0.2989 - accuracy: 0.9114 - val_loss: 0.1498 - val_accuracy: 0.9577\n",
      "Epoch 2/3\n",
      "1563/1563 [==============================] - 12s 8ms/step - loss: 0.1656 - accuracy: 0.9526 - val_loss: 0.1234 - val_accuracy: 0.9673\n",
      "Epoch 3/3\n",
      "1563/1563 [==============================] - 12s 7ms/step - loss: 0.1419 - accuracy: 0.9617 - val_loss: 0.1167 - val_accuracy: 0.9712\n",
      "313/313 [==============================] - 1s 2ms/step - loss: 0.1097 - accuracy: 0.9723\n"
     ]
    }
   ],
   "source": [
    "from tensorflow.keras.datasets import mnist\n",
    "\n",
    "def get_mnist_model():\n",
    "    inputs = keras.Input(shape=(28 * 28,))\n",
    "    features = layers.Dense(512, activation=\"relu\")(inputs)\n",
    "    features = layers.Dropout(0.5)(features)\n",
    "    outputs = layers.Dense(10, activation=\"softmax\")(features)\n",
    "    model = keras.Model(inputs, outputs)\n",
    "    return model\n",
    "\n",
    "(images, labels), (test_images, test_labels) = mnist.load_data()\n",
    "images = images.reshape((60000, 28 * 28)).astype(\"float32\") / 255\n",
    "test_images = test_images.reshape((10000, 28 * 28)).astype(\"float32\") / 255\n",
    "train_images, val_images = images[10000:], images[:10000]\n",
    "train_labels, val_labels = labels[10000:], labels[:10000]\n",
    "\n",
    "model = get_mnist_model()\n",
    "model.compile(optimizer=\"rmsprop\",\n",
    "              loss=\"sparse_categorical_crossentropy\",\n",
    "              metrics=[\"accuracy\"])\n",
    "model.fit(train_images, train_labels,\n",
    "          epochs=3,\n",
    "          validation_data=(val_images, val_labels))\n",
    "test_metrics = model.evaluate(test_images, test_labels)\n",
    "predictions = model.predict(test_images)"
   ]
  },
  {
   "cell_type": "markdown",
   "id": "12270fc1",
   "metadata": {},
   "source": [
    "사용자 정의 지표 생성"
   ]
  },
  {
   "cell_type": "code",
   "execution_count": 31,
   "id": "455f1644",
   "metadata": {},
   "outputs": [],
   "source": [
    "import tensorflow as tf\n",
    "\n",
    "class RootMeanSquaredError(keras.metrics.Metric):\n",
    "\n",
    "    def __init__(self, name=\"rmse\", **kwargs):\n",
    "        super().__init__(name=name, **kwargs)\n",
    "        self.mse_sum = self.add_weight(name=\"mse_sum\", initializer=\"zeros\")\n",
    "        self.total_samples = self.add_weight(name=\"total_samples\", initializer=\"zeros\", dtype=\"int32\")\n",
    "\n",
    "    def update_state(self, y_true, y_pred, sample_weight=None):\n",
    "        y_true = tf.one_hot(y_true, depth=tf.shape(y_pred)[1])\n",
    "        mse = tf.reduce_sum(tf.square(y_true - y_pred))\n",
    "        self.mse_sum.assign_add(mse)\n",
    "        num_samples = tf.shape(y_pred)[0]\n",
    "        self.total_samples.assign_add(num_samples)\n",
    "\n",
    "    def result(self):\n",
    "        return tf.sqrt(self.mse_sum / tf.cast(self.total_samples, tf.float32))\n",
    "\n",
    "    def reset_state(self):\n",
    "        self.mse_sum.assign(0.)\n",
    "        self.total_samples.assign(0)"
   ]
  },
  {
   "cell_type": "markdown",
   "id": "c06ceeb0",
   "metadata": {},
   "source": [
    "사용자 정의 지표 사용 모델 생성"
   ]
  },
  {
   "cell_type": "code",
   "execution_count": 32,
   "id": "e8961e43",
   "metadata": {},
   "outputs": [
    {
     "name": "stdout",
     "output_type": "stream",
     "text": [
      "Epoch 1/3\n",
      "1563/1563 [==============================] - 13s 8ms/step - loss: 0.2947 - accuracy: 0.9139 - rmse: 7.1804 - val_loss: 0.1409 - val_accuracy: 0.9586 - val_rmse: 7.3694\n",
      "Epoch 2/3\n",
      "1563/1563 [==============================] - 12s 8ms/step - loss: 0.1649 - accuracy: 0.9531 - rmse: 7.3545 - val_loss: 0.1199 - val_accuracy: 0.9679 - val_rmse: 7.4042\n",
      "Epoch 3/3\n",
      "1563/1563 [==============================] - 12s 8ms/step - loss: 0.1357 - accuracy: 0.9635 - rmse: 7.3885 - val_loss: 0.1282 - val_accuracy: 0.9682 - val_rmse: 7.4181\n",
      "313/313 [==============================] - 1s 2ms/step - loss: 0.1173 - accuracy: 0.9698 - rmse: 7.4305\n"
     ]
    }
   ],
   "source": [
    "model = get_mnist_model()\n",
    "model.compile(optimizer=\"rmsprop\", loss=\"sparse_categorical_crossentropy\", metrics=[\"accuracy\", RootMeanSquaredError()])\n",
    "model.fit(train_images, train_labels, epochs=3, validation_data=(val_images, val_labels))\n",
    "test_metrics = model.evaluate(test_images, test_labels)"
   ]
  },
  {
   "cell_type": "markdown",
   "id": "58762ebc",
   "metadata": {},
   "source": [
    "다른 사용자 정의 지표 생성(mae)"
   ]
  },
  {
   "cell_type": "code",
   "execution_count": 33,
   "id": "10d51f56",
   "metadata": {},
   "outputs": [],
   "source": [
    "class MeanAbsoluteError(keras.metrics.Metric):\n",
    "\n",
    "    def __init__(self, name=\"mae\", **kwargs):\n",
    "        super().__init__(name=name, **kwargs)\n",
    "        self.mae_sum = self.add_weight(name=\"mae_sum\", initializer=\"zeros\")\n",
    "        self.total_samples = self.add_weight(name=\"total_samples\", initializer=\"zeros\", dtype=\"int32\")\n",
    "\n",
    "    def update_state(self, y_true, y_pred, sample_weight=None):\n",
    "        y_true = tf.one_hot(y_true, depth=tf.shape(y_pred)[1])\n",
    "        mae = tf.reduce_sum(tf.abs(y_true - y_pred))\n",
    "        self.mae_sum.assign_add(mae)\n",
    "        num_samples = tf.shape(y_pred)[0]\n",
    "        self.total_samples.assign_add(num_samples)\n",
    "\n",
    "    def result(self):\n",
    "        return self.mae_sum / tf.cast(self.total_samples, tf.float32)\n",
    "\n",
    "    def reset_state(self):\n",
    "        self.mae_sum.assign(0.)\n",
    "        self.total_samples.assign(0)"
   ]
  },
  {
   "cell_type": "code",
   "execution_count": 34,
   "id": "7ac6a7ee",
   "metadata": {},
   "outputs": [
    {
     "name": "stdout",
     "output_type": "stream",
     "text": [
      "Epoch 1/3\n",
      "1563/1563 [==============================] - 13s 8ms/step - loss: 0.2915 - accuracy: 0.9138 - mae: 56.0153 - val_loss: 0.1446 - val_accuracy: 0.9595 - val_mae: 56.0257\n",
      "Epoch 2/3\n",
      "1563/1563 [==============================] - 12s 8ms/step - loss: 0.1654 - accuracy: 0.9544 - mae: 55.9040 - val_loss: 0.1261 - val_accuracy: 0.9647 - val_mae: 56.0080\n",
      "Epoch 3/3\n",
      "1563/1563 [==============================] - 12s 8ms/step - loss: 0.1399 - accuracy: 0.9622 - mae: 55.8500 - val_loss: 0.1093 - val_accuracy: 0.9716 - val_mae: 55.9882\n",
      "313/313 [==============================] - 1s 3ms/step - loss: 0.1008 - accuracy: 0.9730 - mae: 56.1323\n"
     ]
    }
   ],
   "source": [
    "model = get_mnist_model()\n",
    "model.compile(optimizer=\"rmsprop\", loss=\"sparse_categorical_crossentropy\", metrics=[\"accuracy\", MeanAbsoluteError()])\n",
    "model.fit(train_images, train_labels, epochs=3, validation_data=(val_images, val_labels))\n",
    "test_metrics = model.evaluate(test_images, test_labels)"
   ]
  },
  {
   "cell_type": "markdown",
   "id": "361adb19",
   "metadata": {},
   "source": [
    "# 콜백 사용"
   ]
  },
  {
   "cell_type": "code",
   "execution_count": 35,
   "id": "2bbe477f",
   "metadata": {},
   "outputs": [
    {
     "name": "stdout",
     "output_type": "stream",
     "text": [
      "Epoch 1/10\n",
      "1563/1563 [==============================] - 12s 8ms/step - loss: 0.2987 - accuracy: 0.9115 - val_loss: 0.1569 - val_accuracy: 0.9589\n",
      "Epoch 2/10\n",
      "1563/1563 [==============================] - 12s 8ms/step - loss: 0.1645 - accuracy: 0.9543 - val_loss: 0.1346 - val_accuracy: 0.9641\n",
      "Epoch 3/10\n",
      "1563/1563 [==============================] - 12s 8ms/step - loss: 0.1370 - accuracy: 0.9630 - val_loss: 0.1123 - val_accuracy: 0.9713\n",
      "Epoch 4/10\n",
      "1563/1563 [==============================] - 12s 8ms/step - loss: 0.1230 - accuracy: 0.9678 - val_loss: 0.1104 - val_accuracy: 0.9740\n",
      "Epoch 5/10\n",
      "1563/1563 [==============================] - 12s 7ms/step - loss: 0.1166 - accuracy: 0.9712 - val_loss: 0.1038 - val_accuracy: 0.9768\n",
      "Epoch 6/10\n",
      "1563/1563 [==============================] - 12s 8ms/step - loss: 0.1110 - accuracy: 0.9723 - val_loss: 0.1055 - val_accuracy: 0.9770\n",
      "Epoch 7/10\n",
      "1563/1563 [==============================] - 12s 8ms/step - loss: 0.1035 - accuracy: 0.9753 - val_loss: 0.1128 - val_accuracy: 0.9769\n",
      "Epoch 8/10\n",
      "1563/1563 [==============================] - 12s 8ms/step - loss: 0.0998 - accuracy: 0.9762 - val_loss: 0.1209 - val_accuracy: 0.9769\n"
     ]
    },
    {
     "data": {
      "text/plain": [
       "<keras.callbacks.History at 0x79846e3b07f0>"
      ]
     },
     "execution_count": 35,
     "metadata": {},
     "output_type": "execute_result"
    }
   ],
   "source": [
    "callbacks_list = [\n",
    "    keras.callbacks.EarlyStopping(\n",
    "        monitor=\"val_accuracy\",\n",
    "        patience=2,\n",
    "    ),\n",
    "    keras.callbacks.ModelCheckpoint(\n",
    "        filepath=\"checkpoint_path.h5\",\n",
    "        monitor=\"val_loss\",\n",
    "        save_best_only=True,\n",
    "    )\n",
    "]\n",
    "model = get_mnist_model()\n",
    "model.compile(optimizer=\"rmsprop\",\n",
    "              loss=\"sparse_categorical_crossentropy\",\n",
    "              metrics=[\"accuracy\"])\n",
    "model.fit(train_images, train_labels,\n",
    "          epochs=10,\n",
    "          callbacks=callbacks_list,\n",
    "          validation_data=(val_images, val_labels))"
   ]
  },
  {
   "cell_type": "code",
   "execution_count": 36,
   "id": "884eb9a0",
   "metadata": {},
   "outputs": [],
   "source": [
    "model = keras.models.load_model(\"checkpoint_path.h5\")"
   ]
  },
  {
   "cell_type": "markdown",
   "id": "bbd0c738",
   "metadata": {},
   "source": [
    "사용자 정의 콜백 생성"
   ]
  },
  {
   "cell_type": "code",
   "execution_count": 37,
   "id": "4a5b86ef",
   "metadata": {},
   "outputs": [],
   "source": [
    "from matplotlib import pyplot as plt\n",
    "\n",
    "class LossHistory(keras.callbacks.Callback):\n",
    "    def on_train_begin(self, logs):\n",
    "        self.per_batch_losses = []\n",
    "\n",
    "    def on_batch_end(self, batch, logs):\n",
    "        self.per_batch_losses.append(logs.get(\"loss\"))\n",
    "\n",
    "    def on_epoch_end(self, epoch, logs):\n",
    "        plt.clf()\n",
    "        plt.plot(range(len(self.per_batch_losses)), self.per_batch_losses,\n",
    "                 label=\"Training loss for each batch\")\n",
    "        plt.xlabel(f\"Batch (epoch {epoch})\")\n",
    "        plt.ylabel(\"Loss\")\n",
    "        plt.legend()\n",
    "        plt.savefig(f\"plot_at_epoch_{epoch}\")\n",
    "        self.per_batch_losses = []"
   ]
  },
  {
   "cell_type": "code",
   "execution_count": 38,
   "id": "12a153f1",
   "metadata": {},
   "outputs": [
    {
     "name": "stdout",
     "output_type": "stream",
     "text": [
      "Epoch 1/10\n",
      "1563/1563 [==============================] - 13s 8ms/step - loss: 0.2983 - accuracy: 0.9111 - val_loss: 0.1501 - val_accuracy: 0.9571\n",
      "Epoch 2/10\n",
      "1563/1563 [==============================] - 12s 8ms/step - loss: 0.1684 - accuracy: 0.9531 - val_loss: 0.1313 - val_accuracy: 0.9640\n",
      "Epoch 3/10\n",
      "1563/1563 [==============================] - 12s 8ms/step - loss: 0.1410 - accuracy: 0.9615 - val_loss: 0.1194 - val_accuracy: 0.9678\n",
      "Epoch 4/10\n",
      "1563/1563 [==============================] - 12s 8ms/step - loss: 0.1262 - accuracy: 0.9678 - val_loss: 0.1139 - val_accuracy: 0.9732\n",
      "Epoch 5/10\n",
      "1563/1563 [==============================] - 12s 8ms/step - loss: 0.1219 - accuracy: 0.9701 - val_loss: 0.1073 - val_accuracy: 0.9745\n",
      "Epoch 6/10\n",
      "1563/1563 [==============================] - 12s 8ms/step - loss: 0.1119 - accuracy: 0.9727 - val_loss: 0.1101 - val_accuracy: 0.9754\n",
      "Epoch 7/10\n",
      "1563/1563 [==============================] - 12s 7ms/step - loss: 0.1051 - accuracy: 0.9749 - val_loss: 0.1119 - val_accuracy: 0.9743\n",
      "Epoch 8/10\n",
      "1563/1563 [==============================] - 12s 7ms/step - loss: 0.1041 - accuracy: 0.9757 - val_loss: 0.1105 - val_accuracy: 0.9784\n",
      "Epoch 9/10\n",
      "1563/1563 [==============================] - 12s 7ms/step - loss: 0.0986 - accuracy: 0.9775 - val_loss: 0.1143 - val_accuracy: 0.9776\n",
      "Epoch 10/10\n",
      "1563/1563 [==============================] - 12s 7ms/step - loss: 0.0977 - accuracy: 0.9781 - val_loss: 0.1118 - val_accuracy: 0.9794\n"
     ]
    },
    {
     "data": {
      "text/plain": [
       "<keras.callbacks.History at 0x798451e75790>"
      ]
     },
     "execution_count": 38,
     "metadata": {},
     "output_type": "execute_result"
    },
    {
     "data": {
      "image/png": "[encoded data removed]",
      "text/plain": [
       "<Figure size 432x288 with 1 Axes>"
      ]
     },
     "metadata": {
      "needs_background": "light"
     },
     "output_type": "display_data"
    }
   ],
   "source": [
    "model = get_mnist_model()\n",
    "model.compile(optimizer=\"rmsprop\",\n",
    "              loss=\"sparse_categorical_crossentropy\",\n",
    "              metrics=[\"accuracy\"])\n",
    "model.fit(train_images, train_labels,\n",
    "          epochs=10,\n",
    "          callbacks=[LossHistory()],\n",
    "          validation_data=(val_images, val_labels))"
   ]
  },
  {
   "cell_type": "code",
   "execution_count": null,
   "id": "8b557a6a",
   "metadata": {},
   "outputs": [],
   "source": []
  }
 ],
 "metadata": {
  "kernelspec": {
   "display_name": "Python 3 (ipykernel)",
   "language": "python",
   "name": "python3"
  },
  "language_info": {
   "codemirror_mode": {
    "name": "ipython",
    "version": 3
   },
   "file_extension": ".py",
   "mimetype": "text/x-python",
   "name": "python",
   "nbconvert_exporter": "python",
   "pygments_lexer": "ipython3",
   "version": "3.9.7"
  }
 },
 "nbformat": 4,
 "nbformat_minor": 5
}
