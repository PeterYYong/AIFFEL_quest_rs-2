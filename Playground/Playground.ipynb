{
 "cells": [
  {
   "cell_type": "code",
   "execution_count": 2,
   "id": "fd61f35c",
   "metadata": {},
   "outputs": [],
   "source": [
    "from tensorflow import keras\n",
    "from tensorflow.keras import layers\n",
    "\n",
    "model = keras.Sequential([\n",
    "    layers.Dense(64, activation=\"relu\"),\n",
    "    layers.Dense(10, activation=\"softmax\")\n",
    "])"
   ]
  },
  {
   "cell_type": "markdown",
   "id": "8d42e031",
   "metadata": {},
   "source": [
    "# Sequential"
   ]
  },
  {
   "cell_type": "markdown",
   "id": "ebd7c82f",
   "metadata": {},
   "source": [
    "점진적으로 모델 생성"
   ]
  },
  {
   "cell_type": "code",
   "execution_count": 3,
   "id": "6a859a68",
   "metadata": {},
   "outputs": [],
   "source": [
    "model = keras.Sequential()\n",
    "model.add(layers.Dense(64, activation=\"relu\"))\n",
    "model.add(layers.Dense(10, activation=\"softmax\"))"
   ]
  },
  {
   "cell_type": "code",
   "execution_count": 4,
   "id": "96426663",
   "metadata": {},
   "outputs": [
    {
     "data": {
      "text/plain": [
       "[<tf.Variable 'dense_2/kernel:0' shape=(3, 64) dtype=float32, numpy=\n",
       " array([[ 0.17387462,  0.02692381, -0.01784736,  0.19716084,  0.08976442,\n",
       "         -0.24666233,  0.12340701, -0.1834493 , -0.04765436, -0.09846252,\n",
       "          0.21892774,  0.20094055, -0.04098639,  0.14144123, -0.00923029,\n",
       "          0.05272803,  0.09788212,  0.18345621, -0.02594656, -0.10657102,\n",
       "         -0.09495544, -0.20483676, -0.17700648,  0.24182874, -0.01778042,\n",
       "         -0.2056489 ,  0.07557905, -0.14461538, -0.07434238, -0.23946673,\n",
       "          0.11260808, -0.28417787,  0.25763172, -0.18366206,  0.23619807,\n",
       "          0.0647276 , -0.0418576 ,  0.19940457,  0.00127426,  0.24133831,\n",
       "         -0.0906345 , -0.20847854,  0.09059283, -0.08610864, -0.24706994,\n",
       "          0.12661585,  0.01774409,  0.09561825, -0.1651972 , -0.11748831,\n",
       "         -0.09746908,  0.16618165, -0.15313263, -0.13595295, -0.26474455,\n",
       "         -0.13531768, -0.05609785,  0.07861516,  0.16406661,  0.25042528,\n",
       "         -0.17309871, -0.1258406 , -0.2190837 ,  0.285129  ],\n",
       "        [ 0.139503  , -0.21522544, -0.06346461, -0.14566904, -0.08551975,\n",
       "         -0.12006609,  0.15743831, -0.16347073, -0.23575011, -0.22393668,\n",
       "         -0.1890682 ,  0.217771  , -0.08985959, -0.10244407, -0.27389443,\n",
       "          0.02189922, -0.2391884 ,  0.20229006,  0.16206169, -0.02552968,\n",
       "         -0.15402019, -0.04853579,  0.29643333,  0.14873105,  0.05760148,\n",
       "          0.03898808, -0.129133  ,  0.23983943, -0.22130746,  0.1721938 ,\n",
       "          0.29532605,  0.22922617, -0.20543529,  0.28400028, -0.11341994,\n",
       "         -0.01319906, -0.24846856, -0.07758334,  0.14247453, -0.21376368,\n",
       "          0.01444772, -0.16448537, -0.11316288,  0.01429453, -0.01498574,\n",
       "          0.17003   ,  0.07584459, -0.2394556 ,  0.2745129 ,  0.1979737 ,\n",
       "          0.23894626, -0.14958103,  0.06597874,  0.06929284, -0.08915275,\n",
       "         -0.23622072, -0.16284238, -0.24797434, -0.04834437,  0.20770407,\n",
       "          0.18139392,  0.18573183, -0.09082949, -0.2772972 ],\n",
       "        [ 0.03818643, -0.16275954,  0.12232351,  0.19278291,  0.04816207,\n",
       "         -0.21489546,  0.24436319, -0.0772891 ,  0.07848126,  0.12041119,\n",
       "         -0.25032625, -0.18075642, -0.14017394,  0.2393291 ,  0.2627325 ,\n",
       "         -0.29403147, -0.15626857,  0.1001102 , -0.11564897, -0.06474186,\n",
       "         -0.16988637, -0.04856569, -0.07391359,  0.14176413, -0.16285165,\n",
       "          0.07322764, -0.18099615,  0.03469774, -0.0101583 ,  0.17048055,\n",
       "          0.23994482, -0.13909553,  0.04634863, -0.04123703, -0.21726191,\n",
       "          0.07950595,  0.12235078,  0.12994236, -0.2229451 ,  0.28366   ,\n",
       "         -0.22024266,  0.22439814,  0.00707567, -0.03212738, -0.12876798,\n",
       "          0.02379045,  0.23715585,  0.10334811,  0.17969748, -0.19815229,\n",
       "          0.25179702, -0.11833164,  0.17194301, -0.05105814, -0.08680734,\n",
       "          0.16233808, -0.14968798,  0.02141857,  0.02941382,  0.09812796,\n",
       "          0.07789063,  0.11543721, -0.27868327,  0.07798922]],\n",
       "       dtype=float32)>,\n",
       " <tf.Variable 'dense_2/bias:0' shape=(64,) dtype=float32, numpy=\n",
       " array([0., 0., 0., 0., 0., 0., 0., 0., 0., 0., 0., 0., 0., 0., 0., 0., 0.,\n",
       "        0., 0., 0., 0., 0., 0., 0., 0., 0., 0., 0., 0., 0., 0., 0., 0., 0.,\n",
       "        0., 0., 0., 0., 0., 0., 0., 0., 0., 0., 0., 0., 0., 0., 0., 0., 0.,\n",
       "        0., 0., 0., 0., 0., 0., 0., 0., 0., 0., 0., 0., 0.], dtype=float32)>,\n",
       " <tf.Variable 'dense_3/kernel:0' shape=(64, 10) dtype=float32, numpy=\n",
       " array([[-0.09072879,  0.01534489, -0.15611532, -0.11979243, -0.07342997,\n",
       "          0.04485348,  0.05069894, -0.26528406, -0.25545603,  0.22081259],\n",
       "        [-0.17824396,  0.18594131, -0.2734338 , -0.20024452, -0.11691177,\n",
       "          0.00595713, -0.01850799,  0.12521738,  0.23039791, -0.1439395 ],\n",
       "        [-0.00148541,  0.02173957, -0.04455893, -0.26533738,  0.23588195,\n",
       "         -0.18101779,  0.02259538,  0.02592683, -0.27782652, -0.01503572],\n",
       "        [-0.16716339,  0.28018633,  0.21452934,  0.16129473, -0.0794055 ,\n",
       "         -0.05428465,  0.2845799 ,  0.23823509,  0.2574642 , -0.22806837],\n",
       "        [-0.24368489,  0.00638232, -0.06997429, -0.13209325, -0.04305457,\n",
       "          0.19000718, -0.05276692,  0.02879962, -0.25529692, -0.01384225],\n",
       "        [ 0.08106586,  0.11301506,  0.25448582,  0.07665735, -0.02215424,\n",
       "          0.07164714, -0.13880415, -0.14668356, -0.2825173 ,  0.05477771],\n",
       "        [ 0.19947627,  0.26120183, -0.12054451,  0.03937748,  0.03502932,\n",
       "          0.07822123, -0.26371264,  0.12469333, -0.09120184, -0.11258805],\n",
       "        [-0.12556748,  0.02148432,  0.2585394 , -0.16911791, -0.11845604,\n",
       "          0.06764051,  0.26675478, -0.07198325, -0.15648478, -0.20538805],\n",
       "        [ 0.13508525, -0.2775238 , -0.02636227,  0.2366955 ,  0.04470196,\n",
       "         -0.2792749 ,  0.03589872,  0.23204574, -0.06510527,  0.25509974],\n",
       "        [ 0.15952817, -0.06659238,  0.20826364,  0.01544896, -0.049891  ,\n",
       "         -0.16906387,  0.23180333,  0.02468407, -0.10822298, -0.07858498],\n",
       "        [-0.02464584,  0.15816456,  0.18209818,  0.28331575, -0.02872524,\n",
       "         -0.06979798, -0.22042827, -0.2407089 ,  0.06060919, -0.25331813],\n",
       "        [-0.14000307,  0.10285467, -0.21134505, -0.17215113, -0.24409515,\n",
       "         -0.15146561,  0.03501126,  0.09081453, -0.06742403,  0.25012073],\n",
       "        [ 0.01065409,  0.08658856,  0.21510524, -0.09473559,  0.09481964,\n",
       "         -0.0115723 , -0.20096114,  0.2509704 ,  0.06244728,  0.04461682],\n",
       "        [ 0.28108922, -0.07785492, -0.20310706,  0.19913587,  0.26932308,\n",
       "          0.06725621, -0.22771548,  0.10690349,  0.16722259,  0.24902597],\n",
       "        [ 0.19417903, -0.0209268 ,  0.13290522,  0.09679148, -0.07125568,\n",
       "          0.28359672, -0.04156664,  0.23706403,  0.26647076, -0.04173508],\n",
       "        [-0.15256982, -0.08647737, -0.20172435,  0.27449885,  0.20951599,\n",
       "          0.27966252,  0.00268054,  0.08831525, -0.1630635 ,  0.25517765],\n",
       "        [ 0.202923  , -0.21841985, -0.00081229, -0.07974114,  0.10050875,\n",
       "         -0.22111666, -0.1570222 ,  0.15780795,  0.22064242,  0.24675605],\n",
       "        [ 0.09768686,  0.09196144,  0.279259  ,  0.27974328, -0.01957676,\n",
       "         -0.08412786,  0.17324719,  0.1770359 ,  0.26843193,  0.1887253 ],\n",
       "        [ 0.12925446, -0.15280886,  0.12722087,  0.15802687, -0.13263963,\n",
       "          0.00738314,  0.21991298,  0.11488059, -0.21436116, -0.0728371 ],\n",
       "        [-0.20726988,  0.09038737,  0.04772004,  0.09334001,  0.0700036 ,\n",
       "          0.18908742, -0.14782661, -0.12621026, -0.16774797, -0.06201123],\n",
       "        [-0.23778534,  0.05978963, -0.21094525,  0.27029493, -0.1568247 ,\n",
       "         -0.1898314 ,  0.24683812,  0.20093855, -0.09759535, -0.21946567],\n",
       "        [-0.19612657,  0.08276737,  0.14488614, -0.18390782, -0.0421773 ,\n",
       "         -0.2773933 , -0.15572517, -0.25586373, -0.20893866, -0.25393873],\n",
       "        [ 0.1394561 , -0.06371661,  0.14502844,  0.06427988, -0.19680831,\n",
       "         -0.15429509, -0.17601335, -0.28375465,  0.09502319, -0.03901231],\n",
       "        [-0.2451866 ,  0.00826809, -0.24417382, -0.25968337, -0.23923   ,\n",
       "          0.16683373,  0.16158569,  0.18494347, -0.13970362,  0.17735904],\n",
       "        [ 0.08150274, -0.20119515, -0.0871139 , -0.26517946, -0.12059088,\n",
       "          0.01446465, -0.12469144, -0.05119705, -0.14828888,  0.22474125],\n",
       "        [-0.16656685, -0.19129258,  0.11944911, -0.20730321,  0.00296193,\n",
       "         -0.02328703, -0.2595477 , -0.00340652, -0.0728043 ,  0.06164539],\n",
       "        [ 0.03245836, -0.09338644,  0.23954126, -0.11730777,  0.10752785,\n",
       "         -0.25419506, -0.1520874 , -0.21978149,  0.00415018, -0.18845591],\n",
       "        [-0.16413581, -0.23981875,  0.2257478 , -0.15315305, -0.03518745,\n",
       "          0.01024228,  0.0260745 ,  0.19230238,  0.20209679, -0.18878654],\n",
       "        [-0.20102863, -0.05551228, -0.13263188,  0.21040154, -0.02120724,\n",
       "         -0.12791441,  0.12833017, -0.26457557,  0.23954031,  0.06064165],\n",
       "        [ 0.21502015,  0.06070089,  0.00621259, -0.1323824 , -0.17743522,\n",
       "          0.20392567,  0.21265912, -0.10595393, -0.06989004,  0.1470744 ],\n",
       "        [-0.25661382, -0.1461355 , -0.1601823 , -0.20297909, -0.09165825,\n",
       "         -0.2680745 , -0.18922624, -0.13785486,  0.04320073, -0.12087275],\n",
       "        [-0.07166417,  0.17764655,  0.05890626,  0.00348061,  0.1698761 ,\n",
       "          0.27585456, -0.24291897,  0.24442658,  0.17413422,  0.14217329],\n",
       "        [-0.12827687, -0.15856096, -0.21469931,  0.25403413,  0.19725412,\n",
       "          0.28397915, -0.07669035,  0.11654991,  0.246663  , -0.28417134],\n",
       "        [ 0.20860866, -0.14872187,  0.1943258 , -0.0546505 , -0.00978538,\n",
       "          0.19102511,  0.1157136 ,  0.12926567, -0.02819982,  0.16061541],\n",
       "        [ 0.22073248,  0.07311523, -0.16546366,  0.11336428, -0.23348022,\n",
       "         -0.21521167, -0.05333738, -0.25045127, -0.2725397 , -0.19082178],\n",
       "        [ 0.11772147,  0.11063156,  0.23290911, -0.24196513, -0.25499487,\n",
       "          0.04294622, -0.14085448, -0.05424215, -0.19058314,  0.10041615],\n",
       "        [ 0.1628806 , -0.2728074 , -0.03429368,  0.05139041,  0.16570589,\n",
       "         -0.27195975,  0.07493758, -0.00524992, -0.25516248, -0.240814  ],\n",
       "        [-0.09633704,  0.16999558,  0.08089843, -0.27236667, -0.1042643 ,\n",
       "          0.13272312,  0.23524025, -0.19105525, -0.20399912, -0.19226632],\n",
       "        [ 0.14885914, -0.11902983,  0.13576591, -0.14654106, -0.21981755,\n",
       "          0.20408595, -0.23258014,  0.2713566 ,  0.11330244, -0.19265208],\n",
       "        [-0.21326834,  0.125207  ,  0.273962  ,  0.10861641,  0.28082076,\n",
       "         -0.15831934, -0.06669022, -0.2826771 , -0.11802895, -0.2620395 ],\n",
       "        [ 0.15121979, -0.08442637,  0.27148208,  0.07523459, -0.06067206,\n",
       "         -0.08321203, -0.17729041, -0.19341439, -0.21476673,  0.01422793],\n",
       "        [ 0.0371635 , -0.18762034,  0.01188874,  0.20268485,  0.14574173,\n",
       "         -0.24082962, -0.04561344, -0.26897377,  0.20061153,  0.13580331],\n",
       "        [ 0.24488834, -0.2808495 ,  0.13328111,  0.22522482,  0.0171369 ,\n",
       "         -0.10111976,  0.20025069,  0.19991246, -0.23883095, -0.22645621],\n",
       "        [ 0.12662059,  0.23630676,  0.03589839, -0.0171538 , -0.14190248,\n",
       "         -0.10822597, -0.28058037, -0.07440147,  0.14649117,  0.14087823],\n",
       "        [ 0.06188971,  0.24623659,  0.11590448, -0.17268236, -0.14315584,\n",
       "          0.27978578,  0.04893309,  0.03025395, -0.24383493, -0.1319424 ],\n",
       "        [ 0.12069061,  0.24060681, -0.19001213,  0.15257254,  0.01234847,\n",
       "          0.03458166,  0.0287424 , -0.00987658, -0.01323316, -0.00218311],\n",
       "        [ 0.15230954, -0.25842965, -0.06661798, -0.00975499, -0.07045038,\n",
       "         -0.26434794,  0.12385851,  0.21409938,  0.2264435 ,  0.24699351],\n",
       "        [-0.0679433 , -0.13441987,  0.22092488,  0.04472926, -0.2750364 ,\n",
       "          0.15354288, -0.17898959, -0.24156438, -0.04920396, -0.2515501 ],\n",
       "        [-0.22025555, -0.20043826,  0.28404883,  0.17711776, -0.27968395,\n",
       "          0.1301189 , -0.03426924, -0.27735123, -0.1079134 , -0.142606  ],\n",
       "        [ 0.10950074,  0.21977386,  0.08803821,  0.1838229 , -0.08614105,\n",
       "         -0.21999384, -0.0173817 , -0.14859423, -0.23723353,  0.11712363],\n",
       "        [ 0.1944243 , -0.22152448,  0.21502891, -0.19440618, -0.11121947,\n",
       "          0.02855855,  0.0875439 ,  0.05601847,  0.05721378, -0.02353075],\n",
       "        [-0.17065641, -0.21570653, -0.043027  ,  0.1299229 ,  0.09157026,\n",
       "          0.25368795, -0.09849393, -0.03201079,  0.21595392, -0.26611063],\n",
       "        [-0.12548248, -0.02967975, -0.02350754, -0.13003649,  0.00689793,\n",
       "          0.12892678,  0.01126376, -0.1526077 ,  0.2782847 , -0.16473846],\n",
       "        [-0.1593979 , -0.06609096,  0.0569829 , -0.15959457,  0.15490696,\n",
       "          0.14683753,  0.13474765,  0.13382307, -0.02927819,  0.06243065],\n",
       "        [-0.11363843, -0.2811545 ,  0.18356633,  0.07596684,  0.13376406,\n",
       "          0.06392705, -0.13878413,  0.23767021,  0.25237867, -0.20442078],\n",
       "        [ 0.11830112,  0.03401467,  0.2037664 , -0.06618294, -0.19517387,\n",
       "          0.06762165, -0.08876529, -0.1803875 ,  0.22586343,  0.08393648],\n",
       "        [ 0.27426955, -0.24644464, -0.27052584,  0.10676554,  0.27439347,\n",
       "         -0.03582588, -0.01549107, -0.1399081 , -0.10867411, -0.13452218],\n",
       "        [ 0.01770303,  0.05659729, -0.18789427, -0.08632638, -0.0915869 ,\n",
       "         -0.23413269, -0.05249725,  0.10234332, -0.22708622,  0.19781274],\n",
       "        [ 0.23711744, -0.17446588, -0.2742618 ,  0.16463745, -0.11412051,\n",
       "          0.00271726, -0.10074921,  0.15241536, -0.20423707,  0.15382943],\n",
       "        [ 0.24690601, -0.23604222,  0.04094839,  0.08108079,  0.1775274 ,\n",
       "          0.01773229,  0.05963728,  0.17773643,  0.17830399, -0.12640001],\n",
       "        [ 0.1282318 , -0.13683388,  0.02154046,  0.27149144, -0.22024727,\n",
       "         -0.0312537 ,  0.14765349, -0.06240581,  0.02456483,  0.04592022],\n",
       "        [ 0.02875516,  0.20796683,  0.15037036,  0.08463764, -0.07445937,\n",
       "         -0.26625508,  0.15599456, -0.08683541,  0.03476912, -0.00670132],\n",
       "        [-0.27052736, -0.04614516,  0.13825542,  0.12291351,  0.1181238 ,\n",
       "          0.07512447, -0.1468209 , -0.1962933 ,  0.0296433 , -0.16669232],\n",
       "        [ 0.06221226, -0.08856577, -0.05755512,  0.07991603, -0.22670373,\n",
       "          0.20181534, -0.19033867, -0.24449216, -0.20839691, -0.19824845]],\n",
       "       dtype=float32)>,\n",
       " <tf.Variable 'dense_3/bias:0' shape=(10,) dtype=float32, numpy=array([0., 0., 0., 0., 0., 0., 0., 0., 0., 0.], dtype=float32)>]"
      ]
     },
     "execution_count": 4,
     "metadata": {},
     "output_type": "execute_result"
    }
   ],
   "source": [
    "model.build(input_shape=(None, 3))\n",
    "model.weights"
   ]
  },
  {
   "cell_type": "code",
   "execution_count": 5,
   "id": "5cdc2372",
   "metadata": {},
   "outputs": [
    {
     "name": "stdout",
     "output_type": "stream",
     "text": [
      "Model: \"sequential_1\"\n",
      "_________________________________________________________________\n",
      "Layer (type)                 Output Shape              Param #   \n",
      "=================================================================\n",
      "dense_2 (Dense)              (None, 64)                256       \n",
      "_________________________________________________________________\n",
      "dense_3 (Dense)              (None, 10)                650       \n",
      "=================================================================\n",
      "Total params: 906\n",
      "Trainable params: 906\n",
      "Non-trainable params: 0\n",
      "_________________________________________________________________\n"
     ]
    }
   ],
   "source": [
    "model.summary()"
   ]
  },
  {
   "cell_type": "markdown",
   "id": "eb9778d7",
   "metadata": {},
   "source": [
    "name 매개변수로 모델과 층에 이름 지정"
   ]
  },
  {
   "cell_type": "code",
   "execution_count": 6,
   "id": "dcd37fbb",
   "metadata": {},
   "outputs": [
    {
     "name": "stdout",
     "output_type": "stream",
     "text": [
      "Model: \"my_example_model\"\n",
      "_________________________________________________________________\n",
      "Layer (type)                 Output Shape              Param #   \n",
      "=================================================================\n",
      "my_first_layer (Dense)       (None, 64)                256       \n",
      "_________________________________________________________________\n",
      "my_last_layer (Dense)        (None, 10)                650       \n",
      "=================================================================\n",
      "Total params: 906\n",
      "Trainable params: 906\n",
      "Non-trainable params: 0\n",
      "_________________________________________________________________\n"
     ]
    }
   ],
   "source": [
    "model = keras.Sequential(name=\"my_example_model\")\n",
    "model.add(layers.Dense(64, activation=\"relu\", name=\"my_first_layer\"))\n",
    "model.add(layers.Dense(10, activation=\"softmax\", name=\"my_last_layer\"))\n",
    "model.build((None, 3))\n",
    "model.summary()"
   ]
  },
  {
   "cell_type": "markdown",
   "id": "1b9e0dee",
   "metadata": {},
   "source": [
    "모델의 입력 크기를 미리 지정"
   ]
  },
  {
   "cell_type": "code",
   "execution_count": 7,
   "id": "9ff697e8",
   "metadata": {},
   "outputs": [],
   "source": [
    "model = keras.Sequential()\n",
    "model.add(keras.Input(shape=(3,)))\n",
    "model.add(layers.Dense(64, activation=\"relu\"))"
   ]
  },
  {
   "cell_type": "code",
   "execution_count": 8,
   "id": "2ee6c876",
   "metadata": {},
   "outputs": [
    {
     "name": "stdout",
     "output_type": "stream",
     "text": [
      "Model: \"sequential_2\"\n",
      "_________________________________________________________________\n",
      "Layer (type)                 Output Shape              Param #   \n",
      "=================================================================\n",
      "dense_4 (Dense)              (None, 64)                256       \n",
      "=================================================================\n",
      "Total params: 256\n",
      "Trainable params: 256\n",
      "Non-trainable params: 0\n",
      "_________________________________________________________________\n"
     ]
    }
   ],
   "source": [
    "model.summary()"
   ]
  },
  {
   "cell_type": "code",
   "execution_count": 9,
   "id": "c650c1bd",
   "metadata": {},
   "outputs": [
    {
     "name": "stdout",
     "output_type": "stream",
     "text": [
      "Model: \"sequential_2\"\n",
      "_________________________________________________________________\n",
      "Layer (type)                 Output Shape              Param #   \n",
      "=================================================================\n",
      "dense_4 (Dense)              (None, 64)                256       \n",
      "_________________________________________________________________\n",
      "dense_5 (Dense)              (None, 10)                650       \n",
      "=================================================================\n",
      "Total params: 906\n",
      "Trainable params: 906\n",
      "Non-trainable params: 0\n",
      "_________________________________________________________________\n"
     ]
    }
   ],
   "source": [
    "model.add(layers.Dense(10, activation=\"softmax\"))\n",
    "model.summary()"
   ]
  },
  {
   "cell_type": "markdown",
   "id": "05fb39b5",
   "metadata": {},
   "source": [
    "# 함수형 API"
   ]
  },
  {
   "cell_type": "markdown",
   "id": "8858fde1",
   "metadata": {},
   "source": [
    "dense층이 2개인 함수형 모델"
   ]
  },
  {
   "cell_type": "code",
   "execution_count": 10,
   "id": "b438037a",
   "metadata": {},
   "outputs": [],
   "source": [
    "inputs = keras.Input(shape=(3,), name=\"my_input\")\n",
    "features = layers.Dense(64, activation=\"relu\")(inputs)\n",
    "outputs = layers.Dense(10, activation=\"softmax\")(features)\n",
    "model = keras.Model(inputs=inputs, outputs=outputs)"
   ]
  },
  {
   "cell_type": "code",
   "execution_count": 11,
   "id": "36bff6f7",
   "metadata": {},
   "outputs": [],
   "source": [
    "inputs = keras.Input(shape=(3,), name=\"my_input\")"
   ]
  },
  {
   "cell_type": "code",
   "execution_count": 12,
   "id": "656f83f5",
   "metadata": {},
   "outputs": [
    {
     "data": {
      "text/plain": [
       "TensorShape([None, 3])"
      ]
     },
     "execution_count": 12,
     "metadata": {},
     "output_type": "execute_result"
    }
   ],
   "source": [
    "inputs.shape"
   ]
  },
  {
   "cell_type": "code",
   "execution_count": 13,
   "id": "59e84624",
   "metadata": {},
   "outputs": [
    {
     "data": {
      "text/plain": [
       "tf.float32"
      ]
     },
     "execution_count": 13,
     "metadata": {},
     "output_type": "execute_result"
    }
   ],
   "source": [
    "inputs.dtype"
   ]
  },
  {
   "cell_type": "code",
   "execution_count": 14,
   "id": "26f14a49",
   "metadata": {},
   "outputs": [
    {
     "data": {
      "text/plain": [
       "TensorShape([None, 64])"
      ]
     },
     "execution_count": 14,
     "metadata": {},
     "output_type": "execute_result"
    }
   ],
   "source": [
    "features = layers.Dense(64, activation=\"relu\")(inputs)\n",
    "features.shape"
   ]
  },
  {
   "cell_type": "code",
   "execution_count": 15,
   "id": "b3478195",
   "metadata": {},
   "outputs": [
    {
     "name": "stdout",
     "output_type": "stream",
     "text": [
      "Model: \"model_1\"\n",
      "_________________________________________________________________\n",
      "Layer (type)                 Output Shape              Param #   \n",
      "=================================================================\n",
      "my_input (InputLayer)        [(None, 3)]               0         \n",
      "_________________________________________________________________\n",
      "dense_8 (Dense)              (None, 64)                256       \n",
      "_________________________________________________________________\n",
      "dense_9 (Dense)              (None, 10)                650       \n",
      "=================================================================\n",
      "Total params: 906\n",
      "Trainable params: 906\n",
      "Non-trainable params: 0\n",
      "_________________________________________________________________\n"
     ]
    }
   ],
   "source": [
    "outputs = layers.Dense(10, activation=\"softmax\")(features)\n",
    "model = keras.Model(inputs=inputs, outputs=outputs)\n",
    "model.summary()"
   ]
  },
  {
   "cell_type": "markdown",
   "id": "068b2cbf",
   "metadata": {},
   "source": [
    "다중입력, 다중출력 함수형 모델"
   ]
  },
  {
   "cell_type": "code",
   "execution_count": 16,
   "id": "73d4e536",
   "metadata": {},
   "outputs": [],
   "source": [
    "vocabulary_size = 10000\n",
    "num_tags = 100\n",
    "num_departments = 4\n",
    "\n",
    "title = keras.Input(shape=(vocabulary_size,), name=\"title\")\n",
    "text_body = keras.Input(shape=(vocabulary_size,), name=\"text_body\")\n",
    "tags = keras.Input(shape=(num_tags,), name=\"tags\")\n",
    "\n",
    "features = layers.Concatenate()([title, text_body, tags])\n",
    "features = layers.Dense(64, activation=\"relu\")(features)\n",
    "\n",
    "priority = layers.Dense(1, activation=\"sigmoid\", name=\"priority\")(features)\n",
    "department = layers.Dense(\n",
    "    num_departments, activation=\"softmax\", name=\"department\")(features)\n",
    "\n",
    "model = keras.Model(inputs=[title, text_body, tags], outputs=[priority, department])"
   ]
  },
  {
   "cell_type": "markdown",
   "id": "4369a0e7",
   "metadata": {},
   "source": [
    "입력과 타겟을 리스트로 전달"
   ]
  },
  {
   "cell_type": "code",
   "execution_count": 17,
   "id": "947a9b40",
   "metadata": {},
   "outputs": [
    {
     "name": "stdout",
     "output_type": "stream",
     "text": [
      "40/40 [==============================] - 2s 31ms/step - loss: 26.5422 - priority_loss: 0.3324 - department_loss: 26.2098 - priority_mean_absolute_error: 0.4980 - department_accuracy: 0.2117\n",
      "40/40 [==============================] - 1s 10ms/step - loss: 38.9694 - priority_loss: 0.3425 - department_loss: 38.6269 - priority_mean_absolute_error: 0.5079 - department_accuracy: 0.0680\n"
     ]
    }
   ],
   "source": [
    "import numpy as np\n",
    "\n",
    "num_samples = 1280\n",
    "\n",
    "title_data = np.random.randint(0, 2, size=(num_samples, vocabulary_size))\n",
    "text_body_data = np.random.randint(0, 2, size=(num_samples, vocabulary_size))\n",
    "tags_data = np.random.randint(0, 2, size=(num_samples, num_tags))\n",
    "\n",
    "priority_data = np.random.random(size=(num_samples, 1))\n",
    "department_data = np.random.randint(0, 2, size=(num_samples, num_departments))\n",
    "\n",
    "model.compile(optimizer=\"rmsprop\",\n",
    "              loss=[\"mean_squared_error\", \"categorical_crossentropy\"],\n",
    "              metrics=[[\"mean_absolute_error\"], [\"accuracy\"]])\n",
    "model.fit([title_data, text_body_data, tags_data],\n",
    "          [priority_data, department_data],\n",
    "          epochs=1)\n",
    "model.evaluate([title_data, text_body_data, tags_data],\n",
    "               [priority_data, department_data])\n",
    "priority_preds, department_preds = model.predict([title_data, text_body_data, tags_data])"
   ]
  },
  {
   "cell_type": "markdown",
   "id": "3e53abc0",
   "metadata": {},
   "source": [
    "입력과 타겟을 딕셔너리로 전달"
   ]
  },
  {
   "cell_type": "code",
   "execution_count": 18,
   "id": "382f0a84",
   "metadata": {},
   "outputs": [
    {
     "name": "stdout",
     "output_type": "stream",
     "text": [
      "40/40 [==============================] - 2s 25ms/step - loss: 33.5377 - priority_loss: 0.3425 - department_loss: 33.1952 - priority_mean_absolute_error: 0.5079 - department_accuracy: 0.2609\n",
      "40/40 [==============================] - 1s 9ms/step - loss: 39.1429 - priority_loss: 0.3425 - department_loss: 38.8004 - priority_mean_absolute_error: 0.5079 - department_accuracy: 0.1547\n"
     ]
    }
   ],
   "source": [
    "model.compile(optimizer=\"rmsprop\",\n",
    "              loss={\"priority\": \"mean_squared_error\", \"department\": \"categorical_crossentropy\"},\n",
    "              metrics={\"priority\": [\"mean_absolute_error\"], \"department\": [\"accuracy\"]})\n",
    "model.fit({\"title\": title_data, \"text_body\": text_body_data, \"tags\": tags_data},\n",
    "          {\"priority\": priority_data, \"department\": department_data},\n",
    "          epochs=1)\n",
    "model.evaluate({\"title\": title_data, \"text_body\": text_body_data, \"tags\": tags_data},\n",
    "               {\"priority\": priority_data, \"department\": department_data})\n",
    "priority_preds, department_preds = model.predict(\n",
    "    {\"title\": title_data, \"text_body\": text_body_data, \"tags\": tags_data})"
   ]
  },
  {
   "cell_type": "markdown",
   "id": "c1b707e3",
   "metadata": {},
   "source": [
    "함수형 api의 장점 : 층연결 구조"
   ]
  },
  {
   "cell_type": "code",
   "execution_count": 19,
   "id": "ab500392",
   "metadata": {},
   "outputs": [
    {
     "data": {
      "image/png": "[encoded data removed]",
      "text/plain": [
       "<IPython.core.display.Image object>"
      ]
     },
     "execution_count": 19,
     "metadata": {},
     "output_type": "execute_result"
    }
   ],
   "source": [
    "keras.utils.plot_model(model, \"ticket_classifier.png\")"
   ]
  },
  {
   "cell_type": "code",
   "execution_count": 20,
   "id": "9cf3c387",
   "metadata": {},
   "outputs": [
    {
     "data": {
      "image/png": "[encoded data removed]",
      "text/plain": [
       "<IPython.core.display.Image object>"
      ]
     },
     "execution_count": 20,
     "metadata": {},
     "output_type": "execute_result"
    }
   ],
   "source": [
    "keras.utils.plot_model(model, \"ticket_classifier_with_shape_info.png\", show_shapes=True)"
   ]
  },
  {
   "cell_type": "markdown",
   "id": "048dd648",
   "metadata": {},
   "source": [
    "함수형 모델의 입력과 출력을 출력"
   ]
  },
  {
   "cell_type": "code",
   "execution_count": 21,
   "id": "1ddc0f99",
   "metadata": {},
   "outputs": [
    {
     "data": {
      "text/plain": [
       "[<keras.engine.input_layer.InputLayer at 0x7c89b4165550>,\n",
       " <keras.engine.input_layer.InputLayer at 0x7c89b41655b0>,\n",
       " <keras.engine.input_layer.InputLayer at 0x7c89b41656d0>,\n",
       " <keras.layers.merge.Concatenate at 0x7c89b4160a00>,\n",
       " <keras.layers.core.Dense at 0x7c89b4160eb0>,\n",
       " <keras.layers.core.Dense at 0x7c89b4160790>,\n",
       " <keras.layers.core.Dense at 0x7c89b41b1f40>]"
      ]
     },
     "execution_count": 21,
     "metadata": {},
     "output_type": "execute_result"
    }
   ],
   "source": [
    "model.layers"
   ]
  },
  {
   "cell_type": "code",
   "execution_count": 22,
   "id": "9fd0c2ad",
   "metadata": {},
   "outputs": [
    {
     "data": {
      "text/plain": [
       "[<KerasTensor: shape=(None, 10000) dtype=float32 (created by layer 'title')>,\n",
       " <KerasTensor: shape=(None, 10000) dtype=float32 (created by layer 'text_body')>,\n",
       " <KerasTensor: shape=(None, 100) dtype=float32 (created by layer 'tags')>]"
      ]
     },
     "execution_count": 22,
     "metadata": {},
     "output_type": "execute_result"
    }
   ],
   "source": [
    "model.layers[3].input"
   ]
  },
  {
   "cell_type": "code",
   "execution_count": 23,
   "id": "1ecf1268",
   "metadata": {},
   "outputs": [
    {
     "data": {
      "text/plain": [
       "<KerasTensor: shape=(None, 20100) dtype=float32 (created by layer 'concatenate')>"
      ]
     },
     "execution_count": 23,
     "metadata": {},
     "output_type": "execute_result"
    }
   ],
   "source": [
    "model.layers[3].output"
   ]
  },
  {
   "cell_type": "markdown",
   "id": "8d592502",
   "metadata": {},
   "source": [
    "중간층의 출력으로 새로운 모델 생성"
   ]
  },
  {
   "cell_type": "code",
   "execution_count": 24,
   "id": "8317b8e9",
   "metadata": {},
   "outputs": [],
   "source": [
    "features = model.layers[4].output\n",
    "difficulty = layers.Dense(3, activation=\"softmax\", name=\"difficulty\")(features)\n",
    "\n",
    "new_model = keras.Model(\n",
    "    inputs=[title, text_body, tags],\n",
    "    outputs=[priority, department, difficulty])"
   ]
  },
  {
   "cell_type": "code",
   "execution_count": 25,
   "id": "05613804",
   "metadata": {},
   "outputs": [
    {
     "data": {
      "image/png": "[encoded data removed]",
      "text/plain": [
       "<IPython.core.display.Image object>"
      ]
     },
     "execution_count": 25,
     "metadata": {},
     "output_type": "execute_result"
    }
   ],
   "source": [
    "keras.utils.plot_model(new_model, \"updated_ticket_classifier.png\", show_shapes=True)"
   ]
  },
  {
   "cell_type": "markdown",
   "id": "74b17815",
   "metadata": {},
   "source": [
    "# 모델 서브클래싱"
   ]
  },
  {
   "cell_type": "code",
   "execution_count": 26,
   "id": "8dcd283d",
   "metadata": {},
   "outputs": [],
   "source": [
    "class CustomerTicketModel(keras.Model):\n",
    "\n",
    "    def __init__(self, num_departments):\n",
    "        super().__init__()\n",
    "        self.concat_layer = layers.Concatenate()\n",
    "        self.mixing_layer = layers.Dense(64, activation=\"relu\")\n",
    "        self.priority_scorer = layers.Dense(1, activation=\"sigmoid\")\n",
    "        self.department_classifier = layers.Dense(\n",
    "            num_departments, activation=\"softmax\")\n",
    "\n",
    "    def call(self, inputs):\n",
    "        title = inputs[\"title\"]\n",
    "        text_body = inputs[\"text_body\"]\n",
    "        tags = inputs[\"tags\"]\n",
    "\n",
    "        features = self.concat_layer([title, text_body, tags])\n",
    "        features = self.mixing_layer(features)\n",
    "        priority = self.priority_scorer(features)\n",
    "        department = self.department_classifier(features)\n",
    "        return priority, department"
   ]
  },
  {
   "cell_type": "code",
   "execution_count": 27,
   "id": "39a94932",
   "metadata": {},
   "outputs": [],
   "source": [
    "model = CustomerTicketModel(num_departments=4)\n",
    "\n",
    "priority, department = model(\n",
    "    {\"title\": title_data, \"text_body\": text_body_data, \"tags\": tags_data})"
   ]
  },
  {
   "cell_type": "code",
   "execution_count": 28,
   "id": "78fd6749",
   "metadata": {},
   "outputs": [
    {
     "name": "stdout",
     "output_type": "stream",
     "text": [
      "40/40 [==============================] - 2s 28ms/step - loss: 70.1317 - output_1_loss: 0.3189 - output_2_loss: 69.8128 - output_1_mean_absolute_error: 0.4841 - output_2_accuracy: 0.3070\n",
      "40/40 [==============================] - 1s 9ms/step - loss: 87.8504 - output_1_loss: 0.3268 - output_2_loss: 87.5236 - output_1_mean_absolute_error: 0.4921 - output_2_accuracy: 0.1383\n"
     ]
    }
   ],
   "source": [
    "model.compile(optimizer=\"rmsprop\", loss=[\"mean_squared_error\", \"categorical_crossentropy\"], metrics=[[\"mean_absolute_error\"], [\"accuracy\"]])\n",
    "model.fit({\"title\": title_data, \"text_body\": text_body_data, \"tags\": tags_data}, [priority_data, department_data], epochs=1)\n",
    "model.evaluate({\"title\": title_data, \"text_body\": text_body_data, \"tags\": tags_data},\n",
    "               [priority_data, department_data])\n",
    "priority_preds, department_preds = model.predict({\"title\": title_data, \"text_body\": text_body_data, \"tags\": tags_data})"
   ]
  },
  {
   "cell_type": "markdown",
   "id": "2797e49a",
   "metadata": {},
   "source": [
    "여러방식을 혼합하여 사용하기"
   ]
  },
  {
   "cell_type": "code",
   "execution_count": 29,
   "id": "e39d2a85",
   "metadata": {},
   "outputs": [],
   "source": [
    "class Classifier(keras.Model):\n",
    "\n",
    "    def __init__(self, num_classes=2):\n",
    "        super().__init__()\n",
    "        if num_classes == 2:\n",
    "            num_units = 1\n",
    "            activation = \"sigmoid\"\n",
    "        else:\n",
    "            num_units = num_classes\n",
    "            activation = \"softmax\"\n",
    "        self.dense = layers.Dense(num_units, activation=activation)\n",
    "\n",
    "    def call(self, inputs):\n",
    "        return self.dense(inputs)\n",
    "\n",
    "inputs = keras.Input(shape=(3,))\n",
    "features = layers.Dense(64, activation=\"relu\")(inputs)\n",
    "outputs = Classifier(num_classes=10)(features)\n",
    "model = keras.Model(inputs=inputs, outputs=outputs)"
   ]
  },
  {
   "cell_type": "markdown",
   "id": "bfebb2bd",
   "metadata": {},
   "source": [
    "함수형 모델을 포함하여 만드는 것"
   ]
  },
  {
   "cell_type": "code",
   "execution_count": 30,
   "id": "4674daa5",
   "metadata": {},
   "outputs": [],
   "source": [
    "inputs = keras.Input(shape=(64,))\n",
    "outputs = layers.Dense(1, activation=\"sigmoid\")(inputs)\n",
    "binary_classifier = keras.Model(inputs=inputs, outputs=outputs)\n",
    "\n",
    "class MyModel(keras.Model):\n",
    "\n",
    "    def __init__(self, num_classes=2):\n",
    "        super().__init__()\n",
    "        self.dense = layers.Dense(64, activation=\"relu\")\n",
    "        self.classifier = binary_classifier\n",
    "\n",
    "    def call(self, inputs):\n",
    "        features = self.dense(inputs)\n",
    "        return self.classifier(features)\n",
    "\n",
    "model = MyModel()"
   ]
  },
  {
   "cell_type": "markdown",
   "id": "4ced19aa",
   "metadata": {},
   "source": [
    "# 조별 특별 미션  \n",
    "사용자 정의 지표를 사용하는 모델"
   ]
  },
  {
   "cell_type": "code",
   "execution_count": 31,
   "id": "b2ea1ac2",
   "metadata": {},
   "outputs": [
    {
     "name": "stdout",
     "output_type": "stream",
     "text": [
      "Epoch 1/3\n",
      "1563/1563 [==============================] - 12s 8ms/step - loss: 0.2959 - accuracy: 0.9120 - val_loss: 0.1496 - val_accuracy: 0.9594\n",
      "Epoch 2/3\n",
      "1563/1563 [==============================] - 12s 8ms/step - loss: 0.1679 - accuracy: 0.9535 - val_loss: 0.1275 - val_accuracy: 0.9662\n",
      "Epoch 3/3\n",
      "1563/1563 [==============================] - 12s 8ms/step - loss: 0.1401 - accuracy: 0.9620 - val_loss: 0.1136 - val_accuracy: 0.9696\n",
      "313/313 [==============================] - 1s 2ms/step - loss: 0.1056 - accuracy: 0.9712\n"
     ]
    }
   ],
   "source": [
    "from tensorflow.keras.datasets import mnist\n",
    "\n",
    "def get_mnist_model():\n",
    "    inputs = keras.Input(shape=(28 * 28,))\n",
    "    features = layers.Dense(512, activation=\"relu\")(inputs)\n",
    "    features = layers.Dropout(0.5)(features)\n",
    "    outputs = layers.Dense(10, activation=\"softmax\")(features)\n",
    "    model = keras.Model(inputs, outputs)\n",
    "    return model\n",
    "\n",
    "(images, labels), (test_images, test_labels) = mnist.load_data()\n",
    "images = images.reshape((60000, 28 * 28)).astype(\"float32\") / 255\n",
    "test_images = test_images.reshape((10000, 28 * 28)).astype(\"float32\") / 255\n",
    "train_images, val_images = images[10000:], images[:10000]\n",
    "train_labels, val_labels = labels[10000:], labels[:10000]\n",
    "\n",
    "model = get_mnist_model()\n",
    "model.compile(optimizer=\"rmsprop\",\n",
    "              loss=\"sparse_categorical_crossentropy\",\n",
    "              metrics=[\"accuracy\"])\n",
    "model.fit(train_images, train_labels,\n",
    "          epochs=3,\n",
    "          validation_data=(val_images, val_labels))\n",
    "test_metrics = model.evaluate(test_images, test_labels)\n",
    "predictions = model.predict(test_images)"
   ]
  },
  {
   "cell_type": "markdown",
   "id": "5d79f4e7",
   "metadata": {},
   "source": [
    "사용자 정의 지표 생성"
   ]
  },
  {
   "cell_type": "code",
   "execution_count": 32,
   "id": "0e7d012a",
   "metadata": {},
   "outputs": [],
   "source": [
    "import tensorflow as tf\n",
    "\n",
    "class RootMeanSquaredError(keras.metrics.Metric):\n",
    "\n",
    "    def __init__(self, name=\"rmse\", **kwargs):\n",
    "        super().__init__(name=name, **kwargs)\n",
    "        self.mse_sum = self.add_weight(name=\"mse_sum\", initializer=\"zeros\")\n",
    "        self.total_samples = self.add_weight(name=\"total_samples\", initializer=\"zeros\", dtype=\"int32\")\n",
    "\n",
    "    def update_state(self, y_true, y_pred, sample_weight=None):\n",
    "        y_true = tf.one_hot(y_true, depth=tf.shape(y_pred)[1])\n",
    "        mse = tf.reduce_sum(tf.square(y_true - y_pred))\n",
    "        self.mse_sum.assign_add(mse)\n",
    "        num_samples = tf.shape(y_pred)[0]\n",
    "        self.total_samples.assign_add(num_samples)\n",
    "\n",
    "    def result(self):\n",
    "        return tf.sqrt(self.mse_sum / tf.cast(self.total_samples, tf.float32))\n",
    "\n",
    "    def reset_state(self):\n",
    "        self.mse_sum.assign(0.)\n",
    "        self.total_samples.assign(0)"
   ]
  },
  {
   "cell_type": "markdown",
   "id": "057db3d1",
   "metadata": {},
   "source": [
    "사용자 정의 지표 사용 모델 생성"
   ]
  },
  {
   "cell_type": "code",
   "execution_count": 33,
   "id": "fd92a445",
   "metadata": {},
   "outputs": [
    {
     "name": "stdout",
     "output_type": "stream",
     "text": [
      "Epoch 1/3\n",
      "1563/1563 [==============================] - 13s 8ms/step - loss: 0.2919 - accuracy: 0.9135 - rmse: 7.1859 - val_loss: 0.1476 - val_accuracy: 0.9586 - val_rmse: 7.3567\n",
      "Epoch 2/3\n",
      "1563/1563 [==============================] - 12s 8ms/step - loss: 0.1650 - accuracy: 0.9547 - rmse: 7.3598 - val_loss: 0.1151 - val_accuracy: 0.9658 - val_rmse: 7.4009\n",
      "Epoch 3/3\n",
      "1563/1563 [==============================] - 12s 8ms/step - loss: 0.1387 - accuracy: 0.9619 - rmse: 7.3886 - val_loss: 0.1136 - val_accuracy: 0.9723 - val_rmse: 7.4234\n",
      "313/313 [==============================] - 1s 2ms/step - loss: 0.1093 - accuracy: 0.9729 - rmse: 7.4358\n"
     ]
    }
   ],
   "source": [
    "model = get_mnist_model()\n",
    "model.compile(optimizer=\"rmsprop\", loss=\"sparse_categorical_crossentropy\", metrics=[\"accuracy\", RootMeanSquaredError()])\n",
    "model.fit(train_images, train_labels, epochs=3, validation_data=(val_images, val_labels))\n",
    "test_metrics = model.evaluate(test_images, test_labels)"
   ]
  },
  {
   "cell_type": "markdown",
   "id": "0f58d2a9",
   "metadata": {},
   "source": [
    "다른 사용자 정의 지표 생성(mae)"
   ]
  },
  {
   "cell_type": "code",
   "execution_count": 34,
   "id": "801f73cc",
   "metadata": {},
   "outputs": [],
   "source": [
    "class MeanAbsoluteError(keras.metrics.Metric):\n",
    "\n",
    "    def __init__(self, name=\"mae\", **kwargs):\n",
    "        super().__init__(name=name, **kwargs)\n",
    "        self.mae_sum = self.add_weight(name=\"mae_sum\", initializer=\"zeros\")\n",
    "        self.total_samples = self.add_weight(name=\"total_samples\", initializer=\"zeros\", dtype=\"int32\")\n",
    "\n",
    "    def update_state(self, y_true, y_pred, sample_weight=None):\n",
    "        y_true = tf.one_hot(y_true, depth=tf.shape(y_pred)[1])\n",
    "        mae = tf.reduce_sum(tf.abs(y_true - y_pred))\n",
    "        self.mae_sum.assign_add(mae)\n",
    "        num_samples = tf.shape(y_pred)[0]\n",
    "        self.total_samples.assign_add(num_samples)\n",
    "\n",
    "    def result(self):\n",
    "        return self.mae_sum / tf.cast(self.total_samples, tf.float32)\n",
    "\n",
    "    def reset_state(self):\n",
    "        self.mae_sum.assign(0.)\n",
    "        self.total_samples.assign(0)"
   ]
  },
  {
   "cell_type": "code",
   "execution_count": 35,
   "id": "55e09fa7",
   "metadata": {},
   "outputs": [
    {
     "name": "stdout",
     "output_type": "stream",
     "text": [
      "Epoch 1/3\n",
      "1563/1563 [==============================] - 13s 8ms/step - loss: 0.2937 - accuracy: 0.9130 - mae: 56.0827 - val_loss: 0.1458 - val_accuracy: 0.9579 - val_mae: 56.0337\n",
      "Epoch 2/3\n",
      "1563/1563 [==============================] - 12s 8ms/step - loss: 0.1627 - accuracy: 0.9542 - mae: 55.8529 - val_loss: 0.1233 - val_accuracy: 0.9665 - val_mae: 55.9994\n",
      "Epoch 3/3\n",
      "1563/1563 [==============================] - 12s 8ms/step - loss: 0.1372 - accuracy: 0.9635 - mae: 55.8467 - val_loss: 0.1130 - val_accuracy: 0.9710 - val_mae: 55.9858\n",
      "313/313 [==============================] - 1s 2ms/step - loss: 0.1038 - accuracy: 0.9726 - mae: 56.1362\n"
     ]
    }
   ],
   "source": [
    "model = get_mnist_model()\n",
    "model.compile(optimizer=\"rmsprop\", loss=\"sparse_categorical_crossentropy\", metrics=[\"accuracy\", MeanAbsoluteError()])\n",
    "model.fit(train_images, train_labels, epochs=3, validation_data=(val_images, val_labels))\n",
    "test_metrics = model.evaluate(test_images, test_labels)"
   ]
  },
  {
   "cell_type": "markdown",
   "id": "1180ab3d",
   "metadata": {},
   "source": [
    "콜백 사용"
   ]
  },
  {
   "cell_type": "code",
   "execution_count": 36,
   "id": "494eaa38",
   "metadata": {},
   "outputs": [
    {
     "name": "stdout",
     "output_type": "stream",
     "text": [
      "Epoch 1/10\n",
      "1563/1563 [==============================] - 12s 8ms/step - loss: 0.2940 - accuracy: 0.9133 - val_loss: 0.1645 - val_accuracy: 0.9525\n",
      "Epoch 2/10\n",
      "1563/1563 [==============================] - 12s 8ms/step - loss: 0.1652 - accuracy: 0.9524 - val_loss: 0.1205 - val_accuracy: 0.9666\n",
      "Epoch 3/10\n",
      "1563/1563 [==============================] - 12s 8ms/step - loss: 0.1367 - accuracy: 0.9624 - val_loss: 0.1083 - val_accuracy: 0.9710\n",
      "Epoch 4/10\n",
      "1563/1563 [==============================] - 12s 8ms/step - loss: 0.1273 - accuracy: 0.9674 - val_loss: 0.1057 - val_accuracy: 0.9748\n",
      "Epoch 5/10\n",
      "1563/1563 [==============================] - 12s 8ms/step - loss: 0.1167 - accuracy: 0.9709 - val_loss: 0.1038 - val_accuracy: 0.9767\n",
      "Epoch 6/10\n",
      "1563/1563 [==============================] - 12s 8ms/step - loss: 0.1091 - accuracy: 0.9732 - val_loss: 0.1095 - val_accuracy: 0.9765\n",
      "Epoch 7/10\n",
      "1563/1563 [==============================] - 12s 8ms/step - loss: 0.1057 - accuracy: 0.9750 - val_loss: 0.1068 - val_accuracy: 0.9779\n",
      "Epoch 8/10\n",
      "1563/1563 [==============================] - 12s 8ms/step - loss: 0.1017 - accuracy: 0.9764 - val_loss: 0.1137 - val_accuracy: 0.9770\n",
      "Epoch 9/10\n",
      "1563/1563 [==============================] - 12s 8ms/step - loss: 0.0985 - accuracy: 0.9777 - val_loss: 0.1258 - val_accuracy: 0.9764\n"
     ]
    },
    {
     "data": {
      "text/plain": [
       "<keras.callbacks.History at 0x7c89ad57f5e0>"
      ]
     },
     "execution_count": 36,
     "metadata": {},
     "output_type": "execute_result"
    }
   ],
   "source": [
    "callbacks_list = [\n",
    "    keras.callbacks.EarlyStopping(\n",
    "        monitor=\"val_accuracy\",\n",
    "        patience=2,\n",
    "    ),\n",
    "    keras.callbacks.ModelCheckpoint(\n",
    "        filepath=\"checkpoint_path.h5\",\n",
    "        monitor=\"val_loss\",\n",
    "        save_best_only=True,\n",
    "    )\n",
    "]\n",
    "model = get_mnist_model()\n",
    "model.compile(optimizer=\"rmsprop\",\n",
    "              loss=\"sparse_categorical_crossentropy\",\n",
    "              metrics=[\"accuracy\"])\n",
    "model.fit(train_images, train_labels,\n",
    "          epochs=10,\n",
    "          callbacks=callbacks_list,\n",
    "          validation_data=(val_images, val_labels))"
   ]
  },
  {
   "cell_type": "code",
   "execution_count": 37,
   "id": "1fba7d99",
   "metadata": {},
   "outputs": [],
   "source": [
    "model = keras.models.load_model(\"checkpoint_path.h5\")"
   ]
  },
  {
   "cell_type": "markdown",
   "id": "ad642711",
   "metadata": {},
   "source": [
    "사용자 정의 콜백 생성"
   ]
  },
  {
   "cell_type": "code",
   "execution_count": 38,
   "id": "35945fa7",
   "metadata": {},
   "outputs": [],
   "source": [
    "from matplotlib import pyplot as plt\n",
    "\n",
    "class LossHistory(keras.callbacks.Callback):\n",
    "    def on_train_begin(self, logs):\n",
    "        self.per_batch_losses = []\n",
    "\n",
    "    def on_batch_end(self, batch, logs):\n",
    "        self.per_batch_losses.append(logs.get(\"loss\"))\n",
    "\n",
    "    def on_epoch_end(self, epoch, logs):\n",
    "        plt.clf()\n",
    "        plt.plot(range(len(self.per_batch_losses)), self.per_batch_losses,\n",
    "                 label=\"Training loss for each batch\")\n",
    "        plt.xlabel(f\"Batch (epoch {epoch})\")\n",
    "        plt.ylabel(\"Loss\")\n",
    "        plt.legend()\n",
    "        plt.savefig(f\"plot_at_epoch_{epoch}\")\n",
    "        self.per_batch_losses = []"
   ]
  },
  {
   "cell_type": "code",
   "execution_count": 39,
   "id": "c3d5d6e4",
   "metadata": {},
   "outputs": [
    {
     "name": "stdout",
     "output_type": "stream",
     "text": [
      "Epoch 1/10\n",
      "1563/1563 [==============================] - 13s 8ms/step - loss: 0.2923 - accuracy: 0.9128 - val_loss: 0.1495 - val_accuracy: 0.9570\n",
      "Epoch 2/10\n",
      "1563/1563 [==============================] - 12s 8ms/step - loss: 0.1670 - accuracy: 0.9533 - val_loss: 0.1312 - val_accuracy: 0.9658\n",
      "Epoch 3/10\n",
      "1563/1563 [==============================] - 12s 8ms/step - loss: 0.1394 - accuracy: 0.9621 - val_loss: 0.1095 - val_accuracy: 0.9720\n",
      "Epoch 4/10\n",
      "1563/1563 [==============================] - 12s 8ms/step - loss: 0.1283 - accuracy: 0.9672 - val_loss: 0.1123 - val_accuracy: 0.9719\n",
      "Epoch 5/10\n",
      "1563/1563 [==============================] - 12s 7ms/step - loss: 0.1167 - accuracy: 0.9697 - val_loss: 0.1116 - val_accuracy: 0.9739\n",
      "Epoch 6/10\n",
      "1563/1563 [==============================] - 12s 7ms/step - loss: 0.1113 - accuracy: 0.9728 - val_loss: 0.1034 - val_accuracy: 0.9762\n",
      "Epoch 7/10\n",
      "1563/1563 [==============================] - 13s 8ms/step - loss: 0.1030 - accuracy: 0.9749 - val_loss: 0.1065 - val_accuracy: 0.9779\n",
      "Epoch 8/10\n",
      "1563/1563 [==============================] - 12s 8ms/step - loss: 0.1045 - accuracy: 0.9760 - val_loss: 0.1143 - val_accuracy: 0.9778\n",
      "Epoch 9/10\n",
      "1563/1563 [==============================] - 12s 7ms/step - loss: 0.0987 - accuracy: 0.9780 - val_loss: 0.1157 - val_accuracy: 0.9770\n",
      "Epoch 10/10\n",
      "1563/1563 [==============================] - 12s 8ms/step - loss: 0.0966 - accuracy: 0.9786 - val_loss: 0.1177 - val_accuracy: 0.9775\n"
     ]
    },
    {
     "data": {
      "text/plain": [
       "<keras.callbacks.History at 0x7c897073f490>"
      ]
     },
     "execution_count": 39,
     "metadata": {},
     "output_type": "execute_result"
    },
    {
     "data": {
      "image/png": "[encoded data removed]",
      "text/plain": [
       "<Figure size 432x288 with 1 Axes>"
      ]
     },
     "metadata": {
      "needs_background": "light"
     },
     "output_type": "display_data"
    }
   ],
   "source": [
    "model = get_mnist_model()\n",
    "model.compile(optimizer=\"rmsprop\",\n",
    "              loss=\"sparse_categorical_crossentropy\",\n",
    "              metrics=[\"accuracy\"])\n",
    "model.fit(train_images, train_labels,\n",
    "          epochs=10,\n",
    "          callbacks=[LossHistory()],\n",
    "          validation_data=(val_images, val_labels))"
   ]
  },
  {
   "cell_type": "markdown",
   "id": "bfee21e3",
   "metadata": {},
   "source": [
    "validation loss도 함께 나오는 콜백 작성"
   ]
  },
  {
   "cell_type": "code",
   "execution_count": 45,
   "id": "3591c73b",
   "metadata": {},
   "outputs": [],
   "source": [
    "class AllLossHistory(keras.callbacks.Callback):\n",
    "    def on_train_begin(self, logs):\n",
    "        self.per_batch_losses = []\n",
    "        self.per_val_losses = []\n",
    "\n",
    "    def on_batch_end(self, batch, logs):\n",
    "        self.per_batch_losses.append(logs.get(\"loss\"))\n",
    "\n",
    "    def on_epoch_end(self, epoch, logs):\n",
    "        self.per_val_losses.append(logs.get(\"val_loss\"))\n",
    "        plt.clf()\n",
    "        plt.plot(range(len(self.per_batch_losses)), self.per_batch_losses, label=\"Training loss for each batch\")\n",
    "        plt.xlabel(f\"Batch (epoch {epoch})\")\n",
    "        plt.ylabel(\"Loss\")\n",
    "        plt.legend()\n",
    "        plt.savefig(f\"plot_at_epoch_{epoch}\")\n",
    "        self.per_batch_losses = []\n",
    "    def on_train_end(self, logs):\n",
    "        plt.clf()\n",
    "        plt.plot(range(len(self.per_val_losses)), self.per_val_losses, label=\"Validation loss for each epoch\")\n",
    "        plt.xlabel(\"epoch\")\n",
    "        plt.ylabel(\"Loss\")\n",
    "        plt.legend()\n",
    "        plt.savefig(\"val_loss_plot_at_train\")"
   ]
  },
  {
   "cell_type": "code",
   "execution_count": 46,
   "id": "9cefeca5",
   "metadata": {},
   "outputs": [
    {
     "name": "stdout",
     "output_type": "stream",
     "text": [
      "Epoch 1/10\n",
      "1563/1563 [==============================] - 13s 8ms/step - loss: 0.2916 - accuracy: 0.9136 - val_loss: 0.1378 - val_accuracy: 0.9628\n",
      "Epoch 2/10\n",
      "1563/1563 [==============================] - 12s 8ms/step - loss: 0.1618 - accuracy: 0.9553 - val_loss: 0.1253 - val_accuracy: 0.9669\n",
      "Epoch 3/10\n",
      "1563/1563 [==============================] - 13s 8ms/step - loss: 0.1360 - accuracy: 0.9642 - val_loss: 0.1227 - val_accuracy: 0.9692\n",
      "Epoch 4/10\n",
      "1563/1563 [==============================] - 12s 8ms/step - loss: 0.1247 - accuracy: 0.9674 - val_loss: 0.1201 - val_accuracy: 0.9729\n",
      "Epoch 5/10\n",
      "1563/1563 [==============================] - 12s 8ms/step - loss: 0.1121 - accuracy: 0.9714 - val_loss: 0.1047 - val_accuracy: 0.9756\n",
      "Epoch 6/10\n",
      "1563/1563 [==============================] - 12s 8ms/step - loss: 0.1099 - accuracy: 0.9732 - val_loss: 0.1215 - val_accuracy: 0.9740\n",
      "Epoch 7/10\n",
      "1563/1563 [==============================] - 12s 8ms/step - loss: 0.1060 - accuracy: 0.9748 - val_loss: 0.1126 - val_accuracy: 0.9770\n",
      "Epoch 8/10\n",
      "1563/1563 [==============================] - 12s 8ms/step - loss: 0.0985 - accuracy: 0.9769 - val_loss: 0.1178 - val_accuracy: 0.9769\n",
      "Epoch 9/10\n",
      "1563/1563 [==============================] - 12s 8ms/step - loss: 0.0984 - accuracy: 0.9779 - val_loss: 0.1130 - val_accuracy: 0.9781\n",
      "Epoch 10/10\n",
      "1563/1563 [==============================] - 12s 8ms/step - loss: 0.0961 - accuracy: 0.9783 - val_loss: 0.1181 - val_accuracy: 0.9781\n"
     ]
    },
    {
     "data": {
      "text/plain": [
       "<keras.callbacks.History at 0x7c89885a8760>"
      ]
     },
     "execution_count": 46,
     "metadata": {},
     "output_type": "execute_result"
    },
    {
     "data": {
      "image/png": "[encoded data removed]",
      "text/plain": [
       "<Figure size 432x288 with 1 Axes>"
      ]
     },
     "metadata": {
      "needs_background": "light"
     },
     "output_type": "display_data"
    }
   ],
   "source": [
    "model = get_mnist_model()\n",
    "model.compile(optimizer=\"rmsprop\",\n",
    "              loss=\"sparse_categorical_crossentropy\",\n",
    "              metrics=[\"accuracy\"])\n",
    "model.fit(train_images, train_labels,\n",
    "          epochs=10,\n",
    "          callbacks=[AllLossHistory()],\n",
    "          validation_data=(val_images, val_labels))"
   ]
  },
  {
   "cell_type": "markdown",
   "id": "7ea6064a",
   "metadata": {},
   "source": [
    "loss와 accuracy가 함께 나오는 콜백"
   ]
  },
  {
   "cell_type": "code",
   "execution_count": 47,
   "id": "cde19077",
   "metadata": {},
   "outputs": [],
   "source": [
    "class AccLossHistory(keras.callbacks.Callback):\n",
    "    def on_train_begin(self, logs):\n",
    "        self.per_batch_losses = []\n",
    "        self.per_batch_accuracy = []\n",
    "\n",
    "    def on_batch_end(self, batch, logs):\n",
    "        self.per_batch_losses.append(logs.get(\"loss\"))\n",
    "        self.per_batch_accuracy.append(logs.get(\"accuracy\"))\n",
    "\n",
    "    def on_epoch_end(self, epoch, logs):\n",
    "        plt.clf()\n",
    "        fig, (ax1, ax2) = plt.subplots(2, 1, figsize=(8, 10))\n",
    "\n",
    "        ax1.plot(range(len(self.per_batch_losses)), self.per_batch_losses, label=\"Training loss for each batch\")\n",
    "        ax1.set_xlabel(f\"Batch (epoch {epoch})\")\n",
    "        ax1.set_ylabel(\"Loss\")\n",
    "        ax1.legend()\n",
    "\n",
    "        ax2.plot(range(len(self.per_batch_accuracy)), self.per_batch_accuracy, label=\"Training accuracy for each batch\", color='orange')\n",
    "        ax2.set_xlabel(f\"Batch (epoch {epoch})\")\n",
    "        ax2.set_ylabel(\"Accuracy\")\n",
    "        ax2.legend()\n",
    "        plt.savefig(f\"A&L_plot_at_epoch_{epoch}\")\n",
    "        self.per_batch_losses = []"
   ]
  },
  {
   "cell_type": "code",
   "execution_count": 49,
   "id": "0f66081c",
   "metadata": {},
   "outputs": [
    {
     "name": "stdout",
     "output_type": "stream",
     "text": [
      "Epoch 1/10\n",
      "1563/1563 [==============================] - 13s 8ms/step - loss: 0.2952 - accuracy: 0.9131 - val_loss: 0.1548 - val_accuracy: 0.9541\n",
      "Epoch 2/10\n",
      "1563/1563 [==============================] - 12s 7ms/step - loss: 0.1661 - accuracy: 0.9543 - val_loss: 0.1203 - val_accuracy: 0.9688\n",
      "Epoch 3/10\n",
      "1563/1563 [==============================] - 12s 8ms/step - loss: 0.1387 - accuracy: 0.9632 - val_loss: 0.1154 - val_accuracy: 0.9706\n",
      "Epoch 4/10\n",
      "1563/1563 [==============================] - 12s 8ms/step - loss: 0.1252 - accuracy: 0.9669 - val_loss: 0.1155 - val_accuracy: 0.9726\n",
      "Epoch 5/10\n",
      "1563/1563 [==============================] - 12s 8ms/step - loss: 0.1191 - accuracy: 0.9707 - val_loss: 0.1149 - val_accuracy: 0.9749\n",
      "Epoch 6/10\n",
      "1563/1563 [==============================] - 12s 8ms/step - loss: 0.1083 - accuracy: 0.9738 - val_loss: 0.1058 - val_accuracy: 0.9769\n",
      "Epoch 7/10\n",
      "1563/1563 [==============================] - 12s 8ms/step - loss: 0.1011 - accuracy: 0.9758 - val_loss: 0.1157 - val_accuracy: 0.9766\n",
      "Epoch 8/10\n",
      "1563/1563 [==============================] - 13s 8ms/step - loss: 0.1024 - accuracy: 0.9764 - val_loss: 0.1132 - val_accuracy: 0.9788\n",
      "Epoch 9/10\n",
      "1563/1563 [==============================] - 12s 7ms/step - loss: 0.0972 - accuracy: 0.9784 - val_loss: 0.1158 - val_accuracy: 0.9782\n",
      "Epoch 10/10\n",
      "1563/1563 [==============================] - 12s 8ms/step - loss: 0.0940 - accuracy: 0.9792 - val_loss: 0.1192 - val_accuracy: 0.9788\n"
     ]
    },
    {
     "data": {
      "text/plain": [
       "<keras.callbacks.History at 0x7c8970658c10>"
      ]
     },
     "execution_count": 49,
     "metadata": {},
     "output_type": "execute_result"
    },
    {
     "data": {
      "text/plain": [
       "<Figure size 432x288 with 0 Axes>"
      ]
     },
     "metadata": {},
     "output_type": "display_data"
    },
    {
     "data": {
      "text/plain": [
       "<Figure size 576x720 with 0 Axes>"
      ]
     },
     "metadata": {},
     "output_type": "display_data"
    },
    {
     "data": {
      "text/plain": [
       "<Figure size 576x720 with 0 Axes>"
      ]
     },
     "metadata": {},
     "output_type": "display_data"
    },
    {
     "data": {
      "text/plain": [
       "<Figure size 576x720 with 0 Axes>"
      ]
     },
     "metadata": {},
     "output_type": "display_data"
    },
    {
     "data": {
      "text/plain": [
       "<Figure size 576x720 with 0 Axes>"
      ]
     },
     "metadata": {},
     "output_type": "display_data"
    },
    {
     "data": {
      "text/plain": [
       "<Figure size 576x720 with 0 Axes>"
      ]
     },
     "metadata": {},
     "output_type": "display_data"
    },
    {
     "data": {
      "text/plain": [
       "<Figure size 576x720 with 0 Axes>"
      ]
     },
     "metadata": {},
     "output_type": "display_data"
    },
    {
     "data": {
      "text/plain": [
       "<Figure size 576x720 with 0 Axes>"
      ]
     },
     "metadata": {},
     "output_type": "display_data"
    },
    {
     "data": {
      "text/plain": [
       "<Figure size 576x720 with 0 Axes>"
      ]
     },
     "metadata": {},
     "output_type": "display_data"
    },
    {
     "data": {
      "text/plain": [
       "<Figure size 576x720 with 0 Axes>"
      ]
     },
     "metadata": {},
     "output_type": "display_data"
    },
    {
     "data": {
      "image/png": "[encoded data removed]",
      "text/plain": [
       "<Figure size 576x720 with 2 Axes>"
      ]
     },
     "metadata": {
      "needs_background": "light"
     },
     "output_type": "display_data"
    }
   ],
   "source": [
    "model = get_mnist_model()\n",
    "model.compile(optimizer=\"rmsprop\",\n",
    "              loss=\"sparse_categorical_crossentropy\",\n",
    "              metrics=[\"accuracy\"])\n",
    "model.fit(train_images, train_labels,\n",
    "          epochs=10,\n",
    "          callbacks=[AccLossHistory()],\n",
    "          validation_data=(val_images, val_labels))"
   ]
  },
  {
   "cell_type": "code",
   "execution_count": null,
   "id": "a93e948f",
   "metadata": {},
   "outputs": [],
   "source": []
  }
 ],
 "metadata": {
  "kernelspec": {
   "display_name": "Python 3 (ipykernel)",
   "language": "python",
   "name": "python3"
  },
  "language_info": {
   "codemirror_mode": {
    "name": "ipython",
    "version": 3
   },
   "file_extension": ".py",
   "mimetype": "text/x-python",
   "name": "python",
   "nbconvert_exporter": "python",
   "pygments_lexer": "ipython3",
   "version": "3.9.7"
  }
 },
 "nbformat": 4,
 "nbformat_minor": 5
}
