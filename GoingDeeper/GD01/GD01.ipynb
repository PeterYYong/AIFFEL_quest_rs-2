{
 "cells": [
  {
   "cell_type": "code",
   "execution_count": 1,
   "metadata": {
    "id": "EO5ZqRN2j7cI"
   },
   "outputs": [],
   "source": [
    "import tensorflow as tf\n",
    "import numpy as np\n",
    "from tensorflow import keras"
   ]
  },
  {
   "cell_type": "markdown",
   "metadata": {},
   "source": [
    "# resnet ablation study\n",
    "## resnet의 구조\n",
    "![resnet](https://github.com/user-attachments/assets/065687c6-2711-4296-8844-7bf3099437b9)\n",
    "![resnet_block](https://github.com/user-attachments/assets/e9ed45ab-5189-49cb-8205-4626c1ec89c8)\n",
    "![resnet_structure](https://github.com/user-attachments/assets/2a0b8e9e-8a3c-465f-92e4-ea9a9a5c69fd)\n",
    "\n",
    "## 작성해볼 resnet은 34와 50\n",
    "### 공통점\n",
    "- conv block을 반복해서 쌓은 형태\n",
    "- 7x7커널의 conv1과 3x3의 maxpool층을 거친 후 conv block으로 진행  \n",
    "\n",
    "### 차이점\n",
    "- conv block의 내부 구조가 다름\n",
    "    - 34에서는 3x3커널을 사용한 2개의 conv 레이어로 구성되어 있지만 50에서는 1x1, 3x3, 1x1의 3개의 conv 레이어로 구성되어 있음\n",
    "    - bottleneck 구조\n",
    "        - 계산 효율성을 높이고 네트워크의 깊이를 증가 시킬 수 있음  \n",
    "        \n",
    "## 코드 진행\n",
    "1. resnet의 conv블럭과 이것을 포함한 resnet 빌드함수 구현\n",
    "    - 34층 50층을 선택할 수 있도록 is_50 구성\n",
    "    - plain모델과 residual connection기능을 구현한 is_plain 구성\n",
    "2. 데이터셋 구성\n",
    "3. resnet_34부터 plain_34, resnet_50, plain_50순으로 빌드 및 훈련, 기록\n",
    "    - 각 모델별 사용 후 메모리 해제를 통해 메모리 관리\n",
    "4. 결과 시각화"
   ]
  },
  {
   "cell_type": "code",
   "execution_count": 2,
   "metadata": {
    "id": "wmhFOUdbj_cY"
   },
   "outputs": [],
   "source": [
    "def build_resnet_block(input_layer, num_cnn=3, channel=64, block_num=1,is_50 = False,is_plain = False):\n",
    "    x = input_layer\n",
    "    if is_50:\n",
    "        is50_n = 1\n",
    "    else:\n",
    "        is50_n = 0\n",
    "    if is_plain:\n",
    "        isplain_n = 1\n",
    "    else:\n",
    "        isplain_n = 0\n",
    "        \n",
    "    if not is_50:\n",
    "        for i in range(num_cnn):\n",
    "            identity = x\n",
    "            if block_num !=0 and i==0:\n",
    "                stride = 2\n",
    "            else:\n",
    "                stride = 1\n",
    "            x = keras.layers.Conv2D(filters=channel, kernel_size = 3, activation='relu', kernel_initializer='he_normal', strides=stride, padding = 'same', name=f'stage{block_num}_{i}_conv1_{is50_n}{isplain_n}')(x)\n",
    "            x = keras.layers.BatchNormalization()(x)\n",
    "            x = keras.layers.Activation('relu')(x)\n",
    "\n",
    "            x = keras.layers.Conv2D(filters=channel, kernel_size = 3, activation='relu', kernel_initializer='he_normal', padding = 'same', name=f'stage{block_num}_{i}_conv2_{is50_n}{isplain_n}')(x)\n",
    "            x = keras.layers.BatchNormalization()(x)\n",
    "\n",
    "            #플레인 모델에서는 잔차연결x\n",
    "            if not is_plain:\n",
    "                # identity mapping의 channel 수를 맞추기 위해 1x1 Convolution을 사용합니다.\n",
    "                if i==0:\n",
    "                    identity = keras.layers.Conv2D(filters=x.shape[-1], kernel_size=1, strides=stride, padding='same', name=f'identity_{block_num}_{i}_{is50_n}{isplain_n}')(identity)\n",
    "                #add\n",
    "                x = keras.layers.Add()([x, identity])\n",
    "                x = keras.layers.Activation('relu')(x)\n",
    "    else:\n",
    "        for i in range(num_cnn):\n",
    "            identity = x\n",
    "            if block_num !=0 and i==0:\n",
    "                stride = 2\n",
    "            else:\n",
    "                stride = 1\n",
    "            x = keras.layers.Conv2D(filters=channel, kernel_size = 1, activation='relu', kernel_initializer='he_normal', strides=stride, padding = 'same', name=f'stage{block_num}_{i}_conv1_{is50_n}{isplain_n}')(x)\n",
    "            x = keras.layers.BatchNormalization()(x)\n",
    "            x = keras.layers.Activation('relu')(x)\n",
    "\n",
    "            x = keras.layers.Conv2D(filters=channel, kernel_size = 3, activation='relu', kernel_initializer='he_normal', padding = 'same', name=f'stage{block_num}_{i}_conv2_{is50_n}{isplain_n}')(x)\n",
    "            x = keras.layers.BatchNormalization()(x)\n",
    "            x = keras.layers.Activation('relu')(x)\n",
    "\n",
    "            x = keras.layers.Conv2D(filters=channel*4, kernel_size = 1, activation='relu', kernel_initializer='he_normal', padding = 'same', name=f'stage{block_num}_{i}_conv3_{is50_n}{isplain_n}')(x)\n",
    "            x = keras.layers.BatchNormalization()(x)\n",
    "\n",
    "            #플레인 모델에서는 잔차연결x\n",
    "            if not is_plain:\n",
    "                identity = keras.layers.Conv2D(filters=channel*4, kernel_size = 1, activation='relu', kernel_initializer='he_normal', strides=stride, padding = 'same', name=f'identity_{block_num}_{i}_{is50_n}{isplain_n}')(identity)\n",
    "                identity = keras.layers.BatchNormalization()(identity)\n",
    "                #add\n",
    "                x = keras.layers.Add()([x, identity])\n",
    "                x = keras.layers.Activation('relu')(x)\n",
    "    return x"
   ]
  },
  {
   "cell_type": "code",
   "execution_count": 3,
   "metadata": {
    "id": "OCX_5z2To6OL"
   },
   "outputs": [],
   "source": [
    "def build_resnet(input_shape=(32,32,3),\n",
    "              num_cnn_list=[3,4,6,3],\n",
    "              channel_list=[64,128,256,512],\n",
    "              num_classes=10,is_50 = False, is_plain = False):\n",
    "\n",
    "    assert len(num_cnn_list) == len(channel_list)\n",
    "\n",
    "    input_layer = keras.layers.Input(shape=input_shape)\n",
    "    output = input_layer\n",
    "    output = keras.layers.Conv2D(filters=64, kernel_size = 7, activation='relu', strides = 2, padding = 'same')(output)\n",
    "    output = keras.layers.BatchNormalization()(output)\n",
    "    output = keras.layers.Activation('relu')(output)\n",
    "\n",
    "    # conv2 pooling\n",
    "    output = keras.layers.MaxPooling2D(pool_size = 3, strides = 2, padding = 'same')(output)\n",
    "\n",
    "    for i, (num_cnn, channel) in enumerate(zip(num_cnn_list, channel_list)):\n",
    "        output = build_resnet_block(\n",
    "            output,\n",
    "            num_cnn=num_cnn,\n",
    "            channel=channel,\n",
    "            block_num=i,\n",
    "            is_50 = is_50,\n",
    "            is_plain = is_plain\n",
    "        )\n",
    "\n",
    "    output = keras.layers.AveragePooling2D(pool_size=2, padding = 'same', name='avg_pool')(output)\n",
    "    output = keras.layers.Flatten(name='flatten')(output)\n",
    "    output = keras.layers.Dense(num_classes, activation='softmax', name='fc1000')(output)\n",
    "\n",
    "    model = keras.models.Model(inputs=input_layer, outputs=output)\n",
    "    return model"
   ]
  },
  {
   "cell_type": "code",
   "execution_count": 4,
   "metadata": {
    "colab": {
     "base_uri": "https://localhost:8080/",
     "height": 1000
    },
    "id": "ICblSP4qx3yl",
    "outputId": "ca862db8-fe50-4406-aa83-30994dd3cb12"
   },
   "outputs": [
    {
     "name": "stdout",
     "output_type": "stream",
     "text": [
      "Model: \"model\"\n",
      "__________________________________________________________________________________________________\n",
      "Layer (type)                    Output Shape         Param #     Connected to                     \n",
      "==================================================================================================\n",
      "input_1 (InputLayer)            [(None, 224, 224, 3) 0                                            \n",
      "__________________________________________________________________________________________________\n",
      "conv2d (Conv2D)                 (None, 112, 112, 64) 9472        input_1[0][0]                    \n",
      "__________________________________________________________________________________________________\n",
      "batch_normalization (BatchNorma (None, 112, 112, 64) 256         conv2d[0][0]                     \n",
      "__________________________________________________________________________________________________\n",
      "activation (Activation)         (None, 112, 112, 64) 0           batch_normalization[0][0]        \n",
      "__________________________________________________________________________________________________\n",
      "max_pooling2d (MaxPooling2D)    (None, 56, 56, 64)   0           activation[0][0]                 \n",
      "__________________________________________________________________________________________________\n",
      "stage0_0_conv1_00 (Conv2D)      (None, 56, 56, 64)   36928       max_pooling2d[0][0]              \n",
      "__________________________________________________________________________________________________\n",
      "batch_normalization_1 (BatchNor (None, 56, 56, 64)   256         stage0_0_conv1_00[0][0]          \n",
      "__________________________________________________________________________________________________\n",
      "activation_1 (Activation)       (None, 56, 56, 64)   0           batch_normalization_1[0][0]      \n",
      "__________________________________________________________________________________________________\n",
      "stage0_0_conv2_00 (Conv2D)      (None, 56, 56, 64)   36928       activation_1[0][0]               \n",
      "__________________________________________________________________________________________________\n",
      "batch_normalization_2 (BatchNor (None, 56, 56, 64)   256         stage0_0_conv2_00[0][0]          \n",
      "__________________________________________________________________________________________________\n",
      "identity_0_0_00 (Conv2D)        (None, 56, 56, 64)   4160        max_pooling2d[0][0]              \n",
      "__________________________________________________________________________________________________\n",
      "add (Add)                       (None, 56, 56, 64)   0           batch_normalization_2[0][0]      \n",
      "                                                                 identity_0_0_00[0][0]            \n",
      "__________________________________________________________________________________________________\n",
      "activation_2 (Activation)       (None, 56, 56, 64)   0           add[0][0]                        \n",
      "__________________________________________________________________________________________________\n",
      "stage0_1_conv1_00 (Conv2D)      (None, 56, 56, 64)   36928       activation_2[0][0]               \n",
      "__________________________________________________________________________________________________\n",
      "batch_normalization_3 (BatchNor (None, 56, 56, 64)   256         stage0_1_conv1_00[0][0]          \n",
      "__________________________________________________________________________________________________\n",
      "activation_3 (Activation)       (None, 56, 56, 64)   0           batch_normalization_3[0][0]      \n",
      "__________________________________________________________________________________________________\n",
      "stage0_1_conv2_00 (Conv2D)      (None, 56, 56, 64)   36928       activation_3[0][0]               \n",
      "__________________________________________________________________________________________________\n",
      "batch_normalization_4 (BatchNor (None, 56, 56, 64)   256         stage0_1_conv2_00[0][0]          \n",
      "__________________________________________________________________________________________________\n",
      "add_1 (Add)                     (None, 56, 56, 64)   0           batch_normalization_4[0][0]      \n",
      "                                                                 activation_2[0][0]               \n",
      "__________________________________________________________________________________________________\n",
      "activation_4 (Activation)       (None, 56, 56, 64)   0           add_1[0][0]                      \n",
      "__________________________________________________________________________________________________\n",
      "stage0_2_conv1_00 (Conv2D)      (None, 56, 56, 64)   36928       activation_4[0][0]               \n",
      "__________________________________________________________________________________________________\n",
      "batch_normalization_5 (BatchNor (None, 56, 56, 64)   256         stage0_2_conv1_00[0][0]          \n",
      "__________________________________________________________________________________________________\n",
      "activation_5 (Activation)       (None, 56, 56, 64)   0           batch_normalization_5[0][0]      \n",
      "__________________________________________________________________________________________________\n",
      "stage0_2_conv2_00 (Conv2D)      (None, 56, 56, 64)   36928       activation_5[0][0]               \n",
      "__________________________________________________________________________________________________\n",
      "batch_normalization_6 (BatchNor (None, 56, 56, 64)   256         stage0_2_conv2_00[0][0]          \n",
      "__________________________________________________________________________________________________\n",
      "add_2 (Add)                     (None, 56, 56, 64)   0           batch_normalization_6[0][0]      \n",
      "                                                                 activation_4[0][0]               \n",
      "__________________________________________________________________________________________________\n",
      "activation_6 (Activation)       (None, 56, 56, 64)   0           add_2[0][0]                      \n",
      "__________________________________________________________________________________________________\n",
      "stage1_0_conv1_00 (Conv2D)      (None, 28, 28, 128)  73856       activation_6[0][0]               \n",
      "__________________________________________________________________________________________________\n",
      "batch_normalization_7 (BatchNor (None, 28, 28, 128)  512         stage1_0_conv1_00[0][0]          \n",
      "__________________________________________________________________________________________________\n",
      "activation_7 (Activation)       (None, 28, 28, 128)  0           batch_normalization_7[0][0]      \n",
      "__________________________________________________________________________________________________\n",
      "stage1_0_conv2_00 (Conv2D)      (None, 28, 28, 128)  147584      activation_7[0][0]               \n",
      "__________________________________________________________________________________________________\n",
      "batch_normalization_8 (BatchNor (None, 28, 28, 128)  512         stage1_0_conv2_00[0][0]          \n",
      "__________________________________________________________________________________________________\n",
      "identity_1_0_00 (Conv2D)        (None, 28, 28, 128)  8320        activation_6[0][0]               \n",
      "__________________________________________________________________________________________________\n",
      "add_3 (Add)                     (None, 28, 28, 128)  0           batch_normalization_8[0][0]      \n",
      "                                                                 identity_1_0_00[0][0]            \n",
      "__________________________________________________________________________________________________\n",
      "activation_8 (Activation)       (None, 28, 28, 128)  0           add_3[0][0]                      \n",
      "__________________________________________________________________________________________________\n",
      "stage1_1_conv1_00 (Conv2D)      (None, 28, 28, 128)  147584      activation_8[0][0]               \n",
      "__________________________________________________________________________________________________\n",
      "batch_normalization_9 (BatchNor (None, 28, 28, 128)  512         stage1_1_conv1_00[0][0]          \n",
      "__________________________________________________________________________________________________\n",
      "activation_9 (Activation)       (None, 28, 28, 128)  0           batch_normalization_9[0][0]      \n",
      "__________________________________________________________________________________________________\n",
      "stage1_1_conv2_00 (Conv2D)      (None, 28, 28, 128)  147584      activation_9[0][0]               \n",
      "__________________________________________________________________________________________________\n",
      "batch_normalization_10 (BatchNo (None, 28, 28, 128)  512         stage1_1_conv2_00[0][0]          \n",
      "__________________________________________________________________________________________________\n",
      "add_4 (Add)                     (None, 28, 28, 128)  0           batch_normalization_10[0][0]     \n",
      "                                                                 activation_8[0][0]               \n",
      "__________________________________________________________________________________________________\n",
      "activation_10 (Activation)      (None, 28, 28, 128)  0           add_4[0][0]                      \n",
      "__________________________________________________________________________________________________\n",
      "stage1_2_conv1_00 (Conv2D)      (None, 28, 28, 128)  147584      activation_10[0][0]              \n",
      "__________________________________________________________________________________________________\n",
      "batch_normalization_11 (BatchNo (None, 28, 28, 128)  512         stage1_2_conv1_00[0][0]          \n",
      "__________________________________________________________________________________________________\n",
      "activation_11 (Activation)      (None, 28, 28, 128)  0           batch_normalization_11[0][0]     \n",
      "__________________________________________________________________________________________________\n",
      "stage1_2_conv2_00 (Conv2D)      (None, 28, 28, 128)  147584      activation_11[0][0]              \n",
      "__________________________________________________________________________________________________\n",
      "batch_normalization_12 (BatchNo (None, 28, 28, 128)  512         stage1_2_conv2_00[0][0]          \n",
      "__________________________________________________________________________________________________\n",
      "add_5 (Add)                     (None, 28, 28, 128)  0           batch_normalization_12[0][0]     \n",
      "                                                                 activation_10[0][0]              \n",
      "__________________________________________________________________________________________________\n",
      "activation_12 (Activation)      (None, 28, 28, 128)  0           add_5[0][0]                      \n",
      "__________________________________________________________________________________________________\n",
      "stage1_3_conv1_00 (Conv2D)      (None, 28, 28, 128)  147584      activation_12[0][0]              \n",
      "__________________________________________________________________________________________________\n",
      "batch_normalization_13 (BatchNo (None, 28, 28, 128)  512         stage1_3_conv1_00[0][0]          \n",
      "__________________________________________________________________________________________________\n",
      "activation_13 (Activation)      (None, 28, 28, 128)  0           batch_normalization_13[0][0]     \n",
      "__________________________________________________________________________________________________\n",
      "stage1_3_conv2_00 (Conv2D)      (None, 28, 28, 128)  147584      activation_13[0][0]              \n",
      "__________________________________________________________________________________________________\n",
      "batch_normalization_14 (BatchNo (None, 28, 28, 128)  512         stage1_3_conv2_00[0][0]          \n",
      "__________________________________________________________________________________________________\n",
      "add_6 (Add)                     (None, 28, 28, 128)  0           batch_normalization_14[0][0]     \n",
      "                                                                 activation_12[0][0]              \n",
      "__________________________________________________________________________________________________\n",
      "activation_14 (Activation)      (None, 28, 28, 128)  0           add_6[0][0]                      \n",
      "__________________________________________________________________________________________________\n",
      "stage2_0_conv1_00 (Conv2D)      (None, 14, 14, 256)  295168      activation_14[0][0]              \n",
      "__________________________________________________________________________________________________\n",
      "batch_normalization_15 (BatchNo (None, 14, 14, 256)  1024        stage2_0_conv1_00[0][0]          \n",
      "__________________________________________________________________________________________________\n",
      "activation_15 (Activation)      (None, 14, 14, 256)  0           batch_normalization_15[0][0]     \n",
      "__________________________________________________________________________________________________\n",
      "stage2_0_conv2_00 (Conv2D)      (None, 14, 14, 256)  590080      activation_15[0][0]              \n",
      "__________________________________________________________________________________________________\n",
      "batch_normalization_16 (BatchNo (None, 14, 14, 256)  1024        stage2_0_conv2_00[0][0]          \n",
      "__________________________________________________________________________________________________\n",
      "identity_2_0_00 (Conv2D)        (None, 14, 14, 256)  33024       activation_14[0][0]              \n",
      "__________________________________________________________________________________________________\n",
      "add_7 (Add)                     (None, 14, 14, 256)  0           batch_normalization_16[0][0]     \n",
      "                                                                 identity_2_0_00[0][0]            \n",
      "__________________________________________________________________________________________________\n",
      "activation_16 (Activation)      (None, 14, 14, 256)  0           add_7[0][0]                      \n",
      "__________________________________________________________________________________________________\n",
      "stage2_1_conv1_00 (Conv2D)      (None, 14, 14, 256)  590080      activation_16[0][0]              \n",
      "__________________________________________________________________________________________________\n",
      "batch_normalization_17 (BatchNo (None, 14, 14, 256)  1024        stage2_1_conv1_00[0][0]          \n",
      "__________________________________________________________________________________________________\n",
      "activation_17 (Activation)      (None, 14, 14, 256)  0           batch_normalization_17[0][0]     \n",
      "__________________________________________________________________________________________________\n",
      "stage2_1_conv2_00 (Conv2D)      (None, 14, 14, 256)  590080      activation_17[0][0]              \n",
      "__________________________________________________________________________________________________\n",
      "batch_normalization_18 (BatchNo (None, 14, 14, 256)  1024        stage2_1_conv2_00[0][0]          \n",
      "__________________________________________________________________________________________________\n",
      "add_8 (Add)                     (None, 14, 14, 256)  0           batch_normalization_18[0][0]     \n",
      "                                                                 activation_16[0][0]              \n",
      "__________________________________________________________________________________________________\n",
      "activation_18 (Activation)      (None, 14, 14, 256)  0           add_8[0][0]                      \n",
      "__________________________________________________________________________________________________\n",
      "stage2_2_conv1_00 (Conv2D)      (None, 14, 14, 256)  590080      activation_18[0][0]              \n",
      "__________________________________________________________________________________________________\n",
      "batch_normalization_19 (BatchNo (None, 14, 14, 256)  1024        stage2_2_conv1_00[0][0]          \n",
      "__________________________________________________________________________________________________\n",
      "activation_19 (Activation)      (None, 14, 14, 256)  0           batch_normalization_19[0][0]     \n",
      "__________________________________________________________________________________________________\n",
      "stage2_2_conv2_00 (Conv2D)      (None, 14, 14, 256)  590080      activation_19[0][0]              \n",
      "__________________________________________________________________________________________________\n",
      "batch_normalization_20 (BatchNo (None, 14, 14, 256)  1024        stage2_2_conv2_00[0][0]          \n",
      "__________________________________________________________________________________________________\n",
      "add_9 (Add)                     (None, 14, 14, 256)  0           batch_normalization_20[0][0]     \n",
      "                                                                 activation_18[0][0]              \n",
      "__________________________________________________________________________________________________\n",
      "activation_20 (Activation)      (None, 14, 14, 256)  0           add_9[0][0]                      \n",
      "__________________________________________________________________________________________________\n",
      "stage2_3_conv1_00 (Conv2D)      (None, 14, 14, 256)  590080      activation_20[0][0]              \n",
      "__________________________________________________________________________________________________\n",
      "batch_normalization_21 (BatchNo (None, 14, 14, 256)  1024        stage2_3_conv1_00[0][0]          \n",
      "__________________________________________________________________________________________________\n",
      "activation_21 (Activation)      (None, 14, 14, 256)  0           batch_normalization_21[0][0]     \n",
      "__________________________________________________________________________________________________\n",
      "stage2_3_conv2_00 (Conv2D)      (None, 14, 14, 256)  590080      activation_21[0][0]              \n",
      "__________________________________________________________________________________________________\n",
      "batch_normalization_22 (BatchNo (None, 14, 14, 256)  1024        stage2_3_conv2_00[0][0]          \n",
      "__________________________________________________________________________________________________\n",
      "add_10 (Add)                    (None, 14, 14, 256)  0           batch_normalization_22[0][0]     \n",
      "                                                                 activation_20[0][0]              \n",
      "__________________________________________________________________________________________________\n",
      "activation_22 (Activation)      (None, 14, 14, 256)  0           add_10[0][0]                     \n",
      "__________________________________________________________________________________________________\n",
      "stage2_4_conv1_00 (Conv2D)      (None, 14, 14, 256)  590080      activation_22[0][0]              \n",
      "__________________________________________________________________________________________________\n",
      "batch_normalization_23 (BatchNo (None, 14, 14, 256)  1024        stage2_4_conv1_00[0][0]          \n",
      "__________________________________________________________________________________________________\n",
      "activation_23 (Activation)      (None, 14, 14, 256)  0           batch_normalization_23[0][0]     \n",
      "__________________________________________________________________________________________________\n",
      "stage2_4_conv2_00 (Conv2D)      (None, 14, 14, 256)  590080      activation_23[0][0]              \n",
      "__________________________________________________________________________________________________\n",
      "batch_normalization_24 (BatchNo (None, 14, 14, 256)  1024        stage2_4_conv2_00[0][0]          \n",
      "__________________________________________________________________________________________________\n",
      "add_11 (Add)                    (None, 14, 14, 256)  0           batch_normalization_24[0][0]     \n",
      "                                                                 activation_22[0][0]              \n",
      "__________________________________________________________________________________________________\n",
      "activation_24 (Activation)      (None, 14, 14, 256)  0           add_11[0][0]                     \n",
      "__________________________________________________________________________________________________\n",
      "stage2_5_conv1_00 (Conv2D)      (None, 14, 14, 256)  590080      activation_24[0][0]              \n",
      "__________________________________________________________________________________________________\n",
      "batch_normalization_25 (BatchNo (None, 14, 14, 256)  1024        stage2_5_conv1_00[0][0]          \n",
      "__________________________________________________________________________________________________\n",
      "activation_25 (Activation)      (None, 14, 14, 256)  0           batch_normalization_25[0][0]     \n",
      "__________________________________________________________________________________________________\n",
      "stage2_5_conv2_00 (Conv2D)      (None, 14, 14, 256)  590080      activation_25[0][0]              \n",
      "__________________________________________________________________________________________________\n",
      "batch_normalization_26 (BatchNo (None, 14, 14, 256)  1024        stage2_5_conv2_00[0][0]          \n",
      "__________________________________________________________________________________________________\n",
      "add_12 (Add)                    (None, 14, 14, 256)  0           batch_normalization_26[0][0]     \n",
      "                                                                 activation_24[0][0]              \n",
      "__________________________________________________________________________________________________\n",
      "activation_26 (Activation)      (None, 14, 14, 256)  0           add_12[0][0]                     \n",
      "__________________________________________________________________________________________________\n",
      "stage3_0_conv1_00 (Conv2D)      (None, 7, 7, 512)    1180160     activation_26[0][0]              \n",
      "__________________________________________________________________________________________________\n",
      "batch_normalization_27 (BatchNo (None, 7, 7, 512)    2048        stage3_0_conv1_00[0][0]          \n",
      "__________________________________________________________________________________________________\n",
      "activation_27 (Activation)      (None, 7, 7, 512)    0           batch_normalization_27[0][0]     \n",
      "__________________________________________________________________________________________________\n",
      "stage3_0_conv2_00 (Conv2D)      (None, 7, 7, 512)    2359808     activation_27[0][0]              \n",
      "__________________________________________________________________________________________________\n",
      "batch_normalization_28 (BatchNo (None, 7, 7, 512)    2048        stage3_0_conv2_00[0][0]          \n",
      "__________________________________________________________________________________________________\n",
      "identity_3_0_00 (Conv2D)        (None, 7, 7, 512)    131584      activation_26[0][0]              \n",
      "__________________________________________________________________________________________________\n",
      "add_13 (Add)                    (None, 7, 7, 512)    0           batch_normalization_28[0][0]     \n",
      "                                                                 identity_3_0_00[0][0]            \n",
      "__________________________________________________________________________________________________\n",
      "activation_28 (Activation)      (None, 7, 7, 512)    0           add_13[0][0]                     \n",
      "__________________________________________________________________________________________________\n",
      "stage3_1_conv1_00 (Conv2D)      (None, 7, 7, 512)    2359808     activation_28[0][0]              \n",
      "__________________________________________________________________________________________________\n",
      "batch_normalization_29 (BatchNo (None, 7, 7, 512)    2048        stage3_1_conv1_00[0][0]          \n",
      "__________________________________________________________________________________________________\n",
      "activation_29 (Activation)      (None, 7, 7, 512)    0           batch_normalization_29[0][0]     \n",
      "__________________________________________________________________________________________________\n",
      "stage3_1_conv2_00 (Conv2D)      (None, 7, 7, 512)    2359808     activation_29[0][0]              \n",
      "__________________________________________________________________________________________________\n",
      "batch_normalization_30 (BatchNo (None, 7, 7, 512)    2048        stage3_1_conv2_00[0][0]          \n",
      "__________________________________________________________________________________________________\n",
      "add_14 (Add)                    (None, 7, 7, 512)    0           batch_normalization_30[0][0]     \n",
      "                                                                 activation_28[0][0]              \n",
      "__________________________________________________________________________________________________\n",
      "activation_30 (Activation)      (None, 7, 7, 512)    0           add_14[0][0]                     \n",
      "__________________________________________________________________________________________________\n",
      "stage3_2_conv1_00 (Conv2D)      (None, 7, 7, 512)    2359808     activation_30[0][0]              \n",
      "__________________________________________________________________________________________________\n",
      "batch_normalization_31 (BatchNo (None, 7, 7, 512)    2048        stage3_2_conv1_00[0][0]          \n",
      "__________________________________________________________________________________________________\n",
      "activation_31 (Activation)      (None, 7, 7, 512)    0           batch_normalization_31[0][0]     \n",
      "__________________________________________________________________________________________________\n",
      "stage3_2_conv2_00 (Conv2D)      (None, 7, 7, 512)    2359808     activation_31[0][0]              \n",
      "__________________________________________________________________________________________________\n",
      "batch_normalization_32 (BatchNo (None, 7, 7, 512)    2048        stage3_2_conv2_00[0][0]          \n",
      "__________________________________________________________________________________________________\n",
      "add_15 (Add)                    (None, 7, 7, 512)    0           batch_normalization_32[0][0]     \n",
      "                                                                 activation_30[0][0]              \n",
      "__________________________________________________________________________________________________\n",
      "activation_32 (Activation)      (None, 7, 7, 512)    0           add_15[0][0]                     \n",
      "__________________________________________________________________________________________________\n",
      "avg_pool (AveragePooling2D)     (None, 4, 4, 512)    0           activation_32[0][0]              \n",
      "__________________________________________________________________________________________________\n",
      "flatten (Flatten)               (None, 8192)         0           avg_pool[0][0]                   \n",
      "__________________________________________________________________________________________________\n",
      "fc1000 (Dense)                  (None, 10)           81930       flatten[0][0]                    \n",
      "==================================================================================================\n",
      "Total params: 21,392,714\n",
      "Trainable params: 21,377,482\n",
      "Non-trainable params: 15,232\n",
      "__________________________________________________________________________________________________\n"
     ]
    }
   ],
   "source": [
    "resnet_34 = build_resnet(input_shape=(224,224,3))\n",
    "resnet_34.summary()"
   ]
  },
  {
   "cell_type": "code",
   "execution_count": 5,
   "metadata": {
    "id": "r50DyTxFeaBK"
   },
   "outputs": [],
   "source": [
    "import tensorflow_datasets as tfds\n",
    "import urllib3\n",
    "urllib3.disable_warnings()"
   ]
  },
  {
   "cell_type": "code",
   "execution_count": 6,
   "metadata": {},
   "outputs": [],
   "source": [
    "# 데이터셋 로드 및 전처리\n",
    "def preprocess(image, label, target_size=(224, 224)):\n",
    "    image = tf.image.resize(image, target_size)\n",
    "    image = image / 255.0  # Normalize to [0, 1]\n",
    "    return image, label\n",
    "\n",
    "def load_data(dataset_name='cats_vs_dogs', batch_size=32, target_size=(224, 224)):\n",
    "    (train_ds, val_ds), ds_info = tfds.load(\n",
    "        dataset_name,\n",
    "        split=['train[:80%]', 'train[80%:]'],\n",
    "        as_supervised=True,\n",
    "        with_info=True,\n",
    "    )\n",
    "    num_classes = ds_info.features['label'].num_classes\n",
    "    train_ds = train_ds.map(lambda x, y: preprocess(x, y, target_size)).batch(batch_size).prefetch(tf.data.AUTOTUNE)\n",
    "    val_ds = val_ds.map(lambda x, y: preprocess(x, y, target_size)).batch(batch_size).prefetch(tf.data.AUTOTUNE)\n",
    "    return train_ds, val_ds, num_classes"
   ]
  },
  {
   "cell_type": "code",
   "execution_count": 7,
   "metadata": {
    "id": "H0089-aydgCw"
   },
   "outputs": [
    {
     "name": "stdout",
     "output_type": "stream",
     "text": [
      "\u001b[1mDownloading and preparing dataset 786.68 MiB (download: 786.68 MiB, generated: Unknown size, total: 786.68 MiB) to /aiffel/tensorflow_datasets/cats_vs_dogs/4.0.0...\u001b[0m\n"
     ]
    },
    {
     "data": {
      "application/vnd.jupyter.widget-view+json": {
       "model_id": "41dc938fd4274dc6b741b5497e75f822",
       "version_major": 2,
       "version_minor": 0
      },
      "text/plain": [
       "Dl Completed...: 0 url [00:00, ? url/s]"
      ]
     },
     "metadata": {},
     "output_type": "display_data"
    },
    {
     "data": {
      "application/vnd.jupyter.widget-view+json": {
       "model_id": "db33dc85771e4d49901d2cdec85c6f36",
       "version_major": 2,
       "version_minor": 0
      },
      "text/plain": [
       "Dl Size...: 0 MiB [00:00, ? MiB/s]"
      ]
     },
     "metadata": {},
     "output_type": "display_data"
    },
    {
     "data": {
      "application/vnd.jupyter.widget-view+json": {
       "model_id": "",
       "version_major": 2,
       "version_minor": 0
      },
      "text/plain": [
       "Generating splits...:   0%|          | 0/1 [00:00<?, ? splits/s]"
      ]
     },
     "metadata": {},
     "output_type": "display_data"
    },
    {
     "data": {
      "application/vnd.jupyter.widget-view+json": {
       "model_id": "",
       "version_major": 2,
       "version_minor": 0
      },
      "text/plain": [
       "Generating train examples...:   0%|          | 0/23262 [00:00<?, ? examples/s]"
      ]
     },
     "metadata": {},
     "output_type": "display_data"
    },
    {
     "name": "stderr",
     "output_type": "stream",
     "text": [
      "WARNING:absl:1738 images were corrupted and were skipped\n"
     ]
    },
    {
     "data": {
      "application/vnd.jupyter.widget-view+json": {
       "model_id": "",
       "version_major": 2,
       "version_minor": 0
      },
      "text/plain": [
       "Shuffling cats_vs_dogs-train.tfrecord...:   0%|          | 0/23262 [00:00<?, ? examples/s]"
      ]
     },
     "metadata": {},
     "output_type": "display_data"
    },
    {
     "name": "stdout",
     "output_type": "stream",
     "text": [
      "\u001b[1mDataset cats_vs_dogs downloaded and prepared to /aiffel/tensorflow_datasets/cats_vs_dogs/4.0.0. Subsequent calls will reuse this data.\u001b[0m\n"
     ]
    }
   ],
   "source": [
    "BATCH_SIZE = 32\n",
    "EPOCH = 15\n",
    "\n",
    "setattr(tfds.image_classification.cats_vs_dogs, '_URL',\"https://download.microsoft.com/download/3/E/1/3E1C3F21-ECDB-4869-8368-6DEBA77B919F/kagglecatsanddogs_5340.zip\")\n",
    "dataset_name = 'cats_vs_dogs'\n",
    "\n",
    "ds_train, ds_test, num_classes = load_data(dataset_name, batch_size=BATCH_SIZE, target_size=(224, 224))"
   ]
  },
  {
   "cell_type": "code",
   "execution_count": 8,
   "metadata": {
    "id": "YkvDMB2Udkk2"
   },
   "outputs": [
    {
     "name": "stderr",
     "output_type": "stream",
     "text": [
      "/opt/conda/lib/python3.9/site-packages/keras/optimizer_v2/optimizer_v2.py:355: UserWarning: The `lr` argument is deprecated, use `learning_rate` instead.\n",
      "  warnings.warn(\n"
     ]
    },
    {
     "name": "stdout",
     "output_type": "stream",
     "text": [
      "Epoch 1/15\n",
      "195/582 [=========>....................] - ETA: 1:05 - loss: 1.3643 - accuracy: 0.5083"
     ]
    },
    {
     "name": "stderr",
     "output_type": "stream",
     "text": [
      "Corrupt JPEG data: 99 extraneous bytes before marker 0xd9\n"
     ]
    },
    {
     "name": "stdout",
     "output_type": "stream",
     "text": [
      "227/582 [==========>...................] - ETA: 1:00 - loss: 1.3307 - accuracy: 0.5127"
     ]
    },
    {
     "name": "stderr",
     "output_type": "stream",
     "text": [
      "Warning: unknown JFIF revision number 0.00\n"
     ]
    },
    {
     "name": "stdout",
     "output_type": "stream",
     "text": [
      "238/582 [===========>..................] - ETA: 58s - loss: 1.3248 - accuracy: 0.5131"
     ]
    },
    {
     "name": "stderr",
     "output_type": "stream",
     "text": [
      "Corrupt JPEG data: 396 extraneous bytes before marker 0xd9\n"
     ]
    },
    {
     "name": "stdout",
     "output_type": "stream",
     "text": [
      "309/582 [==============>...............] - ETA: 46s - loss: 1.2684 - accuracy: 0.5206"
     ]
    },
    {
     "name": "stderr",
     "output_type": "stream",
     "text": [
      "Corrupt JPEG data: 65 extraneous bytes before marker 0xd9\n"
     ]
    },
    {
     "name": "stdout",
     "output_type": "stream",
     "text": [
      "518/582 [=========================>....] - ETA: 11s - loss: 1.1908 - accuracy: 0.5262"
     ]
    },
    {
     "name": "stderr",
     "output_type": "stream",
     "text": [
      "Corrupt JPEG data: 2226 extraneous bytes before marker 0xd9\n"
     ]
    },
    {
     "name": "stdout",
     "output_type": "stream",
     "text": [
      "531/582 [==========================>...] - ETA: 8s - loss: 1.1853 - accuracy: 0.5278"
     ]
    },
    {
     "name": "stderr",
     "output_type": "stream",
     "text": [
      "Corrupt JPEG data: 128 extraneous bytes before marker 0xd9\n"
     ]
    },
    {
     "name": "stdout",
     "output_type": "stream",
     "text": [
      "541/582 [==========================>...] - ETA: 7s - loss: 1.1829 - accuracy: 0.5280"
     ]
    },
    {
     "name": "stderr",
     "output_type": "stream",
     "text": [
      "Corrupt JPEG data: 239 extraneous bytes before marker 0xd9\n"
     ]
    },
    {
     "name": "stdout",
     "output_type": "stream",
     "text": [
      "568/582 [============================>.] - ETA: 2s - loss: 1.1735 - accuracy: 0.5295"
     ]
    },
    {
     "name": "stderr",
     "output_type": "stream",
     "text": [
      "Corrupt JPEG data: 1153 extraneous bytes before marker 0xd9\n"
     ]
    },
    {
     "name": "stdout",
     "output_type": "stream",
     "text": [
      "574/582 [============================>.] - ETA: 1s - loss: 1.1723 - accuracy: 0.5295"
     ]
    },
    {
     "name": "stderr",
     "output_type": "stream",
     "text": [
      "Corrupt JPEG data: 228 extraneous bytes before marker 0xd9\n"
     ]
    },
    {
     "name": "stdout",
     "output_type": "stream",
     "text": [
      "582/582 [==============================] - ETA: 0s - loss: 1.1738 - accuracy: 0.5286"
     ]
    },
    {
     "name": "stderr",
     "output_type": "stream",
     "text": [
      "Corrupt JPEG data: 162 extraneous bytes before marker 0xd9\n",
      "Corrupt JPEG data: 252 extraneous bytes before marker 0xd9\n",
      "Corrupt JPEG data: 214 extraneous bytes before marker 0xd9\n",
      "Corrupt JPEG data: 1403 extraneous bytes before marker 0xd9\n"
     ]
    },
    {
     "name": "stdout",
     "output_type": "stream",
     "text": [
      "582/582 [==============================] - 170s 195ms/step - loss: 1.1738 - accuracy: 0.5286 - val_loss: 1.0169 - val_accuracy: 0.5054\n",
      "Epoch 2/15\n",
      "195/582 [=========>....................] - ETA: 1:10 - loss: 1.0290 - accuracy: 0.5277"
     ]
    },
    {
     "name": "stderr",
     "output_type": "stream",
     "text": [
      "Corrupt JPEG data: 99 extraneous bytes before marker 0xd9\n"
     ]
    },
    {
     "name": "stdout",
     "output_type": "stream",
     "text": [
      "227/582 [==========>...................] - ETA: 1:04 - loss: 1.0289 - accuracy: 0.5304"
     ]
    },
    {
     "name": "stderr",
     "output_type": "stream",
     "text": [
      "Warning: unknown JFIF revision number 0.00\n"
     ]
    },
    {
     "name": "stdout",
     "output_type": "stream",
     "text": [
      "237/582 [===========>..................] - ETA: 1:02 - loss: 1.0323 - accuracy: 0.5295"
     ]
    },
    {
     "name": "stderr",
     "output_type": "stream",
     "text": [
      "Corrupt JPEG data: 396 extraneous bytes before marker 0xd9\n"
     ]
    },
    {
     "name": "stdout",
     "output_type": "stream",
     "text": [
      "309/582 [==============>...............] - ETA: 49s - loss: 1.0340 - accuracy: 0.5283"
     ]
    },
    {
     "name": "stderr",
     "output_type": "stream",
     "text": [
      "Corrupt JPEG data: 65 extraneous bytes before marker 0xd9\n"
     ]
    },
    {
     "name": "stdout",
     "output_type": "stream",
     "text": [
      "517/582 [=========================>....] - ETA: 11s - loss: 1.0140 - accuracy: 0.5350"
     ]
    },
    {
     "name": "stderr",
     "output_type": "stream",
     "text": [
      "Corrupt JPEG data: 2226 extraneous bytes before marker 0xd9\n"
     ]
    },
    {
     "name": "stdout",
     "output_type": "stream",
     "text": [
      "530/582 [==========================>...] - ETA: 9s - loss: 1.0108 - accuracy: 0.5354"
     ]
    },
    {
     "name": "stderr",
     "output_type": "stream",
     "text": [
      "Corrupt JPEG data: 128 extraneous bytes before marker 0xd9\n"
     ]
    },
    {
     "name": "stdout",
     "output_type": "stream",
     "text": [
      "541/582 [==========================>...] - ETA: 7s - loss: 1.0086 - accuracy: 0.5360"
     ]
    },
    {
     "name": "stderr",
     "output_type": "stream",
     "text": [
      "Corrupt JPEG data: 239 extraneous bytes before marker 0xd9\n"
     ]
    },
    {
     "name": "stdout",
     "output_type": "stream",
     "text": [
      "568/582 [============================>.] - ETA: 2s - loss: 1.0062 - accuracy: 0.5365"
     ]
    },
    {
     "name": "stderr",
     "output_type": "stream",
     "text": [
      "Corrupt JPEG data: 1153 extraneous bytes before marker 0xd9\n"
     ]
    },
    {
     "name": "stdout",
     "output_type": "stream",
     "text": [
      "574/582 [============================>.] - ETA: 1s - loss: 1.0060 - accuracy: 0.5359"
     ]
    },
    {
     "name": "stderr",
     "output_type": "stream",
     "text": [
      "Corrupt JPEG data: 228 extraneous bytes before marker 0xd9\n"
     ]
    },
    {
     "name": "stdout",
     "output_type": "stream",
     "text": [
      "582/582 [==============================] - ETA: 0s - loss: 1.0069 - accuracy: 0.5354"
     ]
    },
    {
     "name": "stderr",
     "output_type": "stream",
     "text": [
      "Corrupt JPEG data: 162 extraneous bytes before marker 0xd9\n",
      "Corrupt JPEG data: 252 extraneous bytes before marker 0xd9\n",
      "Corrupt JPEG data: 214 extraneous bytes before marker 0xd9\n",
      "Corrupt JPEG data: 1403 extraneous bytes before marker 0xd9\n"
     ]
    },
    {
     "name": "stdout",
     "output_type": "stream",
     "text": [
      "582/582 [==============================] - 114s 196ms/step - loss: 1.0069 - accuracy: 0.5354 - val_loss: 1.5967 - val_accuracy: 0.5387\n",
      "Epoch 3/15\n",
      "195/582 [=========>....................] - ETA: 1:11 - loss: 0.9452 - accuracy: 0.5545"
     ]
    },
    {
     "name": "stderr",
     "output_type": "stream",
     "text": [
      "Corrupt JPEG data: 99 extraneous bytes before marker 0xd9\n"
     ]
    },
    {
     "name": "stdout",
     "output_type": "stream",
     "text": [
      "227/582 [==========>...................] - ETA: 1:05 - loss: 0.9463 - accuracy: 0.5508"
     ]
    },
    {
     "name": "stderr",
     "output_type": "stream",
     "text": [
      "Warning: unknown JFIF revision number 0.00\n"
     ]
    },
    {
     "name": "stdout",
     "output_type": "stream",
     "text": [
      "237/582 [===========>..................] - ETA: 1:03 - loss: 0.9476 - accuracy: 0.5506"
     ]
    },
    {
     "name": "stderr",
     "output_type": "stream",
     "text": [
      "Corrupt JPEG data: 396 extraneous bytes before marker 0xd9\n"
     ]
    },
    {
     "name": "stdout",
     "output_type": "stream",
     "text": [
      "309/582 [==============>...............] - ETA: 50s - loss: 0.9398 - accuracy: 0.5548"
     ]
    },
    {
     "name": "stderr",
     "output_type": "stream",
     "text": [
      "Corrupt JPEG data: 65 extraneous bytes before marker 0xd9\n"
     ]
    },
    {
     "name": "stdout",
     "output_type": "stream",
     "text": [
      "517/582 [=========================>....] - ETA: 11s - loss: 0.9282 - accuracy: 0.5553"
     ]
    },
    {
     "name": "stderr",
     "output_type": "stream",
     "text": [
      "Corrupt JPEG data: 2226 extraneous bytes before marker 0xd9\n"
     ]
    },
    {
     "name": "stdout",
     "output_type": "stream",
     "text": [
      "530/582 [==========================>...] - ETA: 9s - loss: 0.9281 - accuracy: 0.5552"
     ]
    },
    {
     "name": "stderr",
     "output_type": "stream",
     "text": [
      "Corrupt JPEG data: 128 extraneous bytes before marker 0xd9\n"
     ]
    },
    {
     "name": "stdout",
     "output_type": "stream",
     "text": [
      "541/582 [==========================>...] - ETA: 7s - loss: 0.9277 - accuracy: 0.5550"
     ]
    },
    {
     "name": "stderr",
     "output_type": "stream",
     "text": [
      "Corrupt JPEG data: 239 extraneous bytes before marker 0xd9\n"
     ]
    },
    {
     "name": "stdout",
     "output_type": "stream",
     "text": [
      "568/582 [============================>.] - ETA: 2s - loss: 0.9272 - accuracy: 0.5544"
     ]
    },
    {
     "name": "stderr",
     "output_type": "stream",
     "text": [
      "Corrupt JPEG data: 1153 extraneous bytes before marker 0xd9\n"
     ]
    },
    {
     "name": "stdout",
     "output_type": "stream",
     "text": [
      "574/582 [============================>.] - ETA: 1s - loss: 0.9280 - accuracy: 0.5540"
     ]
    },
    {
     "name": "stderr",
     "output_type": "stream",
     "text": [
      "Corrupt JPEG data: 228 extraneous bytes before marker 0xd9\n"
     ]
    },
    {
     "name": "stdout",
     "output_type": "stream",
     "text": [
      "582/582 [==============================] - ETA: 0s - loss: 0.9291 - accuracy: 0.5537"
     ]
    },
    {
     "name": "stderr",
     "output_type": "stream",
     "text": [
      "Corrupt JPEG data: 162 extraneous bytes before marker 0xd9\n",
      "Corrupt JPEG data: 252 extraneous bytes before marker 0xd9\n",
      "Corrupt JPEG data: 214 extraneous bytes before marker 0xd9\n",
      "Corrupt JPEG data: 1403 extraneous bytes before marker 0xd9\n"
     ]
    },
    {
     "name": "stdout",
     "output_type": "stream",
     "text": [
      "582/582 [==============================] - 114s 196ms/step - loss: 0.9291 - accuracy: 0.5537 - val_loss: 1.3489 - val_accuracy: 0.4979\n",
      "Epoch 4/15\n",
      "195/582 [=========>....................] - ETA: 1:11 - loss: 0.8973 - accuracy: 0.5519"
     ]
    },
    {
     "name": "stderr",
     "output_type": "stream",
     "text": [
      "Corrupt JPEG data: 99 extraneous bytes before marker 0xd9\n"
     ]
    },
    {
     "name": "stdout",
     "output_type": "stream",
     "text": [
      "227/582 [==========>...................] - ETA: 1:05 - loss: 0.8999 - accuracy: 0.5501"
     ]
    },
    {
     "name": "stderr",
     "output_type": "stream",
     "text": [
      "Warning: unknown JFIF revision number 0.00\n"
     ]
    },
    {
     "name": "stdout",
     "output_type": "stream",
     "text": [
      "237/582 [===========>..................] - ETA: 1:03 - loss: 0.9040 - accuracy: 0.5492"
     ]
    },
    {
     "name": "stderr",
     "output_type": "stream",
     "text": [
      "Corrupt JPEG data: 396 extraneous bytes before marker 0xd9\n"
     ]
    },
    {
     "name": "stdout",
     "output_type": "stream",
     "text": [
      "309/582 [==============>...............] - ETA: 50s - loss: 0.9160 - accuracy: 0.5425"
     ]
    },
    {
     "name": "stderr",
     "output_type": "stream",
     "text": [
      "Corrupt JPEG data: 65 extraneous bytes before marker 0xd9\n"
     ]
    },
    {
     "name": "stdout",
     "output_type": "stream",
     "text": [
      "517/582 [=========================>....] - ETA: 11s - loss: 0.9230 - accuracy: 0.5398"
     ]
    },
    {
     "name": "stderr",
     "output_type": "stream",
     "text": [
      "Corrupt JPEG data: 2226 extraneous bytes before marker 0xd9\n"
     ]
    },
    {
     "name": "stdout",
     "output_type": "stream",
     "text": [
      "530/582 [==========================>...] - ETA: 9s - loss: 0.9230 - accuracy: 0.5404"
     ]
    },
    {
     "name": "stderr",
     "output_type": "stream",
     "text": [
      "Corrupt JPEG data: 128 extraneous bytes before marker 0xd9\n"
     ]
    },
    {
     "name": "stdout",
     "output_type": "stream",
     "text": [
      "541/582 [==========================>...] - ETA: 7s - loss: 0.9215 - accuracy: 0.5405"
     ]
    },
    {
     "name": "stderr",
     "output_type": "stream",
     "text": [
      "Corrupt JPEG data: 239 extraneous bytes before marker 0xd9\n"
     ]
    },
    {
     "name": "stdout",
     "output_type": "stream",
     "text": [
      "568/582 [============================>.] - ETA: 2s - loss: 0.9185 - accuracy: 0.5404"
     ]
    },
    {
     "name": "stderr",
     "output_type": "stream",
     "text": [
      "Corrupt JPEG data: 1153 extraneous bytes before marker 0xd9\n"
     ]
    },
    {
     "name": "stdout",
     "output_type": "stream",
     "text": [
      "574/582 [============================>.] - ETA: 1s - loss: 0.9174 - accuracy: 0.5405"
     ]
    },
    {
     "name": "stderr",
     "output_type": "stream",
     "text": [
      "Corrupt JPEG data: 228 extraneous bytes before marker 0xd9\n"
     ]
    },
    {
     "name": "stdout",
     "output_type": "stream",
     "text": [
      "582/582 [==============================] - ETA: 0s - loss: 0.9186 - accuracy: 0.5400"
     ]
    },
    {
     "name": "stderr",
     "output_type": "stream",
     "text": [
      "Corrupt JPEG data: 162 extraneous bytes before marker 0xd9\n",
      "Corrupt JPEG data: 252 extraneous bytes before marker 0xd9\n",
      "Corrupt JPEG data: 214 extraneous bytes before marker 0xd9\n",
      "Corrupt JPEG data: 1403 extraneous bytes before marker 0xd9\n"
     ]
    },
    {
     "name": "stdout",
     "output_type": "stream",
     "text": [
      "582/582 [==============================] - 114s 196ms/step - loss: 0.9186 - accuracy: 0.5400 - val_loss: 0.9184 - val_accuracy: 0.5155\n",
      "Epoch 5/15\n",
      "195/582 [=========>....................] - ETA: 1:10 - loss: 0.8915 - accuracy: 0.5391"
     ]
    },
    {
     "name": "stderr",
     "output_type": "stream",
     "text": [
      "Corrupt JPEG data: 99 extraneous bytes before marker 0xd9\n"
     ]
    },
    {
     "name": "stdout",
     "output_type": "stream",
     "text": [
      "227/582 [==========>...................] - ETA: 1:04 - loss: 0.8883 - accuracy: 0.5407"
     ]
    },
    {
     "name": "stderr",
     "output_type": "stream",
     "text": [
      "Warning: unknown JFIF revision number 0.00\n"
     ]
    },
    {
     "name": "stdout",
     "output_type": "stream",
     "text": [
      "237/582 [===========>..................] - ETA: 1:03 - loss: 0.8884 - accuracy: 0.5406"
     ]
    },
    {
     "name": "stderr",
     "output_type": "stream",
     "text": [
      "Corrupt JPEG data: 396 extraneous bytes before marker 0xd9\n"
     ]
    },
    {
     "name": "stdout",
     "output_type": "stream",
     "text": [
      "309/582 [==============>...............] - ETA: 49s - loss: 0.8873 - accuracy: 0.5381"
     ]
    },
    {
     "name": "stderr",
     "output_type": "stream",
     "text": [
      "Corrupt JPEG data: 65 extraneous bytes before marker 0xd9\n"
     ]
    },
    {
     "name": "stdout",
     "output_type": "stream",
     "text": [
      "517/582 [=========================>....] - ETA: 11s - loss: 0.8876 - accuracy: 0.5415"
     ]
    },
    {
     "name": "stderr",
     "output_type": "stream",
     "text": [
      "Corrupt JPEG data: 2226 extraneous bytes before marker 0xd9\n"
     ]
    },
    {
     "name": "stdout",
     "output_type": "stream",
     "text": [
      "530/582 [==========================>...] - ETA: 9s - loss: 0.8877 - accuracy: 0.5420"
     ]
    },
    {
     "name": "stderr",
     "output_type": "stream",
     "text": [
      "Corrupt JPEG data: 128 extraneous bytes before marker 0xd9\n"
     ]
    },
    {
     "name": "stdout",
     "output_type": "stream",
     "text": [
      "541/582 [==========================>...] - ETA: 7s - loss: 0.8864 - accuracy: 0.5424"
     ]
    },
    {
     "name": "stderr",
     "output_type": "stream",
     "text": [
      "Corrupt JPEG data: 239 extraneous bytes before marker 0xd9\n"
     ]
    },
    {
     "name": "stdout",
     "output_type": "stream",
     "text": [
      "568/582 [============================>.] - ETA: 2s - loss: 0.8850 - accuracy: 0.5434"
     ]
    },
    {
     "name": "stderr",
     "output_type": "stream",
     "text": [
      "Corrupt JPEG data: 1153 extraneous bytes before marker 0xd9\n"
     ]
    },
    {
     "name": "stdout",
     "output_type": "stream",
     "text": [
      "574/582 [============================>.] - ETA: 1s - loss: 0.8845 - accuracy: 0.5434"
     ]
    },
    {
     "name": "stderr",
     "output_type": "stream",
     "text": [
      "Corrupt JPEG data: 228 extraneous bytes before marker 0xd9\n"
     ]
    },
    {
     "name": "stdout",
     "output_type": "stream",
     "text": [
      "582/582 [==============================] - ETA: 0s - loss: 0.8857 - accuracy: 0.5431"
     ]
    },
    {
     "name": "stderr",
     "output_type": "stream",
     "text": [
      "Corrupt JPEG data: 162 extraneous bytes before marker 0xd9\n",
      "Corrupt JPEG data: 252 extraneous bytes before marker 0xd9\n",
      "Corrupt JPEG data: 214 extraneous bytes before marker 0xd9\n",
      "Corrupt JPEG data: 1403 extraneous bytes before marker 0xd9\n"
     ]
    },
    {
     "name": "stdout",
     "output_type": "stream",
     "text": [
      "582/582 [==============================] - 114s 196ms/step - loss: 0.8857 - accuracy: 0.5431 - val_loss: 1.0720 - val_accuracy: 0.5800\n",
      "Epoch 6/15\n",
      "195/582 [=========>....................] - ETA: 1:11 - loss: 0.8607 - accuracy: 0.5423"
     ]
    },
    {
     "name": "stderr",
     "output_type": "stream",
     "text": [
      "Corrupt JPEG data: 99 extraneous bytes before marker 0xd9\n"
     ]
    },
    {
     "name": "stdout",
     "output_type": "stream",
     "text": [
      "227/582 [==========>...................] - ETA: 1:05 - loss: 0.8571 - accuracy: 0.5450"
     ]
    },
    {
     "name": "stderr",
     "output_type": "stream",
     "text": [
      "Warning: unknown JFIF revision number 0.00\n"
     ]
    },
    {
     "name": "stdout",
     "output_type": "stream",
     "text": [
      "237/582 [===========>..................] - ETA: 1:03 - loss: 0.8595 - accuracy: 0.5427"
     ]
    },
    {
     "name": "stderr",
     "output_type": "stream",
     "text": [
      "Corrupt JPEG data: 396 extraneous bytes before marker 0xd9\n"
     ]
    },
    {
     "name": "stdout",
     "output_type": "stream",
     "text": [
      "309/582 [==============>...............] - ETA: 50s - loss: 0.8577 - accuracy: 0.5465"
     ]
    },
    {
     "name": "stderr",
     "output_type": "stream",
     "text": [
      "Corrupt JPEG data: 65 extraneous bytes before marker 0xd9\n"
     ]
    },
    {
     "name": "stdout",
     "output_type": "stream",
     "text": [
      "517/582 [=========================>....] - ETA: 11s - loss: 0.8507 - accuracy: 0.5463"
     ]
    },
    {
     "name": "stderr",
     "output_type": "stream",
     "text": [
      "Corrupt JPEG data: 2226 extraneous bytes before marker 0xd9\n"
     ]
    },
    {
     "name": "stdout",
     "output_type": "stream",
     "text": [
      "530/582 [==========================>...] - ETA: 9s - loss: 0.8503 - accuracy: 0.5458"
     ]
    },
    {
     "name": "stderr",
     "output_type": "stream",
     "text": [
      "Corrupt JPEG data: 128 extraneous bytes before marker 0xd9\n"
     ]
    },
    {
     "name": "stdout",
     "output_type": "stream",
     "text": [
      "541/582 [==========================>...] - ETA: 7s - loss: 0.8518 - accuracy: 0.5465"
     ]
    },
    {
     "name": "stderr",
     "output_type": "stream",
     "text": [
      "Corrupt JPEG data: 239 extraneous bytes before marker 0xd9\n"
     ]
    },
    {
     "name": "stdout",
     "output_type": "stream",
     "text": [
      "568/582 [============================>.] - ETA: 2s - loss: 0.8501 - accuracy: 0.5470"
     ]
    },
    {
     "name": "stderr",
     "output_type": "stream",
     "text": [
      "Corrupt JPEG data: 1153 extraneous bytes before marker 0xd9\n"
     ]
    },
    {
     "name": "stdout",
     "output_type": "stream",
     "text": [
      "574/582 [============================>.] - ETA: 1s - loss: 0.8507 - accuracy: 0.5464"
     ]
    },
    {
     "name": "stderr",
     "output_type": "stream",
     "text": [
      "Corrupt JPEG data: 228 extraneous bytes before marker 0xd9\n"
     ]
    },
    {
     "name": "stdout",
     "output_type": "stream",
     "text": [
      "582/582 [==============================] - ETA: 0s - loss: 0.8522 - accuracy: 0.5455"
     ]
    },
    {
     "name": "stderr",
     "output_type": "stream",
     "text": [
      "Corrupt JPEG data: 162 extraneous bytes before marker 0xd9\n",
      "Corrupt JPEG data: 252 extraneous bytes before marker 0xd9\n",
      "Corrupt JPEG data: 214 extraneous bytes before marker 0xd9\n",
      "Corrupt JPEG data: 1403 extraneous bytes before marker 0xd9\n"
     ]
    },
    {
     "name": "stdout",
     "output_type": "stream",
     "text": [
      "582/582 [==============================] - 114s 196ms/step - loss: 0.8522 - accuracy: 0.5455 - val_loss: 0.8301 - val_accuracy: 0.5275\n",
      "Epoch 7/15\n",
      "195/582 [=========>....................] - ETA: 1:10 - loss: 0.8174 - accuracy: 0.5675"
     ]
    },
    {
     "name": "stderr",
     "output_type": "stream",
     "text": [
      "Corrupt JPEG data: 99 extraneous bytes before marker 0xd9\n"
     ]
    },
    {
     "name": "stdout",
     "output_type": "stream",
     "text": [
      "227/582 [==========>...................] - ETA: 1:04 - loss: 0.8170 - accuracy: 0.5694"
     ]
    },
    {
     "name": "stderr",
     "output_type": "stream",
     "text": [
      "Warning: unknown JFIF revision number 0.00\n"
     ]
    },
    {
     "name": "stdout",
     "output_type": "stream",
     "text": [
      "237/582 [===========>..................] - ETA: 1:03 - loss: 0.8195 - accuracy: 0.5680"
     ]
    },
    {
     "name": "stderr",
     "output_type": "stream",
     "text": [
      "Corrupt JPEG data: 396 extraneous bytes before marker 0xd9\n"
     ]
    },
    {
     "name": "stdout",
     "output_type": "stream",
     "text": [
      "309/582 [==============>...............] - ETA: 49s - loss: 0.8221 - accuracy: 0.5641"
     ]
    },
    {
     "name": "stderr",
     "output_type": "stream",
     "text": [
      "Corrupt JPEG data: 65 extraneous bytes before marker 0xd9\n"
     ]
    },
    {
     "name": "stdout",
     "output_type": "stream",
     "text": [
      "517/582 [=========================>....] - ETA: 11s - loss: 0.8185 - accuracy: 0.5628"
     ]
    },
    {
     "name": "stderr",
     "output_type": "stream",
     "text": [
      "Corrupt JPEG data: 2226 extraneous bytes before marker 0xd9\n"
     ]
    },
    {
     "name": "stdout",
     "output_type": "stream",
     "text": [
      "530/582 [==========================>...] - ETA: 9s - loss: 0.8200 - accuracy: 0.5618"
     ]
    },
    {
     "name": "stderr",
     "output_type": "stream",
     "text": [
      "Corrupt JPEG data: 128 extraneous bytes before marker 0xd9\n"
     ]
    },
    {
     "name": "stdout",
     "output_type": "stream",
     "text": [
      "541/582 [==========================>...] - ETA: 7s - loss: 0.8204 - accuracy: 0.5612"
     ]
    },
    {
     "name": "stderr",
     "output_type": "stream",
     "text": [
      "Corrupt JPEG data: 239 extraneous bytes before marker 0xd9\n"
     ]
    },
    {
     "name": "stdout",
     "output_type": "stream",
     "text": [
      "568/582 [============================>.] - ETA: 2s - loss: 0.8205 - accuracy: 0.5613"
     ]
    },
    {
     "name": "stderr",
     "output_type": "stream",
     "text": [
      "Corrupt JPEG data: 1153 extraneous bytes before marker 0xd9\n"
     ]
    },
    {
     "name": "stdout",
     "output_type": "stream",
     "text": [
      "574/582 [============================>.] - ETA: 1s - loss: 0.8213 - accuracy: 0.5605"
     ]
    },
    {
     "name": "stderr",
     "output_type": "stream",
     "text": [
      "Corrupt JPEG data: 228 extraneous bytes before marker 0xd9\n"
     ]
    },
    {
     "name": "stdout",
     "output_type": "stream",
     "text": [
      "582/582 [==============================] - ETA: 0s - loss: 0.8211 - accuracy: 0.5603"
     ]
    },
    {
     "name": "stderr",
     "output_type": "stream",
     "text": [
      "Corrupt JPEG data: 162 extraneous bytes before marker 0xd9\n",
      "Corrupt JPEG data: 252 extraneous bytes before marker 0xd9\n",
      "Corrupt JPEG data: 214 extraneous bytes before marker 0xd9\n",
      "Corrupt JPEG data: 1403 extraneous bytes before marker 0xd9\n"
     ]
    },
    {
     "name": "stdout",
     "output_type": "stream",
     "text": [
      "582/582 [==============================] - 114s 195ms/step - loss: 0.8211 - accuracy: 0.5603 - val_loss: 0.7924 - val_accuracy: 0.5456\n",
      "Epoch 8/15\n",
      "195/582 [=========>....................] - ETA: 1:10 - loss: 0.8247 - accuracy: 0.5494"
     ]
    },
    {
     "name": "stderr",
     "output_type": "stream",
     "text": [
      "Corrupt JPEG data: 99 extraneous bytes before marker 0xd9\n"
     ]
    },
    {
     "name": "stdout",
     "output_type": "stream",
     "text": [
      "227/582 [==========>...................] - ETA: 1:04 - loss: 0.8215 - accuracy: 0.5456"
     ]
    },
    {
     "name": "stderr",
     "output_type": "stream",
     "text": [
      "Warning: unknown JFIF revision number 0.00\n"
     ]
    },
    {
     "name": "stdout",
     "output_type": "stream",
     "text": [
      "237/582 [===========>..................] - ETA: 1:03 - loss: 0.8255 - accuracy: 0.5448"
     ]
    },
    {
     "name": "stderr",
     "output_type": "stream",
     "text": [
      "Corrupt JPEG data: 396 extraneous bytes before marker 0xd9\n"
     ]
    },
    {
     "name": "stdout",
     "output_type": "stream",
     "text": [
      "309/582 [==============>...............] - ETA: 49s - loss: 0.8218 - accuracy: 0.5439"
     ]
    },
    {
     "name": "stderr",
     "output_type": "stream",
     "text": [
      "Corrupt JPEG data: 65 extraneous bytes before marker 0xd9\n"
     ]
    },
    {
     "name": "stdout",
     "output_type": "stream",
     "text": [
      "517/582 [=========================>....] - ETA: 11s - loss: 0.8169 - accuracy: 0.5462"
     ]
    },
    {
     "name": "stderr",
     "output_type": "stream",
     "text": [
      "Corrupt JPEG data: 2226 extraneous bytes before marker 0xd9\n"
     ]
    },
    {
     "name": "stdout",
     "output_type": "stream",
     "text": [
      "530/582 [==========================>...] - ETA: 9s - loss: 0.8176 - accuracy: 0.5462"
     ]
    },
    {
     "name": "stderr",
     "output_type": "stream",
     "text": [
      "Corrupt JPEG data: 128 extraneous bytes before marker 0xd9\n"
     ]
    },
    {
     "name": "stdout",
     "output_type": "stream",
     "text": [
      "541/582 [==========================>...] - ETA: 7s - loss: 0.8180 - accuracy: 0.5465"
     ]
    },
    {
     "name": "stderr",
     "output_type": "stream",
     "text": [
      "Corrupt JPEG data: 239 extraneous bytes before marker 0xd9\n"
     ]
    },
    {
     "name": "stdout",
     "output_type": "stream",
     "text": [
      "568/582 [============================>.] - ETA: 2s - loss: 0.8165 - accuracy: 0.5470"
     ]
    },
    {
     "name": "stderr",
     "output_type": "stream",
     "text": [
      "Corrupt JPEG data: 1153 extraneous bytes before marker 0xd9\n"
     ]
    },
    {
     "name": "stdout",
     "output_type": "stream",
     "text": [
      "574/582 [============================>.] - ETA: 1s - loss: 0.8169 - accuracy: 0.5467"
     ]
    },
    {
     "name": "stderr",
     "output_type": "stream",
     "text": [
      "Corrupt JPEG data: 228 extraneous bytes before marker 0xd9\n"
     ]
    },
    {
     "name": "stdout",
     "output_type": "stream",
     "text": [
      "582/582 [==============================] - ETA: 0s - loss: 0.8169 - accuracy: 0.5462"
     ]
    },
    {
     "name": "stderr",
     "output_type": "stream",
     "text": [
      "Corrupt JPEG data: 162 extraneous bytes before marker 0xd9\n",
      "Corrupt JPEG data: 252 extraneous bytes before marker 0xd9\n",
      "Corrupt JPEG data: 214 extraneous bytes before marker 0xd9\n",
      "Corrupt JPEG data: 1403 extraneous bytes before marker 0xd9\n"
     ]
    },
    {
     "name": "stdout",
     "output_type": "stream",
     "text": [
      "582/582 [==============================] - 114s 196ms/step - loss: 0.8169 - accuracy: 0.5462 - val_loss: 0.9032 - val_accuracy: 0.5269\n",
      "Epoch 9/15\n",
      "195/582 [=========>....................] - ETA: 1:10 - loss: 0.7900 - accuracy: 0.5611"
     ]
    },
    {
     "name": "stderr",
     "output_type": "stream",
     "text": [
      "Corrupt JPEG data: 99 extraneous bytes before marker 0xd9\n"
     ]
    },
    {
     "name": "stdout",
     "output_type": "stream",
     "text": [
      "227/582 [==========>...................] - ETA: 1:05 - loss: 0.7929 - accuracy: 0.5559"
     ]
    },
    {
     "name": "stderr",
     "output_type": "stream",
     "text": [
      "Warning: unknown JFIF revision number 0.00\n"
     ]
    },
    {
     "name": "stdout",
     "output_type": "stream",
     "text": [
      "237/582 [===========>..................] - ETA: 1:03 - loss: 0.7959 - accuracy: 0.5538"
     ]
    },
    {
     "name": "stderr",
     "output_type": "stream",
     "text": [
      "Corrupt JPEG data: 396 extraneous bytes before marker 0xd9\n"
     ]
    },
    {
     "name": "stdout",
     "output_type": "stream",
     "text": [
      "309/582 [==============>...............] - ETA: 49s - loss: 0.8001 - accuracy: 0.5527"
     ]
    },
    {
     "name": "stderr",
     "output_type": "stream",
     "text": [
      "Corrupt JPEG data: 65 extraneous bytes before marker 0xd9\n"
     ]
    },
    {
     "name": "stdout",
     "output_type": "stream",
     "text": [
      "517/582 [=========================>....] - ETA: 11s - loss: 0.8000 - accuracy: 0.5529"
     ]
    },
    {
     "name": "stderr",
     "output_type": "stream",
     "text": [
      "Corrupt JPEG data: 2226 extraneous bytes before marker 0xd9\n"
     ]
    },
    {
     "name": "stdout",
     "output_type": "stream",
     "text": [
      "530/582 [==========================>...] - ETA: 9s - loss: 0.7985 - accuracy: 0.5537"
     ]
    },
    {
     "name": "stderr",
     "output_type": "stream",
     "text": [
      "Corrupt JPEG data: 128 extraneous bytes before marker 0xd9\n"
     ]
    },
    {
     "name": "stdout",
     "output_type": "stream",
     "text": [
      "541/582 [==========================>...] - ETA: 7s - loss: 0.7996 - accuracy: 0.5535"
     ]
    },
    {
     "name": "stderr",
     "output_type": "stream",
     "text": [
      "Corrupt JPEG data: 239 extraneous bytes before marker 0xd9\n"
     ]
    },
    {
     "name": "stdout",
     "output_type": "stream",
     "text": [
      "568/582 [============================>.] - ETA: 2s - loss: 0.7989 - accuracy: 0.5529"
     ]
    },
    {
     "name": "stderr",
     "output_type": "stream",
     "text": [
      "Corrupt JPEG data: 1153 extraneous bytes before marker 0xd9\n"
     ]
    },
    {
     "name": "stdout",
     "output_type": "stream",
     "text": [
      "574/582 [============================>.] - ETA: 1s - loss: 0.7988 - accuracy: 0.5525"
     ]
    },
    {
     "name": "stderr",
     "output_type": "stream",
     "text": [
      "Corrupt JPEG data: 228 extraneous bytes before marker 0xd9\n"
     ]
    },
    {
     "name": "stdout",
     "output_type": "stream",
     "text": [
      "582/582 [==============================] - ETA: 0s - loss: 0.7993 - accuracy: 0.5515"
     ]
    },
    {
     "name": "stderr",
     "output_type": "stream",
     "text": [
      "Corrupt JPEG data: 162 extraneous bytes before marker 0xd9\n",
      "Corrupt JPEG data: 252 extraneous bytes before marker 0xd9\n",
      "Corrupt JPEG data: 214 extraneous bytes before marker 0xd9\n",
      "Corrupt JPEG data: 1403 extraneous bytes before marker 0xd9\n"
     ]
    },
    {
     "name": "stdout",
     "output_type": "stream",
     "text": [
      "582/582 [==============================] - 114s 196ms/step - loss: 0.7993 - accuracy: 0.5515 - val_loss: 0.7986 - val_accuracy: 0.5413\n",
      "Epoch 10/15\n",
      "195/582 [=========>....................] - ETA: 1:10 - loss: 0.8041 - accuracy: 0.5410"
     ]
    },
    {
     "name": "stderr",
     "output_type": "stream",
     "text": [
      "Corrupt JPEG data: 99 extraneous bytes before marker 0xd9\n"
     ]
    },
    {
     "name": "stdout",
     "output_type": "stream",
     "text": [
      "227/582 [==========>...................] - ETA: 1:04 - loss: 0.8057 - accuracy: 0.5421"
     ]
    },
    {
     "name": "stderr",
     "output_type": "stream",
     "text": [
      "Warning: unknown JFIF revision number 0.00\n"
     ]
    },
    {
     "name": "stdout",
     "output_type": "stream",
     "text": [
      "237/582 [===========>..................] - ETA: 1:03 - loss: 0.8085 - accuracy: 0.5423"
     ]
    },
    {
     "name": "stderr",
     "output_type": "stream",
     "text": [
      "Corrupt JPEG data: 396 extraneous bytes before marker 0xd9\n"
     ]
    },
    {
     "name": "stdout",
     "output_type": "stream",
     "text": [
      "309/582 [==============>...............] - ETA: 50s - loss: 0.8106 - accuracy: 0.5391"
     ]
    },
    {
     "name": "stderr",
     "output_type": "stream",
     "text": [
      "Corrupt JPEG data: 65 extraneous bytes before marker 0xd9\n"
     ]
    },
    {
     "name": "stdout",
     "output_type": "stream",
     "text": [
      "517/582 [=========================>....] - ETA: 11s - loss: 0.8026 - accuracy: 0.5390"
     ]
    },
    {
     "name": "stderr",
     "output_type": "stream",
     "text": [
      "Corrupt JPEG data: 2226 extraneous bytes before marker 0xd9\n"
     ]
    },
    {
     "name": "stdout",
     "output_type": "stream",
     "text": [
      "530/582 [==========================>...] - ETA: 9s - loss: 0.8045 - accuracy: 0.5381"
     ]
    },
    {
     "name": "stderr",
     "output_type": "stream",
     "text": [
      "Corrupt JPEG data: 128 extraneous bytes before marker 0xd9\n"
     ]
    },
    {
     "name": "stdout",
     "output_type": "stream",
     "text": [
      "541/582 [==========================>...] - ETA: 7s - loss: 0.8038 - accuracy: 0.5385"
     ]
    },
    {
     "name": "stderr",
     "output_type": "stream",
     "text": [
      "Corrupt JPEG data: 239 extraneous bytes before marker 0xd9\n"
     ]
    },
    {
     "name": "stdout",
     "output_type": "stream",
     "text": [
      "568/582 [============================>.] - ETA: 2s - loss: 0.8020 - accuracy: 0.5384"
     ]
    },
    {
     "name": "stderr",
     "output_type": "stream",
     "text": [
      "Corrupt JPEG data: 1153 extraneous bytes before marker 0xd9\n"
     ]
    },
    {
     "name": "stdout",
     "output_type": "stream",
     "text": [
      "574/582 [============================>.] - ETA: 1s - loss: 0.8019 - accuracy: 0.5385"
     ]
    },
    {
     "name": "stderr",
     "output_type": "stream",
     "text": [
      "Corrupt JPEG data: 228 extraneous bytes before marker 0xd9\n"
     ]
    },
    {
     "name": "stdout",
     "output_type": "stream",
     "text": [
      "582/582 [==============================] - ETA: 0s - loss: 0.8019 - accuracy: 0.5384"
     ]
    },
    {
     "name": "stderr",
     "output_type": "stream",
     "text": [
      "Corrupt JPEG data: 162 extraneous bytes before marker 0xd9\n",
      "Corrupt JPEG data: 252 extraneous bytes before marker 0xd9\n",
      "Corrupt JPEG data: 214 extraneous bytes before marker 0xd9\n",
      "Corrupt JPEG data: 1403 extraneous bytes before marker 0xd9\n"
     ]
    },
    {
     "name": "stdout",
     "output_type": "stream",
     "text": [
      "582/582 [==============================] - 114s 196ms/step - loss: 0.8019 - accuracy: 0.5384 - val_loss: 0.7843 - val_accuracy: 0.5479\n",
      "Epoch 11/15\n",
      "195/582 [=========>....................] - ETA: 1:10 - loss: 0.7762 - accuracy: 0.5558"
     ]
    },
    {
     "name": "stderr",
     "output_type": "stream",
     "text": [
      "Corrupt JPEG data: 99 extraneous bytes before marker 0xd9\n"
     ]
    },
    {
     "name": "stdout",
     "output_type": "stream",
     "text": [
      "227/582 [==========>...................] - ETA: 1:04 - loss: 0.7744 - accuracy: 0.5566"
     ]
    },
    {
     "name": "stderr",
     "output_type": "stream",
     "text": [
      "Warning: unknown JFIF revision number 0.00\n"
     ]
    },
    {
     "name": "stdout",
     "output_type": "stream",
     "text": [
      "237/582 [===========>..................] - ETA: 1:03 - loss: 0.7774 - accuracy: 0.5559"
     ]
    },
    {
     "name": "stderr",
     "output_type": "stream",
     "text": [
      "Corrupt JPEG data: 396 extraneous bytes before marker 0xd9\n"
     ]
    },
    {
     "name": "stdout",
     "output_type": "stream",
     "text": [
      "309/582 [==============>...............] - ETA: 50s - loss: 0.7752 - accuracy: 0.5575"
     ]
    },
    {
     "name": "stderr",
     "output_type": "stream",
     "text": [
      "Corrupt JPEG data: 65 extraneous bytes before marker 0xd9\n"
     ]
    },
    {
     "name": "stdout",
     "output_type": "stream",
     "text": [
      "517/582 [=========================>....] - ETA: 11s - loss: 0.7783 - accuracy: 0.5525"
     ]
    },
    {
     "name": "stderr",
     "output_type": "stream",
     "text": [
      "Corrupt JPEG data: 2226 extraneous bytes before marker 0xd9\n"
     ]
    },
    {
     "name": "stdout",
     "output_type": "stream",
     "text": [
      "530/582 [==========================>...] - ETA: 9s - loss: 0.7765 - accuracy: 0.5535"
     ]
    },
    {
     "name": "stderr",
     "output_type": "stream",
     "text": [
      "Corrupt JPEG data: 128 extraneous bytes before marker 0xd9\n"
     ]
    },
    {
     "name": "stdout",
     "output_type": "stream",
     "text": [
      "541/582 [==========================>...] - ETA: 7s - loss: 0.7771 - accuracy: 0.5533"
     ]
    },
    {
     "name": "stderr",
     "output_type": "stream",
     "text": [
      "Corrupt JPEG data: 239 extraneous bytes before marker 0xd9\n"
     ]
    },
    {
     "name": "stdout",
     "output_type": "stream",
     "text": [
      "568/582 [============================>.] - ETA: 2s - loss: 0.7768 - accuracy: 0.5527"
     ]
    },
    {
     "name": "stderr",
     "output_type": "stream",
     "text": [
      "Corrupt JPEG data: 1153 extraneous bytes before marker 0xd9\n"
     ]
    },
    {
     "name": "stdout",
     "output_type": "stream",
     "text": [
      "574/582 [============================>.] - ETA: 1s - loss: 0.7774 - accuracy: 0.5523"
     ]
    },
    {
     "name": "stderr",
     "output_type": "stream",
     "text": [
      "Corrupt JPEG data: 228 extraneous bytes before marker 0xd9\n"
     ]
    },
    {
     "name": "stdout",
     "output_type": "stream",
     "text": [
      "582/582 [==============================] - ETA: 0s - loss: 0.7769 - accuracy: 0.5523"
     ]
    },
    {
     "name": "stderr",
     "output_type": "stream",
     "text": [
      "Corrupt JPEG data: 162 extraneous bytes before marker 0xd9\n",
      "Corrupt JPEG data: 252 extraneous bytes before marker 0xd9\n",
      "Corrupt JPEG data: 214 extraneous bytes before marker 0xd9\n",
      "Corrupt JPEG data: 1403 extraneous bytes before marker 0xd9\n"
     ]
    },
    {
     "name": "stdout",
     "output_type": "stream",
     "text": [
      "582/582 [==============================] - 114s 196ms/step - loss: 0.7769 - accuracy: 0.5523 - val_loss: 0.8291 - val_accuracy: 0.5555\n",
      "Epoch 12/15\n",
      "195/582 [=========>....................] - ETA: 1:10 - loss: 0.7633 - accuracy: 0.5580"
     ]
    },
    {
     "name": "stderr",
     "output_type": "stream",
     "text": [
      "Corrupt JPEG data: 99 extraneous bytes before marker 0xd9\n"
     ]
    },
    {
     "name": "stdout",
     "output_type": "stream",
     "text": [
      "227/582 [==========>...................] - ETA: 1:04 - loss: 0.7645 - accuracy: 0.5599"
     ]
    },
    {
     "name": "stderr",
     "output_type": "stream",
     "text": [
      "Warning: unknown JFIF revision number 0.00\n"
     ]
    },
    {
     "name": "stdout",
     "output_type": "stream",
     "text": [
      "237/582 [===========>..................] - ETA: 1:03 - loss: 0.7663 - accuracy: 0.5605"
     ]
    },
    {
     "name": "stderr",
     "output_type": "stream",
     "text": [
      "Corrupt JPEG data: 396 extraneous bytes before marker 0xd9\n"
     ]
    },
    {
     "name": "stdout",
     "output_type": "stream",
     "text": [
      "309/582 [==============>...............] - ETA: 49s - loss: 0.7642 - accuracy: 0.5642"
     ]
    },
    {
     "name": "stderr",
     "output_type": "stream",
     "text": [
      "Corrupt JPEG data: 65 extraneous bytes before marker 0xd9\n"
     ]
    },
    {
     "name": "stdout",
     "output_type": "stream",
     "text": [
      "517/582 [=========================>....] - ETA: 11s - loss: 0.7621 - accuracy: 0.5620"
     ]
    },
    {
     "name": "stderr",
     "output_type": "stream",
     "text": [
      "Corrupt JPEG data: 2226 extraneous bytes before marker 0xd9\n"
     ]
    },
    {
     "name": "stdout",
     "output_type": "stream",
     "text": [
      "530/582 [==========================>...] - ETA: 9s - loss: 0.7616 - accuracy: 0.5621"
     ]
    },
    {
     "name": "stderr",
     "output_type": "stream",
     "text": [
      "Corrupt JPEG data: 128 extraneous bytes before marker 0xd9\n"
     ]
    },
    {
     "name": "stdout",
     "output_type": "stream",
     "text": [
      "541/582 [==========================>...] - ETA: 7s - loss: 0.7619 - accuracy: 0.5625"
     ]
    },
    {
     "name": "stderr",
     "output_type": "stream",
     "text": [
      "Corrupt JPEG data: 239 extraneous bytes before marker 0xd9\n"
     ]
    },
    {
     "name": "stdout",
     "output_type": "stream",
     "text": [
      "568/582 [============================>.] - ETA: 2s - loss: 0.7637 - accuracy: 0.5614"
     ]
    },
    {
     "name": "stderr",
     "output_type": "stream",
     "text": [
      "Corrupt JPEG data: 1153 extraneous bytes before marker 0xd9\n"
     ]
    },
    {
     "name": "stdout",
     "output_type": "stream",
     "text": [
      "574/582 [============================>.] - ETA: 1s - loss: 0.7641 - accuracy: 0.5609"
     ]
    },
    {
     "name": "stderr",
     "output_type": "stream",
     "text": [
      "Corrupt JPEG data: 228 extraneous bytes before marker 0xd9\n"
     ]
    },
    {
     "name": "stdout",
     "output_type": "stream",
     "text": [
      "582/582 [==============================] - ETA: 0s - loss: 0.7640 - accuracy: 0.5616"
     ]
    },
    {
     "name": "stderr",
     "output_type": "stream",
     "text": [
      "Corrupt JPEG data: 162 extraneous bytes before marker 0xd9\n",
      "Corrupt JPEG data: 252 extraneous bytes before marker 0xd9\n",
      "Corrupt JPEG data: 214 extraneous bytes before marker 0xd9\n",
      "Corrupt JPEG data: 1403 extraneous bytes before marker 0xd9\n"
     ]
    },
    {
     "name": "stdout",
     "output_type": "stream",
     "text": [
      "582/582 [==============================] - 114s 195ms/step - loss: 0.7640 - accuracy: 0.5616 - val_loss: 0.8362 - val_accuracy: 0.5460\n",
      "Epoch 13/15\n",
      "195/582 [=========>....................] - ETA: 1:10 - loss: 0.7538 - accuracy: 0.5631"
     ]
    },
    {
     "name": "stderr",
     "output_type": "stream",
     "text": [
      "Corrupt JPEG data: 99 extraneous bytes before marker 0xd9\n"
     ]
    },
    {
     "name": "stdout",
     "output_type": "stream",
     "text": [
      "227/582 [==========>...................] - ETA: 1:04 - loss: 0.7519 - accuracy: 0.5633"
     ]
    },
    {
     "name": "stderr",
     "output_type": "stream",
     "text": [
      "Warning: unknown JFIF revision number 0.00\n"
     ]
    },
    {
     "name": "stdout",
     "output_type": "stream",
     "text": [
      "237/582 [===========>..................] - ETA: 1:03 - loss: 0.7564 - accuracy: 0.5592"
     ]
    },
    {
     "name": "stderr",
     "output_type": "stream",
     "text": [
      "Corrupt JPEG data: 396 extraneous bytes before marker 0xd9\n"
     ]
    },
    {
     "name": "stdout",
     "output_type": "stream",
     "text": [
      "309/582 [==============>...............] - ETA: 49s - loss: 0.7598 - accuracy: 0.5569"
     ]
    },
    {
     "name": "stderr",
     "output_type": "stream",
     "text": [
      "Corrupt JPEG data: 65 extraneous bytes before marker 0xd9\n"
     ]
    },
    {
     "name": "stdout",
     "output_type": "stream",
     "text": [
      "517/582 [=========================>....] - ETA: 11s - loss: 0.7571 - accuracy: 0.5566"
     ]
    },
    {
     "name": "stderr",
     "output_type": "stream",
     "text": [
      "Corrupt JPEG data: 2226 extraneous bytes before marker 0xd9\n"
     ]
    },
    {
     "name": "stdout",
     "output_type": "stream",
     "text": [
      "530/582 [==========================>...] - ETA: 9s - loss: 0.7558 - accuracy: 0.5573"
     ]
    },
    {
     "name": "stderr",
     "output_type": "stream",
     "text": [
      "Corrupt JPEG data: 128 extraneous bytes before marker 0xd9\n"
     ]
    },
    {
     "name": "stdout",
     "output_type": "stream",
     "text": [
      "541/582 [==========================>...] - ETA: 7s - loss: 0.7561 - accuracy: 0.5582"
     ]
    },
    {
     "name": "stderr",
     "output_type": "stream",
     "text": [
      "Corrupt JPEG data: 239 extraneous bytes before marker 0xd9\n"
     ]
    },
    {
     "name": "stdout",
     "output_type": "stream",
     "text": [
      "568/582 [============================>.] - ETA: 2s - loss: 0.7556 - accuracy: 0.5577"
     ]
    },
    {
     "name": "stderr",
     "output_type": "stream",
     "text": [
      "Corrupt JPEG data: 1153 extraneous bytes before marker 0xd9\n"
     ]
    },
    {
     "name": "stdout",
     "output_type": "stream",
     "text": [
      "574/582 [============================>.] - ETA: 1s - loss: 0.7557 - accuracy: 0.5574"
     ]
    },
    {
     "name": "stderr",
     "output_type": "stream",
     "text": [
      "Corrupt JPEG data: 228 extraneous bytes before marker 0xd9\n"
     ]
    },
    {
     "name": "stdout",
     "output_type": "stream",
     "text": [
      "582/582 [==============================] - ETA: 0s - loss: 0.7564 - accuracy: 0.5572"
     ]
    },
    {
     "name": "stderr",
     "output_type": "stream",
     "text": [
      "Corrupt JPEG data: 162 extraneous bytes before marker 0xd9\n",
      "Corrupt JPEG data: 252 extraneous bytes before marker 0xd9\n",
      "Corrupt JPEG data: 214 extraneous bytes before marker 0xd9\n",
      "Corrupt JPEG data: 1403 extraneous bytes before marker 0xd9\n"
     ]
    },
    {
     "name": "stdout",
     "output_type": "stream",
     "text": [
      "582/582 [==============================] - 114s 196ms/step - loss: 0.7564 - accuracy: 0.5572 - val_loss: 0.8535 - val_accuracy: 0.5492\n",
      "Epoch 14/15\n",
      "195/582 [=========>....................] - ETA: 1:10 - loss: 0.7615 - accuracy: 0.5538"
     ]
    },
    {
     "name": "stderr",
     "output_type": "stream",
     "text": [
      "Corrupt JPEG data: 99 extraneous bytes before marker 0xd9\n"
     ]
    },
    {
     "name": "stdout",
     "output_type": "stream",
     "text": [
      "227/582 [==========>...................] - ETA: 1:04 - loss: 0.7570 - accuracy: 0.5566"
     ]
    },
    {
     "name": "stderr",
     "output_type": "stream",
     "text": [
      "Warning: unknown JFIF revision number 0.00\n"
     ]
    },
    {
     "name": "stdout",
     "output_type": "stream",
     "text": [
      "237/582 [===========>..................] - ETA: 1:03 - loss: 0.7589 - accuracy: 0.5559"
     ]
    },
    {
     "name": "stderr",
     "output_type": "stream",
     "text": [
      "Corrupt JPEG data: 396 extraneous bytes before marker 0xd9\n"
     ]
    },
    {
     "name": "stdout",
     "output_type": "stream",
     "text": [
      "309/582 [==============>...............] - ETA: 49s - loss: 0.7603 - accuracy: 0.5529"
     ]
    },
    {
     "name": "stderr",
     "output_type": "stream",
     "text": [
      "Corrupt JPEG data: 65 extraneous bytes before marker 0xd9\n"
     ]
    },
    {
     "name": "stdout",
     "output_type": "stream",
     "text": [
      "517/582 [=========================>....] - ETA: 11s - loss: 0.7610 - accuracy: 0.5535"
     ]
    },
    {
     "name": "stderr",
     "output_type": "stream",
     "text": [
      "Corrupt JPEG data: 2226 extraneous bytes before marker 0xd9\n"
     ]
    },
    {
     "name": "stdout",
     "output_type": "stream",
     "text": [
      "530/582 [==========================>...] - ETA: 9s - loss: 0.7604 - accuracy: 0.5539"
     ]
    },
    {
     "name": "stderr",
     "output_type": "stream",
     "text": [
      "Corrupt JPEG data: 128 extraneous bytes before marker 0xd9\n"
     ]
    },
    {
     "name": "stdout",
     "output_type": "stream",
     "text": [
      "541/582 [==========================>...] - ETA: 7s - loss: 0.7601 - accuracy: 0.5543"
     ]
    },
    {
     "name": "stderr",
     "output_type": "stream",
     "text": [
      "Corrupt JPEG data: 239 extraneous bytes before marker 0xd9\n"
     ]
    },
    {
     "name": "stdout",
     "output_type": "stream",
     "text": [
      "568/582 [============================>.] - ETA: 2s - loss: 0.7600 - accuracy: 0.5555"
     ]
    },
    {
     "name": "stderr",
     "output_type": "stream",
     "text": [
      "Corrupt JPEG data: 1153 extraneous bytes before marker 0xd9\n"
     ]
    },
    {
     "name": "stdout",
     "output_type": "stream",
     "text": [
      "574/582 [============================>.] - ETA: 1s - loss: 0.7603 - accuracy: 0.5548"
     ]
    },
    {
     "name": "stderr",
     "output_type": "stream",
     "text": [
      "Corrupt JPEG data: 228 extraneous bytes before marker 0xd9\n"
     ]
    },
    {
     "name": "stdout",
     "output_type": "stream",
     "text": [
      "582/582 [==============================] - ETA: 0s - loss: 0.7603 - accuracy: 0.5544"
     ]
    },
    {
     "name": "stderr",
     "output_type": "stream",
     "text": [
      "Corrupt JPEG data: 162 extraneous bytes before marker 0xd9\n",
      "Corrupt JPEG data: 252 extraneous bytes before marker 0xd9\n",
      "Corrupt JPEG data: 214 extraneous bytes before marker 0xd9\n",
      "Corrupt JPEG data: 1403 extraneous bytes before marker 0xd9\n"
     ]
    },
    {
     "name": "stdout",
     "output_type": "stream",
     "text": [
      "582/582 [==============================] - 114s 195ms/step - loss: 0.7603 - accuracy: 0.5544 - val_loss: 0.7988 - val_accuracy: 0.5290\n",
      "Epoch 15/15\n",
      "195/582 [=========>....................] - ETA: 1:10 - loss: 0.7581 - accuracy: 0.5601"
     ]
    },
    {
     "name": "stderr",
     "output_type": "stream",
     "text": [
      "Corrupt JPEG data: 99 extraneous bytes before marker 0xd9\n"
     ]
    },
    {
     "name": "stdout",
     "output_type": "stream",
     "text": [
      "227/582 [==========>...................] - ETA: 1:05 - loss: 0.7591 - accuracy: 0.5608"
     ]
    },
    {
     "name": "stderr",
     "output_type": "stream",
     "text": [
      "Warning: unknown JFIF revision number 0.00\n"
     ]
    },
    {
     "name": "stdout",
     "output_type": "stream",
     "text": [
      "237/582 [===========>..................] - ETA: 1:03 - loss: 0.7620 - accuracy: 0.5591"
     ]
    },
    {
     "name": "stderr",
     "output_type": "stream",
     "text": [
      "Corrupt JPEG data: 396 extraneous bytes before marker 0xd9\n"
     ]
    },
    {
     "name": "stdout",
     "output_type": "stream",
     "text": [
      "309/582 [==============>...............] - ETA: 49s - loss: 0.7591 - accuracy: 0.5588"
     ]
    },
    {
     "name": "stderr",
     "output_type": "stream",
     "text": [
      "Corrupt JPEG data: 65 extraneous bytes before marker 0xd9\n"
     ]
    },
    {
     "name": "stdout",
     "output_type": "stream",
     "text": [
      "517/582 [=========================>....] - ETA: 11s - loss: 0.7612 - accuracy: 0.5557"
     ]
    },
    {
     "name": "stderr",
     "output_type": "stream",
     "text": [
      "Corrupt JPEG data: 2226 extraneous bytes before marker 0xd9\n"
     ]
    },
    {
     "name": "stdout",
     "output_type": "stream",
     "text": [
      "530/582 [==========================>...] - ETA: 9s - loss: 0.7607 - accuracy: 0.5560"
     ]
    },
    {
     "name": "stderr",
     "output_type": "stream",
     "text": [
      "Corrupt JPEG data: 128 extraneous bytes before marker 0xd9\n"
     ]
    },
    {
     "name": "stdout",
     "output_type": "stream",
     "text": [
      "541/582 [==========================>...] - ETA: 7s - loss: 0.7599 - accuracy: 0.5568"
     ]
    },
    {
     "name": "stderr",
     "output_type": "stream",
     "text": [
      "Corrupt JPEG data: 239 extraneous bytes before marker 0xd9\n"
     ]
    },
    {
     "name": "stdout",
     "output_type": "stream",
     "text": [
      "568/582 [============================>.] - ETA: 2s - loss: 0.7611 - accuracy: 0.5564"
     ]
    },
    {
     "name": "stderr",
     "output_type": "stream",
     "text": [
      "Corrupt JPEG data: 1153 extraneous bytes before marker 0xd9\n"
     ]
    },
    {
     "name": "stdout",
     "output_type": "stream",
     "text": [
      "574/582 [============================>.] - ETA: 1s - loss: 0.7614 - accuracy: 0.5561"
     ]
    },
    {
     "name": "stderr",
     "output_type": "stream",
     "text": [
      "Corrupt JPEG data: 228 extraneous bytes before marker 0xd9\n"
     ]
    },
    {
     "name": "stdout",
     "output_type": "stream",
     "text": [
      "582/582 [==============================] - ETA: 0s - loss: 0.7615 - accuracy: 0.5558"
     ]
    },
    {
     "name": "stderr",
     "output_type": "stream",
     "text": [
      "Corrupt JPEG data: 162 extraneous bytes before marker 0xd9\n",
      "Corrupt JPEG data: 252 extraneous bytes before marker 0xd9\n",
      "Corrupt JPEG data: 214 extraneous bytes before marker 0xd9\n",
      "Corrupt JPEG data: 1403 extraneous bytes before marker 0xd9\n"
     ]
    },
    {
     "name": "stdout",
     "output_type": "stream",
     "text": [
      "\b\b\b\b\b\b\b\b\b\b\b\b\b\b\b\b\b\b\b\b\b\b\b\b\b\b\b\b\b\b\b\b\b\b\b\b\b\b\b\b\b\b\b\b\b\b\b\b\b\b\b\b\b\b\b\b\b\b\b\b\b\b\b\b\b\b\b\b\b\b\b\b\b\b\b\b\b\b\b\b\b\b\b\b\r",
      "582/582 [==============================] - 114s 196ms/step - loss: 0.7615 - accuracy: 0.5558 - val_loss: 0.7945 - val_accuracy: 0.5617\n"
     ]
    }
   ],
   "source": [
    "resnet_34.compile(\n",
    "    loss='sparse_categorical_crossentropy',\n",
    "    optimizer=tf.keras.optimizers.SGD(lr=0.01, clipnorm=1.),\n",
    "    metrics=['accuracy'],\n",
    ")\n",
    "\n",
    "history_res34 = resnet_34.fit(\n",
    "    ds_train,\n",
    "    epochs=EPOCH,\n",
    "    validation_data=ds_test,\n",
    "    verbose=1,\n",
    "    use_multiprocessing=True,\n",
    ")"
   ]
  },
  {
   "cell_type": "code",
   "execution_count": 9,
   "metadata": {},
   "outputs": [
    {
     "name": "stdout",
     "output_type": "stream",
     "text": [
      "Model: \"model_1\"\n",
      "_________________________________________________________________\n",
      "Layer (type)                 Output Shape              Param #   \n",
      "=================================================================\n",
      "input_2 (InputLayer)         [(None, 224, 224, 3)]     0         \n",
      "_________________________________________________________________\n",
      "conv2d_1 (Conv2D)            (None, 112, 112, 64)      9472      \n",
      "_________________________________________________________________\n",
      "batch_normalization_33 (Batc (None, 112, 112, 64)      256       \n",
      "_________________________________________________________________\n",
      "activation_33 (Activation)   (None, 112, 112, 64)      0         \n",
      "_________________________________________________________________\n",
      "max_pooling2d_1 (MaxPooling2 (None, 56, 56, 64)        0         \n",
      "_________________________________________________________________\n",
      "stage0_0_conv1_01 (Conv2D)   (None, 56, 56, 64)        36928     \n",
      "_________________________________________________________________\n",
      "batch_normalization_34 (Batc (None, 56, 56, 64)        256       \n",
      "_________________________________________________________________\n",
      "activation_34 (Activation)   (None, 56, 56, 64)        0         \n",
      "_________________________________________________________________\n",
      "stage0_0_conv2_01 (Conv2D)   (None, 56, 56, 64)        36928     \n",
      "_________________________________________________________________\n",
      "batch_normalization_35 (Batc (None, 56, 56, 64)        256       \n",
      "_________________________________________________________________\n",
      "stage0_1_conv1_01 (Conv2D)   (None, 56, 56, 64)        36928     \n",
      "_________________________________________________________________\n",
      "batch_normalization_36 (Batc (None, 56, 56, 64)        256       \n",
      "_________________________________________________________________\n",
      "activation_35 (Activation)   (None, 56, 56, 64)        0         \n",
      "_________________________________________________________________\n",
      "stage0_1_conv2_01 (Conv2D)   (None, 56, 56, 64)        36928     \n",
      "_________________________________________________________________\n",
      "batch_normalization_37 (Batc (None, 56, 56, 64)        256       \n",
      "_________________________________________________________________\n",
      "stage0_2_conv1_01 (Conv2D)   (None, 56, 56, 64)        36928     \n",
      "_________________________________________________________________\n",
      "batch_normalization_38 (Batc (None, 56, 56, 64)        256       \n",
      "_________________________________________________________________\n",
      "activation_36 (Activation)   (None, 56, 56, 64)        0         \n",
      "_________________________________________________________________\n",
      "stage0_2_conv2_01 (Conv2D)   (None, 56, 56, 64)        36928     \n",
      "_________________________________________________________________\n",
      "batch_normalization_39 (Batc (None, 56, 56, 64)        256       \n",
      "_________________________________________________________________\n",
      "stage1_0_conv1_01 (Conv2D)   (None, 28, 28, 128)       73856     \n",
      "_________________________________________________________________\n",
      "batch_normalization_40 (Batc (None, 28, 28, 128)       512       \n",
      "_________________________________________________________________\n",
      "activation_37 (Activation)   (None, 28, 28, 128)       0         \n",
      "_________________________________________________________________\n",
      "stage1_0_conv2_01 (Conv2D)   (None, 28, 28, 128)       147584    \n",
      "_________________________________________________________________\n",
      "batch_normalization_41 (Batc (None, 28, 28, 128)       512       \n",
      "_________________________________________________________________\n",
      "stage1_1_conv1_01 (Conv2D)   (None, 28, 28, 128)       147584    \n",
      "_________________________________________________________________\n",
      "batch_normalization_42 (Batc (None, 28, 28, 128)       512       \n",
      "_________________________________________________________________\n",
      "activation_38 (Activation)   (None, 28, 28, 128)       0         \n",
      "_________________________________________________________________\n",
      "stage1_1_conv2_01 (Conv2D)   (None, 28, 28, 128)       147584    \n",
      "_________________________________________________________________\n",
      "batch_normalization_43 (Batc (None, 28, 28, 128)       512       \n",
      "_________________________________________________________________\n",
      "stage1_2_conv1_01 (Conv2D)   (None, 28, 28, 128)       147584    \n",
      "_________________________________________________________________\n",
      "batch_normalization_44 (Batc (None, 28, 28, 128)       512       \n",
      "_________________________________________________________________\n",
      "activation_39 (Activation)   (None, 28, 28, 128)       0         \n",
      "_________________________________________________________________\n",
      "stage1_2_conv2_01 (Conv2D)   (None, 28, 28, 128)       147584    \n",
      "_________________________________________________________________\n",
      "batch_normalization_45 (Batc (None, 28, 28, 128)       512       \n",
      "_________________________________________________________________\n",
      "stage1_3_conv1_01 (Conv2D)   (None, 28, 28, 128)       147584    \n",
      "_________________________________________________________________\n",
      "batch_normalization_46 (Batc (None, 28, 28, 128)       512       \n",
      "_________________________________________________________________\n",
      "activation_40 (Activation)   (None, 28, 28, 128)       0         \n",
      "_________________________________________________________________\n",
      "stage1_3_conv2_01 (Conv2D)   (None, 28, 28, 128)       147584    \n",
      "_________________________________________________________________\n",
      "batch_normalization_47 (Batc (None, 28, 28, 128)       512       \n",
      "_________________________________________________________________\n",
      "stage2_0_conv1_01 (Conv2D)   (None, 14, 14, 256)       295168    \n",
      "_________________________________________________________________\n",
      "batch_normalization_48 (Batc (None, 14, 14, 256)       1024      \n",
      "_________________________________________________________________\n",
      "activation_41 (Activation)   (None, 14, 14, 256)       0         \n",
      "_________________________________________________________________\n",
      "stage2_0_conv2_01 (Conv2D)   (None, 14, 14, 256)       590080    \n",
      "_________________________________________________________________\n",
      "batch_normalization_49 (Batc (None, 14, 14, 256)       1024      \n",
      "_________________________________________________________________\n",
      "stage2_1_conv1_01 (Conv2D)   (None, 14, 14, 256)       590080    \n",
      "_________________________________________________________________\n",
      "batch_normalization_50 (Batc (None, 14, 14, 256)       1024      \n",
      "_________________________________________________________________\n",
      "activation_42 (Activation)   (None, 14, 14, 256)       0         \n",
      "_________________________________________________________________\n",
      "stage2_1_conv2_01 (Conv2D)   (None, 14, 14, 256)       590080    \n",
      "_________________________________________________________________\n",
      "batch_normalization_51 (Batc (None, 14, 14, 256)       1024      \n",
      "_________________________________________________________________\n",
      "stage2_2_conv1_01 (Conv2D)   (None, 14, 14, 256)       590080    \n",
      "_________________________________________________________________\n",
      "batch_normalization_52 (Batc (None, 14, 14, 256)       1024      \n",
      "_________________________________________________________________\n",
      "activation_43 (Activation)   (None, 14, 14, 256)       0         \n",
      "_________________________________________________________________\n",
      "stage2_2_conv2_01 (Conv2D)   (None, 14, 14, 256)       590080    \n",
      "_________________________________________________________________\n",
      "batch_normalization_53 (Batc (None, 14, 14, 256)       1024      \n",
      "_________________________________________________________________\n",
      "stage2_3_conv1_01 (Conv2D)   (None, 14, 14, 256)       590080    \n",
      "_________________________________________________________________\n",
      "batch_normalization_54 (Batc (None, 14, 14, 256)       1024      \n",
      "_________________________________________________________________\n",
      "activation_44 (Activation)   (None, 14, 14, 256)       0         \n",
      "_________________________________________________________________\n",
      "stage2_3_conv2_01 (Conv2D)   (None, 14, 14, 256)       590080    \n",
      "_________________________________________________________________\n",
      "batch_normalization_55 (Batc (None, 14, 14, 256)       1024      \n",
      "_________________________________________________________________\n",
      "stage2_4_conv1_01 (Conv2D)   (None, 14, 14, 256)       590080    \n",
      "_________________________________________________________________\n",
      "batch_normalization_56 (Batc (None, 14, 14, 256)       1024      \n",
      "_________________________________________________________________\n",
      "activation_45 (Activation)   (None, 14, 14, 256)       0         \n",
      "_________________________________________________________________\n",
      "stage2_4_conv2_01 (Conv2D)   (None, 14, 14, 256)       590080    \n",
      "_________________________________________________________________\n",
      "batch_normalization_57 (Batc (None, 14, 14, 256)       1024      \n",
      "_________________________________________________________________\n",
      "stage2_5_conv1_01 (Conv2D)   (None, 14, 14, 256)       590080    \n",
      "_________________________________________________________________\n",
      "batch_normalization_58 (Batc (None, 14, 14, 256)       1024      \n",
      "_________________________________________________________________\n",
      "activation_46 (Activation)   (None, 14, 14, 256)       0         \n",
      "_________________________________________________________________\n",
      "stage2_5_conv2_01 (Conv2D)   (None, 14, 14, 256)       590080    \n",
      "_________________________________________________________________\n",
      "batch_normalization_59 (Batc (None, 14, 14, 256)       1024      \n",
      "_________________________________________________________________\n",
      "stage3_0_conv1_01 (Conv2D)   (None, 7, 7, 512)         1180160   \n",
      "_________________________________________________________________\n",
      "batch_normalization_60 (Batc (None, 7, 7, 512)         2048      \n",
      "_________________________________________________________________\n",
      "activation_47 (Activation)   (None, 7, 7, 512)         0         \n",
      "_________________________________________________________________\n",
      "stage3_0_conv2_01 (Conv2D)   (None, 7, 7, 512)         2359808   \n",
      "_________________________________________________________________\n",
      "batch_normalization_61 (Batc (None, 7, 7, 512)         2048      \n",
      "_________________________________________________________________\n",
      "stage3_1_conv1_01 (Conv2D)   (None, 7, 7, 512)         2359808   \n",
      "_________________________________________________________________\n",
      "batch_normalization_62 (Batc (None, 7, 7, 512)         2048      \n",
      "_________________________________________________________________\n",
      "activation_48 (Activation)   (None, 7, 7, 512)         0         \n",
      "_________________________________________________________________\n",
      "stage3_1_conv2_01 (Conv2D)   (None, 7, 7, 512)         2359808   \n",
      "_________________________________________________________________\n",
      "batch_normalization_63 (Batc (None, 7, 7, 512)         2048      \n",
      "_________________________________________________________________\n",
      "stage3_2_conv1_01 (Conv2D)   (None, 7, 7, 512)         2359808   \n",
      "_________________________________________________________________\n",
      "batch_normalization_64 (Batc (None, 7, 7, 512)         2048      \n",
      "_________________________________________________________________\n",
      "activation_49 (Activation)   (None, 7, 7, 512)         0         \n",
      "_________________________________________________________________\n",
      "stage3_2_conv2_01 (Conv2D)   (None, 7, 7, 512)         2359808   \n",
      "_________________________________________________________________\n",
      "batch_normalization_65 (Batc (None, 7, 7, 512)         2048      \n",
      "_________________________________________________________________\n",
      "avg_pool (AveragePooling2D)  (None, 4, 4, 512)         0         \n",
      "_________________________________________________________________\n",
      "flatten (Flatten)            (None, 8192)              0         \n",
      "_________________________________________________________________\n",
      "fc1000 (Dense)               (None, 10)                81930     \n",
      "=================================================================\n",
      "Total params: 21,215,626\n",
      "Trainable params: 21,200,394\n",
      "Non-trainable params: 15,232\n",
      "_________________________________________________________________\n"
     ]
    }
   ],
   "source": [
    "del resnet_34\n",
    "\n",
    "plain_34 = build_resnet(input_shape=(224,224,3),is_plain=True)\n",
    "plain_34.summary()"
   ]
  },
  {
   "cell_type": "code",
   "execution_count": 10,
   "metadata": {},
   "outputs": [
    {
     "name": "stdout",
     "output_type": "stream",
     "text": [
      "Epoch 1/15\n",
      "195/582 [=========>....................] - ETA: 1:05 - loss: 0.9274 - accuracy: 0.5016"
     ]
    },
    {
     "name": "stderr",
     "output_type": "stream",
     "text": [
      "Corrupt JPEG data: 99 extraneous bytes before marker 0xd9\n"
     ]
    },
    {
     "name": "stdout",
     "output_type": "stream",
     "text": [
      "227/582 [==========>...................] - ETA: 1:00 - loss: 0.9108 - accuracy: 0.5043"
     ]
    },
    {
     "name": "stderr",
     "output_type": "stream",
     "text": [
      "Warning: unknown JFIF revision number 0.00\n"
     ]
    },
    {
     "name": "stdout",
     "output_type": "stream",
     "text": [
      "237/582 [===========>..................] - ETA: 58s - loss: 0.9069 - accuracy: 0.5033"
     ]
    },
    {
     "name": "stderr",
     "output_type": "stream",
     "text": [
      "Corrupt JPEG data: 396 extraneous bytes before marker 0xd9\n"
     ]
    },
    {
     "name": "stdout",
     "output_type": "stream",
     "text": [
      "309/582 [==============>...............] - ETA: 46s - loss: 0.8761 - accuracy: 0.5049"
     ]
    },
    {
     "name": "stderr",
     "output_type": "stream",
     "text": [
      "Corrupt JPEG data: 65 extraneous bytes before marker 0xd9\n"
     ]
    },
    {
     "name": "stdout",
     "output_type": "stream",
     "text": [
      "517/582 [=========================>....] - ETA: 11s - loss: 0.8380 - accuracy: 0.5110"
     ]
    },
    {
     "name": "stderr",
     "output_type": "stream",
     "text": [
      "Corrupt JPEG data: 2226 extraneous bytes before marker 0xd9\n"
     ]
    },
    {
     "name": "stdout",
     "output_type": "stream",
     "text": [
      "530/582 [==========================>...] - ETA: 8s - loss: 0.8356 - accuracy: 0.5113"
     ]
    },
    {
     "name": "stderr",
     "output_type": "stream",
     "text": [
      "Corrupt JPEG data: 128 extraneous bytes before marker 0xd9\n"
     ]
    },
    {
     "name": "stdout",
     "output_type": "stream",
     "text": [
      "541/582 [==========================>...] - ETA: 7s - loss: 0.8347 - accuracy: 0.5113"
     ]
    },
    {
     "name": "stderr",
     "output_type": "stream",
     "text": [
      "Corrupt JPEG data: 239 extraneous bytes before marker 0xd9\n"
     ]
    },
    {
     "name": "stdout",
     "output_type": "stream",
     "text": [
      "568/582 [============================>.] - ETA: 2s - loss: 0.8299 - accuracy: 0.5134"
     ]
    },
    {
     "name": "stderr",
     "output_type": "stream",
     "text": [
      "Corrupt JPEG data: 1153 extraneous bytes before marker 0xd9\n"
     ]
    },
    {
     "name": "stdout",
     "output_type": "stream",
     "text": [
      "574/582 [============================>.] - ETA: 1s - loss: 0.8296 - accuracy: 0.5133"
     ]
    },
    {
     "name": "stderr",
     "output_type": "stream",
     "text": [
      "Corrupt JPEG data: 228 extraneous bytes before marker 0xd9\n"
     ]
    },
    {
     "name": "stdout",
     "output_type": "stream",
     "text": [
      "582/582 [==============================] - ETA: 0s - loss: 0.8288 - accuracy: 0.5131"
     ]
    },
    {
     "name": "stderr",
     "output_type": "stream",
     "text": [
      "Corrupt JPEG data: 162 extraneous bytes before marker 0xd9\n",
      "Corrupt JPEG data: 252 extraneous bytes before marker 0xd9\n",
      "Corrupt JPEG data: 214 extraneous bytes before marker 0xd9\n",
      "Corrupt JPEG data: 1403 extraneous bytes before marker 0xd9\n"
     ]
    },
    {
     "name": "stdout",
     "output_type": "stream",
     "text": [
      "582/582 [==============================] - 112s 184ms/step - loss: 0.8288 - accuracy: 0.5131 - val_loss: 0.7234 - val_accuracy: 0.5198\n",
      "Epoch 2/15\n",
      "195/582 [=========>....................] - ETA: 1:06 - loss: 0.7607 - accuracy: 0.5237"
     ]
    },
    {
     "name": "stderr",
     "output_type": "stream",
     "text": [
      "Corrupt JPEG data: 99 extraneous bytes before marker 0xd9\n"
     ]
    },
    {
     "name": "stdout",
     "output_type": "stream",
     "text": [
      "227/582 [==========>...................] - ETA: 1:00 - loss: 0.7642 - accuracy: 0.5223"
     ]
    },
    {
     "name": "stderr",
     "output_type": "stream",
     "text": [
      "Warning: unknown JFIF revision number 0.00\n"
     ]
    },
    {
     "name": "stdout",
     "output_type": "stream",
     "text": [
      "237/582 [===========>..................] - ETA: 59s - loss: 0.7659 - accuracy: 0.5208"
     ]
    },
    {
     "name": "stderr",
     "output_type": "stream",
     "text": [
      "Corrupt JPEG data: 396 extraneous bytes before marker 0xd9\n"
     ]
    },
    {
     "name": "stdout",
     "output_type": "stream",
     "text": [
      "309/582 [==============>...............] - ETA: 46s - loss: 0.7629 - accuracy: 0.5245"
     ]
    },
    {
     "name": "stderr",
     "output_type": "stream",
     "text": [
      "Corrupt JPEG data: 65 extraneous bytes before marker 0xd9\n"
     ]
    },
    {
     "name": "stdout",
     "output_type": "stream",
     "text": [
      "517/582 [=========================>....] - ETA: 11s - loss: 0.7683 - accuracy: 0.5218"
     ]
    },
    {
     "name": "stderr",
     "output_type": "stream",
     "text": [
      "Corrupt JPEG data: 2226 extraneous bytes before marker 0xd9\n"
     ]
    },
    {
     "name": "stdout",
     "output_type": "stream",
     "text": [
      "530/582 [==========================>...] - ETA: 8s - loss: 0.7688 - accuracy: 0.5218"
     ]
    },
    {
     "name": "stderr",
     "output_type": "stream",
     "text": [
      "Corrupt JPEG data: 128 extraneous bytes before marker 0xd9\n"
     ]
    },
    {
     "name": "stdout",
     "output_type": "stream",
     "text": [
      "541/582 [==========================>...] - ETA: 7s - loss: 0.7688 - accuracy: 0.5224"
     ]
    },
    {
     "name": "stderr",
     "output_type": "stream",
     "text": [
      "Corrupt JPEG data: 239 extraneous bytes before marker 0xd9\n"
     ]
    },
    {
     "name": "stdout",
     "output_type": "stream",
     "text": [
      "568/582 [============================>.] - ETA: 2s - loss: 0.7684 - accuracy: 0.5227"
     ]
    },
    {
     "name": "stderr",
     "output_type": "stream",
     "text": [
      "Corrupt JPEG data: 1153 extraneous bytes before marker 0xd9\n"
     ]
    },
    {
     "name": "stdout",
     "output_type": "stream",
     "text": [
      "574/582 [============================>.] - ETA: 1s - loss: 0.7684 - accuracy: 0.5224"
     ]
    },
    {
     "name": "stderr",
     "output_type": "stream",
     "text": [
      "Corrupt JPEG data: 228 extraneous bytes before marker 0xd9\n"
     ]
    },
    {
     "name": "stdout",
     "output_type": "stream",
     "text": [
      "582/582 [==============================] - ETA: 0s - loss: 0.7682 - accuracy: 0.5225"
     ]
    },
    {
     "name": "stderr",
     "output_type": "stream",
     "text": [
      "Corrupt JPEG data: 162 extraneous bytes before marker 0xd9\n",
      "Corrupt JPEG data: 252 extraneous bytes before marker 0xd9\n",
      "Corrupt JPEG data: 214 extraneous bytes before marker 0xd9\n",
      "Corrupt JPEG data: 1403 extraneous bytes before marker 0xd9\n"
     ]
    },
    {
     "name": "stdout",
     "output_type": "stream",
     "text": [
      "582/582 [==============================] - 107s 183ms/step - loss: 0.7682 - accuracy: 0.5225 - val_loss: 1.2201 - val_accuracy: 0.5226\n",
      "Epoch 3/15\n",
      "195/582 [=========>....................] - ETA: 1:05 - loss: 0.7564 - accuracy: 0.5306"
     ]
    },
    {
     "name": "stderr",
     "output_type": "stream",
     "text": [
      "Corrupt JPEG data: 99 extraneous bytes before marker 0xd9\n"
     ]
    },
    {
     "name": "stdout",
     "output_type": "stream",
     "text": [
      "227/582 [==========>...................] - ETA: 1:00 - loss: 0.7601 - accuracy: 0.5264"
     ]
    },
    {
     "name": "stderr",
     "output_type": "stream",
     "text": [
      "Warning: unknown JFIF revision number 0.00\n"
     ]
    },
    {
     "name": "stdout",
     "output_type": "stream",
     "text": [
      "237/582 [===========>..................] - ETA: 58s - loss: 0.7613 - accuracy: 0.5264"
     ]
    },
    {
     "name": "stderr",
     "output_type": "stream",
     "text": [
      "Corrupt JPEG data: 396 extraneous bytes before marker 0xd9\n"
     ]
    },
    {
     "name": "stdout",
     "output_type": "stream",
     "text": [
      "309/582 [==============>...............] - ETA: 46s - loss: 0.7581 - accuracy: 0.5279"
     ]
    },
    {
     "name": "stderr",
     "output_type": "stream",
     "text": [
      "Corrupt JPEG data: 65 extraneous bytes before marker 0xd9\n"
     ]
    },
    {
     "name": "stdout",
     "output_type": "stream",
     "text": [
      "517/582 [=========================>....] - ETA: 11s - loss: 0.7539 - accuracy: 0.5278"
     ]
    },
    {
     "name": "stderr",
     "output_type": "stream",
     "text": [
      "Corrupt JPEG data: 2226 extraneous bytes before marker 0xd9\n"
     ]
    },
    {
     "name": "stdout",
     "output_type": "stream",
     "text": [
      "530/582 [==========================>...] - ETA: 8s - loss: 0.7540 - accuracy: 0.5284"
     ]
    },
    {
     "name": "stderr",
     "output_type": "stream",
     "text": [
      "Corrupt JPEG data: 128 extraneous bytes before marker 0xd9\n"
     ]
    },
    {
     "name": "stdout",
     "output_type": "stream",
     "text": [
      "541/582 [==========================>...] - ETA: 7s - loss: 0.7538 - accuracy: 0.5288"
     ]
    },
    {
     "name": "stderr",
     "output_type": "stream",
     "text": [
      "Corrupt JPEG data: 239 extraneous bytes before marker 0xd9\n"
     ]
    },
    {
     "name": "stdout",
     "output_type": "stream",
     "text": [
      "568/582 [============================>.] - ETA: 2s - loss: 0.7537 - accuracy: 0.5292"
     ]
    },
    {
     "name": "stderr",
     "output_type": "stream",
     "text": [
      "Corrupt JPEG data: 1153 extraneous bytes before marker 0xd9\n"
     ]
    },
    {
     "name": "stdout",
     "output_type": "stream",
     "text": [
      "574/582 [============================>.] - ETA: 1s - loss: 0.7539 - accuracy: 0.5289"
     ]
    },
    {
     "name": "stderr",
     "output_type": "stream",
     "text": [
      "Corrupt JPEG data: 228 extraneous bytes before marker 0xd9\n"
     ]
    },
    {
     "name": "stdout",
     "output_type": "stream",
     "text": [
      "582/582 [==============================] - ETA: 0s - loss: 0.7543 - accuracy: 0.5287"
     ]
    },
    {
     "name": "stderr",
     "output_type": "stream",
     "text": [
      "Corrupt JPEG data: 162 extraneous bytes before marker 0xd9\n",
      "Corrupt JPEG data: 252 extraneous bytes before marker 0xd9\n",
      "Corrupt JPEG data: 214 extraneous bytes before marker 0xd9\n",
      "Corrupt JPEG data: 1403 extraneous bytes before marker 0xd9\n"
     ]
    },
    {
     "name": "stdout",
     "output_type": "stream",
     "text": [
      "582/582 [==============================] - 106s 183ms/step - loss: 0.7543 - accuracy: 0.5287 - val_loss: 1.2308 - val_accuracy: 0.5146\n",
      "Epoch 4/15\n",
      "195/582 [=========>....................] - ETA: 1:05 - loss: 0.7502 - accuracy: 0.5229"
     ]
    },
    {
     "name": "stderr",
     "output_type": "stream",
     "text": [
      "Corrupt JPEG data: 99 extraneous bytes before marker 0xd9\n"
     ]
    },
    {
     "name": "stdout",
     "output_type": "stream",
     "text": [
      "227/582 [==========>...................] - ETA: 1:00 - loss: 0.7479 - accuracy: 0.5234"
     ]
    },
    {
     "name": "stderr",
     "output_type": "stream",
     "text": [
      "Warning: unknown JFIF revision number 0.00\n"
     ]
    },
    {
     "name": "stdout",
     "output_type": "stream",
     "text": [
      "237/582 [===========>..................] - ETA: 58s - loss: 0.7492 - accuracy: 0.5202"
     ]
    },
    {
     "name": "stderr",
     "output_type": "stream",
     "text": [
      "Corrupt JPEG data: 396 extraneous bytes before marker 0xd9\n"
     ]
    },
    {
     "name": "stdout",
     "output_type": "stream",
     "text": [
      "309/582 [==============>...............] - ETA: 46s - loss: 0.7493 - accuracy: 0.5241"
     ]
    },
    {
     "name": "stderr",
     "output_type": "stream",
     "text": [
      "Corrupt JPEG data: 65 extraneous bytes before marker 0xd9\n"
     ]
    },
    {
     "name": "stdout",
     "output_type": "stream",
     "text": [
      "517/582 [=========================>....] - ETA: 11s - loss: 0.7524 - accuracy: 0.5256"
     ]
    },
    {
     "name": "stderr",
     "output_type": "stream",
     "text": [
      "Corrupt JPEG data: 2226 extraneous bytes before marker 0xd9\n"
     ]
    },
    {
     "name": "stdout",
     "output_type": "stream",
     "text": [
      "530/582 [==========================>...] - ETA: 8s - loss: 0.7521 - accuracy: 0.5254"
     ]
    },
    {
     "name": "stderr",
     "output_type": "stream",
     "text": [
      "Corrupt JPEG data: 128 extraneous bytes before marker 0xd9\n"
     ]
    },
    {
     "name": "stdout",
     "output_type": "stream",
     "text": [
      "541/582 [==========================>...] - ETA: 7s - loss: 0.7521 - accuracy: 0.5253"
     ]
    },
    {
     "name": "stderr",
     "output_type": "stream",
     "text": [
      "Corrupt JPEG data: 239 extraneous bytes before marker 0xd9\n"
     ]
    },
    {
     "name": "stdout",
     "output_type": "stream",
     "text": [
      "568/582 [============================>.] - ETA: 2s - loss: 0.7516 - accuracy: 0.5250"
     ]
    },
    {
     "name": "stderr",
     "output_type": "stream",
     "text": [
      "Corrupt JPEG data: 1153 extraneous bytes before marker 0xd9\n"
     ]
    },
    {
     "name": "stdout",
     "output_type": "stream",
     "text": [
      "574/582 [============================>.] - ETA: 1s - loss: 0.7517 - accuracy: 0.5250"
     ]
    },
    {
     "name": "stderr",
     "output_type": "stream",
     "text": [
      "Corrupt JPEG data: 228 extraneous bytes before marker 0xd9\n"
     ]
    },
    {
     "name": "stdout",
     "output_type": "stream",
     "text": [
      "582/582 [==============================] - ETA: 0s - loss: 0.7518 - accuracy: 0.5250"
     ]
    },
    {
     "name": "stderr",
     "output_type": "stream",
     "text": [
      "Corrupt JPEG data: 162 extraneous bytes before marker 0xd9\n",
      "Corrupt JPEG data: 252 extraneous bytes before marker 0xd9\n",
      "Corrupt JPEG data: 214 extraneous bytes before marker 0xd9\n",
      "Corrupt JPEG data: 1403 extraneous bytes before marker 0xd9\n"
     ]
    },
    {
     "name": "stdout",
     "output_type": "stream",
     "text": [
      "582/582 [==============================] - 107s 183ms/step - loss: 0.7518 - accuracy: 0.5250 - val_loss: 0.9377 - val_accuracy: 0.5071\n",
      "Epoch 5/15\n",
      "195/582 [=========>....................] - ETA: 1:05 - loss: 0.7488 - accuracy: 0.5181"
     ]
    },
    {
     "name": "stderr",
     "output_type": "stream",
     "text": [
      "Corrupt JPEG data: 99 extraneous bytes before marker 0xd9\n"
     ]
    },
    {
     "name": "stdout",
     "output_type": "stream",
     "text": [
      "227/582 [==========>...................] - ETA: 1:00 - loss: 0.7460 - accuracy: 0.5219"
     ]
    },
    {
     "name": "stderr",
     "output_type": "stream",
     "text": [
      "Warning: unknown JFIF revision number 0.00\n"
     ]
    },
    {
     "name": "stdout",
     "output_type": "stream",
     "text": [
      "237/582 [===========>..................] - ETA: 58s - loss: 0.7482 - accuracy: 0.5203"
     ]
    },
    {
     "name": "stderr",
     "output_type": "stream",
     "text": [
      "Corrupt JPEG data: 396 extraneous bytes before marker 0xd9\n"
     ]
    },
    {
     "name": "stdout",
     "output_type": "stream",
     "text": [
      "309/582 [==============>...............] - ETA: 46s - loss: 0.7495 - accuracy: 0.5226"
     ]
    },
    {
     "name": "stderr",
     "output_type": "stream",
     "text": [
      "Corrupt JPEG data: 65 extraneous bytes before marker 0xd9\n"
     ]
    },
    {
     "name": "stdout",
     "output_type": "stream",
     "text": [
      "517/582 [=========================>....] - ETA: 11s - loss: 0.7491 - accuracy: 0.5230"
     ]
    },
    {
     "name": "stderr",
     "output_type": "stream",
     "text": [
      "Corrupt JPEG data: 2226 extraneous bytes before marker 0xd9\n"
     ]
    },
    {
     "name": "stdout",
     "output_type": "stream",
     "text": [
      "530/582 [==========================>...] - ETA: 8s - loss: 0.7489 - accuracy: 0.5235"
     ]
    },
    {
     "name": "stderr",
     "output_type": "stream",
     "text": [
      "Corrupt JPEG data: 128 extraneous bytes before marker 0xd9\n"
     ]
    },
    {
     "name": "stdout",
     "output_type": "stream",
     "text": [
      "541/582 [==========================>...] - ETA: 7s - loss: 0.7486 - accuracy: 0.5225"
     ]
    },
    {
     "name": "stderr",
     "output_type": "stream",
     "text": [
      "Corrupt JPEG data: 239 extraneous bytes before marker 0xd9\n"
     ]
    },
    {
     "name": "stdout",
     "output_type": "stream",
     "text": [
      "568/582 [============================>.] - ETA: 2s - loss: 0.7476 - accuracy: 0.5224"
     ]
    },
    {
     "name": "stderr",
     "output_type": "stream",
     "text": [
      "Corrupt JPEG data: 1153 extraneous bytes before marker 0xd9\n"
     ]
    },
    {
     "name": "stdout",
     "output_type": "stream",
     "text": [
      "574/582 [============================>.] - ETA: 1s - loss: 0.7479 - accuracy: 0.5219"
     ]
    },
    {
     "name": "stderr",
     "output_type": "stream",
     "text": [
      "Corrupt JPEG data: 228 extraneous bytes before marker 0xd9\n"
     ]
    },
    {
     "name": "stdout",
     "output_type": "stream",
     "text": [
      "582/582 [==============================] - ETA: 0s - loss: 0.7483 - accuracy: 0.5217"
     ]
    },
    {
     "name": "stderr",
     "output_type": "stream",
     "text": [
      "Corrupt JPEG data: 162 extraneous bytes before marker 0xd9\n",
      "Corrupt JPEG data: 252 extraneous bytes before marker 0xd9\n",
      "Corrupt JPEG data: 214 extraneous bytes before marker 0xd9\n",
      "Corrupt JPEG data: 1403 extraneous bytes before marker 0xd9\n"
     ]
    },
    {
     "name": "stdout",
     "output_type": "stream",
     "text": [
      "582/582 [==============================] - 107s 183ms/step - loss: 0.7483 - accuracy: 0.5217 - val_loss: 0.7365 - val_accuracy: 0.5243\n",
      "Epoch 6/15\n",
      "195/582 [=========>....................] - ETA: 1:06 - loss: 0.7370 - accuracy: 0.5288"
     ]
    },
    {
     "name": "stderr",
     "output_type": "stream",
     "text": [
      "Corrupt JPEG data: 99 extraneous bytes before marker 0xd9\n"
     ]
    },
    {
     "name": "stdout",
     "output_type": "stream",
     "text": [
      "227/582 [==========>...................] - ETA: 1:00 - loss: 0.7370 - accuracy: 0.5273"
     ]
    },
    {
     "name": "stderr",
     "output_type": "stream",
     "text": [
      "Warning: unknown JFIF revision number 0.00\n"
     ]
    },
    {
     "name": "stdout",
     "output_type": "stream",
     "text": [
      "237/582 [===========>..................] - ETA: 58s - loss: 0.7380 - accuracy: 0.5251"
     ]
    },
    {
     "name": "stderr",
     "output_type": "stream",
     "text": [
      "Corrupt JPEG data: 396 extraneous bytes before marker 0xd9\n"
     ]
    },
    {
     "name": "stdout",
     "output_type": "stream",
     "text": [
      "309/582 [==============>...............] - ETA: 46s - loss: 0.7356 - accuracy: 0.5260"
     ]
    },
    {
     "name": "stderr",
     "output_type": "stream",
     "text": [
      "Corrupt JPEG data: 65 extraneous bytes before marker 0xd9\n"
     ]
    },
    {
     "name": "stdout",
     "output_type": "stream",
     "text": [
      "517/582 [=========================>....] - ETA: 11s - loss: 0.7379 - accuracy: 0.5222"
     ]
    },
    {
     "name": "stderr",
     "output_type": "stream",
     "text": [
      "Corrupt JPEG data: 2226 extraneous bytes before marker 0xd9\n"
     ]
    },
    {
     "name": "stdout",
     "output_type": "stream",
     "text": [
      "530/582 [==========================>...] - ETA: 8s - loss: 0.7377 - accuracy: 0.5221"
     ]
    },
    {
     "name": "stderr",
     "output_type": "stream",
     "text": [
      "Corrupt JPEG data: 128 extraneous bytes before marker 0xd9\n"
     ]
    },
    {
     "name": "stdout",
     "output_type": "stream",
     "text": [
      "541/582 [==========================>...] - ETA: 7s - loss: 0.7380 - accuracy: 0.5220"
     ]
    },
    {
     "name": "stderr",
     "output_type": "stream",
     "text": [
      "Corrupt JPEG data: 239 extraneous bytes before marker 0xd9\n"
     ]
    },
    {
     "name": "stdout",
     "output_type": "stream",
     "text": [
      "568/582 [============================>.] - ETA: 2s - loss: 0.7390 - accuracy: 0.5210"
     ]
    },
    {
     "name": "stderr",
     "output_type": "stream",
     "text": [
      "Corrupt JPEG data: 1153 extraneous bytes before marker 0xd9\n"
     ]
    },
    {
     "name": "stdout",
     "output_type": "stream",
     "text": [
      "574/582 [============================>.] - ETA: 1s - loss: 0.7387 - accuracy: 0.5217"
     ]
    },
    {
     "name": "stderr",
     "output_type": "stream",
     "text": [
      "Corrupt JPEG data: 228 extraneous bytes before marker 0xd9\n"
     ]
    },
    {
     "name": "stdout",
     "output_type": "stream",
     "text": [
      "582/582 [==============================] - ETA: 0s - loss: 0.7385 - accuracy: 0.5217"
     ]
    },
    {
     "name": "stderr",
     "output_type": "stream",
     "text": [
      "Corrupt JPEG data: 162 extraneous bytes before marker 0xd9\n",
      "Corrupt JPEG data: 252 extraneous bytes before marker 0xd9\n",
      "Corrupt JPEG data: 214 extraneous bytes before marker 0xd9\n",
      "Corrupt JPEG data: 1403 extraneous bytes before marker 0xd9\n"
     ]
    },
    {
     "name": "stdout",
     "output_type": "stream",
     "text": [
      "582/582 [==============================] - 106s 183ms/step - loss: 0.7385 - accuracy: 0.5217 - val_loss: 0.7983 - val_accuracy: 0.5015\n",
      "Epoch 7/15\n",
      "195/582 [=========>....................] - ETA: 1:06 - loss: 0.7387 - accuracy: 0.5154"
     ]
    },
    {
     "name": "stderr",
     "output_type": "stream",
     "text": [
      "Corrupt JPEG data: 99 extraneous bytes before marker 0xd9\n"
     ]
    },
    {
     "name": "stdout",
     "output_type": "stream",
     "text": [
      "227/582 [==========>...................] - ETA: 1:00 - loss: 0.7397 - accuracy: 0.5149"
     ]
    },
    {
     "name": "stderr",
     "output_type": "stream",
     "text": [
      "Warning: unknown JFIF revision number 0.00\n"
     ]
    },
    {
     "name": "stdout",
     "output_type": "stream",
     "text": [
      "237/582 [===========>..................] - ETA: 59s - loss: 0.7396 - accuracy: 0.5146"
     ]
    },
    {
     "name": "stderr",
     "output_type": "stream",
     "text": [
      "Corrupt JPEG data: 396 extraneous bytes before marker 0xd9\n"
     ]
    },
    {
     "name": "stdout",
     "output_type": "stream",
     "text": [
      "309/582 [==============>...............] - ETA: 46s - loss: 0.7385 - accuracy: 0.5155"
     ]
    },
    {
     "name": "stderr",
     "output_type": "stream",
     "text": [
      "Corrupt JPEG data: 65 extraneous bytes before marker 0xd9\n"
     ]
    },
    {
     "name": "stdout",
     "output_type": "stream",
     "text": [
      "517/582 [=========================>....] - ETA: 11s - loss: 0.7384 - accuracy: 0.5138"
     ]
    },
    {
     "name": "stderr",
     "output_type": "stream",
     "text": [
      "Corrupt JPEG data: 2226 extraneous bytes before marker 0xd9\n"
     ]
    },
    {
     "name": "stdout",
     "output_type": "stream",
     "text": [
      "530/582 [==========================>...] - ETA: 8s - loss: 0.7386 - accuracy: 0.5134"
     ]
    },
    {
     "name": "stderr",
     "output_type": "stream",
     "text": [
      "Corrupt JPEG data: 128 extraneous bytes before marker 0xd9\n"
     ]
    },
    {
     "name": "stdout",
     "output_type": "stream",
     "text": [
      "541/582 [==========================>...] - ETA: 7s - loss: 0.7390 - accuracy: 0.5132"
     ]
    },
    {
     "name": "stderr",
     "output_type": "stream",
     "text": [
      "Corrupt JPEG data: 239 extraneous bytes before marker 0xd9\n"
     ]
    },
    {
     "name": "stdout",
     "output_type": "stream",
     "text": [
      "568/582 [============================>.] - ETA: 2s - loss: 0.7387 - accuracy: 0.5139"
     ]
    },
    {
     "name": "stderr",
     "output_type": "stream",
     "text": [
      "Corrupt JPEG data: 1153 extraneous bytes before marker 0xd9\n"
     ]
    },
    {
     "name": "stdout",
     "output_type": "stream",
     "text": [
      "574/582 [============================>.] - ETA: 1s - loss: 0.7390 - accuracy: 0.5135"
     ]
    },
    {
     "name": "stderr",
     "output_type": "stream",
     "text": [
      "Corrupt JPEG data: 228 extraneous bytes before marker 0xd9\n"
     ]
    },
    {
     "name": "stdout",
     "output_type": "stream",
     "text": [
      "582/582 [==============================] - ETA: 0s - loss: 0.7390 - accuracy: 0.5132"
     ]
    },
    {
     "name": "stderr",
     "output_type": "stream",
     "text": [
      "Corrupt JPEG data: 162 extraneous bytes before marker 0xd9\n",
      "Corrupt JPEG data: 252 extraneous bytes before marker 0xd9\n",
      "Corrupt JPEG data: 214 extraneous bytes before marker 0xd9\n",
      "Corrupt JPEG data: 1403 extraneous bytes before marker 0xd9\n"
     ]
    },
    {
     "name": "stdout",
     "output_type": "stream",
     "text": [
      "582/582 [==============================] - 110s 189ms/step - loss: 0.7390 - accuracy: 0.5132 - val_loss: 1.3563 - val_accuracy: 0.4920\n",
      "Epoch 8/15\n",
      "195/582 [=========>....................] - ETA: 1:06 - loss: 0.7358 - accuracy: 0.5165"
     ]
    },
    {
     "name": "stderr",
     "output_type": "stream",
     "text": [
      "Corrupt JPEG data: 99 extraneous bytes before marker 0xd9\n"
     ]
    },
    {
     "name": "stdout",
     "output_type": "stream",
     "text": [
      "227/582 [==========>...................] - ETA: 1:00 - loss: 0.7360 - accuracy: 0.5180"
     ]
    },
    {
     "name": "stderr",
     "output_type": "stream",
     "text": [
      "Warning: unknown JFIF revision number 0.00\n"
     ]
    },
    {
     "name": "stdout",
     "output_type": "stream",
     "text": [
      "237/582 [===========>..................] - ETA: 58s - loss: 0.7370 - accuracy: 0.5166"
     ]
    },
    {
     "name": "stderr",
     "output_type": "stream",
     "text": [
      "Corrupt JPEG data: 396 extraneous bytes before marker 0xd9\n"
     ]
    },
    {
     "name": "stdout",
     "output_type": "stream",
     "text": [
      "309/582 [==============>...............] - ETA: 46s - loss: 0.7361 - accuracy: 0.5203"
     ]
    },
    {
     "name": "stderr",
     "output_type": "stream",
     "text": [
      "Corrupt JPEG data: 65 extraneous bytes before marker 0xd9\n"
     ]
    },
    {
     "name": "stdout",
     "output_type": "stream",
     "text": [
      "517/582 [=========================>....] - ETA: 11s - loss: 0.7328 - accuracy: 0.5203"
     ]
    },
    {
     "name": "stderr",
     "output_type": "stream",
     "text": [
      "Corrupt JPEG data: 2226 extraneous bytes before marker 0xd9\n"
     ]
    },
    {
     "name": "stdout",
     "output_type": "stream",
     "text": [
      "530/582 [==========================>...] - ETA: 8s - loss: 0.7328 - accuracy: 0.5204"
     ]
    },
    {
     "name": "stderr",
     "output_type": "stream",
     "text": [
      "Corrupt JPEG data: 128 extraneous bytes before marker 0xd9\n"
     ]
    },
    {
     "name": "stdout",
     "output_type": "stream",
     "text": [
      "541/582 [==========================>...] - ETA: 7s - loss: 0.7331 - accuracy: 0.5205"
     ]
    },
    {
     "name": "stderr",
     "output_type": "stream",
     "text": [
      "Corrupt JPEG data: 239 extraneous bytes before marker 0xd9\n"
     ]
    },
    {
     "name": "stdout",
     "output_type": "stream",
     "text": [
      "568/582 [============================>.] - ETA: 2s - loss: 0.7335 - accuracy: 0.5194"
     ]
    },
    {
     "name": "stderr",
     "output_type": "stream",
     "text": [
      "Corrupt JPEG data: 1153 extraneous bytes before marker 0xd9\n"
     ]
    },
    {
     "name": "stdout",
     "output_type": "stream",
     "text": [
      "574/582 [============================>.] - ETA: 1s - loss: 0.7336 - accuracy: 0.5191"
     ]
    },
    {
     "name": "stderr",
     "output_type": "stream",
     "text": [
      "Corrupt JPEG data: 228 extraneous bytes before marker 0xd9\n"
     ]
    },
    {
     "name": "stdout",
     "output_type": "stream",
     "text": [
      "582/582 [==============================] - ETA: 0s - loss: 0.7338 - accuracy: 0.5189"
     ]
    },
    {
     "name": "stderr",
     "output_type": "stream",
     "text": [
      "Corrupt JPEG data: 162 extraneous bytes before marker 0xd9\n",
      "Corrupt JPEG data: 252 extraneous bytes before marker 0xd9\n",
      "Corrupt JPEG data: 214 extraneous bytes before marker 0xd9\n",
      "Corrupt JPEG data: 1403 extraneous bytes before marker 0xd9\n"
     ]
    },
    {
     "name": "stdout",
     "output_type": "stream",
     "text": [
      "582/582 [==============================] - 106s 183ms/step - loss: 0.7338 - accuracy: 0.5189 - val_loss: 1.6813 - val_accuracy: 0.5090\n",
      "Epoch 9/15\n",
      "195/582 [=========>....................] - ETA: 1:06 - loss: 0.7441 - accuracy: 0.5175"
     ]
    },
    {
     "name": "stderr",
     "output_type": "stream",
     "text": [
      "Corrupt JPEG data: 99 extraneous bytes before marker 0xd9\n"
     ]
    },
    {
     "name": "stdout",
     "output_type": "stream",
     "text": [
      "227/582 [==========>...................] - ETA: 1:00 - loss: 0.7410 - accuracy: 0.5184"
     ]
    },
    {
     "name": "stderr",
     "output_type": "stream",
     "text": [
      "Warning: unknown JFIF revision number 0.00\n"
     ]
    },
    {
     "name": "stdout",
     "output_type": "stream",
     "text": [
      "237/582 [===========>..................] - ETA: 59s - loss: 0.7406 - accuracy: 0.5185"
     ]
    },
    {
     "name": "stderr",
     "output_type": "stream",
     "text": [
      "Corrupt JPEG data: 396 extraneous bytes before marker 0xd9\n"
     ]
    },
    {
     "name": "stdout",
     "output_type": "stream",
     "text": [
      "309/582 [==============>...............] - ETA: 46s - loss: 0.7379 - accuracy: 0.5206"
     ]
    },
    {
     "name": "stderr",
     "output_type": "stream",
     "text": [
      "Corrupt JPEG data: 65 extraneous bytes before marker 0xd9\n"
     ]
    },
    {
     "name": "stdout",
     "output_type": "stream",
     "text": [
      "517/582 [=========================>....] - ETA: 11s - loss: 0.7395 - accuracy: 0.5130"
     ]
    },
    {
     "name": "stderr",
     "output_type": "stream",
     "text": [
      "Corrupt JPEG data: 2226 extraneous bytes before marker 0xd9\n"
     ]
    },
    {
     "name": "stdout",
     "output_type": "stream",
     "text": [
      "530/582 [==========================>...] - ETA: 8s - loss: 0.7399 - accuracy: 0.5124"
     ]
    },
    {
     "name": "stderr",
     "output_type": "stream",
     "text": [
      "Corrupt JPEG data: 128 extraneous bytes before marker 0xd9\n"
     ]
    },
    {
     "name": "stdout",
     "output_type": "stream",
     "text": [
      "541/582 [==========================>...] - ETA: 7s - loss: 0.7400 - accuracy: 0.5125"
     ]
    },
    {
     "name": "stderr",
     "output_type": "stream",
     "text": [
      "Corrupt JPEG data: 239 extraneous bytes before marker 0xd9\n"
     ]
    },
    {
     "name": "stdout",
     "output_type": "stream",
     "text": [
      "568/582 [============================>.] - ETA: 2s - loss: 0.7398 - accuracy: 0.5128"
     ]
    },
    {
     "name": "stderr",
     "output_type": "stream",
     "text": [
      "Corrupt JPEG data: 1153 extraneous bytes before marker 0xd9\n"
     ]
    },
    {
     "name": "stdout",
     "output_type": "stream",
     "text": [
      "574/582 [============================>.] - ETA: 1s - loss: 0.7403 - accuracy: 0.5124"
     ]
    },
    {
     "name": "stderr",
     "output_type": "stream",
     "text": [
      "Corrupt JPEG data: 228 extraneous bytes before marker 0xd9\n"
     ]
    },
    {
     "name": "stdout",
     "output_type": "stream",
     "text": [
      "582/582 [==============================] - ETA: 0s - loss: 0.7402 - accuracy: 0.5124"
     ]
    },
    {
     "name": "stderr",
     "output_type": "stream",
     "text": [
      "Corrupt JPEG data: 162 extraneous bytes before marker 0xd9\n",
      "Corrupt JPEG data: 252 extraneous bytes before marker 0xd9\n",
      "Corrupt JPEG data: 214 extraneous bytes before marker 0xd9\n",
      "Corrupt JPEG data: 1403 extraneous bytes before marker 0xd9\n"
     ]
    },
    {
     "name": "stdout",
     "output_type": "stream",
     "text": [
      "582/582 [==============================] - 106s 183ms/step - loss: 0.7402 - accuracy: 0.5124 - val_loss: 1.1120 - val_accuracy: 0.5013\n",
      "Epoch 10/15\n",
      "195/582 [=========>....................] - ETA: 1:06 - loss: 0.7341 - accuracy: 0.5205"
     ]
    },
    {
     "name": "stderr",
     "output_type": "stream",
     "text": [
      "Corrupt JPEG data: 99 extraneous bytes before marker 0xd9\n"
     ]
    },
    {
     "name": "stdout",
     "output_type": "stream",
     "text": [
      "227/582 [==========>...................] - ETA: 1:00 - loss: 0.7359 - accuracy: 0.5195"
     ]
    },
    {
     "name": "stderr",
     "output_type": "stream",
     "text": [
      "Warning: unknown JFIF revision number 0.00\n"
     ]
    },
    {
     "name": "stdout",
     "output_type": "stream",
     "text": [
      "237/582 [===========>..................] - ETA: 58s - loss: 0.7357 - accuracy: 0.5182"
     ]
    },
    {
     "name": "stderr",
     "output_type": "stream",
     "text": [
      "Corrupt JPEG data: 396 extraneous bytes before marker 0xd9\n"
     ]
    },
    {
     "name": "stdout",
     "output_type": "stream",
     "text": [
      "309/582 [==============>...............] - ETA: 46s - loss: 0.7342 - accuracy: 0.5217"
     ]
    },
    {
     "name": "stderr",
     "output_type": "stream",
     "text": [
      "Corrupt JPEG data: 65 extraneous bytes before marker 0xd9\n"
     ]
    },
    {
     "name": "stdout",
     "output_type": "stream",
     "text": [
      "517/582 [=========================>....] - ETA: 11s - loss: 0.7319 - accuracy: 0.5242"
     ]
    },
    {
     "name": "stderr",
     "output_type": "stream",
     "text": [
      "Corrupt JPEG data: 2226 extraneous bytes before marker 0xd9\n"
     ]
    },
    {
     "name": "stdout",
     "output_type": "stream",
     "text": [
      "530/582 [==========================>...] - ETA: 8s - loss: 0.7326 - accuracy: 0.5222"
     ]
    },
    {
     "name": "stderr",
     "output_type": "stream",
     "text": [
      "Corrupt JPEG data: 128 extraneous bytes before marker 0xd9\n"
     ]
    },
    {
     "name": "stdout",
     "output_type": "stream",
     "text": [
      "541/582 [==========================>...] - ETA: 6s - loss: 0.7325 - accuracy: 0.5222"
     ]
    },
    {
     "name": "stderr",
     "output_type": "stream",
     "text": [
      "Corrupt JPEG data: 239 extraneous bytes before marker 0xd9\n"
     ]
    },
    {
     "name": "stdout",
     "output_type": "stream",
     "text": [
      "568/582 [============================>.] - ETA: 2s - loss: 0.7328 - accuracy: 0.5230"
     ]
    },
    {
     "name": "stderr",
     "output_type": "stream",
     "text": [
      "Corrupt JPEG data: 1153 extraneous bytes before marker 0xd9\n"
     ]
    },
    {
     "name": "stdout",
     "output_type": "stream",
     "text": [
      "574/582 [============================>.] - ETA: 1s - loss: 0.7331 - accuracy: 0.5225"
     ]
    },
    {
     "name": "stderr",
     "output_type": "stream",
     "text": [
      "Corrupt JPEG data: 228 extraneous bytes before marker 0xd9\n"
     ]
    },
    {
     "name": "stdout",
     "output_type": "stream",
     "text": [
      "582/582 [==============================] - ETA: 0s - loss: 0.7333 - accuracy: 0.5220"
     ]
    },
    {
     "name": "stderr",
     "output_type": "stream",
     "text": [
      "Corrupt JPEG data: 162 extraneous bytes before marker 0xd9\n",
      "Corrupt JPEG data: 252 extraneous bytes before marker 0xd9\n",
      "Corrupt JPEG data: 214 extraneous bytes before marker 0xd9\n",
      "Corrupt JPEG data: 1403 extraneous bytes before marker 0xd9\n"
     ]
    },
    {
     "name": "stdout",
     "output_type": "stream",
     "text": [
      "582/582 [==============================] - 106s 183ms/step - loss: 0.7333 - accuracy: 0.5220 - val_loss: 0.7699 - val_accuracy: 0.5064\n",
      "Epoch 11/15\n",
      "195/582 [=========>....................] - ETA: 1:06 - loss: 0.7317 - accuracy: 0.5316"
     ]
    },
    {
     "name": "stderr",
     "output_type": "stream",
     "text": [
      "Corrupt JPEG data: 99 extraneous bytes before marker 0xd9\n"
     ]
    },
    {
     "name": "stdout",
     "output_type": "stream",
     "text": [
      "227/582 [==========>...................] - ETA: 1:00 - loss: 0.7340 - accuracy: 0.5310"
     ]
    },
    {
     "name": "stderr",
     "output_type": "stream",
     "text": [
      "Warning: unknown JFIF revision number 0.00\n"
     ]
    },
    {
     "name": "stdout",
     "output_type": "stream",
     "text": [
      "237/582 [===========>..................] - ETA: 58s - loss: 0.7356 - accuracy: 0.5290"
     ]
    },
    {
     "name": "stderr",
     "output_type": "stream",
     "text": [
      "Corrupt JPEG data: 396 extraneous bytes before marker 0xd9\n"
     ]
    },
    {
     "name": "stdout",
     "output_type": "stream",
     "text": [
      "309/582 [==============>...............] - ETA: 46s - loss: 0.7341 - accuracy: 0.5315"
     ]
    },
    {
     "name": "stderr",
     "output_type": "stream",
     "text": [
      "Corrupt JPEG data: 65 extraneous bytes before marker 0xd9\n"
     ]
    },
    {
     "name": "stdout",
     "output_type": "stream",
     "text": [
      "517/582 [=========================>....] - ETA: 11s - loss: 0.7327 - accuracy: 0.5290"
     ]
    },
    {
     "name": "stderr",
     "output_type": "stream",
     "text": [
      "Corrupt JPEG data: 2226 extraneous bytes before marker 0xd9\n"
     ]
    },
    {
     "name": "stdout",
     "output_type": "stream",
     "text": [
      "530/582 [==========================>...] - ETA: 8s - loss: 0.7333 - accuracy: 0.5285"
     ]
    },
    {
     "name": "stderr",
     "output_type": "stream",
     "text": [
      "Corrupt JPEG data: 128 extraneous bytes before marker 0xd9\n"
     ]
    },
    {
     "name": "stdout",
     "output_type": "stream",
     "text": [
      "541/582 [==========================>...] - ETA: 6s - loss: 0.7333 - accuracy: 0.5280"
     ]
    },
    {
     "name": "stderr",
     "output_type": "stream",
     "text": [
      "Corrupt JPEG data: 239 extraneous bytes before marker 0xd9\n"
     ]
    },
    {
     "name": "stdout",
     "output_type": "stream",
     "text": [
      "568/582 [============================>.] - ETA: 2s - loss: 0.7336 - accuracy: 0.5271"
     ]
    },
    {
     "name": "stderr",
     "output_type": "stream",
     "text": [
      "Corrupt JPEG data: 1153 extraneous bytes before marker 0xd9\n"
     ]
    },
    {
     "name": "stdout",
     "output_type": "stream",
     "text": [
      "574/582 [============================>.] - ETA: 1s - loss: 0.7335 - accuracy: 0.5267"
     ]
    },
    {
     "name": "stderr",
     "output_type": "stream",
     "text": [
      "Corrupt JPEG data: 228 extraneous bytes before marker 0xd9\n"
     ]
    },
    {
     "name": "stdout",
     "output_type": "stream",
     "text": [
      "582/582 [==============================] - ETA: 0s - loss: 0.7333 - accuracy: 0.5269"
     ]
    },
    {
     "name": "stderr",
     "output_type": "stream",
     "text": [
      "Corrupt JPEG data: 162 extraneous bytes before marker 0xd9\n",
      "Corrupt JPEG data: 252 extraneous bytes before marker 0xd9\n",
      "Corrupt JPEG data: 214 extraneous bytes before marker 0xd9\n",
      "Corrupt JPEG data: 1403 extraneous bytes before marker 0xd9\n"
     ]
    },
    {
     "name": "stdout",
     "output_type": "stream",
     "text": [
      "582/582 [==============================] - 106s 183ms/step - loss: 0.7333 - accuracy: 0.5269 - val_loss: 0.7091 - val_accuracy: 0.5176\n",
      "Epoch 12/15\n",
      "195/582 [=========>....................] - ETA: 1:06 - loss: 0.7295 - accuracy: 0.5199"
     ]
    },
    {
     "name": "stderr",
     "output_type": "stream",
     "text": [
      "Corrupt JPEG data: 99 extraneous bytes before marker 0xd9\n"
     ]
    },
    {
     "name": "stdout",
     "output_type": "stream",
     "text": [
      "227/582 [==========>...................] - ETA: 1:00 - loss: 0.7302 - accuracy: 0.5179"
     ]
    },
    {
     "name": "stderr",
     "output_type": "stream",
     "text": [
      "Warning: unknown JFIF revision number 0.00\n"
     ]
    },
    {
     "name": "stdout",
     "output_type": "stream",
     "text": [
      "237/582 [===========>..................] - ETA: 58s - loss: 0.7310 - accuracy: 0.5166"
     ]
    },
    {
     "name": "stderr",
     "output_type": "stream",
     "text": [
      "Corrupt JPEG data: 396 extraneous bytes before marker 0xd9\n"
     ]
    },
    {
     "name": "stdout",
     "output_type": "stream",
     "text": [
      "309/582 [==============>...............] - ETA: 46s - loss: 0.7284 - accuracy: 0.5210"
     ]
    },
    {
     "name": "stderr",
     "output_type": "stream",
     "text": [
      "Corrupt JPEG data: 65 extraneous bytes before marker 0xd9\n"
     ]
    },
    {
     "name": "stdout",
     "output_type": "stream",
     "text": [
      "517/582 [=========================>....] - ETA: 11s - loss: 0.7276 - accuracy: 0.5204"
     ]
    },
    {
     "name": "stderr",
     "output_type": "stream",
     "text": [
      "Corrupt JPEG data: 2226 extraneous bytes before marker 0xd9\n"
     ]
    },
    {
     "name": "stdout",
     "output_type": "stream",
     "text": [
      "530/582 [==========================>...] - ETA: 8s - loss: 0.7278 - accuracy: 0.5203"
     ]
    },
    {
     "name": "stderr",
     "output_type": "stream",
     "text": [
      "Corrupt JPEG data: 128 extraneous bytes before marker 0xd9\n"
     ]
    },
    {
     "name": "stdout",
     "output_type": "stream",
     "text": [
      "541/582 [==========================>...] - ETA: 6s - loss: 0.7283 - accuracy: 0.5195"
     ]
    },
    {
     "name": "stderr",
     "output_type": "stream",
     "text": [
      "Corrupt JPEG data: 239 extraneous bytes before marker 0xd9\n"
     ]
    },
    {
     "name": "stdout",
     "output_type": "stream",
     "text": [
      "568/582 [============================>.] - ETA: 2s - loss: 0.7282 - accuracy: 0.5204"
     ]
    },
    {
     "name": "stderr",
     "output_type": "stream",
     "text": [
      "Corrupt JPEG data: 1153 extraneous bytes before marker 0xd9\n"
     ]
    },
    {
     "name": "stdout",
     "output_type": "stream",
     "text": [
      "574/582 [============================>.] - ETA: 1s - loss: 0.7283 - accuracy: 0.5200"
     ]
    },
    {
     "name": "stderr",
     "output_type": "stream",
     "text": [
      "Corrupt JPEG data: 228 extraneous bytes before marker 0xd9\n"
     ]
    },
    {
     "name": "stdout",
     "output_type": "stream",
     "text": [
      "582/582 [==============================] - ETA: 0s - loss: 0.7283 - accuracy: 0.5202"
     ]
    },
    {
     "name": "stderr",
     "output_type": "stream",
     "text": [
      "Corrupt JPEG data: 162 extraneous bytes before marker 0xd9\n",
      "Corrupt JPEG data: 252 extraneous bytes before marker 0xd9\n",
      "Corrupt JPEG data: 214 extraneous bytes before marker 0xd9\n",
      "Corrupt JPEG data: 1403 extraneous bytes before marker 0xd9\n"
     ]
    },
    {
     "name": "stdout",
     "output_type": "stream",
     "text": [
      "582/582 [==============================] - 106s 183ms/step - loss: 0.7283 - accuracy: 0.5202 - val_loss: 0.8251 - val_accuracy: 0.5267\n",
      "Epoch 13/15\n",
      "195/582 [=========>....................] - ETA: 1:05 - loss: 0.7253 - accuracy: 0.5192"
     ]
    },
    {
     "name": "stderr",
     "output_type": "stream",
     "text": [
      "Corrupt JPEG data: 99 extraneous bytes before marker 0xd9\n"
     ]
    },
    {
     "name": "stdout",
     "output_type": "stream",
     "text": [
      "227/582 [==========>...................] - ETA: 1:00 - loss: 0.7250 - accuracy: 0.5194"
     ]
    },
    {
     "name": "stderr",
     "output_type": "stream",
     "text": [
      "Warning: unknown JFIF revision number 0.00\n"
     ]
    },
    {
     "name": "stdout",
     "output_type": "stream",
     "text": [
      "237/582 [===========>..................] - ETA: 58s - loss: 0.7264 - accuracy: 0.5169"
     ]
    },
    {
     "name": "stderr",
     "output_type": "stream",
     "text": [
      "Corrupt JPEG data: 396 extraneous bytes before marker 0xd9\n"
     ]
    },
    {
     "name": "stdout",
     "output_type": "stream",
     "text": [
      "309/582 [==============>...............] - ETA: 46s - loss: 0.7257 - accuracy: 0.5212"
     ]
    },
    {
     "name": "stderr",
     "output_type": "stream",
     "text": [
      "Corrupt JPEG data: 65 extraneous bytes before marker 0xd9\n"
     ]
    },
    {
     "name": "stdout",
     "output_type": "stream",
     "text": [
      "517/582 [=========================>....] - ETA: 11s - loss: 0.7281 - accuracy: 0.5215"
     ]
    },
    {
     "name": "stderr",
     "output_type": "stream",
     "text": [
      "Corrupt JPEG data: 2226 extraneous bytes before marker 0xd9\n"
     ]
    },
    {
     "name": "stdout",
     "output_type": "stream",
     "text": [
      "530/582 [==========================>...] - ETA: 8s - loss: 0.7276 - accuracy: 0.5222"
     ]
    },
    {
     "name": "stderr",
     "output_type": "stream",
     "text": [
      "Corrupt JPEG data: 128 extraneous bytes before marker 0xd9\n"
     ]
    },
    {
     "name": "stdout",
     "output_type": "stream",
     "text": [
      "541/582 [==========================>...] - ETA: 7s - loss: 0.7281 - accuracy: 0.5213"
     ]
    },
    {
     "name": "stderr",
     "output_type": "stream",
     "text": [
      "Corrupt JPEG data: 239 extraneous bytes before marker 0xd9\n"
     ]
    },
    {
     "name": "stdout",
     "output_type": "stream",
     "text": [
      "568/582 [============================>.] - ETA: 2s - loss: 0.7286 - accuracy: 0.5215"
     ]
    },
    {
     "name": "stderr",
     "output_type": "stream",
     "text": [
      "Corrupt JPEG data: 1153 extraneous bytes before marker 0xd9\n"
     ]
    },
    {
     "name": "stdout",
     "output_type": "stream",
     "text": [
      "574/582 [============================>.] - ETA: 1s - loss: 0.7286 - accuracy: 0.5211"
     ]
    },
    {
     "name": "stderr",
     "output_type": "stream",
     "text": [
      "Corrupt JPEG data: 228 extraneous bytes before marker 0xd9\n"
     ]
    },
    {
     "name": "stdout",
     "output_type": "stream",
     "text": [
      "582/582 [==============================] - ETA: 0s - loss: 0.7283 - accuracy: 0.5211"
     ]
    },
    {
     "name": "stderr",
     "output_type": "stream",
     "text": [
      "Corrupt JPEG data: 162 extraneous bytes before marker 0xd9\n",
      "Corrupt JPEG data: 252 extraneous bytes before marker 0xd9\n",
      "Corrupt JPEG data: 214 extraneous bytes before marker 0xd9\n",
      "Corrupt JPEG data: 1403 extraneous bytes before marker 0xd9\n"
     ]
    },
    {
     "name": "stdout",
     "output_type": "stream",
     "text": [
      "582/582 [==============================] - 106s 183ms/step - loss: 0.7283 - accuracy: 0.5211 - val_loss: 1.1066 - val_accuracy: 0.5454\n",
      "Epoch 14/15\n",
      "195/582 [=========>....................] - ETA: 1:05 - loss: 0.7304 - accuracy: 0.5237"
     ]
    },
    {
     "name": "stderr",
     "output_type": "stream",
     "text": [
      "Corrupt JPEG data: 99 extraneous bytes before marker 0xd9\n"
     ]
    },
    {
     "name": "stdout",
     "output_type": "stream",
     "text": [
      "227/582 [==========>...................] - ETA: 1:00 - loss: 0.7306 - accuracy: 0.5186"
     ]
    },
    {
     "name": "stderr",
     "output_type": "stream",
     "text": [
      "Warning: unknown JFIF revision number 0.00\n"
     ]
    },
    {
     "name": "stdout",
     "output_type": "stream",
     "text": [
      "237/582 [===========>..................] - ETA: 58s - loss: 0.7309 - accuracy: 0.5178"
     ]
    },
    {
     "name": "stderr",
     "output_type": "stream",
     "text": [
      "Corrupt JPEG data: 396 extraneous bytes before marker 0xd9\n"
     ]
    },
    {
     "name": "stdout",
     "output_type": "stream",
     "text": [
      "309/582 [==============>...............] - ETA: 46s - loss: 0.7312 - accuracy: 0.5197"
     ]
    },
    {
     "name": "stderr",
     "output_type": "stream",
     "text": [
      "Corrupt JPEG data: 65 extraneous bytes before marker 0xd9\n"
     ]
    },
    {
     "name": "stdout",
     "output_type": "stream",
     "text": [
      "517/582 [=========================>....] - ETA: 11s - loss: 0.7294 - accuracy: 0.5199"
     ]
    },
    {
     "name": "stderr",
     "output_type": "stream",
     "text": [
      "Corrupt JPEG data: 2226 extraneous bytes before marker 0xd9\n"
     ]
    },
    {
     "name": "stdout",
     "output_type": "stream",
     "text": [
      "530/582 [==========================>...] - ETA: 8s - loss: 0.7288 - accuracy: 0.5203"
     ]
    },
    {
     "name": "stderr",
     "output_type": "stream",
     "text": [
      "Corrupt JPEG data: 128 extraneous bytes before marker 0xd9\n"
     ]
    },
    {
     "name": "stdout",
     "output_type": "stream",
     "text": [
      "541/582 [==========================>...] - ETA: 7s - loss: 0.7287 - accuracy: 0.5198"
     ]
    },
    {
     "name": "stderr",
     "output_type": "stream",
     "text": [
      "Corrupt JPEG data: 239 extraneous bytes before marker 0xd9\n"
     ]
    },
    {
     "name": "stdout",
     "output_type": "stream",
     "text": [
      "568/582 [============================>.] - ETA: 2s - loss: 0.7292 - accuracy: 0.5187"
     ]
    },
    {
     "name": "stderr",
     "output_type": "stream",
     "text": [
      "Corrupt JPEG data: 1153 extraneous bytes before marker 0xd9\n"
     ]
    },
    {
     "name": "stdout",
     "output_type": "stream",
     "text": [
      "574/582 [============================>.] - ETA: 1s - loss: 0.7287 - accuracy: 0.5191"
     ]
    },
    {
     "name": "stderr",
     "output_type": "stream",
     "text": [
      "Corrupt JPEG data: 228 extraneous bytes before marker 0xd9\n"
     ]
    },
    {
     "name": "stdout",
     "output_type": "stream",
     "text": [
      "582/582 [==============================] - ETA: 0s - loss: 0.7285 - accuracy: 0.5192"
     ]
    },
    {
     "name": "stderr",
     "output_type": "stream",
     "text": [
      "Corrupt JPEG data: 162 extraneous bytes before marker 0xd9\n",
      "Corrupt JPEG data: 252 extraneous bytes before marker 0xd9\n",
      "Corrupt JPEG data: 214 extraneous bytes before marker 0xd9\n",
      "Corrupt JPEG data: 1403 extraneous bytes before marker 0xd9\n"
     ]
    },
    {
     "name": "stdout",
     "output_type": "stream",
     "text": [
      "582/582 [==============================] - 106s 183ms/step - loss: 0.7285 - accuracy: 0.5192 - val_loss: 0.7533 - val_accuracy: 0.5159\n",
      "Epoch 15/15\n",
      "195/582 [=========>....................] - ETA: 1:06 - loss: 0.7346 - accuracy: 0.5042"
     ]
    },
    {
     "name": "stderr",
     "output_type": "stream",
     "text": [
      "Corrupt JPEG data: 99 extraneous bytes before marker 0xd9\n"
     ]
    },
    {
     "name": "stdout",
     "output_type": "stream",
     "text": [
      "227/582 [==========>...................] - ETA: 1:00 - loss: 0.7343 - accuracy: 0.5043"
     ]
    },
    {
     "name": "stderr",
     "output_type": "stream",
     "text": [
      "Warning: unknown JFIF revision number 0.00\n"
     ]
    },
    {
     "name": "stdout",
     "output_type": "stream",
     "text": [
      "237/582 [===========>..................] - ETA: 59s - loss: 0.7345 - accuracy: 0.5050"
     ]
    },
    {
     "name": "stderr",
     "output_type": "stream",
     "text": [
      "Corrupt JPEG data: 396 extraneous bytes before marker 0xd9\n"
     ]
    },
    {
     "name": "stdout",
     "output_type": "stream",
     "text": [
      "309/582 [==============>...............] - ETA: 46s - loss: 0.7326 - accuracy: 0.5064"
     ]
    },
    {
     "name": "stderr",
     "output_type": "stream",
     "text": [
      "Corrupt JPEG data: 65 extraneous bytes before marker 0xd9\n"
     ]
    },
    {
     "name": "stdout",
     "output_type": "stream",
     "text": [
      "517/582 [=========================>....] - ETA: 11s - loss: 0.7330 - accuracy: 0.5125"
     ]
    },
    {
     "name": "stderr",
     "output_type": "stream",
     "text": [
      "Corrupt JPEG data: 2226 extraneous bytes before marker 0xd9\n"
     ]
    },
    {
     "name": "stdout",
     "output_type": "stream",
     "text": [
      "530/582 [==========================>...] - ETA: 8s - loss: 0.7326 - accuracy: 0.5130"
     ]
    },
    {
     "name": "stderr",
     "output_type": "stream",
     "text": [
      "Corrupt JPEG data: 128 extraneous bytes before marker 0xd9\n"
     ]
    },
    {
     "name": "stdout",
     "output_type": "stream",
     "text": [
      "541/582 [==========================>...] - ETA: 7s - loss: 0.7329 - accuracy: 0.5131"
     ]
    },
    {
     "name": "stderr",
     "output_type": "stream",
     "text": [
      "Corrupt JPEG data: 239 extraneous bytes before marker 0xd9\n"
     ]
    },
    {
     "name": "stdout",
     "output_type": "stream",
     "text": [
      "568/582 [============================>.] - ETA: 2s - loss: 0.7321 - accuracy: 0.5137"
     ]
    },
    {
     "name": "stderr",
     "output_type": "stream",
     "text": [
      "Corrupt JPEG data: 1153 extraneous bytes before marker 0xd9\n"
     ]
    },
    {
     "name": "stdout",
     "output_type": "stream",
     "text": [
      "574/582 [============================>.] - ETA: 1s - loss: 0.7317 - accuracy: 0.5140"
     ]
    },
    {
     "name": "stderr",
     "output_type": "stream",
     "text": [
      "Corrupt JPEG data: 228 extraneous bytes before marker 0xd9\n"
     ]
    },
    {
     "name": "stdout",
     "output_type": "stream",
     "text": [
      "582/582 [==============================] - ETA: 0s - loss: 0.7313 - accuracy: 0.5142"
     ]
    },
    {
     "name": "stderr",
     "output_type": "stream",
     "text": [
      "Corrupt JPEG data: 162 extraneous bytes before marker 0xd9\n",
      "Corrupt JPEG data: 252 extraneous bytes before marker 0xd9\n",
      "Corrupt JPEG data: 214 extraneous bytes before marker 0xd9\n",
      "Corrupt JPEG data: 1403 extraneous bytes before marker 0xd9\n"
     ]
    },
    {
     "name": "stdout",
     "output_type": "stream",
     "text": [
      "\b\b\b\b\b\b\b\b\b\b\b\b\b\b\b\b\b\b\b\b\b\b\b\b\b\b\b\b\b\b\b\b\b\b\b\b\b\b\b\b\b\b\b\b\b\b\b\b\b\b\b\b\b\b\b\b\b\b\b\b\b\b\b\b\b\b\b\b\b\b\b\b\b\b\b\b\b\b\b\b\b\b\b\b\r",
      "582/582 [==============================] - 107s 183ms/step - loss: 0.7313 - accuracy: 0.5142 - val_loss: 0.7540 - val_accuracy: 0.5071\n"
     ]
    }
   ],
   "source": [
    "plain_34.compile(\n",
    "    loss='sparse_categorical_crossentropy',\n",
    "    optimizer=tf.keras.optimizers.SGD(lr=0.01, clipnorm=1.),\n",
    "    metrics=['accuracy'],\n",
    ")\n",
    "\n",
    "history_plain34 = plain_34.fit(\n",
    "    ds_train,\n",
    "    epochs=EPOCH,\n",
    "    validation_data=ds_test,\n",
    "    verbose=1,\n",
    "    use_multiprocessing=True,\n",
    ")"
   ]
  },
  {
   "cell_type": "code",
   "execution_count": 11,
   "metadata": {},
   "outputs": [
    {
     "name": "stdout",
     "output_type": "stream",
     "text": [
      "Model: \"model_2\"\n",
      "__________________________________________________________________________________________________\n",
      "Layer (type)                    Output Shape         Param #     Connected to                     \n",
      "==================================================================================================\n",
      "input_3 (InputLayer)            [(None, 224, 224, 3) 0                                            \n",
      "__________________________________________________________________________________________________\n",
      "conv2d_2 (Conv2D)               (None, 112, 112, 64) 9472        input_3[0][0]                    \n",
      "__________________________________________________________________________________________________\n",
      "batch_normalization_66 (BatchNo (None, 112, 112, 64) 256         conv2d_2[0][0]                   \n",
      "__________________________________________________________________________________________________\n",
      "activation_50 (Activation)      (None, 112, 112, 64) 0           batch_normalization_66[0][0]     \n",
      "__________________________________________________________________________________________________\n",
      "max_pooling2d_2 (MaxPooling2D)  (None, 56, 56, 64)   0           activation_50[0][0]              \n",
      "__________________________________________________________________________________________________\n",
      "stage0_0_conv1_10 (Conv2D)      (None, 56, 56, 64)   4160        max_pooling2d_2[0][0]            \n",
      "__________________________________________________________________________________________________\n",
      "batch_normalization_67 (BatchNo (None, 56, 56, 64)   256         stage0_0_conv1_10[0][0]          \n",
      "__________________________________________________________________________________________________\n",
      "activation_51 (Activation)      (None, 56, 56, 64)   0           batch_normalization_67[0][0]     \n",
      "__________________________________________________________________________________________________\n",
      "stage0_0_conv2_10 (Conv2D)      (None, 56, 56, 64)   36928       activation_51[0][0]              \n",
      "__________________________________________________________________________________________________\n",
      "batch_normalization_68 (BatchNo (None, 56, 56, 64)   256         stage0_0_conv2_10[0][0]          \n",
      "__________________________________________________________________________________________________\n",
      "activation_52 (Activation)      (None, 56, 56, 64)   0           batch_normalization_68[0][0]     \n",
      "__________________________________________________________________________________________________\n",
      "stage0_0_conv3_10 (Conv2D)      (None, 56, 56, 256)  16640       activation_52[0][0]              \n",
      "__________________________________________________________________________________________________\n",
      "identity_0_0_10 (Conv2D)        (None, 56, 56, 256)  16640       max_pooling2d_2[0][0]            \n",
      "__________________________________________________________________________________________________\n",
      "batch_normalization_69 (BatchNo (None, 56, 56, 256)  1024        stage0_0_conv3_10[0][0]          \n",
      "__________________________________________________________________________________________________\n",
      "batch_normalization_70 (BatchNo (None, 56, 56, 256)  1024        identity_0_0_10[0][0]            \n",
      "__________________________________________________________________________________________________\n",
      "add_16 (Add)                    (None, 56, 56, 256)  0           batch_normalization_69[0][0]     \n",
      "                                                                 batch_normalization_70[0][0]     \n",
      "__________________________________________________________________________________________________\n",
      "activation_53 (Activation)      (None, 56, 56, 256)  0           add_16[0][0]                     \n",
      "__________________________________________________________________________________________________\n",
      "stage0_1_conv1_10 (Conv2D)      (None, 56, 56, 64)   16448       activation_53[0][0]              \n",
      "__________________________________________________________________________________________________\n",
      "batch_normalization_71 (BatchNo (None, 56, 56, 64)   256         stage0_1_conv1_10[0][0]          \n",
      "__________________________________________________________________________________________________\n",
      "activation_54 (Activation)      (None, 56, 56, 64)   0           batch_normalization_71[0][0]     \n",
      "__________________________________________________________________________________________________\n",
      "stage0_1_conv2_10 (Conv2D)      (None, 56, 56, 64)   36928       activation_54[0][0]              \n",
      "__________________________________________________________________________________________________\n",
      "batch_normalization_72 (BatchNo (None, 56, 56, 64)   256         stage0_1_conv2_10[0][0]          \n",
      "__________________________________________________________________________________________________\n",
      "activation_55 (Activation)      (None, 56, 56, 64)   0           batch_normalization_72[0][0]     \n",
      "__________________________________________________________________________________________________\n",
      "stage0_1_conv3_10 (Conv2D)      (None, 56, 56, 256)  16640       activation_55[0][0]              \n",
      "__________________________________________________________________________________________________\n",
      "identity_0_1_10 (Conv2D)        (None, 56, 56, 256)  65792       activation_53[0][0]              \n",
      "__________________________________________________________________________________________________\n",
      "batch_normalization_73 (BatchNo (None, 56, 56, 256)  1024        stage0_1_conv3_10[0][0]          \n",
      "__________________________________________________________________________________________________\n",
      "batch_normalization_74 (BatchNo (None, 56, 56, 256)  1024        identity_0_1_10[0][0]            \n",
      "__________________________________________________________________________________________________\n",
      "add_17 (Add)                    (None, 56, 56, 256)  0           batch_normalization_73[0][0]     \n",
      "                                                                 batch_normalization_74[0][0]     \n",
      "__________________________________________________________________________________________________\n",
      "activation_56 (Activation)      (None, 56, 56, 256)  0           add_17[0][0]                     \n",
      "__________________________________________________________________________________________________\n",
      "stage0_2_conv1_10 (Conv2D)      (None, 56, 56, 64)   16448       activation_56[0][0]              \n",
      "__________________________________________________________________________________________________\n",
      "batch_normalization_75 (BatchNo (None, 56, 56, 64)   256         stage0_2_conv1_10[0][0]          \n",
      "__________________________________________________________________________________________________\n",
      "activation_57 (Activation)      (None, 56, 56, 64)   0           batch_normalization_75[0][0]     \n",
      "__________________________________________________________________________________________________\n",
      "stage0_2_conv2_10 (Conv2D)      (None, 56, 56, 64)   36928       activation_57[0][0]              \n",
      "__________________________________________________________________________________________________\n",
      "batch_normalization_76 (BatchNo (None, 56, 56, 64)   256         stage0_2_conv2_10[0][0]          \n",
      "__________________________________________________________________________________________________\n",
      "activation_58 (Activation)      (None, 56, 56, 64)   0           batch_normalization_76[0][0]     \n",
      "__________________________________________________________________________________________________\n",
      "stage0_2_conv3_10 (Conv2D)      (None, 56, 56, 256)  16640       activation_58[0][0]              \n",
      "__________________________________________________________________________________________________\n",
      "identity_0_2_10 (Conv2D)        (None, 56, 56, 256)  65792       activation_56[0][0]              \n",
      "__________________________________________________________________________________________________\n",
      "batch_normalization_77 (BatchNo (None, 56, 56, 256)  1024        stage0_2_conv3_10[0][0]          \n",
      "__________________________________________________________________________________________________\n",
      "batch_normalization_78 (BatchNo (None, 56, 56, 256)  1024        identity_0_2_10[0][0]            \n",
      "__________________________________________________________________________________________________\n",
      "add_18 (Add)                    (None, 56, 56, 256)  0           batch_normalization_77[0][0]     \n",
      "                                                                 batch_normalization_78[0][0]     \n",
      "__________________________________________________________________________________________________\n",
      "activation_59 (Activation)      (None, 56, 56, 256)  0           add_18[0][0]                     \n",
      "__________________________________________________________________________________________________\n",
      "stage1_0_conv1_10 (Conv2D)      (None, 28, 28, 128)  32896       activation_59[0][0]              \n",
      "__________________________________________________________________________________________________\n",
      "batch_normalization_79 (BatchNo (None, 28, 28, 128)  512         stage1_0_conv1_10[0][0]          \n",
      "__________________________________________________________________________________________________\n",
      "activation_60 (Activation)      (None, 28, 28, 128)  0           batch_normalization_79[0][0]     \n",
      "__________________________________________________________________________________________________\n",
      "stage1_0_conv2_10 (Conv2D)      (None, 28, 28, 128)  147584      activation_60[0][0]              \n",
      "__________________________________________________________________________________________________\n",
      "batch_normalization_80 (BatchNo (None, 28, 28, 128)  512         stage1_0_conv2_10[0][0]          \n",
      "__________________________________________________________________________________________________\n",
      "activation_61 (Activation)      (None, 28, 28, 128)  0           batch_normalization_80[0][0]     \n",
      "__________________________________________________________________________________________________\n",
      "stage1_0_conv3_10 (Conv2D)      (None, 28, 28, 512)  66048       activation_61[0][0]              \n",
      "__________________________________________________________________________________________________\n",
      "identity_1_0_10 (Conv2D)        (None, 28, 28, 512)  131584      activation_59[0][0]              \n",
      "__________________________________________________________________________________________________\n",
      "batch_normalization_81 (BatchNo (None, 28, 28, 512)  2048        stage1_0_conv3_10[0][0]          \n",
      "__________________________________________________________________________________________________\n",
      "batch_normalization_82 (BatchNo (None, 28, 28, 512)  2048        identity_1_0_10[0][0]            \n",
      "__________________________________________________________________________________________________\n",
      "add_19 (Add)                    (None, 28, 28, 512)  0           batch_normalization_81[0][0]     \n",
      "                                                                 batch_normalization_82[0][0]     \n",
      "__________________________________________________________________________________________________\n",
      "activation_62 (Activation)      (None, 28, 28, 512)  0           add_19[0][0]                     \n",
      "__________________________________________________________________________________________________\n",
      "stage1_1_conv1_10 (Conv2D)      (None, 28, 28, 128)  65664       activation_62[0][0]              \n",
      "__________________________________________________________________________________________________\n",
      "batch_normalization_83 (BatchNo (None, 28, 28, 128)  512         stage1_1_conv1_10[0][0]          \n",
      "__________________________________________________________________________________________________\n",
      "activation_63 (Activation)      (None, 28, 28, 128)  0           batch_normalization_83[0][0]     \n",
      "__________________________________________________________________________________________________\n",
      "stage1_1_conv2_10 (Conv2D)      (None, 28, 28, 128)  147584      activation_63[0][0]              \n",
      "__________________________________________________________________________________________________\n",
      "batch_normalization_84 (BatchNo (None, 28, 28, 128)  512         stage1_1_conv2_10[0][0]          \n",
      "__________________________________________________________________________________________________\n",
      "activation_64 (Activation)      (None, 28, 28, 128)  0           batch_normalization_84[0][0]     \n",
      "__________________________________________________________________________________________________\n",
      "stage1_1_conv3_10 (Conv2D)      (None, 28, 28, 512)  66048       activation_64[0][0]              \n",
      "__________________________________________________________________________________________________\n",
      "identity_1_1_10 (Conv2D)        (None, 28, 28, 512)  262656      activation_62[0][0]              \n",
      "__________________________________________________________________________________________________\n",
      "batch_normalization_85 (BatchNo (None, 28, 28, 512)  2048        stage1_1_conv3_10[0][0]          \n",
      "__________________________________________________________________________________________________\n",
      "batch_normalization_86 (BatchNo (None, 28, 28, 512)  2048        identity_1_1_10[0][0]            \n",
      "__________________________________________________________________________________________________\n",
      "add_20 (Add)                    (None, 28, 28, 512)  0           batch_normalization_85[0][0]     \n",
      "                                                                 batch_normalization_86[0][0]     \n",
      "__________________________________________________________________________________________________\n",
      "activation_65 (Activation)      (None, 28, 28, 512)  0           add_20[0][0]                     \n",
      "__________________________________________________________________________________________________\n",
      "stage1_2_conv1_10 (Conv2D)      (None, 28, 28, 128)  65664       activation_65[0][0]              \n",
      "__________________________________________________________________________________________________\n",
      "batch_normalization_87 (BatchNo (None, 28, 28, 128)  512         stage1_2_conv1_10[0][0]          \n",
      "__________________________________________________________________________________________________\n",
      "activation_66 (Activation)      (None, 28, 28, 128)  0           batch_normalization_87[0][0]     \n",
      "__________________________________________________________________________________________________\n",
      "stage1_2_conv2_10 (Conv2D)      (None, 28, 28, 128)  147584      activation_66[0][0]              \n",
      "__________________________________________________________________________________________________\n",
      "batch_normalization_88 (BatchNo (None, 28, 28, 128)  512         stage1_2_conv2_10[0][0]          \n",
      "__________________________________________________________________________________________________\n",
      "activation_67 (Activation)      (None, 28, 28, 128)  0           batch_normalization_88[0][0]     \n",
      "__________________________________________________________________________________________________\n",
      "stage1_2_conv3_10 (Conv2D)      (None, 28, 28, 512)  66048       activation_67[0][0]              \n",
      "__________________________________________________________________________________________________\n",
      "identity_1_2_10 (Conv2D)        (None, 28, 28, 512)  262656      activation_65[0][0]              \n",
      "__________________________________________________________________________________________________\n",
      "batch_normalization_89 (BatchNo (None, 28, 28, 512)  2048        stage1_2_conv3_10[0][0]          \n",
      "__________________________________________________________________________________________________\n",
      "batch_normalization_90 (BatchNo (None, 28, 28, 512)  2048        identity_1_2_10[0][0]            \n",
      "__________________________________________________________________________________________________\n",
      "add_21 (Add)                    (None, 28, 28, 512)  0           batch_normalization_89[0][0]     \n",
      "                                                                 batch_normalization_90[0][0]     \n",
      "__________________________________________________________________________________________________\n",
      "activation_68 (Activation)      (None, 28, 28, 512)  0           add_21[0][0]                     \n",
      "__________________________________________________________________________________________________\n",
      "stage1_3_conv1_10 (Conv2D)      (None, 28, 28, 128)  65664       activation_68[0][0]              \n",
      "__________________________________________________________________________________________________\n",
      "batch_normalization_91 (BatchNo (None, 28, 28, 128)  512         stage1_3_conv1_10[0][0]          \n",
      "__________________________________________________________________________________________________\n",
      "activation_69 (Activation)      (None, 28, 28, 128)  0           batch_normalization_91[0][0]     \n",
      "__________________________________________________________________________________________________\n",
      "stage1_3_conv2_10 (Conv2D)      (None, 28, 28, 128)  147584      activation_69[0][0]              \n",
      "__________________________________________________________________________________________________\n",
      "batch_normalization_92 (BatchNo (None, 28, 28, 128)  512         stage1_3_conv2_10[0][0]          \n",
      "__________________________________________________________________________________________________\n",
      "activation_70 (Activation)      (None, 28, 28, 128)  0           batch_normalization_92[0][0]     \n",
      "__________________________________________________________________________________________________\n",
      "stage1_3_conv3_10 (Conv2D)      (None, 28, 28, 512)  66048       activation_70[0][0]              \n",
      "__________________________________________________________________________________________________\n",
      "identity_1_3_10 (Conv2D)        (None, 28, 28, 512)  262656      activation_68[0][0]              \n",
      "__________________________________________________________________________________________________\n",
      "batch_normalization_93 (BatchNo (None, 28, 28, 512)  2048        stage1_3_conv3_10[0][0]          \n",
      "__________________________________________________________________________________________________\n",
      "batch_normalization_94 (BatchNo (None, 28, 28, 512)  2048        identity_1_3_10[0][0]            \n",
      "__________________________________________________________________________________________________\n",
      "add_22 (Add)                    (None, 28, 28, 512)  0           batch_normalization_93[0][0]     \n",
      "                                                                 batch_normalization_94[0][0]     \n",
      "__________________________________________________________________________________________________\n",
      "activation_71 (Activation)      (None, 28, 28, 512)  0           add_22[0][0]                     \n",
      "__________________________________________________________________________________________________\n",
      "stage2_0_conv1_10 (Conv2D)      (None, 14, 14, 256)  131328      activation_71[0][0]              \n",
      "__________________________________________________________________________________________________\n",
      "batch_normalization_95 (BatchNo (None, 14, 14, 256)  1024        stage2_0_conv1_10[0][0]          \n",
      "__________________________________________________________________________________________________\n",
      "activation_72 (Activation)      (None, 14, 14, 256)  0           batch_normalization_95[0][0]     \n",
      "__________________________________________________________________________________________________\n",
      "stage2_0_conv2_10 (Conv2D)      (None, 14, 14, 256)  590080      activation_72[0][0]              \n",
      "__________________________________________________________________________________________________\n",
      "batch_normalization_96 (BatchNo (None, 14, 14, 256)  1024        stage2_0_conv2_10[0][0]          \n",
      "__________________________________________________________________________________________________\n",
      "activation_73 (Activation)      (None, 14, 14, 256)  0           batch_normalization_96[0][0]     \n",
      "__________________________________________________________________________________________________\n",
      "stage2_0_conv3_10 (Conv2D)      (None, 14, 14, 1024) 263168      activation_73[0][0]              \n",
      "__________________________________________________________________________________________________\n",
      "identity_2_0_10 (Conv2D)        (None, 14, 14, 1024) 525312      activation_71[0][0]              \n",
      "__________________________________________________________________________________________________\n",
      "batch_normalization_97 (BatchNo (None, 14, 14, 1024) 4096        stage2_0_conv3_10[0][0]          \n",
      "__________________________________________________________________________________________________\n",
      "batch_normalization_98 (BatchNo (None, 14, 14, 1024) 4096        identity_2_0_10[0][0]            \n",
      "__________________________________________________________________________________________________\n",
      "add_23 (Add)                    (None, 14, 14, 1024) 0           batch_normalization_97[0][0]     \n",
      "                                                                 batch_normalization_98[0][0]     \n",
      "__________________________________________________________________________________________________\n",
      "activation_74 (Activation)      (None, 14, 14, 1024) 0           add_23[0][0]                     \n",
      "__________________________________________________________________________________________________\n",
      "stage2_1_conv1_10 (Conv2D)      (None, 14, 14, 256)  262400      activation_74[0][0]              \n",
      "__________________________________________________________________________________________________\n",
      "batch_normalization_99 (BatchNo (None, 14, 14, 256)  1024        stage2_1_conv1_10[0][0]          \n",
      "__________________________________________________________________________________________________\n",
      "activation_75 (Activation)      (None, 14, 14, 256)  0           batch_normalization_99[0][0]     \n",
      "__________________________________________________________________________________________________\n",
      "stage2_1_conv2_10 (Conv2D)      (None, 14, 14, 256)  590080      activation_75[0][0]              \n",
      "__________________________________________________________________________________________________\n",
      "batch_normalization_100 (BatchN (None, 14, 14, 256)  1024        stage2_1_conv2_10[0][0]          \n",
      "__________________________________________________________________________________________________\n",
      "activation_76 (Activation)      (None, 14, 14, 256)  0           batch_normalization_100[0][0]    \n",
      "__________________________________________________________________________________________________\n",
      "stage2_1_conv3_10 (Conv2D)      (None, 14, 14, 1024) 263168      activation_76[0][0]              \n",
      "__________________________________________________________________________________________________\n",
      "identity_2_1_10 (Conv2D)        (None, 14, 14, 1024) 1049600     activation_74[0][0]              \n",
      "__________________________________________________________________________________________________\n",
      "batch_normalization_101 (BatchN (None, 14, 14, 1024) 4096        stage2_1_conv3_10[0][0]          \n",
      "__________________________________________________________________________________________________\n",
      "batch_normalization_102 (BatchN (None, 14, 14, 1024) 4096        identity_2_1_10[0][0]            \n",
      "__________________________________________________________________________________________________\n",
      "add_24 (Add)                    (None, 14, 14, 1024) 0           batch_normalization_101[0][0]    \n",
      "                                                                 batch_normalization_102[0][0]    \n",
      "__________________________________________________________________________________________________\n",
      "activation_77 (Activation)      (None, 14, 14, 1024) 0           add_24[0][0]                     \n",
      "__________________________________________________________________________________________________\n",
      "stage2_2_conv1_10 (Conv2D)      (None, 14, 14, 256)  262400      activation_77[0][0]              \n",
      "__________________________________________________________________________________________________\n",
      "batch_normalization_103 (BatchN (None, 14, 14, 256)  1024        stage2_2_conv1_10[0][0]          \n",
      "__________________________________________________________________________________________________\n",
      "activation_78 (Activation)      (None, 14, 14, 256)  0           batch_normalization_103[0][0]    \n",
      "__________________________________________________________________________________________________\n",
      "stage2_2_conv2_10 (Conv2D)      (None, 14, 14, 256)  590080      activation_78[0][0]              \n",
      "__________________________________________________________________________________________________\n",
      "batch_normalization_104 (BatchN (None, 14, 14, 256)  1024        stage2_2_conv2_10[0][0]          \n",
      "__________________________________________________________________________________________________\n",
      "activation_79 (Activation)      (None, 14, 14, 256)  0           batch_normalization_104[0][0]    \n",
      "__________________________________________________________________________________________________\n",
      "stage2_2_conv3_10 (Conv2D)      (None, 14, 14, 1024) 263168      activation_79[0][0]              \n",
      "__________________________________________________________________________________________________\n",
      "identity_2_2_10 (Conv2D)        (None, 14, 14, 1024) 1049600     activation_77[0][0]              \n",
      "__________________________________________________________________________________________________\n",
      "batch_normalization_105 (BatchN (None, 14, 14, 1024) 4096        stage2_2_conv3_10[0][0]          \n",
      "__________________________________________________________________________________________________\n",
      "batch_normalization_106 (BatchN (None, 14, 14, 1024) 4096        identity_2_2_10[0][0]            \n",
      "__________________________________________________________________________________________________\n",
      "add_25 (Add)                    (None, 14, 14, 1024) 0           batch_normalization_105[0][0]    \n",
      "                                                                 batch_normalization_106[0][0]    \n",
      "__________________________________________________________________________________________________\n",
      "activation_80 (Activation)      (None, 14, 14, 1024) 0           add_25[0][0]                     \n",
      "__________________________________________________________________________________________________\n",
      "stage2_3_conv1_10 (Conv2D)      (None, 14, 14, 256)  262400      activation_80[0][0]              \n",
      "__________________________________________________________________________________________________\n",
      "batch_normalization_107 (BatchN (None, 14, 14, 256)  1024        stage2_3_conv1_10[0][0]          \n",
      "__________________________________________________________________________________________________\n",
      "activation_81 (Activation)      (None, 14, 14, 256)  0           batch_normalization_107[0][0]    \n",
      "__________________________________________________________________________________________________\n",
      "stage2_3_conv2_10 (Conv2D)      (None, 14, 14, 256)  590080      activation_81[0][0]              \n",
      "__________________________________________________________________________________________________\n",
      "batch_normalization_108 (BatchN (None, 14, 14, 256)  1024        stage2_3_conv2_10[0][0]          \n",
      "__________________________________________________________________________________________________\n",
      "activation_82 (Activation)      (None, 14, 14, 256)  0           batch_normalization_108[0][0]    \n",
      "__________________________________________________________________________________________________\n",
      "stage2_3_conv3_10 (Conv2D)      (None, 14, 14, 1024) 263168      activation_82[0][0]              \n",
      "__________________________________________________________________________________________________\n",
      "identity_2_3_10 (Conv2D)        (None, 14, 14, 1024) 1049600     activation_80[0][0]              \n",
      "__________________________________________________________________________________________________\n",
      "batch_normalization_109 (BatchN (None, 14, 14, 1024) 4096        stage2_3_conv3_10[0][0]          \n",
      "__________________________________________________________________________________________________\n",
      "batch_normalization_110 (BatchN (None, 14, 14, 1024) 4096        identity_2_3_10[0][0]            \n",
      "__________________________________________________________________________________________________\n",
      "add_26 (Add)                    (None, 14, 14, 1024) 0           batch_normalization_109[0][0]    \n",
      "                                                                 batch_normalization_110[0][0]    \n",
      "__________________________________________________________________________________________________\n",
      "activation_83 (Activation)      (None, 14, 14, 1024) 0           add_26[0][0]                     \n",
      "__________________________________________________________________________________________________\n",
      "stage2_4_conv1_10 (Conv2D)      (None, 14, 14, 256)  262400      activation_83[0][0]              \n",
      "__________________________________________________________________________________________________\n",
      "batch_normalization_111 (BatchN (None, 14, 14, 256)  1024        stage2_4_conv1_10[0][0]          \n",
      "__________________________________________________________________________________________________\n",
      "activation_84 (Activation)      (None, 14, 14, 256)  0           batch_normalization_111[0][0]    \n",
      "__________________________________________________________________________________________________\n",
      "stage2_4_conv2_10 (Conv2D)      (None, 14, 14, 256)  590080      activation_84[0][0]              \n",
      "__________________________________________________________________________________________________\n",
      "batch_normalization_112 (BatchN (None, 14, 14, 256)  1024        stage2_4_conv2_10[0][0]          \n",
      "__________________________________________________________________________________________________\n",
      "activation_85 (Activation)      (None, 14, 14, 256)  0           batch_normalization_112[0][0]    \n",
      "__________________________________________________________________________________________________\n",
      "stage2_4_conv3_10 (Conv2D)      (None, 14, 14, 1024) 263168      activation_85[0][0]              \n",
      "__________________________________________________________________________________________________\n",
      "identity_2_4_10 (Conv2D)        (None, 14, 14, 1024) 1049600     activation_83[0][0]              \n",
      "__________________________________________________________________________________________________\n",
      "batch_normalization_113 (BatchN (None, 14, 14, 1024) 4096        stage2_4_conv3_10[0][0]          \n",
      "__________________________________________________________________________________________________\n",
      "batch_normalization_114 (BatchN (None, 14, 14, 1024) 4096        identity_2_4_10[0][0]            \n",
      "__________________________________________________________________________________________________\n",
      "add_27 (Add)                    (None, 14, 14, 1024) 0           batch_normalization_113[0][0]    \n",
      "                                                                 batch_normalization_114[0][0]    \n",
      "__________________________________________________________________________________________________\n",
      "activation_86 (Activation)      (None, 14, 14, 1024) 0           add_27[0][0]                     \n",
      "__________________________________________________________________________________________________\n",
      "stage2_5_conv1_10 (Conv2D)      (None, 14, 14, 256)  262400      activation_86[0][0]              \n",
      "__________________________________________________________________________________________________\n",
      "batch_normalization_115 (BatchN (None, 14, 14, 256)  1024        stage2_5_conv1_10[0][0]          \n",
      "__________________________________________________________________________________________________\n",
      "activation_87 (Activation)      (None, 14, 14, 256)  0           batch_normalization_115[0][0]    \n",
      "__________________________________________________________________________________________________\n",
      "stage2_5_conv2_10 (Conv2D)      (None, 14, 14, 256)  590080      activation_87[0][0]              \n",
      "__________________________________________________________________________________________________\n",
      "batch_normalization_116 (BatchN (None, 14, 14, 256)  1024        stage2_5_conv2_10[0][0]          \n",
      "__________________________________________________________________________________________________\n",
      "activation_88 (Activation)      (None, 14, 14, 256)  0           batch_normalization_116[0][0]    \n",
      "__________________________________________________________________________________________________\n",
      "stage2_5_conv3_10 (Conv2D)      (None, 14, 14, 1024) 263168      activation_88[0][0]              \n",
      "__________________________________________________________________________________________________\n",
      "identity_2_5_10 (Conv2D)        (None, 14, 14, 1024) 1049600     activation_86[0][0]              \n",
      "__________________________________________________________________________________________________\n",
      "batch_normalization_117 (BatchN (None, 14, 14, 1024) 4096        stage2_5_conv3_10[0][0]          \n",
      "__________________________________________________________________________________________________\n",
      "batch_normalization_118 (BatchN (None, 14, 14, 1024) 4096        identity_2_5_10[0][0]            \n",
      "__________________________________________________________________________________________________\n",
      "add_28 (Add)                    (None, 14, 14, 1024) 0           batch_normalization_117[0][0]    \n",
      "                                                                 batch_normalization_118[0][0]    \n",
      "__________________________________________________________________________________________________\n",
      "activation_89 (Activation)      (None, 14, 14, 1024) 0           add_28[0][0]                     \n",
      "__________________________________________________________________________________________________\n",
      "stage3_0_conv1_10 (Conv2D)      (None, 7, 7, 512)    524800      activation_89[0][0]              \n",
      "__________________________________________________________________________________________________\n",
      "batch_normalization_119 (BatchN (None, 7, 7, 512)    2048        stage3_0_conv1_10[0][0]          \n",
      "__________________________________________________________________________________________________\n",
      "activation_90 (Activation)      (None, 7, 7, 512)    0           batch_normalization_119[0][0]    \n",
      "__________________________________________________________________________________________________\n",
      "stage3_0_conv2_10 (Conv2D)      (None, 7, 7, 512)    2359808     activation_90[0][0]              \n",
      "__________________________________________________________________________________________________\n",
      "batch_normalization_120 (BatchN (None, 7, 7, 512)    2048        stage3_0_conv2_10[0][0]          \n",
      "__________________________________________________________________________________________________\n",
      "activation_91 (Activation)      (None, 7, 7, 512)    0           batch_normalization_120[0][0]    \n",
      "__________________________________________________________________________________________________\n",
      "stage3_0_conv3_10 (Conv2D)      (None, 7, 7, 2048)   1050624     activation_91[0][0]              \n",
      "__________________________________________________________________________________________________\n",
      "identity_3_0_10 (Conv2D)        (None, 7, 7, 2048)   2099200     activation_89[0][0]              \n",
      "__________________________________________________________________________________________________\n",
      "batch_normalization_121 (BatchN (None, 7, 7, 2048)   8192        stage3_0_conv3_10[0][0]          \n",
      "__________________________________________________________________________________________________\n",
      "batch_normalization_122 (BatchN (None, 7, 7, 2048)   8192        identity_3_0_10[0][0]            \n",
      "__________________________________________________________________________________________________\n",
      "add_29 (Add)                    (None, 7, 7, 2048)   0           batch_normalization_121[0][0]    \n",
      "                                                                 batch_normalization_122[0][0]    \n",
      "__________________________________________________________________________________________________\n",
      "activation_92 (Activation)      (None, 7, 7, 2048)   0           add_29[0][0]                     \n",
      "__________________________________________________________________________________________________\n",
      "stage3_1_conv1_10 (Conv2D)      (None, 7, 7, 512)    1049088     activation_92[0][0]              \n",
      "__________________________________________________________________________________________________\n",
      "batch_normalization_123 (BatchN (None, 7, 7, 512)    2048        stage3_1_conv1_10[0][0]          \n",
      "__________________________________________________________________________________________________\n",
      "activation_93 (Activation)      (None, 7, 7, 512)    0           batch_normalization_123[0][0]    \n",
      "__________________________________________________________________________________________________\n",
      "stage3_1_conv2_10 (Conv2D)      (None, 7, 7, 512)    2359808     activation_93[0][0]              \n",
      "__________________________________________________________________________________________________\n",
      "batch_normalization_124 (BatchN (None, 7, 7, 512)    2048        stage3_1_conv2_10[0][0]          \n",
      "__________________________________________________________________________________________________\n",
      "activation_94 (Activation)      (None, 7, 7, 512)    0           batch_normalization_124[0][0]    \n",
      "__________________________________________________________________________________________________\n",
      "stage3_1_conv3_10 (Conv2D)      (None, 7, 7, 2048)   1050624     activation_94[0][0]              \n",
      "__________________________________________________________________________________________________\n",
      "identity_3_1_10 (Conv2D)        (None, 7, 7, 2048)   4196352     activation_92[0][0]              \n",
      "__________________________________________________________________________________________________\n",
      "batch_normalization_125 (BatchN (None, 7, 7, 2048)   8192        stage3_1_conv3_10[0][0]          \n",
      "__________________________________________________________________________________________________\n",
      "batch_normalization_126 (BatchN (None, 7, 7, 2048)   8192        identity_3_1_10[0][0]            \n",
      "__________________________________________________________________________________________________\n",
      "add_30 (Add)                    (None, 7, 7, 2048)   0           batch_normalization_125[0][0]    \n",
      "                                                                 batch_normalization_126[0][0]    \n",
      "__________________________________________________________________________________________________\n",
      "activation_95 (Activation)      (None, 7, 7, 2048)   0           add_30[0][0]                     \n",
      "__________________________________________________________________________________________________\n",
      "stage3_2_conv1_10 (Conv2D)      (None, 7, 7, 512)    1049088     activation_95[0][0]              \n",
      "__________________________________________________________________________________________________\n",
      "batch_normalization_127 (BatchN (None, 7, 7, 512)    2048        stage3_2_conv1_10[0][0]          \n",
      "__________________________________________________________________________________________________\n",
      "activation_96 (Activation)      (None, 7, 7, 512)    0           batch_normalization_127[0][0]    \n",
      "__________________________________________________________________________________________________\n",
      "stage3_2_conv2_10 (Conv2D)      (None, 7, 7, 512)    2359808     activation_96[0][0]              \n",
      "__________________________________________________________________________________________________\n",
      "batch_normalization_128 (BatchN (None, 7, 7, 512)    2048        stage3_2_conv2_10[0][0]          \n",
      "__________________________________________________________________________________________________\n",
      "activation_97 (Activation)      (None, 7, 7, 512)    0           batch_normalization_128[0][0]    \n",
      "__________________________________________________________________________________________________\n",
      "stage3_2_conv3_10 (Conv2D)      (None, 7, 7, 2048)   1050624     activation_97[0][0]              \n",
      "__________________________________________________________________________________________________\n",
      "identity_3_2_10 (Conv2D)        (None, 7, 7, 2048)   4196352     activation_95[0][0]              \n",
      "__________________________________________________________________________________________________\n",
      "batch_normalization_129 (BatchN (None, 7, 7, 2048)   8192        stage3_2_conv3_10[0][0]          \n",
      "__________________________________________________________________________________________________\n",
      "batch_normalization_130 (BatchN (None, 7, 7, 2048)   8192        identity_3_2_10[0][0]            \n",
      "__________________________________________________________________________________________________\n",
      "add_31 (Add)                    (None, 7, 7, 2048)   0           batch_normalization_129[0][0]    \n",
      "                                                                 batch_normalization_130[0][0]    \n",
      "__________________________________________________________________________________________________\n",
      "activation_98 (Activation)      (None, 7, 7, 2048)   0           add_31[0][0]                     \n",
      "__________________________________________________________________________________________________\n",
      "avg_pool (AveragePooling2D)     (None, 4, 4, 2048)   0           activation_98[0][0]              \n",
      "__________________________________________________________________________________________________\n",
      "flatten (Flatten)               (None, 32768)        0           avg_pool[0][0]                   \n",
      "__________________________________________________________________________________________________\n",
      "fc1000 (Dense)                  (None, 10)           327690      flatten[0][0]                    \n",
      "==================================================================================================\n",
      "Total params: 38,520,714\n",
      "Trainable params: 38,445,066\n",
      "Non-trainable params: 75,648\n",
      "__________________________________________________________________________________________________\n"
     ]
    }
   ],
   "source": [
    "del plain_34\n",
    "\n",
    "resnet_50 = build_resnet(input_shape=(224,224,3),is_50=True)\n",
    "resnet_50.summary()"
   ]
  },
  {
   "cell_type": "code",
   "execution_count": 12,
   "metadata": {
    "id": "5SfBuFE4dtHw"
   },
   "outputs": [
    {
     "name": "stdout",
     "output_type": "stream",
     "text": [
      "Epoch 1/15\n",
      "194/582 [=========>....................] - ETA: 3:33 - loss: 1.2802 - accuracy: 0.5126"
     ]
    },
    {
     "name": "stderr",
     "output_type": "stream",
     "text": [
      "Corrupt JPEG data: 99 extraneous bytes before marker 0xd9\n"
     ]
    },
    {
     "name": "stdout",
     "output_type": "stream",
     "text": [
      "226/582 [==========>...................] - ETA: 3:15 - loss: 1.2547 - accuracy: 0.5206"
     ]
    },
    {
     "name": "stderr",
     "output_type": "stream",
     "text": [
      "Warning: unknown JFIF revision number 0.00\n"
     ]
    },
    {
     "name": "stdout",
     "output_type": "stream",
     "text": [
      "236/582 [===========>..................] - ETA: 3:10 - loss: 1.2506 - accuracy: 0.5215"
     ]
    },
    {
     "name": "stderr",
     "output_type": "stream",
     "text": [
      "Corrupt JPEG data: 396 extraneous bytes before marker 0xd9\n"
     ]
    },
    {
     "name": "stdout",
     "output_type": "stream",
     "text": [
      "308/582 [==============>...............] - ETA: 2:30 - loss: 1.2094 - accuracy: 0.5250"
     ]
    },
    {
     "name": "stderr",
     "output_type": "stream",
     "text": [
      "Corrupt JPEG data: 65 extraneous bytes before marker 0xd9\n"
     ]
    },
    {
     "name": "stdout",
     "output_type": "stream",
     "text": [
      "516/582 [=========================>....] - ETA: 36s - loss: 1.1268 - accuracy: 0.5333"
     ]
    },
    {
     "name": "stderr",
     "output_type": "stream",
     "text": [
      "Corrupt JPEG data: 2226 extraneous bytes before marker 0xd9\n"
     ]
    },
    {
     "name": "stdout",
     "output_type": "stream",
     "text": [
      "529/582 [==========================>...] - ETA: 29s - loss: 1.1238 - accuracy: 0.5337"
     ]
    },
    {
     "name": "stderr",
     "output_type": "stream",
     "text": [
      "Corrupt JPEG data: 128 extraneous bytes before marker 0xd9\n"
     ]
    },
    {
     "name": "stdout",
     "output_type": "stream",
     "text": [
      "540/582 [==========================>...] - ETA: 23s - loss: 1.1200 - accuracy: 0.5336"
     ]
    },
    {
     "name": "stderr",
     "output_type": "stream",
     "text": [
      "Corrupt JPEG data: 239 extraneous bytes before marker 0xd9\n"
     ]
    },
    {
     "name": "stdout",
     "output_type": "stream",
     "text": [
      "567/582 [============================>.] - ETA: 8s - loss: 1.1127 - accuracy: 0.5338"
     ]
    },
    {
     "name": "stderr",
     "output_type": "stream",
     "text": [
      "Corrupt JPEG data: 1153 extraneous bytes before marker 0xd9\n"
     ]
    },
    {
     "name": "stdout",
     "output_type": "stream",
     "text": [
      "573/582 [============================>.] - ETA: 4s - loss: 1.1120 - accuracy: 0.5342"
     ]
    },
    {
     "name": "stderr",
     "output_type": "stream",
     "text": [
      "Corrupt JPEG data: 228 extraneous bytes before marker 0xd9\n"
     ]
    },
    {
     "name": "stdout",
     "output_type": "stream",
     "text": [
      "582/582 [==============================] - ETA: 0s - loss: 1.1082 - accuracy: 0.5343"
     ]
    },
    {
     "name": "stderr",
     "output_type": "stream",
     "text": [
      "Corrupt JPEG data: 162 extraneous bytes before marker 0xd9\n",
      "Corrupt JPEG data: 252 extraneous bytes before marker 0xd9\n",
      "Corrupt JPEG data: 214 extraneous bytes before marker 0xd9\n",
      "Corrupt JPEG data: 1403 extraneous bytes before marker 0xd9\n"
     ]
    },
    {
     "name": "stdout",
     "output_type": "stream",
     "text": [
      "582/582 [==============================] - 358s 594ms/step - loss: 1.1082 - accuracy: 0.5343 - val_loss: 1.0198 - val_accuracy: 0.5320\n",
      "Epoch 2/15\n",
      "194/582 [=========>....................] - ETA: 3:32 - loss: 0.9545 - accuracy: 0.5482"
     ]
    },
    {
     "name": "stderr",
     "output_type": "stream",
     "text": [
      "Corrupt JPEG data: 99 extraneous bytes before marker 0xd9\n"
     ]
    },
    {
     "name": "stdout",
     "output_type": "stream",
     "text": [
      "226/582 [==========>...................] - ETA: 3:15 - loss: 0.9520 - accuracy: 0.5447"
     ]
    },
    {
     "name": "stderr",
     "output_type": "stream",
     "text": [
      "Warning: unknown JFIF revision number 0.00\n"
     ]
    },
    {
     "name": "stdout",
     "output_type": "stream",
     "text": [
      "236/582 [===========>..................] - ETA: 3:09 - loss: 0.9533 - accuracy: 0.5457"
     ]
    },
    {
     "name": "stderr",
     "output_type": "stream",
     "text": [
      "Corrupt JPEG data: 396 extraneous bytes before marker 0xd9\n"
     ]
    },
    {
     "name": "stdout",
     "output_type": "stream",
     "text": [
      "308/582 [==============>...............] - ETA: 2:30 - loss: 0.9472 - accuracy: 0.5452"
     ]
    },
    {
     "name": "stderr",
     "output_type": "stream",
     "text": [
      "Corrupt JPEG data: 65 extraneous bytes before marker 0xd9\n"
     ]
    },
    {
     "name": "stdout",
     "output_type": "stream",
     "text": [
      "516/582 [=========================>....] - ETA: 36s - loss: 0.9288 - accuracy: 0.5500"
     ]
    },
    {
     "name": "stderr",
     "output_type": "stream",
     "text": [
      "Corrupt JPEG data: 2226 extraneous bytes before marker 0xd9\n"
     ]
    },
    {
     "name": "stdout",
     "output_type": "stream",
     "text": [
      "529/582 [==========================>...] - ETA: 29s - loss: 0.9292 - accuracy: 0.5500"
     ]
    },
    {
     "name": "stderr",
     "output_type": "stream",
     "text": [
      "Corrupt JPEG data: 128 extraneous bytes before marker 0xd9\n"
     ]
    },
    {
     "name": "stdout",
     "output_type": "stream",
     "text": [
      "540/582 [==========================>...] - ETA: 23s - loss: 0.9274 - accuracy: 0.5512"
     ]
    },
    {
     "name": "stderr",
     "output_type": "stream",
     "text": [
      "Corrupt JPEG data: 239 extraneous bytes before marker 0xd9\n"
     ]
    },
    {
     "name": "stdout",
     "output_type": "stream",
     "text": [
      "567/582 [============================>.] - ETA: 8s - loss: 0.9245 - accuracy: 0.5528"
     ]
    },
    {
     "name": "stderr",
     "output_type": "stream",
     "text": [
      "Corrupt JPEG data: 1153 extraneous bytes before marker 0xd9\n"
     ]
    },
    {
     "name": "stdout",
     "output_type": "stream",
     "text": [
      "573/582 [============================>.] - ETA: 4s - loss: 0.9248 - accuracy: 0.5527"
     ]
    },
    {
     "name": "stderr",
     "output_type": "stream",
     "text": [
      "Corrupt JPEG data: 228 extraneous bytes before marker 0xd9\n"
     ]
    },
    {
     "name": "stdout",
     "output_type": "stream",
     "text": [
      "582/582 [==============================] - ETA: 0s - loss: 0.9250 - accuracy: 0.5517"
     ]
    },
    {
     "name": "stderr",
     "output_type": "stream",
     "text": [
      "Corrupt JPEG data: 162 extraneous bytes before marker 0xd9\n",
      "Corrupt JPEG data: 252 extraneous bytes before marker 0xd9\n",
      "Corrupt JPEG data: 214 extraneous bytes before marker 0xd9\n",
      "Corrupt JPEG data: 1403 extraneous bytes before marker 0xd9\n"
     ]
    },
    {
     "name": "stdout",
     "output_type": "stream",
     "text": [
      "582/582 [==============================] - 343s 589ms/step - loss: 0.9250 - accuracy: 0.5517 - val_loss: 1.7125 - val_accuracy: 0.4989\n",
      "Epoch 3/15\n",
      "194/582 [=========>....................] - ETA: 3:32 - loss: 0.8962 - accuracy: 0.5383"
     ]
    },
    {
     "name": "stderr",
     "output_type": "stream",
     "text": [
      "Corrupt JPEG data: 99 extraneous bytes before marker 0xd9\n"
     ]
    },
    {
     "name": "stdout",
     "output_type": "stream",
     "text": [
      "226/582 [==========>...................] - ETA: 3:15 - loss: 0.8922 - accuracy: 0.5394"
     ]
    },
    {
     "name": "stderr",
     "output_type": "stream",
     "text": [
      "Warning: unknown JFIF revision number 0.00\n"
     ]
    },
    {
     "name": "stdout",
     "output_type": "stream",
     "text": [
      "236/582 [===========>..................] - ETA: 3:09 - loss: 0.8955 - accuracy: 0.5391"
     ]
    },
    {
     "name": "stderr",
     "output_type": "stream",
     "text": [
      "Corrupt JPEG data: 396 extraneous bytes before marker 0xd9\n"
     ]
    },
    {
     "name": "stdout",
     "output_type": "stream",
     "text": [
      "308/582 [==============>...............] - ETA: 2:30 - loss: 0.8878 - accuracy: 0.5431"
     ]
    },
    {
     "name": "stderr",
     "output_type": "stream",
     "text": [
      "Corrupt JPEG data: 65 extraneous bytes before marker 0xd9\n"
     ]
    },
    {
     "name": "stdout",
     "output_type": "stream",
     "text": [
      "516/582 [=========================>....] - ETA: 36s - loss: 0.8647 - accuracy: 0.5510"
     ]
    },
    {
     "name": "stderr",
     "output_type": "stream",
     "text": [
      "Corrupt JPEG data: 2226 extraneous bytes before marker 0xd9\n"
     ]
    },
    {
     "name": "stdout",
     "output_type": "stream",
     "text": [
      "529/582 [==========================>...] - ETA: 29s - loss: 0.8652 - accuracy: 0.5508"
     ]
    },
    {
     "name": "stderr",
     "output_type": "stream",
     "text": [
      "Corrupt JPEG data: 128 extraneous bytes before marker 0xd9\n"
     ]
    },
    {
     "name": "stdout",
     "output_type": "stream",
     "text": [
      "540/582 [==========================>...] - ETA: 23s - loss: 0.8638 - accuracy: 0.5504"
     ]
    },
    {
     "name": "stderr",
     "output_type": "stream",
     "text": [
      "Corrupt JPEG data: 239 extraneous bytes before marker 0xd9\n"
     ]
    },
    {
     "name": "stdout",
     "output_type": "stream",
     "text": [
      "567/582 [============================>.] - ETA: 8s - loss: 0.8652 - accuracy: 0.5486"
     ]
    },
    {
     "name": "stderr",
     "output_type": "stream",
     "text": [
      "Corrupt JPEG data: 1153 extraneous bytes before marker 0xd9\n"
     ]
    },
    {
     "name": "stdout",
     "output_type": "stream",
     "text": [
      "573/582 [============================>.] - ETA: 4s - loss: 0.8652 - accuracy: 0.5482"
     ]
    },
    {
     "name": "stderr",
     "output_type": "stream",
     "text": [
      "Corrupt JPEG data: 228 extraneous bytes before marker 0xd9\n"
     ]
    },
    {
     "name": "stdout",
     "output_type": "stream",
     "text": [
      "582/582 [==============================] - ETA: 0s - loss: 0.8644 - accuracy: 0.5481"
     ]
    },
    {
     "name": "stderr",
     "output_type": "stream",
     "text": [
      "Corrupt JPEG data: 162 extraneous bytes before marker 0xd9\n",
      "Corrupt JPEG data: 252 extraneous bytes before marker 0xd9\n",
      "Corrupt JPEG data: 214 extraneous bytes before marker 0xd9\n",
      "Corrupt JPEG data: 1403 extraneous bytes before marker 0xd9\n"
     ]
    },
    {
     "name": "stdout",
     "output_type": "stream",
     "text": [
      "582/582 [==============================] - 343s 589ms/step - loss: 0.8644 - accuracy: 0.5481 - val_loss: 1.2765 - val_accuracy: 0.5178\n",
      "Epoch 4/15\n",
      "194/582 [=========>....................] - ETA: 3:32 - loss: 0.8387 - accuracy: 0.5544"
     ]
    },
    {
     "name": "stderr",
     "output_type": "stream",
     "text": [
      "Corrupt JPEG data: 99 extraneous bytes before marker 0xd9\n"
     ]
    },
    {
     "name": "stdout",
     "output_type": "stream",
     "text": [
      "226/582 [==========>...................] - ETA: 3:15 - loss: 0.8414 - accuracy: 0.5531"
     ]
    },
    {
     "name": "stderr",
     "output_type": "stream",
     "text": [
      "Warning: unknown JFIF revision number 0.00\n"
     ]
    },
    {
     "name": "stdout",
     "output_type": "stream",
     "text": [
      "236/582 [===========>..................] - ETA: 3:09 - loss: 0.8446 - accuracy: 0.5532"
     ]
    },
    {
     "name": "stderr",
     "output_type": "stream",
     "text": [
      "Corrupt JPEG data: 396 extraneous bytes before marker 0xd9\n"
     ]
    },
    {
     "name": "stdout",
     "output_type": "stream",
     "text": [
      "308/582 [==============>...............] - ETA: 2:30 - loss: 0.8444 - accuracy: 0.5542"
     ]
    },
    {
     "name": "stderr",
     "output_type": "stream",
     "text": [
      "Corrupt JPEG data: 65 extraneous bytes before marker 0xd9\n"
     ]
    },
    {
     "name": "stdout",
     "output_type": "stream",
     "text": [
      "516/582 [=========================>....] - ETA: 36s - loss: 0.8334 - accuracy: 0.5586"
     ]
    },
    {
     "name": "stderr",
     "output_type": "stream",
     "text": [
      "Corrupt JPEG data: 2226 extraneous bytes before marker 0xd9\n"
     ]
    },
    {
     "name": "stdout",
     "output_type": "stream",
     "text": [
      "529/582 [==========================>...] - ETA: 29s - loss: 0.8333 - accuracy: 0.5589"
     ]
    },
    {
     "name": "stderr",
     "output_type": "stream",
     "text": [
      "Corrupt JPEG data: 128 extraneous bytes before marker 0xd9\n"
     ]
    },
    {
     "name": "stdout",
     "output_type": "stream",
     "text": [
      "540/582 [==========================>...] - ETA: 23s - loss: 0.8326 - accuracy: 0.5598"
     ]
    },
    {
     "name": "stderr",
     "output_type": "stream",
     "text": [
      "Corrupt JPEG data: 239 extraneous bytes before marker 0xd9\n"
     ]
    },
    {
     "name": "stdout",
     "output_type": "stream",
     "text": [
      "567/582 [============================>.] - ETA: 8s - loss: 0.8319 - accuracy: 0.5600"
     ]
    },
    {
     "name": "stderr",
     "output_type": "stream",
     "text": [
      "Corrupt JPEG data: 1153 extraneous bytes before marker 0xd9\n"
     ]
    },
    {
     "name": "stdout",
     "output_type": "stream",
     "text": [
      "573/582 [============================>.] - ETA: 4s - loss: 0.8325 - accuracy: 0.5601"
     ]
    },
    {
     "name": "stderr",
     "output_type": "stream",
     "text": [
      "Corrupt JPEG data: 228 extraneous bytes before marker 0xd9\n"
     ]
    },
    {
     "name": "stdout",
     "output_type": "stream",
     "text": [
      "582/582 [==============================] - ETA: 0s - loss: 0.8330 - accuracy: 0.5596"
     ]
    },
    {
     "name": "stderr",
     "output_type": "stream",
     "text": [
      "Corrupt JPEG data: 162 extraneous bytes before marker 0xd9\n",
      "Corrupt JPEG data: 252 extraneous bytes before marker 0xd9\n",
      "Corrupt JPEG data: 214 extraneous bytes before marker 0xd9\n",
      "Corrupt JPEG data: 1403 extraneous bytes before marker 0xd9\n"
     ]
    },
    {
     "name": "stdout",
     "output_type": "stream",
     "text": [
      "582/582 [==============================] - 343s 589ms/step - loss: 0.8330 - accuracy: 0.5596 - val_loss: 1.1146 - val_accuracy: 0.5041\n",
      "Epoch 5/15\n",
      "194/582 [=========>....................] - ETA: 3:33 - loss: 0.8253 - accuracy: 0.5606"
     ]
    },
    {
     "name": "stderr",
     "output_type": "stream",
     "text": [
      "Corrupt JPEG data: 99 extraneous bytes before marker 0xd9\n"
     ]
    },
    {
     "name": "stdout",
     "output_type": "stream",
     "text": [
      "226/582 [==========>...................] - ETA: 3:15 - loss: 0.8296 - accuracy: 0.5584"
     ]
    },
    {
     "name": "stderr",
     "output_type": "stream",
     "text": [
      "Warning: unknown JFIF revision number 0.00\n"
     ]
    },
    {
     "name": "stdout",
     "output_type": "stream",
     "text": [
      "236/582 [===========>..................] - ETA: 3:09 - loss: 0.8339 - accuracy: 0.5561"
     ]
    },
    {
     "name": "stderr",
     "output_type": "stream",
     "text": [
      "Corrupt JPEG data: 396 extraneous bytes before marker 0xd9\n"
     ]
    },
    {
     "name": "stdout",
     "output_type": "stream",
     "text": [
      "308/582 [==============>...............] - ETA: 2:30 - loss: 0.8334 - accuracy: 0.5561"
     ]
    },
    {
     "name": "stderr",
     "output_type": "stream",
     "text": [
      "Corrupt JPEG data: 65 extraneous bytes before marker 0xd9\n"
     ]
    },
    {
     "name": "stdout",
     "output_type": "stream",
     "text": [
      "516/582 [=========================>....] - ETA: 36s - loss: 0.8297 - accuracy: 0.5589"
     ]
    },
    {
     "name": "stderr",
     "output_type": "stream",
     "text": [
      "Corrupt JPEG data: 2226 extraneous bytes before marker 0xd9\n"
     ]
    },
    {
     "name": "stdout",
     "output_type": "stream",
     "text": [
      "529/582 [==========================>...] - ETA: 29s - loss: 0.8292 - accuracy: 0.5594"
     ]
    },
    {
     "name": "stderr",
     "output_type": "stream",
     "text": [
      "Corrupt JPEG data: 128 extraneous bytes before marker 0xd9\n"
     ]
    },
    {
     "name": "stdout",
     "output_type": "stream",
     "text": [
      "540/582 [==========================>...] - ETA: 23s - loss: 0.8285 - accuracy: 0.5591"
     ]
    },
    {
     "name": "stderr",
     "output_type": "stream",
     "text": [
      "Corrupt JPEG data: 239 extraneous bytes before marker 0xd9\n"
     ]
    },
    {
     "name": "stdout",
     "output_type": "stream",
     "text": [
      "567/582 [============================>.] - ETA: 8s - loss: 0.8286 - accuracy: 0.5600"
     ]
    },
    {
     "name": "stderr",
     "output_type": "stream",
     "text": [
      "Corrupt JPEG data: 1153 extraneous bytes before marker 0xd9\n"
     ]
    },
    {
     "name": "stdout",
     "output_type": "stream",
     "text": [
      "573/582 [============================>.] - ETA: 4s - loss: 0.8275 - accuracy: 0.5608"
     ]
    },
    {
     "name": "stderr",
     "output_type": "stream",
     "text": [
      "Corrupt JPEG data: 228 extraneous bytes before marker 0xd9\n"
     ]
    },
    {
     "name": "stdout",
     "output_type": "stream",
     "text": [
      "582/582 [==============================] - ETA: 0s - loss: 0.8274 - accuracy: 0.5605"
     ]
    },
    {
     "name": "stderr",
     "output_type": "stream",
     "text": [
      "Corrupt JPEG data: 162 extraneous bytes before marker 0xd9\n",
      "Corrupt JPEG data: 252 extraneous bytes before marker 0xd9\n",
      "Corrupt JPEG data: 214 extraneous bytes before marker 0xd9\n",
      "Corrupt JPEG data: 1403 extraneous bytes before marker 0xd9\n"
     ]
    },
    {
     "name": "stdout",
     "output_type": "stream",
     "text": [
      "582/582 [==============================] - 343s 589ms/step - loss: 0.8274 - accuracy: 0.5605 - val_loss: 1.0503 - val_accuracy: 0.5320\n",
      "Epoch 6/15\n",
      "194/582 [=========>....................] - ETA: 3:33 - loss: 0.8333 - accuracy: 0.5535"
     ]
    },
    {
     "name": "stderr",
     "output_type": "stream",
     "text": [
      "Corrupt JPEG data: 99 extraneous bytes before marker 0xd9\n"
     ]
    },
    {
     "name": "stdout",
     "output_type": "stream",
     "text": [
      "226/582 [==========>...................] - ETA: 3:15 - loss: 0.8359 - accuracy: 0.5525"
     ]
    },
    {
     "name": "stderr",
     "output_type": "stream",
     "text": [
      "Warning: unknown JFIF revision number 0.00\n"
     ]
    },
    {
     "name": "stdout",
     "output_type": "stream",
     "text": [
      "236/582 [===========>..................] - ETA: 3:10 - loss: 0.8397 - accuracy: 0.5503"
     ]
    },
    {
     "name": "stderr",
     "output_type": "stream",
     "text": [
      "Corrupt JPEG data: 396 extraneous bytes before marker 0xd9\n"
     ]
    },
    {
     "name": "stdout",
     "output_type": "stream",
     "text": [
      "308/582 [==============>...............] - ETA: 2:30 - loss: 0.8427 - accuracy: 0.5446"
     ]
    },
    {
     "name": "stderr",
     "output_type": "stream",
     "text": [
      "Corrupt JPEG data: 65 extraneous bytes before marker 0xd9\n"
     ]
    },
    {
     "name": "stdout",
     "output_type": "stream",
     "text": [
      "516/582 [=========================>....] - ETA: 36s - loss: 0.8322 - accuracy: 0.5499"
     ]
    },
    {
     "name": "stderr",
     "output_type": "stream",
     "text": [
      "Corrupt JPEG data: 2226 extraneous bytes before marker 0xd9\n"
     ]
    },
    {
     "name": "stdout",
     "output_type": "stream",
     "text": [
      "529/582 [==========================>...] - ETA: 29s - loss: 0.8311 - accuracy: 0.5508"
     ]
    },
    {
     "name": "stderr",
     "output_type": "stream",
     "text": [
      "Corrupt JPEG data: 128 extraneous bytes before marker 0xd9\n"
     ]
    },
    {
     "name": "stdout",
     "output_type": "stream",
     "text": [
      "540/582 [==========================>...] - ETA: 23s - loss: 0.8309 - accuracy: 0.5504"
     ]
    },
    {
     "name": "stderr",
     "output_type": "stream",
     "text": [
      "Corrupt JPEG data: 239 extraneous bytes before marker 0xd9\n"
     ]
    },
    {
     "name": "stdout",
     "output_type": "stream",
     "text": [
      "567/582 [============================>.] - ETA: 8s - loss: 0.8308 - accuracy: 0.5502"
     ]
    },
    {
     "name": "stderr",
     "output_type": "stream",
     "text": [
      "Corrupt JPEG data: 1153 extraneous bytes before marker 0xd9\n"
     ]
    },
    {
     "name": "stdout",
     "output_type": "stream",
     "text": [
      "573/582 [============================>.] - ETA: 4s - loss: 0.8310 - accuracy: 0.5501"
     ]
    },
    {
     "name": "stderr",
     "output_type": "stream",
     "text": [
      "Corrupt JPEG data: 228 extraneous bytes before marker 0xd9\n"
     ]
    },
    {
     "name": "stdout",
     "output_type": "stream",
     "text": [
      "582/582 [==============================] - ETA: 0s - loss: 0.8319 - accuracy: 0.5488"
     ]
    },
    {
     "name": "stderr",
     "output_type": "stream",
     "text": [
      "Corrupt JPEG data: 162 extraneous bytes before marker 0xd9\n",
      "Corrupt JPEG data: 252 extraneous bytes before marker 0xd9\n",
      "Corrupt JPEG data: 214 extraneous bytes before marker 0xd9\n",
      "Corrupt JPEG data: 1403 extraneous bytes before marker 0xd9\n"
     ]
    },
    {
     "name": "stdout",
     "output_type": "stream",
     "text": [
      "582/582 [==============================] - 344s 590ms/step - loss: 0.8319 - accuracy: 0.5488 - val_loss: 3.0297 - val_accuracy: 0.4886\n",
      "Epoch 7/15\n",
      "194/582 [=========>....................] - ETA: 3:33 - loss: 0.8245 - accuracy: 0.5557"
     ]
    },
    {
     "name": "stderr",
     "output_type": "stream",
     "text": [
      "Corrupt JPEG data: 99 extraneous bytes before marker 0xd9\n"
     ]
    },
    {
     "name": "stdout",
     "output_type": "stream",
     "text": [
      "226/582 [==========>...................] - ETA: 3:15 - loss: 0.8293 - accuracy: 0.5531"
     ]
    },
    {
     "name": "stderr",
     "output_type": "stream",
     "text": [
      "Warning: unknown JFIF revision number 0.00\n"
     ]
    },
    {
     "name": "stdout",
     "output_type": "stream",
     "text": [
      "236/582 [===========>..................] - ETA: 3:10 - loss: 0.8328 - accuracy: 0.5507"
     ]
    },
    {
     "name": "stderr",
     "output_type": "stream",
     "text": [
      "Corrupt JPEG data: 396 extraneous bytes before marker 0xd9\n"
     ]
    },
    {
     "name": "stdout",
     "output_type": "stream",
     "text": [
      "308/582 [==============>...............] - ETA: 2:30 - loss: 0.8316 - accuracy: 0.5476"
     ]
    },
    {
     "name": "stderr",
     "output_type": "stream",
     "text": [
      "Corrupt JPEG data: 65 extraneous bytes before marker 0xd9\n"
     ]
    },
    {
     "name": "stdout",
     "output_type": "stream",
     "text": [
      "516/582 [=========================>....] - ETA: 36s - loss: 0.8211 - accuracy: 0.5505"
     ]
    },
    {
     "name": "stderr",
     "output_type": "stream",
     "text": [
      "Corrupt JPEG data: 2226 extraneous bytes before marker 0xd9\n"
     ]
    },
    {
     "name": "stdout",
     "output_type": "stream",
     "text": [
      "529/582 [==========================>...] - ETA: 29s - loss: 0.8215 - accuracy: 0.5511"
     ]
    },
    {
     "name": "stderr",
     "output_type": "stream",
     "text": [
      "Corrupt JPEG data: 128 extraneous bytes before marker 0xd9\n"
     ]
    },
    {
     "name": "stdout",
     "output_type": "stream",
     "text": [
      "540/582 [==========================>...] - ETA: 23s - loss: 0.8213 - accuracy: 0.5512"
     ]
    },
    {
     "name": "stderr",
     "output_type": "stream",
     "text": [
      "Corrupt JPEG data: 239 extraneous bytes before marker 0xd9\n"
     ]
    },
    {
     "name": "stdout",
     "output_type": "stream",
     "text": [
      "567/582 [============================>.] - ETA: 8s - loss: 0.8208 - accuracy: 0.5515"
     ]
    },
    {
     "name": "stderr",
     "output_type": "stream",
     "text": [
      "Corrupt JPEG data: 1153 extraneous bytes before marker 0xd9\n"
     ]
    },
    {
     "name": "stdout",
     "output_type": "stream",
     "text": [
      "573/582 [============================>.] - ETA: 4s - loss: 0.8203 - accuracy: 0.5517"
     ]
    },
    {
     "name": "stderr",
     "output_type": "stream",
     "text": [
      "Corrupt JPEG data: 228 extraneous bytes before marker 0xd9\n"
     ]
    },
    {
     "name": "stdout",
     "output_type": "stream",
     "text": [
      "582/582 [==============================] - ETA: 0s - loss: 0.8214 - accuracy: 0.5512"
     ]
    },
    {
     "name": "stderr",
     "output_type": "stream",
     "text": [
      "Corrupt JPEG data: 162 extraneous bytes before marker 0xd9\n",
      "Corrupt JPEG data: 252 extraneous bytes before marker 0xd9\n",
      "Corrupt JPEG data: 214 extraneous bytes before marker 0xd9\n",
      "Corrupt JPEG data: 1403 extraneous bytes before marker 0xd9\n"
     ]
    },
    {
     "name": "stdout",
     "output_type": "stream",
     "text": [
      "582/582 [==============================] - 343s 589ms/step - loss: 0.8214 - accuracy: 0.5512 - val_loss: 1.2392 - val_accuracy: 0.5301\n",
      "Epoch 8/15\n",
      "194/582 [=========>....................] - ETA: 3:33 - loss: 0.8234 - accuracy: 0.5609"
     ]
    },
    {
     "name": "stderr",
     "output_type": "stream",
     "text": [
      "Corrupt JPEG data: 99 extraneous bytes before marker 0xd9\n"
     ]
    },
    {
     "name": "stdout",
     "output_type": "stream",
     "text": [
      "226/582 [==========>...................] - ETA: 3:15 - loss: 0.8212 - accuracy: 0.5610"
     ]
    },
    {
     "name": "stderr",
     "output_type": "stream",
     "text": [
      "Warning: unknown JFIF revision number 0.00\n"
     ]
    },
    {
     "name": "stdout",
     "output_type": "stream",
     "text": [
      "236/582 [===========>..................] - ETA: 3:10 - loss: 0.8261 - accuracy: 0.5576"
     ]
    },
    {
     "name": "stderr",
     "output_type": "stream",
     "text": [
      "Corrupt JPEG data: 396 extraneous bytes before marker 0xd9\n"
     ]
    },
    {
     "name": "stdout",
     "output_type": "stream",
     "text": [
      "308/582 [==============>...............] - ETA: 2:30 - loss: 0.8234 - accuracy: 0.5554"
     ]
    },
    {
     "name": "stderr",
     "output_type": "stream",
     "text": [
      "Corrupt JPEG data: 65 extraneous bytes before marker 0xd9\n"
     ]
    },
    {
     "name": "stdout",
     "output_type": "stream",
     "text": [
      "516/582 [=========================>....] - ETA: 36s - loss: 0.8207 - accuracy: 0.5553"
     ]
    },
    {
     "name": "stderr",
     "output_type": "stream",
     "text": [
      "Corrupt JPEG data: 2226 extraneous bytes before marker 0xd9\n"
     ]
    },
    {
     "name": "stdout",
     "output_type": "stream",
     "text": [
      "529/582 [==========================>...] - ETA: 29s - loss: 0.8208 - accuracy: 0.5550"
     ]
    },
    {
     "name": "stderr",
     "output_type": "stream",
     "text": [
      "Corrupt JPEG data: 128 extraneous bytes before marker 0xd9\n"
     ]
    },
    {
     "name": "stdout",
     "output_type": "stream",
     "text": [
      "540/582 [==========================>...] - ETA: 23s - loss: 0.8212 - accuracy: 0.5554"
     ]
    },
    {
     "name": "stderr",
     "output_type": "stream",
     "text": [
      "Corrupt JPEG data: 239 extraneous bytes before marker 0xd9\n"
     ]
    },
    {
     "name": "stdout",
     "output_type": "stream",
     "text": [
      "567/582 [============================>.] - ETA: 8s - loss: 0.8226 - accuracy: 0.5555"
     ]
    },
    {
     "name": "stderr",
     "output_type": "stream",
     "text": [
      "Corrupt JPEG data: 1153 extraneous bytes before marker 0xd9\n"
     ]
    },
    {
     "name": "stdout",
     "output_type": "stream",
     "text": [
      "573/582 [============================>.] - ETA: 4s - loss: 0.8223 - accuracy: 0.5555"
     ]
    },
    {
     "name": "stderr",
     "output_type": "stream",
     "text": [
      "Corrupt JPEG data: 228 extraneous bytes before marker 0xd9\n"
     ]
    },
    {
     "name": "stdout",
     "output_type": "stream",
     "text": [
      "582/582 [==============================] - ETA: 0s - loss: 0.8236 - accuracy: 0.5550"
     ]
    },
    {
     "name": "stderr",
     "output_type": "stream",
     "text": [
      "Corrupt JPEG data: 162 extraneous bytes before marker 0xd9\n",
      "Corrupt JPEG data: 252 extraneous bytes before marker 0xd9\n",
      "Corrupt JPEG data: 214 extraneous bytes before marker 0xd9\n",
      "Corrupt JPEG data: 1403 extraneous bytes before marker 0xd9\n"
     ]
    },
    {
     "name": "stdout",
     "output_type": "stream",
     "text": [
      "582/582 [==============================] - 361s 620ms/step - loss: 0.8236 - accuracy: 0.5550 - val_loss: 0.8410 - val_accuracy: 0.5221\n",
      "Epoch 9/15\n",
      "194/582 [=========>....................] - ETA: 3:33 - loss: 0.8317 - accuracy: 0.5491"
     ]
    },
    {
     "name": "stderr",
     "output_type": "stream",
     "text": [
      "Corrupt JPEG data: 99 extraneous bytes before marker 0xd9\n"
     ]
    },
    {
     "name": "stdout",
     "output_type": "stream",
     "text": [
      "226/582 [==========>...................] - ETA: 3:15 - loss: 0.8295 - accuracy: 0.5505"
     ]
    },
    {
     "name": "stderr",
     "output_type": "stream",
     "text": [
      "Warning: unknown JFIF revision number 0.00\n"
     ]
    },
    {
     "name": "stdout",
     "output_type": "stream",
     "text": [
      "236/582 [===========>..................] - ETA: 3:10 - loss: 0.8321 - accuracy: 0.5501"
     ]
    },
    {
     "name": "stderr",
     "output_type": "stream",
     "text": [
      "Corrupt JPEG data: 396 extraneous bytes before marker 0xd9\n"
     ]
    },
    {
     "name": "stdout",
     "output_type": "stream",
     "text": [
      "308/582 [==============>...............] - ETA: 2:30 - loss: 0.8250 - accuracy: 0.5508"
     ]
    },
    {
     "name": "stderr",
     "output_type": "stream",
     "text": [
      "Corrupt JPEG data: 65 extraneous bytes before marker 0xd9\n"
     ]
    },
    {
     "name": "stdout",
     "output_type": "stream",
     "text": [
      "516/582 [=========================>....] - ETA: 36s - loss: 0.8137 - accuracy: 0.5527"
     ]
    },
    {
     "name": "stderr",
     "output_type": "stream",
     "text": [
      "Corrupt JPEG data: 2226 extraneous bytes before marker 0xd9\n"
     ]
    },
    {
     "name": "stdout",
     "output_type": "stream",
     "text": [
      "529/582 [==========================>...] - ETA: 29s - loss: 0.8129 - accuracy: 0.5535"
     ]
    },
    {
     "name": "stderr",
     "output_type": "stream",
     "text": [
      "Corrupt JPEG data: 128 extraneous bytes before marker 0xd9\n"
     ]
    },
    {
     "name": "stdout",
     "output_type": "stream",
     "text": [
      "540/582 [==========================>...] - ETA: 23s - loss: 0.8136 - accuracy: 0.5529"
     ]
    },
    {
     "name": "stderr",
     "output_type": "stream",
     "text": [
      "Corrupt JPEG data: 239 extraneous bytes before marker 0xd9\n"
     ]
    },
    {
     "name": "stdout",
     "output_type": "stream",
     "text": [
      "567/582 [============================>.] - ETA: 8s - loss: 0.8123 - accuracy: 0.5534"
     ]
    },
    {
     "name": "stderr",
     "output_type": "stream",
     "text": [
      "Corrupt JPEG data: 1153 extraneous bytes before marker 0xd9\n"
     ]
    },
    {
     "name": "stdout",
     "output_type": "stream",
     "text": [
      "573/582 [============================>.] - ETA: 4s - loss: 0.8120 - accuracy: 0.5536"
     ]
    },
    {
     "name": "stderr",
     "output_type": "stream",
     "text": [
      "Corrupt JPEG data: 228 extraneous bytes before marker 0xd9\n"
     ]
    },
    {
     "name": "stdout",
     "output_type": "stream",
     "text": [
      "582/582 [==============================] - ETA: 0s - loss: 0.8124 - accuracy: 0.5528"
     ]
    },
    {
     "name": "stderr",
     "output_type": "stream",
     "text": [
      "Corrupt JPEG data: 162 extraneous bytes before marker 0xd9\n",
      "Corrupt JPEG data: 252 extraneous bytes before marker 0xd9\n",
      "Corrupt JPEG data: 214 extraneous bytes before marker 0xd9\n",
      "Corrupt JPEG data: 1403 extraneous bytes before marker 0xd9\n"
     ]
    },
    {
     "name": "stdout",
     "output_type": "stream",
     "text": [
      "582/582 [==============================] - 343s 589ms/step - loss: 0.8124 - accuracy: 0.5528 - val_loss: 0.8669 - val_accuracy: 0.5555\n",
      "Epoch 10/15\n",
      "194/582 [=========>....................] - ETA: 3:33 - loss: 0.8051 - accuracy: 0.5559"
     ]
    },
    {
     "name": "stderr",
     "output_type": "stream",
     "text": [
      "Corrupt JPEG data: 99 extraneous bytes before marker 0xd9\n"
     ]
    },
    {
     "name": "stdout",
     "output_type": "stream",
     "text": [
      "226/582 [==========>...................] - ETA: 3:15 - loss: 0.8122 - accuracy: 0.5519"
     ]
    },
    {
     "name": "stderr",
     "output_type": "stream",
     "text": [
      "Warning: unknown JFIF revision number 0.00\n"
     ]
    },
    {
     "name": "stdout",
     "output_type": "stream",
     "text": [
      "236/582 [===========>..................] - ETA: 3:10 - loss: 0.8171 - accuracy: 0.5518"
     ]
    },
    {
     "name": "stderr",
     "output_type": "stream",
     "text": [
      "Corrupt JPEG data: 396 extraneous bytes before marker 0xd9\n"
     ]
    },
    {
     "name": "stdout",
     "output_type": "stream",
     "text": [
      "308/582 [==============>...............] - ETA: 2:30 - loss: 0.8217 - accuracy: 0.5493"
     ]
    },
    {
     "name": "stderr",
     "output_type": "stream",
     "text": [
      "Corrupt JPEG data: 65 extraneous bytes before marker 0xd9\n"
     ]
    },
    {
     "name": "stdout",
     "output_type": "stream",
     "text": [
      "516/582 [=========================>....] - ETA: 36s - loss: 0.8172 - accuracy: 0.5470"
     ]
    },
    {
     "name": "stderr",
     "output_type": "stream",
     "text": [
      "Corrupt JPEG data: 2226 extraneous bytes before marker 0xd9\n"
     ]
    },
    {
     "name": "stdout",
     "output_type": "stream",
     "text": [
      "529/582 [==========================>...] - ETA: 29s - loss: 0.8167 - accuracy: 0.5467"
     ]
    },
    {
     "name": "stderr",
     "output_type": "stream",
     "text": [
      "Corrupt JPEG data: 128 extraneous bytes before marker 0xd9\n"
     ]
    },
    {
     "name": "stdout",
     "output_type": "stream",
     "text": [
      "540/582 [==========================>...] - ETA: 23s - loss: 0.8182 - accuracy: 0.5473"
     ]
    },
    {
     "name": "stderr",
     "output_type": "stream",
     "text": [
      "Corrupt JPEG data: 239 extraneous bytes before marker 0xd9\n"
     ]
    },
    {
     "name": "stdout",
     "output_type": "stream",
     "text": [
      "567/582 [============================>.] - ETA: 8s - loss: 0.8161 - accuracy: 0.5481"
     ]
    },
    {
     "name": "stderr",
     "output_type": "stream",
     "text": [
      "Corrupt JPEG data: 1153 extraneous bytes before marker 0xd9\n"
     ]
    },
    {
     "name": "stdout",
     "output_type": "stream",
     "text": [
      "573/582 [============================>.] - ETA: 4s - loss: 0.8154 - accuracy: 0.5485"
     ]
    },
    {
     "name": "stderr",
     "output_type": "stream",
     "text": [
      "Corrupt JPEG data: 228 extraneous bytes before marker 0xd9\n"
     ]
    },
    {
     "name": "stdout",
     "output_type": "stream",
     "text": [
      "582/582 [==============================] - ETA: 0s - loss: 0.8154 - accuracy: 0.5479"
     ]
    },
    {
     "name": "stderr",
     "output_type": "stream",
     "text": [
      "Corrupt JPEG data: 162 extraneous bytes before marker 0xd9\n",
      "Corrupt JPEG data: 252 extraneous bytes before marker 0xd9\n",
      "Corrupt JPEG data: 214 extraneous bytes before marker 0xd9\n",
      "Corrupt JPEG data: 1403 extraneous bytes before marker 0xd9\n"
     ]
    },
    {
     "name": "stdout",
     "output_type": "stream",
     "text": [
      "582/582 [==============================] - 343s 590ms/step - loss: 0.8154 - accuracy: 0.5479 - val_loss: 1.1649 - val_accuracy: 0.5159\n",
      "Epoch 11/15\n",
      "194/582 [=========>....................] - ETA: 3:33 - loss: 0.8201 - accuracy: 0.5507"
     ]
    },
    {
     "name": "stderr",
     "output_type": "stream",
     "text": [
      "Corrupt JPEG data: 99 extraneous bytes before marker 0xd9\n"
     ]
    },
    {
     "name": "stdout",
     "output_type": "stream",
     "text": [
      "226/582 [==========>...................] - ETA: 3:15 - loss: 0.8198 - accuracy: 0.5483"
     ]
    },
    {
     "name": "stderr",
     "output_type": "stream",
     "text": [
      "Warning: unknown JFIF revision number 0.00\n"
     ]
    },
    {
     "name": "stdout",
     "output_type": "stream",
     "text": [
      "236/582 [===========>..................] - ETA: 3:10 - loss: 0.8218 - accuracy: 0.5477"
     ]
    },
    {
     "name": "stderr",
     "output_type": "stream",
     "text": [
      "Corrupt JPEG data: 396 extraneous bytes before marker 0xd9\n"
     ]
    },
    {
     "name": "stdout",
     "output_type": "stream",
     "text": [
      "308/582 [==============>...............] - ETA: 2:30 - loss: 0.8172 - accuracy: 0.5486"
     ]
    },
    {
     "name": "stderr",
     "output_type": "stream",
     "text": [
      "Corrupt JPEG data: 65 extraneous bytes before marker 0xd9\n"
     ]
    },
    {
     "name": "stdout",
     "output_type": "stream",
     "text": [
      "516/582 [=========================>....] - ETA: 36s - loss: 0.8110 - accuracy: 0.5481"
     ]
    },
    {
     "name": "stderr",
     "output_type": "stream",
     "text": [
      "Corrupt JPEG data: 2226 extraneous bytes before marker 0xd9\n"
     ]
    },
    {
     "name": "stdout",
     "output_type": "stream",
     "text": [
      "529/582 [==========================>...] - ETA: 29s - loss: 0.8103 - accuracy: 0.5487"
     ]
    },
    {
     "name": "stderr",
     "output_type": "stream",
     "text": [
      "Corrupt JPEG data: 128 extraneous bytes before marker 0xd9\n"
     ]
    },
    {
     "name": "stdout",
     "output_type": "stream",
     "text": [
      "540/582 [==========================>...] - ETA: 23s - loss: 0.8127 - accuracy: 0.5481"
     ]
    },
    {
     "name": "stderr",
     "output_type": "stream",
     "text": [
      "Corrupt JPEG data: 239 extraneous bytes before marker 0xd9\n"
     ]
    },
    {
     "name": "stdout",
     "output_type": "stream",
     "text": [
      "567/582 [============================>.] - ETA: 8s - loss: 0.8100 - accuracy: 0.5505"
     ]
    },
    {
     "name": "stderr",
     "output_type": "stream",
     "text": [
      "Corrupt JPEG data: 1153 extraneous bytes before marker 0xd9\n"
     ]
    },
    {
     "name": "stdout",
     "output_type": "stream",
     "text": [
      "573/582 [============================>.] - ETA: 4s - loss: 0.8104 - accuracy: 0.5502"
     ]
    },
    {
     "name": "stderr",
     "output_type": "stream",
     "text": [
      "Corrupt JPEG data: 228 extraneous bytes before marker 0xd9\n"
     ]
    },
    {
     "name": "stdout",
     "output_type": "stream",
     "text": [
      "582/582 [==============================] - ETA: 0s - loss: 0.8104 - accuracy: 0.5498"
     ]
    },
    {
     "name": "stderr",
     "output_type": "stream",
     "text": [
      "Corrupt JPEG data: 162 extraneous bytes before marker 0xd9\n",
      "Corrupt JPEG data: 252 extraneous bytes before marker 0xd9\n",
      "Corrupt JPEG data: 214 extraneous bytes before marker 0xd9\n",
      "Corrupt JPEG data: 1403 extraneous bytes before marker 0xd9\n"
     ]
    },
    {
     "name": "stdout",
     "output_type": "stream",
     "text": [
      "582/582 [==============================] - 343s 590ms/step - loss: 0.8104 - accuracy: 0.5498 - val_loss: 0.8436 - val_accuracy: 0.5462\n",
      "Epoch 12/15\n",
      "194/582 [=========>....................] - ETA: 3:33 - loss: 0.7845 - accuracy: 0.5609"
     ]
    },
    {
     "name": "stderr",
     "output_type": "stream",
     "text": [
      "Corrupt JPEG data: 99 extraneous bytes before marker 0xd9\n"
     ]
    },
    {
     "name": "stdout",
     "output_type": "stream",
     "text": [
      "226/582 [==========>...................] - ETA: 3:15 - loss: 0.7897 - accuracy: 0.5575"
     ]
    },
    {
     "name": "stderr",
     "output_type": "stream",
     "text": [
      "Warning: unknown JFIF revision number 0.00\n"
     ]
    },
    {
     "name": "stdout",
     "output_type": "stream",
     "text": [
      "236/582 [===========>..................] - ETA: 3:10 - loss: 0.7911 - accuracy: 0.5589"
     ]
    },
    {
     "name": "stderr",
     "output_type": "stream",
     "text": [
      "Corrupt JPEG data: 396 extraneous bytes before marker 0xd9\n"
     ]
    },
    {
     "name": "stdout",
     "output_type": "stream",
     "text": [
      "308/582 [==============>...............] - ETA: 2:30 - loss: 0.7926 - accuracy: 0.5606"
     ]
    },
    {
     "name": "stderr",
     "output_type": "stream",
     "text": [
      "Corrupt JPEG data: 65 extraneous bytes before marker 0xd9\n"
     ]
    },
    {
     "name": "stdout",
     "output_type": "stream",
     "text": [
      "516/582 [=========================>....] - ETA: 36s - loss: 0.7933 - accuracy: 0.5602"
     ]
    },
    {
     "name": "stderr",
     "output_type": "stream",
     "text": [
      "Corrupt JPEG data: 2226 extraneous bytes before marker 0xd9\n"
     ]
    },
    {
     "name": "stdout",
     "output_type": "stream",
     "text": [
      "529/582 [==========================>...] - ETA: 29s - loss: 0.7939 - accuracy: 0.5593"
     ]
    },
    {
     "name": "stderr",
     "output_type": "stream",
     "text": [
      "Corrupt JPEG data: 128 extraneous bytes before marker 0xd9\n"
     ]
    },
    {
     "name": "stdout",
     "output_type": "stream",
     "text": [
      "540/582 [==========================>...] - ETA: 23s - loss: 0.7943 - accuracy: 0.5587"
     ]
    },
    {
     "name": "stderr",
     "output_type": "stream",
     "text": [
      "Corrupt JPEG data: 239 extraneous bytes before marker 0xd9\n"
     ]
    },
    {
     "name": "stdout",
     "output_type": "stream",
     "text": [
      "567/582 [============================>.] - ETA: 8s - loss: 0.7922 - accuracy: 0.5601"
     ]
    },
    {
     "name": "stderr",
     "output_type": "stream",
     "text": [
      "Corrupt JPEG data: 1153 extraneous bytes before marker 0xd9\n"
     ]
    },
    {
     "name": "stdout",
     "output_type": "stream",
     "text": [
      "573/582 [============================>.] - ETA: 4s - loss: 0.7923 - accuracy: 0.5598"
     ]
    },
    {
     "name": "stderr",
     "output_type": "stream",
     "text": [
      "Corrupt JPEG data: 228 extraneous bytes before marker 0xd9\n"
     ]
    },
    {
     "name": "stdout",
     "output_type": "stream",
     "text": [
      "582/582 [==============================] - ETA: 0s - loss: 0.7929 - accuracy: 0.5599"
     ]
    },
    {
     "name": "stderr",
     "output_type": "stream",
     "text": [
      "Corrupt JPEG data: 162 extraneous bytes before marker 0xd9\n",
      "Corrupt JPEG data: 252 extraneous bytes before marker 0xd9\n",
      "Corrupt JPEG data: 214 extraneous bytes before marker 0xd9\n",
      "Corrupt JPEG data: 1403 extraneous bytes before marker 0xd9\n"
     ]
    },
    {
     "name": "stdout",
     "output_type": "stream",
     "text": [
      "582/582 [==============================] - 361s 620ms/step - loss: 0.7929 - accuracy: 0.5599 - val_loss: 0.8585 - val_accuracy: 0.5211\n",
      "Epoch 13/15\n",
      "194/582 [=========>....................] - ETA: 3:33 - loss: 0.8089 - accuracy: 0.5543"
     ]
    },
    {
     "name": "stderr",
     "output_type": "stream",
     "text": [
      "Corrupt JPEG data: 99 extraneous bytes before marker 0xd9\n"
     ]
    },
    {
     "name": "stdout",
     "output_type": "stream",
     "text": [
      "226/582 [==========>...................] - ETA: 3:16 - loss: 0.8119 - accuracy: 0.5531"
     ]
    },
    {
     "name": "stderr",
     "output_type": "stream",
     "text": [
      "Warning: unknown JFIF revision number 0.00\n"
     ]
    },
    {
     "name": "stdout",
     "output_type": "stream",
     "text": [
      "236/582 [===========>..................] - ETA: 3:10 - loss: 0.8138 - accuracy: 0.5507"
     ]
    },
    {
     "name": "stderr",
     "output_type": "stream",
     "text": [
      "Corrupt JPEG data: 396 extraneous bytes before marker 0xd9\n"
     ]
    },
    {
     "name": "stdout",
     "output_type": "stream",
     "text": [
      "308/582 [==============>...............] - ETA: 2:30 - loss: 0.8133 - accuracy: 0.5464"
     ]
    },
    {
     "name": "stderr",
     "output_type": "stream",
     "text": [
      "Corrupt JPEG data: 65 extraneous bytes before marker 0xd9\n"
     ]
    },
    {
     "name": "stdout",
     "output_type": "stream",
     "text": [
      "516/582 [=========================>....] - ETA: 36s - loss: 0.8079 - accuracy: 0.5491"
     ]
    },
    {
     "name": "stderr",
     "output_type": "stream",
     "text": [
      "Corrupt JPEG data: 2226 extraneous bytes before marker 0xd9\n"
     ]
    },
    {
     "name": "stdout",
     "output_type": "stream",
     "text": [
      "529/582 [==========================>...] - ETA: 29s - loss: 0.8073 - accuracy: 0.5506"
     ]
    },
    {
     "name": "stderr",
     "output_type": "stream",
     "text": [
      "Corrupt JPEG data: 128 extraneous bytes before marker 0xd9\n"
     ]
    },
    {
     "name": "stdout",
     "output_type": "stream",
     "text": [
      "540/582 [==========================>...] - ETA: 23s - loss: 0.8066 - accuracy: 0.5507"
     ]
    },
    {
     "name": "stderr",
     "output_type": "stream",
     "text": [
      "Corrupt JPEG data: 239 extraneous bytes before marker 0xd9\n"
     ]
    },
    {
     "name": "stdout",
     "output_type": "stream",
     "text": [
      "567/582 [============================>.] - ETA: 8s - loss: 0.8060 - accuracy: 0.5513"
     ]
    },
    {
     "name": "stderr",
     "output_type": "stream",
     "text": [
      "Corrupt JPEG data: 1153 extraneous bytes before marker 0xd9\n"
     ]
    },
    {
     "name": "stdout",
     "output_type": "stream",
     "text": [
      "573/582 [============================>.] - ETA: 4s - loss: 0.8069 - accuracy: 0.5510"
     ]
    },
    {
     "name": "stderr",
     "output_type": "stream",
     "text": [
      "Corrupt JPEG data: 228 extraneous bytes before marker 0xd9\n"
     ]
    },
    {
     "name": "stdout",
     "output_type": "stream",
     "text": [
      "582/582 [==============================] - ETA: 0s - loss: 0.8069 - accuracy: 0.5504"
     ]
    },
    {
     "name": "stderr",
     "output_type": "stream",
     "text": [
      "Corrupt JPEG data: 162 extraneous bytes before marker 0xd9\n",
      "Corrupt JPEG data: 252 extraneous bytes before marker 0xd9\n",
      "Corrupt JPEG data: 214 extraneous bytes before marker 0xd9\n",
      "Corrupt JPEG data: 1403 extraneous bytes before marker 0xd9\n"
     ]
    },
    {
     "name": "stdout",
     "output_type": "stream",
     "text": [
      "582/582 [==============================] - 343s 590ms/step - loss: 0.8069 - accuracy: 0.5504 - val_loss: 0.9098 - val_accuracy: 0.5576\n",
      "Epoch 14/15\n",
      "194/582 [=========>....................] - ETA: 3:33 - loss: 0.7940 - accuracy: 0.5548"
     ]
    },
    {
     "name": "stderr",
     "output_type": "stream",
     "text": [
      "Corrupt JPEG data: 99 extraneous bytes before marker 0xd9\n"
     ]
    },
    {
     "name": "stdout",
     "output_type": "stream",
     "text": [
      "226/582 [==========>...................] - ETA: 3:15 - loss: 0.7974 - accuracy: 0.5546"
     ]
    },
    {
     "name": "stderr",
     "output_type": "stream",
     "text": [
      "Warning: unknown JFIF revision number 0.00\n"
     ]
    },
    {
     "name": "stdout",
     "output_type": "stream",
     "text": [
      "236/582 [===========>..................] - ETA: 3:10 - loss: 0.8006 - accuracy: 0.5539"
     ]
    },
    {
     "name": "stderr",
     "output_type": "stream",
     "text": [
      "Corrupt JPEG data: 396 extraneous bytes before marker 0xd9\n"
     ]
    },
    {
     "name": "stdout",
     "output_type": "stream",
     "text": [
      "308/582 [==============>...............] - ETA: 2:30 - loss: 0.8022 - accuracy: 0.5539"
     ]
    },
    {
     "name": "stderr",
     "output_type": "stream",
     "text": [
      "Corrupt JPEG data: 65 extraneous bytes before marker 0xd9\n"
     ]
    },
    {
     "name": "stdout",
     "output_type": "stream",
     "text": [
      "516/582 [=========================>....] - ETA: 36s - loss: 0.8013 - accuracy: 0.5540"
     ]
    },
    {
     "name": "stderr",
     "output_type": "stream",
     "text": [
      "Corrupt JPEG data: 2226 extraneous bytes before marker 0xd9\n"
     ]
    },
    {
     "name": "stdout",
     "output_type": "stream",
     "text": [
      "529/582 [==========================>...] - ETA: 29s - loss: 0.8023 - accuracy: 0.5538"
     ]
    },
    {
     "name": "stderr",
     "output_type": "stream",
     "text": [
      "Corrupt JPEG data: 128 extraneous bytes before marker 0xd9\n"
     ]
    },
    {
     "name": "stdout",
     "output_type": "stream",
     "text": [
      "540/582 [==========================>...] - ETA: 23s - loss: 0.8016 - accuracy: 0.5543"
     ]
    },
    {
     "name": "stderr",
     "output_type": "stream",
     "text": [
      "Corrupt JPEG data: 239 extraneous bytes before marker 0xd9\n"
     ]
    },
    {
     "name": "stdout",
     "output_type": "stream",
     "text": [
      "567/582 [============================>.] - ETA: 8s - loss: 0.8013 - accuracy: 0.5542"
     ]
    },
    {
     "name": "stderr",
     "output_type": "stream",
     "text": [
      "Corrupt JPEG data: 1153 extraneous bytes before marker 0xd9\n"
     ]
    },
    {
     "name": "stdout",
     "output_type": "stream",
     "text": [
      "573/582 [============================>.] - ETA: 4s - loss: 0.8014 - accuracy: 0.5538"
     ]
    },
    {
     "name": "stderr",
     "output_type": "stream",
     "text": [
      "Corrupt JPEG data: 228 extraneous bytes before marker 0xd9\n"
     ]
    },
    {
     "name": "stdout",
     "output_type": "stream",
     "text": [
      "582/582 [==============================] - ETA: 0s - loss: 0.8008 - accuracy: 0.5538"
     ]
    },
    {
     "name": "stderr",
     "output_type": "stream",
     "text": [
      "Corrupt JPEG data: 162 extraneous bytes before marker 0xd9\n",
      "Corrupt JPEG data: 252 extraneous bytes before marker 0xd9\n",
      "Corrupt JPEG data: 214 extraneous bytes before marker 0xd9\n",
      "Corrupt JPEG data: 1403 extraneous bytes before marker 0xd9\n"
     ]
    },
    {
     "name": "stdout",
     "output_type": "stream",
     "text": [
      "582/582 [==============================] - 361s 620ms/step - loss: 0.8008 - accuracy: 0.5538 - val_loss: 1.7990 - val_accuracy: 0.5103\n",
      "Epoch 15/15\n",
      "194/582 [=========>....................] - ETA: 3:33 - loss: 0.7891 - accuracy: 0.5614"
     ]
    },
    {
     "name": "stderr",
     "output_type": "stream",
     "text": [
      "Corrupt JPEG data: 99 extraneous bytes before marker 0xd9\n"
     ]
    },
    {
     "name": "stdout",
     "output_type": "stream",
     "text": [
      "226/582 [==========>...................] - ETA: 3:16 - loss: 0.7890 - accuracy: 0.5571"
     ]
    },
    {
     "name": "stderr",
     "output_type": "stream",
     "text": [
      "Warning: unknown JFIF revision number 0.00\n"
     ]
    },
    {
     "name": "stdout",
     "output_type": "stream",
     "text": [
      "236/582 [===========>..................] - ETA: 3:10 - loss: 0.7925 - accuracy: 0.5546"
     ]
    },
    {
     "name": "stderr",
     "output_type": "stream",
     "text": [
      "Corrupt JPEG data: 396 extraneous bytes before marker 0xd9\n"
     ]
    },
    {
     "name": "stdout",
     "output_type": "stream",
     "text": [
      "308/582 [==============>...............] - ETA: 2:31 - loss: 0.7915 - accuracy: 0.5537"
     ]
    },
    {
     "name": "stderr",
     "output_type": "stream",
     "text": [
      "Corrupt JPEG data: 65 extraneous bytes before marker 0xd9\n"
     ]
    },
    {
     "name": "stdout",
     "output_type": "stream",
     "text": [
      "516/582 [=========================>....] - ETA: 36s - loss: 0.7930 - accuracy: 0.5505"
     ]
    },
    {
     "name": "stderr",
     "output_type": "stream",
     "text": [
      "Corrupt JPEG data: 2226 extraneous bytes before marker 0xd9\n"
     ]
    },
    {
     "name": "stdout",
     "output_type": "stream",
     "text": [
      "529/582 [==========================>...] - ETA: 29s - loss: 0.7940 - accuracy: 0.5494"
     ]
    },
    {
     "name": "stderr",
     "output_type": "stream",
     "text": [
      "Corrupt JPEG data: 128 extraneous bytes before marker 0xd9\n"
     ]
    },
    {
     "name": "stdout",
     "output_type": "stream",
     "text": [
      "540/582 [==========================>...] - ETA: 23s - loss: 0.7950 - accuracy: 0.5486"
     ]
    },
    {
     "name": "stderr",
     "output_type": "stream",
     "text": [
      "Corrupt JPEG data: 239 extraneous bytes before marker 0xd9\n"
     ]
    },
    {
     "name": "stdout",
     "output_type": "stream",
     "text": [
      "567/582 [============================>.] - ETA: 8s - loss: 0.7947 - accuracy: 0.5491"
     ]
    },
    {
     "name": "stderr",
     "output_type": "stream",
     "text": [
      "Corrupt JPEG data: 1153 extraneous bytes before marker 0xd9\n"
     ]
    },
    {
     "name": "stdout",
     "output_type": "stream",
     "text": [
      "573/582 [============================>.] - ETA: 4s - loss: 0.7947 - accuracy: 0.5491"
     ]
    },
    {
     "name": "stderr",
     "output_type": "stream",
     "text": [
      "Corrupt JPEG data: 228 extraneous bytes before marker 0xd9\n"
     ]
    },
    {
     "name": "stdout",
     "output_type": "stream",
     "text": [
      "582/582 [==============================] - ETA: 0s - loss: 0.7959 - accuracy: 0.5485"
     ]
    },
    {
     "name": "stderr",
     "output_type": "stream",
     "text": [
      "Corrupt JPEG data: 162 extraneous bytes before marker 0xd9\n",
      "Corrupt JPEG data: 252 extraneous bytes before marker 0xd9\n",
      "Corrupt JPEG data: 214 extraneous bytes before marker 0xd9\n",
      "Corrupt JPEG data: 1403 extraneous bytes before marker 0xd9\n"
     ]
    },
    {
     "name": "stdout",
     "output_type": "stream",
     "text": [
      "\b\b\b\b\b\b\b\b\b\b\b\b\b\b\b\b\b\b\b\b\b\b\b\b\b\b\b\b\b\b\b\b\b\b\b\b\b\b\b\b\b\b\b\b\b\b\b\b\b\b\b\b\b\b\b\b\b\b\b\b\b\b\b\b\b\b\b\b\b\b\b\b\b\b\b\b\b\b\b\b\b\b\b\b\r",
      "582/582 [==============================] - 343s 590ms/step - loss: 0.7959 - accuracy: 0.5485 - val_loss: 0.7939 - val_accuracy: 0.5391\n"
     ]
    }
   ],
   "source": [
    "resnet_50.compile(\n",
    "    loss='sparse_categorical_crossentropy',\n",
    "    optimizer=tf.keras.optimizers.SGD(lr=0.01, clipnorm=1.),\n",
    "    metrics=['accuracy'],\n",
    ")\n",
    "\n",
    "history_res50 = resnet_50.fit(\n",
    "    ds_train,\n",
    "    epochs=EPOCH,\n",
    "    validation_data=ds_test,\n",
    "    verbose=1,\n",
    "    use_multiprocessing=True,\n",
    ")"
   ]
  },
  {
   "cell_type": "code",
   "execution_count": 13,
   "metadata": {},
   "outputs": [
    {
     "name": "stdout",
     "output_type": "stream",
     "text": [
      "Model: \"model_3\"\n",
      "_________________________________________________________________\n",
      "Layer (type)                 Output Shape              Param #   \n",
      "=================================================================\n",
      "input_4 (InputLayer)         [(None, 224, 224, 3)]     0         \n",
      "_________________________________________________________________\n",
      "conv2d_3 (Conv2D)            (None, 112, 112, 64)      9472      \n",
      "_________________________________________________________________\n",
      "batch_normalization_131 (Bat (None, 112, 112, 64)      256       \n",
      "_________________________________________________________________\n",
      "activation_99 (Activation)   (None, 112, 112, 64)      0         \n",
      "_________________________________________________________________\n",
      "max_pooling2d_3 (MaxPooling2 (None, 56, 56, 64)        0         \n",
      "_________________________________________________________________\n",
      "stage0_0_conv1_11 (Conv2D)   (None, 56, 56, 64)        4160      \n",
      "_________________________________________________________________\n",
      "batch_normalization_132 (Bat (None, 56, 56, 64)        256       \n",
      "_________________________________________________________________\n",
      "activation_100 (Activation)  (None, 56, 56, 64)        0         \n",
      "_________________________________________________________________\n",
      "stage0_0_conv2_11 (Conv2D)   (None, 56, 56, 64)        36928     \n",
      "_________________________________________________________________\n",
      "batch_normalization_133 (Bat (None, 56, 56, 64)        256       \n",
      "_________________________________________________________________\n",
      "activation_101 (Activation)  (None, 56, 56, 64)        0         \n",
      "_________________________________________________________________\n",
      "stage0_0_conv3_11 (Conv2D)   (None, 56, 56, 256)       16640     \n",
      "_________________________________________________________________\n",
      "batch_normalization_134 (Bat (None, 56, 56, 256)       1024      \n",
      "_________________________________________________________________\n",
      "stage0_1_conv1_11 (Conv2D)   (None, 56, 56, 64)        16448     \n",
      "_________________________________________________________________\n",
      "batch_normalization_135 (Bat (None, 56, 56, 64)        256       \n",
      "_________________________________________________________________\n",
      "activation_102 (Activation)  (None, 56, 56, 64)        0         \n",
      "_________________________________________________________________\n",
      "stage0_1_conv2_11 (Conv2D)   (None, 56, 56, 64)        36928     \n",
      "_________________________________________________________________\n",
      "batch_normalization_136 (Bat (None, 56, 56, 64)        256       \n",
      "_________________________________________________________________\n",
      "activation_103 (Activation)  (None, 56, 56, 64)        0         \n",
      "_________________________________________________________________\n",
      "stage0_1_conv3_11 (Conv2D)   (None, 56, 56, 256)       16640     \n",
      "_________________________________________________________________\n",
      "batch_normalization_137 (Bat (None, 56, 56, 256)       1024      \n",
      "_________________________________________________________________\n",
      "stage0_2_conv1_11 (Conv2D)   (None, 56, 56, 64)        16448     \n",
      "_________________________________________________________________\n",
      "batch_normalization_138 (Bat (None, 56, 56, 64)        256       \n",
      "_________________________________________________________________\n",
      "activation_104 (Activation)  (None, 56, 56, 64)        0         \n",
      "_________________________________________________________________\n",
      "stage0_2_conv2_11 (Conv2D)   (None, 56, 56, 64)        36928     \n",
      "_________________________________________________________________\n",
      "batch_normalization_139 (Bat (None, 56, 56, 64)        256       \n",
      "_________________________________________________________________\n",
      "activation_105 (Activation)  (None, 56, 56, 64)        0         \n",
      "_________________________________________________________________\n",
      "stage0_2_conv3_11 (Conv2D)   (None, 56, 56, 256)       16640     \n",
      "_________________________________________________________________\n",
      "batch_normalization_140 (Bat (None, 56, 56, 256)       1024      \n",
      "_________________________________________________________________\n",
      "stage1_0_conv1_11 (Conv2D)   (None, 28, 28, 128)       32896     \n",
      "_________________________________________________________________\n",
      "batch_normalization_141 (Bat (None, 28, 28, 128)       512       \n",
      "_________________________________________________________________\n",
      "activation_106 (Activation)  (None, 28, 28, 128)       0         \n",
      "_________________________________________________________________\n",
      "stage1_0_conv2_11 (Conv2D)   (None, 28, 28, 128)       147584    \n",
      "_________________________________________________________________\n",
      "batch_normalization_142 (Bat (None, 28, 28, 128)       512       \n",
      "_________________________________________________________________\n",
      "activation_107 (Activation)  (None, 28, 28, 128)       0         \n",
      "_________________________________________________________________\n",
      "stage1_0_conv3_11 (Conv2D)   (None, 28, 28, 512)       66048     \n",
      "_________________________________________________________________\n",
      "batch_normalization_143 (Bat (None, 28, 28, 512)       2048      \n",
      "_________________________________________________________________\n",
      "stage1_1_conv1_11 (Conv2D)   (None, 28, 28, 128)       65664     \n",
      "_________________________________________________________________\n",
      "batch_normalization_144 (Bat (None, 28, 28, 128)       512       \n",
      "_________________________________________________________________\n",
      "activation_108 (Activation)  (None, 28, 28, 128)       0         \n",
      "_________________________________________________________________\n",
      "stage1_1_conv2_11 (Conv2D)   (None, 28, 28, 128)       147584    \n",
      "_________________________________________________________________\n",
      "batch_normalization_145 (Bat (None, 28, 28, 128)       512       \n",
      "_________________________________________________________________\n",
      "activation_109 (Activation)  (None, 28, 28, 128)       0         \n",
      "_________________________________________________________________\n",
      "stage1_1_conv3_11 (Conv2D)   (None, 28, 28, 512)       66048     \n",
      "_________________________________________________________________\n",
      "batch_normalization_146 (Bat (None, 28, 28, 512)       2048      \n",
      "_________________________________________________________________\n",
      "stage1_2_conv1_11 (Conv2D)   (None, 28, 28, 128)       65664     \n",
      "_________________________________________________________________\n",
      "batch_normalization_147 (Bat (None, 28, 28, 128)       512       \n",
      "_________________________________________________________________\n",
      "activation_110 (Activation)  (None, 28, 28, 128)       0         \n",
      "_________________________________________________________________\n",
      "stage1_2_conv2_11 (Conv2D)   (None, 28, 28, 128)       147584    \n",
      "_________________________________________________________________\n",
      "batch_normalization_148 (Bat (None, 28, 28, 128)       512       \n",
      "_________________________________________________________________\n",
      "activation_111 (Activation)  (None, 28, 28, 128)       0         \n",
      "_________________________________________________________________\n",
      "stage1_2_conv3_11 (Conv2D)   (None, 28, 28, 512)       66048     \n",
      "_________________________________________________________________\n",
      "batch_normalization_149 (Bat (None, 28, 28, 512)       2048      \n",
      "_________________________________________________________________\n",
      "stage1_3_conv1_11 (Conv2D)   (None, 28, 28, 128)       65664     \n",
      "_________________________________________________________________\n",
      "batch_normalization_150 (Bat (None, 28, 28, 128)       512       \n",
      "_________________________________________________________________\n",
      "activation_112 (Activation)  (None, 28, 28, 128)       0         \n",
      "_________________________________________________________________\n",
      "stage1_3_conv2_11 (Conv2D)   (None, 28, 28, 128)       147584    \n",
      "_________________________________________________________________\n",
      "batch_normalization_151 (Bat (None, 28, 28, 128)       512       \n",
      "_________________________________________________________________\n",
      "activation_113 (Activation)  (None, 28, 28, 128)       0         \n",
      "_________________________________________________________________\n",
      "stage1_3_conv3_11 (Conv2D)   (None, 28, 28, 512)       66048     \n",
      "_________________________________________________________________\n",
      "batch_normalization_152 (Bat (None, 28, 28, 512)       2048      \n",
      "_________________________________________________________________\n",
      "stage2_0_conv1_11 (Conv2D)   (None, 14, 14, 256)       131328    \n",
      "_________________________________________________________________\n",
      "batch_normalization_153 (Bat (None, 14, 14, 256)       1024      \n",
      "_________________________________________________________________\n",
      "activation_114 (Activation)  (None, 14, 14, 256)       0         \n",
      "_________________________________________________________________\n",
      "stage2_0_conv2_11 (Conv2D)   (None, 14, 14, 256)       590080    \n",
      "_________________________________________________________________\n",
      "batch_normalization_154 (Bat (None, 14, 14, 256)       1024      \n",
      "_________________________________________________________________\n",
      "activation_115 (Activation)  (None, 14, 14, 256)       0         \n",
      "_________________________________________________________________\n",
      "stage2_0_conv3_11 (Conv2D)   (None, 14, 14, 1024)      263168    \n",
      "_________________________________________________________________\n",
      "batch_normalization_155 (Bat (None, 14, 14, 1024)      4096      \n",
      "_________________________________________________________________\n",
      "stage2_1_conv1_11 (Conv2D)   (None, 14, 14, 256)       262400    \n",
      "_________________________________________________________________\n",
      "batch_normalization_156 (Bat (None, 14, 14, 256)       1024      \n",
      "_________________________________________________________________\n",
      "activation_116 (Activation)  (None, 14, 14, 256)       0         \n",
      "_________________________________________________________________\n",
      "stage2_1_conv2_11 (Conv2D)   (None, 14, 14, 256)       590080    \n",
      "_________________________________________________________________\n",
      "batch_normalization_157 (Bat (None, 14, 14, 256)       1024      \n",
      "_________________________________________________________________\n",
      "activation_117 (Activation)  (None, 14, 14, 256)       0         \n",
      "_________________________________________________________________\n",
      "stage2_1_conv3_11 (Conv2D)   (None, 14, 14, 1024)      263168    \n",
      "_________________________________________________________________\n",
      "batch_normalization_158 (Bat (None, 14, 14, 1024)      4096      \n",
      "_________________________________________________________________\n",
      "stage2_2_conv1_11 (Conv2D)   (None, 14, 14, 256)       262400    \n",
      "_________________________________________________________________\n",
      "batch_normalization_159 (Bat (None, 14, 14, 256)       1024      \n",
      "_________________________________________________________________\n",
      "activation_118 (Activation)  (None, 14, 14, 256)       0         \n",
      "_________________________________________________________________\n",
      "stage2_2_conv2_11 (Conv2D)   (None, 14, 14, 256)       590080    \n",
      "_________________________________________________________________\n",
      "batch_normalization_160 (Bat (None, 14, 14, 256)       1024      \n",
      "_________________________________________________________________\n",
      "activation_119 (Activation)  (None, 14, 14, 256)       0         \n",
      "_________________________________________________________________\n",
      "stage2_2_conv3_11 (Conv2D)   (None, 14, 14, 1024)      263168    \n",
      "_________________________________________________________________\n",
      "batch_normalization_161 (Bat (None, 14, 14, 1024)      4096      \n",
      "_________________________________________________________________\n",
      "stage2_3_conv1_11 (Conv2D)   (None, 14, 14, 256)       262400    \n",
      "_________________________________________________________________\n",
      "batch_normalization_162 (Bat (None, 14, 14, 256)       1024      \n",
      "_________________________________________________________________\n",
      "activation_120 (Activation)  (None, 14, 14, 256)       0         \n",
      "_________________________________________________________________\n",
      "stage2_3_conv2_11 (Conv2D)   (None, 14, 14, 256)       590080    \n",
      "_________________________________________________________________\n",
      "batch_normalization_163 (Bat (None, 14, 14, 256)       1024      \n",
      "_________________________________________________________________\n",
      "activation_121 (Activation)  (None, 14, 14, 256)       0         \n",
      "_________________________________________________________________\n",
      "stage2_3_conv3_11 (Conv2D)   (None, 14, 14, 1024)      263168    \n",
      "_________________________________________________________________\n",
      "batch_normalization_164 (Bat (None, 14, 14, 1024)      4096      \n",
      "_________________________________________________________________\n",
      "stage2_4_conv1_11 (Conv2D)   (None, 14, 14, 256)       262400    \n",
      "_________________________________________________________________\n",
      "batch_normalization_165 (Bat (None, 14, 14, 256)       1024      \n",
      "_________________________________________________________________\n",
      "activation_122 (Activation)  (None, 14, 14, 256)       0         \n",
      "_________________________________________________________________\n",
      "stage2_4_conv2_11 (Conv2D)   (None, 14, 14, 256)       590080    \n",
      "_________________________________________________________________\n",
      "batch_normalization_166 (Bat (None, 14, 14, 256)       1024      \n",
      "_________________________________________________________________\n",
      "activation_123 (Activation)  (None, 14, 14, 256)       0         \n",
      "_________________________________________________________________\n",
      "stage2_4_conv3_11 (Conv2D)   (None, 14, 14, 1024)      263168    \n",
      "_________________________________________________________________\n",
      "batch_normalization_167 (Bat (None, 14, 14, 1024)      4096      \n",
      "_________________________________________________________________\n",
      "stage2_5_conv1_11 (Conv2D)   (None, 14, 14, 256)       262400    \n",
      "_________________________________________________________________\n",
      "batch_normalization_168 (Bat (None, 14, 14, 256)       1024      \n",
      "_________________________________________________________________\n",
      "activation_124 (Activation)  (None, 14, 14, 256)       0         \n",
      "_________________________________________________________________\n",
      "stage2_5_conv2_11 (Conv2D)   (None, 14, 14, 256)       590080    \n",
      "_________________________________________________________________\n",
      "batch_normalization_169 (Bat (None, 14, 14, 256)       1024      \n",
      "_________________________________________________________________\n",
      "activation_125 (Activation)  (None, 14, 14, 256)       0         \n",
      "_________________________________________________________________\n",
      "stage2_5_conv3_11 (Conv2D)   (None, 14, 14, 1024)      263168    \n",
      "_________________________________________________________________\n",
      "batch_normalization_170 (Bat (None, 14, 14, 1024)      4096      \n",
      "_________________________________________________________________\n",
      "stage3_0_conv1_11 (Conv2D)   (None, 7, 7, 512)         524800    \n",
      "_________________________________________________________________\n",
      "batch_normalization_171 (Bat (None, 7, 7, 512)         2048      \n",
      "_________________________________________________________________\n",
      "activation_126 (Activation)  (None, 7, 7, 512)         0         \n",
      "_________________________________________________________________\n",
      "stage3_0_conv2_11 (Conv2D)   (None, 7, 7, 512)         2359808   \n",
      "_________________________________________________________________\n",
      "batch_normalization_172 (Bat (None, 7, 7, 512)         2048      \n",
      "_________________________________________________________________\n",
      "activation_127 (Activation)  (None, 7, 7, 512)         0         \n",
      "_________________________________________________________________\n",
      "stage3_0_conv3_11 (Conv2D)   (None, 7, 7, 2048)        1050624   \n",
      "_________________________________________________________________\n",
      "batch_normalization_173 (Bat (None, 7, 7, 2048)        8192      \n",
      "_________________________________________________________________\n",
      "stage3_1_conv1_11 (Conv2D)   (None, 7, 7, 512)         1049088   \n",
      "_________________________________________________________________\n",
      "batch_normalization_174 (Bat (None, 7, 7, 512)         2048      \n",
      "_________________________________________________________________\n",
      "activation_128 (Activation)  (None, 7, 7, 512)         0         \n",
      "_________________________________________________________________\n",
      "stage3_1_conv2_11 (Conv2D)   (None, 7, 7, 512)         2359808   \n",
      "_________________________________________________________________\n",
      "batch_normalization_175 (Bat (None, 7, 7, 512)         2048      \n",
      "_________________________________________________________________\n",
      "activation_129 (Activation)  (None, 7, 7, 512)         0         \n",
      "_________________________________________________________________\n",
      "stage3_1_conv3_11 (Conv2D)   (None, 7, 7, 2048)        1050624   \n",
      "_________________________________________________________________\n",
      "batch_normalization_176 (Bat (None, 7, 7, 2048)        8192      \n",
      "_________________________________________________________________\n",
      "stage3_2_conv1_11 (Conv2D)   (None, 7, 7, 512)         1049088   \n",
      "_________________________________________________________________\n",
      "batch_normalization_177 (Bat (None, 7, 7, 512)         2048      \n",
      "_________________________________________________________________\n",
      "activation_130 (Activation)  (None, 7, 7, 512)         0         \n",
      "_________________________________________________________________\n",
      "stage3_2_conv2_11 (Conv2D)   (None, 7, 7, 512)         2359808   \n",
      "_________________________________________________________________\n",
      "batch_normalization_178 (Bat (None, 7, 7, 512)         2048      \n",
      "_________________________________________________________________\n",
      "activation_131 (Activation)  (None, 7, 7, 512)         0         \n",
      "_________________________________________________________________\n",
      "stage3_2_conv3_11 (Conv2D)   (None, 7, 7, 2048)        1050624   \n",
      "_________________________________________________________________\n",
      "batch_normalization_179 (Bat (None, 7, 7, 2048)        8192      \n",
      "_________________________________________________________________\n",
      "avg_pool (AveragePooling2D)  (None, 4, 4, 2048)        0         \n",
      "_________________________________________________________________\n",
      "flatten (Flatten)            (None, 32768)             0         \n",
      "_________________________________________________________________\n",
      "fc1000 (Dense)               (None, 10)                327690    \n",
      "=================================================================\n",
      "Total params: 21,127,306\n",
      "Trainable params: 21,081,866\n",
      "Non-trainable params: 45,440\n",
      "_________________________________________________________________\n"
     ]
    }
   ],
   "source": [
    "del resnet_50\n",
    "\n",
    "plain_50 = build_resnet(input_shape=(224,224,3),is_50=True, is_plain=True)\n",
    "plain_50.summary()"
   ]
  },
  {
   "cell_type": "code",
   "execution_count": 14,
   "metadata": {},
   "outputs": [
    {
     "name": "stdout",
     "output_type": "stream",
     "text": [
      "Epoch 1/15\n",
      "194/582 [=========>....................] - ETA: 1:48 - loss: 1.0009 - accuracy: 0.5060"
     ]
    },
    {
     "name": "stderr",
     "output_type": "stream",
     "text": [
      "Corrupt JPEG data: 99 extraneous bytes before marker 0xd9\n"
     ]
    },
    {
     "name": "stdout",
     "output_type": "stream",
     "text": [
      "226/582 [==========>...................] - ETA: 1:39 - loss: 0.9770 - accuracy: 0.5033"
     ]
    },
    {
     "name": "stderr",
     "output_type": "stream",
     "text": [
      "Warning: unknown JFIF revision number 0.00\n"
     ]
    },
    {
     "name": "stdout",
     "output_type": "stream",
     "text": [
      "236/582 [===========>..................] - ETA: 1:36 - loss: 0.9715 - accuracy: 0.5030"
     ]
    },
    {
     "name": "stderr",
     "output_type": "stream",
     "text": [
      "Corrupt JPEG data: 396 extraneous bytes before marker 0xd9\n"
     ]
    },
    {
     "name": "stdout",
     "output_type": "stream",
     "text": [
      "308/582 [==============>...............] - ETA: 1:16 - loss: 0.9385 - accuracy: 0.5064"
     ]
    },
    {
     "name": "stderr",
     "output_type": "stream",
     "text": [
      "Corrupt JPEG data: 65 extraneous bytes before marker 0xd9\n"
     ]
    },
    {
     "name": "stdout",
     "output_type": "stream",
     "text": [
      "516/582 [=========================>....] - ETA: 18s - loss: 0.8829 - accuracy: 0.5157"
     ]
    },
    {
     "name": "stderr",
     "output_type": "stream",
     "text": [
      "Corrupt JPEG data: 2226 extraneous bytes before marker 0xd9\n"
     ]
    },
    {
     "name": "stdout",
     "output_type": "stream",
     "text": [
      "529/582 [==========================>...] - ETA: 14s - loss: 0.8824 - accuracy: 0.5160"
     ]
    },
    {
     "name": "stderr",
     "output_type": "stream",
     "text": [
      "Corrupt JPEG data: 128 extraneous bytes before marker 0xd9\n"
     ]
    },
    {
     "name": "stdout",
     "output_type": "stream",
     "text": [
      "540/582 [==========================>...] - ETA: 11s - loss: 0.8803 - accuracy: 0.5167"
     ]
    },
    {
     "name": "stderr",
     "output_type": "stream",
     "text": [
      "Corrupt JPEG data: 239 extraneous bytes before marker 0xd9\n"
     ]
    },
    {
     "name": "stdout",
     "output_type": "stream",
     "text": [
      "567/582 [============================>.] - ETA: 4s - loss: 0.8756 - accuracy: 0.5186"
     ]
    },
    {
     "name": "stderr",
     "output_type": "stream",
     "text": [
      "Corrupt JPEG data: 1153 extraneous bytes before marker 0xd9\n"
     ]
    },
    {
     "name": "stdout",
     "output_type": "stream",
     "text": [
      "573/582 [============================>.] - ETA: 2s - loss: 0.8743 - accuracy: 0.5191"
     ]
    },
    {
     "name": "stderr",
     "output_type": "stream",
     "text": [
      "Corrupt JPEG data: 228 extraneous bytes before marker 0xd9\n"
     ]
    },
    {
     "name": "stdout",
     "output_type": "stream",
     "text": [
      "582/582 [==============================] - ETA: 0s - loss: 0.8730 - accuracy: 0.5189"
     ]
    },
    {
     "name": "stderr",
     "output_type": "stream",
     "text": [
      "Corrupt JPEG data: 162 extraneous bytes before marker 0xd9\n",
      "Corrupt JPEG data: 252 extraneous bytes before marker 0xd9\n",
      "Corrupt JPEG data: 214 extraneous bytes before marker 0xd9\n",
      "Corrupt JPEG data: 1403 extraneous bytes before marker 0xd9\n"
     ]
    },
    {
     "name": "stdout",
     "output_type": "stream",
     "text": [
      "582/582 [==============================] - 182s 300ms/step - loss: 0.8730 - accuracy: 0.5189 - val_loss: 0.7295 - val_accuracy: 0.5168\n",
      "Epoch 2/15\n",
      "194/582 [=========>....................] - ETA: 1:47 - loss: 0.7959 - accuracy: 0.5309"
     ]
    },
    {
     "name": "stderr",
     "output_type": "stream",
     "text": [
      "Corrupt JPEG data: 99 extraneous bytes before marker 0xd9\n"
     ]
    },
    {
     "name": "stdout",
     "output_type": "stream",
     "text": [
      "226/582 [==========>...................] - ETA: 1:39 - loss: 0.7959 - accuracy: 0.5330"
     ]
    },
    {
     "name": "stderr",
     "output_type": "stream",
     "text": [
      "Warning: unknown JFIF revision number 0.00\n"
     ]
    },
    {
     "name": "stdout",
     "output_type": "stream",
     "text": [
      "236/582 [===========>..................] - ETA: 1:36 - loss: 0.7990 - accuracy: 0.5305"
     ]
    },
    {
     "name": "stderr",
     "output_type": "stream",
     "text": [
      "Corrupt JPEG data: 396 extraneous bytes before marker 0xd9\n"
     ]
    },
    {
     "name": "stdout",
     "output_type": "stream",
     "text": [
      "308/582 [==============>...............] - ETA: 1:16 - loss: 0.8035 - accuracy: 0.5265"
     ]
    },
    {
     "name": "stderr",
     "output_type": "stream",
     "text": [
      "Corrupt JPEG data: 65 extraneous bytes before marker 0xd9\n"
     ]
    },
    {
     "name": "stdout",
     "output_type": "stream",
     "text": [
      "516/582 [=========================>....] - ETA: 18s - loss: 0.7978 - accuracy: 0.5224"
     ]
    },
    {
     "name": "stderr",
     "output_type": "stream",
     "text": [
      "Corrupt JPEG data: 2226 extraneous bytes before marker 0xd9\n"
     ]
    },
    {
     "name": "stdout",
     "output_type": "stream",
     "text": [
      "529/582 [==========================>...] - ETA: 14s - loss: 0.7988 - accuracy: 0.5230"
     ]
    },
    {
     "name": "stderr",
     "output_type": "stream",
     "text": [
      "Corrupt JPEG data: 128 extraneous bytes before marker 0xd9\n"
     ]
    },
    {
     "name": "stdout",
     "output_type": "stream",
     "text": [
      "540/582 [==========================>...] - ETA: 11s - loss: 0.7985 - accuracy: 0.5234"
     ]
    },
    {
     "name": "stderr",
     "output_type": "stream",
     "text": [
      "Corrupt JPEG data: 239 extraneous bytes before marker 0xd9\n"
     ]
    },
    {
     "name": "stdout",
     "output_type": "stream",
     "text": [
      "567/582 [============================>.] - ETA: 4s - loss: 0.7967 - accuracy: 0.5239"
     ]
    },
    {
     "name": "stderr",
     "output_type": "stream",
     "text": [
      "Corrupt JPEG data: 1153 extraneous bytes before marker 0xd9\n"
     ]
    },
    {
     "name": "stdout",
     "output_type": "stream",
     "text": [
      "573/582 [============================>.] - ETA: 2s - loss: 0.7961 - accuracy: 0.5241"
     ]
    },
    {
     "name": "stderr",
     "output_type": "stream",
     "text": [
      "Corrupt JPEG data: 228 extraneous bytes before marker 0xd9\n"
     ]
    },
    {
     "name": "stdout",
     "output_type": "stream",
     "text": [
      "582/582 [==============================] - ETA: 0s - loss: 0.7964 - accuracy: 0.5238"
     ]
    },
    {
     "name": "stderr",
     "output_type": "stream",
     "text": [
      "Corrupt JPEG data: 162 extraneous bytes before marker 0xd9\n",
      "Corrupt JPEG data: 252 extraneous bytes before marker 0xd9\n",
      "Corrupt JPEG data: 214 extraneous bytes before marker 0xd9\n",
      "Corrupt JPEG data: 1403 extraneous bytes before marker 0xd9\n"
     ]
    },
    {
     "name": "stdout",
     "output_type": "stream",
     "text": [
      "582/582 [==============================] - 174s 298ms/step - loss: 0.7964 - accuracy: 0.5238 - val_loss: 0.7122 - val_accuracy: 0.5196\n",
      "Epoch 3/15\n",
      "194/582 [=========>....................] - ETA: 1:47 - loss: 0.7867 - accuracy: 0.5306"
     ]
    },
    {
     "name": "stderr",
     "output_type": "stream",
     "text": [
      "Corrupt JPEG data: 99 extraneous bytes before marker 0xd9\n"
     ]
    },
    {
     "name": "stdout",
     "output_type": "stream",
     "text": [
      "226/582 [==========>...................] - ETA: 1:38 - loss: 0.7920 - accuracy: 0.5297"
     ]
    },
    {
     "name": "stderr",
     "output_type": "stream",
     "text": [
      "Warning: unknown JFIF revision number 0.00\n"
     ]
    },
    {
     "name": "stdout",
     "output_type": "stream",
     "text": [
      "236/582 [===========>..................] - ETA: 1:36 - loss: 0.7929 - accuracy: 0.5290"
     ]
    },
    {
     "name": "stderr",
     "output_type": "stream",
     "text": [
      "Corrupt JPEG data: 396 extraneous bytes before marker 0xd9\n"
     ]
    },
    {
     "name": "stdout",
     "output_type": "stream",
     "text": [
      "308/582 [==============>...............] - ETA: 1:16 - loss: 0.7887 - accuracy: 0.5300"
     ]
    },
    {
     "name": "stderr",
     "output_type": "stream",
     "text": [
      "Corrupt JPEG data: 65 extraneous bytes before marker 0xd9\n"
     ]
    },
    {
     "name": "stdout",
     "output_type": "stream",
     "text": [
      "516/582 [=========================>....] - ETA: 18s - loss: 0.7869 - accuracy: 0.5291"
     ]
    },
    {
     "name": "stderr",
     "output_type": "stream",
     "text": [
      "Corrupt JPEG data: 2226 extraneous bytes before marker 0xd9\n"
     ]
    },
    {
     "name": "stdout",
     "output_type": "stream",
     "text": [
      "529/582 [==========================>...] - ETA: 14s - loss: 0.7854 - accuracy: 0.5302"
     ]
    },
    {
     "name": "stderr",
     "output_type": "stream",
     "text": [
      "Corrupt JPEG data: 128 extraneous bytes before marker 0xd9\n"
     ]
    },
    {
     "name": "stdout",
     "output_type": "stream",
     "text": [
      "540/582 [==========================>...] - ETA: 11s - loss: 0.7861 - accuracy: 0.5299"
     ]
    },
    {
     "name": "stderr",
     "output_type": "stream",
     "text": [
      "Corrupt JPEG data: 239 extraneous bytes before marker 0xd9\n"
     ]
    },
    {
     "name": "stdout",
     "output_type": "stream",
     "text": [
      "567/582 [============================>.] - ETA: 4s - loss: 0.7842 - accuracy: 0.5320"
     ]
    },
    {
     "name": "stderr",
     "output_type": "stream",
     "text": [
      "Corrupt JPEG data: 1153 extraneous bytes before marker 0xd9\n"
     ]
    },
    {
     "name": "stdout",
     "output_type": "stream",
     "text": [
      "573/582 [============================>.] - ETA: 2s - loss: 0.7845 - accuracy: 0.5317"
     ]
    },
    {
     "name": "stderr",
     "output_type": "stream",
     "text": [
      "Corrupt JPEG data: 228 extraneous bytes before marker 0xd9\n"
     ]
    },
    {
     "name": "stdout",
     "output_type": "stream",
     "text": [
      "582/582 [==============================] - ETA: 0s - loss: 0.7845 - accuracy: 0.5315"
     ]
    },
    {
     "name": "stderr",
     "output_type": "stream",
     "text": [
      "Corrupt JPEG data: 162 extraneous bytes before marker 0xd9\n",
      "Corrupt JPEG data: 252 extraneous bytes before marker 0xd9\n",
      "Corrupt JPEG data: 214 extraneous bytes before marker 0xd9\n",
      "Corrupt JPEG data: 1403 extraneous bytes before marker 0xd9\n"
     ]
    },
    {
     "name": "stdout",
     "output_type": "stream",
     "text": [
      "582/582 [==============================] - 174s 298ms/step - loss: 0.7845 - accuracy: 0.5315 - val_loss: 0.8095 - val_accuracy: 0.5116\n",
      "Epoch 4/15\n",
      "194/582 [=========>....................] - ETA: 1:47 - loss: 0.7732 - accuracy: 0.5370"
     ]
    },
    {
     "name": "stderr",
     "output_type": "stream",
     "text": [
      "Corrupt JPEG data: 99 extraneous bytes before marker 0xd9\n"
     ]
    },
    {
     "name": "stdout",
     "output_type": "stream",
     "text": [
      "226/582 [==========>...................] - ETA: 1:38 - loss: 0.7752 - accuracy: 0.5343"
     ]
    },
    {
     "name": "stderr",
     "output_type": "stream",
     "text": [
      "Warning: unknown JFIF revision number 0.00\n"
     ]
    },
    {
     "name": "stdout",
     "output_type": "stream",
     "text": [
      "236/582 [===========>..................] - ETA: 1:36 - loss: 0.7771 - accuracy: 0.5332"
     ]
    },
    {
     "name": "stderr",
     "output_type": "stream",
     "text": [
      "Corrupt JPEG data: 396 extraneous bytes before marker 0xd9\n"
     ]
    },
    {
     "name": "stdout",
     "output_type": "stream",
     "text": [
      "308/582 [==============>...............] - ETA: 1:16 - loss: 0.7685 - accuracy: 0.5345"
     ]
    },
    {
     "name": "stderr",
     "output_type": "stream",
     "text": [
      "Corrupt JPEG data: 65 extraneous bytes before marker 0xd9\n"
     ]
    },
    {
     "name": "stdout",
     "output_type": "stream",
     "text": [
      "516/582 [=========================>....] - ETA: 18s - loss: 0.7696 - accuracy: 0.5374"
     ]
    },
    {
     "name": "stderr",
     "output_type": "stream",
     "text": [
      "Corrupt JPEG data: 2226 extraneous bytes before marker 0xd9\n"
     ]
    },
    {
     "name": "stdout",
     "output_type": "stream",
     "text": [
      "529/582 [==========================>...] - ETA: 14s - loss: 0.7690 - accuracy: 0.5389"
     ]
    },
    {
     "name": "stderr",
     "output_type": "stream",
     "text": [
      "Corrupt JPEG data: 128 extraneous bytes before marker 0xd9\n"
     ]
    },
    {
     "name": "stdout",
     "output_type": "stream",
     "text": [
      "540/582 [==========================>...] - ETA: 11s - loss: 0.7691 - accuracy: 0.5395"
     ]
    },
    {
     "name": "stderr",
     "output_type": "stream",
     "text": [
      "Corrupt JPEG data: 239 extraneous bytes before marker 0xd9\n"
     ]
    },
    {
     "name": "stdout",
     "output_type": "stream",
     "text": [
      "567/582 [============================>.] - ETA: 4s - loss: 0.7693 - accuracy: 0.5390"
     ]
    },
    {
     "name": "stderr",
     "output_type": "stream",
     "text": [
      "Corrupt JPEG data: 1153 extraneous bytes before marker 0xd9\n"
     ]
    },
    {
     "name": "stdout",
     "output_type": "stream",
     "text": [
      "573/582 [============================>.] - ETA: 2s - loss: 0.7693 - accuracy: 0.5384"
     ]
    },
    {
     "name": "stderr",
     "output_type": "stream",
     "text": [
      "Corrupt JPEG data: 228 extraneous bytes before marker 0xd9\n"
     ]
    },
    {
     "name": "stdout",
     "output_type": "stream",
     "text": [
      "582/582 [==============================] - ETA: 0s - loss: 0.7686 - accuracy: 0.5386"
     ]
    },
    {
     "name": "stderr",
     "output_type": "stream",
     "text": [
      "Corrupt JPEG data: 162 extraneous bytes before marker 0xd9\n",
      "Corrupt JPEG data: 252 extraneous bytes before marker 0xd9\n",
      "Corrupt JPEG data: 214 extraneous bytes before marker 0xd9\n",
      "Corrupt JPEG data: 1403 extraneous bytes before marker 0xd9\n"
     ]
    },
    {
     "name": "stdout",
     "output_type": "stream",
     "text": [
      "582/582 [==============================] - 174s 299ms/step - loss: 0.7686 - accuracy: 0.5386 - val_loss: 3.8836 - val_accuracy: 0.4908\n",
      "Epoch 5/15\n",
      "194/582 [=========>....................] - ETA: 1:47 - loss: 0.7693 - accuracy: 0.5377"
     ]
    },
    {
     "name": "stderr",
     "output_type": "stream",
     "text": [
      "Corrupt JPEG data: 99 extraneous bytes before marker 0xd9\n"
     ]
    },
    {
     "name": "stdout",
     "output_type": "stream",
     "text": [
      "226/582 [==========>...................] - ETA: 1:38 - loss: 0.7654 - accuracy: 0.5365"
     ]
    },
    {
     "name": "stderr",
     "output_type": "stream",
     "text": [
      "Warning: unknown JFIF revision number 0.00\n"
     ]
    },
    {
     "name": "stdout",
     "output_type": "stream",
     "text": [
      "236/582 [===========>..................] - ETA: 1:36 - loss: 0.7656 - accuracy: 0.5371"
     ]
    },
    {
     "name": "stderr",
     "output_type": "stream",
     "text": [
      "Corrupt JPEG data: 396 extraneous bytes before marker 0xd9\n"
     ]
    },
    {
     "name": "stdout",
     "output_type": "stream",
     "text": [
      "308/582 [==============>...............] - ETA: 1:16 - loss: 0.7605 - accuracy: 0.5391"
     ]
    },
    {
     "name": "stderr",
     "output_type": "stream",
     "text": [
      "Corrupt JPEG data: 65 extraneous bytes before marker 0xd9\n"
     ]
    },
    {
     "name": "stdout",
     "output_type": "stream",
     "text": [
      "516/582 [=========================>....] - ETA: 18s - loss: 0.7691 - accuracy: 0.5326"
     ]
    },
    {
     "name": "stderr",
     "output_type": "stream",
     "text": [
      "Corrupt JPEG data: 2226 extraneous bytes before marker 0xd9\n"
     ]
    },
    {
     "name": "stdout",
     "output_type": "stream",
     "text": [
      "529/582 [==========================>...] - ETA: 14s - loss: 0.7688 - accuracy: 0.5337"
     ]
    },
    {
     "name": "stderr",
     "output_type": "stream",
     "text": [
      "Corrupt JPEG data: 128 extraneous bytes before marker 0xd9\n"
     ]
    },
    {
     "name": "stdout",
     "output_type": "stream",
     "text": [
      "540/582 [==========================>...] - ETA: 11s - loss: 0.7689 - accuracy: 0.5334"
     ]
    },
    {
     "name": "stderr",
     "output_type": "stream",
     "text": [
      "Corrupt JPEG data: 239 extraneous bytes before marker 0xd9\n"
     ]
    },
    {
     "name": "stdout",
     "output_type": "stream",
     "text": [
      "567/582 [============================>.] - ETA: 4s - loss: 0.7687 - accuracy: 0.5332"
     ]
    },
    {
     "name": "stderr",
     "output_type": "stream",
     "text": [
      "Corrupt JPEG data: 1153 extraneous bytes before marker 0xd9\n"
     ]
    },
    {
     "name": "stdout",
     "output_type": "stream",
     "text": [
      "573/582 [============================>.] - ETA: 2s - loss: 0.7689 - accuracy: 0.5329"
     ]
    },
    {
     "name": "stderr",
     "output_type": "stream",
     "text": [
      "Corrupt JPEG data: 228 extraneous bytes before marker 0xd9\n"
     ]
    },
    {
     "name": "stdout",
     "output_type": "stream",
     "text": [
      "582/582 [==============================] - ETA: 0s - loss: 0.7686 - accuracy: 0.5330"
     ]
    },
    {
     "name": "stderr",
     "output_type": "stream",
     "text": [
      "Corrupt JPEG data: 162 extraneous bytes before marker 0xd9\n",
      "Corrupt JPEG data: 252 extraneous bytes before marker 0xd9\n",
      "Corrupt JPEG data: 214 extraneous bytes before marker 0xd9\n",
      "Corrupt JPEG data: 1403 extraneous bytes before marker 0xd9\n"
     ]
    },
    {
     "name": "stdout",
     "output_type": "stream",
     "text": [
      "582/582 [==============================] - 174s 299ms/step - loss: 0.7686 - accuracy: 0.5330 - val_loss: 0.7668 - val_accuracy: 0.5355\n",
      "Epoch 6/15\n",
      "194/582 [=========>....................] - ETA: 1:47 - loss: 0.7585 - accuracy: 0.5298"
     ]
    },
    {
     "name": "stderr",
     "output_type": "stream",
     "text": [
      "Corrupt JPEG data: 99 extraneous bytes before marker 0xd9\n"
     ]
    },
    {
     "name": "stdout",
     "output_type": "stream",
     "text": [
      "226/582 [==========>...................] - ETA: 1:39 - loss: 0.7603 - accuracy: 0.5275"
     ]
    },
    {
     "name": "stderr",
     "output_type": "stream",
     "text": [
      "Warning: unknown JFIF revision number 0.00\n"
     ]
    },
    {
     "name": "stdout",
     "output_type": "stream",
     "text": [
      "236/582 [===========>..................] - ETA: 1:36 - loss: 0.7608 - accuracy: 0.5278"
     ]
    },
    {
     "name": "stderr",
     "output_type": "stream",
     "text": [
      "Corrupt JPEG data: 396 extraneous bytes before marker 0xd9\n"
     ]
    },
    {
     "name": "stdout",
     "output_type": "stream",
     "text": [
      "308/582 [==============>...............] - ETA: 1:16 - loss: 0.7596 - accuracy: 0.5317"
     ]
    },
    {
     "name": "stderr",
     "output_type": "stream",
     "text": [
      "Corrupt JPEG data: 65 extraneous bytes before marker 0xd9\n"
     ]
    },
    {
     "name": "stdout",
     "output_type": "stream",
     "text": [
      "516/582 [=========================>....] - ETA: 18s - loss: 0.7621 - accuracy: 0.5366"
     ]
    },
    {
     "name": "stderr",
     "output_type": "stream",
     "text": [
      "Corrupt JPEG data: 2226 extraneous bytes before marker 0xd9\n"
     ]
    },
    {
     "name": "stdout",
     "output_type": "stream",
     "text": [
      "529/582 [==========================>...] - ETA: 14s - loss: 0.7623 - accuracy: 0.5368"
     ]
    },
    {
     "name": "stderr",
     "output_type": "stream",
     "text": [
      "Corrupt JPEG data: 128 extraneous bytes before marker 0xd9\n"
     ]
    },
    {
     "name": "stdout",
     "output_type": "stream",
     "text": [
      "540/582 [==========================>...] - ETA: 11s - loss: 0.7623 - accuracy: 0.5372"
     ]
    },
    {
     "name": "stderr",
     "output_type": "stream",
     "text": [
      "Corrupt JPEG data: 239 extraneous bytes before marker 0xd9\n"
     ]
    },
    {
     "name": "stdout",
     "output_type": "stream",
     "text": [
      "567/582 [============================>.] - ETA: 4s - loss: 0.7618 - accuracy: 0.5376"
     ]
    },
    {
     "name": "stderr",
     "output_type": "stream",
     "text": [
      "Corrupt JPEG data: 1153 extraneous bytes before marker 0xd9\n"
     ]
    },
    {
     "name": "stdout",
     "output_type": "stream",
     "text": [
      "573/582 [============================>.] - ETA: 2s - loss: 0.7623 - accuracy: 0.5373"
     ]
    },
    {
     "name": "stderr",
     "output_type": "stream",
     "text": [
      "Corrupt JPEG data: 228 extraneous bytes before marker 0xd9\n"
     ]
    },
    {
     "name": "stdout",
     "output_type": "stream",
     "text": [
      "582/582 [==============================] - ETA: 0s - loss: 0.7623 - accuracy: 0.5375"
     ]
    },
    {
     "name": "stderr",
     "output_type": "stream",
     "text": [
      "Corrupt JPEG data: 162 extraneous bytes before marker 0xd9\n",
      "Corrupt JPEG data: 252 extraneous bytes before marker 0xd9\n",
      "Corrupt JPEG data: 214 extraneous bytes before marker 0xd9\n",
      "Corrupt JPEG data: 1403 extraneous bytes before marker 0xd9\n"
     ]
    },
    {
     "name": "stdout",
     "output_type": "stream",
     "text": [
      "582/582 [==============================] - 174s 298ms/step - loss: 0.7623 - accuracy: 0.5375 - val_loss: 0.8098 - val_accuracy: 0.5232\n",
      "Epoch 7/15\n",
      "194/582 [=========>....................] - ETA: 1:47 - loss: 0.7667 - accuracy: 0.5296"
     ]
    },
    {
     "name": "stderr",
     "output_type": "stream",
     "text": [
      "Corrupt JPEG data: 99 extraneous bytes before marker 0xd9\n"
     ]
    },
    {
     "name": "stdout",
     "output_type": "stream",
     "text": [
      "226/582 [==========>...................] - ETA: 1:38 - loss: 0.7689 - accuracy: 0.5257"
     ]
    },
    {
     "name": "stderr",
     "output_type": "stream",
     "text": [
      "Warning: unknown JFIF revision number 0.00\n"
     ]
    },
    {
     "name": "stdout",
     "output_type": "stream",
     "text": [
      "236/582 [===========>..................] - ETA: 1:36 - loss: 0.7688 - accuracy: 0.5237"
     ]
    },
    {
     "name": "stderr",
     "output_type": "stream",
     "text": [
      "Corrupt JPEG data: 396 extraneous bytes before marker 0xd9\n"
     ]
    },
    {
     "name": "stdout",
     "output_type": "stream",
     "text": [
      "308/582 [==============>...............] - ETA: 1:16 - loss: 0.7660 - accuracy: 0.5250"
     ]
    },
    {
     "name": "stderr",
     "output_type": "stream",
     "text": [
      "Corrupt JPEG data: 65 extraneous bytes before marker 0xd9\n"
     ]
    },
    {
     "name": "stdout",
     "output_type": "stream",
     "text": [
      "516/582 [=========================>....] - ETA: 18s - loss: 0.7641 - accuracy: 0.5270"
     ]
    },
    {
     "name": "stderr",
     "output_type": "stream",
     "text": [
      "Corrupt JPEG data: 2226 extraneous bytes before marker 0xd9\n"
     ]
    },
    {
     "name": "stdout",
     "output_type": "stream",
     "text": [
      "529/582 [==========================>...] - ETA: 14s - loss: 0.7632 - accuracy: 0.5284"
     ]
    },
    {
     "name": "stderr",
     "output_type": "stream",
     "text": [
      "Corrupt JPEG data: 128 extraneous bytes before marker 0xd9\n"
     ]
    },
    {
     "name": "stdout",
     "output_type": "stream",
     "text": [
      "540/582 [==========================>...] - ETA: 11s - loss: 0.7640 - accuracy: 0.5286"
     ]
    },
    {
     "name": "stderr",
     "output_type": "stream",
     "text": [
      "Corrupt JPEG data: 239 extraneous bytes before marker 0xd9\n"
     ]
    },
    {
     "name": "stdout",
     "output_type": "stream",
     "text": [
      "567/582 [============================>.] - ETA: 4s - loss: 0.7643 - accuracy: 0.5289"
     ]
    },
    {
     "name": "stderr",
     "output_type": "stream",
     "text": [
      "Corrupt JPEG data: 1153 extraneous bytes before marker 0xd9\n"
     ]
    },
    {
     "name": "stdout",
     "output_type": "stream",
     "text": [
      "573/582 [============================>.] - ETA: 2s - loss: 0.7646 - accuracy: 0.5292"
     ]
    },
    {
     "name": "stderr",
     "output_type": "stream",
     "text": [
      "Corrupt JPEG data: 228 extraneous bytes before marker 0xd9\n"
     ]
    },
    {
     "name": "stdout",
     "output_type": "stream",
     "text": [
      "582/582 [==============================] - ETA: 0s - loss: 0.7642 - accuracy: 0.5293"
     ]
    },
    {
     "name": "stderr",
     "output_type": "stream",
     "text": [
      "Corrupt JPEG data: 162 extraneous bytes before marker 0xd9\n",
      "Corrupt JPEG data: 252 extraneous bytes before marker 0xd9\n",
      "Corrupt JPEG data: 214 extraneous bytes before marker 0xd9\n",
      "Corrupt JPEG data: 1403 extraneous bytes before marker 0xd9\n"
     ]
    },
    {
     "name": "stdout",
     "output_type": "stream",
     "text": [
      "582/582 [==============================] - 174s 298ms/step - loss: 0.7642 - accuracy: 0.5293 - val_loss: 1.2066 - val_accuracy: 0.5282\n",
      "Epoch 8/15\n",
      "194/582 [=========>....................] - ETA: 1:47 - loss: 0.7683 - accuracy: 0.5330"
     ]
    },
    {
     "name": "stderr",
     "output_type": "stream",
     "text": [
      "Corrupt JPEG data: 99 extraneous bytes before marker 0xd9\n"
     ]
    },
    {
     "name": "stdout",
     "output_type": "stream",
     "text": [
      "226/582 [==========>...................] - ETA: 1:38 - loss: 0.7652 - accuracy: 0.5344"
     ]
    },
    {
     "name": "stderr",
     "output_type": "stream",
     "text": [
      "Warning: unknown JFIF revision number 0.00\n"
     ]
    },
    {
     "name": "stdout",
     "output_type": "stream",
     "text": [
      "236/582 [===========>..................] - ETA: 1:36 - loss: 0.7672 - accuracy: 0.5323"
     ]
    },
    {
     "name": "stderr",
     "output_type": "stream",
     "text": [
      "Corrupt JPEG data: 396 extraneous bytes before marker 0xd9\n"
     ]
    },
    {
     "name": "stdout",
     "output_type": "stream",
     "text": [
      "308/582 [==============>...............] - ETA: 1:16 - loss: 0.7667 - accuracy: 0.5318"
     ]
    },
    {
     "name": "stderr",
     "output_type": "stream",
     "text": [
      "Corrupt JPEG data: 65 extraneous bytes before marker 0xd9\n"
     ]
    },
    {
     "name": "stdout",
     "output_type": "stream",
     "text": [
      "516/582 [=========================>....] - ETA: 18s - loss: 0.7626 - accuracy: 0.5312"
     ]
    },
    {
     "name": "stderr",
     "output_type": "stream",
     "text": [
      "Corrupt JPEG data: 2226 extraneous bytes before marker 0xd9\n"
     ]
    },
    {
     "name": "stdout",
     "output_type": "stream",
     "text": [
      "529/582 [==========================>...] - ETA: 14s - loss: 0.7630 - accuracy: 0.5311"
     ]
    },
    {
     "name": "stderr",
     "output_type": "stream",
     "text": [
      "Corrupt JPEG data: 128 extraneous bytes before marker 0xd9\n"
     ]
    },
    {
     "name": "stdout",
     "output_type": "stream",
     "text": [
      "540/582 [==========================>...] - ETA: 11s - loss: 0.7630 - accuracy: 0.5308"
     ]
    },
    {
     "name": "stderr",
     "output_type": "stream",
     "text": [
      "Corrupt JPEG data: 239 extraneous bytes before marker 0xd9\n"
     ]
    },
    {
     "name": "stdout",
     "output_type": "stream",
     "text": [
      "567/582 [============================>.] - ETA: 4s - loss: 0.7650 - accuracy: 0.5296"
     ]
    },
    {
     "name": "stderr",
     "output_type": "stream",
     "text": [
      "Corrupt JPEG data: 1153 extraneous bytes before marker 0xd9\n"
     ]
    },
    {
     "name": "stdout",
     "output_type": "stream",
     "text": [
      "573/582 [============================>.] - ETA: 2s - loss: 0.7646 - accuracy: 0.5299"
     ]
    },
    {
     "name": "stderr",
     "output_type": "stream",
     "text": [
      "Corrupt JPEG data: 228 extraneous bytes before marker 0xd9\n"
     ]
    },
    {
     "name": "stdout",
     "output_type": "stream",
     "text": [
      "582/582 [==============================] - ETA: 0s - loss: 0.7648 - accuracy: 0.5291"
     ]
    },
    {
     "name": "stderr",
     "output_type": "stream",
     "text": [
      "Corrupt JPEG data: 162 extraneous bytes before marker 0xd9\n",
      "Corrupt JPEG data: 252 extraneous bytes before marker 0xd9\n",
      "Corrupt JPEG data: 214 extraneous bytes before marker 0xd9\n",
      "Corrupt JPEG data: 1403 extraneous bytes before marker 0xd9\n"
     ]
    },
    {
     "name": "stdout",
     "output_type": "stream",
     "text": [
      "582/582 [==============================] - 173s 298ms/step - loss: 0.7648 - accuracy: 0.5291 - val_loss: 0.8790 - val_accuracy: 0.5374\n",
      "Epoch 9/15\n",
      "194/582 [=========>....................] - ETA: 1:47 - loss: 0.7610 - accuracy: 0.5293"
     ]
    },
    {
     "name": "stderr",
     "output_type": "stream",
     "text": [
      "Corrupt JPEG data: 99 extraneous bytes before marker 0xd9\n"
     ]
    },
    {
     "name": "stdout",
     "output_type": "stream",
     "text": [
      "226/582 [==========>...................] - ETA: 1:38 - loss: 0.7603 - accuracy: 0.5285"
     ]
    },
    {
     "name": "stderr",
     "output_type": "stream",
     "text": [
      "Warning: unknown JFIF revision number 0.00\n"
     ]
    },
    {
     "name": "stdout",
     "output_type": "stream",
     "text": [
      "236/582 [===========>..................] - ETA: 1:36 - loss: 0.7612 - accuracy: 0.5266"
     ]
    },
    {
     "name": "stderr",
     "output_type": "stream",
     "text": [
      "Corrupt JPEG data: 396 extraneous bytes before marker 0xd9\n"
     ]
    },
    {
     "name": "stdout",
     "output_type": "stream",
     "text": [
      "308/582 [==============>...............] - ETA: 1:16 - loss: 0.7599 - accuracy: 0.5329"
     ]
    },
    {
     "name": "stderr",
     "output_type": "stream",
     "text": [
      "Corrupt JPEG data: 65 extraneous bytes before marker 0xd9\n"
     ]
    },
    {
     "name": "stdout",
     "output_type": "stream",
     "text": [
      "516/582 [=========================>....] - ETA: 18s - loss: 0.7654 - accuracy: 0.5265"
     ]
    },
    {
     "name": "stderr",
     "output_type": "stream",
     "text": [
      "Corrupt JPEG data: 2226 extraneous bytes before marker 0xd9\n"
     ]
    },
    {
     "name": "stdout",
     "output_type": "stream",
     "text": [
      "529/582 [==========================>...] - ETA: 14s - loss: 0.7649 - accuracy: 0.5262"
     ]
    },
    {
     "name": "stderr",
     "output_type": "stream",
     "text": [
      "Corrupt JPEG data: 128 extraneous bytes before marker 0xd9\n"
     ]
    },
    {
     "name": "stdout",
     "output_type": "stream",
     "text": [
      "540/582 [==========================>...] - ETA: 11s - loss: 0.7654 - accuracy: 0.5249"
     ]
    },
    {
     "name": "stderr",
     "output_type": "stream",
     "text": [
      "Corrupt JPEG data: 239 extraneous bytes before marker 0xd9\n"
     ]
    },
    {
     "name": "stdout",
     "output_type": "stream",
     "text": [
      "567/582 [============================>.] - ETA: 4s - loss: 0.7646 - accuracy: 0.5249"
     ]
    },
    {
     "name": "stderr",
     "output_type": "stream",
     "text": [
      "Corrupt JPEG data: 1153 extraneous bytes before marker 0xd9\n"
     ]
    },
    {
     "name": "stdout",
     "output_type": "stream",
     "text": [
      "573/582 [============================>.] - ETA: 2s - loss: 0.7644 - accuracy: 0.5248"
     ]
    },
    {
     "name": "stderr",
     "output_type": "stream",
     "text": [
      "Corrupt JPEG data: 228 extraneous bytes before marker 0xd9\n"
     ]
    },
    {
     "name": "stdout",
     "output_type": "stream",
     "text": [
      "582/582 [==============================] - ETA: 0s - loss: 0.7641 - accuracy: 0.5244"
     ]
    },
    {
     "name": "stderr",
     "output_type": "stream",
     "text": [
      "Corrupt JPEG data: 162 extraneous bytes before marker 0xd9\n",
      "Corrupt JPEG data: 252 extraneous bytes before marker 0xd9\n",
      "Corrupt JPEG data: 214 extraneous bytes before marker 0xd9\n",
      "Corrupt JPEG data: 1403 extraneous bytes before marker 0xd9\n"
     ]
    },
    {
     "name": "stdout",
     "output_type": "stream",
     "text": [
      "582/582 [==============================] - 174s 298ms/step - loss: 0.7641 - accuracy: 0.5244 - val_loss: 0.9813 - val_accuracy: 0.5316\n",
      "Epoch 10/15\n",
      "194/582 [=========>....................] - ETA: 1:47 - loss: 0.7685 - accuracy: 0.5222"
     ]
    },
    {
     "name": "stderr",
     "output_type": "stream",
     "text": [
      "Corrupt JPEG data: 99 extraneous bytes before marker 0xd9\n"
     ]
    },
    {
     "name": "stdout",
     "output_type": "stream",
     "text": [
      "226/582 [==========>...................] - ETA: 1:39 - loss: 0.7652 - accuracy: 0.5235"
     ]
    },
    {
     "name": "stderr",
     "output_type": "stream",
     "text": [
      "Warning: unknown JFIF revision number 0.00\n"
     ]
    },
    {
     "name": "stdout",
     "output_type": "stream",
     "text": [
      "236/582 [===========>..................] - ETA: 1:36 - loss: 0.7654 - accuracy: 0.5221"
     ]
    },
    {
     "name": "stderr",
     "output_type": "stream",
     "text": [
      "Corrupt JPEG data: 396 extraneous bytes before marker 0xd9\n"
     ]
    },
    {
     "name": "stdout",
     "output_type": "stream",
     "text": [
      "308/582 [==============>...............] - ETA: 1:16 - loss: 0.7629 - accuracy: 0.5242"
     ]
    },
    {
     "name": "stderr",
     "output_type": "stream",
     "text": [
      "Corrupt JPEG data: 65 extraneous bytes before marker 0xd9\n"
     ]
    },
    {
     "name": "stdout",
     "output_type": "stream",
     "text": [
      "516/582 [=========================>....] - ETA: 18s - loss: 0.7601 - accuracy: 0.5256"
     ]
    },
    {
     "name": "stderr",
     "output_type": "stream",
     "text": [
      "Corrupt JPEG data: 2226 extraneous bytes before marker 0xd9\n"
     ]
    },
    {
     "name": "stdout",
     "output_type": "stream",
     "text": [
      "529/582 [==========================>...] - ETA: 14s - loss: 0.7603 - accuracy: 0.5253"
     ]
    },
    {
     "name": "stderr",
     "output_type": "stream",
     "text": [
      "Corrupt JPEG data: 128 extraneous bytes before marker 0xd9\n"
     ]
    },
    {
     "name": "stdout",
     "output_type": "stream",
     "text": [
      "540/582 [==========================>...] - ETA: 11s - loss: 0.7603 - accuracy: 0.5255"
     ]
    },
    {
     "name": "stderr",
     "output_type": "stream",
     "text": [
      "Corrupt JPEG data: 239 extraneous bytes before marker 0xd9\n"
     ]
    },
    {
     "name": "stdout",
     "output_type": "stream",
     "text": [
      "567/582 [============================>.] - ETA: 4s - loss: 0.7612 - accuracy: 0.5244"
     ]
    },
    {
     "name": "stderr",
     "output_type": "stream",
     "text": [
      "Corrupt JPEG data: 1153 extraneous bytes before marker 0xd9\n"
     ]
    },
    {
     "name": "stdout",
     "output_type": "stream",
     "text": [
      "573/582 [============================>.] - ETA: 2s - loss: 0.7620 - accuracy: 0.5240"
     ]
    },
    {
     "name": "stderr",
     "output_type": "stream",
     "text": [
      "Corrupt JPEG data: 228 extraneous bytes before marker 0xd9\n"
     ]
    },
    {
     "name": "stdout",
     "output_type": "stream",
     "text": [
      "582/582 [==============================] - ETA: 0s - loss: 0.7621 - accuracy: 0.5239"
     ]
    },
    {
     "name": "stderr",
     "output_type": "stream",
     "text": [
      "Corrupt JPEG data: 162 extraneous bytes before marker 0xd9\n",
      "Corrupt JPEG data: 252 extraneous bytes before marker 0xd9\n",
      "Corrupt JPEG data: 214 extraneous bytes before marker 0xd9\n",
      "Corrupt JPEG data: 1403 extraneous bytes before marker 0xd9\n"
     ]
    },
    {
     "name": "stdout",
     "output_type": "stream",
     "text": [
      "582/582 [==============================] - 174s 298ms/step - loss: 0.7621 - accuracy: 0.5239 - val_loss: 0.7439 - val_accuracy: 0.5383\n",
      "Epoch 11/15\n",
      "194/582 [=========>....................] - ETA: 1:47 - loss: 0.7648 - accuracy: 0.5113"
     ]
    },
    {
     "name": "stderr",
     "output_type": "stream",
     "text": [
      "Corrupt JPEG data: 99 extraneous bytes before marker 0xd9\n"
     ]
    },
    {
     "name": "stdout",
     "output_type": "stream",
     "text": [
      "226/582 [==========>...................] - ETA: 1:38 - loss: 0.7652 - accuracy: 0.5113"
     ]
    },
    {
     "name": "stderr",
     "output_type": "stream",
     "text": [
      "Warning: unknown JFIF revision number 0.00\n"
     ]
    },
    {
     "name": "stdout",
     "output_type": "stream",
     "text": [
      "236/582 [===========>..................] - ETA: 1:35 - loss: 0.7650 - accuracy: 0.5111"
     ]
    },
    {
     "name": "stderr",
     "output_type": "stream",
     "text": [
      "Corrupt JPEG data: 396 extraneous bytes before marker 0xd9\n"
     ]
    },
    {
     "name": "stdout",
     "output_type": "stream",
     "text": [
      "308/582 [==============>...............] - ETA: 1:16 - loss: 0.7636 - accuracy: 0.5178"
     ]
    },
    {
     "name": "stderr",
     "output_type": "stream",
     "text": [
      "Corrupt JPEG data: 65 extraneous bytes before marker 0xd9\n"
     ]
    },
    {
     "name": "stdout",
     "output_type": "stream",
     "text": [
      "516/582 [=========================>....] - ETA: 18s - loss: 0.7621 - accuracy: 0.5209"
     ]
    },
    {
     "name": "stderr",
     "output_type": "stream",
     "text": [
      "Corrupt JPEG data: 2226 extraneous bytes before marker 0xd9\n"
     ]
    },
    {
     "name": "stdout",
     "output_type": "stream",
     "text": [
      "529/582 [==========================>...] - ETA: 14s - loss: 0.7627 - accuracy: 0.5212"
     ]
    },
    {
     "name": "stderr",
     "output_type": "stream",
     "text": [
      "Corrupt JPEG data: 128 extraneous bytes before marker 0xd9\n"
     ]
    },
    {
     "name": "stdout",
     "output_type": "stream",
     "text": [
      "540/582 [==========================>...] - ETA: 11s - loss: 0.7638 - accuracy: 0.5204"
     ]
    },
    {
     "name": "stderr",
     "output_type": "stream",
     "text": [
      "Corrupt JPEG data: 239 extraneous bytes before marker 0xd9\n"
     ]
    },
    {
     "name": "stdout",
     "output_type": "stream",
     "text": [
      "567/582 [============================>.] - ETA: 4s - loss: 0.7638 - accuracy: 0.5205"
     ]
    },
    {
     "name": "stderr",
     "output_type": "stream",
     "text": [
      "Corrupt JPEG data: 1153 extraneous bytes before marker 0xd9\n"
     ]
    },
    {
     "name": "stdout",
     "output_type": "stream",
     "text": [
      "573/582 [============================>.] - ETA: 2s - loss: 0.7636 - accuracy: 0.5207"
     ]
    },
    {
     "name": "stderr",
     "output_type": "stream",
     "text": [
      "Corrupt JPEG data: 228 extraneous bytes before marker 0xd9\n"
     ]
    },
    {
     "name": "stdout",
     "output_type": "stream",
     "text": [
      "582/582 [==============================] - ETA: 0s - loss: 0.7636 - accuracy: 0.5213"
     ]
    },
    {
     "name": "stderr",
     "output_type": "stream",
     "text": [
      "Corrupt JPEG data: 162 extraneous bytes before marker 0xd9\n",
      "Corrupt JPEG data: 252 extraneous bytes before marker 0xd9\n",
      "Corrupt JPEG data: 214 extraneous bytes before marker 0xd9\n",
      "Corrupt JPEG data: 1403 extraneous bytes before marker 0xd9\n"
     ]
    },
    {
     "name": "stdout",
     "output_type": "stream",
     "text": [
      "582/582 [==============================] - 174s 298ms/step - loss: 0.7636 - accuracy: 0.5213 - val_loss: 0.8435 - val_accuracy: 0.5095\n",
      "Epoch 12/15\n",
      "194/582 [=========>....................] - ETA: 1:47 - loss: 0.7624 - accuracy: 0.5279"
     ]
    },
    {
     "name": "stderr",
     "output_type": "stream",
     "text": [
      "Corrupt JPEG data: 99 extraneous bytes before marker 0xd9\n"
     ]
    },
    {
     "name": "stdout",
     "output_type": "stream",
     "text": [
      "226/582 [==========>...................] - ETA: 1:38 - loss: 0.7603 - accuracy: 0.5297"
     ]
    },
    {
     "name": "stderr",
     "output_type": "stream",
     "text": [
      "Warning: unknown JFIF revision number 0.00\n"
     ]
    },
    {
     "name": "stdout",
     "output_type": "stream",
     "text": [
      "236/582 [===========>..................] - ETA: 1:36 - loss: 0.7614 - accuracy: 0.5270"
     ]
    },
    {
     "name": "stderr",
     "output_type": "stream",
     "text": [
      "Corrupt JPEG data: 396 extraneous bytes before marker 0xd9\n"
     ]
    },
    {
     "name": "stdout",
     "output_type": "stream",
     "text": [
      "308/582 [==============>...............] - ETA: 1:16 - loss: 0.7613 - accuracy: 0.5252"
     ]
    },
    {
     "name": "stderr",
     "output_type": "stream",
     "text": [
      "Corrupt JPEG data: 65 extraneous bytes before marker 0xd9\n"
     ]
    },
    {
     "name": "stdout",
     "output_type": "stream",
     "text": [
      "516/582 [=========================>....] - ETA: 18s - loss: 0.7649 - accuracy: 0.5237"
     ]
    },
    {
     "name": "stderr",
     "output_type": "stream",
     "text": [
      "Corrupt JPEG data: 2226 extraneous bytes before marker 0xd9\n"
     ]
    },
    {
     "name": "stdout",
     "output_type": "stream",
     "text": [
      "529/582 [==========================>...] - ETA: 14s - loss: 0.7652 - accuracy: 0.5242"
     ]
    },
    {
     "name": "stderr",
     "output_type": "stream",
     "text": [
      "Corrupt JPEG data: 128 extraneous bytes before marker 0xd9\n"
     ]
    },
    {
     "name": "stdout",
     "output_type": "stream",
     "text": [
      "540/582 [==========================>...] - ETA: 11s - loss: 0.7659 - accuracy: 0.5241"
     ]
    },
    {
     "name": "stderr",
     "output_type": "stream",
     "text": [
      "Corrupt JPEG data: 239 extraneous bytes before marker 0xd9\n"
     ]
    },
    {
     "name": "stdout",
     "output_type": "stream",
     "text": [
      "567/582 [============================>.] - ETA: 4s - loss: 0.7655 - accuracy: 0.5243"
     ]
    },
    {
     "name": "stderr",
     "output_type": "stream",
     "text": [
      "Corrupt JPEG data: 1153 extraneous bytes before marker 0xd9\n"
     ]
    },
    {
     "name": "stdout",
     "output_type": "stream",
     "text": [
      "573/582 [============================>.] - ETA: 2s - loss: 0.7656 - accuracy: 0.5237"
     ]
    },
    {
     "name": "stderr",
     "output_type": "stream",
     "text": [
      "Corrupt JPEG data: 228 extraneous bytes before marker 0xd9\n"
     ]
    },
    {
     "name": "stdout",
     "output_type": "stream",
     "text": [
      "582/582 [==============================] - ETA: 0s - loss: 0.7660 - accuracy: 0.5234"
     ]
    },
    {
     "name": "stderr",
     "output_type": "stream",
     "text": [
      "Corrupt JPEG data: 162 extraneous bytes before marker 0xd9\n",
      "Corrupt JPEG data: 252 extraneous bytes before marker 0xd9\n",
      "Corrupt JPEG data: 214 extraneous bytes before marker 0xd9\n",
      "Corrupt JPEG data: 1403 extraneous bytes before marker 0xd9\n"
     ]
    },
    {
     "name": "stdout",
     "output_type": "stream",
     "text": [
      "582/582 [==============================] - 174s 298ms/step - loss: 0.7660 - accuracy: 0.5234 - val_loss: 0.8910 - val_accuracy: 0.5224\n",
      "Epoch 13/15\n",
      "194/582 [=========>....................] - ETA: 1:47 - loss: 0.7603 - accuracy: 0.5222"
     ]
    },
    {
     "name": "stderr",
     "output_type": "stream",
     "text": [
      "Corrupt JPEG data: 99 extraneous bytes before marker 0xd9\n"
     ]
    },
    {
     "name": "stdout",
     "output_type": "stream",
     "text": [
      "226/582 [==========>...................] - ETA: 1:38 - loss: 0.7631 - accuracy: 0.5181"
     ]
    },
    {
     "name": "stderr",
     "output_type": "stream",
     "text": [
      "Warning: unknown JFIF revision number 0.00\n"
     ]
    },
    {
     "name": "stdout",
     "output_type": "stream",
     "text": [
      "236/582 [===========>..................] - ETA: 1:36 - loss: 0.7636 - accuracy: 0.5160"
     ]
    },
    {
     "name": "stderr",
     "output_type": "stream",
     "text": [
      "Corrupt JPEG data: 396 extraneous bytes before marker 0xd9\n"
     ]
    },
    {
     "name": "stdout",
     "output_type": "stream",
     "text": [
      "308/582 [==============>...............] - ETA: 1:16 - loss: 0.7617 - accuracy: 0.5170"
     ]
    },
    {
     "name": "stderr",
     "output_type": "stream",
     "text": [
      "Corrupt JPEG data: 65 extraneous bytes before marker 0xd9\n"
     ]
    },
    {
     "name": "stdout",
     "output_type": "stream",
     "text": [
      "516/582 [=========================>....] - ETA: 18s - loss: 0.7612 - accuracy: 0.5119"
     ]
    },
    {
     "name": "stderr",
     "output_type": "stream",
     "text": [
      "Corrupt JPEG data: 2226 extraneous bytes before marker 0xd9\n"
     ]
    },
    {
     "name": "stdout",
     "output_type": "stream",
     "text": [
      "529/582 [==========================>...] - ETA: 14s - loss: 0.7614 - accuracy: 0.5115"
     ]
    },
    {
     "name": "stderr",
     "output_type": "stream",
     "text": [
      "Corrupt JPEG data: 128 extraneous bytes before marker 0xd9\n"
     ]
    },
    {
     "name": "stdout",
     "output_type": "stream",
     "text": [
      "540/582 [==========================>...] - ETA: 11s - loss: 0.7609 - accuracy: 0.5115"
     ]
    },
    {
     "name": "stderr",
     "output_type": "stream",
     "text": [
      "Corrupt JPEG data: 239 extraneous bytes before marker 0xd9\n"
     ]
    },
    {
     "name": "stdout",
     "output_type": "stream",
     "text": [
      "567/582 [============================>.] - ETA: 4s - loss: 0.7606 - accuracy: 0.5115"
     ]
    },
    {
     "name": "stderr",
     "output_type": "stream",
     "text": [
      "Corrupt JPEG data: 1153 extraneous bytes before marker 0xd9\n"
     ]
    },
    {
     "name": "stdout",
     "output_type": "stream",
     "text": [
      "573/582 [============================>.] - ETA: 2s - loss: 0.7607 - accuracy: 0.5116"
     ]
    },
    {
     "name": "stderr",
     "output_type": "stream",
     "text": [
      "Corrupt JPEG data: 228 extraneous bytes before marker 0xd9\n"
     ]
    },
    {
     "name": "stdout",
     "output_type": "stream",
     "text": [
      "582/582 [==============================] - ETA: 0s - loss: 0.7604 - accuracy: 0.5114"
     ]
    },
    {
     "name": "stderr",
     "output_type": "stream",
     "text": [
      "Corrupt JPEG data: 162 extraneous bytes before marker 0xd9\n",
      "Corrupt JPEG data: 252 extraneous bytes before marker 0xd9\n",
      "Corrupt JPEG data: 214 extraneous bytes before marker 0xd9\n",
      "Corrupt JPEG data: 1403 extraneous bytes before marker 0xd9\n"
     ]
    },
    {
     "name": "stdout",
     "output_type": "stream",
     "text": [
      "582/582 [==============================] - 174s 298ms/step - loss: 0.7604 - accuracy: 0.5114 - val_loss: 1.2210 - val_accuracy: 0.5062\n",
      "Epoch 14/15\n",
      "194/582 [=========>....................] - ETA: 1:47 - loss: 0.7569 - accuracy: 0.5168"
     ]
    },
    {
     "name": "stderr",
     "output_type": "stream",
     "text": [
      "Corrupt JPEG data: 99 extraneous bytes before marker 0xd9\n"
     ]
    },
    {
     "name": "stdout",
     "output_type": "stream",
     "text": [
      "226/582 [==========>...................] - ETA: 1:38 - loss: 0.7577 - accuracy: 0.5155"
     ]
    },
    {
     "name": "stderr",
     "output_type": "stream",
     "text": [
      "Warning: unknown JFIF revision number 0.00\n"
     ]
    },
    {
     "name": "stdout",
     "output_type": "stream",
     "text": [
      "236/582 [===========>..................] - ETA: 1:36 - loss: 0.7585 - accuracy: 0.5139"
     ]
    },
    {
     "name": "stderr",
     "output_type": "stream",
     "text": [
      "Corrupt JPEG data: 396 extraneous bytes before marker 0xd9\n"
     ]
    },
    {
     "name": "stdout",
     "output_type": "stream",
     "text": [
      "308/582 [==============>...............] - ETA: 1:16 - loss: 0.7570 - accuracy: 0.5188"
     ]
    },
    {
     "name": "stderr",
     "output_type": "stream",
     "text": [
      "Corrupt JPEG data: 65 extraneous bytes before marker 0xd9\n"
     ]
    },
    {
     "name": "stdout",
     "output_type": "stream",
     "text": [
      "516/582 [=========================>....] - ETA: 18s - loss: 0.7566 - accuracy: 0.5206"
     ]
    },
    {
     "name": "stderr",
     "output_type": "stream",
     "text": [
      "Corrupt JPEG data: 2226 extraneous bytes before marker 0xd9\n"
     ]
    },
    {
     "name": "stdout",
     "output_type": "stream",
     "text": [
      "529/582 [==========================>...] - ETA: 14s - loss: 0.7562 - accuracy: 0.5211"
     ]
    },
    {
     "name": "stderr",
     "output_type": "stream",
     "text": [
      "Corrupt JPEG data: 128 extraneous bytes before marker 0xd9\n"
     ]
    },
    {
     "name": "stdout",
     "output_type": "stream",
     "text": [
      "540/582 [==========================>...] - ETA: 11s - loss: 0.7571 - accuracy: 0.5199"
     ]
    },
    {
     "name": "stderr",
     "output_type": "stream",
     "text": [
      "Corrupt JPEG data: 239 extraneous bytes before marker 0xd9\n"
     ]
    },
    {
     "name": "stdout",
     "output_type": "stream",
     "text": [
      "567/582 [============================>.] - ETA: 4s - loss: 0.7573 - accuracy: 0.5202"
     ]
    },
    {
     "name": "stderr",
     "output_type": "stream",
     "text": [
      "Corrupt JPEG data: 1153 extraneous bytes before marker 0xd9\n"
     ]
    },
    {
     "name": "stdout",
     "output_type": "stream",
     "text": [
      "573/582 [============================>.] - ETA: 2s - loss: 0.7573 - accuracy: 0.5205"
     ]
    },
    {
     "name": "stderr",
     "output_type": "stream",
     "text": [
      "Corrupt JPEG data: 228 extraneous bytes before marker 0xd9\n"
     ]
    },
    {
     "name": "stdout",
     "output_type": "stream",
     "text": [
      "582/582 [==============================] - ETA: 0s - loss: 0.7576 - accuracy: 0.5205"
     ]
    },
    {
     "name": "stderr",
     "output_type": "stream",
     "text": [
      "Corrupt JPEG data: 162 extraneous bytes before marker 0xd9\n",
      "Corrupt JPEG data: 252 extraneous bytes before marker 0xd9\n",
      "Corrupt JPEG data: 214 extraneous bytes before marker 0xd9\n",
      "Corrupt JPEG data: 1403 extraneous bytes before marker 0xd9\n"
     ]
    },
    {
     "name": "stdout",
     "output_type": "stream",
     "text": [
      "582/582 [==============================] - 174s 298ms/step - loss: 0.7576 - accuracy: 0.5205 - val_loss: 1.9882 - val_accuracy: 0.5030\n",
      "Epoch 15/15\n",
      "194/582 [=========>....................] - ETA: 1:47 - loss: 0.7583 - accuracy: 0.5217"
     ]
    },
    {
     "name": "stderr",
     "output_type": "stream",
     "text": [
      "Corrupt JPEG data: 99 extraneous bytes before marker 0xd9\n"
     ]
    },
    {
     "name": "stdout",
     "output_type": "stream",
     "text": [
      "226/582 [==========>...................] - ETA: 1:38 - loss: 0.7594 - accuracy: 0.5195"
     ]
    },
    {
     "name": "stderr",
     "output_type": "stream",
     "text": [
      "Warning: unknown JFIF revision number 0.00\n"
     ]
    },
    {
     "name": "stdout",
     "output_type": "stream",
     "text": [
      "236/582 [===========>..................] - ETA: 1:36 - loss: 0.7598 - accuracy: 0.5180"
     ]
    },
    {
     "name": "stderr",
     "output_type": "stream",
     "text": [
      "Corrupt JPEG data: 396 extraneous bytes before marker 0xd9\n"
     ]
    },
    {
     "name": "stdout",
     "output_type": "stream",
     "text": [
      "308/582 [==============>...............] - ETA: 1:16 - loss: 0.7573 - accuracy: 0.5185"
     ]
    },
    {
     "name": "stderr",
     "output_type": "stream",
     "text": [
      "Corrupt JPEG data: 65 extraneous bytes before marker 0xd9\n"
     ]
    },
    {
     "name": "stdout",
     "output_type": "stream",
     "text": [
      "516/582 [=========================>....] - ETA: 18s - loss: 0.7568 - accuracy: 0.5174"
     ]
    },
    {
     "name": "stderr",
     "output_type": "stream",
     "text": [
      "Corrupt JPEG data: 2226 extraneous bytes before marker 0xd9\n"
     ]
    },
    {
     "name": "stdout",
     "output_type": "stream",
     "text": [
      "529/582 [==========================>...] - ETA: 14s - loss: 0.7574 - accuracy: 0.5174"
     ]
    },
    {
     "name": "stderr",
     "output_type": "stream",
     "text": [
      "Corrupt JPEG data: 128 extraneous bytes before marker 0xd9\n"
     ]
    },
    {
     "name": "stdout",
     "output_type": "stream",
     "text": [
      "540/582 [==========================>...] - ETA: 11s - loss: 0.7579 - accuracy: 0.5164"
     ]
    },
    {
     "name": "stderr",
     "output_type": "stream",
     "text": [
      "Corrupt JPEG data: 239 extraneous bytes before marker 0xd9\n"
     ]
    },
    {
     "name": "stdout",
     "output_type": "stream",
     "text": [
      "567/582 [============================>.] - ETA: 4s - loss: 0.7584 - accuracy: 0.5148"
     ]
    },
    {
     "name": "stderr",
     "output_type": "stream",
     "text": [
      "Corrupt JPEG data: 1153 extraneous bytes before marker 0xd9\n"
     ]
    },
    {
     "name": "stdout",
     "output_type": "stream",
     "text": [
      "573/582 [============================>.] - ETA: 2s - loss: 0.7583 - accuracy: 0.5149"
     ]
    },
    {
     "name": "stderr",
     "output_type": "stream",
     "text": [
      "Corrupt JPEG data: 228 extraneous bytes before marker 0xd9\n"
     ]
    },
    {
     "name": "stdout",
     "output_type": "stream",
     "text": [
      "582/582 [==============================] - ETA: 0s - loss: 0.7578 - accuracy: 0.5153"
     ]
    },
    {
     "name": "stderr",
     "output_type": "stream",
     "text": [
      "Corrupt JPEG data: 162 extraneous bytes before marker 0xd9\n",
      "Corrupt JPEG data: 252 extraneous bytes before marker 0xd9\n",
      "Corrupt JPEG data: 214 extraneous bytes before marker 0xd9\n",
      "Corrupt JPEG data: 1403 extraneous bytes before marker 0xd9\n"
     ]
    },
    {
     "name": "stdout",
     "output_type": "stream",
     "text": [
      "\b\b\b\b\b\b\b\b\b\b\b\b\b\b\b\b\b\b\b\b\b\b\b\b\b\b\b\b\b\b\b\b\b\b\b\b\b\b\b\b\b\b\b\b\b\b\b\b\b\b\b\b\b\b\b\b\b\b\b\b\b\b\b\b\b\b\b\b\b\b\b\b\b\b\b\b\b\b\b\b\b\b\b\b\r",
      "582/582 [==============================] - 174s 298ms/step - loss: 0.7578 - accuracy: 0.5153 - val_loss: 0.7711 - val_accuracy: 0.5116\n"
     ]
    }
   ],
   "source": [
    "plain_50.compile(\n",
    "    loss='sparse_categorical_crossentropy',\n",
    "    optimizer=tf.keras.optimizers.SGD(lr=0.01, clipnorm=1.),\n",
    "    metrics=['accuracy'],\n",
    ")\n",
    "\n",
    "history_plain50 = plain_50.fit(\n",
    "    ds_train,\n",
    "    epochs=EPOCH,\n",
    "    validation_data=ds_test,\n",
    "    verbose=1,\n",
    "    use_multiprocessing=True,\n",
    ")"
   ]
  },
  {
   "cell_type": "code",
   "execution_count": 15,
   "metadata": {
    "scrolled": true
   },
   "outputs": [
    {
     "data": {
      "image/png": "[encoded data removed]",
      "text/plain": [
       "<Figure size 1080x1080 with 4 Axes>"
      ]
     },
     "metadata": {
      "needs_background": "light"
     },
     "output_type": "display_data"
    }
   ],
   "source": [
    "import matplotlib.pyplot as plt\n",
    "\n",
    "fig, axes = plt.subplots(2, 2, figsize=(15, 15))\n",
    "\n",
    "# loss\n",
    "axes[0][0].plot(history_plain34.history['loss'], 'r', label='plain34')\n",
    "axes[0][0].plot(history_res34.history['loss'], 'b', label='res34')\n",
    "axes[0][0].set_title('Model Training Loss', fontsize=14)\n",
    "axes[0][0].set_ylabel('Loss', fontsize=12)\n",
    "axes[0][0].set_xlabel('Epoch', fontsize=12)\n",
    "axes[0][0].legend(loc='upper left', fontsize=10)\n",
    "axes[0][0].grid(True, linestyle='--', alpha=0.7)\n",
    "\n",
    "# acc\n",
    "axes[0][1].plot(history_plain34.history['accuracy'], 'r', label='plain34')\n",
    "axes[0][1].plot(history_res34.history['accuracy'], 'b', label='res34')\n",
    "axes[0][1].set_title('Model Training Accuracy', fontsize=14)\n",
    "axes[0][1].set_ylabel('Accuracy', fontsize=12)\n",
    "axes[0][1].set_xlabel('Epoch', fontsize=12)\n",
    "axes[0][1].legend(loc='upper left', fontsize=10)\n",
    "axes[0][1].grid(True, linestyle='--', alpha=0.7)\n",
    "\n",
    "# val_loss\n",
    "axes[1][0].plot(history_plain34.history['val_loss'], 'r', label='plain34')\n",
    "axes[1][0].plot(history_res34.history['val_loss'], 'b', label='res34')\n",
    "axes[1][0].set_title('Model Validation Loss', fontsize=14)\n",
    "axes[1][0].set_ylabel('Loss', fontsize=12)\n",
    "axes[1][0].set_xlabel('Epoch', fontsize=12)\n",
    "axes[1][0].legend(loc='upper left', fontsize=10)\n",
    "axes[1][0].grid(True, linestyle='--', alpha=0.7)\n",
    "\n",
    "# var_acc\n",
    "axes[1][1].plot(history_plain34.history['val_accuracy'], 'r', label='plain34')\n",
    "axes[1][1].plot(history_res34.history['val_accuracy'], 'b', label='res34')\n",
    "axes[1][1].set_title('Model Validation Accuracy', fontsize=14)\n",
    "axes[1][1].set_ylabel('Accuracy', fontsize=12)\n",
    "axes[1][1].set_xlabel('Epoch', fontsize=12)\n",
    "axes[1][1].legend(loc='upper left', fontsize=10)\n",
    "axes[1][1].grid(True, linestyle='--', alpha=0.7)\n",
    "\n",
    "plt.tight_layout()\n",
    "plt.show()"
   ]
  },
  {
   "cell_type": "code",
   "execution_count": 16,
   "metadata": {},
   "outputs": [
    {
     "data": {
      "image/png": "[encoded data removed]",
      "text/plain": [
       "<Figure size 1080x1080 with 4 Axes>"
      ]
     },
     "metadata": {
      "needs_background": "light"
     },
     "output_type": "display_data"
    }
   ],
   "source": [
    "fig, axes = plt.subplots(2, 2, figsize=(15, 15))\n",
    "\n",
    "# loss\n",
    "axes[0][0].plot(history_plain50.history['loss'], 'r', label='plain50')\n",
    "axes[0][0].plot(history_res50.history['loss'], 'b', label='res50')\n",
    "axes[0][0].set_title('Model Training Loss', fontsize=14)\n",
    "axes[0][0].set_ylabel('Loss', fontsize=12)\n",
    "axes[0][0].set_xlabel('Epoch', fontsize=12)\n",
    "axes[0][0].legend(loc='upper left', fontsize=10)\n",
    "axes[0][0].grid(True, linestyle='--', alpha=0.7)\n",
    "\n",
    "# acc\n",
    "axes[0][1].plot(history_plain50.history['accuracy'], 'r', label='plain50')\n",
    "axes[0][1].plot(history_res50.history['accuracy'], 'b', label='res50')\n",
    "axes[0][1].set_title('Model Training Accuracy', fontsize=14)\n",
    "axes[0][1].set_ylabel('Accuracy', fontsize=12)\n",
    "axes[0][1].set_xlabel('Epoch', fontsize=12)\n",
    "axes[0][1].legend(loc='upper left', fontsize=10)\n",
    "axes[0][1].grid(True, linestyle='--', alpha=0.7)\n",
    "\n",
    "# val_loss\n",
    "axes[1][0].plot(history_plain50.history['val_loss'], 'r', label='plain50')\n",
    "axes[1][0].plot(history_res50.history['val_loss'], 'b', label='res50')\n",
    "axes[1][0].set_title('Model Validation Loss', fontsize=14)\n",
    "axes[1][0].set_ylabel('Loss', fontsize=12)\n",
    "axes[1][0].set_xlabel('Epoch', fontsize=12)\n",
    "axes[1][0].legend(loc='upper left', fontsize=10)\n",
    "axes[1][0].grid(True, linestyle='--', alpha=0.7)\n",
    "\n",
    "# var_acc\n",
    "axes[1][1].plot(history_plain50.history['val_accuracy'], 'r', label='plain50')\n",
    "axes[1][1].plot(history_res50.history['val_accuracy'], 'b', label='res50')\n",
    "axes[1][1].set_title('Model Validation Accuracy', fontsize=14)\n",
    "axes[1][1].set_ylabel('Accuracy', fontsize=12)\n",
    "axes[1][1].set_xlabel('Epoch', fontsize=12)\n",
    "axes[1][1].legend(loc='upper left', fontsize=10)\n",
    "axes[1][1].grid(True, linestyle='--', alpha=0.7)\n",
    "\n",
    "plt.tight_layout()\n",
    "plt.show()"
   ]
  },
  {
   "cell_type": "markdown",
   "metadata": {},
   "source": [
    "### cifar-10\n",
    "![34cifar10](https://github.com/user-attachments/assets/579d0686-4a8f-419d-8033-42d26ae4878d)\n",
    "![50cifar10](https://github.com/user-attachments/assets/0e767743-47df-42b4-b0d7-e1e6f1a561a4)"
   ]
  },
  {
   "cell_type": "markdown",
   "metadata": {},
   "source": [
    "### 회고\n",
    "- cifar-10의 데이터를 사용할 때보다 cats_vs_dogs를 사용할 때 이미지의 크기에 비례한 훈련속도 증가가 있었습니다.\n",
    "- 처음 실수로 resnet_50에서 약 1.4억개의 파라미터를 가진 모델을 만들어서 훈련이 진행되었는데 마찬가지로 훈련시간이 비례적으로 증가했습니다.\n",
    "    - cifar-10에서 약 2100만개의 파라미터 : 약 20초\n",
    "    - cifar-10에서 약 1.4억개의 파라미터 : 약 120초\n",
    "- cifar-10에서 validation loss와 validation accuracy가 많이 요동치는 모습을 보여줬지만 에폭수가 적어서 그렇다고 생각했습니다.\n",
    "- cifar-10에서 학습이 진행됨에 따라 res_34가 plain_34보다 좋은 성능을 보여주었습니다.\n",
    "- cifar-10에서 res_50과 plain_50은 결과가 비슷했습니다. 더 많은 에폭을 두고 결과를 관찰해야 할 것 같습니다.\n",
    "- 모델을 구성할 때 논문상의 conv3_1, conv4_1, conv5_1에서 다운샘플링을 진행하는데 이를 위해서 1x1의 커널을 갖는 conv층을 하나 두게 되었습니다. 이걸 conv층을 두지않고 다르게 처리할 수 있는지를 공부해야 합니다.\n",
    "    - 파라미터 수가 증가하기 때문에 파라미터가 증가하지 않고 다운샘플링하는 법을 찾아봐야 할 것입니다.\n",
    "    - conv레이어의 필터가 1x1이라 하더라도 3채널간의 convolution은 일어나기 때문에 좀더 데이터가 가공되지 않는 방향으로의 방법이 궁금합니다.\n",
    "- cats_vs_dogs에서도 cifar-10과 비슷한 결과가 나왔다."
   ]
  },
  {
   "cell_type": "code",
   "execution_count": null,
   "metadata": {},
   "outputs": [],
   "source": []
  }
 ],
 "metadata": {
  "colab": {
   "provenance": []
  },
  "kernelspec": {
   "display_name": "Python 3 (ipykernel)",
   "language": "python",
   "name": "python3"
  },
  "language_info": {
   "codemirror_mode": {
    "name": "ipython",
    "version": 3
   },
   "file_extension": ".py",
   "mimetype": "text/x-python",
   "name": "python",
   "nbconvert_exporter": "python",
   "pygments_lexer": "ipython3",
   "version": "3.9.7"
  }
 },
 "nbformat": 4,
 "nbformat_minor": 1
}
