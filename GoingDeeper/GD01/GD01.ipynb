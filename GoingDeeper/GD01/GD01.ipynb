{
 "cells": [
  {
   "cell_type": "code",
   "execution_count": 1,
   "metadata": {
    "id": "EO5ZqRN2j7cI"
   },
   "outputs": [],
   "source": [
    "import tensorflow as tf\n",
    "import numpy as np\n",
    "from tensorflow import keras"
   ]
  },
  {
   "cell_type": "markdown",
   "metadata": {},
   "source": [
    "# resnet ablation study\n",
    "## resnet의 구조\n",
    "![resnet](https://github.com/user-attachments/assets/065687c6-2711-4296-8844-7bf3099437b9)\n",
    "![resnet_block](https://github.com/user-attachments/assets/e9ed45ab-5189-49cb-8205-4626c1ec89c8)\n",
    "![resnet_structure](https://github.com/user-attachments/assets/2a0b8e9e-8a3c-465f-92e4-ea9a9a5c69fd)\n",
    "\n",
    "## 작성해볼 resnet은 34와 50\n",
    "### 공통점\n",
    "- conv block을 반복해서 쌓은 형태\n",
    "- 7x7커널의 conv1과 3x3의 maxpool층을 거친 후 conv block으로 진행  \n",
    "\n",
    "### 차이점\n",
    "- conv block의 내부 구조가 다름\n",
    "    - 34에서는 3x3커널을 사용한 2개의 conv 레이어로 구성되어 있지만 50에서는 1x1, 3x3, 1x1의 3개의 conv 레이어로 구성되어 있음\n",
    "    - bottleneck 구조\n",
    "        - 계산 효율성을 높이고 네트워크의 깊이를 증가 시킬 수 있음  \n",
    "        \n",
    "## 코드 진행\n",
    "1. resnet의 conv블럭과 이것을 포함한 resnet 빌드함수 구현\n",
    "    - 34층 50층을 선택할 수 있도록 is_50 구성\n",
    "    - plain모델과 residual connection기능을 구현한 is_plain 구성\n",
    "2. 데이터셋 구성\n",
    "3. resnet_34부터 plain_34, resnet_50, plain_50순으로 빌드 및 훈련, 기록\n",
    "    - 각 모델별 사용 후 메모리 해제를 통해 메모리 관리\n",
    "4. 결과 시각화"
   ]
  },
  {
   "cell_type": "code",
   "execution_count": 2,
   "metadata": {
    "id": "wmhFOUdbj_cY"
   },
   "outputs": [],
   "source": [
    "def build_resnet_block(input_layer, num_cnn=3, channel=64, block_num=1,is_50 = False,is_plain = False):\n",
    "    x = input_layer\n",
    "    if is_50:\n",
    "        is50_n = 1\n",
    "    else:\n",
    "        is50_n = 0\n",
    "    if is_plain:\n",
    "        isplain_n = 1\n",
    "    else:\n",
    "        isplain_n = 0\n",
    "        \n",
    "    if not is_50:\n",
    "        for i in range(num_cnn):\n",
    "            identity = x\n",
    "            if block_num !=0 and i==0:\n",
    "                stride = 2\n",
    "            else:\n",
    "                stride = 1\n",
    "            x = keras.layers.Conv2D(filters=channel, kernel_size = 3, activation='relu', kernel_initializer='he_normal', strides=stride, padding = 'same', name=f'stage{block_num}_{i}_conv1_{is50_n}{isplain_n}')(x)\n",
    "            x = keras.layers.BatchNormalization()(x)\n",
    "            x = keras.layers.Activation('relu')(x)\n",
    "\n",
    "            x = keras.layers.Conv2D(filters=channel, kernel_size = 3, activation='relu', kernel_initializer='he_normal', padding = 'same', name=f'stage{block_num}_{i}_conv2_{is50_n}{isplain_n}')(x)\n",
    "            x = keras.layers.BatchNormalization()(x)\n",
    "\n",
    "            #플레인 모델에서는 잔차연결x\n",
    "            if not is_plain:\n",
    "                # identity mapping의 channel 수를 맞추기 위해 1x1 Convolution을 사용합니다.\n",
    "                if i==0:\n",
    "                    identity = keras.layers.Conv2D(filters=x.shape[-1], kernel_size=1, strides=stride, padding='same', name=f'identity_{block_num}_{i}_{is50_n}{isplain_n}')(identity)\n",
    "                #add\n",
    "                x = keras.layers.Add()([x, identity])\n",
    "                x = keras.layers.Activation('relu')(x)\n",
    "    else:\n",
    "        for i in range(num_cnn):\n",
    "            identity = x\n",
    "            if block_num !=0 and i==0:\n",
    "                stride = 2\n",
    "            else:\n",
    "                stride = 1\n",
    "            x = keras.layers.Conv2D(filters=channel, kernel_size = 1, activation='relu', kernel_initializer='he_normal', strides=stride, padding = 'same', name=f'stage{block_num}_{i}_conv1_{is50_n}{isplain_n}')(x)\n",
    "            x = keras.layers.BatchNormalization()(x)\n",
    "            x = keras.layers.Activation('relu')(x)\n",
    "\n",
    "            x = keras.layers.Conv2D(filters=channel, kernel_size = 3, activation='relu', kernel_initializer='he_normal', padding = 'same', name=f'stage{block_num}_{i}_conv2_{is50_n}{isplain_n}')(x)\n",
    "            x = keras.layers.BatchNormalization()(x)\n",
    "            x = keras.layers.Activation('relu')(x)\n",
    "\n",
    "            x = keras.layers.Conv2D(filters=channel*4, kernel_size = 1, activation='relu', kernel_initializer='he_normal', padding = 'same', name=f'stage{block_num}_{i}_conv3_{is50_n}{isplain_n}')(x)\n",
    "            x = keras.layers.BatchNormalization()(x)\n",
    "\n",
    "            #플레인 모델에서는 잔차연결x\n",
    "            if not is_plain:\n",
    "                identity = keras.layers.Conv2D(filters=channel*4, kernel_size = 1, activation='relu', kernel_initializer='he_normal', strides=stride, padding = 'same', name=f'identity_{block_num}_{i}_{is50_n}{isplain_n}')(identity)\n",
    "                identity = keras.layers.BatchNormalization()(identity)\n",
    "                #add\n",
    "                x = keras.layers.Add()([x, identity])\n",
    "                x = keras.layers.Activation('relu')(x)\n",
    "    return x"
   ]
  },
  {
   "cell_type": "code",
   "execution_count": 3,
   "metadata": {
    "id": "OCX_5z2To6OL"
   },
   "outputs": [],
   "source": [
    "def build_resnet(input_shape=(32,32,3),\n",
    "              num_cnn_list=[3,4,6,3],\n",
    "              channel_list=[64,128,256,512],\n",
    "              num_classes=10,is_50 = False, is_plain = False):\n",
    "\n",
    "    assert len(num_cnn_list) == len(channel_list)\n",
    "\n",
    "    input_layer = keras.layers.Input(shape=input_shape)\n",
    "    output = input_layer\n",
    "    output = keras.layers.Conv2D(filters=64, kernel_size = 7, activation='relu', strides = 2, padding = 'same')(output)\n",
    "    output = keras.layers.BatchNormalization()(output)\n",
    "    output = keras.layers.Activation('relu')(output)\n",
    "\n",
    "    # conv2 pooling\n",
    "    output = keras.layers.MaxPooling2D(pool_size = 3, strides = 2, padding = 'same')(output)\n",
    "\n",
    "    for i, (num_cnn, channel) in enumerate(zip(num_cnn_list, channel_list)):\n",
    "        output = build_resnet_block(\n",
    "            output,\n",
    "            num_cnn=num_cnn,\n",
    "            channel=channel,\n",
    "            block_num=i,\n",
    "            is_50 = is_50,\n",
    "            is_plain = is_plain\n",
    "        )\n",
    "\n",
    "    output = keras.layers.AveragePooling2D(pool_size=2, padding = 'same', name='avg_pool')(output)\n",
    "    output = keras.layers.Flatten(name='flatten')(output)\n",
    "    output = keras.layers.Dense(num_classes, activation='softmax', name='fc1000')(output)\n",
    "\n",
    "    model = keras.models.Model(inputs=input_layer, outputs=output)\n",
    "    return model"
   ]
  },
  {
   "cell_type": "code",
   "execution_count": 4,
   "metadata": {
    "colab": {
     "base_uri": "https://localhost:8080/",
     "height": 1000
    },
    "id": "ICblSP4qx3yl",
    "outputId": "ca862db8-fe50-4406-aa83-30994dd3cb12"
   },
   "outputs": [
    {
     "name": "stdout",
     "output_type": "stream",
     "text": [
      "Model: \"model\"\n",
      "__________________________________________________________________________________________________\n",
      "Layer (type)                    Output Shape         Param #     Connected to                     \n",
      "==================================================================================================\n",
      "input_1 (InputLayer)            [(None, 224, 224, 3) 0                                            \n",
      "__________________________________________________________________________________________________\n",
      "conv2d (Conv2D)                 (None, 112, 112, 64) 9472        input_1[0][0]                    \n",
      "__________________________________________________________________________________________________\n",
      "batch_normalization (BatchNorma (None, 112, 112, 64) 256         conv2d[0][0]                     \n",
      "__________________________________________________________________________________________________\n",
      "activation (Activation)         (None, 112, 112, 64) 0           batch_normalization[0][0]        \n",
      "__________________________________________________________________________________________________\n",
      "max_pooling2d (MaxPooling2D)    (None, 56, 56, 64)   0           activation[0][0]                 \n",
      "__________________________________________________________________________________________________\n",
      "stage0_0_conv1_00 (Conv2D)      (None, 56, 56, 64)   36928       max_pooling2d[0][0]              \n",
      "__________________________________________________________________________________________________\n",
      "batch_normalization_1 (BatchNor (None, 56, 56, 64)   256         stage0_0_conv1_00[0][0]          \n",
      "__________________________________________________________________________________________________\n",
      "activation_1 (Activation)       (None, 56, 56, 64)   0           batch_normalization_1[0][0]      \n",
      "__________________________________________________________________________________________________\n",
      "stage0_0_conv2_00 (Conv2D)      (None, 56, 56, 64)   36928       activation_1[0][0]               \n",
      "__________________________________________________________________________________________________\n",
      "batch_normalization_2 (BatchNor (None, 56, 56, 64)   256         stage0_0_conv2_00[0][0]          \n",
      "__________________________________________________________________________________________________\n",
      "identity_0_0_00 (Conv2D)        (None, 56, 56, 64)   4160        max_pooling2d[0][0]              \n",
      "__________________________________________________________________________________________________\n",
      "add (Add)                       (None, 56, 56, 64)   0           batch_normalization_2[0][0]      \n",
      "                                                                 identity_0_0_00[0][0]            \n",
      "__________________________________________________________________________________________________\n",
      "activation_2 (Activation)       (None, 56, 56, 64)   0           add[0][0]                        \n",
      "__________________________________________________________________________________________________\n",
      "stage0_1_conv1_00 (Conv2D)      (None, 56, 56, 64)   36928       activation_2[0][0]               \n",
      "__________________________________________________________________________________________________\n",
      "batch_normalization_3 (BatchNor (None, 56, 56, 64)   256         stage0_1_conv1_00[0][0]          \n",
      "__________________________________________________________________________________________________\n",
      "activation_3 (Activation)       (None, 56, 56, 64)   0           batch_normalization_3[0][0]      \n",
      "__________________________________________________________________________________________________\n",
      "stage0_1_conv2_00 (Conv2D)      (None, 56, 56, 64)   36928       activation_3[0][0]               \n",
      "__________________________________________________________________________________________________\n",
      "batch_normalization_4 (BatchNor (None, 56, 56, 64)   256         stage0_1_conv2_00[0][0]          \n",
      "__________________________________________________________________________________________________\n",
      "add_1 (Add)                     (None, 56, 56, 64)   0           batch_normalization_4[0][0]      \n",
      "                                                                 activation_2[0][0]               \n",
      "__________________________________________________________________________________________________\n",
      "activation_4 (Activation)       (None, 56, 56, 64)   0           add_1[0][0]                      \n",
      "__________________________________________________________________________________________________\n",
      "stage0_2_conv1_00 (Conv2D)      (None, 56, 56, 64)   36928       activation_4[0][0]               \n",
      "__________________________________________________________________________________________________\n",
      "batch_normalization_5 (BatchNor (None, 56, 56, 64)   256         stage0_2_conv1_00[0][0]          \n",
      "__________________________________________________________________________________________________\n",
      "activation_5 (Activation)       (None, 56, 56, 64)   0           batch_normalization_5[0][0]      \n",
      "__________________________________________________________________________________________________\n",
      "stage0_2_conv2_00 (Conv2D)      (None, 56, 56, 64)   36928       activation_5[0][0]               \n",
      "__________________________________________________________________________________________________\n",
      "batch_normalization_6 (BatchNor (None, 56, 56, 64)   256         stage0_2_conv2_00[0][0]          \n",
      "__________________________________________________________________________________________________\n",
      "add_2 (Add)                     (None, 56, 56, 64)   0           batch_normalization_6[0][0]      \n",
      "                                                                 activation_4[0][0]               \n",
      "__________________________________________________________________________________________________\n",
      "activation_6 (Activation)       (None, 56, 56, 64)   0           add_2[0][0]                      \n",
      "__________________________________________________________________________________________________\n",
      "stage1_0_conv1_00 (Conv2D)      (None, 28, 28, 128)  73856       activation_6[0][0]               \n",
      "__________________________________________________________________________________________________\n",
      "batch_normalization_7 (BatchNor (None, 28, 28, 128)  512         stage1_0_conv1_00[0][0]          \n",
      "__________________________________________________________________________________________________\n",
      "activation_7 (Activation)       (None, 28, 28, 128)  0           batch_normalization_7[0][0]      \n",
      "__________________________________________________________________________________________________\n",
      "stage1_0_conv2_00 (Conv2D)      (None, 28, 28, 128)  147584      activation_7[0][0]               \n",
      "__________________________________________________________________________________________________\n",
      "batch_normalization_8 (BatchNor (None, 28, 28, 128)  512         stage1_0_conv2_00[0][0]          \n",
      "__________________________________________________________________________________________________\n",
      "identity_1_0_00 (Conv2D)        (None, 28, 28, 128)  8320        activation_6[0][0]               \n",
      "__________________________________________________________________________________________________\n",
      "add_3 (Add)                     (None, 28, 28, 128)  0           batch_normalization_8[0][0]      \n",
      "                                                                 identity_1_0_00[0][0]            \n",
      "__________________________________________________________________________________________________\n",
      "activation_8 (Activation)       (None, 28, 28, 128)  0           add_3[0][0]                      \n",
      "__________________________________________________________________________________________________\n",
      "stage1_1_conv1_00 (Conv2D)      (None, 28, 28, 128)  147584      activation_8[0][0]               \n",
      "__________________________________________________________________________________________________\n",
      "batch_normalization_9 (BatchNor (None, 28, 28, 128)  512         stage1_1_conv1_00[0][0]          \n",
      "__________________________________________________________________________________________________\n",
      "activation_9 (Activation)       (None, 28, 28, 128)  0           batch_normalization_9[0][0]      \n",
      "__________________________________________________________________________________________________\n",
      "stage1_1_conv2_00 (Conv2D)      (None, 28, 28, 128)  147584      activation_9[0][0]               \n",
      "__________________________________________________________________________________________________\n",
      "batch_normalization_10 (BatchNo (None, 28, 28, 128)  512         stage1_1_conv2_00[0][0]          \n",
      "__________________________________________________________________________________________________\n",
      "add_4 (Add)                     (None, 28, 28, 128)  0           batch_normalization_10[0][0]     \n",
      "                                                                 activation_8[0][0]               \n",
      "__________________________________________________________________________________________________\n",
      "activation_10 (Activation)      (None, 28, 28, 128)  0           add_4[0][0]                      \n",
      "__________________________________________________________________________________________________\n",
      "stage1_2_conv1_00 (Conv2D)      (None, 28, 28, 128)  147584      activation_10[0][0]              \n",
      "__________________________________________________________________________________________________\n",
      "batch_normalization_11 (BatchNo (None, 28, 28, 128)  512         stage1_2_conv1_00[0][0]          \n",
      "__________________________________________________________________________________________________\n",
      "activation_11 (Activation)      (None, 28, 28, 128)  0           batch_normalization_11[0][0]     \n",
      "__________________________________________________________________________________________________\n",
      "stage1_2_conv2_00 (Conv2D)      (None, 28, 28, 128)  147584      activation_11[0][0]              \n",
      "__________________________________________________________________________________________________\n",
      "batch_normalization_12 (BatchNo (None, 28, 28, 128)  512         stage1_2_conv2_00[0][0]          \n",
      "__________________________________________________________________________________________________\n",
      "add_5 (Add)                     (None, 28, 28, 128)  0           batch_normalization_12[0][0]     \n",
      "                                                                 activation_10[0][0]              \n",
      "__________________________________________________________________________________________________\n",
      "activation_12 (Activation)      (None, 28, 28, 128)  0           add_5[0][0]                      \n",
      "__________________________________________________________________________________________________\n",
      "stage1_3_conv1_00 (Conv2D)      (None, 28, 28, 128)  147584      activation_12[0][0]              \n",
      "__________________________________________________________________________________________________\n",
      "batch_normalization_13 (BatchNo (None, 28, 28, 128)  512         stage1_3_conv1_00[0][0]          \n",
      "__________________________________________________________________________________________________\n",
      "activation_13 (Activation)      (None, 28, 28, 128)  0           batch_normalization_13[0][0]     \n",
      "__________________________________________________________________________________________________\n",
      "stage1_3_conv2_00 (Conv2D)      (None, 28, 28, 128)  147584      activation_13[0][0]              \n",
      "__________________________________________________________________________________________________\n",
      "batch_normalization_14 (BatchNo (None, 28, 28, 128)  512         stage1_3_conv2_00[0][0]          \n",
      "__________________________________________________________________________________________________\n",
      "add_6 (Add)                     (None, 28, 28, 128)  0           batch_normalization_14[0][0]     \n",
      "                                                                 activation_12[0][0]              \n",
      "__________________________________________________________________________________________________\n",
      "activation_14 (Activation)      (None, 28, 28, 128)  0           add_6[0][0]                      \n",
      "__________________________________________________________________________________________________\n",
      "stage2_0_conv1_00 (Conv2D)      (None, 14, 14, 256)  295168      activation_14[0][0]              \n",
      "__________________________________________________________________________________________________\n",
      "batch_normalization_15 (BatchNo (None, 14, 14, 256)  1024        stage2_0_conv1_00[0][0]          \n",
      "__________________________________________________________________________________________________\n",
      "activation_15 (Activation)      (None, 14, 14, 256)  0           batch_normalization_15[0][0]     \n",
      "__________________________________________________________________________________________________\n",
      "stage2_0_conv2_00 (Conv2D)      (None, 14, 14, 256)  590080      activation_15[0][0]              \n",
      "__________________________________________________________________________________________________\n",
      "batch_normalization_16 (BatchNo (None, 14, 14, 256)  1024        stage2_0_conv2_00[0][0]          \n",
      "__________________________________________________________________________________________________\n",
      "identity_2_0_00 (Conv2D)        (None, 14, 14, 256)  33024       activation_14[0][0]              \n",
      "__________________________________________________________________________________________________\n",
      "add_7 (Add)                     (None, 14, 14, 256)  0           batch_normalization_16[0][0]     \n",
      "                                                                 identity_2_0_00[0][0]            \n",
      "__________________________________________________________________________________________________\n",
      "activation_16 (Activation)      (None, 14, 14, 256)  0           add_7[0][0]                      \n",
      "__________________________________________________________________________________________________\n",
      "stage2_1_conv1_00 (Conv2D)      (None, 14, 14, 256)  590080      activation_16[0][0]              \n",
      "__________________________________________________________________________________________________\n",
      "batch_normalization_17 (BatchNo (None, 14, 14, 256)  1024        stage2_1_conv1_00[0][0]          \n",
      "__________________________________________________________________________________________________\n",
      "activation_17 (Activation)      (None, 14, 14, 256)  0           batch_normalization_17[0][0]     \n",
      "__________________________________________________________________________________________________\n",
      "stage2_1_conv2_00 (Conv2D)      (None, 14, 14, 256)  590080      activation_17[0][0]              \n",
      "__________________________________________________________________________________________________\n",
      "batch_normalization_18 (BatchNo (None, 14, 14, 256)  1024        stage2_1_conv2_00[0][0]          \n",
      "__________________________________________________________________________________________________\n",
      "add_8 (Add)                     (None, 14, 14, 256)  0           batch_normalization_18[0][0]     \n",
      "                                                                 activation_16[0][0]              \n",
      "__________________________________________________________________________________________________\n",
      "activation_18 (Activation)      (None, 14, 14, 256)  0           add_8[0][0]                      \n",
      "__________________________________________________________________________________________________\n",
      "stage2_2_conv1_00 (Conv2D)      (None, 14, 14, 256)  590080      activation_18[0][0]              \n",
      "__________________________________________________________________________________________________\n",
      "batch_normalization_19 (BatchNo (None, 14, 14, 256)  1024        stage2_2_conv1_00[0][0]          \n",
      "__________________________________________________________________________________________________\n",
      "activation_19 (Activation)      (None, 14, 14, 256)  0           batch_normalization_19[0][0]     \n",
      "__________________________________________________________________________________________________\n",
      "stage2_2_conv2_00 (Conv2D)      (None, 14, 14, 256)  590080      activation_19[0][0]              \n",
      "__________________________________________________________________________________________________\n",
      "batch_normalization_20 (BatchNo (None, 14, 14, 256)  1024        stage2_2_conv2_00[0][0]          \n",
      "__________________________________________________________________________________________________\n",
      "add_9 (Add)                     (None, 14, 14, 256)  0           batch_normalization_20[0][0]     \n",
      "                                                                 activation_18[0][0]              \n",
      "__________________________________________________________________________________________________\n",
      "activation_20 (Activation)      (None, 14, 14, 256)  0           add_9[0][0]                      \n",
      "__________________________________________________________________________________________________\n",
      "stage2_3_conv1_00 (Conv2D)      (None, 14, 14, 256)  590080      activation_20[0][0]              \n",
      "__________________________________________________________________________________________________\n",
      "batch_normalization_21 (BatchNo (None, 14, 14, 256)  1024        stage2_3_conv1_00[0][0]          \n",
      "__________________________________________________________________________________________________\n",
      "activation_21 (Activation)      (None, 14, 14, 256)  0           batch_normalization_21[0][0]     \n",
      "__________________________________________________________________________________________________\n",
      "stage2_3_conv2_00 (Conv2D)      (None, 14, 14, 256)  590080      activation_21[0][0]              \n",
      "__________________________________________________________________________________________________\n",
      "batch_normalization_22 (BatchNo (None, 14, 14, 256)  1024        stage2_3_conv2_00[0][0]          \n",
      "__________________________________________________________________________________________________\n",
      "add_10 (Add)                    (None, 14, 14, 256)  0           batch_normalization_22[0][0]     \n",
      "                                                                 activation_20[0][0]              \n",
      "__________________________________________________________________________________________________\n",
      "activation_22 (Activation)      (None, 14, 14, 256)  0           add_10[0][0]                     \n",
      "__________________________________________________________________________________________________\n",
      "stage2_4_conv1_00 (Conv2D)      (None, 14, 14, 256)  590080      activation_22[0][0]              \n",
      "__________________________________________________________________________________________________\n",
      "batch_normalization_23 (BatchNo (None, 14, 14, 256)  1024        stage2_4_conv1_00[0][0]          \n",
      "__________________________________________________________________________________________________\n",
      "activation_23 (Activation)      (None, 14, 14, 256)  0           batch_normalization_23[0][0]     \n",
      "__________________________________________________________________________________________________\n",
      "stage2_4_conv2_00 (Conv2D)      (None, 14, 14, 256)  590080      activation_23[0][0]              \n",
      "__________________________________________________________________________________________________\n",
      "batch_normalization_24 (BatchNo (None, 14, 14, 256)  1024        stage2_4_conv2_00[0][0]          \n",
      "__________________________________________________________________________________________________\n",
      "add_11 (Add)                    (None, 14, 14, 256)  0           batch_normalization_24[0][0]     \n",
      "                                                                 activation_22[0][0]              \n",
      "__________________________________________________________________________________________________\n",
      "activation_24 (Activation)      (None, 14, 14, 256)  0           add_11[0][0]                     \n",
      "__________________________________________________________________________________________________\n",
      "stage2_5_conv1_00 (Conv2D)      (None, 14, 14, 256)  590080      activation_24[0][0]              \n",
      "__________________________________________________________________________________________________\n",
      "batch_normalization_25 (BatchNo (None, 14, 14, 256)  1024        stage2_5_conv1_00[0][0]          \n",
      "__________________________________________________________________________________________________\n",
      "activation_25 (Activation)      (None, 14, 14, 256)  0           batch_normalization_25[0][0]     \n",
      "__________________________________________________________________________________________________\n",
      "stage2_5_conv2_00 (Conv2D)      (None, 14, 14, 256)  590080      activation_25[0][0]              \n",
      "__________________________________________________________________________________________________\n",
      "batch_normalization_26 (BatchNo (None, 14, 14, 256)  1024        stage2_5_conv2_00[0][0]          \n",
      "__________________________________________________________________________________________________\n",
      "add_12 (Add)                    (None, 14, 14, 256)  0           batch_normalization_26[0][0]     \n",
      "                                                                 activation_24[0][0]              \n",
      "__________________________________________________________________________________________________\n",
      "activation_26 (Activation)      (None, 14, 14, 256)  0           add_12[0][0]                     \n",
      "__________________________________________________________________________________________________\n",
      "stage3_0_conv1_00 (Conv2D)      (None, 7, 7, 512)    1180160     activation_26[0][0]              \n",
      "__________________________________________________________________________________________________\n",
      "batch_normalization_27 (BatchNo (None, 7, 7, 512)    2048        stage3_0_conv1_00[0][0]          \n",
      "__________________________________________________________________________________________________\n",
      "activation_27 (Activation)      (None, 7, 7, 512)    0           batch_normalization_27[0][0]     \n",
      "__________________________________________________________________________________________________\n",
      "stage3_0_conv2_00 (Conv2D)      (None, 7, 7, 512)    2359808     activation_27[0][0]              \n",
      "__________________________________________________________________________________________________\n",
      "batch_normalization_28 (BatchNo (None, 7, 7, 512)    2048        stage3_0_conv2_00[0][0]          \n",
      "__________________________________________________________________________________________________\n",
      "identity_3_0_00 (Conv2D)        (None, 7, 7, 512)    131584      activation_26[0][0]              \n",
      "__________________________________________________________________________________________________\n",
      "add_13 (Add)                    (None, 7, 7, 512)    0           batch_normalization_28[0][0]     \n",
      "                                                                 identity_3_0_00[0][0]            \n",
      "__________________________________________________________________________________________________\n",
      "activation_28 (Activation)      (None, 7, 7, 512)    0           add_13[0][0]                     \n",
      "__________________________________________________________________________________________________\n",
      "stage3_1_conv1_00 (Conv2D)      (None, 7, 7, 512)    2359808     activation_28[0][0]              \n",
      "__________________________________________________________________________________________________\n",
      "batch_normalization_29 (BatchNo (None, 7, 7, 512)    2048        stage3_1_conv1_00[0][0]          \n",
      "__________________________________________________________________________________________________\n",
      "activation_29 (Activation)      (None, 7, 7, 512)    0           batch_normalization_29[0][0]     \n",
      "__________________________________________________________________________________________________\n",
      "stage3_1_conv2_00 (Conv2D)      (None, 7, 7, 512)    2359808     activation_29[0][0]              \n",
      "__________________________________________________________________________________________________\n",
      "batch_normalization_30 (BatchNo (None, 7, 7, 512)    2048        stage3_1_conv2_00[0][0]          \n",
      "__________________________________________________________________________________________________\n",
      "add_14 (Add)                    (None, 7, 7, 512)    0           batch_normalization_30[0][0]     \n",
      "                                                                 activation_28[0][0]              \n",
      "__________________________________________________________________________________________________\n",
      "activation_30 (Activation)      (None, 7, 7, 512)    0           add_14[0][0]                     \n",
      "__________________________________________________________________________________________________\n",
      "stage3_2_conv1_00 (Conv2D)      (None, 7, 7, 512)    2359808     activation_30[0][0]              \n",
      "__________________________________________________________________________________________________\n",
      "batch_normalization_31 (BatchNo (None, 7, 7, 512)    2048        stage3_2_conv1_00[0][0]          \n",
      "__________________________________________________________________________________________________\n",
      "activation_31 (Activation)      (None, 7, 7, 512)    0           batch_normalization_31[0][0]     \n",
      "__________________________________________________________________________________________________\n",
      "stage3_2_conv2_00 (Conv2D)      (None, 7, 7, 512)    2359808     activation_31[0][0]              \n",
      "__________________________________________________________________________________________________\n",
      "batch_normalization_32 (BatchNo (None, 7, 7, 512)    2048        stage3_2_conv2_00[0][0]          \n",
      "__________________________________________________________________________________________________\n",
      "add_15 (Add)                    (None, 7, 7, 512)    0           batch_normalization_32[0][0]     \n",
      "                                                                 activation_30[0][0]              \n",
      "__________________________________________________________________________________________________\n",
      "activation_32 (Activation)      (None, 7, 7, 512)    0           add_15[0][0]                     \n",
      "__________________________________________________________________________________________________\n",
      "avg_pool (AveragePooling2D)     (None, 4, 4, 512)    0           activation_32[0][0]              \n",
      "__________________________________________________________________________________________________\n",
      "flatten (Flatten)               (None, 8192)         0           avg_pool[0][0]                   \n",
      "__________________________________________________________________________________________________\n",
      "fc1000 (Dense)                  (None, 10)           81930       flatten[0][0]                    \n",
      "==================================================================================================\n",
      "Total params: 21,392,714\n",
      "Trainable params: 21,377,482\n",
      "Non-trainable params: 15,232\n",
      "__________________________________________________________________________________________________\n"
     ]
    }
   ],
   "source": [
    "resnet_34 = build_resnet(input_shape=(224,224,3))\n",
    "resnet_34.summary()"
   ]
  },
  {
   "cell_type": "code",
   "execution_count": 5,
   "metadata": {
    "id": "r50DyTxFeaBK"
   },
   "outputs": [],
   "source": [
    "import tensorflow_datasets as tfds\n",
    "import urllib3\n",
    "urllib3.disable_warnings()"
   ]
  },
  {
   "cell_type": "code",
   "execution_count": 6,
   "metadata": {},
   "outputs": [],
   "source": [
    "# 데이터셋 로드 및 전처리\n",
    "def preprocess(image, label, target_size=(224, 224)):\n",
    "    image = tf.image.resize(image, target_size)\n",
    "    image = image / 255.0  # Normalize to [0, 1]\n",
    "    return image, label\n",
    "\n",
    "def load_data(dataset_name='cats_vs_dogs', batch_size=32, target_size=(224, 224)):\n",
    "    (train_ds, val_ds), ds_info = tfds.load(\n",
    "        dataset_name,\n",
    "        split=['train[:80%]', 'train[80%:]'],\n",
    "        as_supervised=True,\n",
    "        with_info=True,\n",
    "    )\n",
    "    num_classes = ds_info.features['label'].num_classes\n",
    "    train_ds = train_ds.map(lambda x, y: preprocess(x, y, target_size)).batch(batch_size).prefetch(tf.data.AUTOTUNE)\n",
    "    val_ds = val_ds.map(lambda x, y: preprocess(x, y, target_size)).batch(batch_size).prefetch(tf.data.AUTOTUNE)\n",
    "    return train_ds, val_ds, num_classes"
   ]
  },
  {
   "cell_type": "code",
   "execution_count": 7,
   "metadata": {
    "id": "H0089-aydgCw"
   },
   "outputs": [],
   "source": [
    "BATCH_SIZE = 32\n",
    "EPOCH = 15\n",
    "\n",
    "setattr(tfds.image_classification.cats_vs_dogs, '_URL',\"https://download.microsoft.com/download/3/E/1/3E1C3F21-ECDB-4869-8368-6DEBA77B919F/kagglecatsanddogs_5340.zip\")\n",
    "dataset_name = 'cats_vs_dogs'\n",
    "\n",
    "ds_train, ds_test, num_classes = load_data(dataset_name, batch_size=BATCH_SIZE, target_size=(224, 224))"
   ]
  },
  {
   "cell_type": "code",
   "execution_count": 8,
   "metadata": {
    "id": "YkvDMB2Udkk2"
   },
   "outputs": [
    {
     "name": "stderr",
     "output_type": "stream",
     "text": [
      "/opt/conda/lib/python3.9/site-packages/keras/optimizer_v2/optimizer_v2.py:355: UserWarning: The `lr` argument is deprecated, use `learning_rate` instead.\n",
      "  warnings.warn(\n"
     ]
    },
    {
     "name": "stdout",
     "output_type": "stream",
     "text": [
      "Epoch 1/15\n",
      "195/582 [=========>....................] - ETA: 1:08 - loss: 1.2949 - accuracy: 0.5178"
     ]
    },
    {
     "name": "stderr",
     "output_type": "stream",
     "text": [
      "Corrupt JPEG data: 99 extraneous bytes before marker 0xd9\n"
     ]
    },
    {
     "name": "stdout",
     "output_type": "stream",
     "text": [
      "227/582 [==========>...................] - ETA: 1:03 - loss: 1.2695 - accuracy: 0.5204"
     ]
    },
    {
     "name": "stderr",
     "output_type": "stream",
     "text": [
      "Warning: unknown JFIF revision number 0.00\n"
     ]
    },
    {
     "name": "stdout",
     "output_type": "stream",
     "text": [
      "237/582 [===========>..................] - ETA: 1:01 - loss: 1.2631 - accuracy: 0.5191"
     ]
    },
    {
     "name": "stderr",
     "output_type": "stream",
     "text": [
      "Corrupt JPEG data: 396 extraneous bytes before marker 0xd9\n"
     ]
    },
    {
     "name": "stdout",
     "output_type": "stream",
     "text": [
      "309/582 [==============>...............] - ETA: 48s - loss: 1.2147 - accuracy: 0.5244"
     ]
    },
    {
     "name": "stderr",
     "output_type": "stream",
     "text": [
      "Corrupt JPEG data: 65 extraneous bytes before marker 0xd9\n"
     ]
    },
    {
     "name": "stdout",
     "output_type": "stream",
     "text": [
      "517/582 [=========================>....] - ETA: 11s - loss: 1.1450 - accuracy: 0.5348"
     ]
    },
    {
     "name": "stderr",
     "output_type": "stream",
     "text": [
      "Corrupt JPEG data: 2226 extraneous bytes before marker 0xd9\n"
     ]
    },
    {
     "name": "stdout",
     "output_type": "stream",
     "text": [
      "530/582 [==========================>...] - ETA: 9s - loss: 1.1426 - accuracy: 0.5348"
     ]
    },
    {
     "name": "stderr",
     "output_type": "stream",
     "text": [
      "Corrupt JPEG data: 128 extraneous bytes before marker 0xd9\n"
     ]
    },
    {
     "name": "stdout",
     "output_type": "stream",
     "text": [
      "541/582 [==========================>...] - ETA: 7s - loss: 1.1388 - accuracy: 0.5360"
     ]
    },
    {
     "name": "stderr",
     "output_type": "stream",
     "text": [
      "Corrupt JPEG data: 239 extraneous bytes before marker 0xd9\n"
     ]
    },
    {
     "name": "stdout",
     "output_type": "stream",
     "text": [
      "568/582 [============================>.] - ETA: 2s - loss: 1.1327 - accuracy: 0.5360"
     ]
    },
    {
     "name": "stderr",
     "output_type": "stream",
     "text": [
      "Corrupt JPEG data: 1153 extraneous bytes before marker 0xd9\n"
     ]
    },
    {
     "name": "stdout",
     "output_type": "stream",
     "text": [
      "574/582 [============================>.] - ETA: 1s - loss: 1.1312 - accuracy: 0.5361"
     ]
    },
    {
     "name": "stderr",
     "output_type": "stream",
     "text": [
      "Corrupt JPEG data: 228 extraneous bytes before marker 0xd9\n"
     ]
    },
    {
     "name": "stdout",
     "output_type": "stream",
     "text": [
      "582/582 [==============================] - ETA: 0s - loss: 1.1310 - accuracy: 0.5355"
     ]
    },
    {
     "name": "stderr",
     "output_type": "stream",
     "text": [
      "Corrupt JPEG data: 162 extraneous bytes before marker 0xd9\n",
      "Corrupt JPEG data: 252 extraneous bytes before marker 0xd9\n",
      "Corrupt JPEG data: 214 extraneous bytes before marker 0xd9\n",
      "Corrupt JPEG data: 1403 extraneous bytes before marker 0xd9\n"
     ]
    },
    {
     "name": "stdout",
     "output_type": "stream",
     "text": [
      "582/582 [==============================] - 123s 196ms/step - loss: 1.1310 - accuracy: 0.5355 - val_loss: 0.9943 - val_accuracy: 0.5170\n",
      "Epoch 2/15\n",
      "195/582 [=========>....................] - ETA: 1:09 - loss: 1.0015 - accuracy: 0.5359"
     ]
    },
    {
     "name": "stderr",
     "output_type": "stream",
     "text": [
      "Corrupt JPEG data: 99 extraneous bytes before marker 0xd9\n"
     ]
    },
    {
     "name": "stdout",
     "output_type": "stream",
     "text": [
      "227/582 [==========>...................] - ETA: 1:04 - loss: 0.9948 - accuracy: 0.5370"
     ]
    },
    {
     "name": "stderr",
     "output_type": "stream",
     "text": [
      "Warning: unknown JFIF revision number 0.00\n"
     ]
    },
    {
     "name": "stdout",
     "output_type": "stream",
     "text": [
      "237/582 [===========>..................] - ETA: 1:02 - loss: 1.0014 - accuracy: 0.5352"
     ]
    },
    {
     "name": "stderr",
     "output_type": "stream",
     "text": [
      "Corrupt JPEG data: 396 extraneous bytes before marker 0xd9\n"
     ]
    },
    {
     "name": "stdout",
     "output_type": "stream",
     "text": [
      "309/582 [==============>...............] - ETA: 49s - loss: 1.0041 - accuracy: 0.5344"
     ]
    },
    {
     "name": "stderr",
     "output_type": "stream",
     "text": [
      "Corrupt JPEG data: 65 extraneous bytes before marker 0xd9\n"
     ]
    },
    {
     "name": "stdout",
     "output_type": "stream",
     "text": [
      "517/582 [=========================>....] - ETA: 11s - loss: 0.9971 - accuracy: 0.5360"
     ]
    },
    {
     "name": "stderr",
     "output_type": "stream",
     "text": [
      "Corrupt JPEG data: 2226 extraneous bytes before marker 0xd9\n"
     ]
    },
    {
     "name": "stdout",
     "output_type": "stream",
     "text": [
      "530/582 [==========================>...] - ETA: 9s - loss: 0.9979 - accuracy: 0.5358"
     ]
    },
    {
     "name": "stderr",
     "output_type": "stream",
     "text": [
      "Corrupt JPEG data: 128 extraneous bytes before marker 0xd9\n"
     ]
    },
    {
     "name": "stdout",
     "output_type": "stream",
     "text": [
      "541/582 [==========================>...] - ETA: 7s - loss: 0.9976 - accuracy: 0.5358"
     ]
    },
    {
     "name": "stderr",
     "output_type": "stream",
     "text": [
      "Corrupt JPEG data: 239 extraneous bytes before marker 0xd9\n"
     ]
    },
    {
     "name": "stdout",
     "output_type": "stream",
     "text": [
      "568/582 [============================>.] - ETA: 2s - loss: 0.9938 - accuracy: 0.5367"
     ]
    },
    {
     "name": "stderr",
     "output_type": "stream",
     "text": [
      "Corrupt JPEG data: 1153 extraneous bytes before marker 0xd9\n"
     ]
    },
    {
     "name": "stdout",
     "output_type": "stream",
     "text": [
      "574/582 [============================>.] - ETA: 1s - loss: 0.9927 - accuracy: 0.5369"
     ]
    },
    {
     "name": "stderr",
     "output_type": "stream",
     "text": [
      "Corrupt JPEG data: 228 extraneous bytes before marker 0xd9\n"
     ]
    },
    {
     "name": "stdout",
     "output_type": "stream",
     "text": [
      "582/582 [==============================] - ETA: 0s - loss: 0.9927 - accuracy: 0.5366"
     ]
    },
    {
     "name": "stderr",
     "output_type": "stream",
     "text": [
      "Corrupt JPEG data: 162 extraneous bytes before marker 0xd9\n",
      "Corrupt JPEG data: 252 extraneous bytes before marker 0xd9\n",
      "Corrupt JPEG data: 214 extraneous bytes before marker 0xd9\n",
      "Corrupt JPEG data: 1403 extraneous bytes before marker 0xd9\n"
     ]
    },
    {
     "name": "stdout",
     "output_type": "stream",
     "text": [
      "582/582 [==============================] - 112s 193ms/step - loss: 0.9927 - accuracy: 0.5366 - val_loss: 1.1355 - val_accuracy: 0.5312\n",
      "Epoch 3/15\n",
      "195/582 [=========>....................] - ETA: 1:10 - loss: 0.9222 - accuracy: 0.5429"
     ]
    },
    {
     "name": "stderr",
     "output_type": "stream",
     "text": [
      "Corrupt JPEG data: 99 extraneous bytes before marker 0xd9\n"
     ]
    },
    {
     "name": "stdout",
     "output_type": "stream",
     "text": [
      "227/582 [==========>...................] - ETA: 1:04 - loss: 0.9188 - accuracy: 0.5430"
     ]
    },
    {
     "name": "stderr",
     "output_type": "stream",
     "text": [
      "Warning: unknown JFIF revision number 0.00\n"
     ]
    },
    {
     "name": "stdout",
     "output_type": "stream",
     "text": [
      "237/582 [===========>..................] - ETA: 1:02 - loss: 0.9229 - accuracy: 0.5407"
     ]
    },
    {
     "name": "stderr",
     "output_type": "stream",
     "text": [
      "Corrupt JPEG data: 396 extraneous bytes before marker 0xd9\n"
     ]
    },
    {
     "name": "stdout",
     "output_type": "stream",
     "text": [
      "309/582 [==============>...............] - ETA: 49s - loss: 0.9243 - accuracy: 0.5438"
     ]
    },
    {
     "name": "stderr",
     "output_type": "stream",
     "text": [
      "Corrupt JPEG data: 65 extraneous bytes before marker 0xd9\n"
     ]
    },
    {
     "name": "stdout",
     "output_type": "stream",
     "text": [
      "517/582 [=========================>....] - ETA: 11s - loss: 0.9199 - accuracy: 0.5493"
     ]
    },
    {
     "name": "stderr",
     "output_type": "stream",
     "text": [
      "Corrupt JPEG data: 2226 extraneous bytes before marker 0xd9\n"
     ]
    },
    {
     "name": "stdout",
     "output_type": "stream",
     "text": [
      "530/582 [==========================>...] - ETA: 9s - loss: 0.9186 - accuracy: 0.5498"
     ]
    },
    {
     "name": "stderr",
     "output_type": "stream",
     "text": [
      "Corrupt JPEG data: 128 extraneous bytes before marker 0xd9\n"
     ]
    },
    {
     "name": "stdout",
     "output_type": "stream",
     "text": [
      "541/582 [==========================>...] - ETA: 7s - loss: 0.9180 - accuracy: 0.5489"
     ]
    },
    {
     "name": "stderr",
     "output_type": "stream",
     "text": [
      "Corrupt JPEG data: 239 extraneous bytes before marker 0xd9\n"
     ]
    },
    {
     "name": "stdout",
     "output_type": "stream",
     "text": [
      "568/582 [============================>.] - ETA: 2s - loss: 0.9156 - accuracy: 0.5489"
     ]
    },
    {
     "name": "stderr",
     "output_type": "stream",
     "text": [
      "Corrupt JPEG data: 1153 extraneous bytes before marker 0xd9\n"
     ]
    },
    {
     "name": "stdout",
     "output_type": "stream",
     "text": [
      "574/582 [============================>.] - ETA: 1s - loss: 0.9153 - accuracy: 0.5490"
     ]
    },
    {
     "name": "stderr",
     "output_type": "stream",
     "text": [
      "Corrupt JPEG data: 228 extraneous bytes before marker 0xd9\n"
     ]
    },
    {
     "name": "stdout",
     "output_type": "stream",
     "text": [
      "582/582 [==============================] - ETA: 0s - loss: 0.9162 - accuracy: 0.5482"
     ]
    },
    {
     "name": "stderr",
     "output_type": "stream",
     "text": [
      "Corrupt JPEG data: 162 extraneous bytes before marker 0xd9\n",
      "Corrupt JPEG data: 252 extraneous bytes before marker 0xd9\n",
      "Corrupt JPEG data: 214 extraneous bytes before marker 0xd9\n",
      "Corrupt JPEG data: 1403 extraneous bytes before marker 0xd9\n"
     ]
    },
    {
     "name": "stdout",
     "output_type": "stream",
     "text": [
      "582/582 [==============================] - 112s 193ms/step - loss: 0.9162 - accuracy: 0.5482 - val_loss: 0.8831 - val_accuracy: 0.5361\n",
      "Epoch 4/15\n",
      "195/582 [=========>....................] - ETA: 1:09 - loss: 0.9134 - accuracy: 0.5470"
     ]
    },
    {
     "name": "stderr",
     "output_type": "stream",
     "text": [
      "Corrupt JPEG data: 99 extraneous bytes before marker 0xd9\n"
     ]
    },
    {
     "name": "stdout",
     "output_type": "stream",
     "text": [
      "227/582 [==========>...................] - ETA: 1:04 - loss: 0.9136 - accuracy: 0.5428"
     ]
    },
    {
     "name": "stderr",
     "output_type": "stream",
     "text": [
      "Warning: unknown JFIF revision number 0.00\n"
     ]
    },
    {
     "name": "stdout",
     "output_type": "stream",
     "text": [
      "237/582 [===========>..................] - ETA: 1:02 - loss: 0.9178 - accuracy: 0.5414"
     ]
    },
    {
     "name": "stderr",
     "output_type": "stream",
     "text": [
      "Corrupt JPEG data: 396 extraneous bytes before marker 0xd9\n"
     ]
    },
    {
     "name": "stdout",
     "output_type": "stream",
     "text": [
      "309/582 [==============>...............] - ETA: 49s - loss: 0.9184 - accuracy: 0.5415"
     ]
    },
    {
     "name": "stderr",
     "output_type": "stream",
     "text": [
      "Corrupt JPEG data: 65 extraneous bytes before marker 0xd9\n"
     ]
    },
    {
     "name": "stdout",
     "output_type": "stream",
     "text": [
      "517/582 [=========================>....] - ETA: 11s - loss: 0.9095 - accuracy: 0.5403"
     ]
    },
    {
     "name": "stderr",
     "output_type": "stream",
     "text": [
      "Corrupt JPEG data: 2226 extraneous bytes before marker 0xd9\n"
     ]
    },
    {
     "name": "stdout",
     "output_type": "stream",
     "text": [
      "530/582 [==========================>...] - ETA: 9s - loss: 0.9089 - accuracy: 0.5401"
     ]
    },
    {
     "name": "stderr",
     "output_type": "stream",
     "text": [
      "Corrupt JPEG data: 128 extraneous bytes before marker 0xd9\n"
     ]
    },
    {
     "name": "stdout",
     "output_type": "stream",
     "text": [
      "541/582 [==========================>...] - ETA: 7s - loss: 0.9086 - accuracy: 0.5402"
     ]
    },
    {
     "name": "stderr",
     "output_type": "stream",
     "text": [
      "Corrupt JPEG data: 239 extraneous bytes before marker 0xd9\n"
     ]
    },
    {
     "name": "stdout",
     "output_type": "stream",
     "text": [
      "568/582 [============================>.] - ETA: 2s - loss: 0.9087 - accuracy: 0.5399"
     ]
    },
    {
     "name": "stderr",
     "output_type": "stream",
     "text": [
      "Corrupt JPEG data: 1153 extraneous bytes before marker 0xd9\n"
     ]
    },
    {
     "name": "stdout",
     "output_type": "stream",
     "text": [
      "574/582 [============================>.] - ETA: 1s - loss: 0.9091 - accuracy: 0.5397"
     ]
    },
    {
     "name": "stderr",
     "output_type": "stream",
     "text": [
      "Corrupt JPEG data: 228 extraneous bytes before marker 0xd9\n"
     ]
    },
    {
     "name": "stdout",
     "output_type": "stream",
     "text": [
      "582/582 [==============================] - ETA: 0s - loss: 0.9084 - accuracy: 0.5394"
     ]
    },
    {
     "name": "stderr",
     "output_type": "stream",
     "text": [
      "Corrupt JPEG data: 162 extraneous bytes before marker 0xd9\n",
      "Corrupt JPEG data: 252 extraneous bytes before marker 0xd9\n",
      "Corrupt JPEG data: 214 extraneous bytes before marker 0xd9\n",
      "Corrupt JPEG data: 1403 extraneous bytes before marker 0xd9\n"
     ]
    },
    {
     "name": "stdout",
     "output_type": "stream",
     "text": [
      "582/582 [==============================] - 112s 193ms/step - loss: 0.9084 - accuracy: 0.5394 - val_loss: 0.8432 - val_accuracy: 0.5176\n",
      "Epoch 5/15\n",
      "195/582 [=========>....................] - ETA: 1:09 - loss: 0.8664 - accuracy: 0.5446"
     ]
    },
    {
     "name": "stderr",
     "output_type": "stream",
     "text": [
      "Corrupt JPEG data: 99 extraneous bytes before marker 0xd9\n"
     ]
    },
    {
     "name": "stdout",
     "output_type": "stream",
     "text": [
      "227/582 [==========>...................] - ETA: 1:04 - loss: 0.8631 - accuracy: 0.5501"
     ]
    },
    {
     "name": "stderr",
     "output_type": "stream",
     "text": [
      "Warning: unknown JFIF revision number 0.00\n"
     ]
    },
    {
     "name": "stdout",
     "output_type": "stream",
     "text": [
      "237/582 [===========>..................] - ETA: 1:02 - loss: 0.8652 - accuracy: 0.5497"
     ]
    },
    {
     "name": "stderr",
     "output_type": "stream",
     "text": [
      "Corrupt JPEG data: 396 extraneous bytes before marker 0xd9\n"
     ]
    },
    {
     "name": "stdout",
     "output_type": "stream",
     "text": [
      "309/582 [==============>...............] - ETA: 49s - loss: 0.8699 - accuracy: 0.5448"
     ]
    },
    {
     "name": "stderr",
     "output_type": "stream",
     "text": [
      "Corrupt JPEG data: 65 extraneous bytes before marker 0xd9\n"
     ]
    },
    {
     "name": "stdout",
     "output_type": "stream",
     "text": [
      "517/582 [=========================>....] - ETA: 11s - loss: 0.8594 - accuracy: 0.5471"
     ]
    },
    {
     "name": "stderr",
     "output_type": "stream",
     "text": [
      "Corrupt JPEG data: 2226 extraneous bytes before marker 0xd9\n"
     ]
    },
    {
     "name": "stdout",
     "output_type": "stream",
     "text": [
      "530/582 [==========================>...] - ETA: 9s - loss: 0.8602 - accuracy: 0.5476"
     ]
    },
    {
     "name": "stderr",
     "output_type": "stream",
     "text": [
      "Corrupt JPEG data: 128 extraneous bytes before marker 0xd9\n"
     ]
    },
    {
     "name": "stdout",
     "output_type": "stream",
     "text": [
      "541/582 [==========================>...] - ETA: 7s - loss: 0.8597 - accuracy: 0.5477"
     ]
    },
    {
     "name": "stderr",
     "output_type": "stream",
     "text": [
      "Corrupt JPEG data: 239 extraneous bytes before marker 0xd9\n"
     ]
    },
    {
     "name": "stdout",
     "output_type": "stream",
     "text": [
      "568/582 [============================>.] - ETA: 2s - loss: 0.8577 - accuracy: 0.5487"
     ]
    },
    {
     "name": "stderr",
     "output_type": "stream",
     "text": [
      "Corrupt JPEG data: 1153 extraneous bytes before marker 0xd9\n"
     ]
    },
    {
     "name": "stdout",
     "output_type": "stream",
     "text": [
      "574/582 [============================>.] - ETA: 1s - loss: 0.8575 - accuracy: 0.5486"
     ]
    },
    {
     "name": "stderr",
     "output_type": "stream",
     "text": [
      "Corrupt JPEG data: 228 extraneous bytes before marker 0xd9\n"
     ]
    },
    {
     "name": "stdout",
     "output_type": "stream",
     "text": [
      "582/582 [==============================] - ETA: 0s - loss: 0.8582 - accuracy: 0.5479"
     ]
    },
    {
     "name": "stderr",
     "output_type": "stream",
     "text": [
      "Corrupt JPEG data: 162 extraneous bytes before marker 0xd9\n",
      "Corrupt JPEG data: 252 extraneous bytes before marker 0xd9\n",
      "Corrupt JPEG data: 214 extraneous bytes before marker 0xd9\n",
      "Corrupt JPEG data: 1403 extraneous bytes before marker 0xd9\n"
     ]
    },
    {
     "name": "stdout",
     "output_type": "stream",
     "text": [
      "582/582 [==============================] - 112s 193ms/step - loss: 0.8582 - accuracy: 0.5479 - val_loss: 1.0200 - val_accuracy: 0.5593\n",
      "Epoch 6/15\n",
      "195/582 [=========>....................] - ETA: 1:09 - loss: 0.8338 - accuracy: 0.5542"
     ]
    },
    {
     "name": "stderr",
     "output_type": "stream",
     "text": [
      "Corrupt JPEG data: 99 extraneous bytes before marker 0xd9\n"
     ]
    },
    {
     "name": "stdout",
     "output_type": "stream",
     "text": [
      "227/582 [==========>...................] - ETA: 1:03 - loss: 0.8316 - accuracy: 0.5562"
     ]
    },
    {
     "name": "stderr",
     "output_type": "stream",
     "text": [
      "Warning: unknown JFIF revision number 0.00\n"
     ]
    },
    {
     "name": "stdout",
     "output_type": "stream",
     "text": [
      "237/582 [===========>..................] - ETA: 1:02 - loss: 0.8343 - accuracy: 0.5556"
     ]
    },
    {
     "name": "stderr",
     "output_type": "stream",
     "text": [
      "Corrupt JPEG data: 396 extraneous bytes before marker 0xd9\n"
     ]
    },
    {
     "name": "stdout",
     "output_type": "stream",
     "text": [
      "309/582 [==============>...............] - ETA: 49s - loss: 0.8316 - accuracy: 0.5557"
     ]
    },
    {
     "name": "stderr",
     "output_type": "stream",
     "text": [
      "Corrupt JPEG data: 65 extraneous bytes before marker 0xd9\n"
     ]
    },
    {
     "name": "stdout",
     "output_type": "stream",
     "text": [
      "517/582 [=========================>....] - ETA: 11s - loss: 0.8291 - accuracy: 0.5566"
     ]
    },
    {
     "name": "stderr",
     "output_type": "stream",
     "text": [
      "Corrupt JPEG data: 2226 extraneous bytes before marker 0xd9\n"
     ]
    },
    {
     "name": "stdout",
     "output_type": "stream",
     "text": [
      "530/582 [==========================>...] - ETA: 9s - loss: 0.8284 - accuracy: 0.5566"
     ]
    },
    {
     "name": "stderr",
     "output_type": "stream",
     "text": [
      "Corrupt JPEG data: 128 extraneous bytes before marker 0xd9\n"
     ]
    },
    {
     "name": "stdout",
     "output_type": "stream",
     "text": [
      "541/582 [==========================>...] - ETA: 7s - loss: 0.8287 - accuracy: 0.5569"
     ]
    },
    {
     "name": "stderr",
     "output_type": "stream",
     "text": [
      "Corrupt JPEG data: 239 extraneous bytes before marker 0xd9\n"
     ]
    },
    {
     "name": "stdout",
     "output_type": "stream",
     "text": [
      "568/582 [============================>.] - ETA: 2s - loss: 0.8289 - accuracy: 0.5574"
     ]
    },
    {
     "name": "stderr",
     "output_type": "stream",
     "text": [
      "Corrupt JPEG data: 1153 extraneous bytes before marker 0xd9\n"
     ]
    },
    {
     "name": "stdout",
     "output_type": "stream",
     "text": [
      "574/582 [============================>.] - ETA: 1s - loss: 0.8286 - accuracy: 0.5573"
     ]
    },
    {
     "name": "stderr",
     "output_type": "stream",
     "text": [
      "Corrupt JPEG data: 228 extraneous bytes before marker 0xd9\n"
     ]
    },
    {
     "name": "stdout",
     "output_type": "stream",
     "text": [
      "582/582 [==============================] - ETA: 0s - loss: 0.8288 - accuracy: 0.5572"
     ]
    },
    {
     "name": "stderr",
     "output_type": "stream",
     "text": [
      "Corrupt JPEG data: 162 extraneous bytes before marker 0xd9\n",
      "Corrupt JPEG data: 252 extraneous bytes before marker 0xd9\n",
      "Corrupt JPEG data: 214 extraneous bytes before marker 0xd9\n",
      "Corrupt JPEG data: 1403 extraneous bytes before marker 0xd9\n"
     ]
    },
    {
     "name": "stdout",
     "output_type": "stream",
     "text": [
      "582/582 [==============================] - 112s 193ms/step - loss: 0.8288 - accuracy: 0.5572 - val_loss: 1.7967 - val_accuracy: 0.5456\n",
      "Epoch 7/15\n",
      "195/582 [=========>....................] - ETA: 1:09 - loss: 0.8279 - accuracy: 0.5577"
     ]
    },
    {
     "name": "stderr",
     "output_type": "stream",
     "text": [
      "Corrupt JPEG data: 99 extraneous bytes before marker 0xd9\n"
     ]
    },
    {
     "name": "stdout",
     "output_type": "stream",
     "text": [
      "227/582 [==========>...................] - ETA: 1:04 - loss: 0.8248 - accuracy: 0.5571"
     ]
    },
    {
     "name": "stderr",
     "output_type": "stream",
     "text": [
      "Warning: unknown JFIF revision number 0.00\n"
     ]
    },
    {
     "name": "stdout",
     "output_type": "stream",
     "text": [
      "237/582 [===========>..................] - ETA: 1:02 - loss: 0.8267 - accuracy: 0.5568"
     ]
    },
    {
     "name": "stderr",
     "output_type": "stream",
     "text": [
      "Corrupt JPEG data: 396 extraneous bytes before marker 0xd9\n"
     ]
    },
    {
     "name": "stdout",
     "output_type": "stream",
     "text": [
      "309/582 [==============>...............] - ETA: 49s - loss: 0.8265 - accuracy: 0.5564"
     ]
    },
    {
     "name": "stderr",
     "output_type": "stream",
     "text": [
      "Corrupt JPEG data: 65 extraneous bytes before marker 0xd9\n"
     ]
    },
    {
     "name": "stdout",
     "output_type": "stream",
     "text": [
      "517/582 [=========================>....] - ETA: 11s - loss: 0.8217 - accuracy: 0.5554"
     ]
    },
    {
     "name": "stderr",
     "output_type": "stream",
     "text": [
      "Corrupt JPEG data: 2226 extraneous bytes before marker 0xd9\n"
     ]
    },
    {
     "name": "stdout",
     "output_type": "stream",
     "text": [
      "530/582 [==========================>...] - ETA: 9s - loss: 0.8215 - accuracy: 0.5560"
     ]
    },
    {
     "name": "stderr",
     "output_type": "stream",
     "text": [
      "Corrupt JPEG data: 128 extraneous bytes before marker 0xd9\n"
     ]
    },
    {
     "name": "stdout",
     "output_type": "stream",
     "text": [
      "541/582 [==========================>...] - ETA: 7s - loss: 0.8218 - accuracy: 0.5561"
     ]
    },
    {
     "name": "stderr",
     "output_type": "stream",
     "text": [
      "Corrupt JPEG data: 239 extraneous bytes before marker 0xd9\n"
     ]
    },
    {
     "name": "stdout",
     "output_type": "stream",
     "text": [
      "568/582 [============================>.] - ETA: 2s - loss: 0.8216 - accuracy: 0.5569"
     ]
    },
    {
     "name": "stderr",
     "output_type": "stream",
     "text": [
      "Corrupt JPEG data: 1153 extraneous bytes before marker 0xd9\n"
     ]
    },
    {
     "name": "stdout",
     "output_type": "stream",
     "text": [
      "574/582 [============================>.] - ETA: 1s - loss: 0.8218 - accuracy: 0.5567"
     ]
    },
    {
     "name": "stderr",
     "output_type": "stream",
     "text": [
      "Corrupt JPEG data: 228 extraneous bytes before marker 0xd9\n"
     ]
    },
    {
     "name": "stdout",
     "output_type": "stream",
     "text": [
      "582/582 [==============================] - ETA: 0s - loss: 0.8217 - accuracy: 0.5564"
     ]
    },
    {
     "name": "stderr",
     "output_type": "stream",
     "text": [
      "Corrupt JPEG data: 162 extraneous bytes before marker 0xd9\n",
      "Corrupt JPEG data: 252 extraneous bytes before marker 0xd9\n",
      "Corrupt JPEG data: 214 extraneous bytes before marker 0xd9\n",
      "Corrupt JPEG data: 1403 extraneous bytes before marker 0xd9\n"
     ]
    },
    {
     "name": "stdout",
     "output_type": "stream",
     "text": [
      "582/582 [==============================] - 112s 193ms/step - loss: 0.8217 - accuracy: 0.5564 - val_loss: 0.8089 - val_accuracy: 0.5535\n",
      "Epoch 8/15\n",
      "195/582 [=========>....................] - ETA: 1:09 - loss: 0.7943 - accuracy: 0.5630"
     ]
    },
    {
     "name": "stderr",
     "output_type": "stream",
     "text": [
      "Corrupt JPEG data: 99 extraneous bytes before marker 0xd9\n"
     ]
    },
    {
     "name": "stdout",
     "output_type": "stream",
     "text": [
      "227/582 [==========>...................] - ETA: 1:04 - loss: 0.7945 - accuracy: 0.5632"
     ]
    },
    {
     "name": "stderr",
     "output_type": "stream",
     "text": [
      "Warning: unknown JFIF revision number 0.00\n"
     ]
    },
    {
     "name": "stdout",
     "output_type": "stream",
     "text": [
      "237/582 [===========>..................] - ETA: 1:02 - loss: 0.7966 - accuracy: 0.5628"
     ]
    },
    {
     "name": "stderr",
     "output_type": "stream",
     "text": [
      "Corrupt JPEG data: 396 extraneous bytes before marker 0xd9\n"
     ]
    },
    {
     "name": "stdout",
     "output_type": "stream",
     "text": [
      "309/582 [==============>...............] - ETA: 49s - loss: 0.8017 - accuracy: 0.5589"
     ]
    },
    {
     "name": "stderr",
     "output_type": "stream",
     "text": [
      "Corrupt JPEG data: 65 extraneous bytes before marker 0xd9\n"
     ]
    },
    {
     "name": "stdout",
     "output_type": "stream",
     "text": [
      "517/582 [=========================>....] - ETA: 11s - loss: 0.8052 - accuracy: 0.5580"
     ]
    },
    {
     "name": "stderr",
     "output_type": "stream",
     "text": [
      "Corrupt JPEG data: 2226 extraneous bytes before marker 0xd9\n"
     ]
    },
    {
     "name": "stdout",
     "output_type": "stream",
     "text": [
      "530/582 [==========================>...] - ETA: 9s - loss: 0.8061 - accuracy: 0.5574"
     ]
    },
    {
     "name": "stderr",
     "output_type": "stream",
     "text": [
      "Corrupt JPEG data: 128 extraneous bytes before marker 0xd9\n"
     ]
    },
    {
     "name": "stdout",
     "output_type": "stream",
     "text": [
      "541/582 [==========================>...] - ETA: 7s - loss: 0.8054 - accuracy: 0.5575"
     ]
    },
    {
     "name": "stderr",
     "output_type": "stream",
     "text": [
      "Corrupt JPEG data: 239 extraneous bytes before marker 0xd9\n"
     ]
    },
    {
     "name": "stdout",
     "output_type": "stream",
     "text": [
      "568/582 [============================>.] - ETA: 2s - loss: 0.8047 - accuracy: 0.5577"
     ]
    },
    {
     "name": "stderr",
     "output_type": "stream",
     "text": [
      "Corrupt JPEG data: 1153 extraneous bytes before marker 0xd9\n"
     ]
    },
    {
     "name": "stdout",
     "output_type": "stream",
     "text": [
      "574/582 [============================>.] - ETA: 1s - loss: 0.8052 - accuracy: 0.5577"
     ]
    },
    {
     "name": "stderr",
     "output_type": "stream",
     "text": [
      "Corrupt JPEG data: 228 extraneous bytes before marker 0xd9\n"
     ]
    },
    {
     "name": "stdout",
     "output_type": "stream",
     "text": [
      "582/582 [==============================] - ETA: 0s - loss: 0.8051 - accuracy: 0.5574"
     ]
    },
    {
     "name": "stderr",
     "output_type": "stream",
     "text": [
      "Corrupt JPEG data: 162 extraneous bytes before marker 0xd9\n",
      "Corrupt JPEG data: 252 extraneous bytes before marker 0xd9\n",
      "Corrupt JPEG data: 214 extraneous bytes before marker 0xd9\n",
      "Corrupt JPEG data: 1403 extraneous bytes before marker 0xd9\n"
     ]
    },
    {
     "name": "stdout",
     "output_type": "stream",
     "text": [
      "582/582 [==============================] - 112s 193ms/step - loss: 0.8051 - accuracy: 0.5574 - val_loss: 1.0650 - val_accuracy: 0.5236\n",
      "Epoch 9/15\n",
      "195/582 [=========>....................] - ETA: 1:09 - loss: 0.8150 - accuracy: 0.5535"
     ]
    },
    {
     "name": "stderr",
     "output_type": "stream",
     "text": [
      "Corrupt JPEG data: 99 extraneous bytes before marker 0xd9\n"
     ]
    },
    {
     "name": "stdout",
     "output_type": "stream",
     "text": [
      "227/582 [==========>...................] - ETA: 1:04 - loss: 0.8117 - accuracy: 0.5545"
     ]
    },
    {
     "name": "stderr",
     "output_type": "stream",
     "text": [
      "Warning: unknown JFIF revision number 0.00\n"
     ]
    },
    {
     "name": "stdout",
     "output_type": "stream",
     "text": [
      "237/582 [===========>..................] - ETA: 1:02 - loss: 0.8162 - accuracy: 0.5534"
     ]
    },
    {
     "name": "stderr",
     "output_type": "stream",
     "text": [
      "Corrupt JPEG data: 396 extraneous bytes before marker 0xd9\n"
     ]
    },
    {
     "name": "stdout",
     "output_type": "stream",
     "text": [
      "309/582 [==============>...............] - ETA: 49s - loss: 0.8190 - accuracy: 0.5511"
     ]
    },
    {
     "name": "stderr",
     "output_type": "stream",
     "text": [
      "Corrupt JPEG data: 65 extraneous bytes before marker 0xd9\n"
     ]
    },
    {
     "name": "stdout",
     "output_type": "stream",
     "text": [
      "517/582 [=========================>....] - ETA: 11s - loss: 0.8201 - accuracy: 0.5451"
     ]
    },
    {
     "name": "stderr",
     "output_type": "stream",
     "text": [
      "Corrupt JPEG data: 2226 extraneous bytes before marker 0xd9\n"
     ]
    },
    {
     "name": "stdout",
     "output_type": "stream",
     "text": [
      "530/582 [==========================>...] - ETA: 9s - loss: 0.8206 - accuracy: 0.5449"
     ]
    },
    {
     "name": "stderr",
     "output_type": "stream",
     "text": [
      "Corrupt JPEG data: 128 extraneous bytes before marker 0xd9\n"
     ]
    },
    {
     "name": "stdout",
     "output_type": "stream",
     "text": [
      "541/582 [==========================>...] - ETA: 7s - loss: 0.8194 - accuracy: 0.5451"
     ]
    },
    {
     "name": "stderr",
     "output_type": "stream",
     "text": [
      "Corrupt JPEG data: 239 extraneous bytes before marker 0xd9\n"
     ]
    },
    {
     "name": "stdout",
     "output_type": "stream",
     "text": [
      "568/582 [============================>.] - ETA: 2s - loss: 0.8181 - accuracy: 0.5466"
     ]
    },
    {
     "name": "stderr",
     "output_type": "stream",
     "text": [
      "Corrupt JPEG data: 1153 extraneous bytes before marker 0xd9\n"
     ]
    },
    {
     "name": "stdout",
     "output_type": "stream",
     "text": [
      "574/582 [============================>.] - ETA: 1s - loss: 0.8181 - accuracy: 0.5465"
     ]
    },
    {
     "name": "stderr",
     "output_type": "stream",
     "text": [
      "Corrupt JPEG data: 228 extraneous bytes before marker 0xd9\n"
     ]
    },
    {
     "name": "stdout",
     "output_type": "stream",
     "text": [
      "582/582 [==============================] - ETA: 0s - loss: 0.8177 - accuracy: 0.5463"
     ]
    },
    {
     "name": "stderr",
     "output_type": "stream",
     "text": [
      "Corrupt JPEG data: 162 extraneous bytes before marker 0xd9\n",
      "Corrupt JPEG data: 252 extraneous bytes before marker 0xd9\n",
      "Corrupt JPEG data: 214 extraneous bytes before marker 0xd9\n",
      "Corrupt JPEG data: 1403 extraneous bytes before marker 0xd9\n"
     ]
    },
    {
     "name": "stdout",
     "output_type": "stream",
     "text": [
      "582/582 [==============================] - 112s 193ms/step - loss: 0.8177 - accuracy: 0.5463 - val_loss: 1.0880 - val_accuracy: 0.5155\n",
      "Epoch 10/15\n",
      "195/582 [=========>....................] - ETA: 1:09 - loss: 0.7875 - accuracy: 0.5595"
     ]
    },
    {
     "name": "stderr",
     "output_type": "stream",
     "text": [
      "Corrupt JPEG data: 99 extraneous bytes before marker 0xd9\n"
     ]
    },
    {
     "name": "stdout",
     "output_type": "stream",
     "text": [
      "227/582 [==========>...................] - ETA: 1:04 - loss: 0.7835 - accuracy: 0.5610"
     ]
    },
    {
     "name": "stderr",
     "output_type": "stream",
     "text": [
      "Warning: unknown JFIF revision number 0.00\n"
     ]
    },
    {
     "name": "stdout",
     "output_type": "stream",
     "text": [
      "237/582 [===========>..................] - ETA: 1:02 - loss: 0.7828 - accuracy: 0.5614"
     ]
    },
    {
     "name": "stderr",
     "output_type": "stream",
     "text": [
      "Corrupt JPEG data: 396 extraneous bytes before marker 0xd9\n"
     ]
    },
    {
     "name": "stdout",
     "output_type": "stream",
     "text": [
      "309/582 [==============>...............] - ETA: 49s - loss: 0.7862 - accuracy: 0.5597"
     ]
    },
    {
     "name": "stderr",
     "output_type": "stream",
     "text": [
      "Corrupt JPEG data: 65 extraneous bytes before marker 0xd9\n"
     ]
    },
    {
     "name": "stdout",
     "output_type": "stream",
     "text": [
      "517/582 [=========================>....] - ETA: 11s - loss: 0.7781 - accuracy: 0.5598"
     ]
    },
    {
     "name": "stderr",
     "output_type": "stream",
     "text": [
      "Corrupt JPEG data: 2226 extraneous bytes before marker 0xd9\n"
     ]
    },
    {
     "name": "stdout",
     "output_type": "stream",
     "text": [
      "530/582 [==========================>...] - ETA: 9s - loss: 0.7796 - accuracy: 0.5590"
     ]
    },
    {
     "name": "stderr",
     "output_type": "stream",
     "text": [
      "Corrupt JPEG data: 128 extraneous bytes before marker 0xd9\n"
     ]
    },
    {
     "name": "stdout",
     "output_type": "stream",
     "text": [
      "541/582 [==========================>...] - ETA: 7s - loss: 0.7805 - accuracy: 0.5582"
     ]
    },
    {
     "name": "stderr",
     "output_type": "stream",
     "text": [
      "Corrupt JPEG data: 239 extraneous bytes before marker 0xd9\n"
     ]
    },
    {
     "name": "stdout",
     "output_type": "stream",
     "text": [
      "568/582 [============================>.] - ETA: 2s - loss: 0.7796 - accuracy: 0.5582"
     ]
    },
    {
     "name": "stderr",
     "output_type": "stream",
     "text": [
      "Corrupt JPEG data: 1153 extraneous bytes before marker 0xd9\n"
     ]
    },
    {
     "name": "stdout",
     "output_type": "stream",
     "text": [
      "574/582 [============================>.] - ETA: 1s - loss: 0.7805 - accuracy: 0.5580"
     ]
    },
    {
     "name": "stderr",
     "output_type": "stream",
     "text": [
      "Corrupt JPEG data: 228 extraneous bytes before marker 0xd9\n"
     ]
    },
    {
     "name": "stdout",
     "output_type": "stream",
     "text": [
      "582/582 [==============================] - ETA: 0s - loss: 0.7807 - accuracy: 0.5581"
     ]
    },
    {
     "name": "stderr",
     "output_type": "stream",
     "text": [
      "Corrupt JPEG data: 162 extraneous bytes before marker 0xd9\n",
      "Corrupt JPEG data: 252 extraneous bytes before marker 0xd9\n",
      "Corrupt JPEG data: 214 extraneous bytes before marker 0xd9\n",
      "Corrupt JPEG data: 1403 extraneous bytes before marker 0xd9\n"
     ]
    },
    {
     "name": "stdout",
     "output_type": "stream",
     "text": [
      "582/582 [==============================] - 112s 193ms/step - loss: 0.7807 - accuracy: 0.5581 - val_loss: 0.7448 - val_accuracy: 0.5411\n",
      "Epoch 11/15\n",
      "195/582 [=========>....................] - ETA: 1:09 - loss: 0.7702 - accuracy: 0.5676"
     ]
    },
    {
     "name": "stderr",
     "output_type": "stream",
     "text": [
      "Corrupt JPEG data: 99 extraneous bytes before marker 0xd9\n"
     ]
    },
    {
     "name": "stdout",
     "output_type": "stream",
     "text": [
      "227/582 [==========>...................] - ETA: 1:04 - loss: 0.7665 - accuracy: 0.5688"
     ]
    },
    {
     "name": "stderr",
     "output_type": "stream",
     "text": [
      "Warning: unknown JFIF revision number 0.00\n"
     ]
    },
    {
     "name": "stdout",
     "output_type": "stream",
     "text": [
      "237/582 [===========>..................] - ETA: 1:02 - loss: 0.7664 - accuracy: 0.5684"
     ]
    },
    {
     "name": "stderr",
     "output_type": "stream",
     "text": [
      "Corrupt JPEG data: 396 extraneous bytes before marker 0xd9\n"
     ]
    },
    {
     "name": "stdout",
     "output_type": "stream",
     "text": [
      "309/582 [==============>...............] - ETA: 49s - loss: 0.7725 - accuracy: 0.5637"
     ]
    },
    {
     "name": "stderr",
     "output_type": "stream",
     "text": [
      "Corrupt JPEG data: 65 extraneous bytes before marker 0xd9\n"
     ]
    },
    {
     "name": "stdout",
     "output_type": "stream",
     "text": [
      "517/582 [=========================>....] - ETA: 11s - loss: 0.7734 - accuracy: 0.5606"
     ]
    },
    {
     "name": "stderr",
     "output_type": "stream",
     "text": [
      "Corrupt JPEG data: 2226 extraneous bytes before marker 0xd9\n"
     ]
    },
    {
     "name": "stdout",
     "output_type": "stream",
     "text": [
      "530/582 [==========================>...] - ETA: 9s - loss: 0.7727 - accuracy: 0.5610"
     ]
    },
    {
     "name": "stderr",
     "output_type": "stream",
     "text": [
      "Corrupt JPEG data: 128 extraneous bytes before marker 0xd9\n"
     ]
    },
    {
     "name": "stdout",
     "output_type": "stream",
     "text": [
      "541/582 [==========================>...] - ETA: 7s - loss: 0.7728 - accuracy: 0.5614"
     ]
    },
    {
     "name": "stderr",
     "output_type": "stream",
     "text": [
      "Corrupt JPEG data: 239 extraneous bytes before marker 0xd9\n"
     ]
    },
    {
     "name": "stdout",
     "output_type": "stream",
     "text": [
      "568/582 [============================>.] - ETA: 2s - loss: 0.7717 - accuracy: 0.5619"
     ]
    },
    {
     "name": "stderr",
     "output_type": "stream",
     "text": [
      "Corrupt JPEG data: 1153 extraneous bytes before marker 0xd9\n"
     ]
    },
    {
     "name": "stdout",
     "output_type": "stream",
     "text": [
      "574/582 [============================>.] - ETA: 1s - loss: 0.7724 - accuracy: 0.5614"
     ]
    },
    {
     "name": "stderr",
     "output_type": "stream",
     "text": [
      "Corrupt JPEG data: 228 extraneous bytes before marker 0xd9\n"
     ]
    },
    {
     "name": "stdout",
     "output_type": "stream",
     "text": [
      "582/582 [==============================] - ETA: 0s - loss: 0.7717 - accuracy: 0.5618"
     ]
    },
    {
     "name": "stderr",
     "output_type": "stream",
     "text": [
      "Corrupt JPEG data: 162 extraneous bytes before marker 0xd9\n",
      "Corrupt JPEG data: 252 extraneous bytes before marker 0xd9\n",
      "Corrupt JPEG data: 214 extraneous bytes before marker 0xd9\n",
      "Corrupt JPEG data: 1403 extraneous bytes before marker 0xd9\n"
     ]
    },
    {
     "name": "stdout",
     "output_type": "stream",
     "text": [
      "582/582 [==============================] - 112s 193ms/step - loss: 0.7717 - accuracy: 0.5618 - val_loss: 1.2197 - val_accuracy: 0.5314\n",
      "Epoch 12/15\n",
      "195/582 [=========>....................] - ETA: 1:09 - loss: 0.7649 - accuracy: 0.5577"
     ]
    },
    {
     "name": "stderr",
     "output_type": "stream",
     "text": [
      "Corrupt JPEG data: 99 extraneous bytes before marker 0xd9\n"
     ]
    },
    {
     "name": "stdout",
     "output_type": "stream",
     "text": [
      "227/582 [==========>...................] - ETA: 1:04 - loss: 0.7618 - accuracy: 0.5615"
     ]
    },
    {
     "name": "stderr",
     "output_type": "stream",
     "text": [
      "Warning: unknown JFIF revision number 0.00\n"
     ]
    },
    {
     "name": "stdout",
     "output_type": "stream",
     "text": [
      "237/582 [===========>..................] - ETA: 1:02 - loss: 0.7649 - accuracy: 0.5600"
     ]
    },
    {
     "name": "stderr",
     "output_type": "stream",
     "text": [
      "Corrupt JPEG data: 396 extraneous bytes before marker 0xd9\n"
     ]
    },
    {
     "name": "stdout",
     "output_type": "stream",
     "text": [
      "309/582 [==============>...............] - ETA: 49s - loss: 0.7672 - accuracy: 0.5621"
     ]
    },
    {
     "name": "stderr",
     "output_type": "stream",
     "text": [
      "Corrupt JPEG data: 65 extraneous bytes before marker 0xd9\n"
     ]
    },
    {
     "name": "stdout",
     "output_type": "stream",
     "text": [
      "517/582 [=========================>....] - ETA: 11s - loss: 0.7661 - accuracy: 0.5626"
     ]
    },
    {
     "name": "stderr",
     "output_type": "stream",
     "text": [
      "Corrupt JPEG data: 2226 extraneous bytes before marker 0xd9\n"
     ]
    },
    {
     "name": "stdout",
     "output_type": "stream",
     "text": [
      "530/582 [==========================>...] - ETA: 9s - loss: 0.7655 - accuracy: 0.5636"
     ]
    },
    {
     "name": "stderr",
     "output_type": "stream",
     "text": [
      "Corrupt JPEG data: 128 extraneous bytes before marker 0xd9\n"
     ]
    },
    {
     "name": "stdout",
     "output_type": "stream",
     "text": [
      "541/582 [==========================>...] - ETA: 7s - loss: 0.7659 - accuracy: 0.5636"
     ]
    },
    {
     "name": "stderr",
     "output_type": "stream",
     "text": [
      "Corrupt JPEG data: 239 extraneous bytes before marker 0xd9\n"
     ]
    },
    {
     "name": "stdout",
     "output_type": "stream",
     "text": [
      "568/582 [============================>.] - ETA: 2s - loss: 0.7652 - accuracy: 0.5626"
     ]
    },
    {
     "name": "stderr",
     "output_type": "stream",
     "text": [
      "Corrupt JPEG data: 1153 extraneous bytes before marker 0xd9\n"
     ]
    },
    {
     "name": "stdout",
     "output_type": "stream",
     "text": [
      "574/582 [============================>.] - ETA: 1s - loss: 0.7659 - accuracy: 0.5621"
     ]
    },
    {
     "name": "stderr",
     "output_type": "stream",
     "text": [
      "Corrupt JPEG data: 228 extraneous bytes before marker 0xd9\n"
     ]
    },
    {
     "name": "stdout",
     "output_type": "stream",
     "text": [
      "582/582 [==============================] - ETA: 0s - loss: 0.7659 - accuracy: 0.5621"
     ]
    },
    {
     "name": "stderr",
     "output_type": "stream",
     "text": [
      "Corrupt JPEG data: 162 extraneous bytes before marker 0xd9\n",
      "Corrupt JPEG data: 252 extraneous bytes before marker 0xd9\n",
      "Corrupt JPEG data: 214 extraneous bytes before marker 0xd9\n",
      "Corrupt JPEG data: 1403 extraneous bytes before marker 0xd9\n"
     ]
    },
    {
     "name": "stdout",
     "output_type": "stream",
     "text": [
      "582/582 [==============================] - 115s 198ms/step - loss: 0.7659 - accuracy: 0.5621 - val_loss: 1.3957 - val_accuracy: 0.5256\n",
      "Epoch 13/15\n",
      "195/582 [=========>....................] - ETA: 1:09 - loss: 0.7603 - accuracy: 0.5612"
     ]
    },
    {
     "name": "stderr",
     "output_type": "stream",
     "text": [
      "Corrupt JPEG data: 99 extraneous bytes before marker 0xd9\n"
     ]
    },
    {
     "name": "stdout",
     "output_type": "stream",
     "text": [
      "227/582 [==========>...................] - ETA: 1:04 - loss: 0.7552 - accuracy: 0.5635"
     ]
    },
    {
     "name": "stderr",
     "output_type": "stream",
     "text": [
      "Warning: unknown JFIF revision number 0.00\n"
     ]
    },
    {
     "name": "stdout",
     "output_type": "stream",
     "text": [
      "237/582 [===========>..................] - ETA: 1:02 - loss: 0.7576 - accuracy: 0.5620"
     ]
    },
    {
     "name": "stderr",
     "output_type": "stream",
     "text": [
      "Corrupt JPEG data: 396 extraneous bytes before marker 0xd9\n"
     ]
    },
    {
     "name": "stdout",
     "output_type": "stream",
     "text": [
      "309/582 [==============>...............] - ETA: 49s - loss: 0.7623 - accuracy: 0.5587"
     ]
    },
    {
     "name": "stderr",
     "output_type": "stream",
     "text": [
      "Corrupt JPEG data: 65 extraneous bytes before marker 0xd9\n"
     ]
    },
    {
     "name": "stdout",
     "output_type": "stream",
     "text": [
      "517/582 [=========================>....] - ETA: 11s - loss: 0.7592 - accuracy: 0.5589"
     ]
    },
    {
     "name": "stderr",
     "output_type": "stream",
     "text": [
      "Corrupt JPEG data: 2226 extraneous bytes before marker 0xd9\n"
     ]
    },
    {
     "name": "stdout",
     "output_type": "stream",
     "text": [
      "530/582 [==========================>...] - ETA: 9s - loss: 0.7593 - accuracy: 0.5596"
     ]
    },
    {
     "name": "stderr",
     "output_type": "stream",
     "text": [
      "Corrupt JPEG data: 128 extraneous bytes before marker 0xd9\n"
     ]
    },
    {
     "name": "stdout",
     "output_type": "stream",
     "text": [
      "541/582 [==========================>...] - ETA: 7s - loss: 0.7584 - accuracy: 0.5601"
     ]
    },
    {
     "name": "stderr",
     "output_type": "stream",
     "text": [
      "Corrupt JPEG data: 239 extraneous bytes before marker 0xd9\n"
     ]
    },
    {
     "name": "stdout",
     "output_type": "stream",
     "text": [
      "568/582 [============================>.] - ETA: 2s - loss: 0.7578 - accuracy: 0.5605"
     ]
    },
    {
     "name": "stderr",
     "output_type": "stream",
     "text": [
      "Corrupt JPEG data: 1153 extraneous bytes before marker 0xd9\n"
     ]
    },
    {
     "name": "stdout",
     "output_type": "stream",
     "text": [
      "574/582 [============================>.] - ETA: 1s - loss: 0.7575 - accuracy: 0.5604"
     ]
    },
    {
     "name": "stderr",
     "output_type": "stream",
     "text": [
      "Corrupt JPEG data: 228 extraneous bytes before marker 0xd9\n"
     ]
    },
    {
     "name": "stdout",
     "output_type": "stream",
     "text": [
      "582/582 [==============================] - ETA: 0s - loss: 0.7575 - accuracy: 0.5610"
     ]
    },
    {
     "name": "stderr",
     "output_type": "stream",
     "text": [
      "Corrupt JPEG data: 162 extraneous bytes before marker 0xd9\n",
      "Corrupt JPEG data: 252 extraneous bytes before marker 0xd9\n",
      "Corrupt JPEG data: 214 extraneous bytes before marker 0xd9\n",
      "Corrupt JPEG data: 1403 extraneous bytes before marker 0xd9\n"
     ]
    },
    {
     "name": "stdout",
     "output_type": "stream",
     "text": [
      "582/582 [==============================] - 112s 193ms/step - loss: 0.7575 - accuracy: 0.5610 - val_loss: 1.0260 - val_accuracy: 0.5544\n",
      "Epoch 14/15\n",
      "195/582 [=========>....................] - ETA: 1:09 - loss: 0.7300 - accuracy: 0.5787"
     ]
    },
    {
     "name": "stderr",
     "output_type": "stream",
     "text": [
      "Corrupt JPEG data: 99 extraneous bytes before marker 0xd9\n"
     ]
    },
    {
     "name": "stdout",
     "output_type": "stream",
     "text": [
      "227/582 [==========>...................] - ETA: 1:04 - loss: 0.7318 - accuracy: 0.5807"
     ]
    },
    {
     "name": "stderr",
     "output_type": "stream",
     "text": [
      "Warning: unknown JFIF revision number 0.00\n"
     ]
    },
    {
     "name": "stdout",
     "output_type": "stream",
     "text": [
      "237/582 [===========>..................] - ETA: 1:02 - loss: 0.7318 - accuracy: 0.5808"
     ]
    },
    {
     "name": "stderr",
     "output_type": "stream",
     "text": [
      "Corrupt JPEG data: 396 extraneous bytes before marker 0xd9\n"
     ]
    },
    {
     "name": "stdout",
     "output_type": "stream",
     "text": [
      "309/582 [==============>...............] - ETA: 49s - loss: 0.7370 - accuracy: 0.5814"
     ]
    },
    {
     "name": "stderr",
     "output_type": "stream",
     "text": [
      "Corrupt JPEG data: 65 extraneous bytes before marker 0xd9\n"
     ]
    },
    {
     "name": "stdout",
     "output_type": "stream",
     "text": [
      "517/582 [=========================>....] - ETA: 11s - loss: 0.7416 - accuracy: 0.5759"
     ]
    },
    {
     "name": "stderr",
     "output_type": "stream",
     "text": [
      "Corrupt JPEG data: 2226 extraneous bytes before marker 0xd9\n"
     ]
    },
    {
     "name": "stdout",
     "output_type": "stream",
     "text": [
      "530/582 [==========================>...] - ETA: 9s - loss: 0.7429 - accuracy: 0.5762"
     ]
    },
    {
     "name": "stderr",
     "output_type": "stream",
     "text": [
      "Corrupt JPEG data: 128 extraneous bytes before marker 0xd9\n"
     ]
    },
    {
     "name": "stdout",
     "output_type": "stream",
     "text": [
      "541/582 [==========================>...] - ETA: 7s - loss: 0.7431 - accuracy: 0.5759"
     ]
    },
    {
     "name": "stderr",
     "output_type": "stream",
     "text": [
      "Corrupt JPEG data: 239 extraneous bytes before marker 0xd9\n"
     ]
    },
    {
     "name": "stdout",
     "output_type": "stream",
     "text": [
      "568/582 [============================>.] - ETA: 2s - loss: 0.7423 - accuracy: 0.5754"
     ]
    },
    {
     "name": "stderr",
     "output_type": "stream",
     "text": [
      "Corrupt JPEG data: 1153 extraneous bytes before marker 0xd9\n"
     ]
    },
    {
     "name": "stdout",
     "output_type": "stream",
     "text": [
      "574/582 [============================>.] - ETA: 1s - loss: 0.7433 - accuracy: 0.5754"
     ]
    },
    {
     "name": "stderr",
     "output_type": "stream",
     "text": [
      "Corrupt JPEG data: 228 extraneous bytes before marker 0xd9\n"
     ]
    },
    {
     "name": "stdout",
     "output_type": "stream",
     "text": [
      "582/582 [==============================] - ETA: 0s - loss: 0.7431 - accuracy: 0.5756"
     ]
    },
    {
     "name": "stderr",
     "output_type": "stream",
     "text": [
      "Corrupt JPEG data: 162 extraneous bytes before marker 0xd9\n",
      "Corrupt JPEG data: 252 extraneous bytes before marker 0xd9\n",
      "Corrupt JPEG data: 214 extraneous bytes before marker 0xd9\n",
      "Corrupt JPEG data: 1403 extraneous bytes before marker 0xd9\n"
     ]
    },
    {
     "name": "stdout",
     "output_type": "stream",
     "text": [
      "582/582 [==============================] - 112s 193ms/step - loss: 0.7431 - accuracy: 0.5756 - val_loss: 0.7501 - val_accuracy: 0.5561\n",
      "Epoch 15/15\n",
      "195/582 [=========>....................] - ETA: 1:09 - loss: 0.7332 - accuracy: 0.5736"
     ]
    },
    {
     "name": "stderr",
     "output_type": "stream",
     "text": [
      "Corrupt JPEG data: 99 extraneous bytes before marker 0xd9\n"
     ]
    },
    {
     "name": "stdout",
     "output_type": "stream",
     "text": [
      "227/582 [==========>...................] - ETA: 1:04 - loss: 0.7365 - accuracy: 0.5705"
     ]
    },
    {
     "name": "stderr",
     "output_type": "stream",
     "text": [
      "Warning: unknown JFIF revision number 0.00\n"
     ]
    },
    {
     "name": "stdout",
     "output_type": "stream",
     "text": [
      "237/582 [===========>..................] - ETA: 1:02 - loss: 0.7374 - accuracy: 0.5701"
     ]
    },
    {
     "name": "stderr",
     "output_type": "stream",
     "text": [
      "Corrupt JPEG data: 396 extraneous bytes before marker 0xd9\n"
     ]
    },
    {
     "name": "stdout",
     "output_type": "stream",
     "text": [
      "309/582 [==============>...............] - ETA: 49s - loss: 0.7406 - accuracy: 0.5707"
     ]
    },
    {
     "name": "stderr",
     "output_type": "stream",
     "text": [
      "Corrupt JPEG data: 65 extraneous bytes before marker 0xd9\n"
     ]
    },
    {
     "name": "stdout",
     "output_type": "stream",
     "text": [
      "517/582 [=========================>....] - ETA: 11s - loss: 0.7428 - accuracy: 0.5705"
     ]
    },
    {
     "name": "stderr",
     "output_type": "stream",
     "text": [
      "Corrupt JPEG data: 2226 extraneous bytes before marker 0xd9\n"
     ]
    },
    {
     "name": "stdout",
     "output_type": "stream",
     "text": [
      "530/582 [==========================>...] - ETA: 9s - loss: 0.7445 - accuracy: 0.5698"
     ]
    },
    {
     "name": "stderr",
     "output_type": "stream",
     "text": [
      "Corrupt JPEG data: 128 extraneous bytes before marker 0xd9\n"
     ]
    },
    {
     "name": "stdout",
     "output_type": "stream",
     "text": [
      "541/582 [==========================>...] - ETA: 7s - loss: 0.7460 - accuracy: 0.5687"
     ]
    },
    {
     "name": "stderr",
     "output_type": "stream",
     "text": [
      "Corrupt JPEG data: 239 extraneous bytes before marker 0xd9\n"
     ]
    },
    {
     "name": "stdout",
     "output_type": "stream",
     "text": [
      "568/582 [============================>.] - ETA: 2s - loss: 0.7464 - accuracy: 0.5687"
     ]
    },
    {
     "name": "stderr",
     "output_type": "stream",
     "text": [
      "Corrupt JPEG data: 1153 extraneous bytes before marker 0xd9\n"
     ]
    },
    {
     "name": "stdout",
     "output_type": "stream",
     "text": [
      "574/582 [============================>.] - ETA: 1s - loss: 0.7471 - accuracy: 0.5684"
     ]
    },
    {
     "name": "stderr",
     "output_type": "stream",
     "text": [
      "Corrupt JPEG data: 228 extraneous bytes before marker 0xd9\n"
     ]
    },
    {
     "name": "stdout",
     "output_type": "stream",
     "text": [
      "582/582 [==============================] - ETA: 0s - loss: 0.7473 - accuracy: 0.5683"
     ]
    },
    {
     "name": "stderr",
     "output_type": "stream",
     "text": [
      "Corrupt JPEG data: 162 extraneous bytes before marker 0xd9\n",
      "Corrupt JPEG data: 252 extraneous bytes before marker 0xd9\n",
      "Corrupt JPEG data: 214 extraneous bytes before marker 0xd9\n",
      "Corrupt JPEG data: 1403 extraneous bytes before marker 0xd9\n"
     ]
    },
    {
     "name": "stdout",
     "output_type": "stream",
     "text": [
      "\b\b\b\b\b\b\b\b\b\b\b\b\b\b\b\b\b\b\b\b\b\b\b\b\b\b\b\b\b\b\b\b\b\b\b\b\b\b\b\b\b\b\b\b\b\b\b\b\b\b\b\b\b\b\b\b\b\b\b\b\b\b\b\b\b\b\b\b\b\b\b\b\b\b\b\b\b\b\b\b\b\b\b\b\r",
      "582/582 [==============================] - 112s 193ms/step - loss: 0.7473 - accuracy: 0.5683 - val_loss: 1.0916 - val_accuracy: 0.5572\n"
     ]
    }
   ],
   "source": [
    "resnet_34.compile(\n",
    "    loss='sparse_categorical_crossentropy',\n",
    "    optimizer=tf.keras.optimizers.SGD(lr=0.01, clipnorm=1.),\n",
    "    metrics=['accuracy'],\n",
    ")\n",
    "\n",
    "history_res34 = resnet_34.fit(\n",
    "    ds_train,\n",
    "    epochs=EPOCH,\n",
    "    validation_data=ds_test,\n",
    "    verbose=1,\n",
    "    use_multiprocessing=True,\n",
    ")"
   ]
  },
  {
   "cell_type": "code",
   "execution_count": 9,
   "metadata": {},
   "outputs": [
    {
     "name": "stdout",
     "output_type": "stream",
     "text": [
      "Model: \"model_1\"\n",
      "_________________________________________________________________\n",
      "Layer (type)                 Output Shape              Param #   \n",
      "=================================================================\n",
      "input_2 (InputLayer)         [(None, 224, 224, 3)]     0         \n",
      "_________________________________________________________________\n",
      "conv2d_1 (Conv2D)            (None, 112, 112, 64)      9472      \n",
      "_________________________________________________________________\n",
      "batch_normalization_33 (Batc (None, 112, 112, 64)      256       \n",
      "_________________________________________________________________\n",
      "activation_33 (Activation)   (None, 112, 112, 64)      0         \n",
      "_________________________________________________________________\n",
      "max_pooling2d_1 (MaxPooling2 (None, 56, 56, 64)        0         \n",
      "_________________________________________________________________\n",
      "stage0_0_conv1_01 (Conv2D)   (None, 56, 56, 64)        36928     \n",
      "_________________________________________________________________\n",
      "batch_normalization_34 (Batc (None, 56, 56, 64)        256       \n",
      "_________________________________________________________________\n",
      "activation_34 (Activation)   (None, 56, 56, 64)        0         \n",
      "_________________________________________________________________\n",
      "stage0_0_conv2_01 (Conv2D)   (None, 56, 56, 64)        36928     \n",
      "_________________________________________________________________\n",
      "batch_normalization_35 (Batc (None, 56, 56, 64)        256       \n",
      "_________________________________________________________________\n",
      "stage0_1_conv1_01 (Conv2D)   (None, 56, 56, 64)        36928     \n",
      "_________________________________________________________________\n",
      "batch_normalization_36 (Batc (None, 56, 56, 64)        256       \n",
      "_________________________________________________________________\n",
      "activation_35 (Activation)   (None, 56, 56, 64)        0         \n",
      "_________________________________________________________________\n",
      "stage0_1_conv2_01 (Conv2D)   (None, 56, 56, 64)        36928     \n",
      "_________________________________________________________________\n",
      "batch_normalization_37 (Batc (None, 56, 56, 64)        256       \n",
      "_________________________________________________________________\n",
      "stage0_2_conv1_01 (Conv2D)   (None, 56, 56, 64)        36928     \n",
      "_________________________________________________________________\n",
      "batch_normalization_38 (Batc (None, 56, 56, 64)        256       \n",
      "_________________________________________________________________\n",
      "activation_36 (Activation)   (None, 56, 56, 64)        0         \n",
      "_________________________________________________________________\n",
      "stage0_2_conv2_01 (Conv2D)   (None, 56, 56, 64)        36928     \n",
      "_________________________________________________________________\n",
      "batch_normalization_39 (Batc (None, 56, 56, 64)        256       \n",
      "_________________________________________________________________\n",
      "stage1_0_conv1_01 (Conv2D)   (None, 28, 28, 128)       73856     \n",
      "_________________________________________________________________\n",
      "batch_normalization_40 (Batc (None, 28, 28, 128)       512       \n",
      "_________________________________________________________________\n",
      "activation_37 (Activation)   (None, 28, 28, 128)       0         \n",
      "_________________________________________________________________\n",
      "stage1_0_conv2_01 (Conv2D)   (None, 28, 28, 128)       147584    \n",
      "_________________________________________________________________\n",
      "batch_normalization_41 (Batc (None, 28, 28, 128)       512       \n",
      "_________________________________________________________________\n",
      "stage1_1_conv1_01 (Conv2D)   (None, 28, 28, 128)       147584    \n",
      "_________________________________________________________________\n",
      "batch_normalization_42 (Batc (None, 28, 28, 128)       512       \n",
      "_________________________________________________________________\n",
      "activation_38 (Activation)   (None, 28, 28, 128)       0         \n",
      "_________________________________________________________________\n",
      "stage1_1_conv2_01 (Conv2D)   (None, 28, 28, 128)       147584    \n",
      "_________________________________________________________________\n",
      "batch_normalization_43 (Batc (None, 28, 28, 128)       512       \n",
      "_________________________________________________________________\n",
      "stage1_2_conv1_01 (Conv2D)   (None, 28, 28, 128)       147584    \n",
      "_________________________________________________________________\n",
      "batch_normalization_44 (Batc (None, 28, 28, 128)       512       \n",
      "_________________________________________________________________\n",
      "activation_39 (Activation)   (None, 28, 28, 128)       0         \n",
      "_________________________________________________________________\n",
      "stage1_2_conv2_01 (Conv2D)   (None, 28, 28, 128)       147584    \n",
      "_________________________________________________________________\n",
      "batch_normalization_45 (Batc (None, 28, 28, 128)       512       \n",
      "_________________________________________________________________\n",
      "stage1_3_conv1_01 (Conv2D)   (None, 28, 28, 128)       147584    \n",
      "_________________________________________________________________\n",
      "batch_normalization_46 (Batc (None, 28, 28, 128)       512       \n",
      "_________________________________________________________________\n",
      "activation_40 (Activation)   (None, 28, 28, 128)       0         \n",
      "_________________________________________________________________\n",
      "stage1_3_conv2_01 (Conv2D)   (None, 28, 28, 128)       147584    \n",
      "_________________________________________________________________\n",
      "batch_normalization_47 (Batc (None, 28, 28, 128)       512       \n",
      "_________________________________________________________________\n",
      "stage2_0_conv1_01 (Conv2D)   (None, 14, 14, 256)       295168    \n",
      "_________________________________________________________________\n",
      "batch_normalization_48 (Batc (None, 14, 14, 256)       1024      \n",
      "_________________________________________________________________\n",
      "activation_41 (Activation)   (None, 14, 14, 256)       0         \n",
      "_________________________________________________________________\n",
      "stage2_0_conv2_01 (Conv2D)   (None, 14, 14, 256)       590080    \n",
      "_________________________________________________________________\n",
      "batch_normalization_49 (Batc (None, 14, 14, 256)       1024      \n",
      "_________________________________________________________________\n",
      "stage2_1_conv1_01 (Conv2D)   (None, 14, 14, 256)       590080    \n",
      "_________________________________________________________________\n",
      "batch_normalization_50 (Batc (None, 14, 14, 256)       1024      \n",
      "_________________________________________________________________\n",
      "activation_42 (Activation)   (None, 14, 14, 256)       0         \n",
      "_________________________________________________________________\n",
      "stage2_1_conv2_01 (Conv2D)   (None, 14, 14, 256)       590080    \n",
      "_________________________________________________________________\n",
      "batch_normalization_51 (Batc (None, 14, 14, 256)       1024      \n",
      "_________________________________________________________________\n",
      "stage2_2_conv1_01 (Conv2D)   (None, 14, 14, 256)       590080    \n",
      "_________________________________________________________________\n",
      "batch_normalization_52 (Batc (None, 14, 14, 256)       1024      \n",
      "_________________________________________________________________\n",
      "activation_43 (Activation)   (None, 14, 14, 256)       0         \n",
      "_________________________________________________________________\n",
      "stage2_2_conv2_01 (Conv2D)   (None, 14, 14, 256)       590080    \n",
      "_________________________________________________________________\n",
      "batch_normalization_53 (Batc (None, 14, 14, 256)       1024      \n",
      "_________________________________________________________________\n",
      "stage2_3_conv1_01 (Conv2D)   (None, 14, 14, 256)       590080    \n",
      "_________________________________________________________________\n",
      "batch_normalization_54 (Batc (None, 14, 14, 256)       1024      \n",
      "_________________________________________________________________\n",
      "activation_44 (Activation)   (None, 14, 14, 256)       0         \n",
      "_________________________________________________________________\n",
      "stage2_3_conv2_01 (Conv2D)   (None, 14, 14, 256)       590080    \n",
      "_________________________________________________________________\n",
      "batch_normalization_55 (Batc (None, 14, 14, 256)       1024      \n",
      "_________________________________________________________________\n",
      "stage2_4_conv1_01 (Conv2D)   (None, 14, 14, 256)       590080    \n",
      "_________________________________________________________________\n",
      "batch_normalization_56 (Batc (None, 14, 14, 256)       1024      \n",
      "_________________________________________________________________\n",
      "activation_45 (Activation)   (None, 14, 14, 256)       0         \n",
      "_________________________________________________________________\n",
      "stage2_4_conv2_01 (Conv2D)   (None, 14, 14, 256)       590080    \n",
      "_________________________________________________________________\n",
      "batch_normalization_57 (Batc (None, 14, 14, 256)       1024      \n",
      "_________________________________________________________________\n",
      "stage2_5_conv1_01 (Conv2D)   (None, 14, 14, 256)       590080    \n",
      "_________________________________________________________________\n",
      "batch_normalization_58 (Batc (None, 14, 14, 256)       1024      \n",
      "_________________________________________________________________\n",
      "activation_46 (Activation)   (None, 14, 14, 256)       0         \n",
      "_________________________________________________________________\n",
      "stage2_5_conv2_01 (Conv2D)   (None, 14, 14, 256)       590080    \n",
      "_________________________________________________________________\n",
      "batch_normalization_59 (Batc (None, 14, 14, 256)       1024      \n",
      "_________________________________________________________________\n",
      "stage3_0_conv1_01 (Conv2D)   (None, 7, 7, 512)         1180160   \n",
      "_________________________________________________________________\n",
      "batch_normalization_60 (Batc (None, 7, 7, 512)         2048      \n",
      "_________________________________________________________________\n",
      "activation_47 (Activation)   (None, 7, 7, 512)         0         \n",
      "_________________________________________________________________\n",
      "stage3_0_conv2_01 (Conv2D)   (None, 7, 7, 512)         2359808   \n",
      "_________________________________________________________________\n",
      "batch_normalization_61 (Batc (None, 7, 7, 512)         2048      \n",
      "_________________________________________________________________\n",
      "stage3_1_conv1_01 (Conv2D)   (None, 7, 7, 512)         2359808   \n",
      "_________________________________________________________________\n",
      "batch_normalization_62 (Batc (None, 7, 7, 512)         2048      \n",
      "_________________________________________________________________\n",
      "activation_48 (Activation)   (None, 7, 7, 512)         0         \n",
      "_________________________________________________________________\n",
      "stage3_1_conv2_01 (Conv2D)   (None, 7, 7, 512)         2359808   \n",
      "_________________________________________________________________\n",
      "batch_normalization_63 (Batc (None, 7, 7, 512)         2048      \n",
      "_________________________________________________________________\n",
      "stage3_2_conv1_01 (Conv2D)   (None, 7, 7, 512)         2359808   \n",
      "_________________________________________________________________\n",
      "batch_normalization_64 (Batc (None, 7, 7, 512)         2048      \n",
      "_________________________________________________________________\n",
      "activation_49 (Activation)   (None, 7, 7, 512)         0         \n",
      "_________________________________________________________________\n",
      "stage3_2_conv2_01 (Conv2D)   (None, 7, 7, 512)         2359808   \n",
      "_________________________________________________________________\n",
      "batch_normalization_65 (Batc (None, 7, 7, 512)         2048      \n",
      "_________________________________________________________________\n",
      "avg_pool (AveragePooling2D)  (None, 4, 4, 512)         0         \n",
      "_________________________________________________________________\n",
      "flatten (Flatten)            (None, 8192)              0         \n",
      "_________________________________________________________________\n",
      "fc1000 (Dense)               (None, 10)                81930     \n",
      "=================================================================\n",
      "Total params: 21,215,626\n",
      "Trainable params: 21,200,394\n",
      "Non-trainable params: 15,232\n",
      "_________________________________________________________________\n"
     ]
    }
   ],
   "source": [
    "del resnet_34\n",
    "\n",
    "plain_34 = build_resnet(input_shape=(224,224,3),is_plain=True)\n",
    "plain_34.summary()"
   ]
  },
  {
   "cell_type": "code",
   "execution_count": null,
   "metadata": {},
   "outputs": [
    {
     "name": "stdout",
     "output_type": "stream",
     "text": [
      "Epoch 1/15\n",
      "195/582 [=========>....................] - ETA: 1:05 - loss: 0.8955 - accuracy: 0.5082"
     ]
    },
    {
     "name": "stderr",
     "output_type": "stream",
     "text": [
      "Corrupt JPEG data: 99 extraneous bytes before marker 0xd9\n"
     ]
    },
    {
     "name": "stdout",
     "output_type": "stream",
     "text": [
      "227/582 [==========>...................] - ETA: 1:00 - loss: 0.8789 - accuracy: 0.5135"
     ]
    },
    {
     "name": "stderr",
     "output_type": "stream",
     "text": [
      "Warning: unknown JFIF revision number 0.00\n"
     ]
    },
    {
     "name": "stdout",
     "output_type": "stream",
     "text": [
      "237/582 [===========>..................] - ETA: 58s - loss: 0.8774 - accuracy: 0.5123"
     ]
    },
    {
     "name": "stderr",
     "output_type": "stream",
     "text": [
      "Corrupt JPEG data: 396 extraneous bytes before marker 0xd9\n"
     ]
    },
    {
     "name": "stdout",
     "output_type": "stream",
     "text": [
      "309/582 [==============>...............] - ETA: 46s - loss: 0.8589 - accuracy: 0.5125"
     ]
    },
    {
     "name": "stderr",
     "output_type": "stream",
     "text": [
      "Corrupt JPEG data: 65 extraneous bytes before marker 0xd9\n"
     ]
    },
    {
     "name": "stdout",
     "output_type": "stream",
     "text": [
      "517/582 [=========================>....] - ETA: 10s - loss: 0.8305 - accuracy: 0.5196"
     ]
    },
    {
     "name": "stderr",
     "output_type": "stream",
     "text": [
      "Corrupt JPEG data: 2226 extraneous bytes before marker 0xd9\n"
     ]
    },
    {
     "name": "stdout",
     "output_type": "stream",
     "text": [
      "530/582 [==========================>...] - ETA: 8s - loss: 0.8285 - accuracy: 0.5203"
     ]
    },
    {
     "name": "stderr",
     "output_type": "stream",
     "text": [
      "Corrupt JPEG data: 128 extraneous bytes before marker 0xd9\n"
     ]
    },
    {
     "name": "stdout",
     "output_type": "stream",
     "text": [
      "541/582 [==========================>...] - ETA: 6s - loss: 0.8274 - accuracy: 0.5203"
     ]
    },
    {
     "name": "stderr",
     "output_type": "stream",
     "text": [
      "Corrupt JPEG data: 239 extraneous bytes before marker 0xd9\n"
     ]
    },
    {
     "name": "stdout",
     "output_type": "stream",
     "text": [
      "568/582 [============================>.] - ETA: 2s - loss: 0.8245 - accuracy: 0.5206"
     ]
    },
    {
     "name": "stderr",
     "output_type": "stream",
     "text": [
      "Corrupt JPEG data: 1153 extraneous bytes before marker 0xd9\n"
     ]
    },
    {
     "name": "stdout",
     "output_type": "stream",
     "text": [
      "574/582 [============================>.] - ETA: 1s - loss: 0.8239 - accuracy: 0.5205"
     ]
    },
    {
     "name": "stderr",
     "output_type": "stream",
     "text": [
      "Corrupt JPEG data: 228 extraneous bytes before marker 0xd9\n"
     ]
    },
    {
     "name": "stdout",
     "output_type": "stream",
     "text": [
      "582/582 [==============================] - ETA: 0s - loss: 0.8229 - accuracy: 0.5201"
     ]
    },
    {
     "name": "stderr",
     "output_type": "stream",
     "text": [
      "Corrupt JPEG data: 162 extraneous bytes before marker 0xd9\n",
      "Corrupt JPEG data: 252 extraneous bytes before marker 0xd9\n",
      "Corrupt JPEG data: 214 extraneous bytes before marker 0xd9\n",
      "Corrupt JPEG data: 1403 extraneous bytes before marker 0xd9\n"
     ]
    },
    {
     "name": "stdout",
     "output_type": "stream",
     "text": [
      "582/582 [==============================] - 110s 182ms/step - loss: 0.8229 - accuracy: 0.5201 - val_loss: 0.7715 - val_accuracy: 0.5318\n",
      "Epoch 2/15\n",
      "195/582 [=========>....................] - ETA: 1:05 - loss: 0.7681 - accuracy: 0.5280"
     ]
    },
    {
     "name": "stderr",
     "output_type": "stream",
     "text": [
      "Corrupt JPEG data: 99 extraneous bytes before marker 0xd9\n"
     ]
    },
    {
     "name": "stdout",
     "output_type": "stream",
     "text": [
      "227/582 [==========>...................] - ETA: 59s - loss: 0.7659 - accuracy: 0.5264 "
     ]
    },
    {
     "name": "stderr",
     "output_type": "stream",
     "text": [
      "Warning: unknown JFIF revision number 0.00\n"
     ]
    },
    {
     "name": "stdout",
     "output_type": "stream",
     "text": [
      "237/582 [===========>..................] - ETA: 58s - loss: 0.7674 - accuracy: 0.5264"
     ]
    },
    {
     "name": "stderr",
     "output_type": "stream",
     "text": [
      "Corrupt JPEG data: 396 extraneous bytes before marker 0xd9\n"
     ]
    },
    {
     "name": "stdout",
     "output_type": "stream",
     "text": [
      "309/582 [==============>...............] - ETA: 46s - loss: 0.7666 - accuracy: 0.5263"
     ]
    },
    {
     "name": "stderr",
     "output_type": "stream",
     "text": [
      "Corrupt JPEG data: 65 extraneous bytes before marker 0xd9\n"
     ]
    },
    {
     "name": "stdout",
     "output_type": "stream",
     "text": [
      "517/582 [=========================>....] - ETA: 10s - loss: 0.7689 - accuracy: 0.5221"
     ]
    },
    {
     "name": "stderr",
     "output_type": "stream",
     "text": [
      "Corrupt JPEG data: 2226 extraneous bytes before marker 0xd9\n"
     ]
    },
    {
     "name": "stdout",
     "output_type": "stream",
     "text": [
      "530/582 [==========================>...] - ETA: 8s - loss: 0.7690 - accuracy: 0.5219"
     ]
    },
    {
     "name": "stderr",
     "output_type": "stream",
     "text": [
      "Corrupt JPEG data: 128 extraneous bytes before marker 0xd9\n"
     ]
    },
    {
     "name": "stdout",
     "output_type": "stream",
     "text": [
      "541/582 [==========================>...] - ETA: 6s - loss: 0.7682 - accuracy: 0.5228"
     ]
    },
    {
     "name": "stderr",
     "output_type": "stream",
     "text": [
      "Corrupt JPEG data: 239 extraneous bytes before marker 0xd9\n"
     ]
    },
    {
     "name": "stdout",
     "output_type": "stream",
     "text": [
      "568/582 [============================>.] - ETA: 2s - loss: 0.7663 - accuracy: 0.5248"
     ]
    },
    {
     "name": "stderr",
     "output_type": "stream",
     "text": [
      "Corrupt JPEG data: 1153 extraneous bytes before marker 0xd9\n"
     ]
    },
    {
     "name": "stdout",
     "output_type": "stream",
     "text": [
      "574/582 [============================>.] - ETA: 1s - loss: 0.7661 - accuracy: 0.5248"
     ]
    },
    {
     "name": "stderr",
     "output_type": "stream",
     "text": [
      "Corrupt JPEG data: 228 extraneous bytes before marker 0xd9\n"
     ]
    },
    {
     "name": "stdout",
     "output_type": "stream",
     "text": [
      "582/582 [==============================] - ETA: 0s - loss: 0.7669 - accuracy: 0.5241"
     ]
    },
    {
     "name": "stderr",
     "output_type": "stream",
     "text": [
      "Corrupt JPEG data: 162 extraneous bytes before marker 0xd9\n",
      "Corrupt JPEG data: 252 extraneous bytes before marker 0xd9\n",
      "Corrupt JPEG data: 214 extraneous bytes before marker 0xd9\n",
      "Corrupt JPEG data: 1403 extraneous bytes before marker 0xd9\n"
     ]
    },
    {
     "name": "stdout",
     "output_type": "stream",
     "text": [
      "582/582 [==============================] - 105s 181ms/step - loss: 0.7669 - accuracy: 0.5241 - val_loss: 0.9813 - val_accuracy: 0.5232\n",
      "Epoch 3/15\n",
      "195/582 [=========>....................] - ETA: 1:05 - loss: 0.7577 - accuracy: 0.5207"
     ]
    },
    {
     "name": "stderr",
     "output_type": "stream",
     "text": [
      "Corrupt JPEG data: 99 extraneous bytes before marker 0xd9\n"
     ]
    },
    {
     "name": "stdout",
     "output_type": "stream",
     "text": [
      "227/582 [==========>...................] - ETA: 1:00 - loss: 0.7574 - accuracy: 0.5212"
     ]
    },
    {
     "name": "stderr",
     "output_type": "stream",
     "text": [
      "Warning: unknown JFIF revision number 0.00\n"
     ]
    },
    {
     "name": "stdout",
     "output_type": "stream",
     "text": [
      "237/582 [===========>..................] - ETA: 58s - loss: 0.7576 - accuracy: 0.5199"
     ]
    },
    {
     "name": "stderr",
     "output_type": "stream",
     "text": [
      "Corrupt JPEG data: 396 extraneous bytes before marker 0xd9\n"
     ]
    },
    {
     "name": "stdout",
     "output_type": "stream",
     "text": [
      "309/582 [==============>...............] - ETA: 46s - loss: 0.7533 - accuracy: 0.5238"
     ]
    },
    {
     "name": "stderr",
     "output_type": "stream",
     "text": [
      "Corrupt JPEG data: 65 extraneous bytes before marker 0xd9\n"
     ]
    },
    {
     "name": "stdout",
     "output_type": "stream",
     "text": [
      "517/582 [=========================>....] - ETA: 10s - loss: 0.7524 - accuracy: 0.5235"
     ]
    },
    {
     "name": "stderr",
     "output_type": "stream",
     "text": [
      "Corrupt JPEG data: 2226 extraneous bytes before marker 0xd9\n"
     ]
    },
    {
     "name": "stdout",
     "output_type": "stream",
     "text": [
      "530/582 [==========================>...] - ETA: 8s - loss: 0.7535 - accuracy: 0.5227"
     ]
    },
    {
     "name": "stderr",
     "output_type": "stream",
     "text": [
      "Corrupt JPEG data: 128 extraneous bytes before marker 0xd9\n"
     ]
    },
    {
     "name": "stdout",
     "output_type": "stream",
     "text": [
      "541/582 [==========================>...] - ETA: 6s - loss: 0.7536 - accuracy: 0.5233"
     ]
    },
    {
     "name": "stderr",
     "output_type": "stream",
     "text": [
      "Corrupt JPEG data: 239 extraneous bytes before marker 0xd9\n"
     ]
    },
    {
     "name": "stdout",
     "output_type": "stream",
     "text": [
      "568/582 [============================>.] - ETA: 2s - loss: 0.7531 - accuracy: 0.5233"
     ]
    },
    {
     "name": "stderr",
     "output_type": "stream",
     "text": [
      "Corrupt JPEG data: 1153 extraneous bytes before marker 0xd9\n"
     ]
    },
    {
     "name": "stdout",
     "output_type": "stream",
     "text": [
      "574/582 [============================>.] - ETA: 1s - loss: 0.7532 - accuracy: 0.5225"
     ]
    },
    {
     "name": "stderr",
     "output_type": "stream",
     "text": [
      "Corrupt JPEG data: 228 extraneous bytes before marker 0xd9\n"
     ]
    },
    {
     "name": "stdout",
     "output_type": "stream",
     "text": [
      "582/582 [==============================] - ETA: 0s - loss: 0.7531 - accuracy: 0.5226"
     ]
    },
    {
     "name": "stderr",
     "output_type": "stream",
     "text": [
      "Corrupt JPEG data: 162 extraneous bytes before marker 0xd9\n",
      "Corrupt JPEG data: 252 extraneous bytes before marker 0xd9\n",
      "Corrupt JPEG data: 214 extraneous bytes before marker 0xd9\n",
      "Corrupt JPEG data: 1403 extraneous bytes before marker 0xd9\n"
     ]
    },
    {
     "name": "stdout",
     "output_type": "stream",
     "text": [
      "582/582 [==============================] - 105s 181ms/step - loss: 0.7531 - accuracy: 0.5226 - val_loss: 1.0090 - val_accuracy: 0.5191\n",
      "Epoch 4/15\n",
      "195/582 [=========>....................] - ETA: 1:05 - loss: 0.7440 - accuracy: 0.5306"
     ]
    },
    {
     "name": "stderr",
     "output_type": "stream",
     "text": [
      "Corrupt JPEG data: 99 extraneous bytes before marker 0xd9\n"
     ]
    },
    {
     "name": "stdout",
     "output_type": "stream",
     "text": [
      "227/582 [==========>...................] - ETA: 59s - loss: 0.7426 - accuracy: 0.5322 "
     ]
    },
    {
     "name": "stderr",
     "output_type": "stream",
     "text": [
      "Warning: unknown JFIF revision number 0.00\n"
     ]
    },
    {
     "name": "stdout",
     "output_type": "stream",
     "text": [
      "237/582 [===========>..................] - ETA: 58s - loss: 0.7445 - accuracy: 0.5303"
     ]
    },
    {
     "name": "stderr",
     "output_type": "stream",
     "text": [
      "Corrupt JPEG data: 396 extraneous bytes before marker 0xd9\n"
     ]
    },
    {
     "name": "stdout",
     "output_type": "stream",
     "text": [
      "309/582 [==============>...............] - ETA: 46s - loss: 0.7454 - accuracy: 0.5304"
     ]
    },
    {
     "name": "stderr",
     "output_type": "stream",
     "text": [
      "Corrupt JPEG data: 65 extraneous bytes before marker 0xd9\n"
     ]
    },
    {
     "name": "stdout",
     "output_type": "stream",
     "text": [
      "517/582 [=========================>....] - ETA: 10s - loss: 0.7449 - accuracy: 0.5302"
     ]
    },
    {
     "name": "stderr",
     "output_type": "stream",
     "text": [
      "Corrupt JPEG data: 2226 extraneous bytes before marker 0xd9\n"
     ]
    },
    {
     "name": "stdout",
     "output_type": "stream",
     "text": [
      "530/582 [==========================>...] - ETA: 8s - loss: 0.7449 - accuracy: 0.5303"
     ]
    },
    {
     "name": "stderr",
     "output_type": "stream",
     "text": [
      "Corrupt JPEG data: 128 extraneous bytes before marker 0xd9\n"
     ]
    },
    {
     "name": "stdout",
     "output_type": "stream",
     "text": [
      "541/582 [==========================>...] - ETA: 6s - loss: 0.7447 - accuracy: 0.5301"
     ]
    },
    {
     "name": "stderr",
     "output_type": "stream",
     "text": [
      "Corrupt JPEG data: 239 extraneous bytes before marker 0xd9\n"
     ]
    },
    {
     "name": "stdout",
     "output_type": "stream",
     "text": [
      "568/582 [============================>.] - ETA: 2s - loss: 0.7462 - accuracy: 0.5295"
     ]
    },
    {
     "name": "stderr",
     "output_type": "stream",
     "text": [
      "Corrupt JPEG data: 1153 extraneous bytes before marker 0xd9\n"
     ]
    },
    {
     "name": "stdout",
     "output_type": "stream",
     "text": [
      "574/582 [============================>.] - ETA: 1s - loss: 0.7464 - accuracy: 0.5290"
     ]
    },
    {
     "name": "stderr",
     "output_type": "stream",
     "text": [
      "Corrupt JPEG data: 228 extraneous bytes before marker 0xd9\n"
     ]
    },
    {
     "name": "stdout",
     "output_type": "stream",
     "text": [
      "582/582 [==============================] - ETA: 0s - loss: 0.7467 - accuracy: 0.5281"
     ]
    },
    {
     "name": "stderr",
     "output_type": "stream",
     "text": [
      "Corrupt JPEG data: 162 extraneous bytes before marker 0xd9\n",
      "Corrupt JPEG data: 252 extraneous bytes before marker 0xd9\n",
      "Corrupt JPEG data: 214 extraneous bytes before marker 0xd9\n",
      "Corrupt JPEG data: 1403 extraneous bytes before marker 0xd9\n"
     ]
    },
    {
     "name": "stdout",
     "output_type": "stream",
     "text": [
      "582/582 [==============================] - 105s 181ms/step - loss: 0.7467 - accuracy: 0.5281 - val_loss: 0.8284 - val_accuracy: 0.5380\n",
      "Epoch 5/15\n",
      "195/582 [=========>....................] - ETA: 1:05 - loss: 0.7383 - accuracy: 0.5383"
     ]
    },
    {
     "name": "stderr",
     "output_type": "stream",
     "text": [
      "Corrupt JPEG data: 99 extraneous bytes before marker 0xd9\n"
     ]
    },
    {
     "name": "stdout",
     "output_type": "stream",
     "text": [
      "227/582 [==========>...................] - ETA: 59s - loss: 0.7407 - accuracy: 0.5370 "
     ]
    },
    {
     "name": "stderr",
     "output_type": "stream",
     "text": [
      "Warning: unknown JFIF revision number 0.00\n"
     ]
    },
    {
     "name": "stdout",
     "output_type": "stream",
     "text": [
      "237/582 [===========>..................] - ETA: 58s - loss: 0.7428 - accuracy: 0.5365"
     ]
    },
    {
     "name": "stderr",
     "output_type": "stream",
     "text": [
      "Corrupt JPEG data: 396 extraneous bytes before marker 0xd9\n"
     ]
    },
    {
     "name": "stdout",
     "output_type": "stream",
     "text": [
      "309/582 [==============>...............] - ETA: 46s - loss: 0.7415 - accuracy: 0.5348"
     ]
    },
    {
     "name": "stderr",
     "output_type": "stream",
     "text": [
      "Corrupt JPEG data: 65 extraneous bytes before marker 0xd9\n"
     ]
    },
    {
     "name": "stdout",
     "output_type": "stream",
     "text": [
      "517/582 [=========================>....] - ETA: 10s - loss: 0.7433 - accuracy: 0.5294"
     ]
    },
    {
     "name": "stderr",
     "output_type": "stream",
     "text": [
      "Corrupt JPEG data: 2226 extraneous bytes before marker 0xd9\n"
     ]
    },
    {
     "name": "stdout",
     "output_type": "stream",
     "text": [
      "530/582 [==========================>...] - ETA: 8s - loss: 0.7428 - accuracy: 0.5297"
     ]
    },
    {
     "name": "stderr",
     "output_type": "stream",
     "text": [
      "Corrupt JPEG data: 128 extraneous bytes before marker 0xd9\n"
     ]
    },
    {
     "name": "stdout",
     "output_type": "stream",
     "text": [
      "541/582 [==========================>...] - ETA: 6s - loss: 0.7424 - accuracy: 0.5303"
     ]
    },
    {
     "name": "stderr",
     "output_type": "stream",
     "text": [
      "Corrupt JPEG data: 239 extraneous bytes before marker 0xd9\n"
     ]
    },
    {
     "name": "stdout",
     "output_type": "stream",
     "text": [
      "559/582 [===========================>..] - ETA: 3s - loss: 0.7423 - accuracy: 0.5300"
     ]
    }
   ],
   "source": [
    "plain_34.compile(\n",
    "    loss='sparse_categorical_crossentropy',\n",
    "    optimizer=tf.keras.optimizers.SGD(lr=0.01, clipnorm=1.),\n",
    "    metrics=['accuracy'],\n",
    ")\n",
    "\n",
    "history_plain34 = plain_34.fit(\n",
    "    ds_train,\n",
    "    epochs=EPOCH,\n",
    "    validation_data=ds_test,\n",
    "    verbose=1,\n",
    "    use_multiprocessing=True,\n",
    ")"
   ]
  },
  {
   "cell_type": "code",
   "execution_count": null,
   "metadata": {},
   "outputs": [],
   "source": [
    "del plain_34\n",
    "\n",
    "resnet_50 = build_resnet(input_shape=(224,224,3),is_50=True)\n",
    "resnet_50.summary()"
   ]
  },
  {
   "cell_type": "code",
   "execution_count": null,
   "metadata": {
    "id": "5SfBuFE4dtHw"
   },
   "outputs": [],
   "source": [
    "resnet_50.compile(\n",
    "    loss='sparse_categorical_crossentropy',\n",
    "    optimizer=tf.keras.optimizers.SGD(lr=0.01, clipnorm=1.),\n",
    "    metrics=['accuracy'],\n",
    ")\n",
    "\n",
    "history_res50 = resnet_50.fit(\n",
    "    ds_train,\n",
    "    epochs=EPOCH,\n",
    "    validation_data=ds_test,\n",
    "    verbose=1,\n",
    "    use_multiprocessing=True,\n",
    ")"
   ]
  },
  {
   "cell_type": "code",
   "execution_count": null,
   "metadata": {},
   "outputs": [],
   "source": [
    "del resnet_50\n",
    "\n",
    "plain_50 = build_resnet(input_shape=(224,224,3),is_50=True, is_plain=True)\n",
    "plain_50.summary()"
   ]
  },
  {
   "cell_type": "code",
   "execution_count": null,
   "metadata": {},
   "outputs": [],
   "source": [
    "plain_50.compile(\n",
    "    loss='sparse_categorical_crossentropy',\n",
    "    optimizer=tf.keras.optimizers.SGD(lr=0.01, clipnorm=1.),\n",
    "    metrics=['accuracy'],\n",
    ")\n",
    "\n",
    "history_plain50 = plain_50.fit(\n",
    "    ds_train,\n",
    "    epochs=EPOCH,\n",
    "    validation_data=ds_test,\n",
    "    verbose=1,\n",
    "    use_multiprocessing=True,\n",
    ")"
   ]
  },
  {
   "cell_type": "code",
   "execution_count": null,
   "metadata": {},
   "outputs": [],
   "source": [
    "import matplotlib.pyplot as plt\n",
    "\n",
    "fig, axes = plt.subplots(2, 2, figsize=(15, 15))\n",
    "\n",
    "# loss\n",
    "axes[0][0].plot(history_plain34.history['loss'], 'r', label='plain34')\n",
    "axes[0][0].plot(history_res34.history['loss'], 'b', label='res34')\n",
    "axes[0][0].set_title('Model Training Loss', fontsize=14)\n",
    "axes[0][0].set_ylabel('Loss', fontsize=12)\n",
    "axes[0][0].set_xlabel('Epoch', fontsize=12)\n",
    "axes[0][0].legend(loc='upper left', fontsize=10)\n",
    "axes[0][0].grid(True, linestyle='--', alpha=0.7)\n",
    "\n",
    "# acc\n",
    "axes[0][1].plot(history_plain34.history['accuracy'], 'r', label='plain34')\n",
    "axes[0][1].plot(history_res34.history['accuracy'], 'b', label='res34')\n",
    "axes[0][1].set_title('Model Training Accuracy', fontsize=14)\n",
    "axes[0][1].set_ylabel('Accuracy', fontsize=12)\n",
    "axes[0][1].set_xlabel('Epoch', fontsize=12)\n",
    "axes[0][1].legend(loc='upper left', fontsize=10)\n",
    "axes[0][1].grid(True, linestyle='--', alpha=0.7)\n",
    "\n",
    "# val_loss\n",
    "axes[1][0].plot(history_plain34.history['val_loss'], 'r', label='plain34')\n",
    "axes[1][0].plot(history_res34.history['val_loss'], 'b', label='res34')\n",
    "axes[1][0].set_title('Model Validation Loss', fontsize=14)\n",
    "axes[1][0].set_ylabel('Loss', fontsize=12)\n",
    "axes[1][0].set_xlabel('Epoch', fontsize=12)\n",
    "axes[1][0].legend(loc='upper left', fontsize=10)\n",
    "axes[1][0].grid(True, linestyle='--', alpha=0.7)\n",
    "\n",
    "# var_acc\n",
    "axes[1][1].plot(history_plain34.history['val_accuracy'], 'r', label='plain34')\n",
    "axes[1][1].plot(history_res34.history['val_accuracy'], 'b', label='res34')\n",
    "axes[1][1].set_title('Model Validation Accuracy', fontsize=14)\n",
    "axes[1][1].set_ylabel('Accuracy', fontsize=12)\n",
    "axes[1][1].set_xlabel('Epoch', fontsize=12)\n",
    "axes[1][1].legend(loc='upper left', fontsize=10)\n",
    "axes[1][1].grid(True, linestyle='--', alpha=0.7)\n",
    "\n",
    "plt.tight_layout()\n",
    "plt.show()"
   ]
  },
  {
   "cell_type": "code",
   "execution_count": null,
   "metadata": {},
   "outputs": [],
   "source": [
    "fig, axes = plt.subplots(2, 2, figsize=(15, 15))\n",
    "\n",
    "# loss\n",
    "axes[0][0].plot(history_plain50.history['loss'], 'r', label='plain50')\n",
    "axes[0][0].plot(history_res50.history['loss'], 'b', label='res50')\n",
    "axes[0][0].set_title('Model Training Loss', fontsize=14)\n",
    "axes[0][0].set_ylabel('Loss', fontsize=12)\n",
    "axes[0][0].set_xlabel('Epoch', fontsize=12)\n",
    "axes[0][0].legend(loc='upper left', fontsize=10)\n",
    "axes[0][0].grid(True, linestyle='--', alpha=0.7)\n",
    "\n",
    "# acc\n",
    "axes[0][1].plot(history_plain50.history['accuracy'], 'r', label='plain50')\n",
    "axes[0][1].plot(history_res50.history['accuracy'], 'b', label='res50')\n",
    "axes[0][1].set_title('Model Training Accuracy', fontsize=14)\n",
    "axes[0][1].set_ylabel('Accuracy', fontsize=12)\n",
    "axes[0][1].set_xlabel('Epoch', fontsize=12)\n",
    "axes[0][1].legend(loc='upper left', fontsize=10)\n",
    "axes[0][1].grid(True, linestyle='--', alpha=0.7)\n",
    "\n",
    "# val_loss\n",
    "axes[1][0].plot(history_plain50.history['val_loss'], 'r', label='plain50')\n",
    "axes[1][0].plot(history_res50.history['val_loss'], 'b', label='res50')\n",
    "axes[1][0].set_title('Model Validation Loss', fontsize=14)\n",
    "axes[1][0].set_ylabel('Loss', fontsize=12)\n",
    "axes[1][0].set_xlabel('Epoch', fontsize=12)\n",
    "axes[1][0].legend(loc='upper left', fontsize=10)\n",
    "axes[1][0].grid(True, linestyle='--', alpha=0.7)\n",
    "\n",
    "# var_acc\n",
    "axes[1][1].plot(history_plain50.history['val_accuracy'], 'r', label='plain50')\n",
    "axes[1][1].plot(history_res50.history['val_accuracy'], 'b', label='res50')\n",
    "axes[1][1].set_title('Model Validation Accuracy', fontsize=14)\n",
    "axes[1][1].set_ylabel('Accuracy', fontsize=12)\n",
    "axes[1][1].set_xlabel('Epoch', fontsize=12)\n",
    "axes[1][1].legend(loc='upper left', fontsize=10)\n",
    "axes[1][1].grid(True, linestyle='--', alpha=0.7)\n",
    "\n",
    "plt.tight_layout()\n",
    "plt.show()"
   ]
  },
  {
   "cell_type": "markdown",
   "metadata": {},
   "source": [
    "### cifar-10\n",
    "![34cifar10](https://github.com/user-attachments/assets/579d0686-4a8f-419d-8033-42d26ae4878d)\n",
    "![50cifar10](https://github.com/user-attachments/assets/0e767743-47df-42b4-b0d7-e1e6f1a561a4)"
   ]
  },
  {
   "cell_type": "markdown",
   "metadata": {},
   "source": [
    "### 회고\n",
    "- cifar-10의 데이터를 사용할 때보다 cats_vs_dogs를 사용할 때 이미지의 크기에 비례한 훈련속도 증가가 있었습니다.\n",
    "- 처음 실수로 resnet_50에서 약 1.4억개의 파라미터를 가진 모델을 만들어서 훈련이 진행되었는데 마찬가지로 훈련시간이 비례적으로 증가했습니다.\n",
    "    - cifar-10에서 약 2100만개의 파라미터 : 약 20초\n",
    "    - cifar-10에서 약 1.4억개의 파라미터 : 약 120초\n",
    "- cifar-10에서 validation loss와 validation accuracy가 많이 요동치는 모습을 보여줬지만 에폭수가 적어서 그렇다고 생각했습니다.\n",
    "- cifar-10에서 학습이 진행됨에 따라 res_34가 plain_34보다 좋은 성능을 보여주었습니다.\n",
    "- cifar-10에서 res_50과 plain_50은 결과가 비슷했습니다. 더 많은 에폭을 두고 결과를 관찰해야 할 것 같습니다.\n",
    "- 모델을 구성할 때 논문상의 conv3_1, conv4_1, conv5_1에서 다운샘플링을 진행하는데 이를 위해서 1x1의 커널을 갖는 conv층을 하나 두게 되었습니다. 이걸 conv층을 두지않고 다르게 처리할 수 있는지를 공부해야 합니다.\n",
    "    - 파라미터 수가 증가하기 때문에 파라미터가 증가하지 않고 다운샘플링하는 법을 찾아봐야 할 것입니다.\n",
    "    - conv레이어의 필터가 1x1이라 하더라도 3채널간의 convolution은 일어나기 때문에 좀더 데이터가 가공되지 않는 방향으로의 방법이 궁금합니다.\n",
    "- cats_vs_dogs결과는 학습시간이 너무 오래 걸려서 완료 되는데로 추가하겠습니다."
   ]
  },
  {
   "cell_type": "code",
   "execution_count": null,
   "metadata": {},
   "outputs": [],
   "source": []
  }
 ],
 "metadata": {
  "colab": {
   "provenance": []
  },
  "kernelspec": {
   "display_name": "Python 3 (ipykernel)",
   "language": "python",
   "name": "python3"
  },
  "language_info": {
   "codemirror_mode": {
    "name": "ipython",
    "version": 3
   },
   "file_extension": ".py",
   "mimetype": "text/x-python",
   "name": "python",
   "nbconvert_exporter": "python",
   "pygments_lexer": "ipython3",
   "version": "3.9.7"
  }
 },
 "nbformat": 4,
 "nbformat_minor": 1
}
