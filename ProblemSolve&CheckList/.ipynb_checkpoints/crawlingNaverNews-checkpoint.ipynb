{
 "cells": [
  {
   "cell_type": "code",
   "execution_count": 1,
   "id": "52570719",
   "metadata": {},
   "outputs": [],
   "source": [
    "import requests\n",
    "from bs4 import BeautifulSoup\n",
    "import pandas as pd"
   ]
  },
  {
   "cell_type": "markdown",
   "id": "08b7abfb",
   "metadata": {},
   "source": [
    "크롤링할 url설정"
   ]
  },
  {
   "cell_type": "code",
   "execution_count": 2,
   "id": "8ba57b31",
   "metadata": {},
   "outputs": [],
   "source": [
    "url = 'https://news.naver.com/section/105'"
   ]
  },
  {
   "cell_type": "markdown",
   "id": "d7717d11",
   "metadata": {},
   "source": [
    "웹페이지 요청 및 크롤링, csv로 저장"
   ]
  },
  {
   "cell_type": "code",
   "execution_count": 3,
   "id": "652975e8",
   "metadata": {},
   "outputs": [
    {
     "name": "stdout",
     "output_type": "stream",
     "text": [
      "CSV 파일로 저장 완료: news_headlines.csv\n"
     ]
    }
   ],
   "source": [
    "response = requests.get(url)\n",
    "if response.status_code == 200:\n",
    "    html = response.text\n",
    "    soup = BeautifulSoup(html, 'html.parser')\n",
    "    \n",
    "    headlines = soup.select('.hdline_article_tit a')#뉴스헤드라인 추출\n",
    "    \n",
    "    data = []\n",
    "    for i, headline in enumerate(headlines, 1):\n",
    "        title = headline.get_text(strip=True)\n",
    "        link = headline['href']\n",
    "        if not link.startswith(\"http\"):\n",
    "            link = url + link\n",
    "        data.append([i, title, link])\n",
    "    \n",
    "    df = pd.DataFrame(data, columns=[\"번호\", \"제목\", \"URL\"])\n",
    "    df.to_csv('news_headlines.csv', index=False, encoding='utf-8-sig')\n",
    "    print(\"CSV 파일로 저장 완료: news_headlines.csv\")\n",
    "else:\n",
    "    print(f\"Failed to retrieve data: {response.status_code}\")"
   ]
  },
  {
   "cell_type": "code",
   "execution_count": null,
   "id": "40c1e7ba",
   "metadata": {},
   "outputs": [],
   "source": []
  }
 ],
 "metadata": {
  "kernelspec": {
   "display_name": "Python 3 (ipykernel)",
   "language": "python",
   "name": "python3"
  },
  "language_info": {
   "codemirror_mode": {
    "name": "ipython",
    "version": 3
   },
   "file_extension": ".py",
   "mimetype": "text/x-python",
   "name": "python",
   "nbconvert_exporter": "python",
   "pygments_lexer": "ipython3",
   "version": "3.9.7"
  }
 },
 "nbformat": 4,
 "nbformat_minor": 5
}
